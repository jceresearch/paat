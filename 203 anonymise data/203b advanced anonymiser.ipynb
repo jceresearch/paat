{
 "cells": [
  {
   "cell_type": "code",
   "execution_count": 1,
   "metadata": {},
   "outputs": [],
   "source": [
    "import pandas as pd\n",
    "import csv\n",
    "import random\n",
    "from faker import Faker"
   ]
  },
  {
   "cell_type": "code",
   "execution_count": 2,
   "metadata": {},
   "outputs": [
    {
     "output_type": "stream",
     "name": "stdout",
     "text": [
      "Generating sparse IDs\nCreated a list of id and names of len:100\n1000\n"
     ]
    },
    {
     "output_type": "execute_result",
     "data": {
      "text/plain": [
       "      ID               Name  Transact  Amount\n",
       "0  86107     Lauren Sanders         6   46104\n",
       "1  89331      Amanda Hansen         6   54343\n",
       "2  82355  Brooke Morris DDS         4   -9850\n",
       "3  89927    Edward Robinson         6    3981\n",
       "4  85804    Jacob Wilkerson         1   10045"
      ],
      "text/html": "<div>\n<style scoped>\n    .dataframe tbody tr th:only-of-type {\n        vertical-align: middle;\n    }\n\n    .dataframe tbody tr th {\n        vertical-align: top;\n    }\n\n    .dataframe thead th {\n        text-align: right;\n    }\n</style>\n<table border=\"1\" class=\"dataframe\">\n  <thead>\n    <tr style=\"text-align: right;\">\n      <th></th>\n      <th>ID</th>\n      <th>Name</th>\n      <th>Transact</th>\n      <th>Amount</th>\n    </tr>\n  </thead>\n  <tbody>\n    <tr>\n      <th>0</th>\n      <td>86107</td>\n      <td>Lauren Sanders</td>\n      <td>6</td>\n      <td>46104</td>\n    </tr>\n    <tr>\n      <th>1</th>\n      <td>89331</td>\n      <td>Amanda Hansen</td>\n      <td>6</td>\n      <td>54343</td>\n    </tr>\n    <tr>\n      <th>2</th>\n      <td>82355</td>\n      <td>Brooke Morris DDS</td>\n      <td>4</td>\n      <td>-9850</td>\n    </tr>\n    <tr>\n      <th>3</th>\n      <td>89927</td>\n      <td>Edward Robinson</td>\n      <td>6</td>\n      <td>3981</td>\n    </tr>\n    <tr>\n      <th>4</th>\n      <td>85804</td>\n      <td>Jacob Wilkerson</td>\n      <td>1</td>\n      <td>10045</td>\n    </tr>\n  </tbody>\n</table>\n</div>"
     },
     "metadata": {},
     "execution_count": 2
    }
   ],
   "source": [
    "def create_test_input_table(number_of_transactions, number_of_ids, types_of_transactions, id_low, id_max, id_sparse=False):\n",
    "    d = []\n",
    "    fake = Faker() \n",
    "    id_list=[]\n",
    "    if id_max-id_low < number_of_ids:\n",
    "        print(\"Number of IDs needs to be less or equal than the range of id_low:id_max\")\n",
    "        return  \n",
    "    \n",
    "    #This is a sparse approach, if you wish a simpler sequencial generation then use the commented version \n",
    "    \n",
    "    \n",
    "    if id_sparse==True:\n",
    "        print(\"Generating sparse IDs\")\n",
    "        while True:\n",
    "            random_id=random.randint(id_low,id_max)\n",
    "            if not random_id in id_list:\n",
    "                id_list.append([random_id,fake.name()])\n",
    "            if len(id_list) == number_of_ids:\n",
    "                 break   \n",
    "    else:\n",
    "        print(\"Generating sequential IDs\")\n",
    "        i=0\n",
    "        ids=[]\n",
    "        while True:\n",
    "            ids.extend(range(id_low,id_low+number_of_ids))    \n",
    "            id_list.append([ids[i],fake.name()])     \n",
    "            i=i+1\n",
    "            if len(id_list) == number_of_ids:\n",
    "                break             \n",
    "    print (\"Created a list of id and names of len:\" + str(len(id_list)))\n",
    "    \n",
    "  \n",
    "    for i in range(0, number_of_transactions):\n",
    "        j= random.randint(0,number_of_ids-1)\n",
    "        id = id_list[j][0]\n",
    "        name =id_list[j][1]\n",
    "        transact= random.randint(1,types_of_transactions)\n",
    "        amount= random.randint(-10000,100000)\n",
    "        d.append({'ID': id ,'Name': name, 'Transact': transact, 'Amount': amount })\n",
    "    print(len(d))\n",
    "    df1=  pd.DataFrame(d)\n",
    "    df2 = pd.DataFrame(id_list) \n",
    "    df2.columns=['ID','Name']\n",
    "    df2.sort_values(by=['ID'], inplace=True)\n",
    "    df1.to_csv(\"input.csv\", index=False)\n",
    "    df2.to_csv(\"id_list.csv\", index=False)\n",
    "    return df1\n",
    "df= create_test_input_table(1000,100,10,80000,90000,True)\n",
    "df.head()"
   ]
  },
  {
   "cell_type": "code",
   "execution_count": null,
   "metadata": {},
   "outputs": [],
   "source": [
    "\n",
    "def load_translation_table(file_path):\n",
    "    L2S={}\n",
    "    S2L={} \n",
    "    with open(file_path, 'r') as csvfile:\n",
    "        r = csv.reader(csvfile, delimiter=',', quotechar='\"',)\n",
    "        next(r)\n",
    "        for row in r:\n",
    "            if row[0] in L2S.keys(): \n",
    "                print(\"Duplicate id value detected:\" + str(row[0]))\n",
    "            else:\n",
    "                L2S[row[0]]=row[1]\n",
    "            if row[1] in S2L.keys():\n",
    "                print(\"Duplicate syn value detected:\" + str(row[1]))\n",
    "            else:\n",
    "                S2L[row[1]]=row[0]\n",
    "                \n",
    "    return L2S, S2L\n",
    "\n",
    "\n",
    "def save_translation_table(file_path,L2S):\n",
    "    with open(file_path,'w') as f:\n",
    "        w = csv.writer(f, delimiter=',', quotechar='\"',quoting=csv.QUOTE_MINIMAL) \n",
    "        w.writerow(['id','syn'])\n",
    "        w.writerows(L2S.items())\n",
    "\n",
    "\n"
   ]
  },
  {
   "cell_type": "markdown",
   "metadata": {},
   "source": [
    "These functions below are meant to manage the available population of SYNs\n",
    "If you only need to anonymise one file, a straight process to identify unique keys and associate to a series is fine\n",
    "But if you are going to apply to multiple separate tables, you need to manage the extra ids that may appear down the line"
   ]
  },
  {
   "cell_type": "code",
   "execution_count": null,
   "metadata": {},
   "outputs": [],
   "source": [
    "def create_syn_range(start,end):\n",
    "    l = list(range(start,end+1))\n",
    "    l = [str(i) for i in l]\n",
    "    return l\n",
    "\n",
    "def load_available_syns(file_path):\n",
    "    l=[]\n",
    "    with open(file_path , 'r') as f:\n",
    "        f.readline()\n",
    "        for line in f:\n",
    "            line = line.strip() #or some other preprocessing\n",
    "            l.append(line) #storing everything in memory!\n",
    "    return l\n",
    "def save_available_syns(file_path, list_available):\n",
    "    with open(file_path , 'w') as f:\n",
    "        f.write(\"syn\\n\")\n",
    "        for item in list_available:\n",
    "            f.write(\"%s\\n\" % item)\n",
    "\n",
    "def check_available_syns(list_available, S2L, L2S, cleanup_used= False):\n",
    "    error_count=0\n",
    "    for n in S2L.keys():\n",
    "        if n in list_available:          \n",
    "            error_count += 1\n",
    "            loc= list_available.index(n)\n",
    "            print(str(n)+\" was found in the list_available list\" + str(loc))\n",
    "            if cleanup_used==True:\n",
    "                list_available.pop(loc)\n",
    "                print (\"Removed from list in memory\")\n",
    "    print (\"Errors found checking S2L:\" + str(error_count))\n",
    "    error_count=0\n",
    "    for n in L2S.values():\n",
    "        if n in list_available:          \n",
    "            error_count += 1\n",
    "            loc= list_available.index(n)\n",
    "            print(str(n)+\" was found in the list_available list\" + str(loc))\n",
    "            if cleanup_used==True:\n",
    "                list_available.pop(loc)\n",
    "                print (\"Removed from list in memory\")\n",
    "    print (\"Errors found checking L2S:\" + str(error_count))\n",
    "\n",
    "\n",
    "def expand_available_syns(list_available,  S2L, start, end):\n",
    "    new_range= list(range(start,end+1))\n",
    "    for n in new_range:\n",
    "        if  str(n) not in S2L.keys():\n",
    "            list_available.append(str(n))\n",
    "    return list_available\n",
    "\n",
    "def assign_syn_to_live(live_value,list_available,L2S,S2L):\n",
    "    if live_value in L2S.keys():\n",
    "        return L2S[live_value]\n",
    "    else:\n",
    "        if len(list_available)>0:\n",
    "            new_syn=list_available.pop(0)\n",
    "            L2S[live_value]=new_syn\n",
    "            S2L[new_syn]=live_value\n",
    "        else:\n",
    "            print(\"Ran out of available ids\")\n",
    "            new_syn=\"\"\n",
    "        return new_syn\n"
   ]
  },
  {
   "cell_type": "code",
   "execution_count": null,
   "metadata": {},
   "outputs": [],
   "source": [
    "\n",
    "def anonymise(df, column_name, list_available, L2S, S2L ):\n",
    "    for i, r in df.iterrows():\n",
    "        live_value= r[column_name]\n",
    "        syn_value = assign_syn_to_live(live_value,list_available,L2S,S2L)\n",
    "        df.at[i, column_name]= syn_value\n",
    "        \n",
    "def de_anonymise(df,column_name,list_available,S2L):\n",
    "    for i, r in df.iterrows():\n",
    "        syn_value= r[column_name]\n",
    "        live_value= S2L[syn_value]\n",
    "        df.at[i,column_name]= live_value \n",
    "\n",
    "        \n",
    "        \n",
    "        "
   ]
  },
  {
   "cell_type": "code",
   "execution_count": 3,
   "metadata": {},
   "outputs": [],
   "source": [
    "def anonymise_mass(df,column_name, L2S, S2L):\n",
    "    trans = df[column_name].drop_duplicates().to_frame()\n",
    "    trans.sort_values(column_name, inplace=True)\n",
    "    trans.reset_index(drop=True, inplace=True)\n",
    "    #This would be how to do it directly without any persistent translation table\n",
    "    #trans.insert(1, 'New_ID', range(1, len(trans)+1))\n",
    "    #trans_dict= pd.Series(trans.New_ID.values, index= trans.ID).to_dict()\n",
    "    for i, r in trans.iterrows():\n",
    "        live_value= r[column_name]\n",
    "        syn_value = assign_syn_to_live(live_value,list_available,L2S,S2L)\n",
    " \n",
    "    return L2S"
   ]
  },
  {
   "cell_type": "code",
   "execution_count": 5,
   "metadata": {},
   "outputs": [
    {
     "data": {
      "text/plain": [
       "3"
      ]
     },
     "execution_count": 5,
     "metadata": {},
     "output_type": "execute_result"
    }
   ],
   "source": [
    "trans_dict= create_translation(df,\"ID\")\n",
    "trans_dict[800002]"
   ]
  },
  {
   "cell_type": "code",
   "execution_count": 3,
   "metadata": {},
   "outputs": [
    {
     "output_type": "error",
     "ename": "NameError",
     "evalue": "name 'trans_dict' is not defined",
     "traceback": [
      "\u001b[1;31m---------------------------------------------------------------------------\u001b[0m",
      "\u001b[1;31mNameError\u001b[0m                                 Traceback (most recent call last)",
      "\u001b[1;32m<ipython-input-3-1e6dccf83b97>\u001b[0m in \u001b[0;36m<module>\u001b[1;34m\u001b[0m\n\u001b[1;32m----> 1\u001b[1;33m \u001b[0mdf\u001b[0m\u001b[1;33m[\u001b[0m\u001b[1;34m'New ID'\u001b[0m\u001b[1;33m]\u001b[0m \u001b[1;33m=\u001b[0m \u001b[0mdf\u001b[0m\u001b[1;33m[\u001b[0m\u001b[1;34m'ID'\u001b[0m\u001b[1;33m]\u001b[0m\u001b[1;33m.\u001b[0m\u001b[0mmap\u001b[0m\u001b[1;33m(\u001b[0m\u001b[0mtrans_dict\u001b[0m\u001b[1;33m)\u001b[0m\u001b[1;33m\u001b[0m\u001b[1;33m\u001b[0m\u001b[0m\n\u001b[0m\u001b[0;32m      2\u001b[0m \u001b[0mdf\u001b[0m\u001b[1;33m\u001b[0m\u001b[1;33m\u001b[0m\u001b[0m\n",
      "\u001b[1;31mNameError\u001b[0m: name 'trans_dict' is not defined"
     ]
    }
   ],
   "source": [
    "df['New ID'] = df['ID'].map(trans_dict)\n",
    "df"
   ]
  },
  {
   "cell_type": "code",
   "execution_count": null,
   "metadata": {},
   "outputs": [],
   "source": []
  },
  {
   "cell_type": "code",
   "execution_count": null,
   "metadata": {},
   "outputs": [],
   "source": []
  },
  {
   "cell_type": "code",
   "execution_count": null,
   "metadata": {},
   "outputs": [],
   "source": []
  },
  {
   "cell_type": "code",
   "execution_count": null,
   "metadata": {},
   "outputs": [],
   "source": []
  },
  {
   "cell_type": "code",
   "execution_count": null,
   "metadata": {},
   "outputs": [],
   "source": []
  }
 ],
 "metadata": {
  "kernelspec": {
   "display_name": "Python 3",
   "language": "python",
   "name": "python3"
  },
  "language_info": {
   "codemirror_mode": {
    "name": "ipython",
    "version": 3
   },
   "file_extension": ".py",
   "mimetype": "text/x-python",
   "name": "python",
   "nbconvert_exporter": "python",
   "pygments_lexer": "ipython3",
   "version": "3.8.5-final"
  }
 },
 "nbformat": 4,
 "nbformat_minor": 2
}