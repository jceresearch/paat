{
 "cells": [
  {
   "cell_type": "code",
   "execution_count": 1,
   "metadata": {},
   "outputs": [],
   "source": [
    "import pandas as pd\n",
    "import csv\n",
    "import random\n"
   ]
  },
  {
   "cell_type": "code",
   "execution_count": null,
   "metadata": {},
   "outputs": [],
   "source": [
    "def load_translation_table(file_path):\n",
    "    L2S={}\n",
    "    S2L={} \n",
    "    with open(file_path, 'r') as csvfile:\n",
    "        r = csv.reader(csvfile, delimiter=',', quotechar='\"',)\n",
    "        next(r)\n",
    "        for row in r:\n",
    "            if row[0] in L2S.keys(): \n",
    "                print(\"Duplicate id value detected:\" + str(row[0]))\n",
    "            else:\n",
    "                L2S[row[0]]=row[1]\n",
    "            if row[1] in S2L.keys():\n",
    "                print(\"Duplicate syn value detected:\" + str(row[1]))\n",
    "            else:\n",
    "                S2L[row[1]]=row[0]\n",
    "                \n",
    "    return L2S, S2L\n",
    "\n",
    "\n",
    "def save_translation_table(file_path,L2S):\n",
    "    with open(file_path,'w') as f:\n",
    "        w = csv.writer(f, delimiter=',', quotechar='\"',quoting=csv.QUOTE_MINIMAL) \n",
    "        w.writerow(['id','syn'])\n",
    "        w.writerows(L2S.items())\n",
    "\n",
    "\n"
   ]
  },
  {
   "cell_type": "markdown",
   "metadata": {},
   "source": [
    "These functions below are meant to manage the available population of SYNs\n",
    "If you only need to anonymise one file, a straight process to identify unique keys and associate to a series is fine\n",
    "But if you are going to apply to multiple separate tables, you need to manage the extra ids that may appear down the line"
   ]
  },
  {
   "cell_type": "code",
   "execution_count": null,
   "metadata": {},
   "outputs": [],
   "source": [
    "def create_syn_range(start,end):\n",
    "    l = list(range(start,end+1))\n",
    "    l = [str(i) for i in l]\n",
    "    return l\n",
    "\n",
    "def load_available_syns(file_path):\n",
    "    l=[]\n",
    "    with open(file_path , 'r') as f:\n",
    "        f.readline()\n",
    "        for line in f:\n",
    "            line = line.strip() #or some other preprocessing\n",
    "            l.append(line) #storing everything in memory!\n",
    "    return l\n",
    "def save_available_syns(file_path, list_available):\n",
    "    with open(file_path , 'w') as f:\n",
    "        f.write(\"syn\\n\")\n",
    "        for item in list_available:\n",
    "            f.write(\"%s\\n\" % item)\n",
    "\n",
    "def check_available_syns(list_available, S2L, L2S, cleanup_used= False):\n",
    "    error_count=0\n",
    "    for n in S2L.keys():\n",
    "        if n in list_available:          \n",
    "            error_count += 1\n",
    "            loc= list_available.index(n)\n",
    "            print(str(n)+\" was found in the list_available list\" + str(loc))\n",
    "            if cleanup_used==True:\n",
    "                list_available.pop(loc)\n",
    "                print (\"Removed from list in memory\")\n",
    "    if error_count>0:\n",
    "        print (\"Errors found checking S2L:\" + str(error_count))\n",
    "    else:\n",
    "        print(\"No errors found checking S2L\")\n",
    "    error_count=0\n",
    "    for n in L2S.values():\n",
    "        if n in list_available:          \n",
    "            error_count += 1\n",
    "            loc= list_available.index(n)\n",
    "            print(str(n)+\" was found in the list_available list\" + str(loc))\n",
    "            if cleanup_used==True:\n",
    "                list_available.pop(loc)\n",
    "                print (\"Removed from list in memory\")\n",
    "    if error_count>0:\n",
    "        print (\"Errors found checking L2S:\" + str(error_count))\n",
    "    else:\n",
    "        print(\"No errors found checking L2S\")\n",
    "\n",
    "def expand_available_syns(list_available,  S2L, start, end):\n",
    "    new_range= list(range(start,end+1))\n",
    "    for n in new_range:\n",
    "        if  str(n) not in S2L.keys():\n",
    "            list_available.append(str(n))\n",
    "    return list_available\n",
    "\n",
    "def assign_syn_to_live(live_value,list_available,L2S,S2L):\n",
    "    if live_value in L2S.keys():\n",
    "        return L2S[live_value]\n",
    "    else:\n",
    "        if len(list_available)>0:\n",
    "            new_syn=list_available.pop(0)\n",
    "            L2S[live_value]=new_syn\n",
    "            S2L[new_syn]=live_value\n",
    "        else:\n",
    "            print(\"Ran out of available ids\")\n",
    "            new_syn=\"\"\n",
    "        return new_syn\n"
   ]
  },
  {
   "cell_type": "code",
   "execution_count": null,
   "metadata": {},
   "outputs": [],
   "source": [
    "\n",
    "def anonymise(df, column_name, list_available, L2S, S2L ):\n",
    "    for i, r in df.iterrows():\n",
    "        live_value= r[column_name]\n",
    "        syn_value = assign_syn_to_live(live_value,list_available,L2S,S2L)\n",
    "        df.at[i, column_name]= syn_value\n",
    "        \n",
    "def de_anonymise(df,column_name,list_available,S2L):\n",
    "    for i, r in df.iterrows():\n",
    "        syn_value= r[column_name]\n",
    "        live_value= S2L[syn_value]\n",
    "        df.at[i,column_name]= live_value \n",
    "\n",
    "        \n",
    "        \n",
    "        "
   ]
  },
  {
   "cell_type": "code",
   "execution_count": 3,
   "metadata": {},
   "outputs": [],
   "source": [
    "def anonymise_mass(df,column_name, L2S, S2L):\n",
    "    trans = df[column_name].drop_duplicates().to_frame()\n",
    "    trans.sort_values(column_name, inplace=True)\n",
    "    trans.reset_index(drop=True, inplace=True)\n",
    "    #This would be how to do it directly without any persistent translation table\n",
    "    #trans.insert(1, 'New_ID', range(1, len(trans)+1))\n",
    "    #trans_dict= pd.Series(trans.New_ID.values, index= trans.ID).to_dict()\n",
    "    for i, r in trans.iterrows():\n",
    "        live_value= r[column_name]\n",
    "        syn_value = assign_syn_to_live(live_value,list_available,L2S,S2L)\n",
    " \n",
    "    return L2S"
   ]
  },
  {
   "cell_type": "code",
   "execution_count": 5,
   "metadata": {},
   "outputs": [
    {
     "data": {
      "text/plain": [
       "3"
      ]
     },
     "execution_count": 5,
     "metadata": {},
     "output_type": "execute_result"
    }
   ],
   "source": [
    "trans_dict= create_translation(df,\"ID\")\n",
    "trans_dict[800002]"
   ]
  },
  {
   "cell_type": "code",
   "execution_count": null,
   "metadata": {},
   "outputs": [],
   "source": []
  },
  {
   "cell_type": "code",
   "execution_count": null,
   "metadata": {},
   "outputs": [],
   "source": []
  },
  {
   "cell_type": "code",
   "execution_count": null,
   "metadata": {},
   "outputs": [],
   "source": []
  },
  {
   "cell_type": "code",
   "execution_count": null,
   "metadata": {},
   "outputs": [],
   "source": []
  },
  {
   "cell_type": "code",
   "execution_count": null,
   "metadata": {},
   "outputs": [],
   "source": []
  }
 ],
 "metadata": {
  "kernelspec": {
   "display_name": "Python 3",
   "language": "python",
   "name": "python3"
  },
  "language_info": {
   "codemirror_mode": {
    "name": "ipython",
    "version": 3
   },
   "file_extension": ".py",
   "mimetype": "text/x-python",
   "name": "python",
   "nbconvert_exporter": "python",
   "pygments_lexer": "ipython3",
   "version": "3.6.6+"
  }
 },
 "nbformat": 4,
 "nbformat_minor": 2
}
