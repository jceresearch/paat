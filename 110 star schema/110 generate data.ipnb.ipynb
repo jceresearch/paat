{
 "cells": [
  {
   "cell_type": "code",
   "execution_count": 1,
   "metadata": {},
   "outputs": [],
   "source": [
    "import pandas as pd\n",
    "import numpy as np\n",
    "import faker #conda install -c conda-forge faker\n",
    "import random\n",
    "fake= faker.Faker()"
   ]
  },
  {
   "cell_type": "code",
   "execution_count": 13,
   "metadata": {},
   "outputs": [
    {
     "name": "stdout",
     "output_type": "stream",
     "text": [
      "[[1, 'Micronesia', ('NIS', 'Israeli new shekel'), 1.1625], [2, 'Svalbard & Jan Mayen Islands', ('DOP', 'Dominican peso'), 1.1219], [3, 'Denmark', ('KHR', 'Cambodian riel'), 0.1207], [4, 'Christmas Island', ('RON', 'Romanian leu'), 0.5674], [5, 'Spain', ('BYR', 'Belarusian ruble'), 0.2665], [6, 'Peru', ('CAD', 'Canadian dollar'), 0.7907], [7, 'Bahamas', ('ANG', 'Netherlands Antillean guilder'), 1.6067], [8, 'Niger', ('AOA', 'Angolan kwanza'), 1.4368], [9, 'Turkmenistan', ('BYR', 'Belarusian ruble'), 1.708], [10, 'Malaysia', ('PKR', 'Pakistani rupee'), 0.648]]\n",
      "[[1, 'Brian Martin', datetime.date(1993, 10, 13)], [2, 'Patricia Myers', datetime.date(2003, 3, 29)], [3, 'Christopher Koch', datetime.date(1952, 3, 1)], [4, 'Scott Lewis', datetime.date(1984, 4, 5)], [5, 'Sean Wood', datetime.date(1934, 5, 17)], [6, 'Courtney Smith', datetime.date(1953, 4, 30)], [7, 'James Dalton', datetime.date(1933, 9, 8)], [8, 'Stephanie Choi', datetime.date(1940, 1, 30)], [9, 'Sarah Jenkins', datetime.date(2007, 5, 4)], [10, 'Holly Lawrence', datetime.date(1957, 9, 29)]]\n",
      "[[1, 'Turner Ltd'], [2, 'Howard LLC'], [3, 'York-Allen'], [4, 'Wilson LLC'], [5, 'Watson LLC'], [6, 'Wheeler Group'], [7, 'Salinas Group'], [8, 'Carter Ltd'], [9, 'Carson, Harrison and Rowland'], [10, 'Bass PLC']]\n"
     ]
    }
   ],
   "source": [
    "m=10\n",
    "t=1000\n",
    "p=10\n",
    "c=10 #countries\n",
    "members= [[i+1,fake.name(),fake.date_of_birth(tzinfo=None, minimum_age=0, maximum_age=103)] for i in range(m)]\n",
    "countries=[[i+1,fake.country(),fake.currency(), (random.randint(0,20000)+1)/10000] for i in range(c)]\n",
    "providers= [[i+1,fake.company(),] for i in range(p)]\n",
    "print(countries)\n",
    "print(members)\n",
    "print(providers)\n"
   ]
  },
  {
   "cell_type": "code",
   "execution_count": 4,
   "metadata": {},
   "outputs": [
    {
     "data": {
      "text/plain": [
       "[[1, 3, 'Chavez and Sons', 'ER', 1, 17],\n",
       " [2, 8, 'Burgess, Costa and Cline', 'TM', 1, 94],\n",
       " [3, 5, 'Hahn, Sanchez and Cox', 'DM', 1, 89],\n",
       " [4, 8, 'Burgess, Costa and Cline', 'TM', 1, 94],\n",
       " [4, 2, 'Miller and Sons', 'MR', 1, 52],\n",
       " [4, 2, 'Miller and Sons', 'MR', 2, 12],\n",
       " [4, 8, 'Burgess, Costa and Cline', 'TM', 1, 15],\n",
       " [4, 8, 'Burgess, Costa and Cline', 'TM', 2, 27],\n",
       " [4, 8, 'Burgess, Costa and Cline', 'TM', 3, 5],\n",
       " [4, 8, 'Burgess, Costa and Cline', 'TM', 4, 24]]"
      ]
     },
     "execution_count": 4,
     "metadata": {},
     "output_type": "execute_result"
    }
   ],
   "source": [
    "t_count=0\n",
    "rows=[]\n",
    "while t_count<= t:\n",
    "    t_count+=1\n",
    "    member_id=random.choice(members[0])\n",
    "    claims= random.choices([1,2,3,4],(.8,.1,.03,.07),k=1)[0]\n",
    "    for cl in range(claims):\n",
    "        invoices=random.choices([1,2,3,4], (.95,.05,.07,.03),k=1)[0]\n",
    "        for inv in range(invoices):\n",
    "            provider=random.choice(providers)\n",
    "            provider_id=provider[0]\n",
    "            provider_name=provider[1]\n",
    "            treatment_country=provider[2]\n",
    "            invoice_lines=random.choices([1,2,3,4,5,6], (.60,0.2,0.1,.05,.04,.01),k=1)[0]\n",
    "            invoice_line=0\n",
    "            for proc in range(invoice_lines):\n",
    "                invoice_line+=1\n",
    "                proc_code=random.choice(range(100))\n",
    "                row=[t_count,provider_id,provider_name,treatment_country, invoice_line,proc_code]\n",
    "                rows.append(row)\n",
    "rows[0:10]"
   ]
  },
  {
   "cell_type": "code",
   "execution_count": null,
   "metadata": {},
   "outputs": [],
   "source": []
  },
  {
   "cell_type": "code",
   "execution_count": null,
   "metadata": {},
   "outputs": [],
   "source": []
  }
 ],
 "metadata": {
  "kernelspec": {
   "display_name": "Python 3",
   "language": "python",
   "name": "python3"
  },
  "language_info": {
   "codemirror_mode": {
    "name": "ipython",
    "version": 3
   },
   "file_extension": ".py",
   "mimetype": "text/x-python",
   "name": "python",
   "nbconvert_exporter": "python",
   "pygments_lexer": "ipython3",
   "version": "3.6.6+"
  }
 },
 "nbformat": 4,
 "nbformat_minor": 2
}
