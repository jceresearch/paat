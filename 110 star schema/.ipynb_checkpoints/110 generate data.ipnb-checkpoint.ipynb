{
 "cells": [
  {
   "cell_type": "code",
   "execution_count": 2,
   "metadata": {},
   "outputs": [],
   "source": [
    "import pandas as pd\n",
    "import numpy as np\n",
    "import faker #conda install -c conda-forge faker\n",
    "import random\n",
    "fake= faker.Faker()"
   ]
  },
  {
   "cell_type": "code",
   "execution_count": 3,
   "metadata": {},
   "outputs": [
    {
     "name": "stdout",
     "output_type": "stream",
     "text": [
      "[[1, 'Comoros', ('STD', 'São Tomé and Príncipe dobra'), 1.6346], [2, 'Tanzania', ('AUD', 'Australian dollar'), 0.3575], [3, 'Fiji', ('TRY', 'Turkish lira'), 0.0781], [4, 'Argentina', ('TZS', 'Tanzanian shilling'), 0.1783], [5, 'Bahamas', ('GBP', 'Pound sterling'), 1.7228], [6, 'Bosnia and Herzegovina', ('SZL', 'Swazi lilangeni'), 1.3857], [7, 'Guinea-Bissau', ('UAH', 'Ukrainian hryvnia'), 0.117], [8, 'Panama', ('NIS', 'Israeli new shekel'), 0.979], [9, 'Gibraltar', ('TWD', 'New Taiwan dollar'), 1.8984], [10, 'Gibraltar', ('AUD', 'Australian dollar'), 1.9697]]\n",
      "[[1, 'Timothy Vang', datetime.date(2018, 5, 15)], [2, 'Sara Andrews', datetime.date(1971, 7, 7)], [3, 'Tammy Frey', datetime.date(1958, 4, 1)], [4, 'Phillip Price', datetime.date(1960, 2, 17)], [5, 'Victor Best', datetime.date(1923, 9, 14)], [6, 'Jermaine Martin', datetime.date(2018, 8, 8)], [7, 'Melissa Herrera MD', datetime.date(1985, 3, 28)], [8, 'Joshua Chang', datetime.date(2001, 2, 27)], [9, 'Amanda Jones', datetime.date(2018, 4, 4)], [10, 'Amy Wheeler', datetime.date(1968, 2, 1)]]\n",
      "[[1, 'Baker Group'], [2, 'Nelson Group'], [3, 'Castillo-Stone'], [4, 'Huff LLC'], [5, 'Sawyer-Garza'], [6, 'Nguyen, Johnson and Jensen'], [7, 'Bowen, Newman and Nolan'], [8, 'Miller, Cervantes and Zavala'], [9, 'Carr, Wheeler and Benton'], [10, 'Aguilar-Swanson']]\n"
     ]
    }
   ],
   "source": [
    "m=10\n",
    "t=1000\n",
    "p=10\n",
    "c=10 #countries\n",
    "members= [[i+1,fake.name(),fake.date_of_birth(tzinfo=None, minimum_age=0, maximum_age=103)] for i in range(m)]\n",
    "countries=[[i+1,fake.country(),fake.currency(), (random.randint(0,20000)+1)/10000] for i in range(c)]\n",
    "providers= [[i+1,fake.company(),] for i in range(p)]\n",
    "print(countries)\n",
    "print(members)\n",
    "print(providers)\n"
   ]
  },
  {
   "cell_type": "code",
   "execution_count": 4,
   "metadata": {},
   "outputs": [
    {
     "ename": "IndexError",
     "evalue": "list index out of range",
     "output_type": "error",
     "traceback": [
      "\u001b[0;31m---------------------------------------------------------------------------\u001b[0m",
      "\u001b[0;31mIndexError\u001b[0m                                Traceback (most recent call last)",
      "\u001b[0;32m<ipython-input-4-201f56e1a0cc>\u001b[0m in \u001b[0;36m<module>\u001b[0;34m\u001b[0m\n\u001b[1;32m     11\u001b[0m             \u001b[0mprovider_id\u001b[0m\u001b[0;34m=\u001b[0m\u001b[0mprovider\u001b[0m\u001b[0;34m[\u001b[0m\u001b[0;36m0\u001b[0m\u001b[0;34m]\u001b[0m\u001b[0;34m\u001b[0m\u001b[0m\n\u001b[1;32m     12\u001b[0m             \u001b[0mprovider_name\u001b[0m\u001b[0;34m=\u001b[0m\u001b[0mprovider\u001b[0m\u001b[0;34m[\u001b[0m\u001b[0;36m1\u001b[0m\u001b[0;34m]\u001b[0m\u001b[0;34m\u001b[0m\u001b[0m\n\u001b[0;32m---> 13\u001b[0;31m             \u001b[0mtreatment_country\u001b[0m\u001b[0;34m=\u001b[0m\u001b[0mprovider\u001b[0m\u001b[0;34m[\u001b[0m\u001b[0;36m2\u001b[0m\u001b[0;34m]\u001b[0m\u001b[0;34m\u001b[0m\u001b[0m\n\u001b[0m\u001b[1;32m     14\u001b[0m             \u001b[0minvoice_lines\u001b[0m\u001b[0;34m=\u001b[0m\u001b[0mrandom\u001b[0m\u001b[0;34m.\u001b[0m\u001b[0mchoices\u001b[0m\u001b[0;34m(\u001b[0m\u001b[0;34m[\u001b[0m\u001b[0;36m1\u001b[0m\u001b[0;34m,\u001b[0m\u001b[0;36m2\u001b[0m\u001b[0;34m,\u001b[0m\u001b[0;36m3\u001b[0m\u001b[0;34m,\u001b[0m\u001b[0;36m4\u001b[0m\u001b[0;34m,\u001b[0m\u001b[0;36m5\u001b[0m\u001b[0;34m,\u001b[0m\u001b[0;36m6\u001b[0m\u001b[0;34m]\u001b[0m\u001b[0;34m,\u001b[0m \u001b[0;34m(\u001b[0m\u001b[0;36m.60\u001b[0m\u001b[0;34m,\u001b[0m\u001b[0;36m0.2\u001b[0m\u001b[0;34m,\u001b[0m\u001b[0;36m0.1\u001b[0m\u001b[0;34m,\u001b[0m\u001b[0;36m.05\u001b[0m\u001b[0;34m,\u001b[0m\u001b[0;36m.04\u001b[0m\u001b[0;34m,\u001b[0m\u001b[0;36m.01\u001b[0m\u001b[0;34m)\u001b[0m\u001b[0;34m,\u001b[0m\u001b[0mk\u001b[0m\u001b[0;34m=\u001b[0m\u001b[0;36m1\u001b[0m\u001b[0;34m)\u001b[0m\u001b[0;34m[\u001b[0m\u001b[0;36m0\u001b[0m\u001b[0;34m]\u001b[0m\u001b[0;34m\u001b[0m\u001b[0m\n\u001b[1;32m     15\u001b[0m             \u001b[0minvoice_line\u001b[0m\u001b[0;34m=\u001b[0m\u001b[0;36m0\u001b[0m\u001b[0;34m\u001b[0m\u001b[0m\n",
      "\u001b[0;31mIndexError\u001b[0m: list index out of range"
     ]
    }
   ],
   "source": [
    "t_count=0\n",
    "rows=[]\n",
    "while t_count<= t:\n",
    "    t_count+=1\n",
    "    member_id=random.choice(members[0])\n",
    "    claims= random.choices([1,2,3,4],(.8,.1,.03,.07),k=1)[0]\n",
    "    for cl in range(claims):\n",
    "        invoices=random.choices([1,2,3,4], (.95,.05,.07,.03),k=1)[0]\n",
    "        for inv in range(invoices):\n",
    "            provider=random.choice(providers)\n",
    "            provider_id=provider[0]\n",
    "            provider_name=provider[1]\n",
    "            treatment_country=provider[2]\n",
    "            invoice_lines=random.choices([1,2,3,4,5,6], (.60,0.2,0.1,.05,.04,.01),k=1)[0]\n",
    "            invoice_line=0\n",
    "            for proc in range(invoice_lines):\n",
    "                invoice_line+=1\n",
    "                proc_code=random.choice(range(100))\n",
    "                row=[t_count,provider_id,provider_name,treatment_country, invoice_line,proc_code]\n",
    "                rows.append(row)\n",
    "rows[0:10]"
   ]
  },
  {
   "cell_type": "code",
   "execution_count": null,
   "metadata": {},
   "outputs": [],
   "source": []
  },
  {
   "cell_type": "code",
   "execution_count": null,
   "metadata": {},
   "outputs": [],
   "source": []
  }
 ],
 "metadata": {
  "kernelspec": {
   "display_name": "Python 3",
   "language": "python",
   "name": "python3"
  },
  "language_info": {
   "codemirror_mode": {
    "name": "ipython",
    "version": 3
   },
   "file_extension": ".py",
   "mimetype": "text/x-python",
   "name": "python",
   "nbconvert_exporter": "python",
   "pygments_lexer": "ipython3",
   "version": "3.6.6+"
  }
 },
 "nbformat": 4,
 "nbformat_minor": 2
}
