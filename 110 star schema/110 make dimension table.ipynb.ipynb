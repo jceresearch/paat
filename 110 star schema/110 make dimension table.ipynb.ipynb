{
 "cells": [
  {
   "cell_type": "code",
   "execution_count": 1,
   "metadata": {},
   "outputs": [],
   "source": [
    "import pandas as pd\n",
    "import numpy as np"
   ]
  },
  {
   "cell_type": "code",
   "execution_count": 2,
   "metadata": {},
   "outputs": [],
   "source": [
    "df=pd.read_excel(\"demo_data.xlsx\",sheet_name=\"demo_claims\")\n",
    "df.count()\n",
    "df.columns=df.columns.str.lower()"
   ]
  },
  {
   "cell_type": "code",
   "execution_count": 3,
   "metadata": {},
   "outputs": [
    {
     "name": "stdout",
     "output_type": "stream",
     "text": [
      "[('memberid', 5, 17, 0.29411764705882354), ('claimid', 8, 17, 0.47058823529411764), ('providerid', 5, 17, 0.29411764705882354), ('providername', 5, 17, 0.29411764705882354), ('benefithead', 8, 17, 0.47058823529411764), ('benefitdescr', 8, 17, 0.47058823529411764), ('procedurecode', 8, 13, 0.6153846153846154), ('treatmentcountry', 2, 17, 0.11764705882352941), ('amount', 13, 17, 0.7647058823529411), ('currencycode', 2, 17, 0.11764705882352941), ('conversionrate', 2, 17, 0.11764705882352941), ('amountgbp', 15, 17, 0.8823529411764706)]\n"
     ]
    }
   ],
   "source": [
    "count_unique= df.nunique().to_list()\n",
    "card_perc= [i[0]/i[1] for i in zip(count_unique, df.count())]\n",
    "cardinality=list(zip(df.columns,count_unique, df.count(),card_perc))\n",
    "print(cardinality)"
   ]
  },
  {
   "cell_type": "code",
   "execution_count": 5,
   "metadata": {},
   "outputs": [
    {
     "name": "stdout",
     "output_type": "stream",
     "text": [
      "conversionrate  can be included\n",
      "claimid  cannot be included as it has instances of multiple values per key  currencycode\n",
      "  currencycode claimid\n",
      "0          USD     C01\n",
      "1          USD     C02\n",
      "2          GBP     C02\n",
      "3          GBP     C03\n",
      "4          USD     C03\n"
     ]
    },
    {
     "data": {
      "text/html": [
       "<div>\n",
       "<style scoped>\n",
       "    .dataframe tbody tr th:only-of-type {\n",
       "        vertical-align: middle;\n",
       "    }\n",
       "\n",
       "    .dataframe tbody tr th {\n",
       "        vertical-align: top;\n",
       "    }\n",
       "\n",
       "    .dataframe thead th {\n",
       "        text-align: right;\n",
       "    }\n",
       "</style>\n",
       "<table border=\"1\" class=\"dataframe\">\n",
       "  <thead>\n",
       "    <tr style=\"text-align: right;\">\n",
       "      <th></th>\n",
       "      <th>memberid</th>\n",
       "      <th>claimid</th>\n",
       "      <th>providerid</th>\n",
       "      <th>providername</th>\n",
       "      <th>benefithead</th>\n",
       "      <th>benefitdescr</th>\n",
       "      <th>procedurecode</th>\n",
       "      <th>treatmentcountry</th>\n",
       "      <th>amount</th>\n",
       "      <th>amountgbp</th>\n",
       "      <th>dimkey_currencycode</th>\n",
       "    </tr>\n",
       "  </thead>\n",
       "  <tbody>\n",
       "    <tr>\n",
       "      <th>0</th>\n",
       "      <td>M01</td>\n",
       "      <td>C01</td>\n",
       "      <td>P01</td>\n",
       "      <td>Clinic Mayo</td>\n",
       "      <td>10</td>\n",
       "      <td>Pregnancy Checks</td>\n",
       "      <td>901.0</td>\n",
       "      <td>US</td>\n",
       "      <td>1000</td>\n",
       "      <td>783.249121</td>\n",
       "      <td>1</td>\n",
       "    </tr>\n",
       "    <tr>\n",
       "      <th>1</th>\n",
       "      <td>M01</td>\n",
       "      <td>C02</td>\n",
       "      <td>P01</td>\n",
       "      <td>Clinic Mayo</td>\n",
       "      <td>10</td>\n",
       "      <td>Pregnancy Checks</td>\n",
       "      <td>902.0</td>\n",
       "      <td>US</td>\n",
       "      <td>800</td>\n",
       "      <td>626.599297</td>\n",
       "      <td>1</td>\n",
       "    </tr>\n",
       "    <tr>\n",
       "      <th>2</th>\n",
       "      <td>M01</td>\n",
       "      <td>C02</td>\n",
       "      <td>P02</td>\n",
       "      <td>Pharmacy Excel</td>\n",
       "      <td>20</td>\n",
       "      <td>Pain relief/anti inflammatory</td>\n",
       "      <td>NaN</td>\n",
       "      <td>UK</td>\n",
       "      <td>400</td>\n",
       "      <td>400.000000</td>\n",
       "      <td>2</td>\n",
       "    </tr>\n",
       "    <tr>\n",
       "      <th>3</th>\n",
       "      <td>M02</td>\n",
       "      <td>C03</td>\n",
       "      <td>P03</td>\n",
       "      <td>Dr Grim</td>\n",
       "      <td>30</td>\n",
       "      <td>GP Diagnosis</td>\n",
       "      <td>501.0</td>\n",
       "      <td>UK</td>\n",
       "      <td>200</td>\n",
       "      <td>200.000000</td>\n",
       "      <td>2</td>\n",
       "    </tr>\n",
       "    <tr>\n",
       "      <th>4</th>\n",
       "      <td>M02</td>\n",
       "      <td>C03</td>\n",
       "      <td>P01</td>\n",
       "      <td>Clinic Mayo</td>\n",
       "      <td>10</td>\n",
       "      <td>Pregnancy Checks</td>\n",
       "      <td>901.0</td>\n",
       "      <td>US</td>\n",
       "      <td>1300</td>\n",
       "      <td>1018.223857</td>\n",
       "      <td>1</td>\n",
       "    </tr>\n",
       "  </tbody>\n",
       "</table>\n",
       "</div>"
      ],
      "text/plain": [
       "  memberid claimid providerid  ... amount    amountgbp dimkey_currencycode\n",
       "0      M01     C01        P01  ...   1000   783.249121                   1\n",
       "1      M01     C02        P01  ...    800   626.599297                   1\n",
       "2      M01     C02        P02  ...    400   400.000000                   2\n",
       "3      M02     C03        P03  ...    200   200.000000                   2\n",
       "4      M02     C03        P01  ...   1300  1018.223857                   1\n",
       "\n",
       "[5 rows x 11 columns]"
      ]
     },
     "execution_count": 5,
     "metadata": {},
     "output_type": "execute_result"
    }
   ],
   "source": [
    "dims=[]\n",
    "def dim_from_flat(df, key_name, attributes):\n",
    "    dim_fields=[key_name]\n",
    "    for i in attributes:\n",
    "        df_unique=df[[key_name,i]].drop_duplicates(ignore_index=True)\n",
    "        df_check_key_unique=df_unique[df_unique[key_name].duplicated(keep=False)]\n",
    "        if len(df_check_key_unique)==0:\n",
    "            print(i,\" can be included\")\n",
    "            dim_fields.append(i)\n",
    "        else:\n",
    "            print(i,\" cannot be included as it has instances of multiple values per key \", key_name)\n",
    "            print(df_check_key_unique.head())\n",
    "            \n",
    "    df_dim=df[dim_fields].drop_duplicates(ignore_index=True)\n",
    "    df_dim.insert(0, \"dimkey_\"+key_name, range(1, 1 + len(df_dim)))\n",
    "    df_dim.reset_index(drop=True,inplace=True)\n",
    "    df_fact=df.merge(df_dim[[key_name,\"dimkey_\"+key_name]],how='left',left_on=key_name, right_on=key_name)\n",
    "    df_fact.drop(dim_fields, axis=1, inplace=True)\n",
    "    return df_dim, df_fact\n",
    "\n",
    "\n",
    "df_dim,df_fact= dim_from_flat(df_new,\"currencycode\",[\"conversionrate\",'claimid'])\n",
    "df_fact.head()"
   ]
  },
  {
   "cell_type": "code",
   "execution_count": 6,
   "metadata": {},
   "outputs": [
    {
     "data": {
      "text/html": [
       "<div>\n",
       "<style scoped>\n",
       "    .dataframe tbody tr th:only-of-type {\n",
       "        vertical-align: middle;\n",
       "    }\n",
       "\n",
       "    .dataframe tbody tr th {\n",
       "        vertical-align: top;\n",
       "    }\n",
       "\n",
       "    .dataframe thead th {\n",
       "        text-align: right;\n",
       "    }\n",
       "</style>\n",
       "<table border=\"1\" class=\"dataframe\">\n",
       "  <thead>\n",
       "    <tr style=\"text-align: right;\">\n",
       "      <th></th>\n",
       "      <th>dimkey_currencycode</th>\n",
       "      <th>currencycode</th>\n",
       "      <th>conversionrate</th>\n",
       "    </tr>\n",
       "  </thead>\n",
       "  <tbody>\n",
       "    <tr>\n",
       "      <th>0</th>\n",
       "      <td>1</td>\n",
       "      <td>USD</td>\n",
       "      <td>1.276733</td>\n",
       "    </tr>\n",
       "    <tr>\n",
       "      <th>1</th>\n",
       "      <td>2</td>\n",
       "      <td>GBP</td>\n",
       "      <td>1.000000</td>\n",
       "    </tr>\n",
       "  </tbody>\n",
       "</table>\n",
       "</div>"
      ],
      "text/plain": [
       "   dimkey_currencycode currencycode  conversionrate\n",
       "0                    1          USD        1.276733\n",
       "1                    2          GBP        1.000000"
      ]
     },
     "execution_count": 6,
     "metadata": {},
     "output_type": "execute_result"
    }
   ],
   "source": [
    "df_dim"
   ]
  },
  {
   "cell_type": "code",
   "execution_count": 7,
   "metadata": {},
   "outputs": [
    {
     "data": {
      "text/plain": [
       "(17, 11)"
      ]
     },
     "execution_count": 7,
     "metadata": {},
     "output_type": "execute_result"
    }
   ],
   "source": [
    "df_fact.shape"
   ]
  },
  {
   "cell_type": "code",
   "execution_count": null,
   "metadata": {},
   "outputs": [],
   "source": []
  }
 ],
 "metadata": {
  "kernelspec": {
   "display_name": "Python 3",
   "language": "python",
   "name": "python3"
  },
  "language_info": {
   "codemirror_mode": {
    "name": "ipython",
    "version": 3
   },
   "file_extension": ".py",
   "mimetype": "text/x-python",
   "name": "python",
   "nbconvert_exporter": "python",
   "pygments_lexer": "ipython3",
   "version": "3.6.6+"
  }
 },
 "nbformat": 4,
 "nbformat_minor": 2
}
