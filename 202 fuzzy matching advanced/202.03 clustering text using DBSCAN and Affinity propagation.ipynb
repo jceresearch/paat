{
 "cells": [
  {
   "cell_type": "code",
   "execution_count": 62,
   "metadata": {},
   "outputs": [
    {
     "data": {
      "text/plain": [
       "array([[ 0, -1, -2, -1, -2, -1, -2, -3, -4, -5, -4],\n",
       "       [-1,  0, -1, -1, -2, -2, -3, -3, -4, -5, -4],\n",
       "       [-2, -1,  0, -2, -3, -3, -3, -4, -4, -5, -5],\n",
       "       [-1, -1, -2,  0, -2, -2, -3, -3, -4, -5, -4],\n",
       "       [-2, -2, -3, -2,  0, -3, -4, -3, -4, -3, -4],\n",
       "       [-1, -2, -3, -2, -3,  0, -1, -4, -4, -5, -3],\n",
       "       [-2, -3, -3, -3, -4, -1,  0, -4, -4, -5, -3],\n",
       "       [-3, -3, -4, -3, -3, -4, -4,  0, -1, -2, -1],\n",
       "       [-4, -4, -4, -4, -4, -4, -4, -1,  0, -1, -1],\n",
       "       [-5, -5, -5, -5, -3, -5, -5, -2, -1,  0, -2],\n",
       "       [-4, -4, -5, -4, -4, -3, -3, -1, -1, -2,  0]])"
      ]
     },
     "execution_count": 62,
     "metadata": {},
     "output_type": "execute_result"
    }
   ],
   "source": [
    "import numpy as np\n",
    "from sklearn.cluster import AffinityPropagation\n",
    "import distance\n",
    "    \n",
    "words = \"john juan jose john joan luis louise juans johny jon lois Louis\".split(\" \") #Replace this line\n",
    "words = np.unique(np.char.lower(np.asarray(words))) #So that indexing with a list will work\n",
    "\n",
    "#we are ignoring exact duplicates and lowering the cases, so when we get the clusters \n",
    "#we will have to go back to searching which records have that label, including exact duplicates and any other near matches due to preprocessing (i.e. lowering case, or removing Mr. and Ltd.).\n",
    "\n",
    "similarity = -1*np.array([[distance.levenshtein(w1,w2) for w1 in words] for w2 in words])\n",
    "\n",
    "similarity"
   ]
  },
  {
   "cell_type": "code",
   "execution_count": 63,
   "metadata": {},
   "outputs": [
    {
     "name": "stdout",
     "output_type": "stream",
     "text": [
      " - *john:* joan, john, johny, jon, jose\n",
      " - *juan:* juan, juans\n",
      " - *louis:* lois, louis, louise, luis\n"
     ]
    }
   ],
   "source": [
    "affprop = AffinityPropagation(affinity=\"precomputed\", damping=0.5, random_state=None)\n",
    "affprop.fit(similarity)\n",
    "for cluster_id in np.unique(affprop.labels_):\n",
    "    exemplar = words[affprop.cluster_centers_indices_[cluster_id]]\n",
    "    #cluster = np.unique(words[np.nonzero(affprop.labels_==cluster_id)])\n",
    "    cluster = words[np.nonzero(affprop.labels_==cluster_id)] \n",
    "    cluster_str = \", \".join(cluster)\n",
    "    print(\" - *%s:* %s\" % (exemplar, cluster_str))\n"
   ]
  },
  {
   "cell_type": "code",
   "execution_count": 88,
   "metadata": {},
   "outputs": [
    {
     "name": "stdout",
     "output_type": "stream",
     "text": [
      "{('joan', 'john'): -1, ('joan', 'johny'): -2, ('joan', 'jon'): -1, ('joan', 'jose'): -2, ('joan', 'juan'): -1, ('joan', 'juans'): -2, ('joan', 'lois'): -3, ('joan', 'louis'): -4, ('joan', 'louise'): -5, ('joan', 'luis'): -4, ('john', 'johny'): -1, ('john', 'jon'): -1, ('john', 'jose'): -2, ('john', 'juan'): -2, ('john', 'juans'): -3, ('john', 'lois'): -3, ('john', 'louis'): -4, ('john', 'louise'): -5, ('john', 'luis'): -4, ('johny', 'jon'): -2, ('johny', 'jose'): -3, ('johny', 'juan'): -3, ('johny', 'juans'): -3, ('johny', 'lois'): -4, ('johny', 'louis'): -4, ('johny', 'louise'): -5, ('johny', 'luis'): -5, ('jon', 'jose'): -2, ('jon', 'juan'): -2, ('jon', 'juans'): -3, ('jon', 'lois'): -3, ('jon', 'louis'): -4, ('jon', 'louise'): -5, ('jon', 'luis'): -4, ('jose', 'juan'): -3, ('jose', 'juans'): -4, ('jose', 'lois'): -3, ('jose', 'louis'): -4, ('jose', 'louise'): -3, ('jose', 'luis'): -4, ('juan', 'juans'): -1, ('juan', 'lois'): -4, ('juan', 'louis'): -4, ('juan', 'louise'): -5, ('juan', 'luis'): -3, ('juans', 'lois'): -4, ('juans', 'louis'): -4, ('juans', 'louise'): -5, ('juans', 'luis'): -3, ('lois', 'louis'): -1, ('lois', 'louise'): -2, ('lois', 'luis'): -1, ('louis', 'louise'): -1, ('louis', 'luis'): -1, ('louise', 'luis'): -2}\n"
     ]
    }
   ],
   "source": [
    "import itertools\n",
    "#we are simulating a scenario where we have already the individual distances (pairwise) and we need to\n",
    "#construct the matrix\n",
    "list(itertools.combinations(words, 2))\n",
    "lev_pairwise_dict={(w1,w2):-distance.levenshtein(w1,w2)for [w1,w2] in itertools.combinations(words,2)}\n",
    "print(lev_pairwise_dict)"
   ]
  },
  {
   "cell_type": "code",
   "execution_count": 89,
   "metadata": {},
   "outputs": [
    {
     "data": {
      "text/plain": [
       "['joan',\n",
       " 'john',\n",
       " 'johny',\n",
       " 'jon',\n",
       " 'jose',\n",
       " 'juan',\n",
       " 'juans',\n",
       " 'lois',\n",
       " 'louis',\n",
       " 'louise',\n",
       " 'luis']"
      ]
     },
     "execution_count": 89,
     "metadata": {},
     "output_type": "execute_result"
    }
   ],
   "source": [
    "\n",
    "unique_ids=sorted(set([x.lower() for y in lev_pairwise_dict.keys() for x in y]))\n",
    "#this is a very elegant iteration over each element of the tuple of keys, flattening it\n",
    "#the closer to a simpler version is\n",
    "#el=[]\n",
    "#for y in lev_pairwise_dict.keys():\n",
    "#    for x in y:\n",
    "#        el.append(x.lower())\n",
    "#unique_ids=sorted(set(el)) #set returns the unique elements  \n",
    "#I have to say I prefer the loop version for readability, just a tiny bit more legible imo\n",
    "unique_ids"
   ]
  },
  {
   "cell_type": "code",
   "execution_count": null,
   "metadata": {},
   "outputs": [],
   "source": []
  },
  {
   "cell_type": "code",
   "execution_count": 90,
   "metadata": {},
   "outputs": [
    {
     "name": "stdout",
     "output_type": "stream",
     "text": [
      "['joan', 'john', 'johny', 'jon', 'jose', 'juan', 'juans', 'lois', 'louis', 'louise', 'luis']\n"
     ]
    },
    {
     "data": {
      "text/html": [
       "<div>\n",
       "<style scoped>\n",
       "    .dataframe tbody tr th:only-of-type {\n",
       "        vertical-align: middle;\n",
       "    }\n",
       "\n",
       "    .dataframe tbody tr th {\n",
       "        vertical-align: top;\n",
       "    }\n",
       "\n",
       "    .dataframe thead th {\n",
       "        text-align: right;\n",
       "    }\n",
       "</style>\n",
       "<table border=\"1\" class=\"dataframe\">\n",
       "  <thead>\n",
       "    <tr style=\"text-align: right;\">\n",
       "      <th></th>\n",
       "      <th>joan</th>\n",
       "      <th>john</th>\n",
       "      <th>johny</th>\n",
       "      <th>jon</th>\n",
       "      <th>jose</th>\n",
       "      <th>juan</th>\n",
       "      <th>juans</th>\n",
       "      <th>lois</th>\n",
       "      <th>louis</th>\n",
       "      <th>louise</th>\n",
       "      <th>luis</th>\n",
       "    </tr>\n",
       "  </thead>\n",
       "  <tbody>\n",
       "    <tr>\n",
       "      <th>joan</th>\n",
       "      <td>0</td>\n",
       "      <td>-1</td>\n",
       "      <td>-2</td>\n",
       "      <td>-1</td>\n",
       "      <td>-2</td>\n",
       "      <td>-1</td>\n",
       "      <td>-2</td>\n",
       "      <td>-3</td>\n",
       "      <td>-4</td>\n",
       "      <td>-5</td>\n",
       "      <td>-4</td>\n",
       "    </tr>\n",
       "    <tr>\n",
       "      <th>john</th>\n",
       "      <td>-1</td>\n",
       "      <td>0</td>\n",
       "      <td>-1</td>\n",
       "      <td>-1</td>\n",
       "      <td>-2</td>\n",
       "      <td>-2</td>\n",
       "      <td>-3</td>\n",
       "      <td>-3</td>\n",
       "      <td>-4</td>\n",
       "      <td>-5</td>\n",
       "      <td>-4</td>\n",
       "    </tr>\n",
       "    <tr>\n",
       "      <th>johny</th>\n",
       "      <td>-2</td>\n",
       "      <td>-1</td>\n",
       "      <td>0</td>\n",
       "      <td>-2</td>\n",
       "      <td>-3</td>\n",
       "      <td>-3</td>\n",
       "      <td>-3</td>\n",
       "      <td>-4</td>\n",
       "      <td>-4</td>\n",
       "      <td>-5</td>\n",
       "      <td>-5</td>\n",
       "    </tr>\n",
       "    <tr>\n",
       "      <th>jon</th>\n",
       "      <td>-1</td>\n",
       "      <td>-1</td>\n",
       "      <td>-2</td>\n",
       "      <td>0</td>\n",
       "      <td>-2</td>\n",
       "      <td>-2</td>\n",
       "      <td>-3</td>\n",
       "      <td>-3</td>\n",
       "      <td>-4</td>\n",
       "      <td>-5</td>\n",
       "      <td>-4</td>\n",
       "    </tr>\n",
       "    <tr>\n",
       "      <th>jose</th>\n",
       "      <td>-2</td>\n",
       "      <td>-2</td>\n",
       "      <td>-3</td>\n",
       "      <td>-2</td>\n",
       "      <td>0</td>\n",
       "      <td>-3</td>\n",
       "      <td>-4</td>\n",
       "      <td>-3</td>\n",
       "      <td>-4</td>\n",
       "      <td>-3</td>\n",
       "      <td>-4</td>\n",
       "    </tr>\n",
       "    <tr>\n",
       "      <th>juan</th>\n",
       "      <td>-1</td>\n",
       "      <td>-2</td>\n",
       "      <td>-3</td>\n",
       "      <td>-2</td>\n",
       "      <td>-3</td>\n",
       "      <td>0</td>\n",
       "      <td>-1</td>\n",
       "      <td>-4</td>\n",
       "      <td>-4</td>\n",
       "      <td>-5</td>\n",
       "      <td>-3</td>\n",
       "    </tr>\n",
       "    <tr>\n",
       "      <th>juans</th>\n",
       "      <td>-2</td>\n",
       "      <td>-3</td>\n",
       "      <td>-3</td>\n",
       "      <td>-3</td>\n",
       "      <td>-4</td>\n",
       "      <td>-1</td>\n",
       "      <td>0</td>\n",
       "      <td>-4</td>\n",
       "      <td>-4</td>\n",
       "      <td>-5</td>\n",
       "      <td>-3</td>\n",
       "    </tr>\n",
       "    <tr>\n",
       "      <th>lois</th>\n",
       "      <td>-3</td>\n",
       "      <td>-3</td>\n",
       "      <td>-4</td>\n",
       "      <td>-3</td>\n",
       "      <td>-3</td>\n",
       "      <td>-4</td>\n",
       "      <td>-4</td>\n",
       "      <td>0</td>\n",
       "      <td>-1</td>\n",
       "      <td>-2</td>\n",
       "      <td>-1</td>\n",
       "    </tr>\n",
       "    <tr>\n",
       "      <th>louis</th>\n",
       "      <td>-4</td>\n",
       "      <td>-4</td>\n",
       "      <td>-4</td>\n",
       "      <td>-4</td>\n",
       "      <td>-4</td>\n",
       "      <td>-4</td>\n",
       "      <td>-4</td>\n",
       "      <td>-1</td>\n",
       "      <td>0</td>\n",
       "      <td>-1</td>\n",
       "      <td>-1</td>\n",
       "    </tr>\n",
       "    <tr>\n",
       "      <th>louise</th>\n",
       "      <td>-5</td>\n",
       "      <td>-5</td>\n",
       "      <td>-5</td>\n",
       "      <td>-5</td>\n",
       "      <td>-3</td>\n",
       "      <td>-5</td>\n",
       "      <td>-5</td>\n",
       "      <td>-2</td>\n",
       "      <td>-1</td>\n",
       "      <td>0</td>\n",
       "      <td>-2</td>\n",
       "    </tr>\n",
       "    <tr>\n",
       "      <th>luis</th>\n",
       "      <td>-4</td>\n",
       "      <td>-4</td>\n",
       "      <td>-5</td>\n",
       "      <td>-4</td>\n",
       "      <td>-4</td>\n",
       "      <td>-3</td>\n",
       "      <td>-3</td>\n",
       "      <td>-1</td>\n",
       "      <td>-1</td>\n",
       "      <td>-2</td>\n",
       "      <td>0</td>\n",
       "    </tr>\n",
       "  </tbody>\n",
       "</table>\n",
       "</div>"
      ],
      "text/plain": [
       "        joan  john  johny  jon  jose  juan  juans  lois  louis  louise  luis\n",
       "joan       0    -1     -2   -1    -2    -1     -2    -3     -4      -5    -4\n",
       "john      -1     0     -1   -1    -2    -2     -3    -3     -4      -5    -4\n",
       "johny     -2    -1      0   -2    -3    -3     -3    -4     -4      -5    -5\n",
       "jon       -1    -1     -2    0    -2    -2     -3    -3     -4      -5    -4\n",
       "jose      -2    -2     -3   -2     0    -3     -4    -3     -4      -3    -4\n",
       "juan      -1    -2     -3   -2    -3     0     -1    -4     -4      -5    -3\n",
       "juans     -2    -3     -3   -3    -4    -1      0    -4     -4      -5    -3\n",
       "lois      -3    -3     -4   -3    -3    -4     -4     0     -1      -2    -1\n",
       "louis     -4    -4     -4   -4    -4    -4     -4    -1      0      -1    -1\n",
       "louise    -5    -5     -5   -5    -3    -5     -5    -2     -1       0    -2\n",
       "luis      -4    -4     -5   -4    -4    -3     -3    -1     -1      -2     0"
      ]
     },
     "execution_count": 90,
     "metadata": {},
     "output_type": "execute_result"
    }
   ],
   "source": [
    "import pandas as pd\n",
    "df = pd.DataFrame(index=unique_ids, columns=unique_ids)\n",
    "for k, v in lev_pairwise_dict.items():\n",
    "    df.loc[k[0], k[1]] = v\n",
    "    df.loc[k[1], k[0]] = v\n",
    "df=df.fillna(0)\n",
    "similarity2=np.array(df)\n",
    "print(unique_ids)\n",
    "df"
   ]
  },
  {
   "cell_type": "code",
   "execution_count": 91,
   "metadata": {},
   "outputs": [
    {
     "data": {
      "text/plain": [
       "array([[ 0, -1, -2, -1, -2, -1, -2, -3, -4, -5, -4],\n",
       "       [-1,  0, -1, -1, -2, -2, -3, -3, -4, -5, -4],\n",
       "       [-2, -1,  0, -2, -3, -3, -3, -4, -4, -5, -5],\n",
       "       [-1, -1, -2,  0, -2, -2, -3, -3, -4, -5, -4],\n",
       "       [-2, -2, -3, -2,  0, -3, -4, -3, -4, -3, -4],\n",
       "       [-1, -2, -3, -2, -3,  0, -1, -4, -4, -5, -3],\n",
       "       [-2, -3, -3, -3, -4, -1,  0, -4, -4, -5, -3],\n",
       "       [-3, -3, -4, -3, -3, -4, -4,  0, -1, -2, -1],\n",
       "       [-4, -4, -4, -4, -4, -4, -4, -1,  0, -1, -1],\n",
       "       [-5, -5, -5, -5, -3, -5, -5, -2, -1,  0, -2],\n",
       "       [-4, -4, -5, -4, -4, -3, -3, -1, -1, -2,  0]])"
      ]
     },
     "execution_count": 91,
     "metadata": {},
     "output_type": "execute_result"
    }
   ],
   "source": [
    "similarity2"
   ]
  },
  {
   "cell_type": "code",
   "execution_count": 94,
   "metadata": {},
   "outputs": [
    {
     "data": {
      "text/plain": [
       "array([[ 0., -1., -2., -1., -2., -1., -2., -3., -4., -5., -4.],\n",
       "       [-1.,  0., -1., -1., -2., -2., -3., -3., -4., -5., -4.],\n",
       "       [-2., -1.,  0., -2., -3., -3., -3., -4., -4., -5., -5.],\n",
       "       [-1., -1., -2.,  0., -2., -2., -3., -3., -4., -5., -4.],\n",
       "       [-2., -2., -3., -2.,  0., -3., -4., -3., -4., -3., -4.],\n",
       "       [-1., -2., -3., -2., -3.,  0., -1., -4., -4., -5., -3.],\n",
       "       [-2., -3., -3., -3., -4., -1.,  0., -4., -4., -5., -3.],\n",
       "       [-3., -3., -4., -3., -3., -4., -4.,  0., -1., -2., -1.],\n",
       "       [-4., -4., -4., -4., -4., -4., -4., -1.,  0., -1., -1.],\n",
       "       [-5., -5., -5., -5., -3., -5., -5., -2., -1.,  0., -2.],\n",
       "       [-4., -4., -5., -4., -4., -3., -3., -1., -1., -2.,  0.]])"
      ]
     },
     "execution_count": 94,
     "metadata": {},
     "output_type": "execute_result"
    }
   ],
   "source": [
    "from functools import lru_cache\n",
    "from timeit import repeat\n",
    "similarity3=np.zeros((len(unique_ids),len(unique_ids)))\n",
    "@lru_cache(None)\n",
    "def find_index(k):\n",
    "    return unique_ids.index(k)\n",
    "for k, v in lev_pairwise_dict.items():\n",
    "    try:\n",
    "        ki0=find_index(k[0])\n",
    "        ki1=find_index(k[1])\n",
    "        similarity3[ki0, ki1 ]= v\n",
    "        similarity3[ki1, ki0 ]= v\n",
    "    except:\n",
    "        print (k,v)\n",
    "        raise \"Element not found in headers\"\n",
    "        \n",
    "similarity3"
   ]
  },
  {
   "cell_type": "code",
   "execution_count": 95,
   "metadata": {},
   "outputs": [
    {
     "data": {
      "text/plain": [
       "array(['joan', 'john', 'johny', 'jon', 'jose', 'juan', 'juans', 'lois',\n",
       "       'louis', 'louise', 'luis'], dtype='<U6')"
      ]
     },
     "execution_count": 95,
     "metadata": {},
     "output_type": "execute_result"
    }
   ],
   "source": [
    "unique_ids\n",
    "array_ids=np.asarray(unique_ids)\n",
    "array_ids"
   ]
  },
  {
   "cell_type": "code",
   "execution_count": 100,
   "metadata": {},
   "outputs": [
    {
     "name": "stdout",
     "output_type": "stream",
     "text": [
      "john: john, johny, jon, jose\n",
      "juan: joan, juan, juans\n",
      "louis: lois, louis, louise, luis\n"
     ]
    }
   ],
   "source": [
    "affprop = AffinityPropagation(affinity=\"precomputed\", damping=0.8, random_state=None)\n",
    "affprop.fit(similarity3)\n",
    "for cluster_id in np.unique(affprop.labels_):\n",
    "    exemplar = array_ids[affprop.cluster_centers_indices_[cluster_id]]\n",
    "    cluster = np.unique(array_ids[np.nonzero(affprop.labels_==cluster_id)])\n",
    "    cluster_str = \", \".join(cluster)\n",
    "    print(\"%s: %s\" % (exemplar, cluster_str))"
   ]
  },
  {
   "cell_type": "code",
   "execution_count": 98,
   "metadata": {},
   "outputs": [
    {
     "name": "stdout",
     "output_type": "stream",
     "text": [
      "[0 0 0 0 1 0 0 2 2 3 2]\n",
      "0: joan, john, johny, jon, juan, juans\n",
      "1: jose\n",
      "2: lois, louis, luis\n",
      "3: louise\n"
     ]
    }
   ],
   "source": [
    "from sklearn.cluster import DBSCAN\n",
    "dbscan = DBSCAN(eps=3,min_samples=1)\n",
    "dbscan.fit(similarity3)\n",
    "\n",
    "print (dbscan.labels_)\n",
    "for cluster_id in np.unique(dbscan.labels_):\n",
    "    cluster = np.unique(array_ids[np.nonzero(dbscan.labels_==cluster_id)])\n",
    "    cluster_str = \", \".join(cluster)\n",
    "    print(\"%s: %s\" % (cluster_id, cluster_str))"
   ]
  },
  {
   "cell_type": "code",
   "execution_count": 99,
   "metadata": {},
   "outputs": [
    {
     "data": {
      "text/plain": [
       "array([0, 0, 0, 0, 1, 0, 0, 2, 2, 3, 2])"
      ]
     },
     "execution_count": 99,
     "metadata": {},
     "output_type": "execute_result"
    }
   ],
   "source": [
    "dbscan.labels_"
   ]
  },
  {
   "cell_type": "code",
   "execution_count": null,
   "metadata": {},
   "outputs": [],
   "source": []
  }
 ],
 "metadata": {
  "kernelspec": {
   "display_name": "Python 3",
   "language": "python",
   "name": "python3"
  },
  "language_info": {
   "codemirror_mode": {
    "name": "ipython",
    "version": 3
   },
   "file_extension": ".py",
   "mimetype": "text/x-python",
   "name": "python",
   "nbconvert_exporter": "python",
   "pygments_lexer": "ipython3",
   "version": "3.6.6+"
  }
 },
 "nbformat": 4,
 "nbformat_minor": 2
}