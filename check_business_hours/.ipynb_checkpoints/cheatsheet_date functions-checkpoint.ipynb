{
 "cells": [
  {
   "cell_type": "markdown",
   "metadata": {},
   "source": [
    "# Cheat sheet/library for datetime operations"
   ]
  },
  {
   "cell_type": "code",
   "execution_count": null,
   "metadata": {},
   "outputs": [],
   "source": [
    "import datetime\n",
    "\n",
    "print('Now    :', datetime.datetime.now())\n",
    "print('Today  :', datetime.datetime.today())\n",
    "print('UTC Now:', datetime.datetime.utcnow())\n",
    "\n",
    "d = datetime.datetime.now()\n",
    "for attr in [ 'year', 'month', 'day', 'hour', 'minute', 'second', 'microsecond']:\n",
    "    print(attr, ':', getattr(d, attr))\n",
    "\n",
    "import time\n",
    "from datetime import date\n",
    "\n",
    "today= datetime.datetime.today()\n",
    "ddate= datetime.datetime(today.year, 4, 20)\n",
    "\n",
    "time_to_date = abs(ddate - today)\n",
    "print((time_to_date.days))\n",
    "\n",
    "\n"
   ]
  },
  {
   "cell_type": "markdown",
   "metadata": {},
   "source": [
    "Auxiliary functions"
   ]
  },
  {
   "cell_type": "code",
   "execution_count": 3,
   "metadata": {},
   "outputs": [
    {
     "name": "stdout",
     "output_type": "stream",
     "text": [
      "1972-02-01 12:00:00\n",
      "46.833333333333336\n"
     ]
    }
   ],
   "source": [
    "#Months between dates\n",
    "#Auxiliary datetime function to compute\n",
    "\n",
    "import datetime\n",
    "def months_between(date1,date2):\n",
    "    if date1>date2:\n",
    "        date1,date2=date2,date1\n",
    "    m1=date1.year*12+date1.month\n",
    "    m2=date2.year*12+date2.month\n",
    "    months=m2-m1\n",
    "    if date1.day>date2.day:\n",
    "        months-=1\n",
    "    elif date1.day==date2.day:\n",
    "        seconds1=date1.hour*3600+date1.minute+date1.second\n",
    "        seconds2=date2.hour*3600+date2.minute+date2.second\n",
    "        if seconds1>seconds2:\n",
    "            months-=1\n",
    "    return months\n",
    "    \n",
    "date1 = datetime.datetime.strptime('1972-02-01 12:00:00', '%Y-%m-%d %H:%M:%S')\n",
    "date2 = datetime.datetime.today()\n",
    "\n",
    "print (date1)\n",
    "print((months_between(date1,date2)/12))"
   ]
  },
  {
   "cell_type": "code",
   "execution_count": null,
   "metadata": {},
   "outputs": [],
   "source": []
  }
 ],
 "metadata": {
  "kernelspec": {
   "display_name": "Python 3",
   "language": "python",
   "name": "python3"
  },
  "language_info": {
   "codemirror_mode": {
    "name": "ipython",
    "version": 3
   },
   "file_extension": ".py",
   "mimetype": "text/x-python",
   "name": "python",
   "nbconvert_exporter": "python",
   "pygments_lexer": "ipython3",
   "version": "3.7.0"
  }
 },
 "nbformat": 4,
 "nbformat_minor": 2
}
