{
 "cells": [
  {
   "cell_type": "code",
   "execution_count": 4,
   "metadata": {},
   "outputs": [
    {
     "name": "stdout",
     "output_type": "stream",
     "text": [
      "mkdir: output1: File exists\n",
      "mkdir: testdata1: File exists\n",
      "Collecting package metadata (current_repodata.json): done\n",
      "Solving environment: done\n",
      "\n",
      "# All requested packages already installed.\n",
      "\n"
     ]
    }
   ],
   "source": [
    "!mkdir output1\n",
    "!mkdir testdata1\n",
    "#This is needed when running it in azure because the FAKER module (needed to generate fake names)\n",
    "#is not readily available\n",
    "!conda install faker --yes\n"
   ]
  },
  {
   "cell_type": "code",
   "execution_count": 11,
   "metadata": {},
   "outputs": [],
   "source": [
    "import pandas as pd\n",
    "import random\n",
    "from faker import Faker"
   ]
  },
  {
   "cell_type": "code",
   "execution_count": 12,
   "metadata": {},
   "outputs": [],
   "source": [
    "number_of_transactions= 10000\n",
    "number_of_people=100"
   ]
  },
  {
   "cell_type": "code",
   "execution_count": 22,
   "metadata": {},
   "outputs": [
    {
     "name": "stdout",
     "output_type": "stream",
     "text": [
      "{1: ['Mr. Joshua Ochoa DDS', 1], 2: ['Julia Crawford', 1], 3: ['Vincent Simmons', 2], 4: ['Samantha Miller', 2], 5: ['Bridget Cowan', 4], 6: ['Daniel Adams', 4], 7: ['Mary Allen', 3], 8: ['Sandra Hernandez', 1], 9: ['Douglas Patton', 3], 10: ['Karen Anderson', 4]}\n"
     ]
    }
   ],
   "source": [
    "\n",
    "fake = Faker()\n",
    "def generate_namedict(number_of_people):\n",
    "    namelist=[]\n",
    "    for i in range(0,number_of_people):\n",
    "        try:\n",
    "            approver= random.randint(0,len(namelist)-1)+1\n",
    "        except:\n",
    "            approver=1\n",
    "        namelist.append([i+1,[fake.name(),approver]])      \n",
    "    return dict(namelist)\n",
    "\n",
    "\n",
    "print(generate_namedict(10))"
   ]
  },
  {
   "cell_type": "code",
   "execution_count": null,
   "metadata": {},
   "outputs": [],
   "source": [
    "\n",
    "def generate_line(namedict,d_start,d_end):    \n",
    "    person_id=random.choice[namedict.keys()]\n",
    "    person=namedict[person_id][0]\n",
    "    approver_id=namedict[person_id][2]\n",
    "    approver_name=namedict[approver_id]\n",
    "    #Date of the transatcion\n",
    "    date1= fake.date_time_between(start_date=d_start, end_date=d_end)     \n",
    "    date1_str = date1.strftime(\"%d-%m-%Y\")   \n",
    "    \n",
    "    d=max(0,np.random.normal(30,8,1)[0])\n",
    "    date2= date1+ datetime.timedelta(days=d)\n",
    "    date2_str = date2.strftime(\"%d-%m-%Y %H:%M:%S\")       \n",
    "    amountfp = abs(np.random.normal(20,8,1)[0])\n",
    "    amount= Decimal(str(amountfp)).quantize(Decimal('1.11'), rounding=ROUND_HALF_UP) \n",
    "    amount_str=str(amount)\n",
    "    line=[person_id,person,date1_str,amount_str,date2_str,person_ccentre,person_title,approver_id, description]\n",
    "    return line"
   ]
  },
  {
   "cell_type": "code",
   "execution_count": 13,
   "metadata": {},
   "outputs": [
    {
     "name": "stdout",
     "output_type": "stream",
     "text": [
      "['Karen Jordan', 'Terri Campbell', 'Derrick Anderson', 'Joe Kerr', 'Richard Johnson', 'Lauren Love', 'Edward Gonzales', 'Sarah Hendricks', 'Emily Barnes', 'Angela Gonzalez']\n"
     ]
    }
   ],
   "source": []
  },
  {
   "cell_type": "code",
   "execution_count": null,
   "metadata": {},
   "outputs": [],
   "source": []
  },
  {
   "cell_type": "code",
   "execution_count": null,
   "metadata": {},
   "outputs": [],
   "source": []
  },
  {
   "cell_type": "code",
   "execution_count": null,
   "metadata": {},
   "outputs": [],
   "source": []
  }
 ],
 "metadata": {
  "kernelspec": {
   "display_name": "Python 3",
   "language": "python",
   "name": "python3"
  },
  "language_info": {
   "codemirror_mode": {
    "name": "ipython",
    "version": 3
   },
   "file_extension": ".py",
   "mimetype": "text/x-python",
   "name": "python",
   "nbconvert_exporter": "python",
   "pygments_lexer": "ipython3",
   "version": "3.7.6"
  }
 },
 "nbformat": 4,
 "nbformat_minor": 4
}
