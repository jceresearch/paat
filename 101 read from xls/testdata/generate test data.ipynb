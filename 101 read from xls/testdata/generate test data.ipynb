{
 "cells": [
  {
   "cell_type": "code",
   "execution_count": 20,
   "metadata": {},
   "outputs": [
    {
     "name": "stdout",
     "output_type": "stream",
     "text": [
      "Collecting package metadata (current_repodata.json): done\n",
      "Solving environment: done\n",
      "\n",
      "# All requested packages already installed.\n",
      "\n"
     ]
    }
   ],
   "source": [
    "#This is needed when running it in azure because the FAKER module (needed to generate fake names)\n",
    "#is not readily available\n",
    "!conda install faker --yes\n"
   ]
  },
  {
   "cell_type": "code",
   "execution_count": 21,
   "metadata": {},
   "outputs": [],
   "source": [
    "import pandas as pd\n",
    "import random\n",
    "from faker import Faker\n",
    "fake = Faker()"
   ]
  },
  {
   "cell_type": "code",
   "execution_count": 18,
   "metadata": {},
   "outputs": [],
   "source": [
    "number_of_transactions= 10000\n",
    "number_of_people=100"
   ]
  },
  {
   "cell_type": "code",
   "execution_count": 19,
   "metadata": {},
   "outputs": [
    {
     "name": "stdout",
     "output_type": "stream",
     "text": [
      "{1: ['Shannon Richardson', 1], 2: ['Katherine Stevenson', 1], 3: ['Kimberly Simmons', 2], 4: ['Kenneth West', 3], 5: ['Jasmine Riddle', 1], 6: ['Valerie Jones', 3], 7: ['Whitney Dunn', 4], 8: ['Joseph Figueroa', 4], 9: ['Daniel Wheeler', 2], 10: ['Kari Thomas', 8]}\n"
     ]
    }
   ],
   "source": [
    "def generate_namedict(number_of_people):\n",
    "    namelist=[]\n",
    "    for i in range(0,number_of_people):\n",
    "        try:\n",
    "            approver= random.randint(0,len(namelist)-1)+1\n",
    "        except:\n",
    "            approver=1\n",
    "        namelist.append([i+1,[fake.name(),approver]])      \n",
    "    return dict(namelist)\n",
    "print(generate_namedict(10))"
   ]
  },
  {
   "cell_type": "code",
   "execution_count": 4,
   "metadata": {},
   "outputs": [],
   "source": [
    "def generate_line(namedict,d_start,d_end):    \n",
    "    person_id=random.choice[namedict.keys()]\n",
    "    person=namedict[person_id][0]\n",
    "    approver_id=namedict[person_id][2]\n",
    "    approver_name=namedict[approver_id]\n",
    "    #Date of the transatcion\n",
    "    date1= fake.date_time_between(start_date=d_start, end_date=d_end)     \n",
    "    date1_str = date1.strftime(\"%d-%m-%Y\")   \n",
    "    d=max(0,np.random.normal(30,8,1)[0])\n",
    "    date2= date1+ datetime.timedelta(days=d)\n",
    "    date2_str = date2.strftime(\"%d-%m-%Y %H:%M:%S\")       \n",
    "    amountfp = abs(np.random.normal(20,8,1)[0])\n",
    "    amount= Decimal(str(amountfp)).quantize(Decimal('1.11'), rounding=ROUND_HALF_UP) \n",
    "    amount_str=str(amount)\n",
    "    line=[person_id,person,date1_str,amount_str,date2_str,person_ccentre,person_title,approver_id, description]\n",
    "    return line"
   ]
  },
  {
   "cell_type": "code",
   "execution_count": null,
   "metadata": {},
   "outputs": [],
   "source": []
  },
  {
   "cell_type": "code",
   "execution_count": 15,
   "metadata": {},
   "outputs": [],
   "source": [
    "mu=10\n",
    "from scipy.stats import poisson\n",
    "import matplotlib.pyplot as plt\n"
   ]
  },
  {
   "cell_type": "code",
   "execution_count": 16,
   "metadata": {},
   "outputs": [
    {
     "data": {
      "text/plain": [
       "array([ 5,  9,  9, 10, 13,  8,  8, 12,  8,  9,  5,  5, 16, 14,  9, 10,  8,\n",
       "        7, 15, 12,  8,  9,  9,  9, 17,  9,  9, 12, 15,  8,  3,  9,  6,  8,\n",
       "       10, 15,  9,  4,  9,  7])"
      ]
     },
     "execution_count": 16,
     "metadata": {},
     "output_type": "execute_result"
    }
   ],
   "source": [
    "r=poisson.rvs(mu, size=40)\n",
    "r"
   ]
  },
  {
   "cell_type": "code",
   "execution_count": null,
   "metadata": {},
   "outputs": [],
   "source": []
  }
 ],
 "metadata": {
  "kernelspec": {
   "display_name": "Python 3",
   "language": "python",
   "name": "python3"
  },
  "language_info": {
   "codemirror_mode": {
    "name": "ipython",
    "version": 3
   },
   "file_extension": ".py",
   "mimetype": "text/x-python",
   "name": "python",
   "nbconvert_exporter": "python",
   "pygments_lexer": "ipython3",
   "version": "3.7.6"
  }
 },
 "nbformat": 4,
 "nbformat_minor": 4
}
