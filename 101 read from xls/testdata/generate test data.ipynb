{
 "cells": [
  {
   "cell_type": "code",
   "execution_count": 20,
   "metadata": {},
   "outputs": [
    {
     "name": "stdout",
     "output_type": "stream",
     "text": [
      "Collecting package metadata (current_repodata.json): done\n",
      "Solving environment: done\n",
      "\n",
      "# All requested packages already installed.\n",
      "\n"
     ]
    }
   ],
   "source": [
    "#This is needed when running it in azure because the FAKER module (needed to generate fake names)\n",
    "#is not readily available\n",
    "!conda install faker --yes\n"
   ]
  },
  {
   "cell_type": "code",
   "execution_count": 1,
   "metadata": {},
   "outputs": [],
   "source": [
    "import pandas as pd\n",
    "import random\n",
    "import numpy as np\n",
    "import datetime \n",
    "from faker import Faker\n",
    "fake = Faker()"
   ]
  },
  {
   "cell_type": "code",
   "execution_count": 2,
   "metadata": {},
   "outputs": [],
   "source": [
    "number_of_transactions= 10000\n",
    "number_of_people=100\n",
    "d_end= datetime.datetime.now()\n",
    "d_start=d_end- datetime.timedelta(days=180)\n",
    "\n"
   ]
  },
  {
   "cell_type": "code",
   "execution_count": 3,
   "metadata": {},
   "outputs": [
    {
     "data": {
      "text/plain": [
       "{1: ['Collin Underwood', 1],\n",
       " 2: ['Kristi Alvarez', 1],\n",
       " 3: ['Shelley Brooks', 2],\n",
       " 4: ['Rhonda Perez', 3],\n",
       " 5: ['Rodney Faulkner', 3],\n",
       " 6: ['Alexander Dennis', 5],\n",
       " 7: ['Kara Parker', 3],\n",
       " 8: ['Laura Harper', 6],\n",
       " 9: ['Jackson Hayes', 8],\n",
       " 10: ['Tyler Fields', 2]}"
      ]
     },
     "execution_count": 3,
     "metadata": {},
     "output_type": "execute_result"
    }
   ],
   "source": [
    "def generate_namedict(number_of_people):\n",
    "    namelist=[]\n",
    "    for i in range(0,number_of_people):\n",
    "        try:\n",
    "            approver= random.randint(0,len(namelist)-1)+1\n",
    "        except:\n",
    "            approver=1\n",
    "        namelist.append([i+1,[fake.name(),approver]])      \n",
    "    return dict(namelist)\n",
    "namedict=generate_namedict(10)\n",
    "namedict"
   ]
  },
  {
   "cell_type": "code",
   "execution_count": 4,
   "metadata": {},
   "outputs": [
    {
     "data": {
      "text/plain": [
       "5"
      ]
     },
     "execution_count": 4,
     "metadata": {},
     "output_type": "execute_result"
    }
   ],
   "source": [
    "k=namedict.keys()\n",
    "l=list(k)\n",
    "random.choice(l)"
   ]
  },
  {
   "cell_type": "code",
   "execution_count": 9,
   "metadata": {},
   "outputs": [],
   "source": [
    "def generate_line(namedict,d_start,d_end):    \n",
    "    person_id=random.choice(list(namedict.keys()))\n",
    "    person=namedict[person_id][0]\n",
    "    approver_id=namedict[person_id][1]\n",
    "    approver_name=namedict[approver_id]\n",
    "    #Date of the transatcion\n",
    "    date1= fake.date_time_between(start_date=d_start, end_date=d_end)     \n",
    "    date1_str = date1.strftime(\"%d-%m-%Y\")   \n",
    "    d=max(0,np.random.normal(30,8,1)[0])\n",
    "    date2= date1+ datetime.timedelta(days=d)\n",
    "    date2_str = date2.strftime(\"%d-%m-%Y %H:%M:%S\")       \n",
    "    amountfp = abs(np.random.normal(20,8,1)[0])\n",
    "    amount= Decimal(str(amountfp)).quantize(Decimal('1.11'), rounding=ROUND_HALF_UP) \n",
    "    amount_str=str(amount)\n",
    "    line=[person_id,person,date1_str,amount_str,date2_str,person_ccentre,person_title,approver_id, description]\n",
    "    return line"
   ]
  },
  {
   "cell_type": "code",
   "execution_count": 10,
   "metadata": {},
   "outputs": [
    {
     "ename": "NameError",
     "evalue": "name 'Decimal' is not defined",
     "output_type": "error",
     "traceback": [
      "\u001b[0;31m---------------------------------------------------------------------------\u001b[0m",
      "\u001b[0;31mNameError\u001b[0m                                 Traceback (most recent call last)",
      "\u001b[0;32m<ipython-input-10-48ac1d9c91ef>\u001b[0m in \u001b[0;36m<module>\u001b[0;34m\u001b[0m\n\u001b[0;32m----> 1\u001b[0;31m \u001b[0mgenerate_line\u001b[0m\u001b[0;34m(\u001b[0m\u001b[0mnamedict\u001b[0m\u001b[0;34m,\u001b[0m \u001b[0md_start\u001b[0m\u001b[0;34m,\u001b[0m\u001b[0md_end\u001b[0m\u001b[0;34m)\u001b[0m\u001b[0;34m\u001b[0m\u001b[0m\n\u001b[0m",
      "\u001b[0;32m<ipython-input-9-6aeb8ded8a14>\u001b[0m in \u001b[0;36mgenerate_line\u001b[0;34m(namedict, d_start, d_end)\u001b[0m\n\u001b[1;32m     11\u001b[0m     \u001b[0mdate2_str\u001b[0m \u001b[0;34m=\u001b[0m \u001b[0mdate2\u001b[0m\u001b[0;34m.\u001b[0m\u001b[0mstrftime\u001b[0m\u001b[0;34m(\u001b[0m\u001b[0;34m\"%d-%m-%Y %H:%M:%S\"\u001b[0m\u001b[0;34m)\u001b[0m\u001b[0;34m\u001b[0m\u001b[0m\n\u001b[1;32m     12\u001b[0m     \u001b[0mamountfp\u001b[0m \u001b[0;34m=\u001b[0m \u001b[0mabs\u001b[0m\u001b[0;34m(\u001b[0m\u001b[0mnp\u001b[0m\u001b[0;34m.\u001b[0m\u001b[0mrandom\u001b[0m\u001b[0;34m.\u001b[0m\u001b[0mnormal\u001b[0m\u001b[0;34m(\u001b[0m\u001b[0;36m20\u001b[0m\u001b[0;34m,\u001b[0m\u001b[0;36m8\u001b[0m\u001b[0;34m,\u001b[0m\u001b[0;36m1\u001b[0m\u001b[0;34m)\u001b[0m\u001b[0;34m[\u001b[0m\u001b[0;36m0\u001b[0m\u001b[0;34m]\u001b[0m\u001b[0;34m)\u001b[0m\u001b[0;34m\u001b[0m\u001b[0m\n\u001b[0;32m---> 13\u001b[0;31m     \u001b[0mamount\u001b[0m\u001b[0;34m=\u001b[0m \u001b[0mDecimal\u001b[0m\u001b[0;34m(\u001b[0m\u001b[0mstr\u001b[0m\u001b[0;34m(\u001b[0m\u001b[0mamountfp\u001b[0m\u001b[0;34m)\u001b[0m\u001b[0;34m)\u001b[0m\u001b[0;34m.\u001b[0m\u001b[0mquantize\u001b[0m\u001b[0;34m(\u001b[0m\u001b[0mDecimal\u001b[0m\u001b[0;34m(\u001b[0m\u001b[0;34m'1.11'\u001b[0m\u001b[0;34m)\u001b[0m\u001b[0;34m,\u001b[0m \u001b[0mrounding\u001b[0m\u001b[0;34m=\u001b[0m\u001b[0mROUND_HALF_UP\u001b[0m\u001b[0;34m)\u001b[0m\u001b[0;34m\u001b[0m\u001b[0m\n\u001b[0m\u001b[1;32m     14\u001b[0m     \u001b[0mamount_str\u001b[0m\u001b[0;34m=\u001b[0m\u001b[0mstr\u001b[0m\u001b[0;34m(\u001b[0m\u001b[0mamount\u001b[0m\u001b[0;34m)\u001b[0m\u001b[0;34m\u001b[0m\u001b[0m\n\u001b[1;32m     15\u001b[0m     \u001b[0mline\u001b[0m\u001b[0;34m=\u001b[0m\u001b[0;34m[\u001b[0m\u001b[0mperson_id\u001b[0m\u001b[0;34m,\u001b[0m\u001b[0mperson\u001b[0m\u001b[0;34m,\u001b[0m\u001b[0mdate1_str\u001b[0m\u001b[0;34m,\u001b[0m\u001b[0mamount_str\u001b[0m\u001b[0;34m,\u001b[0m\u001b[0mdate2_str\u001b[0m\u001b[0;34m,\u001b[0m\u001b[0mperson_ccentre\u001b[0m\u001b[0;34m,\u001b[0m\u001b[0mperson_title\u001b[0m\u001b[0;34m,\u001b[0m\u001b[0mapprover_id\u001b[0m\u001b[0;34m,\u001b[0m \u001b[0mdescription\u001b[0m\u001b[0;34m]\u001b[0m\u001b[0;34m\u001b[0m\u001b[0m\n",
      "\u001b[0;31mNameError\u001b[0m: name 'Decimal' is not defined"
     ]
    }
   ],
   "source": [
    "generate_line(namedict, d_start,d_end)"
   ]
  },
  {
   "cell_type": "code",
   "execution_count": 36,
   "metadata": {},
   "outputs": [
    {
     "ename": "TypeError",
     "evalue": "'method' object is not subscriptable",
     "output_type": "error",
     "traceback": [
      "\u001b[0;31m---------------------------------------------------------------------------\u001b[0m",
      "\u001b[0;31mTypeError\u001b[0m                                 Traceback (most recent call last)",
      "\u001b[0;32m<ipython-input-36-924f882738f4>\u001b[0m in \u001b[0;36m<module>\u001b[0;34m\u001b[0m\n\u001b[1;32m      1\u001b[0m \u001b[0mlist\u001b[0m\u001b[0;34m=\u001b[0m\u001b[0;34m[\u001b[0m\u001b[0;34m]\u001b[0m\u001b[0;34m\u001b[0m\u001b[0m\n\u001b[1;32m      2\u001b[0m \u001b[0;32mfor\u001b[0m \u001b[0mn\u001b[0m \u001b[0;32min\u001b[0m \u001b[0mrange\u001b[0m\u001b[0;34m(\u001b[0m\u001b[0mnumber_of_transactions\u001b[0m\u001b[0;34m)\u001b[0m\u001b[0;34m:\u001b[0m\u001b[0;34m\u001b[0m\u001b[0m\n\u001b[0;32m----> 3\u001b[0;31m     \u001b[0mlist\u001b[0m\u001b[0;34m.\u001b[0m\u001b[0mappend\u001b[0m\u001b[0;34m(\u001b[0m\u001b[0mgenerate_line\u001b[0m\u001b[0;34m(\u001b[0m\u001b[0mnamedict\u001b[0m\u001b[0;34m,\u001b[0m\u001b[0md_start\u001b[0m\u001b[0;34m,\u001b[0m\u001b[0md_end\u001b[0m\u001b[0;34m)\u001b[0m\u001b[0;34m)\u001b[0m\u001b[0;34m\u001b[0m\u001b[0m\n\u001b[0m\u001b[1;32m      4\u001b[0m \u001b[0mlist\u001b[0m\u001b[0;34m\u001b[0m\u001b[0m\n",
      "\u001b[0;32m<ipython-input-4-ec923fab8b36>\u001b[0m in \u001b[0;36mgenerate_line\u001b[0;34m(namedict, d_start, d_end)\u001b[0m\n\u001b[1;32m      1\u001b[0m \u001b[0;32mdef\u001b[0m \u001b[0mgenerate_line\u001b[0m\u001b[0;34m(\u001b[0m\u001b[0mnamedict\u001b[0m\u001b[0;34m,\u001b[0m\u001b[0md_start\u001b[0m\u001b[0;34m,\u001b[0m\u001b[0md_end\u001b[0m\u001b[0;34m)\u001b[0m\u001b[0;34m:\u001b[0m\u001b[0;34m\u001b[0m\u001b[0m\n\u001b[0;32m----> 2\u001b[0;31m     \u001b[0mperson_id\u001b[0m\u001b[0;34m=\u001b[0m\u001b[0mrandom\u001b[0m\u001b[0;34m.\u001b[0m\u001b[0mchoice\u001b[0m\u001b[0;34m[\u001b[0m\u001b[0mnamedict\u001b[0m\u001b[0;34m.\u001b[0m\u001b[0mkeys\u001b[0m\u001b[0;34m(\u001b[0m\u001b[0;34m)\u001b[0m\u001b[0;34m]\u001b[0m\u001b[0;34m\u001b[0m\u001b[0m\n\u001b[0m\u001b[1;32m      3\u001b[0m     \u001b[0mperson\u001b[0m\u001b[0;34m=\u001b[0m\u001b[0mnamedict\u001b[0m\u001b[0;34m[\u001b[0m\u001b[0mperson_id\u001b[0m\u001b[0;34m]\u001b[0m\u001b[0;34m[\u001b[0m\u001b[0;36m0\u001b[0m\u001b[0;34m]\u001b[0m\u001b[0;34m\u001b[0m\u001b[0m\n\u001b[1;32m      4\u001b[0m     \u001b[0mapprover_id\u001b[0m\u001b[0;34m=\u001b[0m\u001b[0mnamedict\u001b[0m\u001b[0;34m[\u001b[0m\u001b[0mperson_id\u001b[0m\u001b[0;34m]\u001b[0m\u001b[0;34m[\u001b[0m\u001b[0;36m2\u001b[0m\u001b[0;34m]\u001b[0m\u001b[0;34m\u001b[0m\u001b[0m\n\u001b[1;32m      5\u001b[0m     \u001b[0mapprover_name\u001b[0m\u001b[0;34m=\u001b[0m\u001b[0mnamedict\u001b[0m\u001b[0;34m[\u001b[0m\u001b[0mapprover_id\u001b[0m\u001b[0;34m]\u001b[0m\u001b[0;34m\u001b[0m\u001b[0m\n",
      "\u001b[0;31mTypeError\u001b[0m: 'method' object is not subscriptable"
     ]
    }
   ],
   "source": [
    "rows=[]\n",
    "for n in range(number_of_transactions):\n",
    "    rows.append(generate_line(namedict,d_start,d_end))\n",
    "rows         \n"
   ]
  },
  {
   "cell_type": "code",
   "execution_count": null,
   "metadata": {},
   "outputs": [],
   "source": [
    "cols=[f'Field{i}' for i in range(1, len(list))]\n",
    "print (cols)\n",
    "df= pd.DataFrame.from_records(list,columns=cols)\n",
    "df"
   ]
  },
  {
   "cell_type": "code",
   "execution_count": 15,
   "metadata": {},
   "outputs": [],
   "source": [
    "mu=10\n",
    "from scipy.stats import poisson\n",
    "import matplotlib.pyplot as plt\n"
   ]
  },
  {
   "cell_type": "code",
   "execution_count": 16,
   "metadata": {},
   "outputs": [
    {
     "data": {
      "text/plain": [
       "array([ 5,  9,  9, 10, 13,  8,  8, 12,  8,  9,  5,  5, 16, 14,  9, 10,  8,\n",
       "        7, 15, 12,  8,  9,  9,  9, 17,  9,  9, 12, 15,  8,  3,  9,  6,  8,\n",
       "       10, 15,  9,  4,  9,  7])"
      ]
     },
     "execution_count": 16,
     "metadata": {},
     "output_type": "execute_result"
    }
   ],
   "source": [
    "r=poisson.rvs(mu, size=40)\n",
    "r"
   ]
  },
  {
   "cell_type": "code",
   "execution_count": null,
   "metadata": {},
   "outputs": [],
   "source": []
  }
 ],
 "metadata": {
  "kernelspec": {
   "display_name": "Python 3",
   "language": "python",
   "name": "python3"
  },
  "language_info": {
   "codemirror_mode": {
    "name": "ipython",
    "version": 3
   },
   "file_extension": ".py",
   "mimetype": "text/x-python",
   "name": "python",
   "nbconvert_exporter": "python",
   "pygments_lexer": "ipython3",
   "version": "3.6.6+"
  }
 },
 "nbformat": 4,
 "nbformat_minor": 4
}
