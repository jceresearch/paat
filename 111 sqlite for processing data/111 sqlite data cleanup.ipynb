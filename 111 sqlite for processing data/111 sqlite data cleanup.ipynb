{
 "cells": [
  {
   "cell_type": "code",
   "execution_count": 9,
   "metadata": {},
   "outputs": [],
   "source": [
    "import sqlite3\n",
    "from sqlite3 import Error\n",
    "def sql_connection():\n",
    "    try:\n",
    "        con = sqlite3.connect(':memory:')\n",
    "        print(\"Connection is established: Database is created in memory\")\n",
    "        return con\n",
    "    except Error:\n",
    "        print(Error)\n"
   ]
  },
  {
   "cell_type": "code",
   "execution_count": 10,
   "metadata": {},
   "outputs": [
    {
     "name": "stdout",
     "output_type": "stream",
     "text": [
      "Connection is established: Database is created in memory\n"
     ]
    }
   ],
   "source": [
    "def sql_table(con):\n",
    "    cursorObj = con.cursor()\n",
    "    cursorObj.execute(\"CREATE TABLE employees(id integer PRIMARY KEY, name text, salary real, department text, position text, hireDate text)\")\n",
    "    con.commit()\n",
    "\n",
    "con = sql_connection()\n",
    "sql_table(con)"
   ]
  },
  {
   "cell_type": "code",
   "execution_count": null,
   "metadata": {},
   "outputs": [],
   "source": []
  }
 ],
 "metadata": {
  "kernelspec": {
   "display_name": "Python 3",
   "language": "python",
   "name": "python3"
  },
  "language_info": {
   "codemirror_mode": {
    "name": "ipython",
    "version": 3
   },
   "file_extension": ".py",
   "mimetype": "text/x-python",
   "name": "python",
   "nbconvert_exporter": "python",
   "pygments_lexer": "ipython3",
   "version": "3.6.6+"
  }
 },
 "nbformat": 4,
 "nbformat_minor": 2
}
