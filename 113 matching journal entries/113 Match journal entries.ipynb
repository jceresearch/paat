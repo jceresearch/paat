{
 "cells": [
  {
   "cell_type": "code",
   "execution_count": 8,
   "metadata": {},
   "outputs": [
    {
     "data": {
      "text/html": [
       "<div>\n",
       "<style scoped>\n",
       "    .dataframe tbody tr th:only-of-type {\n",
       "        vertical-align: middle;\n",
       "    }\n",
       "\n",
       "    .dataframe tbody tr th {\n",
       "        vertical-align: top;\n",
       "    }\n",
       "\n",
       "    .dataframe thead th {\n",
       "        text-align: right;\n",
       "    }\n",
       "</style>\n",
       "<table border=\"1\" class=\"dataframe\">\n",
       "  <thead>\n",
       "    <tr style=\"text-align: right;\">\n",
       "      <th></th>\n",
       "      <th>id</th>\n",
       "      <th>line</th>\n",
       "      <th>account</th>\n",
       "      <th>date_trans</th>\n",
       "      <th>date_entry</th>\n",
       "      <th>dc</th>\n",
       "      <th>amount</th>\n",
       "      <th>seed</th>\n",
       "    </tr>\n",
       "  </thead>\n",
       "  <tbody>\n",
       "    <tr>\n",
       "      <th>0</th>\n",
       "      <td>1</td>\n",
       "      <td>1</td>\n",
       "      <td>18</td>\n",
       "      <td>2020-07-01</td>\n",
       "      <td>2020-07-04</td>\n",
       "      <td>C</td>\n",
       "      <td>-34278.37</td>\n",
       "      <td>0</td>\n",
       "    </tr>\n",
       "    <tr>\n",
       "      <th>1</th>\n",
       "      <td>1</td>\n",
       "      <td>2</td>\n",
       "      <td>6</td>\n",
       "      <td>2020-07-01</td>\n",
       "      <td>2020-07-04</td>\n",
       "      <td>D</td>\n",
       "      <td>26341.71</td>\n",
       "      <td>0</td>\n",
       "    </tr>\n",
       "    <tr>\n",
       "      <th>2</th>\n",
       "      <td>1</td>\n",
       "      <td>3</td>\n",
       "      <td>17</td>\n",
       "      <td>2020-07-01</td>\n",
       "      <td>2020-07-04</td>\n",
       "      <td>D</td>\n",
       "      <td>7936.66</td>\n",
       "      <td>0</td>\n",
       "    </tr>\n",
       "    <tr>\n",
       "      <th>3</th>\n",
       "      <td>2</td>\n",
       "      <td>1</td>\n",
       "      <td>16</td>\n",
       "      <td>2020-07-02</td>\n",
       "      <td>2020-07-04</td>\n",
       "      <td>C</td>\n",
       "      <td>-11525.70</td>\n",
       "      <td>0</td>\n",
       "    </tr>\n",
       "    <tr>\n",
       "      <th>4</th>\n",
       "      <td>2</td>\n",
       "      <td>2</td>\n",
       "      <td>1</td>\n",
       "      <td>2020-07-02</td>\n",
       "      <td>2020-07-04</td>\n",
       "      <td>D</td>\n",
       "      <td>11525.70</td>\n",
       "      <td>0</td>\n",
       "    </tr>\n",
       "    <tr>\n",
       "      <th>5</th>\n",
       "      <td>3</td>\n",
       "      <td>1</td>\n",
       "      <td>12</td>\n",
       "      <td>2020-07-04</td>\n",
       "      <td>2020-07-04</td>\n",
       "      <td>C</td>\n",
       "      <td>-19091.40</td>\n",
       "      <td>0</td>\n",
       "    </tr>\n",
       "    <tr>\n",
       "      <th>6</th>\n",
       "      <td>3</td>\n",
       "      <td>2</td>\n",
       "      <td>10</td>\n",
       "      <td>2020-07-04</td>\n",
       "      <td>2020-07-04</td>\n",
       "      <td>D</td>\n",
       "      <td>39214.51</td>\n",
       "      <td>0</td>\n",
       "    </tr>\n",
       "    <tr>\n",
       "      <th>7</th>\n",
       "      <td>4</td>\n",
       "      <td>1</td>\n",
       "      <td>19</td>\n",
       "      <td>2020-07-01</td>\n",
       "      <td>2020-07-05</td>\n",
       "      <td>C</td>\n",
       "      <td>-43888.82</td>\n",
       "      <td>0</td>\n",
       "    </tr>\n",
       "    <tr>\n",
       "      <th>8</th>\n",
       "      <td>4</td>\n",
       "      <td>2</td>\n",
       "      <td>18</td>\n",
       "      <td>2020-07-01</td>\n",
       "      <td>2020-07-05</td>\n",
       "      <td>D</td>\n",
       "      <td>45922.77</td>\n",
       "      <td>0</td>\n",
       "    </tr>\n",
       "    <tr>\n",
       "      <th>9</th>\n",
       "      <td>4</td>\n",
       "      <td>3</td>\n",
       "      <td>4</td>\n",
       "      <td>2020-07-01</td>\n",
       "      <td>2020-07-05</td>\n",
       "      <td>D</td>\n",
       "      <td>42045.58</td>\n",
       "      <td>0</td>\n",
       "    </tr>\n",
       "  </tbody>\n",
       "</table>\n",
       "</div>"
      ],
      "text/plain": [
       "   id  line  account date_trans date_entry dc    amount  seed\n",
       "0   1     1       18 2020-07-01 2020-07-04  C -34278.37     0\n",
       "1   1     2        6 2020-07-01 2020-07-04  D  26341.71     0\n",
       "2   1     3       17 2020-07-01 2020-07-04  D   7936.66     0\n",
       "3   2     1       16 2020-07-02 2020-07-04  C -11525.70     0\n",
       "4   2     2        1 2020-07-02 2020-07-04  D  11525.70     0\n",
       "5   3     1       12 2020-07-04 2020-07-04  C -19091.40     0\n",
       "6   3     2       10 2020-07-04 2020-07-04  D  39214.51     0\n",
       "7   4     1       19 2020-07-01 2020-07-05  C -43888.82     0\n",
       "8   4     2       18 2020-07-01 2020-07-05  D  45922.77     0\n",
       "9   4     3        4 2020-07-01 2020-07-05  D  42045.58     0"
      ]
     },
     "execution_count": 8,
     "metadata": {},
     "output_type": "execute_result"
    }
   ],
   "source": [
    "import pandas as pd\n",
    "df=pd.read_excel(\"data.xlsx\")\n",
    "df[0:10]\n"
   ]
  },
  {
   "cell_type": "code",
   "execution_count": 9,
   "metadata": {},
   "outputs": [],
   "source": [
    "field_to_check='amount'\n",
    "list_to_check=df[field_to_check].to_list()\n",
    "initial_positions=list(range(len(list_to_check)))\n",
    "matched=[False for n in initial_positions]\n",
    "matching_ref=[[] for n in initial_positions]\n",
    "tuples=list(zip(df.index,df[field_to_check]))\n",
    "debs_pos=[x[0] for x in tuples if x[1] > 0]\n",
    "debs_amt=[x[1] for x in tuples if x[1] > 0]\n",
    "creds_pos=[x[0] for x in tuples if x[1] < 0]\n",
    "creds_amt=[x[1] for x in tuples if x[1] < 0]"
   ]
  },
  {
   "cell_type": "code",
   "execution_count": 10,
   "metadata": {},
   "outputs": [],
   "source": [
    "def check_match_list():\n",
    "    running=0\n",
    "    for n in match_list:\n",
    "        tot=0\n",
    "        for m in n:\n",
    "            for v in m:\n",
    "                tot=tot+df.iloc[v]['amount']\n",
    "        if round(tot,1)==0:\n",
    "            running=running+1\n",
    "    print(running,len(match_list))\n"
   ]
  },
  {
   "cell_type": "code",
   "execution_count": 11,
   "metadata": {},
   "outputs": [
    {
     "data": {
      "text/plain": [
       "(2, 200, 3)"
      ]
     },
     "execution_count": 11,
     "metadata": {},
     "output_type": "execute_result"
    }
   ],
   "source": [
    "def find_possible_matches(v,list_amounts,ref=\"\", list_refs=[],amount_tolerance=0.005):\n",
    "    matches=[]\n",
    "    pos=[]\n",
    "    ref=[]\n",
    "    for i, w in enumerate(list_amounts):\n",
    "        if abs(v-w) <= amount_tolerance:\n",
    "            matches.append(w)\n",
    "            pos.append(i)\n",
    "            try:\n",
    "                ref.append(list_refs[i])\n",
    "            except:\n",
    "                ref.append(\"\")\n",
    "    if len(matches)==1:\n",
    "        return pos[0], matches[0], 1\n",
    "    if len(matches)==0:\n",
    "        return False, False, False\n",
    "    if len(matches)>1:\n",
    "        return pos[0], matches[0], len(matches)  \n",
    "        #here we would develop something to choose, either least tolerance, or first/last \n",
    "        # or using regexp to select based on a potential reference field\n",
    "    \n",
    "test=[1,3,200,100,1,3,200.01,200.001, 200.0001]\n",
    "find_possible_matches(200,test)\n",
    "    \n",
    "    "
   ]
  },
  {
   "cell_type": "code",
   "execution_count": 12,
   "metadata": {},
   "outputs": [
    {
     "data": {
      "text/plain": [
       "[[[4], [3]], [[192], [30]], [[193], [31]], [[194], [32]]]"
      ]
     },
     "execution_count": 12,
     "metadata": {},
     "output_type": "execute_result"
    }
   ],
   "source": [
    "\n",
    "match_list=[]\n",
    "for i, row in df.iterrows():\n",
    "    v=row[field_to_check]\n",
    "    if v<0: #it is a credit, we search for debits that match\n",
    "        try:      \n",
    "            pos_deb, matched_value, matches_count =find_possible_matches(-v, debs_amt) #debs_amt.index(-v)\n",
    "            if pos_deb==False:\n",
    "                continue\n",
    "            pos_cred=creds_pos.index(i)\n",
    "            matched[debs_pos[pos_deb]]=True\n",
    "            matched[i]=True\n",
    "            matching_ref[debs_pos[pos_deb]]=[i]\n",
    "            matching_ref[i]=[debs_pos[pos_deb]]\n",
    "            match_list.append([[debs_pos[pos_deb]],[i]])\n",
    "            debs_pos.pop(pos_deb)\n",
    "            debs_amt.pop(pos_deb)         \n",
    "            creds_pos.pop(pos_cred)\n",
    "            creds_amt.pop(pos_cred)\n",
    "        except Exception as e:\n",
    "            if type(e).__name__ == 'ValueError':\n",
    "                pass\n",
    "            else:\n",
    "                print(e)\n",
    "                break\n",
    "    else:\n",
    "        try:\n",
    "            pos_cred, matched_value, matches_count=find_possible_matches(-v, creds_amt) # creds_amt.index(-v)          \n",
    "            if pos_cred==False:\n",
    "                continue\n",
    "            pos_deb=debs_pos.index(i)\n",
    "            matched[i]=True\n",
    "            matched[creds_pos[pos_cred]]=True\n",
    "            matching_ref[creds_pos[pos_cred]]=[i]\n",
    "            matching_ref[i]=[creds_pos[pos_cred]]\n",
    "            match_list.append([[i],[creds_pos[pos_cred]]])\n",
    "            debs_pos.pop(pos_deb)\n",
    "            debs_amt.pop(pos_deb)         \n",
    "            creds_pos.pop(pos_cred)\n",
    "            creds_amt.pop(pos_cred)\n",
    "            \n",
    "        except Exception as e:\n",
    "            if type(e).__name__ == 'ValueError':\n",
    "                pass\n",
    "            else:\n",
    "                print(e)\n",
    "                break\n",
    "        \n",
    "\n",
    "        \n",
    "match_list[0:4]"
   ]
  },
  {
   "cell_type": "code",
   "execution_count": 13,
   "metadata": {},
   "outputs": [
    {
     "name": "stdout",
     "output_type": "stream",
     "text": [
      "1162 1162\n"
     ]
    }
   ],
   "source": [
    "check_match_list()"
   ]
  },
  {
   "cell_type": "code",
   "execution_count": 14,
   "metadata": {},
   "outputs": [
    {
     "name": "stdout",
     "output_type": "stream",
     "text": [
      "1365\n",
      "1065\n"
     ]
    }
   ],
   "source": [
    "print(len(debs_pos))\n",
    "print(len(creds_pos))\n"
   ]
  },
  {
   "cell_type": "code",
   "execution_count": 15,
   "metadata": {},
   "outputs": [],
   "source": [
    "from itertools import combinations\n",
    "deb_perm_list=list(combinations(debs_pos,2))\n",
    "cred_perm_list=list(combinations(creds_pos,2))\n"
   ]
  },
  {
   "cell_type": "code",
   "execution_count": 16,
   "metadata": {},
   "outputs": [],
   "source": [
    "deb_perm_list_sum=[]\n",
    "for x in deb_perm_list:\n",
    "    try:   \n",
    "        deb_perm_list_sum.append(round(list_to_check[x[0]]+list_to_check[x[1]],2))\n",
    "    except:\n",
    "        print(\"Error with \", x)\n",
    "        break\n",
    "cred_perm_list_sum=[]\n",
    "for x in cred_perm_list:\n",
    "    try:   \n",
    "        cred_perm_list_sum.append(round(list_to_check[x[0]]+list_to_check[x[1]],2))\n",
    "    except:\n",
    "        print(\"Error with \", x)\n",
    "        break\n"
   ]
  },
  {
   "cell_type": "code",
   "execution_count": 17,
   "metadata": {},
   "outputs": [],
   "source": [
    "for i, row in df.iterrows():\n",
    "    if matched[i]==False:\n",
    "        v= row[field_to_check]\n",
    "        if v<0:\n",
    "            try:\n",
    "                #here we search the credit in the list of combinations of debits taken by 2, summed\n",
    "                pos_deb=deb_perm_list_sum.index(-v) \n",
    "                #if not found it raises a ValueError jumping to the exception: so we found something\n",
    "                matched[i]=True\n",
    "                matched[deb_perm_list[pos_deb][0]]=True\n",
    "                matched[deb_perm_list[pos_deb][1]]=True            \n",
    "                matching_ref[i]=deb_perm_list[pos_deb] # adds a tuple\n",
    "                matching_ref[deb_perm_list[pos_deb][0]]= [pos_cred]\n",
    "                matching_ref[deb_perm_list[pos_deb][1]]= [pos_cred]                 \n",
    "                match_list.append([list(deb_perm_list[pos_deb]),[pos_cred]])\n",
    "                \n",
    "                #we remove the matched elements from the list of sums and their pointers \n",
    "                deb_perm_list_sum.pop(pos_deb)\n",
    "                deb_perm_list.pop(pos_deb)\n",
    "                \n",
    "                debs_pointer1=debs_pos.index(deb_perm_list[pos_deb][0])\n",
    "                debs_pos.pop(debs_pointer1)\n",
    "                debs_amt.pop(debs_pointer1)\n",
    "                \n",
    "                debs_pointer2=debs_pos.index(deb_perm_list[pos_deb][1])\n",
    "                debs_pos.pop(debs_pointer2)\n",
    "                debs_amt.pop(debs_pointer2)\n",
    "                \n",
    "                creds_pointer=creds_pos.index(i)\n",
    "                creds_pos.pop(creds_pointer)\n",
    "                creds_amt.pop(creds_pointer)\n",
    "                \n",
    "                \n",
    "                \n",
    "            except Exception as e:\n",
    "                if type(e).__name__ == 'ValueError':\n",
    "                    pass\n",
    "                else:\n",
    "                    print(e)\n",
    "                    break\n",
    "                \n",
    "        else:\n",
    "            try:\n",
    "                pos_cred=cred_perm_list_sum.index(-v) #a list/ pair!!!!\n",
    "                pos_deb=i #this time the position is with respect to the main list   \n",
    "                matched[pos_deb]=True\n",
    "                matched[cred_perm_list[pos_cred][0]]=True\n",
    "                matched[cred_perm_list[pos_cred][1]]=True         \n",
    "                matching_ref[pos_deb]=cred_perm_list[pos_cred] \n",
    "                matching_ref[cred_perm_list[pos_cred][0]]= [pos_deb]\n",
    "                matching_ref[cred_perm_list[pos_cred][1]]= [pos_deb]                \n",
    "                match_list.append([[pos_deb], list(cred_perm_list[pos_cred])])\n",
    "                cred_perm_list_sum.pop(pos_cred)\n",
    "                cred_perm_list.pop(pos_cred)\n",
    "                \n",
    "                creds_pointer1=creds_pos.index(cred_perm_list[pos_cred][0])\n",
    "                creds_pos.pop(creds_pointer1)\n",
    "                creds_amt.pop(creds_pointer1)\n",
    "                \n",
    "                creds_pointer2=creds_pos.index(cred_perm_list[pos_cred][1])\n",
    "                creds_pos.pop(creds_pointer2)\n",
    "                creds_amt.pop(creds_pointer2)\n",
    "                \n",
    "                debs_pointer=debs_pos.index(i)\n",
    "                debs_pos.pop(debs_pointer)\n",
    "                debs_amt.pop(debs_pointer)\n",
    "                \n",
    "                \n",
    "                \n",
    "            except Exception as e:\n",
    "                if type(e).__name__ == 'ValueError':\n",
    "                    pass\n",
    "                else:\n",
    "                    print(e)\n",
    "                    break"
   ]
  },
  {
   "cell_type": "code",
   "execution_count": 18,
   "metadata": {},
   "outputs": [
    {
     "data": {
      "text/plain": [
       "[[[3384, 3443], [206438]],\n",
       " [[4241], [1615, 2359]],\n",
       " [[4246], [4244, 4245]],\n",
       " [[4250], [3302, 4572]],\n",
       " [[4287], [708, 2028]],\n",
       " [[4314], [3324, 4504]],\n",
       " [[4324], [175, 4542]],\n",
       " [[216, 396], [51947]],\n",
       " [[2220, 3487], [51947]],\n",
       " [[4385], [272, 497]],\n",
       " [[4448], [351, 3431]],\n",
       " [[4459], [638, 1038]],\n",
       " [[4483], [2092, 4365]],\n",
       " [[4491], [4489, 4490]],\n",
       " [[4513], [2200, 3806]],\n",
       " [[4538], [927, 2494]],\n",
       " [[4591], [878, 1626]],\n",
       " [[4616], [3279, 3280]],\n",
       " [[4714], [4712, 4713]],\n",
       " [[4519, 4520], [566447]]]"
      ]
     },
     "execution_count": 18,
     "metadata": {},
     "output_type": "execute_result"
    }
   ],
   "source": [
    "match_list[-20:]"
   ]
  },
  {
   "cell_type": "code",
   "execution_count": 19,
   "metadata": {},
   "outputs": [
    {
     "name": "stdout",
     "output_type": "stream",
     "text": [
      "% pending to reconcile:  0.3935633151030711\n"
     ]
    }
   ],
   "source": [
    "print(\"% pending to reconcile: \",(len(debs_amt)+len(creds_amt))/len(list_to_check))"
   ]
  },
  {
   "cell_type": "code",
   "execution_count": null,
   "metadata": {},
   "outputs": [],
   "source": []
  }
 ],
 "metadata": {
  "kernelspec": {
   "display_name": "Python 3",
   "language": "python",
   "name": "python3"
  },
  "language_info": {
   "codemirror_mode": {
    "name": "ipython",
    "version": 3
   },
   "file_extension": ".py",
   "mimetype": "text/x-python",
   "name": "python",
   "nbconvert_exporter": "python",
   "pygments_lexer": "ipython3",
   "version": "3.6.6+"
  }
 },
 "nbformat": 4,
 "nbformat_minor": 2
}
