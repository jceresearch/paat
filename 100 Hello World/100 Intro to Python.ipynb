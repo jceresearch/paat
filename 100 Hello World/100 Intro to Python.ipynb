{
 "cells": [
  {
   "cell_type": "markdown",
   "metadata": {},
   "source": [
    "# Python 100 - the very basics\n"
   ]
  },
  {
   "cell_type": "code",
   "execution_count": 73,
   "metadata": {},
   "outputs": [
    {
     "name": "stdout",
     "output_type": "stream",
     "text": [
      "Hello, World, Python\"s friends\n"
     ]
    }
   ],
   "source": [
    "print(\"Hello, World, Python's friends\")"
   ]
  },
  {
   "cell_type": "code",
   "execution_count": 5,
   "metadata": {},
   "outputs": [],
   "source": [
    "input_path='/mnt/live/int_audit/'\n",
    "input_path='./input/'\n",
    "output_path='./output/'\n"
   ]
  },
  {
   "cell_type": "code",
   "execution_count": 15,
   "metadata": {},
   "outputs": [],
   "source": [
    "files=[\"data.xlsx\", 'data.xlsx']\n"
   ]
  },
  {
   "cell_type": "code",
   "execution_count": 16,
   "metadata": {},
   "outputs": [
    {
     "data": {
      "text/plain": [
       "'data.xlsx'"
      ]
     },
     "execution_count": 16,
     "metadata": {},
     "output_type": "execute_result"
    }
   ],
   "source": [
    "files[1]"
   ]
  },
  {
   "cell_type": "code",
   "execution_count": 17,
   "metadata": {},
   "outputs": [
    {
     "name": "stdout",
     "output_type": "stream",
     "text": [
      "./test_data/data.xlsx\n",
      "./test_data/data.xlsx\n"
     ]
    }
   ],
   "source": [
    "for f in files:\n",
    "    print (input_path+f)"
   ]
  },
  {
   "cell_type": "code",
   "execution_count": 18,
   "metadata": {},
   "outputs": [
    {
     "name": "stdout",
     "output_type": "stream",
     "text": [
      "1  files processed\n",
      "['./test_data/data.xlsx', './test_data/data.xlsx']\n"
     ]
    }
   ],
   "source": [
    "for i, f in enumerate(files):\n",
    "    files[i]=input_path+f\n",
    "print(i,\" files processed\")\n",
    "print(files)"
   ]
  },
  {
   "cell_type": "code",
   "execution_count": 10,
   "metadata": {},
   "outputs": [
    {
     "name": "stdout",
     "output_type": "stream",
     "text": [
      "2021-06-30 06:30:47.261850\n"
     ]
    }
   ],
   "source": [
    "from datetime import datetime\n",
    "print(datetime.now())"
   ]
  },
  {
   "cell_type": "code",
   "execution_count": 11,
   "metadata": {},
   "outputs": [],
   "source": [
    "import pandas as pd"
   ]
  },
  {
   "cell_type": "code",
   "execution_count": 27,
   "metadata": {},
   "outputs": [
    {
     "data": {
      "text/plain": [
       "(1708, 8)"
      ]
     },
     "execution_count": 27,
     "metadata": {},
     "output_type": "execute_result"
    }
   ],
   "source": [
    "df= pd.read_excel('./test_data/data.xlsx')\n",
    "df.shape"
   ]
  },
  {
   "cell_type": "code",
   "execution_count": 28,
   "metadata": {},
   "outputs": [
    {
     "data": {
      "text/html": [
       "<div>\n",
       "<style scoped>\n",
       "    .dataframe tbody tr th:only-of-type {\n",
       "        vertical-align: middle;\n",
       "    }\n",
       "\n",
       "    .dataframe tbody tr th {\n",
       "        vertical-align: top;\n",
       "    }\n",
       "\n",
       "    .dataframe thead th {\n",
       "        text-align: right;\n",
       "    }\n",
       "</style>\n",
       "<table border=\"1\" class=\"dataframe\">\n",
       "  <thead>\n",
       "    <tr style=\"text-align: right;\">\n",
       "      <th></th>\n",
       "      <th>Auth_ID</th>\n",
       "      <th>Date Authorisation</th>\n",
       "      <th>Cust ID</th>\n",
       "      <th>Amount</th>\n",
       "      <th>Date Procedure</th>\n",
       "      <th>Region</th>\n",
       "      <th>Vulnerable</th>\n",
       "      <th>Notes</th>\n",
       "    </tr>\n",
       "  </thead>\n",
       "  <tbody>\n",
       "    <tr>\n",
       "      <th>0</th>\n",
       "      <td>9000001</td>\n",
       "      <td>2020-05-19 10:24:41.740</td>\n",
       "      <td>3710</td>\n",
       "      <td>9.11</td>\n",
       "      <td>2020-06-12 10:24:41.740</td>\n",
       "      <td>London</td>\n",
       "      <td>False</td>\n",
       "      <td>Test of delimiter, this should be kept all tog...</td>\n",
       "    </tr>\n",
       "    <tr>\n",
       "      <th>1</th>\n",
       "      <td>9000002</td>\n",
       "      <td>2020-05-19 11:49:24.093</td>\n",
       "      <td>3378</td>\n",
       "      <td>11.65</td>\n",
       "      <td>2020-07-21 11:49:24.093</td>\n",
       "      <td>West</td>\n",
       "      <td>False</td>\n",
       "      <td>NaN</td>\n",
       "    </tr>\n",
       "    <tr>\n",
       "      <th>2</th>\n",
       "      <td>9000003</td>\n",
       "      <td>2020-05-19 13:09:24.093</td>\n",
       "      <td>1963</td>\n",
       "      <td>13.52</td>\n",
       "      <td>2020-06-21 13:09:24.093</td>\n",
       "      <td>West</td>\n",
       "      <td>False</td>\n",
       "      <td>NaN</td>\n",
       "    </tr>\n",
       "    <tr>\n",
       "      <th>3</th>\n",
       "      <td>9000004</td>\n",
       "      <td>2020-05-19 13:40:02.391</td>\n",
       "      <td>3565</td>\n",
       "      <td>77.57</td>\n",
       "      <td>2020-05-23 13:40:02.391</td>\n",
       "      <td>East</td>\n",
       "      <td>False</td>\n",
       "      <td>NaN</td>\n",
       "    </tr>\n",
       "    <tr>\n",
       "      <th>4</th>\n",
       "      <td>9000005</td>\n",
       "      <td>2020-05-19 15:00:02.391</td>\n",
       "      <td>2249</td>\n",
       "      <td>21.37</td>\n",
       "      <td>2020-07-26 15:00:02.391</td>\n",
       "      <td>East</td>\n",
       "      <td>False</td>\n",
       "      <td>Customer may be vulnerable</td>\n",
       "    </tr>\n",
       "  </tbody>\n",
       "</table>\n",
       "</div>"
      ],
      "text/plain": [
       "   Auth_ID      Date Authorisation  Cust ID  Amount          Date Procedure  \\\n",
       "0  9000001 2020-05-19 10:24:41.740     3710    9.11 2020-06-12 10:24:41.740   \n",
       "1  9000002 2020-05-19 11:49:24.093     3378   11.65 2020-07-21 11:49:24.093   \n",
       "2  9000003 2020-05-19 13:09:24.093     1963   13.52 2020-06-21 13:09:24.093   \n",
       "3  9000004 2020-05-19 13:40:02.391     3565   77.57 2020-05-23 13:40:02.391   \n",
       "4  9000005 2020-05-19 15:00:02.391     2249   21.37 2020-07-26 15:00:02.391   \n",
       "\n",
       "   Region Vulnerable                                              Notes  \n",
       "0  London      False  Test of delimiter, this should be kept all tog...  \n",
       "1    West      False                                                NaN  \n",
       "2    West      False                                                NaN  \n",
       "3    East      False                                                NaN  \n",
       "4    East      False                         Customer may be vulnerable  "
      ]
     },
     "execution_count": 28,
     "metadata": {},
     "output_type": "execute_result"
    }
   ],
   "source": [
    "df.head() # df.info()  df.shape  df.tail()"
   ]
  },
  {
   "cell_type": "code",
   "execution_count": 21,
   "metadata": {},
   "outputs": [
    {
     "name": "stdout",
     "output_type": "stream",
     "text": [
      "<class 'pandas.core.frame.DataFrame'>\n",
      "Int64Index: 3416 entries, 0 to 1707\n",
      "Data columns (total 8 columns):\n",
      " #   Column              Non-Null Count  Dtype         \n",
      "---  ------              --------------  -----         \n",
      " 0   Auth_ID             3416 non-null   int64         \n",
      " 1   Date Authorisation  3414 non-null   datetime64[ns]\n",
      " 2   Cust ID             3416 non-null   int64         \n",
      " 3   Amount              3416 non-null   float64       \n",
      " 4   Date Procedure      3356 non-null   datetime64[ns]\n",
      " 5   Region              3414 non-null   object        \n",
      " 6   Vulnerable          3366 non-null   object        \n",
      " 7   Notes               8 non-null      object        \n",
      "dtypes: datetime64[ns](2), float64(1), int64(2), object(3)\n",
      "memory usage: 240.2+ KB\n"
     ]
    }
   ],
   "source": [
    "df2=pd.DataFrame()\n",
    "for f in files:\n",
    "    s=pd.read_excel(f)\n",
    "    df2=df2.append(s, sort=False)\n",
    "df2.info()"
   ]
  },
  {
   "cell_type": "code",
   "execution_count": 26,
   "metadata": {},
   "outputs": [
    {
     "data": {
      "text/plain": [
       "29.85304449648712"
      ]
     },
     "execution_count": 26,
     "metadata": {},
     "output_type": "execute_result"
    }
   ],
   "source": [
    "round(sum(df['Amount']))/len(df['Amount'])"
   ]
  },
  {
   "cell_type": "code",
   "execution_count": 1,
   "metadata": {},
   "outputs": [
    {
     "data": {
      "text/plain": [
       "126.47"
      ]
     },
     "execution_count": 1,
     "metadata": {},
     "output_type": "execute_result"
    }
   ],
   "source": [
    "max(df.Amount)"
   ]
  },
  {
   "cell_type": "code",
   "execution_count": 55,
   "metadata": {},
   "outputs": [
    {
     "data": {
      "text/plain": [
       "Index(['auth_id', 'date_authorisation', 'cust_id', 'amount', 'date_procedure',\n",
       "       'region', 'vulnerable', 'notes', 'in_scope'],\n",
       "      dtype='object')"
      ]
     },
     "execution_count": 55,
     "metadata": {},
     "output_type": "execute_result"
    }
   ],
   "source": [
    "df.columns=[str.lower(x) for x in df.columns]\n",
    "df.columns=[x.replace(\" \",\"_\") for x in df.columns]\n",
    "df.columns"
   ]
  },
  {
   "cell_type": "code",
   "execution_count": null,
   "metadata": {},
   "outputs": [],
   "source": []
  },
  {
   "cell_type": "code",
   "execution_count": 33,
   "metadata": {},
   "outputs": [
    {
     "data": {
      "text/html": [
       "<div>\n",
       "<style scoped>\n",
       "    .dataframe tbody tr th:only-of-type {\n",
       "        vertical-align: middle;\n",
       "    }\n",
       "\n",
       "    .dataframe tbody tr th {\n",
       "        vertical-align: top;\n",
       "    }\n",
       "\n",
       "    .dataframe thead th {\n",
       "        text-align: right;\n",
       "    }\n",
       "</style>\n",
       "<table border=\"1\" class=\"dataframe\">\n",
       "  <thead>\n",
       "    <tr style=\"text-align: right;\">\n",
       "      <th></th>\n",
       "      <th>auth_id</th>\n",
       "    </tr>\n",
       "    <tr>\n",
       "      <th>region</th>\n",
       "      <th></th>\n",
       "    </tr>\n",
       "  </thead>\n",
       "  <tbody>\n",
       "    <tr>\n",
       "      <th>East</th>\n",
       "      <td>353</td>\n",
       "    </tr>\n",
       "    <tr>\n",
       "      <th>London</th>\n",
       "      <td>312</td>\n",
       "    </tr>\n",
       "    <tr>\n",
       "      <th>North</th>\n",
       "      <td>356</td>\n",
       "    </tr>\n",
       "    <tr>\n",
       "      <th>South</th>\n",
       "      <td>332</td>\n",
       "    </tr>\n",
       "    <tr>\n",
       "      <th>West</th>\n",
       "      <td>354</td>\n",
       "    </tr>\n",
       "  </tbody>\n",
       "</table>\n",
       "</div>"
      ],
      "text/plain": [
       "        auth_id\n",
       "region         \n",
       "East        353\n",
       "London      312\n",
       "North       356\n",
       "South       332\n",
       "West        354"
      ]
     },
     "execution_count": 33,
     "metadata": {},
     "output_type": "execute_result"
    }
   ],
   "source": [
    "df[['auth_id','region']].groupby('region').agg(len)"
   ]
  },
  {
   "cell_type": "code",
   "execution_count": 36,
   "metadata": {},
   "outputs": [
    {
     "data": {
      "text/html": [
       "<div>\n",
       "<style scoped>\n",
       "    .dataframe tbody tr th:only-of-type {\n",
       "        vertical-align: middle;\n",
       "    }\n",
       "\n",
       "    .dataframe tbody tr th {\n",
       "        vertical-align: top;\n",
       "    }\n",
       "\n",
       "    .dataframe thead tr th {\n",
       "        text-align: left;\n",
       "    }\n",
       "\n",
       "    .dataframe thead tr:last-of-type th {\n",
       "        text-align: right;\n",
       "    }\n",
       "</style>\n",
       "<table border=\"1\" class=\"dataframe\">\n",
       "  <thead>\n",
       "    <tr>\n",
       "      <th></th>\n",
       "      <th colspan=\"2\" halign=\"left\">auth_id</th>\n",
       "    </tr>\n",
       "    <tr>\n",
       "      <th></th>\n",
       "      <th>sum</th>\n",
       "      <th>len</th>\n",
       "    </tr>\n",
       "    <tr>\n",
       "      <th>region</th>\n",
       "      <th></th>\n",
       "      <th></th>\n",
       "    </tr>\n",
       "  </thead>\n",
       "  <tbody>\n",
       "    <tr>\n",
       "      <th>East</th>\n",
       "      <td>3177278982</td>\n",
       "      <td>353</td>\n",
       "    </tr>\n",
       "    <tr>\n",
       "      <th>London</th>\n",
       "      <td>2808269763</td>\n",
       "      <td>312</td>\n",
       "    </tr>\n",
       "    <tr>\n",
       "      <th>North</th>\n",
       "      <td>3204314383</td>\n",
       "      <td>356</td>\n",
       "    </tr>\n",
       "    <tr>\n",
       "      <th>South</th>\n",
       "      <td>2988285054</td>\n",
       "      <td>332</td>\n",
       "    </tr>\n",
       "    <tr>\n",
       "      <th>West</th>\n",
       "      <td>3186307461</td>\n",
       "      <td>354</td>\n",
       "    </tr>\n",
       "  </tbody>\n",
       "</table>\n",
       "</div>"
      ],
      "text/plain": [
       "           auth_id     \n",
       "               sum  len\n",
       "region                 \n",
       "East    3177278982  353\n",
       "London  2808269763  312\n",
       "North   3204314383  356\n",
       "South   2988285054  332\n",
       "West    3186307461  354"
      ]
     },
     "execution_count": 36,
     "metadata": {},
     "output_type": "execute_result"
    }
   ],
   "source": [
    "df[['region','auth_id']].groupby('region').agg([sum,len])"
   ]
  },
  {
   "cell_type": "code",
   "execution_count": 50,
   "metadata": {},
   "outputs": [
    {
     "data": {
      "text/plain": [
       "707"
      ]
     },
     "execution_count": 50,
     "metadata": {},
     "output_type": "execute_result"
    }
   ],
   "source": [
    "df['in_scope']= (df['region']=='East') | (df['region']=='West')\n",
    "sum(df.in_scope)"
   ]
  },
  {
   "cell_type": "code",
   "execution_count": 54,
   "metadata": {},
   "outputs": [
    {
     "data": {
      "text/html": [
       "<div>\n",
       "<style scoped>\n",
       "    .dataframe tbody tr th:only-of-type {\n",
       "        vertical-align: middle;\n",
       "    }\n",
       "\n",
       "    .dataframe tbody tr th {\n",
       "        vertical-align: top;\n",
       "    }\n",
       "\n",
       "    .dataframe thead tr th {\n",
       "        text-align: left;\n",
       "    }\n",
       "\n",
       "    .dataframe thead tr:last-of-type th {\n",
       "        text-align: right;\n",
       "    }\n",
       "</style>\n",
       "<table border=\"1\" class=\"dataframe\">\n",
       "  <thead>\n",
       "    <tr>\n",
       "      <th></th>\n",
       "      <th colspan=\"3\" halign=\"left\">auth_id</th>\n",
       "      <th colspan=\"3\" halign=\"left\">cust_id</th>\n",
       "      <th colspan=\"3\" halign=\"left\">amount</th>\n",
       "      <th colspan=\"3\" halign=\"left\">vulnerable</th>\n",
       "      <th colspan=\"3\" halign=\"left\">in_scope</th>\n",
       "    </tr>\n",
       "    <tr>\n",
       "      <th></th>\n",
       "      <th>sum</th>\n",
       "      <th>len</th>\n",
       "      <th>count</th>\n",
       "      <th>sum</th>\n",
       "      <th>len</th>\n",
       "      <th>count</th>\n",
       "      <th>sum</th>\n",
       "      <th>len</th>\n",
       "      <th>count</th>\n",
       "      <th>sum</th>\n",
       "      <th>len</th>\n",
       "      <th>count</th>\n",
       "      <th>sum</th>\n",
       "      <th>len</th>\n",
       "      <th>count</th>\n",
       "    </tr>\n",
       "    <tr>\n",
       "      <th>region</th>\n",
       "      <th></th>\n",
       "      <th></th>\n",
       "      <th></th>\n",
       "      <th></th>\n",
       "      <th></th>\n",
       "      <th></th>\n",
       "      <th></th>\n",
       "      <th></th>\n",
       "      <th></th>\n",
       "      <th></th>\n",
       "      <th></th>\n",
       "      <th></th>\n",
       "      <th></th>\n",
       "      <th></th>\n",
       "      <th></th>\n",
       "    </tr>\n",
       "  </thead>\n",
       "  <tbody>\n",
       "    <tr>\n",
       "      <th>East</th>\n",
       "      <td>3177278982</td>\n",
       "      <td>353</td>\n",
       "      <td>353</td>\n",
       "      <td>885948</td>\n",
       "      <td>353</td>\n",
       "      <td>353</td>\n",
       "      <td>11294.54</td>\n",
       "      <td>353.0</td>\n",
       "      <td>353</td>\n",
       "      <td>7</td>\n",
       "      <td>353</td>\n",
       "      <td>345</td>\n",
       "      <td>353.0</td>\n",
       "      <td>353</td>\n",
       "      <td>353</td>\n",
       "    </tr>\n",
       "    <tr>\n",
       "      <th>West</th>\n",
       "      <td>3186307461</td>\n",
       "      <td>354</td>\n",
       "      <td>354</td>\n",
       "      <td>878946</td>\n",
       "      <td>354</td>\n",
       "      <td>354</td>\n",
       "      <td>10782.16</td>\n",
       "      <td>354.0</td>\n",
       "      <td>354</td>\n",
       "      <td>3</td>\n",
       "      <td>354</td>\n",
       "      <td>346</td>\n",
       "      <td>354.0</td>\n",
       "      <td>354</td>\n",
       "      <td>354</td>\n",
       "    </tr>\n",
       "  </tbody>\n",
       "</table>\n",
       "</div>"
      ],
      "text/plain": [
       "           auth_id            cust_id       ... vulnerable       in_scope           \n",
       "               sum  len count     sum  len  ...        len count      sum  len count\n",
       "region                                      ...                                     \n",
       "East    3177278982  353   353  885948  353  ...        353   345    353.0  353   353\n",
       "West    3186307461  354   354  878946  354  ...        354   346    354.0  354   354\n",
       "\n",
       "[2 rows x 15 columns]"
      ]
     },
     "execution_count": 54,
     "metadata": {},
     "output_type": "execute_result"
    }
   ],
   "source": [
    "df[df['in_scope']][['auth_id','region']].groupby('region').agg([sum,len])\n",
    "df[df['in_scope']].groupby('region').agg([sum,len,'count'])"
   ]
  },
  {
   "cell_type": "code",
   "execution_count": 1,
   "metadata": {},
   "outputs": [],
   "source": [
    "import pathlib\n",
    "pathlib.Path('./test_data').mkdir(parents=True, exist_ok=True)\n",
    "pathlib.Path('./output').mkdir(parents=True, exist_ok=True)"
   ]
  },
  {
   "cell_type": "code",
   "execution_count": 59,
   "metadata": {},
   "outputs": [
    {
     "data": {
      "text/html": [
       "<div>\n",
       "<style scoped>\n",
       "    .dataframe tbody tr th:only-of-type {\n",
       "        vertical-align: middle;\n",
       "    }\n",
       "\n",
       "    .dataframe tbody tr th {\n",
       "        vertical-align: top;\n",
       "    }\n",
       "\n",
       "    .dataframe thead th {\n",
       "        text-align: right;\n",
       "    }\n",
       "</style>\n",
       "<table border=\"1\" class=\"dataframe\">\n",
       "  <thead>\n",
       "    <tr style=\"text-align: right;\">\n",
       "      <th></th>\n",
       "      <th>a</th>\n",
       "      <th>b</th>\n",
       "      <th>c</th>\n",
       "    </tr>\n",
       "  </thead>\n",
       "  <tbody>\n",
       "    <tr>\n",
       "      <th>0</th>\n",
       "      <td>0</td>\n",
       "      <td>1.0</td>\n",
       "      <td>-0.819632</td>\n",
       "    </tr>\n",
       "    <tr>\n",
       "      <th>1</th>\n",
       "      <td>0</td>\n",
       "      <td>2.0</td>\n",
       "      <td>-0.413270</td>\n",
       "    </tr>\n",
       "    <tr>\n",
       "      <th>2</th>\n",
       "      <td>1</td>\n",
       "      <td>3.0</td>\n",
       "      <td>1.617286</td>\n",
       "    </tr>\n",
       "    <tr>\n",
       "      <th>3</th>\n",
       "      <td>2</td>\n",
       "      <td>4.0</td>\n",
       "      <td>0.485451</td>\n",
       "    </tr>\n",
       "    <tr>\n",
       "      <th>4</th>\n",
       "      <td>2</td>\n",
       "      <td>NaN</td>\n",
       "      <td>-1.189289</td>\n",
       "    </tr>\n",
       "    <tr>\n",
       "      <th>5</th>\n",
       "      <td>2</td>\n",
       "      <td>4.0</td>\n",
       "      <td>-0.806330</td>\n",
       "    </tr>\n",
       "  </tbody>\n",
       "</table>\n",
       "</div>"
      ],
      "text/plain": [
       "   a    b         c\n",
       "0  0  1.0 -0.819632\n",
       "1  0  2.0 -0.413270\n",
       "2  1  3.0  1.617286\n",
       "3  2  4.0  0.485451\n",
       "4  2  NaN -1.189289\n",
       "5  2  4.0 -0.806330"
      ]
     },
     "execution_count": 59,
     "metadata": {},
     "output_type": "execute_result"
    }
   ],
   "source": [
    "import numpy as np\n",
    "dft = pd.DataFrame({'a':[0,0,1,2,2,2], 'b':[1,2,3,4,np.NaN,4], 'c':np.random.randn(6)})\n",
    "dft\n"
   ]
  },
  {
   "cell_type": "code",
   "execution_count": 61,
   "metadata": {},
   "outputs": [
    {
     "name": "stdout",
     "output_type": "stream",
     "text": [
      "a\n",
      "0    2\n",
      "1    1\n",
      "2    2\n",
      "Name: b, dtype: int64\n",
      "a\n",
      "0    2\n",
      "1    1\n",
      "2    3\n",
      "Name: b, dtype: int64\n",
      "a\n",
      "0    2.0\n",
      "1    1.0\n",
      "2    3.0\n",
      "Name: b, dtype: float64\n"
     ]
    }
   ],
   "source": [
    "print(dft.groupby(['a'])['b'].count())\n",
    "print(dft.groupby(['a'])['b'].size())\n",
    "print(dft.groupby(['a'])['b'].agg(len))\n"
   ]
  },
  {
   "cell_type": "code",
   "execution_count": null,
   "metadata": {},
   "outputs": [],
   "source": []
  }
 ],
 "metadata": {
  "kernelspec": {
   "display_name": "Python 3",
   "language": "python",
   "name": "python3"
  },
  "language_info": {
   "codemirror_mode": {
    "name": "ipython",
    "version": 3
   },
   "file_extension": ".py",
   "mimetype": "text/x-python",
   "name": "python",
   "nbconvert_exporter": "python",
   "pygments_lexer": "ipython3",
   "version": "3.6.6+"
  }
 },
 "nbformat": 4,
 "nbformat_minor": 2
}
