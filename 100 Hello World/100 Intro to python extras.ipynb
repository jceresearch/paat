{
 "cells": [
  {
   "cell_type": "markdown",
   "metadata": {},
   "source": [
    "# Python 100 - the very basics\n",
    "\n",
    "\n",
    "Welcome to an intro to Python JupyterLab notebooks for the very very new"
   ]
  },
  {
   "cell_type": "markdown",
   "metadata": {},
   "source": [
    "Some definitions:  \n",
    "**Python** is the programming language, it is **intepreted** as opposed to **compiled** (as in the C language). That means that you could write the code in python in a plain text file with Notepad, save it ending in .py and the Python intepreter would run it straight away and \"interprets\" the commands on the fly. It does some overall syntax checks, but it is a bit more permisive than other programming languages which do upfont process to \"compile\" the code into lower level machine language and only then you can run it.  \n",
    "\n",
    "**Anaconda** Python is the branded **distribution** that a company named Continuum created. So it is a bundle of Python plus tools conveniently curated and distributed. Anaconda is exremely popular as it provides 'all batteries included' Python with all the components you need, editors and a **Navigator** application that provides the shortcuts to the bundled components.  \n",
    "\n",
    "People develop **libraries** to add features, using Python itself, or C language for speed. Modules and packages are also ways of bulding extra reausable functionality. Libraries can be fairly small, like a library that offer functions to calculate the Levinshtein distance between too text for fuzzy matching. Or, they can be massive, like pandas or Scikit-Learn which bring their own syntax and framework for developing with them and you need to learn them like if they were specialised products.  \n",
    "\n",
    "Libraries are published in publicly available **repositories** or **channels** and you can **install** them using commands like pip or **conda**, if you have Anaconda. Libraries often build on (have **dependencies** on) each other and it is important to consider when upgrading and installing them.  \n",
    "Once you have the libraries installed in your machine, you need to **import** it into your specific code to have them available.\n",
    "\n",
    "One of these libraries is **JupyterLab** which is expand python with a web GUI offering an interactive way to code and run python in small chunks or **cells** in any order, as part of a **notebook**.  \n",
    "**JupyterHub** is a version of JuypterLab that runs on a server, instead of on a laptop.  \n",
    "\n",
    "\n",
    "**Notebooks** are what you are seeing now, which mix text and code and the result of the code, kind of a webpage with interactive bits. Notebooks, under the bonnet are still text files ending with .ipynb but you can't really work on them directly.  \n",
    "You can edit those notebooks using the native **JupyterLab** interface using a web browser. \n",
    "Or, you can use **VSCode**, a popular coding tool from Microsoft which supports both notebooks and .py files. **Spyder** is another popular coding tool.\n",
    "\n",
    "There is a language called **R** which is oriented towards statistics and is somewhat a competitor of Python in that domain. That said, Python is more popular and a more rounded general purpose language.  \n",
    "\n",
    "One more thing:  \n",
    "To do data processing/science you will need to familiarise with other very well known packages. These bring a whole set of commands and features. To name the most used:  \n",
    "Data science packages: **Numpy, Pandas, Sklearn, Matplotlib, Seaborn**  \n",
    "Packages you will most certainly have to use: os, re, math, datetime, csv, random\n"
   ]
  },
  {
   "cell_type": "markdown",
   "metadata": {},
   "source": [
    "Where to start?\n",
    "\n",
    "In every language people start with generating the first output... how to \"spit\" something out\n",
    "\n",
    "They normally do it with a very classic \"Hello, World\"  \n",
    "Lets try a few variations"
   ]
  },
  {
   "cell_type": "code",
   "execution_count": 1,
   "metadata": {},
   "outputs": [
    {
     "name": "stdout",
     "output_type": "stream",
     "text": [
      "Hello, World\n",
      "Hello, World\n",
      "Hello, World\n",
      "Hello, World, in 2021\n"
     ]
    }
   ],
   "source": [
    "print(\"Hello, World\")\n",
    "print(\"Hello,\" , \"World\")\n",
    "print(\"Hello,\" + \" World\")\n",
    "print(\"Hello,\"+\" World, in \"+ str(2021)) #we can't mix types strings with numbers in print()"
   ]
  },
  {
   "cell_type": "markdown",
   "metadata": {},
   "source": [
    "The second thing you need to know is how to do something many times\n",
    "And at the same time, learn several important quirks of Python\n",
    "\n",
    "- It is important to understand 0 index and that most of the time ranges are exclusive, ie they end before the last specified value, i.e. you provide a stop value, as in... a meeting from 8-10 end just before 10 starts.\n",
    "- Python uses indentation to structure the code vs languages like Javascript or C which use brackets, \n",
    "- Colons for structures (loops, if, function definitions)"
   ]
  },
  {
   "cell_type": "code",
   "execution_count": 2,
   "metadata": {},
   "outputs": [
    {
     "name": "stdout",
     "output_type": "stream",
     "text": [
      "0\n",
      "1\n",
      "2\n",
      "3\n",
      "4\n",
      "5\n",
      "6\n",
      "7\n",
      "8\n",
      "9\n"
     ]
    }
   ],
   "source": [
    "for n in range(0,10):\n",
    "    print(n)"
   ]
  },
  {
   "cell_type": "markdown",
   "metadata": {},
   "source": [
    "The third thing you need to know is the concept of a **list** of things."
   ]
  },
  {
   "cell_type": "code",
   "execution_count": 3,
   "metadata": {},
   "outputs": [
    {
     "name": "stdout",
     "output_type": "stream",
     "text": [
      "0 is even\n",
      "1 is odd\n",
      "2 is even\n",
      "3 is odd\n",
      "4 is even\n",
      "5 is odd\n",
      "6 is even\n",
      "7 is odd\n",
      "8 is even\n",
      "9 is odd\n",
      "[0, 1, 2, 3, 4, 5, 6, 7, 8, 9]\n",
      "[0, 1, 2]\n"
     ]
    }
   ],
   "source": [
    "my_list=[]\n",
    "for n in range(0,10):\n",
    "    my_list.append(n)\n",
    "    if n % 2 == 0: # % is how we do module operation, \n",
    "        # == is how we test for equality,\n",
    "        # = alone \"assigns\" the value to variables\n",
    "        print (n, \"is even\")\n",
    "    else:\n",
    "        print(n, \"is odd\")\n",
    "print(my_list)\n",
    "print(my_list[0:3]) \n"
   ]
  },
  {
   "cell_type": "markdown",
   "metadata": {},
   "source": [
    "You can put anything there, but you need to understand their types"
   ]
  },
  {
   "cell_type": "code",
   "execution_count": 4,
   "metadata": {},
   "outputs": [
    {
     "name": "stdout",
     "output_type": "stream",
     "text": [
      "[0, 1, 2, 3, 4, 5, 6, 7, 8, 9, '10', '11']\n",
      "1011\n",
      "21.0\n",
      "45\n"
     ]
    }
   ],
   "source": [
    "my_list.append(\"10\")\n",
    "my_list.append(\"11\")\n",
    "print(my_list)\n",
    "result=my_list[10]+my_list[11]\n",
    "print(result)\n",
    "print(float(my_list[10])+int(my_list[11]))\n",
    "print(sum(my_list[0:10]))\n"
   ]
  },
  {
   "cell_type": "markdown",
   "metadata": {},
   "source": [
    "The next thing is to familiarise with various useful libraries including \n",
    "\n",
    "Lets get the time, it can be useful to timestime the last run of your notebook"
   ]
  },
  {
   "cell_type": "code",
   "execution_count": 5,
   "metadata": {},
   "outputs": [
    {
     "name": "stdout",
     "output_type": "stream",
     "text": [
      "Process started on 26-Jun-2021 08:45:41 , hopefully will finish soon\n",
      "2021-06-26 08:45:41.678890\n"
     ]
    }
   ],
   "source": [
    "from datetime import datetime \n",
    "#btw, we tend to place all the import statements at the top of the notebook\n",
    "\n",
    "start=datetime.now() \n",
    "#we save it into a variable to use it later to calculate the time it took\n",
    "\n",
    "print(\"Process started on \" + start.strftime(\"%d-%b-%Y %H:%M:%S\"), \", hopefully will finish soon\") \n",
    "# using the comma to print two or more values that could be a mix of text and numbres, or you can\n",
    "# use the + sign if you are sure the arguments provided to the print function are all strings\n",
    "\n",
    "print(start) # that is just the raw value"
   ]
  },
  {
   "cell_type": "code",
   "execution_count": 6,
   "metadata": {},
   "outputs": [
    {
     "name": "stdout",
     "output_type": "stream",
     "text": [
      "3.6.6+ (default, May 20 2021, 11:50:36) \n",
      "[GCC Apple LLVM 12.0.5 (clang-1205.0.22.9)]\n",
      "3.6.6+\n"
     ]
    }
   ],
   "source": [
    "import sys\n",
    "print(sys.version)\n",
    "\n",
    "import platform\n",
    "print (platform.python_version())\n",
    "\n",
    "#it is important to know what version of python or libraries you are using when you are googling for \n",
    "#how to do something, syntaxis is constantly refined and features are added regularly"
   ]
  },
  {
   "cell_type": "code",
   "execution_count": 7,
   "metadata": {},
   "outputs": [
    {
     "name": "stdout",
     "output_type": "stream",
     "text": [
      "mobile\n",
      "/private/var/mobile/Containers/Data/Application/455EA1D4-AC4F-4775-97E3-7C979EBA6E10/Library/Caches\n"
     ]
    },
    {
     "data": {
      "text/plain": [
       "['input.csv',\n",
       " 'com.rationalmatter.junoapp',\n",
       " 'test_data',\n",
       " 'console.log',\n",
       " 'output',\n",
       " 'com.apple.dyld',\n",
       " 'com.apple.WebKit.WebContent',\n",
       " 'id_list.csv',\n",
       " 'WebKit',\n",
       " 'com.plausiblelabs.crashreporter.data',\n",
       " 'com.apple.WebKit.Networking']"
      ]
     },
     "execution_count": 7,
     "metadata": {},
     "output_type": "execute_result"
    }
   ],
   "source": [
    "#!ls\n",
    "#!cwd\n",
    "#!cd\n",
    "import os\n",
    "print(os.getlogin())\n",
    "print(os.getcwd())\n",
    "os.listdir()\n"
   ]
  },
  {
   "cell_type": "code",
   "execution_count": 8,
   "metadata": {},
   "outputs": [
    {
     "data": {
      "text/plain": [
       "58"
      ]
     },
     "execution_count": 8,
     "metadata": {},
     "output_type": "execute_result"
    }
   ],
   "source": [
    "import glob\n",
    "dir=glob.glob(\"../**/*.ipynb\", recursive=True)\n",
    "\n",
    "len(dir) "
   ]
  },
  {
   "cell_type": "code",
   "execution_count": 9,
   "metadata": {},
   "outputs": [
    {
     "data": {
      "text/plain": [
       "['../Application Support/com.rationalmatter.junoapp/python-home/lib/python3.6/site-packages/nbformat/tests/invalid_cell_id.ipynb',\n",
       " '../Application Support/com.rationalmatter.junoapp/python-home/lib/python3.6/site-packages/nbformat/tests/test3.ipynb',\n",
       " '../Application Support/com.rationalmatter.junoapp/python-home/lib/python3.6/site-packages/nbformat/tests/test4.ipynb',\n",
       " '../Application Support/com.rationalmatter.junoapp/python-home/lib/python3.6/site-packages/nbformat/tests/test2.ipynb',\n",
       " '../Application Support/com.rationalmatter.junoapp/python-home/lib/python3.6/site-packages/nbformat/tests/test4plus.ipynb',\n",
       " '../Application Support/com.rationalmatter.junoapp/python-home/lib/python3.6/site-packages/nbformat/tests/test4custom.ipynb',\n",
       " '../Application Support/com.rationalmatter.junoapp/python-home/lib/python3.6/site-packages/nbformat/tests/many_tracebacks.ipynb',\n",
       " '../Application Support/com.rationalmatter.junoapp/python-home/lib/python3.6/site-packages/nbformat/tests/test4jupyter_metadata_timings.ipynb',\n",
       " '../Application Support/com.rationalmatter.junoapp/python-home/lib/python3.6/site-packages/nbformat/tests/invalid_unique_cell_id.ipynb',\n",
       " '../Application Support/com.rationalmatter.junoapp/python-home/lib/python3.6/site-packages/nbformat/tests/test4jupyter_metadata.ipynb',\n",
       " '../Application Support/com.rationalmatter.junoapp/python-home/lib/python3.6/site-packages/nbformat/tests/test4docinfo.ipynb',\n",
       " '../Application Support/com.rationalmatter.junoapp/python-home/lib/python3.6/site-packages/nbformat/tests/invalid.ipynb',\n",
       " '../Application Support/com.rationalmatter.junoapp/python-home/lib/python3.6/site-packages/nbclient/tests/files/Clear Output.ipynb',\n",
       " '../Application Support/com.rationalmatter.junoapp/python-home/lib/python3.6/site-packages/nbclient/tests/files/Disable Stdin.ipynb',\n",
       " '../Application Support/com.rationalmatter.junoapp/python-home/lib/python3.6/site-packages/nbclient/tests/files/Skip Exceptions.ipynb',\n",
       " '../Application Support/com.rationalmatter.junoapp/python-home/lib/python3.6/site-packages/nbclient/tests/files/ipywidgets2.ipynb',\n",
       " '../Application Support/com.rationalmatter.junoapp/python-home/lib/python3.6/site-packages/nbclient/tests/files/Factorials.ipynb',\n",
       " '../Application Support/com.rationalmatter.junoapp/python-home/lib/python3.6/site-packages/nbclient/tests/files/sleep.ipynb',\n",
       " '../Application Support/com.rationalmatter.junoapp/python-home/lib/python3.6/site-packages/nbclient/tests/files/JupyterWidgets.ipynb',\n",
       " '../Application Support/com.rationalmatter.junoapp/python-home/lib/python3.6/site-packages/nbclient/tests/files/Parallel Execute B.ipynb',\n",
       " '../Application Support/com.rationalmatter.junoapp/python-home/lib/python3.6/site-packages/nbclient/tests/files/Unicode.ipynb',\n",
       " '../Application Support/com.rationalmatter.junoapp/python-home/lib/python3.6/site-packages/nbclient/tests/files/Sleep1s.ipynb',\n",
       " '../Application Support/com.rationalmatter.junoapp/python-home/lib/python3.6/site-packages/nbclient/tests/files/Skip Exceptions with Cell Tags.ipynb',\n",
       " '../Application Support/com.rationalmatter.junoapp/python-home/lib/python3.6/site-packages/nbclient/tests/files/HelloWorld.ipynb',\n",
       " '../Application Support/com.rationalmatter.junoapp/python-home/lib/python3.6/site-packages/nbclient/tests/files/Inline Image.ipynb',\n",
       " '../Application Support/com.rationalmatter.junoapp/python-home/lib/python3.6/site-packages/nbclient/tests/files/update-display-id.ipynb',\n",
       " '../Application Support/com.rationalmatter.junoapp/python-home/lib/python3.6/site-packages/nbclient/tests/files/Parallel Execute A.ipynb',\n",
       " '../Application Support/com.rationalmatter.junoapp/python-home/lib/python3.6/site-packages/nbclient/tests/files/ipywidgets_keep.ipynb',\n",
       " '../Application Support/com.rationalmatter.junoapp/python-home/lib/python3.6/site-packages/nbclient/tests/files/Other Comms.ipynb',\n",
       " '../Application Support/com.rationalmatter.junoapp/python-home/lib/python3.6/site-packages/nbclient/tests/files/Interrupt.ipynb',\n",
       " '../Application Support/com.rationalmatter.junoapp/python-home/lib/python3.6/site-packages/nbclient/tests/files/ipywidgets.nbconvert.ipynb',\n",
       " '../Application Support/com.rationalmatter.junoapp/python-home/lib/python3.6/site-packages/nbclient/tests/files/UnicodePy3.ipynb',\n",
       " '../Application Support/com.rationalmatter.junoapp/python-home/lib/python3.6/site-packages/nbclient/tests/files/SVG.ipynb',\n",
       " '../Application Support/com.rationalmatter.junoapp/python-home/lib/python3.6/site-packages/nbclient/tests/files/Check History in Memory.ipynb',\n",
       " '../Application Support/com.rationalmatter.junoapp/python-home/lib/python3.6/site-packages/nbclient/tests/files/ipywidgets_executed.ipynb',\n",
       " '../Application Support/com.rationalmatter.junoapp/python-home/lib/python3.6/site-packages/nbclient/tests/files/Output.ipynb',\n",
       " '../Application Support/com.rationalmatter.junoapp/python-home/lib/python3.6/site-packages/nbclient/tests/files/Empty Cell.ipynb',\n",
       " '../Application Support/com.rationalmatter.junoapp/python-home/lib/python3.6/site-packages/nbclient/tests/files/ipywidgets.ipynb',\n",
       " '../Application Support/com.rationalmatter.junoapp/python-home/lib/python3.6/site-packages/nbclient/tests/files/Autokill.ipynb',\n",
       " '../Application Support/com.rationalmatter.junoapp/python-home/lib/python3.6/site-packages/matplotlib/backends/web_backend/nbagg_uat.ipynb',\n",
       " '../Application Support/com.rationalmatter.junoapp/python-home/lib/python3.6/site-packages/nbconvert/preprocessors/tests/files/MixedMarkdown.ipynb',\n",
       " '../Application Support/com.rationalmatter.junoapp/python-home/lib/python3.6/site-packages/nbconvert/preprocessors/tests/files/HelloWorld.ipynb',\n",
       " '../Application Support/com.rationalmatter.junoapp/python-home/lib/python3.6/site-packages/nbconvert/exporters/tests/files/notebook2.ipynb',\n",
       " '../Application Support/com.rationalmatter.junoapp/python-home/lib/python3.6/site-packages/nbconvert/exporters/tests/files/svg.ipynb',\n",
       " '../Application Support/com.rationalmatter.junoapp/python-home/lib/python3.6/site-packages/nbconvert/exporters/tests/files/prompt_numbers.ipynb',\n",
       " '../Application Support/com.rationalmatter.junoapp/python-home/lib/python3.6/site-packages/nbconvert/exporters/tests/files/pngmetadata.ipynb',\n",
       " '../Application Support/com.rationalmatter.junoapp/python-home/lib/python3.6/site-packages/nbconvert/exporters/tests/files/rawtest.ipynb',\n",
       " '../Application Support/com.rationalmatter.junoapp/python-home/lib/python3.6/site-packages/nbconvert/exporters/tests/files/attachment.ipynb',\n",
       " '../Application Support/com.rationalmatter.junoapp/python-home/lib/python3.6/site-packages/nbconvert/tests/files/notebook2.ipynb',\n",
       " '../Application Support/com.rationalmatter.junoapp/python-home/lib/python3.6/site-packages/nbconvert/tests/files/notebook3_with_errors.ipynb',\n",
       " '../Application Support/com.rationalmatter.junoapp/python-home/lib/python3.6/site-packages/nbconvert/tests/files/notebook4_jpeg.ipynb',\n",
       " '../Application Support/com.rationalmatter.junoapp/python-home/lib/python3.6/site-packages/nbconvert/tests/files/notebook1.ipynb',\n",
       " '../Application Support/com.rationalmatter.junoapp/python-home/lib/python3.6/site-packages/nbconvert/tests/files/notebook_tags.ipynb',\n",
       " '../Application Support/com.rationalmatter.junoapp/python-home/lib/python3.6/site-packages/nbconvert/tests/files/markdown_display_priority.ipynb',\n",
       " '../Application Support/com.rationalmatter.junoapp/python-home/lib/python3.6/site-packages/nbconvert/tests/files/Widget_List.ipynb',\n",
       " '../Application Support/com.rationalmatter.junoapp/python-home/lib/python3.6/site-packages/nbconvert/tests/files/notebook_jl.ipynb',\n",
       " '../Application Support/com.rationalmatter.junoapp/python-home/lib/python3.6/site-packages/nbconvert/tests/files/latex-linked-image.ipynb',\n",
       " '../Application Support/com.rationalmatter.junoapp/python-home/lib/python3.6/site-packages/notebook/bundler/tests/resources/empty.ipynb']"
      ]
     },
     "execution_count": 9,
     "metadata": {},
     "output_type": "execute_result"
    }
   ],
   "source": [
    "dir"
   ]
  },
  {
   "cell_type": "code",
   "execution_count": 10,
   "metadata": {},
   "outputs": [
    {
     "name": "stdout",
     "output_type": "stream",
     "text": [
      "2021-06-26 08:45:42\n",
      "Minutes 0.02\n"
     ]
    }
   ],
   "source": [
    "\n",
    "print(datetime.now().strftime(\"%Y-%m-%d %H:%M:%S\"))\n",
    "print (\"Minutes\", round((datetime.now()-start).total_seconds()/(60),2))\n",
    "#Notice how we tweaked the format of the date printed, this comes handy when exporting data for using \n",
    "#in other tools, or for sorting.\n",
    "#Note the difference between the round() function and the .now() or .total_seconds() function.\n",
    "#round() is a standard Python function, now() is a function defined by datetime library\n",
    "#and total_seconds() is something called a method that is like function but applied to an object\n",
    "#in this case it is a in time interval object that gets created when we substract two datetimes.\n",
    "\n"
   ]
  },
  {
   "cell_type": "code",
   "execution_count": null,
   "metadata": {},
   "outputs": [],
   "source": []
  },
  {
   "cell_type": "code",
   "execution_count": null,
   "metadata": {},
   "outputs": [],
   "source": []
  }
 ],
 "metadata": {
  "kernelspec": {
   "display_name": "Python 3",
   "language": "python",
   "name": "python3"
  },
  "language_info": {
   "codemirror_mode": {
    "name": "ipython",
    "version": 3
   },
   "file_extension": ".py",
   "mimetype": "text/x-python",
   "name": "python",
   "nbconvert_exporter": "python",
   "pygments_lexer": "ipython3",
   "version": "3.6.6+"
  }
 },
 "nbformat": 4,
 "nbformat_minor": 2
}
