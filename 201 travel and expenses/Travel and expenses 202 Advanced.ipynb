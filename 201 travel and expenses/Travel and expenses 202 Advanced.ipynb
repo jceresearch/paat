{
 "cells": [
  {
   "cell_type": "markdown",
   "metadata": {},
   "source": [
    "Travel and Expenses - Advanced techniques"
   ]
  },
  {
   "cell_type": "code",
   "execution_count": 1,
   "metadata": {},
   "outputs": [],
   "source": [
    "#!Python3\n",
    "\n",
    "import pandas as pd\n",
    "import os \n",
    "\n",
    "from time import gmtime, strftime\n",
    "import datetime\n",
    "\n",
    "#XLS reader library\n",
    "import xlrd  \n"
   ]
  },
  {
   "cell_type": "code",
   "execution_count": 6,
   "metadata": {},
   "outputs": [
    {
     "name": "stdout",
     "output_type": "stream",
     "text": [
      "Generate Test Data.ipynb\t  hello world.ipynb\n",
      "Travel and Expenses review.ipynb  testdata\n",
      "mkdir: cannot create directory 'testdata': File exists\n",
      "  % Total    % Received % Xferd  Average Speed   Time    Time     Time  Current\n",
      "                                 Dload  Upload   Total   Spent    Left  Speed\n",
      "100 20838  100 20838    0     0  61299      0 --:--:-- --:--:-- --:--:-- 62389\n",
      "test.xlsx\n"
     ]
    }
   ],
   "source": [
    "#This piece is for azure notebooks to load the test data from github\n",
    "!ls\n",
    "!mkdir testdata\n",
    "!curl https://raw.githubusercontent.com/account/giitrepo/testdata/example_expenses01.xlsx -o testdata/test.xlsx\n",
    "!ls testdata"
   ]
  },
  {
   "cell_type": "markdown",
   "metadata": {},
   "source": [
    "We open the Excel file and list the sheets inside, just to check we are reading it properly"
   ]
  },
  {
   "cell_type": "code",
   "execution_count": 9,
   "metadata": {},
   "outputs": [
    {
     "name": "stdout",
     "output_type": "stream",
     "text": [
      "0\n",
      "Sheets AuditTrips\n",
      "1\n",
      "Sheets ExpenseType\n"
     ]
    }
   ],
   "source": [
    "book = xlrd.open_workbook('testdata/test.xlsx')\n",
    "n= book.nsheets\n",
    "for x in range(0 , n):\n",
    "    print (x)\n",
    "    print (\"Sheets \" + book.sheet_names()[x])\n",
    "\n"
   ]
  },
  {
   "cell_type": "code",
   "execution_count": 10,
   "metadata": {},
   "outputs": [
    {
     "name": "stdout",
     "output_type": "stream",
     "text": [
      "Processing sheet AuditTrips\n",
      "7 145\n",
      "['Name', 'Title', 'Expenses', 'Date', 'Date Claim', 'CostCentre', 'ExpenseType', 'SourceSheet', 'Timestamp']\n",
      "Processing sheet ExpenseType\n",
      "Not an expenses extracct, skipping\n"
     ]
    }
   ],
   "source": [
    "#Here we load all the data into dataframes \n",
    "df = pd.DataFrame([])\n",
    "ts= strftime(\"%Y-%m-%d %H:%M:%S\")\n",
    "input_frames=[]\n",
    "for x in range(0, n):\n",
    "    sh=book.sheet_by_index(x)\n",
    "    cellA1= sh.cell_value(0,0)\n",
    "    print (\"Processing sheet \" + book.sheet_names()[x])\n",
    "    if cellA1==\"Name\":  \n",
    "        num_cols = sh.ncols   # Number of columns\n",
    "        num_rows = sh.nrows\n",
    "        print (num_cols, num_rows)\n",
    "        data=[]\n",
    "        for row_idx in range(0, num_rows):    # Iterate through rows use sh.nrows for all rows    \n",
    "            row_data=[]\n",
    "            for col_idx in range(0, num_cols):  # Iterate through columns\n",
    "                \n",
    "                \n",
    "                \n",
    "                cell_obj = sh.cell(row_idx, col_idx)  # Get cell object by row, col\n",
    "                cell_value= cell_obj.value\n",
    "                cell_type = sh.cell_type(row_idx, col_idx)\n",
    "                \n",
    "                if cell_type == xlrd.XL_CELL_DATE:\n",
    "                    get_col= xlrd.xldate.xldate_as_datetime (cell_value, book.datemode)\n",
    "                elif cell_type == xlrd.XL_CELL_NUMBER:\n",
    "                    get_col = float(cell_value)\n",
    "                else:\n",
    "                    get_col = str(cell_value)\n",
    "               \n",
    "                row_data.append(get_col)\n",
    "            data.append(row_data)\n",
    "            \n",
    "        #We create a frame with the first row beign the column names\n",
    "        frame=pd.DataFrame(data[1:],columns=data[0])\n",
    "        #We add here a column for the source sheet and a timestamp\n",
    "        frame[\"SourceSheet\"]=sh.name\n",
    "        frame[\"Timestamp\"]= ts\n",
    "        input_frames.append (frame)\n",
    "        print(list(frame))\n",
    "    else:\n",
    "        print(\"Not an expenses extracct, skipping\")"
   ]
  },
  {
   "cell_type": "code",
   "execution_count": 12,
   "metadata": {},
   "outputs": [
    {
     "name": "stdout",
     "output_type": "stream",
     "text": [
      "2 14\n",
      "['ExpenseType', 'Description']\n"
     ]
    }
   ],
   "source": [
    "sh=book.sheet_by_name('ExpenseType')\n",
    "num_cols = sh.ncols   # Number of columns\n",
    "num_rows = sh.nrows\n",
    "print (num_cols, num_rows)\n",
    "data=[]\n",
    "for row_idx in range(0, num_rows):    # Iterate through rows use sh.nrows for all rows    \n",
    "    row_data=[]\n",
    "    for col_idx in range(0, num_cols):  # Iterate through columns\n",
    "        cell_obj = sh.cell(row_idx, col_idx)  # Get cell object by row, col\n",
    "        cell_value= cell_obj.value\n",
    "        cell_type = sh.cell_type(row_idx, col_idx)        \n",
    "        if cell_type == xlrd.XL_CELL_DATE:\n",
    "            get_col= xlrd.xldate.xldate_as_datetime (cell_value, book.datemode)\n",
    "        elif cell_type == xlrd.XL_CELL_NUMBER:\n",
    "            get_col = float(cell_value)\n",
    "        else:\n",
    "            get_col = str(cell_value)\n",
    "\n",
    "        row_data.append(get_col)\n",
    "        data.append(row_data)\n",
    "df_expensetype=pd.DataFrame(data[1:],columns=data[0])\n",
    "print(list(df_expensetype))"
   ]
  },
  {
   "cell_type": "code",
   "execution_count": 13,
   "metadata": {},
   "outputs": [
    {
     "name": "stdout",
     "output_type": "stream",
     "text": [
      "Top 10 records\n",
      "     Name    Title  Expenses       Date Date Claim  CostCentre  ExpenseType  \\\n",
      "0    John   Senior    1000.0 2014-08-15 2014-09-24      1001.0         12.0   \n",
      "1   Peter  Manager    1500.0 2014-07-01 2014-08-30      1001.0          4.0   \n",
      "2    Arne   Senior      -1.0 2014-07-01 2014-08-10      1001.0          9.0   \n",
      "3   Hiten   Senior       0.0 2015-01-01 2015-02-10      1001.0          8.0   \n",
      "4  Najwan   Senior     830.0 2015-10-01 2015-11-10      1001.0          5.0   \n",
      "5   Peter  Manager    3000.0 2015-11-30 2016-01-09      1001.0          5.0   \n",
      "6    John   Senior      14.0 2014-08-15 2014-09-24      1001.0         13.0   \n",
      "7   Peter  Manager    4436.0 2014-07-01 2014-08-30      1001.0          7.0   \n",
      "8    Arne   Senior     299.0 2014-07-01 2014-08-10      1001.0         11.0   \n",
      "9   Hiten   Senior      34.0 2015-01-01 2015-02-10      1001.0         12.0   \n",
      "\n",
      "  SourceSheet            Timestamp  \n",
      "0  AuditTrips  2018-02-03 14:36:35  \n",
      "1  AuditTrips  2018-02-03 14:36:35  \n",
      "2  AuditTrips  2018-02-03 14:36:35  \n",
      "3  AuditTrips  2018-02-03 14:36:35  \n",
      "4  AuditTrips  2018-02-03 14:36:35  \n",
      "5  AuditTrips  2018-02-03 14:36:35  \n",
      "6  AuditTrips  2018-02-03 14:36:35  \n",
      "7  AuditTrips  2018-02-03 14:36:35  \n",
      "8  AuditTrips  2018-02-03 14:36:35  \n",
      "9  AuditTrips  2018-02-03 14:36:35  \n"
     ]
    }
   ],
   "source": [
    "#Here we concatenate the multiple dataframes we created , one per sheet\n",
    "# the ignore_index option is so that the main index is recreated so each row will have a unique ID \n",
    "if len(input_frames) >0:   \n",
    "    df = pd.concat(input_frames, ignore_index=True)\n",
    "\n",
    "df['Expenses'] = pd.to_numeric(df['Expenses'])\n",
    "df['Expenses']=df['Expenses'].fillna(0) #To convert any blanks/NaN to zero, you may want to check those before killing them\n",
    "\n",
    "print (\"Top 10 records\")\n",
    "print (df[0:10])\n",
    "\n"
   ]
  },
  {
   "cell_type": "code",
   "execution_count": 14,
   "metadata": {},
   "outputs": [
    {
     "name": "stdout",
     "output_type": "stream",
     "text": [
      "Record count (non null):\n",
      "Name           144\n",
      "Title          144\n",
      "Expenses       144\n",
      "Date           144\n",
      "Date Claim     144\n",
      "CostCentre     144\n",
      "ExpenseType    144\n",
      "SourceSheet    144\n",
      "Timestamp      144\n",
      "dtype: int64\n",
      "Min value:-1.0\n",
      "Max value:4436.0\n"
     ]
    }
   ],
   "source": [
    "print (\"Record count (non null):\")\n",
    "print(df.count())"
   ]
  },
  {
   "cell_type": "code",
   "execution_count": 21,
   "metadata": {},
   "outputs": [],
   "source": [
    "# This is an optional command to set the index, if we had some column that can act as index, otherwise, we get the default row number  on import\n",
    "#df.set_index(\"Name\", inplace=True, drop=False)\n"
   ]
  },
  {
   "cell_type": "code",
   "execution_count": 27,
   "metadata": {},
   "outputs": [
    {
     "name": "stdout",
     "output_type": "stream",
     "text": [
      "Nothing to delete\n",
      "test.xlsx\n"
     ]
    }
   ],
   "source": [
    "# Create a Pandas Excel writer using XlsxWriter as the engine.\n",
    "\n",
    "# Delete any previous output\n",
    "try:\n",
    "    os.remove('testdata/test_duplicates.xlsx')\n",
    "except:\n",
    "    #Do nothing we dont have the file\n",
    "    print (\"Nothing to delete\")\n",
    "    \n",
    "    \n",
    "!ls testdata"
   ]
  },
  {
   "cell_type": "code",
   "execution_count": 28,
   "metadata": {},
   "outputs": [
    {
     "name": "stdout",
     "output_type": "stream",
     "text": [
      "test.xlsx  test_duplicates.xlsx\n"
     ]
    }
   ],
   "source": [
    "#We write the new excel , dumping the dataframe\n",
    "try:\n",
    "    writer = pd.ExcelWriter('testdata/test_duplicates.xlsx', engine='xlsxwriter')\n",
    "    dupli_df.to_excel(writer, sheet_name='Sheet1')\n",
    "except:\n",
    "    print (\"error creating/saving excel file\")\n",
    "!ls testdata"
   ]
  },
  {
   "cell_type": "code",
   "execution_count": 29,
   "metadata": {},
   "outputs": [],
   "source": [
    "# Now we just open it to test it worked\n",
    "\n",
    "book = xlrd.open_workbook('testdata/test_duplicates.xlsx')\n"
   ]
  },
  {
   "cell_type": "code",
   "execution_count": 30,
   "metadata": {},
   "outputs": [
    {
     "name": "stdout",
     "output_type": "stream",
     "text": [
      "----------------------------------------\n",
      "Row: 0\n",
      "Column: [0] cell_obj: [empty:'']\n",
      "Column: [1] cell_obj: [text:'Name']\n",
      "Column: [2] cell_obj: [text:'Title']\n",
      "Column: [3] cell_obj: [text:'Expenses']\n",
      "Column: [4] cell_obj: [text:'Date']\n",
      "Column: [5] cell_obj: [text:'Date Claim']\n",
      "Column: [6] cell_obj: [text:'CostCentre']\n",
      "Column: [7] cell_obj: [text:'ExpenseType']\n",
      "Column: [8] cell_obj: [text:'SourceSheet']\n",
      "Column: [9] cell_obj: [text:'Timestamp']\n",
      "----------------------------------------\n",
      "Row: 1\n",
      "Column: [0] cell_obj: [number:152.0]\n",
      "Column: [1] cell_obj: [text:'Michaela']\n",
      "Column: [2] cell_obj: [text:'Senior']\n",
      "Column: [3] cell_obj: [number:300.0]\n",
      "Column: [4] cell_obj: [xldate:42114.0]\n",
      "Column: [5] cell_obj: [xldate:42124.0]\n",
      "Column: [6] cell_obj: [number:1002.0]\n",
      "Column: [7] cell_obj: [number:9.0]\n",
      "Column: [8] cell_obj: [text:'Events']\n",
      "Column: [9] cell_obj: [text:'2017-02-06 20:45:25']\n",
      "----------------------------------------\n",
      "Row: 2\n",
      "Column: [0] cell_obj: [number:271.0]\n",
      "Column: [1] cell_obj: [text:'Michaela']\n",
      "Column: [2] cell_obj: [text:'Senior']\n",
      "Column: [3] cell_obj: [number:300.0]\n",
      "Column: [4] cell_obj: [xldate:42114.0]\n",
      "Column: [5] cell_obj: [xldate:42154.0]\n",
      "Column: [6] cell_obj: [number:1003.0]\n",
      "Column: [7] cell_obj: [number:10.0]\n",
      "Column: [8] cell_obj: [text:'Other']\n",
      "Column: [9] cell_obj: [text:'2017-02-06 20:45:25']\n",
      "----------------------------------------\n",
      "Row: 3\n",
      "Column: [0] cell_obj: [number:149.0]\n",
      "Column: [1] cell_obj: [text:'Peter']\n",
      "Column: [2] cell_obj: [text:'Manager']\n",
      "Column: [3] cell_obj: [number:2000.0]\n",
      "Column: [4] cell_obj: [xldate:42247.0]\n",
      "Column: [5] cell_obj: [xldate:42337.0]\n",
      "Column: [6] cell_obj: [number:1002.0]\n",
      "Column: [7] cell_obj: [number:13.0]\n",
      "Column: [8] cell_obj: [text:'Events']\n",
      "Column: [9] cell_obj: [text:'2017-02-06 20:45:25']\n",
      "----------------------------------------\n",
      "Row: 4\n",
      "Column: [0] cell_obj: [number:275.0]\n",
      "Column: [1] cell_obj: [text:'Peter']\n",
      "Column: [2] cell_obj: [text:'Manager']\n",
      "Column: [3] cell_obj: [number:2000.0]\n",
      "Column: [4] cell_obj: [xldate:42247.0]\n",
      "Column: [5] cell_obj: [xldate:42287.0]\n",
      "Column: [6] cell_obj: [number:1003.0]\n",
      "Column: [7] cell_obj: [number:13.0]\n",
      "Column: [8] cell_obj: [text:'Other']\n",
      "Column: [9] cell_obj: [text:'2017-02-06 20:45:25']\n"
     ]
    }
   ],
   "source": [
    "xl_sheet = book.sheet_by_index(0)\n",
    "#Alternatively:\n",
    "#xl_sheet = book.sheet_by_name('Sheet1')\n",
    "\n",
    "num_cols = xl_sheet.ncols   # Number of columns\n",
    "\n",
    "for row_idx in range(0, xl_sheet.nrows):    # Iterate through rows\n",
    "    print ('-'*40)\n",
    "    print ('Row: %s' % row_idx)   # Print row number\n",
    "    for col_idx in range(0, num_cols):  # Iterate through columns\n",
    "        cell_obj = xl_sheet.cell(row_idx, col_idx)  # Get cell object by row, col\n",
    "        print ('Column: [%s] cell_obj: [%s]' % (col_idx, cell_obj))\n"
   ]
  },
  {
   "cell_type": "code",
   "execution_count": null,
   "metadata": {
    "collapsed": true
   },
   "outputs": [],
   "source": []
  }
 ],
 "metadata": {
  "kernelspec": {
   "display_name": "Python 3",
   "language": "python",
   "name": "python3"
  },
  "language_info": {
   "codemirror_mode": {
    "name": "ipython",
    "version": 3
   },
   "file_extension": ".py",
   "mimetype": "text/x-python",
   "name": "python",
   "nbconvert_exporter": "python",
   "pygments_lexer": "ipython3",
   "version": "3.7.0"
  }
 },
 "nbformat": 4,
 "nbformat_minor": 2
}
