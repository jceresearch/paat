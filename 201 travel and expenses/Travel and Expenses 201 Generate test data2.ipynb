{
 "cells": [
  {
   "cell_type": "markdown",
   "metadata": {},
   "source": [
    "# Tutorial: Create simulated organization and expenses to do a load test"
   ]
  },
  {
   "cell_type": "markdown",
   "metadata": {},
   "source": [
    "This is a notebook to perform a load test of how Pandas/Numpy analytics library behaves in the context of this notebook, and to learn a few things on the way.\n"
   ]
  },
  {
   "cell_type": "code",
   "execution_count": 1,
   "metadata": {},
   "outputs": [],
   "source": [
    "# Update these variables to configure how large are going to be the datasets we are going to generate\n",
    "\n",
    "number_of_transactions= 1000\n",
    "number_of_individuals=100"
   ]
  },
  {
   "cell_type": "markdown",
   "metadata": {},
   "source": [
    "## Generate simulated data\n",
    "\n",
    "You can skip this section if you are not interested (yet) in how we create the data set. \n",
    "\n",
    "The short story is that we create a simulated organization with employees and managers, and then a random selection of people, dates and amounts to simulate an expense. The claim date is a random date X days from the date of the expenditure (note that this is not how in real life claims would behave, but maybe in future version of this tutorials I will get to do that bit).\n",
    "The output are two \"lists\" in memory that store in each row another list, creating a two-dimensional table, that can be referenced as  list[row][column]"
   ]
  },
  {
   "cell_type": "code",
   "execution_count": 2,
   "metadata": {},
   "outputs": [],
   "source": [
    "#This is needed when running it in azure because the FAKER module (needed to generate fake names)\n",
    "#is not readily available\n",
    "#!conda install faker\n",
    "#!pip install faker\n",
    "from faker import Faker\n",
    "fake = Faker()"
   ]
  },
  {
   "cell_type": "markdown",
   "metadata": {},
   "source": [
    "The following section imports the rest of the libraries needed, these should be standard in any Python\n",
    "Then we declare the functions we need for generating the fake data"
   ]
  },
  {
   "cell_type": "code",
   "execution_count": 32,
   "metadata": {},
   "outputs": [],
   "source": [
    "#!Python3\n",
    "\n",
    "from decimal import Decimal, ROUND_HALF_UP, ROUND_HALF_DOWN # use in rounding floating numbers \n",
    "import datetime \n",
    "from datetime import date\n",
    "import time\n",
    "import random\n",
    "import numpy as np\n",
    "\n",
    "\n",
    "\n",
    "\n",
    "def generate_org(n):\n",
    "    #This is the overall function to create the simulated organization\n",
    "    \n",
    "    \n",
    "    def create_team(id,fullname,mid, mfullname ,list,maxtsize,osize,band,staff_band, ccentre,borg_id):\n",
    "        \"\"\"This is the recursive function we use to create teams under people\"\"\"\n",
    "        \n",
    "        if len(list)<osize:\n",
    "            if fullname=='':\n",
    "                fullname=fake.first_name()+' '+fake.last_name()\n",
    "            if mfullname=='':\n",
    "                mfullname=fullname            \n",
    "            titles=[['Executive','Senior Director', 'Non Executive Dr','Chairman'],['Director'],['Department Head'],['Manager'],['Team lead','Supervisor','PA'],['Senior staff','Staff','Junior Staff', 'Assistant', 'Intern','Temp']]         \n",
    "            \n",
    "            titlechoice=titles[band-1]        \n",
    "            title=np.random.choice(titlechoice) \n",
    "            \n",
    "            if band<staff_band:\n",
    "                ccentre=str(ccentre)+\".\"+str(id)\n",
    "            borg_id=str(borg_id)+\".\"+str(id)            \n",
    "            list.append([fullname,id,mid,mfullname,band,ccentre,borg_id,title]) \n",
    "            #If the person is not the lower \"staff\" band, then is a manager and needs a team below\n",
    "            if band<staff_band:               \n",
    "                if band==1:\n",
    "                    tsize = max(4, int(np.random.normal(maxtsize, 1, 1)[0]))\n",
    "                else:\n",
    "                    tsize = max(0, int(np.random.normal(maxtsize, 1.5, 1)[0]))                \n",
    "                if tsize>0:\n",
    "                    mid=id\n",
    "                    for n in range(1,tsize):                       \n",
    "                        id=len(list)+1\n",
    "                        if len(list)>=osize:\n",
    "                             break\n",
    "                        list=create_team(id,'',mid,fullname,list,maxtsize,osize,band+1,staff_band,ccentre,borg_id)                       \n",
    "        return list  \n",
    "    list=create_team(1,'Steve Jobs',1,'',[],10,n,1,6,1,1)\n",
    "    \n",
    "    namelist_header=['EmployeeName','EmployeeID','ManagerID','ManagerFullname','Band','CostCentre','BorgID','EmployeeTitle']\n",
    "    print(\"Created an organization of \" + str(len(namelist)) + \" individuals\")\n",
    "\n",
    "    return list, namelist_header\n",
    "    \n",
    "\n",
    "def generate_desc():\n",
    "    return fake.text(max_nb_chars=200) \n",
    "\n",
    "#We dont use yet this sanitise function, it would be handy if we have unicode or non printable characters in the names or description fields\n",
    "#for example if we wanted to export a selection of expenses with the filename having the name of the manager\n",
    "def sanitise(s):\n",
    "    import unicodedata\n",
    "    import string\n",
    "    validChars = \"-_.() %s%s\" % (string.ascii_letters, string.digits)\n",
    "    cleaneds=s\n",
    "    if type(s)=='unicode':\n",
    "        try:\n",
    "            cleaneds = unicodedata.normalize('NFKD', s).encode('ASCII', 'ignore')\n",
    "        except:\n",
    "            #do nothing\n",
    "            print (\"error parsing unicode string\")\n",
    "        \n",
    "    return  ''.join(c for c in cleaneds if c in validChars)\n",
    "\n",
    "def generate_date(start,end):\n",
    "    nbdays=(end-start).days\n",
    "    d=random.randint(0,nbdays)\n",
    "    return start+dt.timedelta(days=d)\n",
    "\n",
    "    \n",
    "def generate_line(namelist,yyyy):    \n",
    "    \n",
    "    r=random.randint(0,len(namelist)-1)\n",
    "    person=namelist[r][0]\n",
    "    person_id=namelist[r][1]\n",
    "    approver_id=namelist[r][2]\n",
    "    person_ccentre=namelist[r][5]\n",
    "    person_title=namelist[r][7]\n",
    "    start_date=date(yyyy,1,1)\n",
    "    end_date=date(yyyy,12,31)\n",
    "    description= generate_desc()\n",
    "    date1= fake.date_time_between(start_date=start_date, end_date=end_date)     \n",
    "    date1_str = date1.strftime(\"%d-%m-%Y\")                                            \n",
    "    d=max(0,np.random.normal(30,8,1)[0])\n",
    "    date2= date1+ datetime.timedelta(days=d)\n",
    "    date2_str = date2.strftime(\"%d-%m-%Y %H:%M:%S\")       \n",
    "    amountfp = abs(np.random.normal(20,8,1)[0])\n",
    "    amount= Decimal(str(amountfp)).quantize(Decimal('1.11'), rounding=ROUND_HALF_UP) \n",
    "    amount_str=str(amount)\n",
    "    line=[person_id,person,date1_str,amount_str,date2_str,person_ccentre,person_title,approver_id, description]\n",
    "    return line\n",
    "\n",
    "def export_csv(filename,list, header):\n",
    "    #This is a utility function that just export a list as a csv\n",
    "    import csv\n",
    "    with open(filename , 'w') as csvfile:\n",
    "        outputwriter = csv.writer(csvfile, quotechar='\"', quoting=csv.QUOTE_NONNUMERIC, dialect='excel-tab')\n",
    "        outputwriter.writerow(header)\n",
    "        for r in list: \n",
    "            outputwriter.writerow(r)\n"
   ]
  },
  {
   "cell_type": "code",
   "execution_count": null,
   "metadata": {},
   "outputs": [],
   "source": [
    "\n"
   ]
  },
  {
   "cell_type": "code",
   "execution_count": 33,
   "metadata": {},
   "outputs": [],
   "source": [
    "\n",
    "#We generate the simulated expense claims\n",
    "def generate_simulated_expenses(number_of_transactions, namelist):\n",
    "    simulated_expenses=[]\n",
    "    count=1\n",
    "    simulated_expenses_header=['EmployeeID','EmployeeName','DateExpense','Amount','DateClaim','CostCentre','EmployeeTitle','ApproverID','Description']\n",
    "    while count<=number_of_transactions:\n",
    "        simulated_expenses.append(generate_line(namelist,2016))\n",
    "        count+=1\n",
    "    print (\"Created a simulated run of \" + str(len(simulated_expenses)) + \" expenses entries\")\n",
    "    #you can return just the list if you wish\n",
    "    #return simulated_expenses\n",
    "    #Alternative you can return the list and the header\n",
    "    #return simulated_expenses, simulated_expenses_header\n",
    "    #Or you could try something like to combine into a single list including header\n",
    "    #combined_list= simulated_expenses_header\n",
    "    #combined_list.extend(simulated_expenses)\n",
    "    #Or you can return a Pandas DataFrame object\n",
    "    return pd.DataFrame(data=simulated_expenses,columns=simulated_expenses_header)\n",
    "\n"
   ]
  },
  {
   "cell_type": "markdown",
   "metadata": {},
   "source": [
    "## --- END SKIP---"
   ]
  },
  {
   "cell_type": "markdown",
   "metadata": {},
   "source": [
    "# We create a Pandas dataframe and perform some merges\n",
    "This section is to test the Pandas speed. Pandas sits on top of Numpy, and is slightly slower, but it is easier to use"
   ]
  },
  {
   "cell_type": "code",
   "execution_count": 30,
   "metadata": {},
   "outputs": [],
   "source": [
    "import pandas as pd"
   ]
  },
  {
   "cell_type": "code",
   "execution_count": null,
   "metadata": {},
   "outputs": [],
   "source": [
    "\n",
    "df1= generate_expenses()\n",
    "df2= pd.DataFrame(data=namelist,columns=namelist_header)"
   ]
  },
  {
   "cell_type": "code",
   "execution_count": null,
   "metadata": {},
   "outputs": [],
   "source": [
    "#Working call to export the org chart, commented out by default\n",
    "#export_csv('dummy_org.csv',namelist,namelist_header)\n",
    "#!ls -lh"
   ]
  },
  {
   "cell_type": "code",
   "execution_count": 13,
   "metadata": {},
   "outputs": [
    {
     "name": "stdout",
     "output_type": "stream",
     "text": [
      "James Leach\n",
      "EmployeeID                                                      94\n",
      "EmployeeName                                           James Leach\n",
      "DateExpense                                             09-11-2016\n",
      "Amount                                                        9.02\n",
      "DateClaim                                      09-12-2016 17:00:56\n",
      "CostCentre                                           1.1.2.3.78.89\n",
      "EmployeeTitle                                                 Temp\n",
      "ApproverID                                                      89\n",
      "Description      Step place which. Win buy manage. Whose a much...\n",
      "Name: 0, dtype: object\n",
      "Empty DataFrame\n",
      "Columns: [EmployeeID, EmployeeName, DateExpense, Amount, DateClaim, CostCentre, EmployeeTitle, ApproverID, Description]\n",
      "Index: []\n",
      "  EmployeeName  EmployeeID  ManagerID ManagerFullname  Band   CostCentre  \\\n",
      "5   John Dixon           6          5     Robert Kemp     6  1.1.2.3.4.5   \n",
      "\n",
      "          BorgID EmployeeTitle  \n",
      "5  1.1.2.3.4.5.6        Intern  \n"
     ]
    }
   ],
   "source": [
    "print(df1.EmployeeName[0])\n",
    "print(df1.iloc[0])\n",
    "print (df1.loc[df1.CostCentre=='1.1.3'])\n",
    "print (df2.loc[df2.EmployeeID==6])\n"
   ]
  },
  {
   "cell_type": "code",
   "execution_count": 14,
   "metadata": {},
   "outputs": [
    {
     "name": "stdout",
     "output_type": "stream",
     "text": [
      "EmployeeName        Ruben Lee\n",
      "EmployeeID                  2\n",
      "ManagerID                   1\n",
      "ManagerFullname    Steve Jobs\n",
      "Band                        2\n",
      "CostCentre              1.1.2\n",
      "BorgID                  1.1.2\n",
      "EmployeeTitle        Director\n",
      "Name: 1, dtype: object\n",
      "   EmployeeID  EmployeeName    EmployeeTitle         BorgID  Band\n",
      "0           1    Steve Jobs         Chairman            1.1     1\n",
      "1           2     Ruben Lee         Director          1.1.2     2\n",
      "2           3  Kelsey Evans  Department Head        1.1.2.3     3\n",
      "3           4   Carly Perez          Manager      1.1.2.3.4     4\n",
      "4           5   Robert Kemp        Team lead    1.1.2.3.4.5     5\n",
      "5           6    John Dixon           Intern  1.1.2.3.4.5.6     6\n"
     ]
    }
   ],
   "source": [
    "print(df2.iloc[1])\n",
    "print (df2.loc[0:5,['EmployeeID','EmployeeName','EmployeeTitle','BorgID','Band']])"
   ]
  },
  {
   "cell_type": "code",
   "execution_count": 15,
   "metadata": {},
   "outputs": [
    {
     "name": "stdout",
     "output_type": "stream",
     "text": [
      "EmployeeID                                                      94\n",
      "EmployeeName                                           James Leach\n",
      "DateExpense                                             09-11-2016\n",
      "Amount                                                        9.02\n",
      "DateClaim                                      09-12-2016 17:00:56\n",
      "CostCentre                                           1.1.2.3.78.89\n",
      "EmployeeTitle                                                 Temp\n",
      "ApproverID                                                      89\n",
      "Description      Step place which. Win buy manage. Whose a much...\n",
      "BorgID                                            1.1.2.3.78.89.94\n",
      "Band                                                             6\n",
      "Name: 0, dtype: object\n"
     ]
    }
   ],
   "source": [
    "df3= pd.merge(df1, df2.loc[:,['EmployeeID','BorgID','Band']], how='left', on='EmployeeID',\n",
    "         left_index=False, right_index=False, sort=False,\n",
    "         suffixes=('', ''), copy=True, indicator=False)\n",
    "print (df3.iloc[0])"
   ]
  },
  {
   "cell_type": "code",
   "execution_count": 21,
   "metadata": {},
   "outputs": [
    {
     "name": "stdout",
     "output_type": "stream",
     "text": [
      "EmployeeID                                                               65\n",
      "EmployeeName                                                  Amanda Peters\n",
      "DateExpense                                                      01-10-2016\n",
      "Amount                                                                27.44\n",
      "DateClaim                                               01-11-2016 05:18:07\n",
      "CostCentre                                                     1.1.2.3.4.57\n",
      "EmployeeTitle                                                  Junior Staff\n",
      "ApproverID                                                               57\n",
      "Description               Somebody purpose item economic beyond board. C...\n",
      "BorgID                                                      1.1.2.3.4.57.65\n",
      "Band                                                                      6\n",
      "EmployeeID_approver                                                      57\n",
      "EmployeeName_approver                                       Heather Wiggins\n",
      "EmployeeTitle_approver                                            Team lead\n",
      "BorgID_approver                                                1.1.2.3.4.57\n",
      "Band_approver                                                             5\n",
      "Name: 0, dtype: object\n"
     ]
    }
   ],
   "source": [
    "df4= pd.merge(df3, df2.loc[:,['EmployeeID','EmployeeName','EmployeeTitle','BorgID','Band']], how='left',left_on='ApproverID', right_on='EmployeeID',\n",
    "         left_index=False, right_index=False, sort=False,\n",
    "         suffixes=('', '_approver'), copy=True, indicator=False)\n",
    "print (df4.iloc[0])"
   ]
  },
  {
   "cell_type": "code",
   "execution_count": 22,
   "metadata": {},
   "outputs": [
    {
     "name": "stdout",
     "output_type": "stream",
     "text": [
      "   EmployeeName  EmployeeID  ManagerID  ManagerFullname  Band    CostCentre  \\\n",
      "57  Debbie Chan          58         57  Heather Wiggins     6  1.1.2.3.4.57   \n",
      "\n",
      "             BorgID EmployeeTitle  \n",
      "57  1.1.2.3.4.57.58          Temp  \n",
      "   EmployeeName  EmployeeID  ManagerID ManagerFullname  Band    CostCentre  \\\n",
      "54   Tammy Hall          55         50   Taylor Molina     6  1.1.2.3.4.50   \n",
      "\n",
      "             BorgID EmployeeTitle  \n",
      "54  1.1.2.3.4.50.55  Junior Staff  \n"
     ]
    }
   ],
   "source": [
    "print (df2[df2.EmployeeID==58])\n",
    "print (df2[df2.EmployeeID==55])\n"
   ]
  }
 ],
 "metadata": {
  "kernelspec": {
   "display_name": "Python 3",
   "language": "python",
   "name": "python3"
  },
  "language_info": {
   "codemirror_mode": {
    "name": "ipython",
    "version": 3
   },
   "file_extension": ".py",
   "mimetype": "text/x-python",
   "name": "python",
   "nbconvert_exporter": "python",
   "pygments_lexer": "ipython3",
   "version": "3.7.4"
  }
 },
 "nbformat": 4,
 "nbformat_minor": 4
}
