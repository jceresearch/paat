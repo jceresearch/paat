{
 "cells": [
  {
   "cell_type": "code",
   "execution_count": 4,
   "metadata": {},
   "outputs": [],
   "source": [
    "#!pip install textstat\n",
    "#!pip install ipywidgets\n",
    "#!jupyter nbextension enable --py widgetsnbextension"
   ]
  },
  {
   "cell_type": "code",
   "execution_count": 3,
   "metadata": {},
   "outputs": [],
   "source": [
    "import pandas as pd\n",
    "import re\n",
    "import textstat\n",
    "import ipywidgets as widgets\n",
    "import itertools\n",
    "import json\n",
    "from collections import namedtuple"
   ]
  },
  {
   "cell_type": "code",
   "execution_count": 1,
   "metadata": {},
   "outputs": [],
   "source": [
    "test_data = (\n",
    "    \"Playing games has always been thought to be important to \"\n",
    "    \"the development of well-balanced and creative children; \"\n",
    "    \"however, what part, if any, they should play in the lives \"\n",
    "    \"of adults has never been researched that deeply. I believe \"\n",
    "    \"that playing games is every bit as important for adults \"\n",
    "    \"as for children. Not only is taking time out to play games \"\n",
    "    \"with our children and other adults valuable to building \"\n",
    "    \"interpersonal relationships but is also a wonderful way \"\n",
    "    \"to release built up tension, don't miss this opportunity, you require it.\"\n",
    "    \" Children require play time on their own. Directing play reduces\"\n",
    "    \" the chance of the child exercising creative thinking, boredom \"\n",
    "    \"is a powerful creative driver for both children and adults.\\n\"\n",
    "    \"When a child asks her mother \\\"Where do babies come from?\\\", what \"\n",
    "    \"should one reply to her?\\n\"\n",
    "    \"John.Smith@domain.co.uk\\n\"\n",
    "    \"First written in 2020.06.01\\n\"\n",
    "    \"This is a text of a longish - i.e. more than the 14 words - sentence, with a number \"\n",
    "    \"of complex terms and structures that makes the sentence very long winded and difficult to\"\n",
    "    \"read; length, the use of passive voice and vague filler words should be picked by the  script.\\n\"\n",
    "    \" Continuing with the discussion,  the authors would like to point out that, in our \"\n",
    "    \"opinion, we disagree with the decisions made.  This is another example of sentences \"\n",
    "    \"that have no place in modern business communication; times have moved on.\"\n",
    ")"
   ]
  },
  {
   "cell_type": "code",
   "execution_count": 5,
   "metadata": {},
   "outputs": [],
   "source": [
    "def text_stats(input_text):\n",
    "    test={}\n",
    "    test[\"flesch_reading_ease_index\"]= textstat.flesch_reading_ease(input_text)\n",
    "    #0-59 is difficult, 0= Very Confusing - 100= Very Easy    \n",
    "    test[\"smog_grade\"]= textstat.smog_index(input_text)\n",
    "    #Grade level needed to read it\n",
    "    test[\"flesch_kincaid_grade\"]= textstat.flesch_kincaid_grade(input_text)\n",
    "    #Grade level needed to read it \n",
    "    test[\"coleman_liau_grade\"]= textstat.coleman_liau_index(input_text)\n",
    "    #Grade level needed to read it  \n",
    "    test[\"ari_grade\"]= textstat.automated_readability_index(input_text)\n",
    "    #Grade level needed to read it    \n",
    "    test[\"dale_chall_score\"]=textstat.dale_chall_readability_score(input_text)\n",
    "    #Readability score, 4.9 or lower=4th grader, 9-9.9=13th-15th (College)    \n",
    "    test[\"dale_chall_grade\"]=round(4.9*(1-(test[\"dale_chall_score\"]-4.9)/(9.9-4.9))+15.0*((test[\"dale_chall_score\"]-4.9)/(9.9-4.9)),2)\n",
    "    test[\"linsear_grade\"]= textstat.linsear_write_formula(input_text)\n",
    "    #Grade level to read it   \n",
    "    test[\"gunning_fog_grade\"]=textstat.gunning_fog(input_text)\n",
    "    #Grade level needed to read it  \n",
    "    test[\"consensus\"] = textstat.text_standard(input_text, float_output=True)\n",
    "    #Consensus grade \n",
    "    return test"
   ]
  },
  {
   "cell_type": "code",
   "execution_count": 25,
   "metadata": {},
   "outputs": [
    {
     "name": "stdout",
     "output_type": "stream",
     "text": [
      "Rule 1 Avoid filler words\n",
      "Rule 2 Avoid filler words\n",
      "Rule 3 Avoid filler words\n",
      "Rule 4 Avoid filler words\n",
      "Rule 5 The readers know that, this is an audit report.\n",
      "Rule 6 The readers know that, this is an audit report.\n",
      "Rule 7 The readers know that, this is an audit report.\n",
      "Rule 8 Do you absolutely need to tell the reader this?\n",
      "Rule 9 Can mean we haven't done enough work to support the conclusion.\n",
      "Rule 10 Can mean we haven't done enough work to support the conclusion.\n",
      "Rule 11 Use precise words/numbers. \"around\" sounds woolly\n",
      "Rule 12 Subjective statement, word it as an objectively/fact-based statement if you can.\n",
      "Rule 13 Check if the agreed style is to use 'we' as opposed to the name of the department, etc.\n",
      "Rule 14 Expand to do not\n",
      "Rule 15 Expand to does not\n",
      "Rule 16 Expand to Will not\n",
      "Rule 17 Expand to Would not\n",
      "Rule 18 Expand to Cannot\n",
      "Rule 19 Expand to Have not\n",
      "Rule 20 Avoid mid-sentence use of however. Better at the start of a sentence to flag where the issue is. Also check if you can avoid it completely.\n",
      "Rule 21 Clear/Unclear may sound as if it was our fault, that we didn't understand. Go back to the basics/facts or use language that puts the burden on them.\n",
      "Rule 22 Bushism? Probably not a real word\n",
      "Rule 23 It may sound as if it was our fault, that we didn't understand. Go back to the basics/facts or use language that puts the burden on them.\n",
      "Rule 24 Have we used yellow or pink highlighter? Use simpler language if you can.\n",
      "Rule 25 Vague, speculative\n",
      "Rule 26 Vague, add the actual number\n",
      "Rule 27 Vague, add the actual number or some range\n",
      "Rule 28 Vague, add specifics\n",
      "Rule 29 Be specific if you can, put number. Few is relative to the reader\n",
      "Rule 30 Formally and documented may be overworking the point.\n",
      "Rule 31 Could a simpler term work?\n",
      "Rule 32 Could a simpler term work?\n",
      "Rule 33 Could a simpler term work?\n",
      "Rule 34 Vague, add specifics, commit\n",
      "Rule 35 Reader will think you live in an ivory tower and never ran a business in your life",
      " of course, this is a large organization and \"not all\" cases will follow a rule, that's why there are exceptions. Give a sense of scale by including numbers and percentage (however crude), clarify if the issue is that the exceptions are not justified, or they didn't follow existing exception processes, or management cannot even report on how many didn't followed the expected behaviour.\n",
      "Rule 36 Be specific, put the number\n",
      "Rule 37 Circa is used for dates, double check\n",
      "Rule 38 Consultancy lingo\n",
      "Rule 39 Negative tones, use with caution.\n",
      "Rule 40 Vague\n",
      "Rule 41 Use active word, is the issue only documentation? Anything else we can say?\n",
      "Rule 42 Could simpler words work?\n",
      "Rule 43 If you need to use the word wish in an audit report, better wish your boss has mercy\n",
      "Rule 44 Could you use keep?\n",
      "Rule 45 The readers know that, this is an audit report.\n",
      "Rule 46 Often overused\n",
      "Rule 47 Could you use \"so\", \"then\", \"hence\"?\n",
      "Rule 48 Could you use \"to\"?\n",
      "Rule 49 Simpler word?\n",
      "Rule 50 Double check, what \"limited\" means exactly, is it a limited scope? We live in a world of limited resource, are you trying to say \"not fit for purpose\" or \"insufficient\"?\n",
      "Rule 51 Double check, what \"limited\" means exactly, is it a limited scope? We live in a world of limited resource, are you trying to say \"not fit for purpose\" or \"insufficient\"?\n",
      "Rule 52 Double check, what \"limited\" means exactly, is it a limited scope? We live in a world of limited resource, are you trying to say \"not fit for purpose\" or \"insufficient\"?\n",
      "Rule 53 Possible back-covering?\n",
      "Rule 54 Check  preferred style , some Directors prefer \"has\"\n",
      "Rule 55 Prefer shorter/active voice\n",
      "Rule 56 Padding, could you use just \"focus\"\n",
      "Rule 57 Could you use \"about\"\n",
      "Rule 58 Could you use help? ",
      " you need help, yes.\n",
      "Rule 59 Missing comma? Check if you can avoid/reduce its use.\n",
      "Rule 60 Check if you are not \"over\" using it, Make the wording punchier.\n",
      "Rule 61 Avoid if possible, maybe use \"past\"?\n",
      "Rule 62 Check if you can put something more than just a point on formalities\n",
      "Rule 63 What that exactly means? Difficult words make it harder to the reader, also consider that non-native speakers may be reading this report.\n",
      "Rule 64 Check if we shouldn't say \"provide assurance ",
      "\" Or the shorter \"make sure\"\n",
      "Rule 65 Could you use start?\n",
      "Rule 66 Could you use a shorter glue word?\n",
      "Rule 67 Often misused or too generic, double check if it is sufficiently explained.\n",
      "Rule 68 Do you really need a semicolon?\n",
      "Rule 69 Be careful with this term, if we are referring to data, prefer using the standard data classification labels",
      " confidential, restricted confidential, etc. Or ensure the reader knows exactly what kInd of data are we talking about.\n",
      "Rule 70 Check if you need to clarify actual frequency\n",
      "Rule 71 Check if you need to clarify the actual frequency\n",
      "Rule 72 Ensure the reader understand what partially means, what is the residual risk or aspect that is NOT covered\n",
      "Rule 73 If used as a verb consider \"do\" or other more specific word\n",
      "Rule 74 If used as a verb consider \"do\" or other more specific word\n",
      "Rule 75 If used as a verb consider \"do\" or other more specific word\n",
      "Rule 76 Use with care\n",
      "Rule 77 Use with care\n",
      "Rule 78 Use with care\n",
      "Rule 79 Check if we are not being speculative or too colloquial.\n",
      "Rule 80 Double spaces\n",
      "Rule 81 Space before period\n",
      "Rule 82 Space before comma\n",
      "Rule 83 Space before colon\n",
      "Rule 84 Check if \"review\" is the right word. Readers have been confused by the term (audit vs review)\n",
      "Rule 85 LT removed it in the exec summary of a weak report, check if the tone is right, maybe it sounded patronising and/or a more neutral factual wording was appropriate.\n",
      "Rule 86 Consider \"Implement\" or \"Establish\" or better yet \"Embed\" (to allow time to mature)\n",
      "Rule 87 Check if we are all on the same page regarding what  \"establish\"  means (e.g. same as embed? Or just \"implement\"). Consider specific factual elements that we would take as evidence of something being established.\n",
      "Rule 88 Check if \"Need\" or other direct words may work better in this context.\n",
      "Rule 89 Use \"Require\"?  \"Need\" is direct/informal and may or may not be the right tone depending on the context.\n",
      "Rule 90 Could you use \"rigorous\" or consistent, mature, reliable, embedded, verifiable, resilient, funded (if we are talking plans), effective?\n",
      "Rule 91 Make sure it is truly the case, and if so, explain why, especially if it refers to us.\n",
      "Rule 92 Make sure it is truly the case, and if so, explain why, especially if it refers to us.\n",
      "Rule 93 Make sure it is truly the case, and if so, explain why, especially if it refers to us.\n",
      "Rule 94 Use can, might, could, may.\n",
      "Rule 95 Make sure it is truly the case, and if so, explain why, especially if it refers to us.\n",
      "Rule 96 A \"soft\" word that may give too much room for not doing nothing or refer to \"thinking\" activity. Prefer action related words",
      " include, address, remediate, comply with, document, etc.\n",
      "Rule 97 Prefer active voice, who should have done whatever\n",
      "Rule 98 Can you be more precise on timeframes\n",
      "Rule 99 Can you be more precise on timeframes\n",
      "Rule 100 Can you be more precise on timeframes\n",
      "Rule 101 Can you be more precise on timeframes\n",
      "Rule 102 Can you be more precise on timeframes\n",
      "Rule 103 Prefer dates with explicit month, check the style guidelines.\n",
      "Rule 104 Could you use get?\n",
      "Rule 105 Could you use find?\n",
      "Rule 106 Could you use tell?\n",
      "Rule 107 Could you use before?\n",
      "Rule 108 Could you use keep or stay?\n",
      "Rule 109 Could you use take?\n",
      "Rule 110 Could you ",
      " stop?\n",
      "Rule 111 Could you use prove or show?\n",
      "Rule 112 Could you use shorter versions? Work together, help.\n",
      "Rule 113 Check if this is not referring to people not understanding something. It can be taken badly by readers. Use if absolutely clear/supported\n",
      "Rule 114 Check if this is not referring to people not understanding something. It can be taken badly by readers. Use if absolutely clear/supported\n",
      "Rule 115 Are you sure the reader understand what Basic means\n",
      "Rule 116 Are we clear on whether we have verified/is evidenced of we are taking their statement at face value\n",
      "Rule 117 Are we clear on whether we have verified/is evidenced of we are taking their statement at face value\n",
      "Rule 118 The term mitigation could be confusing, check it is clear if partial or full. If partial make sure to explain the residual risk\n",
      "Rule 119 Check you are not padding or overusing\n",
      "Rule 120 Check you are not padding or overusing\n",
      "Rule 121 Check if needed.\n",
      "Rule 122 Check if it is clear which policies are we talking about (enterprise vs local, standards vs true \"policies\")\n",
      "Rule 123 Use \"All the\"\n",
      "Rule 124 Avoid where possible\n",
      "Rule 125 Use Because\n",
      "Rule 126 Use \"regarding\" or \"about\"\n",
      "Rule 127 Use \"regarding\" or \"about\"\n",
      "Rule 128 Use \"regarding\" or \"about\"\n",
      "Rule 129 Restructure to focus on the actual statement\n",
      "Rule 130 Remove\n",
      "Rule 131 Remove\n",
      "Rule 132 Prefer \"if\"\n",
      "Rule 133 Prefer active voice\n",
      "Rule 134 Prefer active voice\n",
      "Rule 135 Prefer active voice\n",
      "Rule 136 Prefer active voice\n",
      "Rule 137 Remove\n",
      "Rule 138 Check if there is enough context for the reader. Often it refers to a specific risk appetite statement, or to tolerances.\n"
     ]
    }
   ],
   "source": [
    "import json\n",
    "with open('rules.json', encoding='ISO-8859-1') as json_file:\n",
    "    rules = json.load(json_file)\n",
    "for index, rule in enumerate (rules, start=1):\n",
    "    print(\"Rule \"+str(index),rule['guidance'])\n",
    "    test_string= rule['test_string'].encode().decode('unicode_escape')\n",
    "    if rule[\"case_sensitive\"]:\n",
    "        matches= re.findall(rule[\"regex\"], test_string )\n",
    "    else:\n",
    "        matches= re.findall(rule[\"regex\"], test_string, flags= re.IGNORECASE)\n",
    "    if len(matches)!= rule['test_hits']:\n",
    "        print(str(rule['id']) +\" failed the test string, pls review it\")\n",
    "    "
   ]
  },
  {
   "cell_type": "code",
   "execution_count": 20,
   "metadata": {},
   "outputs": [],
   "source": [
    "def split_into_sentences(text):\n",
    "    alphabets= \"([A-Za-z])\"\n",
    "    suffixes = \"(Inc|Ltd|Jr|Sr|Co)\"\n",
    "    starters = \"(Mr|Mrs|Ms|Dr|He\\s|She\\s|It\\s|They\\s|Their\\s|Our\\s|We\\s|But\\s|However\\s|That\\s|This\\s|Wherever)\"\n",
    "    acronyms = \"([A-Z][.][A-Z][.](?:[A-Z][.])?)\"\n",
    "    prefixes = \"(Mr|St|Mrs|Ms|Dr|Prof|Capt|Cpt|Lt|Mt)[.]\"\n",
    "    websites = \"[.](com|net|org|io|gov|me|edu|co|uk)\"\n",
    "    digits = \"([0-9])\"\n",
    "    text = \" \" + text + \"  \"\n",
    "    text = text.replace(\"\\n\",\"<stop> \")\n",
    "    text = re.sub(prefixes,\"\\\\1<prd>\",text)\n",
    "    text = re.sub(websites,\"<prd>\\\\1\",text)\n",
    "    text = re.sub(\"(\\w*)[.](\\w+@)\",\"\\\\1<prd>\\\\2\",text)\n",
    "    if \"Ph.D\" in text: text = text.replace(\"Ph.D.\",\"Ph<prd>D<prd>\")\n",
    "    text = re.sub(\"\\s\" + alphabets + \"[.] \",\" \\\\1<prd> \",text)\n",
    "    text = re.sub(acronyms+\" \"+starters,\"\\\\1<stop> \\\\2\",text)\n",
    "    text = re.sub(alphabets + \"[.]\" + alphabets + \"[.]\" + alphabets + \"[.]\",\"\\\\1<prd>\\\\2<prd>\\\\3<prd>\",text)\n",
    "    text = re.sub(alphabets + \"[.]\" + alphabets + \"[.]\",\"\\\\1<prd>\\\\2<prd>\",text)\n",
    "    text = re.sub(\" \"+suffixes+\"[.] \"+starters,\" \\\\1<stop> \\\\2\",text)\n",
    "    text = re.sub(\" \"+suffixes+\"[.]\",\" \\\\1<prd>\",text)\n",
    "    text = re.sub(\" \" + alphabets + \"[.]\",\" \\\\1<prd>\",text)\n",
    "    if \"”\" in text: text = text.replace(\".”\",\"”.\")\n",
    "    if \"\\\"\" in text: text = text.replace(\".\\\"\",\"\\\".\")\n",
    "    if \"!\" in text: text = text.replace(\"!\\\"\",\"<excl>\\\"\")\n",
    "    if \"?\" in text: text = text.replace(\"?\\\"\",\"<quest>\\\"\")\n",
    "    if \"...\" in text: text = text.replace(\"...\",\"<prd><prd><prd>\")\n",
    "    if \"e.g.\" in text: text = text.replace(\"e.g.\",\"e<prd>g<prd>\") \n",
    "    if \"i.e.\" in text: text = text.replace(\"i.e.\",\"i<prd>e<prd>\")\n",
    "    text = re.sub(digits + \"[.]\" + digits,\"\\\\1<prd>\\\\2\",text)\n",
    "    text = text.replace(\".\",\".<stop>\")\n",
    "    text = text.replace(\"?\",\"?<stop>\")\n",
    "    text = text.replace(\"!\",\"!<stop>\")\n",
    "    text = text.replace(\"<prd>\",\".\")\n",
    "    text = text.replace(\"<excl>\",\"!\")\n",
    "    text = text.replace(\"<quest>\",\"?\")\n",
    "    text = text.replace(\"<stop><stop>\",\"<stop>\")\n",
    "    sentences = text.split(\"<stop>\")\n",
    "    #sentences = sentences[:-1]\n",
    "    sentences = [s.strip() for s in sentences]\n",
    "    return sentences\n"
   ]
  },
  {
   "cell_type": "code",
   "execution_count": 21,
   "metadata": {},
   "outputs": [],
   "source": [
    "def split_into_paragraphs(text):\n",
    "    paragraphs = text.split(\"\\n\")\n",
    "    paragraphs = [s.strip() for s in paragraphs]\n",
    "    return paragraphs\n"
   ]
  },
  {
   "cell_type": "code",
   "execution_count": 22,
   "metadata": {},
   "outputs": [
    {
     "data": {
      "application/vnd.jupyter.widget-view+json": {
       "model_id": "d53c1ae88c194e9da9843b2437d5238e",
       "version_major": 2,
       "version_minor": 0
      },
      "text/plain": [
       "Textarea(value='Playing games has always been thought to be important to the development of well-balanced and …"
      ]
     },
     "metadata": {},
     "output_type": "display_data"
    }
   ],
   "source": [
    "ta=widgets.Textarea(\n",
    "    value=test_data,\n",
    "    placeholder='Type something',\n",
    "    description='',\n",
    "    disabled=False,\n",
    "    layout=widgets.Layout(width='80%', height='200px'))\n",
    "display(ta)"
   ]
  },
  {
   "cell_type": "code",
   "execution_count": 23,
   "metadata": {},
   "outputs": [
    {
     "data": {
      "text/plain": [
       "{'flesch_reading_ease_index': 47.15,\n",
       " 'smog_grade': 12.8,\n",
       " 'flesch_kincaid_grade': 14.7,\n",
       " 'coleman_liau_grade': 11.56,\n",
       " 'ari_grade': 18.5,\n",
       " 'dale_chall_score': 7.68,\n",
       " 'dale_chall_grade': 10.52,\n",
       " 'linsear_grade': 12.0,\n",
       " 'gunning_fog_grade': 15.04,\n",
       " 'consensus': 12.0}"
      ]
     },
     "execution_count": 23,
     "metadata": {},
     "output_type": "execute_result"
    }
   ],
   "source": [
    "text_to_check=ta.value\n",
    "text_stats(text_to_check)"
   ]
  },
  {
   "cell_type": "code",
   "execution_count": 24,
   "metadata": {},
   "outputs": [
    {
     "name": "stdout",
     "output_type": "stream",
     "text": [
      "Hit:don't\n",
      "Guidance: Expand to do not\n",
      "Context: ...e built up tension, don't miss this opportuni...\n",
      "Hit:; however\n",
      "Guidance: Avoid mid-sentence use of however. Better at the start of a sentence to flag where the issue is. Also check if you can avoid it completely.\n",
      "Context: ...nd creative children; however, what part, if any,...\n",
      "Hit:a number\n",
      "Guidance: Vague, add the actual number\n",
      "Context: ...ds - sentence, with a numberof complex terms and...\n",
      "Hit:drive\n",
      "Guidance: Consultancy lingo\n",
      "Context: ...a powerful creative driver for both children ...\n",
      "Hit:; however\n",
      "Guidance: Do you really need a semicolon?\n",
      "Context: ...nd creative children; however, what part, if any,...\n",
      "Hit:; length\n",
      "Guidance: Do you really need a semicolon?\n",
      "Context: ...and difficult toread; length, the use of passive...\n",
      "Hit:; times\n",
      "Guidance: Do you really need a semicolon?\n",
      "Context: ...siness communication; times have moved on....\n",
      "Hit:  \n",
      "Guidance: Double spaces\n",
      "Context: ...uld be picked by the  script.\n",
      " Continuing ...\n",
      "Hit:  \n",
      "Guidance: Double spaces\n",
      "Context: ...with the discussion,  the authors would li...\n",
      "Hit:  \n",
      "Guidance: Double spaces\n",
      "Context: ... the decisions made.  This is another exam...\n",
      "Hit:require\n",
      "Guidance: Check if \"Need\" or other direct words may work better in this context.\n",
      "Context: ...is opportunity, you require it. Children requir...\n",
      "Hit:require\n",
      "Guidance: Check if \"Need\" or other direct words may work better in this context.\n",
      "Context: ...equire it. Children require play time on their ...\n"
     ]
    }
   ],
   "source": [
    "for index, rule in enumerate (rules, start=1):\n",
    "    #print(\"Rule \"+str(index))\n",
    "    if rule[\"case_sensitive\"]:\n",
    "        matches= re.finditer(rule[\"regex\"], text_to_check)\n",
    "    else:\n",
    "        matches= re.finditer(rule[\"regex\"], text_to_check, flags=re.IGNORECASE)\n",
    "    try:\n",
    "        first_match= next(matches)\n",
    "    except StopIteration:  \n",
    "        pass\n",
    "        #print(\"No match!\") # action for no match\n",
    "    else:\n",
    "        for m in itertools.chain([first_match], matches):\n",
    "            s= m.start()-20\n",
    "            e= m.end()+20\n",
    "            print(\"Hit:\"+m.group(0))\n",
    "            print(\"Guidance: \" + rule[\"guidance\"])\n",
    "            print(\"Context: ...\"+ text_to_check[s:e]+ \"...\")"
   ]
  },
  {
   "cell_type": "code",
   "execution_count": 12,
   "metadata": {},
   "outputs": [
    {
     "data": {
      "text/plain": [
       "[\"Playing games has always been thought to be important to the development of well-balanced and creative children; however, what part, if any, they should play in the lives of adults has never been researched that deeply. I believe that playing games is every bit as important for adults as for children. Not only is taking time out to play games with our children and other adults valuable to building interpersonal relationships but is also a wonderful way to release built up tension, don't miss this opportunity, you require it. Children require play time on their own. Directing play reduces the chance of the child exercising creative thinking, boredom is a powerful creative driver for both children and adults.\",\n",
       " 'When a child asks her mother \"Where do babies come from?\", what should one reply to her?',\n",
       " 'John.Smith@domain.co.uk',\n",
       " 'First written in 2020.06.01',\n",
       " 'This is a text of a longish - i.e. more than the 14 words - sentence, with a numberof complex terms and structures that makes the sentence very long winded and difficult toread; length, the use of passive voice and vague filler words should be picked by the  script.',\n",
       " 'Continuing with the discussion,  the authors would like to point out that, in our opinion, we disagree with the decisions made.  This is another example of sentences that have no place in modern business communication; times have moved on.']"
      ]
     },
     "execution_count": 12,
     "metadata": {},
     "output_type": "execute_result"
    }
   ],
   "source": [
    "split_into_paragraphs(text_to_check)"
   ]
  },
  {
   "cell_type": "code",
   "execution_count": 13,
   "metadata": {},
   "outputs": [
    {
     "data": {
      "text/plain": [
       "['Playing games has always been thought to be important to the development of well-balanced and creative children; however, what part, if any, they should play in the lives of adults has never been researched that deeply.',\n",
       " 'I believe that playing games is every bit as important for adults as for children.',\n",
       " \"Not only is taking time out to play games with our children and other adults valuable to building interpersonal relationships but is also a wonderful way to release built up tension, don't miss this opportunity, you require it.\",\n",
       " 'Children require play time on their own.',\n",
       " 'Directing play reduces the chance of the child exercising creative thinking, boredom is a powerful creative driver for both children and adults.',\n",
       " 'When a child asks her mother \"Where do babies come from?\", what should one reply to her?',\n",
       " 'John.Smith@domain.co.uk',\n",
       " 'First written in 2020.06.01',\n",
       " 'This is a text of a longish - i.e. more than the 14 words - sentence, with a numberof complex terms and structures that makes the sentence very long winded and difficult toread; length, the use of passive voice and vague filler words should be picked by the  script.',\n",
       " 'Continuing with the discussion,  the authors would like to point out that, in our opinion, we disagree with the decisions made.',\n",
       " 'This is another example of sentences that have no place in modern business communication; times have moved on.',\n",
       " '']"
      ]
     },
     "execution_count": 13,
     "metadata": {},
     "output_type": "execute_result"
    }
   ],
   "source": [
    "split_into_sentences(text_to_check)"
   ]
  },
  {
   "cell_type": "code",
   "execution_count": null,
   "metadata": {},
   "outputs": [],
   "source": []
  },
  {
   "cell_type": "code",
   "execution_count": null,
   "metadata": {},
   "outputs": [],
   "source": []
  },
  {
   "cell_type": "code",
   "execution_count": null,
   "metadata": {},
   "outputs": [],
   "source": []
  }
 ],
 "metadata": {
  "kernelspec": {
   "display_name": "Python 3",
   "language": "python",
   "name": "python3"
  },
  "language_info": {
   "codemirror_mode": {
    "name": "ipython",
    "version": 3
   },
   "file_extension": ".py",
   "mimetype": "text/x-python",
   "name": "python",
   "nbconvert_exporter": "python",
   "pygments_lexer": "ipython3",
   "version": "3.6.6+"
  }
 },
 "nbformat": 4,
 "nbformat_minor": 4
}
