{
 "cells": [
  {
   "cell_type": "markdown",
   "metadata": {},
   "source": [
    "Generate dummy data for fuzzy matching"
   ]
  },
  {
   "cell_type": "code",
   "execution_count": 84,
   "metadata": {},
   "outputs": [],
   "source": [
    "import pandas as pd\n",
    "import random\n",
    "from faker import Faker\n",
    "from faker.providers import person\n",
    "from faker.providers import address\n",
    "from faker.providers import date_time\n",
    "import datetime\n",
    "import numpy as np\n",
    "import math\n"
   ]
  },
  {
   "cell_type": "markdown",
   "metadata": {},
   "source": [
    "This function generates a random data that doesnt have the limit of 1970"
   ]
  },
  {
   "cell_type": "code",
   "execution_count": 134,
   "metadata": {},
   "outputs": [],
   "source": [
    "def generate_master(fake):\n",
    "    d = dict()  \n",
    "    d['gender'] = 'M' if random.randint(0,1) == 0 else 'F'\n",
    "    d['title']= fake.prefix_male() if d['gender']==\"M\" else fake.prefix_female()\n",
    "    d['first_name'] = fake.first_name_male() if d['gender']=='M' else fake.first_name_female()\n",
    "    d['middle_name'] = fake.first_name() if random.randint(0,5) == 0 else ''   \n",
    "    d['middle_name']= d['middle_name'][0] if (d['middle_name']!='') and (random.randint(0,5)) == 0 else d['middle_name']\n",
    "    d['last_name'] = fake.last_name()\n",
    "    d['suffix']=fake.suffix() if random.randint(0,30) == 0 else ''\n",
    "    d['country']=fake.country()\n",
    "    d['city']=fake.city()\n",
    "    #note that faker has 1970 limit, for earlier dates you need a custom formula and it is trickier\n",
    "    d['dob'] = fake.date_between_dates(date_start=datetime.date(1971,1,1), date_end=datetime.date.today())\n",
    "    d['address']= fake.street_address()\n",
    "    d['customer_id']=str(fake.ean(length=13))\n",
    "    d['full_address']=d['address']+', '+ d['city']+', '+ d['country']\n",
    "    d['full_name']= (d['first_name']+ ' ' + d['middle_name']+ ' '+d['last_name']+' '+d['suffix']).strip()\n",
    "    return d\n",
    "\n",
    "def generate_transaction(fake, customer_dict):\n",
    "    d = dict()  \n",
    "    d['date'] = fake.date_between(start_date='-3y', end_date='today')\n",
    "    d['customer_id']=customer_dict['customer_id']\n",
    "    #d['quantity']= math.ceil(np.random.normal(loc=1.5, scale=0.5))\n",
    "    d['quantity']= random.randint(1,100)   \n",
    "    d['unit_price']= random.randint(300,50000)/100\n",
    "    d['total_value']= d['quantity'] * d['unit_price']\n",
    "    return d\n",
    "\n",
    "def seed_list_with_duplicates(list_to_seed, number_of_seeds=0):\n",
    "    from numpy.random import default_rng\n",
    "    if number_of_seeds<=0:\n",
    "        return list_to_seed\n",
    "    rng = default_rng()\n",
    "    numbers = rng.choice(len(list_to_seed), size=number_of_seeds, replace=False)\n",
    "    for i in numbers:\n",
    "        list_to_seed[i]=list_to_seed[i-1]\n",
    "    \n",
    "\n",
    "\n",
    "def generate_dataset(num_rec_master,num_rec_trans, num_seed=0):\n",
    "    fake = Faker()\n",
    "    fake.add_provider(person)\n",
    "    fake.add_provider(address)\n",
    "    fake.add_provider(date_time)\n",
    "    master = pd.DataFrame()\n",
    "    rec=None\n",
    "    record_list=[]\n",
    "    print(\"Generating master file with \",num_rec_master,\" records\")\n",
    "    for i in range(num_rec_master):\n",
    "        rec=generate_master(fake)\n",
    "        record_list.append(rec)\n",
    "    master = master.append(record_list, ignore_index=True)  \n",
    "    transact = pd.DataFrame()\n",
    "    rec=None\n",
    "    record_list=[]\n",
    "    n=0\n",
    "    master_len=len(master.index)\n",
    "    print(\"Generated master file with \",master_len,\" records\")\n",
    "    print(\"Generating transaction file with\",num_rec_trans,\" records\")\n",
    "    for i in range(num_rec_trans):\n",
    "        n=n+1\n",
    "        r=np.random.uniform(low=0, high=master_len, size=1).astype(int)\n",
    "        customer_dict=master.iloc[r].to_dict('r')[0]\n",
    "        rec=generate_transaction(fake, customer_dict)\n",
    "        record_list.append(rec)\n",
    "        if (n == 100000):\n",
    "             print('Progress report...', len(record_list))\n",
    "             n = 0\n",
    "    print(\"Seeding the file with \", num_seed,\" duplicate instance\")\n",
    "    seed_list_with_duplicates(record_list,num_seed)\n",
    "    transact = transact.append(record_list, ignore_index=True)  \n",
    "    return master, transact\n",
    "\n"
   ]
  },
  {
   "cell_type": "code",
   "execution_count": 135,
   "metadata": {
    "tags": []
   },
   "outputs": [
    {
     "output_type": "stream",
     "name": "stdout",
     "text": [
      "Generating master file with  10  records\nGenerated master file with  10  records\nGenerating transaction file with 1000  records\n"
     ]
    }
   ],
   "source": [
    "master, transact=generate_dataset(10,1000,1)"
   ]
  },
  {
   "cell_type": "code",
   "execution_count": 136,
   "metadata": {},
   "outputs": [
    {
     "output_type": "execute_result",
     "data": {
      "text/plain": [
       "  gender title first_name middle_name last_name suffix  \\\n",
       "0      F   Ms.        Amy               Hawkins          \n",
       "1      F  Mrs.    Katrina       Bryan     Reese          \n",
       "2      F   Dr.   Victoria                 Clark          \n",
       "3      F   Dr.   Jennifer                  Ward          \n",
       "4      F  Mrs.   Brittany                Pineda          \n",
       "\n",
       "                                country              city         dob  \\\n",
       "0                          Saint Helena  Port Claytonport  1982-10-01   \n",
       "1                               Belgium  Christopherhaven  1978-03-25   \n",
       "2             Saint Pierre and Miquelon         Erinburgh  2000-04-03   \n",
       "3  United States Minor Outlying Islands       East Nicole  2004-06-06   \n",
       "4                  United Arab Emirates       East Thomas  1979-07-13   \n",
       "\n",
       "                      address    customer_id  \\\n",
       "0       711 Annette Stravenue  3843257330738   \n",
       "1  726 Valerie Fort Suite 168  5551546605044   \n",
       "2       99910 Burgess Station  5082514769081   \n",
       "3           34357 Mann Branch  9852507963880   \n",
       "4   9594 Bruce Flat Suite 244  3104902308701   \n",
       "\n",
       "                                        full_address            full_name  \n",
       "0  711 Annette Stravenue, Port Claytonport, Saint...         Amy  Hawkins  \n",
       "1  726 Valerie Fort Suite 168, Christopherhaven, ...  Katrina Bryan Reese  \n",
       "2  99910 Burgess Station, Erinburgh, Saint Pierre...      Victoria  Clark  \n",
       "3  34357 Mann Branch, East Nicole, United States ...       Jennifer  Ward  \n",
       "4  9594 Bruce Flat Suite 244, East Thomas, United...     Brittany  Pineda  "
      ],
      "text/html": "<div>\n<style scoped>\n    .dataframe tbody tr th:only-of-type {\n        vertical-align: middle;\n    }\n\n    .dataframe tbody tr th {\n        vertical-align: top;\n    }\n\n    .dataframe thead th {\n        text-align: right;\n    }\n</style>\n<table border=\"1\" class=\"dataframe\">\n  <thead>\n    <tr style=\"text-align: right;\">\n      <th></th>\n      <th>gender</th>\n      <th>title</th>\n      <th>first_name</th>\n      <th>middle_name</th>\n      <th>last_name</th>\n      <th>suffix</th>\n      <th>country</th>\n      <th>city</th>\n      <th>dob</th>\n      <th>address</th>\n      <th>customer_id</th>\n      <th>full_address</th>\n      <th>full_name</th>\n    </tr>\n  </thead>\n  <tbody>\n    <tr>\n      <th>0</th>\n      <td>F</td>\n      <td>Ms.</td>\n      <td>Amy</td>\n      <td></td>\n      <td>Hawkins</td>\n      <td></td>\n      <td>Saint Helena</td>\n      <td>Port Claytonport</td>\n      <td>1982-10-01</td>\n      <td>711 Annette Stravenue</td>\n      <td>3843257330738</td>\n      <td>711 Annette Stravenue, Port Claytonport, Saint...</td>\n      <td>Amy  Hawkins</td>\n    </tr>\n    <tr>\n      <th>1</th>\n      <td>F</td>\n      <td>Mrs.</td>\n      <td>Katrina</td>\n      <td>Bryan</td>\n      <td>Reese</td>\n      <td></td>\n      <td>Belgium</td>\n      <td>Christopherhaven</td>\n      <td>1978-03-25</td>\n      <td>726 Valerie Fort Suite 168</td>\n      <td>5551546605044</td>\n      <td>726 Valerie Fort Suite 168, Christopherhaven, ...</td>\n      <td>Katrina Bryan Reese</td>\n    </tr>\n    <tr>\n      <th>2</th>\n      <td>F</td>\n      <td>Dr.</td>\n      <td>Victoria</td>\n      <td></td>\n      <td>Clark</td>\n      <td></td>\n      <td>Saint Pierre and Miquelon</td>\n      <td>Erinburgh</td>\n      <td>2000-04-03</td>\n      <td>99910 Burgess Station</td>\n      <td>5082514769081</td>\n      <td>99910 Burgess Station, Erinburgh, Saint Pierre...</td>\n      <td>Victoria  Clark</td>\n    </tr>\n    <tr>\n      <th>3</th>\n      <td>F</td>\n      <td>Dr.</td>\n      <td>Jennifer</td>\n      <td></td>\n      <td>Ward</td>\n      <td></td>\n      <td>United States Minor Outlying Islands</td>\n      <td>East Nicole</td>\n      <td>2004-06-06</td>\n      <td>34357 Mann Branch</td>\n      <td>9852507963880</td>\n      <td>34357 Mann Branch, East Nicole, United States ...</td>\n      <td>Jennifer  Ward</td>\n    </tr>\n    <tr>\n      <th>4</th>\n      <td>F</td>\n      <td>Mrs.</td>\n      <td>Brittany</td>\n      <td></td>\n      <td>Pineda</td>\n      <td></td>\n      <td>United Arab Emirates</td>\n      <td>East Thomas</td>\n      <td>1979-07-13</td>\n      <td>9594 Bruce Flat Suite 244</td>\n      <td>3104902308701</td>\n      <td>9594 Bruce Flat Suite 244, East Thomas, United...</td>\n      <td>Brittany  Pineda</td>\n    </tr>\n  </tbody>\n</table>\n</div>"
     },
     "metadata": {},
     "execution_count": 136
    }
   ],
   "source": [
    "master.head()"
   ]
  },
  {
   "cell_type": "code",
   "execution_count": 137,
   "metadata": {},
   "outputs": [
    {
     "output_type": "execute_result",
     "data": {
      "text/plain": [
       "         date    customer_id  quantity  unit_price  total_value\n",
       "0  2018-10-03  7356014855949        90      481.95     43375.50\n",
       "1  2018-06-08  3104902308701         3      184.96       554.88\n",
       "2  2018-10-20  5572308599326        70      446.62     31263.40\n",
       "3  2018-02-01  2618377851149         1       65.35        65.35\n",
       "4  2018-11-14  5572308599326        32      491.76     15736.32"
      ],
      "text/html": "<div>\n<style scoped>\n    .dataframe tbody tr th:only-of-type {\n        vertical-align: middle;\n    }\n\n    .dataframe tbody tr th {\n        vertical-align: top;\n    }\n\n    .dataframe thead th {\n        text-align: right;\n    }\n</style>\n<table border=\"1\" class=\"dataframe\">\n  <thead>\n    <tr style=\"text-align: right;\">\n      <th></th>\n      <th>date</th>\n      <th>customer_id</th>\n      <th>quantity</th>\n      <th>unit_price</th>\n      <th>total_value</th>\n    </tr>\n  </thead>\n  <tbody>\n    <tr>\n      <th>0</th>\n      <td>2018-10-03</td>\n      <td>7356014855949</td>\n      <td>90</td>\n      <td>481.95</td>\n      <td>43375.50</td>\n    </tr>\n    <tr>\n      <th>1</th>\n      <td>2018-06-08</td>\n      <td>3104902308701</td>\n      <td>3</td>\n      <td>184.96</td>\n      <td>554.88</td>\n    </tr>\n    <tr>\n      <th>2</th>\n      <td>2018-10-20</td>\n      <td>5572308599326</td>\n      <td>70</td>\n      <td>446.62</td>\n      <td>31263.40</td>\n    </tr>\n    <tr>\n      <th>3</th>\n      <td>2018-02-01</td>\n      <td>2618377851149</td>\n      <td>1</td>\n      <td>65.35</td>\n      <td>65.35</td>\n    </tr>\n    <tr>\n      <th>4</th>\n      <td>2018-11-14</td>\n      <td>5572308599326</td>\n      <td>32</td>\n      <td>491.76</td>\n      <td>15736.32</td>\n    </tr>\n  </tbody>\n</table>\n</div>"
     },
     "metadata": {},
     "execution_count": 137
    }
   ],
   "source": [
    "transact.head()"
   ]
  },
  {
   "cell_type": "code",
   "execution_count": 138,
   "metadata": {},
   "outputs": [
    {
     "output_type": "execute_result",
     "data": {
      "text/plain": [
       "           date    customer_id  quantity  unit_price  total_value\n",
       "420  2020-08-04  9932113692470        77      264.38     20357.26"
      ],
      "text/html": "<div>\n<style scoped>\n    .dataframe tbody tr th:only-of-type {\n        vertical-align: middle;\n    }\n\n    .dataframe tbody tr th {\n        vertical-align: top;\n    }\n\n    .dataframe thead th {\n        text-align: right;\n    }\n</style>\n<table border=\"1\" class=\"dataframe\">\n  <thead>\n    <tr style=\"text-align: right;\">\n      <th></th>\n      <th>date</th>\n      <th>customer_id</th>\n      <th>quantity</th>\n      <th>unit_price</th>\n      <th>total_value</th>\n    </tr>\n  </thead>\n  <tbody>\n    <tr>\n      <th>420</th>\n      <td>2020-08-04</td>\n      <td>9932113692470</td>\n      <td>77</td>\n      <td>264.38</td>\n      <td>20357.26</td>\n    </tr>\n  </tbody>\n</table>\n</div>"
     },
     "metadata": {},
     "execution_count": 138
    }
   ],
   "source": [
    "transact[transact.duplicated(keep='last')]"
   ]
  },
  {
   "cell_type": "code",
   "execution_count": 139,
   "metadata": {},
   "outputs": [
    {
     "output_type": "stream",
     "name": "stdout",
     "text": [
      "Generating master file with  10  records\nGenerated master file with  10  records\nGenerating transaction file with 1000  records\n"
     ]
    }
   ],
   "source": [
    "master, transact=generate_dataset(10,1000)\n",
    "transact.to_csv(\"./test_data/transact_short.csv\")\n",
    "master.to_csv(\"./test_data/master_short.csv\")"
   ]
  },
  {
   "cell_type": "code",
   "execution_count": 140,
   "metadata": {},
   "outputs": [
    {
     "output_type": "stream",
     "name": "stdout",
     "text": [
      "Generating master file with  2000  records\n",
      "Generated master file with  2000  records\n",
      "Generating transaction file with 2000000  records\n",
      "Progress report... 200000\n",
      "Progress report... 400000\n",
      "Progress report... 600000\n",
      "Progress report... 800000\n",
      "Progress report... 1000000\n",
      "Progress report... 1200000\n",
      "Progress report... 1400000\n",
      "Progress report... 1600000\n",
      "Progress report... 1800000\n",
      "Progress report... 2000000\n"
     ]
    }
   ],
   "source": [
    "master, transact=generate_dataset(2000,2000000)\n",
    "transact.to_csv(\"./test_data/transact_long.csv\")\n",
    "master.to_csv(\"./test_data/master_long.csv\")"
   ]
  },
  {
   "cell_type": "code",
   "execution_count": null,
   "metadata": {},
   "outputs": [],
   "source": []
  }
 ],
 "metadata": {
  "kernelspec": {
   "display_name": "Python 3",
   "language": "python",
   "name": "python3"
  },
  "language_info": {
   "codemirror_mode": {
    "name": "ipython",
    "version": 3
   },
   "file_extension": ".py",
   "mimetype": "text/x-python",
   "name": "python",
   "nbconvert_exporter": "python",
   "pygments_lexer": "ipython3",
   "version": "3.8.3-final"
  }
 },
 "nbformat": 4,
 "nbformat_minor": 4
}