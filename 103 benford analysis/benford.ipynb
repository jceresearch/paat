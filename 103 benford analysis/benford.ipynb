{
 "cells": [
  {
   "cell_type": "code",
   "execution_count": 1,
   "metadata": {},
   "outputs": [],
   "source": [
    "#import libraries\n",
    "import numpy as np\n",
    "import pandas as pd\n",
    "import sys\n",
    "import math\n",
    "import matplotlib.pyplot as plt\n",
    "import random\n",
    "from scipy.stats import chisquare\n",
    "\n"
   ]
  },
  {
   "cell_type": "code",
   "execution_count": 2,
   "metadata": {},
   "outputs": [],
   "source": [
    "def benford_x_digit(rawdata,digit):\n",
    "    data_nonzero=filter(lambda n: n !=0. , rawdata)\n",
    "    data=list(data_nonzero)\n",
    "    BFD= [math.log10(1+1/n) for n in range (10**(digit-1),10**digit)]\n",
    "    data_count={}\n",
    "    for i in range(10**(digit-1),10**digit):\n",
    "        data_count[i]=0      \n",
    "    data_xdigits=[int(str(abs(x*1000))[0:digit]) for x in data]\n",
    "    for i in range(len(data_xdigits)):\n",
    "            data_count[data_xdigits[i]]=data_count[data_xdigits[i]]+1\n",
    "    list_tuples=sorted(data_count.items())\n",
    "    data_count=[i[1] for i in list_tuples]\n",
    "    total_count=sum(data_count)\n",
    "    expected_count=[p * total_count for p in BFD]\n",
    "    return  data_count, expected_count\n",
    "\n",
    "\n"
   ]
  },
  {
   "cell_type": "code",
   "execution_count": 3,
   "metadata": {},
   "outputs": [],
   "source": [
    "def chi_square_test(data_count,digit):\n",
    "    total_count=sum(data_count)  \n",
    "    BFD= [math.log10(1+1/n) for n in range (10**(digit-1),10**digit)]\n",
    "    expected_count=[p * total_count for p in BFD] \n",
    "    chisq, pvalue = chisquare(data_count, f_exp=expected_count) \n",
    "    return chisq , pvalue\n",
    "\n",
    "    "
   ]
  },
  {
   "cell_type": "code",
   "execution_count": 4,
   "metadata": {},
   "outputs": [],
   "source": [
    "def plot_benford(data,digit):   \n",
    "    data_count, expected_count =benford_x_digit(data,digit)\n",
    "    chisquare, pvalue = chi_square_test(data_count,digit)\n",
    "    print(\"CHI square statistic:\",chisquare)\n",
    "    print (\"p value\",pvalue)\n",
    "    y1 = expected_count\n",
    "    y2 = data_count\n",
    "    x= np.arange(10**(digit-1),10**digit)\n",
    "    bins = np.linspace(1, 10)\n",
    "    width=.35\n",
    "    plt.bar(x, y1, width, label=\"Benford\")\n",
    "    plt.bar(x+width, y2, width, label=\"Actual\")\n",
    "    plt.xticks(x+width/2 , x)\n",
    "    plt.legend(loc='upper right')\n",
    "    plt.show()"
   ]
  },
  {
   "cell_type": "code",
   "execution_count": 17,
   "metadata": {},
   "outputs": [
    {
     "data": {
      "text/html": [
       "<div>\n",
       "<style scoped>\n",
       "    .dataframe tbody tr th:only-of-type {\n",
       "        vertical-align: middle;\n",
       "    }\n",
       "\n",
       "    .dataframe tbody tr th {\n",
       "        vertical-align: top;\n",
       "    }\n",
       "\n",
       "    .dataframe thead th {\n",
       "        text-align: right;\n",
       "    }\n",
       "</style>\n",
       "<table border=\"1\" class=\"dataframe\">\n",
       "  <thead>\n",
       "    <tr style=\"text-align: right;\">\n",
       "      <th></th>\n",
       "      <th>Unnamed: 0</th>\n",
       "      <th>field1</th>\n",
       "      <th>field2</th>\n",
       "      <th>field3</th>\n",
       "    </tr>\n",
       "  </thead>\n",
       "  <tbody>\n",
       "    <tr>\n",
       "      <th>0</th>\n",
       "      <td>0</td>\n",
       "      <td>-10</td>\n",
       "      <td>618</td>\n",
       "      <td>-64585</td>\n",
       "    </tr>\n",
       "    <tr>\n",
       "      <th>1</th>\n",
       "      <td>1</td>\n",
       "      <td>-38</td>\n",
       "      <td>707</td>\n",
       "      <td>20392</td>\n",
       "    </tr>\n",
       "    <tr>\n",
       "      <th>2</th>\n",
       "      <td>2</td>\n",
       "      <td>29</td>\n",
       "      <td>-626</td>\n",
       "      <td>-15801</td>\n",
       "    </tr>\n",
       "    <tr>\n",
       "      <th>3</th>\n",
       "      <td>3</td>\n",
       "      <td>-4</td>\n",
       "      <td>-152</td>\n",
       "      <td>-11879</td>\n",
       "    </tr>\n",
       "    <tr>\n",
       "      <th>4</th>\n",
       "      <td>4</td>\n",
       "      <td>-31</td>\n",
       "      <td>-3999</td>\n",
       "      <td>23011</td>\n",
       "    </tr>\n",
       "    <tr>\n",
       "      <th>...</th>\n",
       "      <td>...</td>\n",
       "      <td>...</td>\n",
       "      <td>...</td>\n",
       "      <td>...</td>\n",
       "    </tr>\n",
       "    <tr>\n",
       "      <th>9995</th>\n",
       "      <td>9995</td>\n",
       "      <td>-11</td>\n",
       "      <td>96</td>\n",
       "      <td>-2867</td>\n",
       "    </tr>\n",
       "    <tr>\n",
       "      <th>9996</th>\n",
       "      <td>9996</td>\n",
       "      <td>81</td>\n",
       "      <td>5</td>\n",
       "      <td>54</td>\n",
       "    </tr>\n",
       "    <tr>\n",
       "      <th>9997</th>\n",
       "      <td>9997</td>\n",
       "      <td>-156</td>\n",
       "      <td>-7830</td>\n",
       "      <td>1845984</td>\n",
       "    </tr>\n",
       "    <tr>\n",
       "      <th>9998</th>\n",
       "      <td>9998</td>\n",
       "      <td>236</td>\n",
       "      <td>-10566</td>\n",
       "      <td>-217667</td>\n",
       "    </tr>\n",
       "    <tr>\n",
       "      <th>9999</th>\n",
       "      <td>9999</td>\n",
       "      <td>184</td>\n",
       "      <td>-202</td>\n",
       "      <td>16489</td>\n",
       "    </tr>\n",
       "  </tbody>\n",
       "</table>\n",
       "<p>10000 rows × 4 columns</p>\n",
       "</div>"
      ],
      "text/plain": [
       "      Unnamed: 0  field1  field2   field3\n",
       "0              0     -10     618   -64585\n",
       "1              1     -38     707    20392\n",
       "2              2      29    -626   -15801\n",
       "3              3      -4    -152   -11879\n",
       "4              4     -31   -3999    23011\n",
       "...          ...     ...     ...      ...\n",
       "9995        9995     -11      96    -2867\n",
       "9996        9996      81       5       54\n",
       "9997        9997    -156   -7830  1845984\n",
       "9998        9998     236  -10566  -217667\n",
       "9999        9999     184    -202    16489\n",
       "\n",
       "[10000 rows x 4 columns]"
      ]
     },
     "execution_count": 17,
     "metadata": {},
     "output_type": "execute_result"
    }
   ],
   "source": [
    "\n",
    "#data=[4,1,2,3,4,10,2,4,334,667,878,989,7,12,22,100,132,144,167,1000,190,58,299,4,30,500,0,72,-1,0.02,999999,100,111,34,111,12,3,5,7,6,8,9,6,23,3,6,214,38,1,223,2,11,223,4,1,2,33,4,55,]\n",
    "\n",
    "df= pd.read_excel(\"data.xlsx\")\n",
    "df\n",
    "\n"
   ]
  },
  {
   "cell_type": "code",
   "execution_count": 18,
   "metadata": {},
   "outputs": [
    {
     "name": "stdout",
     "output_type": "stream",
     "text": [
      "10000\n",
      "CHI square statistic: 83.69007025595583\n",
      "p value 0.6390612009674321\n"
     ]
    },
    {
     "data": {
      "image/png": "[encoded data removed]",
      "text/plain": [
       "<Figure size 432x288 with 1 Axes>"
      ]
     },
     "metadata": {
      "image/png": {
       "height": 248,
       "width": 375
      },
      "needs_background": "light"
     },
     "output_type": "display_data"
    }
   ],
   "source": [
    "data=df[\"field3\"].tolist()\n",
    "print(len(data))\n",
    "plot_benford(data,2)\n"
   ]
  },
  {
   "cell_type": "code",
   "execution_count": null,
   "metadata": {},
   "outputs": [],
   "source": [
    "\n",
    "\n",
    "\n",
    "\n",
    "\n",
    "\n"
   ]
  },
  {
   "cell_type": "code",
   "execution_count": null,
   "metadata": {},
   "outputs": [],
   "source": []
  }
 ],
 "metadata": {
  "kernelspec": {
   "display_name": "Python 3",
   "language": "python",
   "name": "python3"
  },
  "language_info": {
   "codemirror_mode": {
    "name": "ipython",
    "version": 3
   },
   "file_extension": ".py",
   "mimetype": "text/x-python",
   "name": "python",
   "nbconvert_exporter": "python",
   "pygments_lexer": "ipython3",
   "version": "3.6.6+"
  }
 },
 "nbformat": 4,
 "nbformat_minor": 2
}
