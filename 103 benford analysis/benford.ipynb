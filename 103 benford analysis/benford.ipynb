{
 "cells": [
  {
   "cell_type": "code",
   "execution_count": 1,
   "metadata": {},
   "outputs": [],
   "source": [
    "#import libraries\n",
    "import numpy as np\n",
    "import pandas as pd\n",
    "import sys\n",
    "import math\n",
    "import matplotlib.pyplot as plt\n",
    "import random\n",
    "from scipy.stats import chisquare"
   ]
  },
  {
   "cell_type": "code",
   "execution_count": 2,
   "metadata": {},
   "outputs": [],
   "source": [
    "def benford_x_digit(rawdata,digit):\n",
    "    data_nonzero=filter(lambda n: n !=0. , rawdata)\n",
    "    data=list(data_nonzero)\n",
    "    BFD= [math.log10(1.0+1.0/n) for n in range (10**(digit-1),10**digit)]\n",
    "    data_count={}\n",
    "    for i in range(10**(digit-1),10**digit):\n",
    "        data_count[i]=0      \n",
    "    data_xdigits=[int(str(abs(x*1000))[0:digit]) for x in data]\n",
    "    for i in range(len(data_xdigits)):\n",
    "            data_count[data_xdigits[i]]=data_count[data_xdigits[i]]+1\n",
    "    list_tuples=sorted(data_count.items())\n",
    "    data_count=[i[1] for i in list_tuples]\n",
    "    total_count=sum(data_count)\n",
    "    expected_count=[p * total_count for p in BFD]\n",
    "    return  data_count, expected_count"
   ]
  },
  {
   "cell_type": "code",
   "execution_count": 3,
   "metadata": {},
   "outputs": [],
   "source": [
    "def plot_benford(data,digit):   \n",
    "    data_count, expected_count =benford_x_digit(data,digit)\n",
    "    y1 = expected_count\n",
    "    y2 = data_count\n",
    "    x= np.arange(10**(digit-1),10**digit)\n",
    "    bins = np.linspace(1, 10)\n",
    "    width=.35\n",
    "    plt.bar(x, y1, width, label=\"Benford\")\n",
    "    plt.bar(x+width, y2, width, label=\"Actual\")\n",
    "    plt.xticks(x+width/2 , x)\n",
    "    plt.legend(loc='upper right')\n",
    "    plt.show()"
   ]
  },
  {
   "cell_type": "code",
   "execution_count": 6,
   "metadata": {},
   "outputs": [
    {
     "data": {
      "text/html": [
       "<div>\n",
       "<style scoped>\n",
       "    .dataframe tbody tr th:only-of-type {\n",
       "        vertical-align: middle;\n",
       "    }\n",
       "\n",
       "    .dataframe tbody tr th {\n",
       "        vertical-align: top;\n",
       "    }\n",
       "\n",
       "    .dataframe thead th {\n",
       "        text-align: right;\n",
       "    }\n",
       "</style>\n",
       "<table border=\"1\" class=\"dataframe\">\n",
       "  <thead>\n",
       "    <tr style=\"text-align: right;\">\n",
       "      <th></th>\n",
       "      <th>Unnamed: 0</th>\n",
       "      <th>field1</th>\n",
       "      <th>field2</th>\n",
       "      <th>field3</th>\n",
       "    </tr>\n",
       "  </thead>\n",
       "  <tbody>\n",
       "    <tr>\n",
       "      <td>0</td>\n",
       "      <td>0</td>\n",
       "      <td>49</td>\n",
       "      <td>1134</td>\n",
       "      <td>-193</td>\n",
       "    </tr>\n",
       "    <tr>\n",
       "      <td>1</td>\n",
       "      <td>1</td>\n",
       "      <td>289</td>\n",
       "      <td>28599</td>\n",
       "      <td>15835</td>\n",
       "    </tr>\n",
       "    <tr>\n",
       "      <td>2</td>\n",
       "      <td>2</td>\n",
       "      <td>-15</td>\n",
       "      <td>403</td>\n",
       "      <td>-631</td>\n",
       "    </tr>\n",
       "    <tr>\n",
       "      <td>3</td>\n",
       "      <td>3</td>\n",
       "      <td>-157</td>\n",
       "      <td>3768</td>\n",
       "      <td>2286</td>\n",
       "    </tr>\n",
       "    <tr>\n",
       "      <td>4</td>\n",
       "      <td>4</td>\n",
       "      <td>0</td>\n",
       "      <td>-3</td>\n",
       "      <td>1</td>\n",
       "    </tr>\n",
       "    <tr>\n",
       "      <td>...</td>\n",
       "      <td>...</td>\n",
       "      <td>...</td>\n",
       "      <td>...</td>\n",
       "      <td>...</td>\n",
       "    </tr>\n",
       "    <tr>\n",
       "      <td>19995</td>\n",
       "      <td>19995</td>\n",
       "      <td>-114</td>\n",
       "      <td>-5218</td>\n",
       "      <td>-3492</td>\n",
       "    </tr>\n",
       "    <tr>\n",
       "      <td>19996</td>\n",
       "      <td>19996</td>\n",
       "      <td>-25</td>\n",
       "      <td>1335</td>\n",
       "      <td>-812</td>\n",
       "    </tr>\n",
       "    <tr>\n",
       "      <td>19997</td>\n",
       "      <td>19997</td>\n",
       "      <td>-1</td>\n",
       "      <td>-330</td>\n",
       "      <td>93</td>\n",
       "    </tr>\n",
       "    <tr>\n",
       "      <td>19998</td>\n",
       "      <td>19998</td>\n",
       "      <td>47</td>\n",
       "      <td>-215</td>\n",
       "      <td>-278</td>\n",
       "    </tr>\n",
       "    <tr>\n",
       "      <td>19999</td>\n",
       "      <td>19999</td>\n",
       "      <td>-31</td>\n",
       "      <td>-2581</td>\n",
       "      <td>1353</td>\n",
       "    </tr>\n",
       "  </tbody>\n",
       "</table>\n",
       "<p>20000 rows × 4 columns</p>\n",
       "</div>"
      ],
      "text/plain": [
       "       Unnamed: 0  field1  field2  field3\n",
       "0               0      49    1134    -193\n",
       "1               1     289   28599   15835\n",
       "2               2     -15     403    -631\n",
       "3               3    -157    3768    2286\n",
       "4               4       0      -3       1\n",
       "...           ...     ...     ...     ...\n",
       "19995       19995    -114   -5218   -3492\n",
       "19996       19996     -25    1335    -812\n",
       "19997       19997      -1    -330      93\n",
       "19998       19998      47    -215    -278\n",
       "19999       19999     -31   -2581    1353\n",
       "\n",
       "[20000 rows x 4 columns]"
      ]
     },
     "execution_count": 6,
     "metadata": {},
     "output_type": "execute_result"
    }
   ],
   "source": [
    "#data=[4,1,2,3,4,10,2,4,334,667,878,989,7,12,22,100,132,144,167,1000,190,58,299,4,30,500,0,72,-1,0.02,999999,100,111,34,111,12,3,5,7,6,8,9,6,23,3,6,214,38,1,223,2,11,223,4,1,2,33,4,55,]\n",
    "df= pd.read_excel(\"./test_data/data.xlsx\")\n",
    "df"
   ]
  },
  {
   "cell_type": "code",
   "execution_count": 13,
   "metadata": {},
   "outputs": [
    {
     "data": {
      "image/png": "[encoded data removed]",
      "text/plain": [
       "<Figure size 432x288 with 1 Axes>"
      ]
     },
     "metadata": {
      "needs_background": "light"
     },
     "output_type": "display_data"
    }
   ],
   "source": [
    "digit=2\n",
    "data=df[\"field3\"].tolist()\n",
    "plot_benford(data,digit)"
   ]
  },
  {
   "cell_type": "code",
   "execution_count": 14,
   "metadata": {},
   "outputs": [
    {
     "data": {
      "text/plain": [
       "[0.04139268515822508,\n",
       " 0.037788560889399754,\n",
       " 0.03476210625921191,\n",
       " 0.032184683371401235,\n",
       " 0.029963223377443202,\n",
       " 0.028028723600243534,\n",
       " 0.02632893872234915,\n",
       " 0.024823583725032145,\n",
       " 0.0234810958495229,\n",
       " 0.022276394711152208,\n",
       " 0.021189299069938092,\n",
       " 0.02020338608828699,\n",
       " 0.019305155195386624,\n",
       " 0.018483405694013133,\n",
       " 0.017728766960431616,\n",
       " 0.01703333929878037,\n",
       " 0.016390416188169384,\n",
       " 0.015794267183231885,\n",
       " 0.015239966556736905,\n",
       " 0.014723256820706378,\n",
       " 0.014240439114610285,\n",
       " 0.013788284485633285,\n",
       " 0.013363961557981502,\n",
       " 0.012964977164367635,\n",
       " 0.012589127308020467,\n",
       " 0.012234456417011586,\n",
       " 0.01189922329970769,\n",
       " 0.011581872549815138,\n",
       " 0.011281010409689084,\n",
       " 0.010995384301463145,\n",
       " 0.010723865391773066,\n",
       " 0.010465433678164979,\n",
       " 0.010219165181686028,\n",
       " 0.009984220906600923,\n",
       " 0.00975983728915624,\n",
       " 0.009545317906230361,\n",
       " 0.009340026254143432,\n",
       " 0.009143379439869719,\n",
       " 0.008954842652926412,\n",
       " 0.008773924307505152,\n",
       " 0.00860017176191757,\n",
       " 0.008433167536862764,\n",
       " 0.008272525965989857,\n",
       " 0.00811789022217946,\n",
       " 0.007968929671275373,\n",
       " 0.007825337511956526,\n",
       " 0.007686828666290955,\n",
       " 0.007553137890445907,\n",
       " 0.007424018079206875,\n",
       " 0.007299238741499423,\n",
       " 0.007178584627123376,\n",
       " 0.007061854487486849,\n",
       " 0.006948859955327825,\n",
       " 0.006839424530305442,\n",
       " 0.006733382658968403,\n",
       " 0.006630578899013076,\n",
       " 0.006530867158957755,\n",
       " 0.006434110005409903,\n",
       " 0.006340178031018975,\n",
       " 0.006248949277001542,\n",
       " 0.006160308704818433,\n",
       " 0.006074147712193166,\n",
       " 0.00599036368918742,\n",
       " 0.005908859610520315,\n",
       " 0.005829543660723891,\n",
       " 0.0057523288890913415,\n",
       " 0.005677132891690489,\n",
       " 0.0056038775179984845,\n",
       " 0.0055324885999610066,\n",
       " 0.005462895701502187,\n",
       " 0.005395031886706145,\n",
       " 0.005328833505066964,\n",
       " 0.0052642399923572185,\n",
       " 0.005201193685807724,\n",
       " 0.005139639652411057,\n",
       " 0.005079525529274971,\n",
       " 0.005020801375050812,\n",
       " 0.0049634195315501435,\n",
       " 0.0049073344947442015,\n",
       " 0.004852502794412102,\n",
       " 0.004798882881768708,\n",
       " 0.0047464350244616526,\n",
       " 0.004695121208379868,\n",
       " 0.004644905045763538,\n",
       " 0.004595751689149137,\n",
       " 0.004547627750720661,\n",
       " 0.004500501226676471,\n",
       " 0.004454341426249989,\n",
       " 0.004409118905055016,\n",
       " 0.0043648054024501125]"
      ]
     },
     "execution_count": 14,
     "metadata": {},
     "output_type": "execute_result"
    }
   ],
   "source": [
    "[math.log10(1.0+1.0/n) for n in range (10**(digit-1),10**digit)]\n"
   ]
  },
  {
   "cell_type": "code",
   "execution_count": 8,
   "metadata": {},
   "outputs": [],
   "source": [
    "def chi_square_test(data_count,digit):\n",
    "    total_count=sum(data_count)  \n",
    "    BFD= [math.log10(1.0+1.0/n) for n in range (10**(digit-1),10**digit)]\n",
    "    expected_count=[p * total_count for p in BFD]     \n",
    "    chisq, pvalue = chisquare(data_count, f_exp=expected_count) \n",
    "    return chisq , pvalue\n",
    "\n",
    "\n"
   ]
  },
  {
   "cell_type": "code",
   "execution_count": 9,
   "metadata": {},
   "outputs": [
    {
     "name": "stdout",
     "output_type": "stream",
     "text": [
      "CHI square statistic: 52.26561955957657\n",
      "p value 1.4955724347313005e-08\n"
     ]
    }
   ],
   "source": [
    "data_count, expected_count =benford_x_digit(data,1)\n",
    "total_count=sum(data_count)  \n",
    "data_count\n",
    "chisquare, pvalue = chi_square_test(data_count,digit)\n",
    "print(\"CHI square statistic:\",chisquare)\n",
    "print(\"p value\",pvalue)\n",
    "\n"
   ]
  },
  {
   "cell_type": "code",
   "execution_count": 10,
   "metadata": {},
   "outputs": [
    {
     "name": "stdout",
     "output_type": "stream",
     "text": [
      "12457.50031190878 12382.240633106827\n"
     ]
    }
   ],
   "source": [
    "anomalies=[]\n",
    "delta_list=[]\n",
    "for i in range(len(data_count)):\n",
    "    delta=((expected_count[i]-data_count[i])**2)\n",
    "    delta_list.append(delta)\n",
    "    anomalies.append([i+1,data_count[i],expected_count[i],delta])\n",
    "\n",
    "std= np.std(delta_list)\n",
    "mean=np.mean(delta_list)\n",
    "print(std, mean)"
   ]
  },
  {
   "cell_type": "code",
   "execution_count": 11,
   "metadata": {},
   "outputs": [
    {
     "data": {
      "text/plain": [
       "[[1, 5802, 6003.140173531113, 40457.36940812619],\n",
       " [2, 3355, 3511.611888088395, 24527.28349061198],\n",
       " [3, 2426, 2491.5282854427173, 4293.95619306224],\n",
       " [4, 1930, 1932.5794794066612, 6.653714009389326],\n",
       " [5, 1610, 1579.032408681734, 958.9917120551395],\n",
       " [6, 1468, 1335.052878813689, 17674.937031727677],\n",
       " [7, 1236, 1156.4754066290288, 6324.16095081831],\n",
       " [8, 1128, 1020.0836026456777, 11645.948817935974],\n",
       " [9, 987, 912.4958767609837, 5550.864379614526]]"
      ]
     },
     "execution_count": 11,
     "metadata": {},
     "output_type": "execute_result"
    }
   ],
   "source": [
    "anomalies"
   ]
  },
  {
   "cell_type": "code",
   "execution_count": null,
   "metadata": {},
   "outputs": [],
   "source": []
  }
 ],
 "metadata": {
  "kernelspec": {
   "display_name": "Python 3",
   "language": "python",
   "name": "python3"
  },
  "language_info": {
   "codemirror_mode": {
    "name": "ipython",
    "version": 3
   },
   "file_extension": ".py",
   "mimetype": "text/x-python",
   "name": "python",
   "nbconvert_exporter": "python",
   "pygments_lexer": "ipython3",
   "version": "3.7.4"
  }
 },
 "nbformat": 4,
 "nbformat_minor": 4
}
