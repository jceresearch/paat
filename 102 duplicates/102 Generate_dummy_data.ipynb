{
 "cells": [
  {
   "cell_type": "code",
   "execution_count": 4,
   "metadata": {},
   "outputs": [],
   "source": [
    "import  pandas as pd\n",
    "import random, csv\n",
    "from datetime import timedelta, datetime\n",
    "from faker import Faker\n",
    "from faker.providers import person\n",
    "from faker.providers import address\n",
    "from faker.providers import date_time\n"
   ]
  },
  {
   "cell_type": "code",
   "execution_count": 9,
   "metadata": {},
   "outputs": [],
   "source": [
    "def generate_record(fake, id ):\n",
    "    d = dict()\n",
    "    d['customer_id']=id\n",
    "    d['gender'] = 'M' if random.randint(0,1) == 0 else 'F'\n",
    "    d['first_name'] = fake.first_name_male() if d['gender']=='M' else fake.first_name_female()\n",
    "    d['last_name'] = fake.last_name()\n",
    "    d['dob'] = fake.date_between(start_date=\"-50y\", end_date=\"-1d\")\n",
    "    d['enrollment_date']= fake.date_between(start_date=\"-20y\", end_date=\"now\")\n",
    "    d['city']= fake.city()\n",
    "    d['country']= fake.country() \n",
    "    d['residential address']= fake.street_address()\n",
    "    d['renewal_date']=fake.date_between(start_date=\"now\", end_date=\"+12M\")\n",
    "    d['lifetime_id']='{:03d}'.format(random.randint(1,300)) +\"-\" +str(fake.ean(length=8))\n",
    "    d['registration_id']='{:02d}'.format(random.randint(1,100)) +\"-\" +str(fake.ean(length=13))\n",
    "    return d\n",
    "\n",
    "\n",
    "fake = Faker()\n",
    "fake.add_provider(person)\n",
    "fake.add_provider(address)\n",
    "fake.add_provider(date_time)"
   ]
  },
  {
   "cell_type": "code",
   "execution_count": 19,
   "metadata": {},
   "outputs": [
    {
     "data": {
      "text/plain": [
       "(10000, 12)"
      ]
     },
     "execution_count": 19,
     "metadata": {},
     "output_type": "execute_result"
    }
   ],
   "source": [
    "df = pd.DataFrame()\n",
    "number_of_records=10000\n",
    "number_of_seeds_exact_dupes=20\n",
    "number_of_seeds_partial_dupes=20\n",
    "number_of_seeds_id_only=20\n",
    "rec=[]\n",
    "for i in range(number_of_records):\n",
    "    rec.append(generate_record(fake,i+1))\n",
    "for i in range(number_of_seeds_exact_dupes):\n",
    "    record_to_duplicate=random.randint(0,len(rec)-1)\n",
    "    record_to_overwrite= random.randint(0,len(rec)-1)\n",
    "    rec[record_to_overwrite]= rec[record_to_duplicate]\n",
    "for i in range(number_of_seeds_partial_dupes):\n",
    "    record_to_duplicate=random.randint(0,len(rec)-1)\n",
    "    record_to_overwrite= random.randint(0,len(rec)-1)\n",
    "    a =rec[record_to_duplicate]\n",
    "    b=rec[record_to_overwrite]\n",
    "    b['gender']=a['gender']\n",
    "    b['first_name']=a['first_name']\n",
    "    b['last_name']=a['last_name']\n",
    "    b['dob']=a['dob']\n",
    "    rec[record_to_overwrite]=b\n",
    "for i in range(number_of_seeds_id_only):\n",
    "    record_to_duplicate=random.randint(0,len(rec)-1)\n",
    "    record_to_overwrite= random.randint(0,len(rec)-1)\n",
    "    a=rec[record_to_duplicate]\n",
    "    b=rec[record_to_overwrite]\n",
    "    b['customer_id']=a['customer_id']\n",
    "    b['lifetime_id']=a['lifetime_id']\n",
    "    rec[record_to_overwrite]=b\n",
    "    \n",
    "newlist = sorted(rec, key=lambda k: k['customer_id']) \n",
    "df = df.append(newlist, ignore_index=True)\n",
    "\n",
    "df.shape"
   ]
  },
  {
   "cell_type": "code",
   "execution_count": 20,
   "metadata": {},
   "outputs": [],
   "source": [
    "output.to_excel(\"./test_data/data.xlsx\")"
   ]
  },
  {
   "cell_type": "code",
   "execution_count": null,
   "metadata": {},
   "outputs": [],
   "source": []
  }
 ],
 "metadata": {
  "kernelspec": {
   "display_name": "Python 3",
   "language": "python",
   "name": "python3"
  },
  "language_info": {
   "codemirror_mode": {
    "name": "ipython",
    "version": 3
   },
   "file_extension": ".py",
   "mimetype": "text/x-python",
   "name": "python",
   "nbconvert_exporter": "python",
   "pygments_lexer": "ipython3",
   "version": "3.8.3"
  }
 },
 "nbformat": 4,
 "nbformat_minor": 4
}
