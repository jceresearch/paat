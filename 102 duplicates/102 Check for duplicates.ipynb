{
 "cells": [
  {
   "cell_type": "code",
   "execution_count": 1,
   "metadata": {},
   "outputs": [],
   "source": [
    "import pandas as pd\n",
    "from pandas import ExcelWriter\n",
    "from pandas import ExcelFile\n",
    "import numpy as np\n"
   ]
  },
  {
   "cell_type": "code",
   "execution_count": 2,
   "metadata": {},
   "outputs": [
    {
     "name": "stdout",
     "output_type": "stream",
     "text": [
      "(10000, 13)\n"
     ]
    }
   ],
   "source": [
    "df= pd.read_excel(\"./test_data/data.xlsx\", sheet_name=\"Sheet1\")\n",
    "print(df.shape) # \"Shape\" shows count of columns and rows\n"
   ]
  },
  {
   "cell_type": "code",
   "execution_count": 3,
   "metadata": {},
   "outputs": [
    {
     "data": {
      "text/plain": [
       "Index(['Unnamed: 0', 'city', 'country', 'customer_id', 'dob',\n",
       "       'enrollment_date', 'first_name', 'gender', 'last_name', 'lifetime_id',\n",
       "       'registration_id', 'renewal_date', 'residential address'],\n",
       "      dtype='object')"
      ]
     },
     "execution_count": 3,
     "metadata": {},
     "output_type": "execute_result"
    }
   ],
   "source": [
    "df.columns"
   ]
  },
  {
   "cell_type": "markdown",
   "metadata": {},
   "source": [
    "This is to replace \"NAN\" values with a string, helps with some of the formulae later on"
   ]
  },
  {
   "cell_type": "code",
   "execution_count": 13,
   "metadata": {},
   "outputs": [],
   "source": [
    "\n",
    "df.fillna(\"\", inplace=True)"
   ]
  },
  {
   "cell_type": "code",
   "execution_count": 7,
   "metadata": {},
   "outputs": [
    {
     "ename": "KeyError",
     "evalue": "Index(['Auth_ID'], dtype='object')",
     "output_type": "error",
     "traceback": [
      "\u001b[1;31m---------------------------------------------------------------------------\u001b[0m",
      "\u001b[1;31mKeyError\u001b[0m                                  Traceback (most recent call last)",
      "\u001b[1;32m<ipython-input-7-39909ab141bb>\u001b[0m in \u001b[0;36m<module>\u001b[1;34m\u001b[0m\n\u001b[1;32m----> 1\u001b[1;33m \u001b[0mdf_duplicates\u001b[0m \u001b[1;33m=\u001b[0m \u001b[0mdf\u001b[0m\u001b[1;33m[\u001b[0m\u001b[0mdf\u001b[0m\u001b[1;33m.\u001b[0m\u001b[0mduplicated\u001b[0m\u001b[1;33m(\u001b[0m\u001b[1;33m[\u001b[0m\u001b[1;34m'Auth_ID'\u001b[0m\u001b[1;33m]\u001b[0m\u001b[1;33m,\u001b[0m\u001b[0mkeep\u001b[0m\u001b[1;33m=\u001b[0m\u001b[1;32mFalse\u001b[0m\u001b[1;33m)\u001b[0m\u001b[1;33m]\u001b[0m\u001b[1;33m[\u001b[0m\u001b[1;34m\"Customer_ID\"\u001b[0m\u001b[1;33m]\u001b[0m\u001b[1;33m\u001b[0m\u001b[1;33m\u001b[0m\u001b[0m\n\u001b[0m\u001b[0;32m      2\u001b[0m \u001b[0mdf_duplicates\u001b[0m\u001b[1;33m\u001b[0m\u001b[1;33m\u001b[0m\u001b[0m\n\u001b[0;32m      3\u001b[0m \u001b[0mdf_duplicates\u001b[0m\u001b[1;33m.\u001b[0m\u001b[0mto_excel\u001b[0m\u001b[1;33m(\u001b[0m\u001b[1;34m\"./output/101_Duplicates.xlsx\"\u001b[0m\u001b[1;33m,\u001b[0m \u001b[0msheet_name\u001b[0m\u001b[1;33m=\u001b[0m\u001b[1;34m'Duplicates'\u001b[0m\u001b[1;33m)\u001b[0m\u001b[1;33m\u001b[0m\u001b[1;33m\u001b[0m\u001b[0m\n\u001b[0;32m      4\u001b[0m \u001b[0mdf_deduped_ID\u001b[0m\u001b[1;33m=\u001b[0m \u001b[0mdf\u001b[0m\u001b[1;33m[\u001b[0m\u001b[1;34m'Auth_ID'\u001b[0m\u001b[1;33m]\u001b[0m\u001b[1;33m.\u001b[0m\u001b[0mdrop_duplicates\u001b[0m\u001b[1;33m(\u001b[0m\u001b[1;33m)\u001b[0m\u001b[1;33m\u001b[0m\u001b[1;33m\u001b[0m\u001b[0m\n",
      "\u001b[1;32mC:\\Python37\\lib\\site-packages\\pandas\\core\\frame.py\u001b[0m in \u001b[0;36mduplicated\u001b[1;34m(self, subset, keep)\u001b[0m\n\u001b[0;32m   4949\u001b[0m         \u001b[0mdiff\u001b[0m \u001b[1;33m=\u001b[0m \u001b[0mIndex\u001b[0m\u001b[1;33m(\u001b[0m\u001b[0msubset\u001b[0m\u001b[1;33m)\u001b[0m\u001b[1;33m.\u001b[0m\u001b[0mdifference\u001b[0m\u001b[1;33m(\u001b[0m\u001b[0mself\u001b[0m\u001b[1;33m.\u001b[0m\u001b[0mcolumns\u001b[0m\u001b[1;33m)\u001b[0m\u001b[1;33m\u001b[0m\u001b[1;33m\u001b[0m\u001b[0m\n\u001b[0;32m   4950\u001b[0m         \u001b[1;32mif\u001b[0m \u001b[1;32mnot\u001b[0m \u001b[0mdiff\u001b[0m\u001b[1;33m.\u001b[0m\u001b[0mempty\u001b[0m\u001b[1;33m:\u001b[0m\u001b[1;33m\u001b[0m\u001b[1;33m\u001b[0m\u001b[0m\n\u001b[1;32m-> 4951\u001b[1;33m             \u001b[1;32mraise\u001b[0m \u001b[0mKeyError\u001b[0m\u001b[1;33m(\u001b[0m\u001b[0mdiff\u001b[0m\u001b[1;33m)\u001b[0m\u001b[1;33m\u001b[0m\u001b[1;33m\u001b[0m\u001b[0m\n\u001b[0m\u001b[0;32m   4952\u001b[0m \u001b[1;33m\u001b[0m\u001b[0m\n\u001b[0;32m   4953\u001b[0m         \u001b[0mvals\u001b[0m \u001b[1;33m=\u001b[0m \u001b[1;33m(\u001b[0m\u001b[0mcol\u001b[0m\u001b[1;33m.\u001b[0m\u001b[0mvalues\u001b[0m \u001b[1;32mfor\u001b[0m \u001b[0mname\u001b[0m\u001b[1;33m,\u001b[0m \u001b[0mcol\u001b[0m \u001b[1;32min\u001b[0m \u001b[0mself\u001b[0m\u001b[1;33m.\u001b[0m\u001b[0mitems\u001b[0m\u001b[1;33m(\u001b[0m\u001b[1;33m)\u001b[0m \u001b[1;32mif\u001b[0m \u001b[0mname\u001b[0m \u001b[1;32min\u001b[0m \u001b[0msubset\u001b[0m\u001b[1;33m)\u001b[0m\u001b[1;33m\u001b[0m\u001b[1;33m\u001b[0m\u001b[0m\n",
      "\u001b[1;31mKeyError\u001b[0m: Index(['Auth_ID'], dtype='object')"
     ]
    }
   ],
   "source": [
    "df_duplicates = df[df.duplicated(['Auth_ID'],keep=False)][\"Customer_ID\"]\n",
    "df_duplicates\n",
    "df_duplicates.to_excel(\"./output/101_Duplicates.xlsx\", sheet_name='Duplicates')\n",
    "df_deduped_ID= df['Auth_ID'].drop_duplicates()\n"
   ]
  },
  {
   "cell_type": "markdown",
   "metadata": {},
   "source": [
    "This is to list the headers"
   ]
  },
  {
   "cell_type": "markdown",
   "metadata": {},
   "source": [
    "TODO: Check completeness of the file "
   ]
  },
  {
   "cell_type": "code",
   "execution_count": null,
   "metadata": {},
   "outputs": [],
   "source": [
    "import datetime\n",
    "#here we sort, not really needed, but makes it easier. The \"inplace\" parameter makes the changes\n",
    "#to the df itself, otherwise, it would return a separate data frame\n",
    "df.sort_values('MEMBER_ID', axis=0, ascending=True, inplace=True)\n",
    "\n",
    "\n",
    "df[\"Country\"]=\"\"\n",
    "df[\"Address\"]=\"\"\n",
    "df['Country'] = df['Residential Address'].map(lambda a: a.split(\" \")[-1])\n",
    "df['Address'] = df['Residential Address'].map(lambda a: \" \".join(a.split(\" \")[0:-1]))\n",
    "# this is interesting, when we export to CSV it comes in a different format\n",
    "#TODO investigate how to get it in full datetime format.\n"
   ]
  },
  {
   "cell_type": "code",
   "execution_count": null,
   "metadata": {},
   "outputs": [],
   "source": [
    "# This is just a check, listing the results of the previous function\n",
    "df[[\"Residential Address\",\"Address\",\"Country\"][100:110]"
   ]
  },
  {
   "cell_type": "code",
   "execution_count": null,
   "metadata": {},
   "outputs": [],
   "source": [
    "#df.to_csv(\"Data_fixed.csv\") # if we want to export the csv"
   ]
  },
  {
   "cell_type": "code",
   "execution_count": null,
   "metadata": {},
   "outputs": [],
   "source": [
    "# we retain records that have renewal date after a date, we assign to the df so we are\n",
    "# effectively overwritting the df with a subset version\n",
    "# we could opt to have it as df1 or whatever to preserve the original dataset (df)\n",
    "\n",
    "df= df[df[\"RENEWAL_DATE\"]> pd.to_datetime(\"2019-10-31\")]"
   ]
  },
  {
   "cell_type": "markdown",
   "metadata": {},
   "source": [
    "Some checks"
   ]
  },
  {
   "cell_type": "code",
   "execution_count": null,
   "metadata": {},
   "outputs": [],
   "source": [
    "df[df[\"MEMBER_ID\"]==\"\"] # looking for empty members"
   ]
  },
  {
   "cell_type": "code",
   "execution_count": null,
   "metadata": {},
   "outputs": [],
   "source": [
    "df[df[\"RENEWAL_DATE\"]==\"\"] # looking for empty renewal dates"
   ]
  },
  {
   "cell_type": "code",
   "execution_count": null,
   "metadata": {},
   "outputs": [],
   "source": [
    "# Extracting a summarisation of registration ID with the count of member ids\n",
    "df1 = df.groupby('REGISTRATION_ID')['MEMBER_ID'].count().sort_values(ascending=False)\n",
    "print(df1.shape)\n",
    "df1.to_excel(\"./output/Groupby REGISTRATION_ID.xlsx\")"
   ]
  },
  {
   "cell_type": "code",
   "execution_count": null,
   "metadata": {},
   "outputs": [],
   "source": [
    "df2 = df.groupby('MEMBER_ID')['MEMBER_ID'].count().sort_values(ascending=False)\n",
    "list_duplis= df2[df2 >1].keys().to_list()\n",
    "df[df[\"MEMBER_ID\"].isin (list_duplis)].to_excel(\"Duplicate Member IDs.xlsx\")\n",
    "df2.to_excel(\"./output/Groupby MEMBER_ID\")\n",
    "df2[0:10]"
   ]
  },
  {
   "cell_type": "code",
   "execution_count": null,
   "metadata": {},
   "outputs": [],
   "source": [
    "df3= df[df.duplicated(subset=[\"MEMBER_ID\",\"REGISTRATION_ID\"])]\n",
    "df3.shape[0]"
   ]
  },
  {
   "cell_type": "code",
   "execution_count": null,
   "metadata": {},
   "outputs": [],
   "source": [
    "df4 = df.groupby(['RENEWAL_DATE'])['MEMBER_ID'].count().sort_values(ascending=False)\n",
    "print(df4[0:10])\n",
    "print(df4.shape)\n",
    "df4.to_excel(\"./output/Groupby RENEWAL_DATE.xlsx\")"
   ]
  },
  {
   "cell_type": "code",
   "execution_count": null,
   "metadata": {},
   "outputs": [],
   "source": [
    "df5 = df.groupby(['RENEWAL_DATE','Customer type'])['MEMBER_ID'].count().sort_values(ascending=False)\n",
    "print(df5[0:10])\n",
    "print(df5.shape)\n",
    "df5.to_excel(\"./output/Groupby RENEWAL_DATE and Customer Type.xlsx\")"
   ]
  },
  {
   "cell_type": "code",
   "execution_count": null,
   "metadata": {},
   "outputs": [],
   "source": [
    "df6 = df.groupby(['Country','Customer type','INSURER_NAME'])['MEMBER_ID'].count().sort_values(ascending=False)\n",
    "print(df6.shape)\n",
    "df6b= df6.reset_index() #to avoid merged cells in the report\n",
    "df6b.to_excel(\"./output/Groupby Country and Customer Type.xlsx\")"
   ]
  },
  {
   "cell_type": "code",
   "execution_count": null,
   "metadata": {},
   "outputs": [],
   "source": [
    "df7 = df.groupby(['REGISTRATION_ID','Country',\"INSURER_NAME\"])['MEMBER_ID'].count().sort_values(ascending=False)\n",
    "print(df7.shape)\n",
    "df7b= df7.reset_index()\n",
    "df7c= df7b[df7b[\"Country\"]!=\"\"]\n",
    "print(df7c.shape)\n",
    "\n",
    "df7d= df7c[df7c.duplicated(subset=[\"REGISTRATION_ID\"], keep=False)].sort_values(\"REGISTRATION_ID\")\n",
    "df7d.shape\n",
    "df7d.to_excel(\"./output/Groupby REGISTRATION_ID and country diff address.xlsx\", merge_cells=False)"
   ]
  },
  {
   "cell_type": "code",
   "execution_count": null,
   "metadata": {},
   "outputs": [],
   "source": [
    "df8 = df7.reset_index()\n",
    "pd.pivot_table(df8,index=[\"Country\"],values=[\"MEMBER_ID\"],\n",
    "               columns=[\"INSURER_NAME\"],aggfunc=[np.sum]).to_excel(\"./output/Pivot.xlsx\")"
   ]
  },
  {
   "cell_type": "code",
   "execution_count": null,
   "metadata": {},
   "outputs": [],
   "source": []
  },
  {
   "cell_type": "code",
   "execution_count": null,
   "metadata": {},
   "outputs": [],
   "source": []
  },
  {
   "cell_type": "code",
   "execution_count": null,
   "metadata": {},
   "outputs": [],
   "source": []
  }
 ],
 "metadata": {
  "kernelspec": {
   "display_name": "Python 3",
   "language": "python",
   "name": "python3"
  },
  "language_info": {
   "codemirror_mode": {
    "name": "ipython",
    "version": 3
   },
   "file_extension": ".py",
   "mimetype": "text/x-python",
   "name": "python",
   "nbconvert_exporter": "python",
   "pygments_lexer": "ipython3",
   "version": "3.8.3"
  }
 },
 "nbformat": 4,
 "nbformat_minor": 4
}
