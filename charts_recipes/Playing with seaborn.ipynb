{
  "cells": [
    {
      "metadata": {
        "trusted": true
      },
      "cell_type": "code",
      "source": "import warnings\nwarnings.filterwarnings(\"ignore\")",
      "execution_count": 116,
      "outputs": []
    },
    {
      "metadata": {
        "trusted": true
      },
      "cell_type": "code",
      "source": "!pip install Faker\nfrom faker import Faker\nimport datetime\nfrom pandas import DataFrame\nimport random\nimport bisect\nimport collections\nimport numpy as np\n\n",
      "execution_count": 96,
      "outputs": [
        {
          "output_type": "stream",
          "text": "Requirement already satisfied: Faker in /home/nbuser/anaconda3_501/lib/python3.6/site-packages (2.0.2)\nRequirement already satisfied: python-dateutil>=2.4 in /home/nbuser/anaconda3_501/lib/python3.6/site-packages (from Faker) (2.8.0)\nRequirement already satisfied: text-unidecode==1.3 in /home/nbuser/anaconda3_501/lib/python3.6/site-packages (from Faker) (1.3)\nRequirement already satisfied: six>=1.10 in /home/nbuser/anaconda3_501/lib/python3.6/site-packages (from Faker) (1.11.0)\n\u001b[33mWARNING: You are using pip version 19.2.2, however version 19.2.3 is available.\nYou should consider upgrading via the 'pip install --upgrade pip' command.\u001b[0m\n",
          "name": "stdout"
        }
      ]
    },
    {
      "metadata": {
        "trusted": true
      },
      "cell_type": "code",
      "source": "def cdf(weights):\n    total = sum(weights)\n    result = []\n    cumsum = 0\n    for w in weights:\n        cumsum += w\n        result.append(cumsum / total)\n    return result\n\ndef choice(population, weights):\n    assert len(population) == len(weights)\n    cdf_vals = cdf(weights)\n    x = random.random()\n    idx = bisect.bisect(cdf_vals, x)\n    return population[idx]\n\n#weights=[0.995,0.005]\n#population = [\"Closed\",\"Cancelled\"]\n#counts = collections.defaultdict(int)\n#for i in range(1000):\n#    counts[choice(population, weights)] += 1\n#print(counts)\n\n# % test.py\n# defaultdict(<type 'int'>, {'A': 3066, 'C': 2964, 'B': 3970})",
      "execution_count": 97,
      "outputs": []
    },
    {
      "metadata": {
        "trusted": true
      },
      "cell_type": "code",
      "source": "import random\nfrom random import randrange\nfrom datetime import timedelta\nfrom datetime import datetime\nfrom datetime import date\n\nnow= datetime.now()\ntoday= date.today()\ndata=[]\nfake=Faker()\ndef generate_record():\n    created_date= fake.date_time_this_year(before_now=True, after_now=False)\n    time_to_ack=random.lognormvariate(0,.5)*\n    time_to_resolve=random.lognormvariate(0,.5)* 240\n    assigned_date= created_date+timedelta(minutes=time_to_ack)\n    resolved_date=assigned_date+ timedelta(minutes=time_to_resolve)\n    duration=(resolved_date-created_date).total_seconds()\n    \n    status=choice([\"Resolved\",\"Closed\",\"Cancelled\"],[.1,.89,.01])\n    priority= choice([1,2,3,4,5],[.01,.05,.35,.5,.09])\n    if resolved_date> now:\n        resolved_date=None\n        status=\"Open\"\n        duration=(now-created_date).total_seconds()\n    id= \"INC\"+ str(fake.pyint(min_value=1, max_value=9999,step=1)).zfill(4)\n    user=random.choice([\"Tivoli\",\"Tivoli 2\",\"SSC\",\"APATEL\",\"JSMITH\",\"MAHMED\"])\n    team=random.choice([\"CG_Network\",\"CG_Migration\",\"CG_Host\"])\n    duration_hs=int(round((duration/60)/60,0))\n    return [id,created_date,resolved_date,user,team,status,priority,duration,duration_hs]\n\nfor i in range(1,2000):\n    data.append(generate_record())\n    \ndf=DataFrame.from_records(data)\ndf.columns=[\"number\",\"created_on\",\"resolved_on\",\"created_by\",\"assignment_group\",\"status\",\"priority\",\"duration\",\"duration_hs\"]\ndf.head()",
      "execution_count": 125,
      "outputs": [
        {
          "output_type": "execute_result",
          "execution_count": 125,
          "data": {
            "text/html": "<div>\n<style scoped>\n    .dataframe tbody tr th:only-of-type {\n        vertical-align: middle;\n    }\n\n    .dataframe tbody tr th {\n        vertical-align: top;\n    }\n\n    .dataframe thead th {\n        text-align: right;\n    }\n</style>\n<table border=\"1\" class=\"dataframe\">\n  <thead>\n    <tr style=\"text-align: right;\">\n      <th></th>\n      <th>number</th>\n      <th>created_on</th>\n      <th>resolved_on</th>\n      <th>created_by</th>\n      <th>assignment_group</th>\n      <th>status</th>\n      <th>priority</th>\n      <th>duration</th>\n      <th>duration_hs</th>\n    </tr>\n  </thead>\n  <tbody>\n    <tr>\n      <th>0</th>\n      <td>INC4422</td>\n      <td>2019-08-08 14:55:49</td>\n      <td>2019-08-08 16:23:02.477095</td>\n      <td>Tivoli 2</td>\n      <td>CG_Migration</td>\n      <td>Closed</td>\n      <td>3</td>\n      <td>5233.477095</td>\n      <td>1</td>\n    </tr>\n    <tr>\n      <th>1</th>\n      <td>INC4268</td>\n      <td>2019-05-21 22:42:10</td>\n      <td>2019-05-22 05:07:26.916622</td>\n      <td>Tivoli</td>\n      <td>CG_Migration</td>\n      <td>Closed</td>\n      <td>2</td>\n      <td>23116.916622</td>\n      <td>6</td>\n    </tr>\n    <tr>\n      <th>2</th>\n      <td>INC6274</td>\n      <td>2019-04-13 21:46:07</td>\n      <td>2019-04-14 02:03:15.784497</td>\n      <td>MAHMED</td>\n      <td>CG_Network</td>\n      <td>Resolved</td>\n      <td>4</td>\n      <td>15428.784497</td>\n      <td>4</td>\n    </tr>\n    <tr>\n      <th>3</th>\n      <td>INC9310</td>\n      <td>2019-07-08 07:29:41</td>\n      <td>2019-07-08 13:38:17.603723</td>\n      <td>APATEL</td>\n      <td>CG_Migration</td>\n      <td>Closed</td>\n      <td>3</td>\n      <td>22116.603723</td>\n      <td>6</td>\n    </tr>\n    <tr>\n      <th>4</th>\n      <td>INC0540</td>\n      <td>2019-03-13 11:13:38</td>\n      <td>2019-03-13 15:49:50.617901</td>\n      <td>Tivoli 2</td>\n      <td>CG_Host</td>\n      <td>Closed</td>\n      <td>4</td>\n      <td>16572.617901</td>\n      <td>5</td>\n    </tr>\n  </tbody>\n</table>\n</div>",
            "text/plain": "    number          created_on                resolved_on created_by  \\\n0  INC4422 2019-08-08 14:55:49 2019-08-08 16:23:02.477095   Tivoli 2   \n1  INC4268 2019-05-21 22:42:10 2019-05-22 05:07:26.916622     Tivoli   \n2  INC6274 2019-04-13 21:46:07 2019-04-14 02:03:15.784497     MAHMED   \n3  INC9310 2019-07-08 07:29:41 2019-07-08 13:38:17.603723     APATEL   \n4  INC0540 2019-03-13 11:13:38 2019-03-13 15:49:50.617901   Tivoli 2   \n\n  assignment_group    status  priority      duration  duration_hs  \n0     CG_Migration    Closed         3   5233.477095            1  \n1     CG_Migration    Closed         2  23116.916622            6  \n2       CG_Network  Resolved         4  15428.784497            4  \n3     CG_Migration    Closed         3  22116.603723            6  \n4          CG_Host    Closed         4  16572.617901            5  "
          },
          "metadata": {}
        }
      ]
    },
    {
      "metadata": {
        "trusted": true
      },
      "cell_type": "code",
      "source": "import seaborn as sns; sns.set()\nimport matplotlib.pyplot as plt\n",
      "execution_count": 120,
      "outputs": []
    },
    {
      "metadata": {
        "trusted": true
      },
      "cell_type": "code",
      "source": "",
      "execution_count": null,
      "outputs": []
    },
    {
      "metadata": {
        "trusted": true
      },
      "cell_type": "code",
      "source": "",
      "execution_count": null,
      "outputs": []
    },
    {
      "metadata": {
        "trusted": true
      },
      "cell_type": "code",
      "source": "\nsns.set(style=\"whitegrid\")\ndata=df[\"duration_hs\"]\nsns.distplot(data,kde=False,bins=50)",
      "execution_count": 127,
      "outputs": [
        {
          "output_type": "execute_result",
          "execution_count": 127,
          "data": {
            "text/plain": "<matplotlib.axes._subplots.AxesSubplot at 0x7f81b9d16400>"
          },
          "metadata": {}
        },
        {
          "output_type": "display_data",
          "data": {
            "image/png": "[encoded data removed]",
            "text/plain": "<Figure size 432x288 with 1 Axes>"
          },
          "metadata": {}
        }
      ]
    },
    {
      "metadata": {
        "trusted": true
      },
      "cell_type": "code",
      "source": "",
      "execution_count": null,
      "outputs": []
    },
    {
      "metadata": {
        "trusted": true
      },
      "cell_type": "code",
      "source": "",
      "execution_count": null,
      "outputs": []
    }
  ],
  "metadata": {
    "kernelspec": {
      "name": "python36",
      "display_name": "Python 3.6",
      "language": "python"
    },
    "language_info": {
      "mimetype": "text/x-python",
      "nbconvert_exporter": "python",
      "name": "python",
      "pygments_lexer": "ipython3",
      "version": "3.6.6",
      "file_extension": ".py",
      "codemirror_mode": {
        "version": 3,
        "name": "ipython"
      }
    }
  },
  "nbformat": 4,
  "nbformat_minor": 1
}