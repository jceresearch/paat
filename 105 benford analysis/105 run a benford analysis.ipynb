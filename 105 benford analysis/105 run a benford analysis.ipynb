{
 "cells": [
  {
   "cell_type": "code",
   "execution_count": 1,
   "metadata": {},
   "outputs": [],
   "source": [
    "#import libraries\n",
    "import numpy as np\n",
    "import pandas as pd\n",
    "import sys\n",
    "import math\n",
    "import matplotlib.pyplot as plt\n",
    "import random\n",
    "from scipy.stats import chisquare"
   ]
  },
  {
   "cell_type": "code",
   "execution_count": 2,
   "metadata": {},
   "outputs": [],
   "source": [
    "def benford_x_digit(rawdata,digit):\n",
    "    data_nonzero=filter(lambda n: n !=0. , rawdata)\n",
    "    data=list(data_nonzero)\n",
    "    BFD= [math.log10(1.0+1.0/n) for n in range (10**(digit-1),10**digit)]\n",
    "    data_count={}\n",
    "    for i in range(10**(digit-1),10**digit):\n",
    "        data_count[i]=0      \n",
    "    data_xdigits=[int(str(abs(x*1000))[0:digit]) for x in data]\n",
    "    for i in range(len(data_xdigits)):\n",
    "            data_count[data_xdigits[i]]=data_count[data_xdigits[i]]+1\n",
    "    list_tuples=sorted(data_count.items())\n",
    "    data_count=[i[1] for i in list_tuples]\n",
    "    total_count=sum(data_count)\n",
    "    expected_count=[p * total_count for p in BFD]\n",
    "    return  data_count, expected_count"
   ]
  },
  {
   "cell_type": "code",
   "execution_count": 3,
   "metadata": {},
   "outputs": [],
   "source": [
    "def plot_benford(data,digit):   \n",
    "    data_count, expected_count =benford_x_digit(data,digit)\n",
    "    y1 = expected_count\n",
    "    y2 = data_count\n",
    "    x= np.arange(10**(digit-1),10**digit)\n",
    "    bins = np.linspace(1, 10)\n",
    "    width=.35\n",
    "    plt.bar(x, y1, width, label=\"Benford\")\n",
    "    plt.bar(x+width, y2, width, label=\"Actual\")\n",
    "    plt.xticks(x+width/2 , x)\n",
    "    plt.legend(loc='upper right')\n",
    "    plt.show()"
   ]
  },
  {
   "cell_type": "code",
   "execution_count": 4,
   "metadata": {},
   "outputs": [
    {
     "data": {
      "text/html": [
       "<div>\n",
       "<style scoped>\n",
       "    .dataframe tbody tr th:only-of-type {\n",
       "        vertical-align: middle;\n",
       "    }\n",
       "\n",
       "    .dataframe tbody tr th {\n",
       "        vertical-align: top;\n",
       "    }\n",
       "\n",
       "    .dataframe thead th {\n",
       "        text-align: right;\n",
       "    }\n",
       "</style>\n",
       "<table border=\"1\" class=\"dataframe\">\n",
       "  <thead>\n",
       "    <tr style=\"text-align: right;\">\n",
       "      <th></th>\n",
       "      <th>Unnamed: 0</th>\n",
       "      <th>field1</th>\n",
       "      <th>field2</th>\n",
       "      <th>field3</th>\n",
       "    </tr>\n",
       "  </thead>\n",
       "  <tbody>\n",
       "    <tr>\n",
       "      <td>0</td>\n",
       "      <td>0</td>\n",
       "      <td>-54</td>\n",
       "      <td>4888</td>\n",
       "      <td>-5158</td>\n",
       "    </tr>\n",
       "    <tr>\n",
       "      <td>1</td>\n",
       "      <td>1</td>\n",
       "      <td>6</td>\n",
       "      <td>-2316</td>\n",
       "      <td>865</td>\n",
       "    </tr>\n",
       "    <tr>\n",
       "      <td>2</td>\n",
       "      <td>2</td>\n",
       "      <td>-16</td>\n",
       "      <td>-84</td>\n",
       "      <td>20</td>\n",
       "    </tr>\n",
       "    <tr>\n",
       "      <td>3</td>\n",
       "      <td>3</td>\n",
       "      <td>82</td>\n",
       "      <td>-12138</td>\n",
       "      <td>-11577</td>\n",
       "    </tr>\n",
       "    <tr>\n",
       "      <td>4</td>\n",
       "      <td>4</td>\n",
       "      <td>28</td>\n",
       "      <td>-144</td>\n",
       "      <td>-77</td>\n",
       "    </tr>\n",
       "    <tr>\n",
       "      <td>...</td>\n",
       "      <td>...</td>\n",
       "      <td>...</td>\n",
       "      <td>...</td>\n",
       "      <td>...</td>\n",
       "    </tr>\n",
       "    <tr>\n",
       "      <td>99995</td>\n",
       "      <td>99995</td>\n",
       "      <td>44</td>\n",
       "      <td>-3521</td>\n",
       "      <td>-49</td>\n",
       "    </tr>\n",
       "    <tr>\n",
       "      <td>99996</td>\n",
       "      <td>99996</td>\n",
       "      <td>-3</td>\n",
       "      <td>-21</td>\n",
       "      <td>56</td>\n",
       "    </tr>\n",
       "    <tr>\n",
       "      <td>99997</td>\n",
       "      <td>99997</td>\n",
       "      <td>58</td>\n",
       "      <td>-2291</td>\n",
       "      <td>2189</td>\n",
       "    </tr>\n",
       "    <tr>\n",
       "      <td>99998</td>\n",
       "      <td>99998</td>\n",
       "      <td>73</td>\n",
       "      <td>10228</td>\n",
       "      <td>-10975</td>\n",
       "    </tr>\n",
       "    <tr>\n",
       "      <td>99999</td>\n",
       "      <td>99999</td>\n",
       "      <td>-24</td>\n",
       "      <td>-307</td>\n",
       "      <td>-440</td>\n",
       "    </tr>\n",
       "  </tbody>\n",
       "</table>\n",
       "<p>100000 rows × 4 columns</p>\n",
       "</div>"
      ],
      "text/plain": [
       "       Unnamed: 0  field1  field2  field3\n",
       "0               0     -54    4888   -5158\n",
       "1               1       6   -2316     865\n",
       "2               2     -16     -84      20\n",
       "3               3      82  -12138  -11577\n",
       "4               4      28    -144     -77\n",
       "...           ...     ...     ...     ...\n",
       "99995       99995      44   -3521     -49\n",
       "99996       99996      -3     -21      56\n",
       "99997       99997      58   -2291    2189\n",
       "99998       99998      73   10228  -10975\n",
       "99999       99999     -24    -307    -440\n",
       "\n",
       "[100000 rows x 4 columns]"
      ]
     },
     "execution_count": 4,
     "metadata": {},
     "output_type": "execute_result"
    }
   ],
   "source": [
    "#data=[4,1,2,3,4,10,2,4,334,667,878,989,7,12,22,100,132,144,167,1000,190,58,299,4,30,500,0,72,-1,0.02,999999,100,111,34,111,12,3,5,7,6,8,9,6,23,3,6,214,38,1,223,2,11,223,4,1,2,33,4,55,]\n",
    "df= pd.read_excel(\"./test_data/data.xlsx\")\n",
    "df"
   ]
  },
  {
   "cell_type": "code",
   "execution_count": 5,
   "metadata": {},
   "outputs": [
    {
     "data": {
      "image/png": "[encoded data removed]",
      "text/plain": [
       "<Figure size 432x288 with 1 Axes>"
      ]
     },
     "metadata": {
      "needs_background": "light"
     },
     "output_type": "display_data"
    }
   ],
   "source": [
    "digit=1\n",
    "data=df[\"field3\"].tolist()\n",
    "plot_benford(data,digit)"
   ]
  },
  {
   "cell_type": "code",
   "execution_count": 6,
   "metadata": {},
   "outputs": [
    {
     "data": {
      "image/png": "[encoded data removed]",
      "text/plain": [
       "<Figure size 432x288 with 1 Axes>"
      ]
     },
     "metadata": {
      "needs_background": "light"
     },
     "output_type": "display_data"
    }
   ],
   "source": [
    "digit=2\n",
    "data=df[\"field3\"].tolist()\n",
    "plot_benford(data,digit)"
   ]
  },
  {
   "cell_type": "code",
   "execution_count": null,
   "metadata": {},
   "outputs": [],
   "source": [
    "\n",
    "\n",
    "\n"
   ]
  },
  {
   "cell_type": "code",
   "execution_count": null,
   "metadata": {},
   "outputs": [],
   "source": [
    "\n"
   ]
  },
  {
   "cell_type": "code",
   "execution_count": 7,
   "metadata": {},
   "outputs": [
    {
     "data": {
      "text/plain": [
       "[10,\n",
       " 4408,\n",
       " 4128.630595736844,\n",
       " 279.36940426315596,\n",
       " 78047.26403835067,\n",
       " 0.06766636001574668]"
      ]
     },
     "execution_count": 7,
     "metadata": {},
     "output_type": "execute_result"
    }
   ],
   "source": [
    "anomalies=[]\n",
    "digit=2\n",
    "data_count, expected_count =benford_x_digit(data,digit)\n",
    "for i in range(len(data_count)):\n",
    "    delta = abs(expected_count[i]-data_count[i])\n",
    "    delta_sqr=(expected_count[i]-data_count[i])**2\n",
    "    delta_perc=delta/expected_count[i]\n",
    "    anomalies.append([range(10**(digit-1),10**digit)[i],data_count[i],expected_count[i],delta,delta_sqr, delta_perc])\n",
    "anomalies[0]"
   ]
  },
  {
   "cell_type": "code",
   "execution_count": 8,
   "metadata": {},
   "outputs": [
    {
     "data": {
      "text/plain": [
       "[[40,\n",
       "  1327,\n",
       "  1069.6305057716208,\n",
       "  257.36949422837915,\n",
       "  66239.05655937169,\n",
       "  0.24061532729259189],\n",
       " [50,\n",
       "  1103,\n",
       "  857.8069320489441,\n",
       "  245.19306795105592,\n",
       "  60119.640571251126,\n",
       "  0.2858371258033456],\n",
       " [60,\n",
       "  997,\n",
       "  716.0135664631669,\n",
       "  280.98643353683315,\n",
       "  78953.37583174914,\n",
       "  0.3924317173552991],\n",
       " [70,\n",
       "  891,\n",
       "  614.447671144705,\n",
       "  276.55232885529495,\n",
       "  76481.1905952872,\n",
       "  0.45008280093255604],\n",
       " [80,\n",
       "  782,\n",
       "  538.116665475731,\n",
       "  243.883334524269,\n",
       "  59479.0808586765,\n",
       "  0.45321646804724003],\n",
       " [90,\n",
       "  735,\n",
       "  478.65497527625627,\n",
       "  256.34502472374373,\n",
       "  65712.77170061678,\n",
       "  0.5355528260743428]]"
      ]
     },
     "execution_count": 8,
     "metadata": {},
     "output_type": "execute_result"
    }
   ],
   "source": [
    " [i for i in anomalies if i[5]>.2]"
   ]
  },
  {
   "cell_type": "markdown",
   "metadata": {},
   "source": [
    "This does the Chi Square test, but tends to be problematic with high numbers (DOFs)"
   ]
  },
  {
   "cell_type": "code",
   "execution_count": 12,
   "metadata": {},
   "outputs": [
    {
     "name": "stdout",
     "output_type": "stream",
     "text": [
      "CHI square statistic: 898.2339796777127\n",
      "p value 5.903330140358592e-134\n"
     ]
    }
   ],
   "source": [
    "def chisquare_test(data_count,digit):\n",
    "    total_count=sum(data_count)  \n",
    "    BFD= [math.log10(1.0+1.0/n) for n in range (10**(digit-1),10**digit)]\n",
    "    exp_count=[int(p * total_count) for p in BFD]      \n",
    "    chi_sqr, pvalue = chisquare(data_count, f_exp=exp_count) \n",
    "    return chi_sqr , pvalue\n",
    "digit=2\n",
    "data_count, expected_count =benford_x_digit(data,digit)\n",
    "total_count=sum(data_count)  \n",
    "data_count\n",
    "chi_sqr, pvalue = chisquare_test(data_count,digit)\n",
    "print(\"CHI square statistic:\",chi_sqr)\n",
    "print(\"p value\",pvalue)\n"
   ]
  },
  {
   "cell_type": "code",
   "execution_count": null,
   "metadata": {},
   "outputs": [],
   "source": []
  }
 ],
 "metadata": {
  "kernelspec": {
   "display_name": "Python 3",
   "language": "python",
   "name": "python3"
  },
  "language_info": {
   "codemirror_mode": {
    "name": "ipython",
    "version": 3
   },
   "file_extension": ".py",
   "mimetype": "text/x-python",
   "name": "python",
   "nbconvert_exporter": "python",
   "pygments_lexer": "ipython3",
   "version": "3.7.4"
  }
 },
 "nbformat": 4,
 "nbformat_minor": 4
}
