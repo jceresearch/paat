{
 "cells": [
  {
   "cell_type": "code",
   "execution_count": 3,
   "metadata": {},
   "outputs": [],
   "source": [
    "#import libraries\n",
    "import numpy as np\n",
    "import pandas as pd\n",
    "import sys\n",
    "import math\n",
    "import matplotlib.pyplot as plt\n",
    "import random\n",
    "from scipy.stats import chisquare"
   ]
  },
  {
   "cell_type": "code",
   "execution_count": 4,
   "metadata": {},
   "outputs": [
    {
     "name": "stdout",
     "output_type": "stream",
     "text": [
      "Test values:\n"
     ]
    },
    {
     "data": {
      "text/html": [
       "<div>\n",
       "<style scoped>\n",
       "    .dataframe tbody tr th:only-of-type {\n",
       "        vertical-align: middle;\n",
       "    }\n",
       "\n",
       "    .dataframe tbody tr th {\n",
       "        vertical-align: top;\n",
       "    }\n",
       "\n",
       "    .dataframe thead th {\n",
       "        text-align: right;\n",
       "    }\n",
       "</style>\n",
       "<table border=\"1\" class=\"dataframe\">\n",
       "  <thead>\n",
       "    <tr style=\"text-align: right;\">\n",
       "      <th></th>\n",
       "      <th>Digit</th>\n",
       "      <th>Count</th>\n",
       "      <th>Exp_count</th>\n",
       "      <th>Exp_freq</th>\n",
       "    </tr>\n",
       "  </thead>\n",
       "  <tbody>\n",
       "    <tr>\n",
       "      <th>0</th>\n",
       "      <td>1</td>\n",
       "      <td>11</td>\n",
       "      <td>11.0</td>\n",
       "      <td>0.301030</td>\n",
       "    </tr>\n",
       "    <tr>\n",
       "      <th>1</th>\n",
       "      <td>2</td>\n",
       "      <td>6</td>\n",
       "      <td>6.0</td>\n",
       "      <td>0.176091</td>\n",
       "    </tr>\n",
       "    <tr>\n",
       "      <th>2</th>\n",
       "      <td>3</td>\n",
       "      <td>4</td>\n",
       "      <td>4.0</td>\n",
       "      <td>0.124939</td>\n",
       "    </tr>\n",
       "    <tr>\n",
       "      <th>3</th>\n",
       "      <td>4</td>\n",
       "      <td>3</td>\n",
       "      <td>3.0</td>\n",
       "      <td>0.096910</td>\n",
       "    </tr>\n",
       "    <tr>\n",
       "      <th>4</th>\n",
       "      <td>5</td>\n",
       "      <td>3</td>\n",
       "      <td>3.0</td>\n",
       "      <td>0.079181</td>\n",
       "    </tr>\n",
       "    <tr>\n",
       "      <th>5</th>\n",
       "      <td>6</td>\n",
       "      <td>2</td>\n",
       "      <td>2.0</td>\n",
       "      <td>0.066947</td>\n",
       "    </tr>\n",
       "    <tr>\n",
       "      <th>6</th>\n",
       "      <td>7</td>\n",
       "      <td>2</td>\n",
       "      <td>2.0</td>\n",
       "      <td>0.057992</td>\n",
       "    </tr>\n",
       "    <tr>\n",
       "      <th>7</th>\n",
       "      <td>8</td>\n",
       "      <td>2</td>\n",
       "      <td>2.0</td>\n",
       "      <td>0.051153</td>\n",
       "    </tr>\n",
       "    <tr>\n",
       "      <th>8</th>\n",
       "      <td>9</td>\n",
       "      <td>2</td>\n",
       "      <td>2.0</td>\n",
       "      <td>0.045757</td>\n",
       "    </tr>\n",
       "  </tbody>\n",
       "</table>\n",
       "</div>"
      ],
      "text/plain": [
       "   Digit  Count  Exp_count  Exp_freq\n",
       "0      1     11       11.0  0.301030\n",
       "1      2      6        6.0  0.176091\n",
       "2      3      4        4.0  0.124939\n",
       "3      4      3        3.0  0.096910\n",
       "4      5      3        3.0  0.079181\n",
       "5      6      2        2.0  0.066947\n",
       "6      7      2        2.0  0.057992\n",
       "7      8      2        2.0  0.051153\n",
       "8      9      2        2.0  0.045757"
      ]
     },
     "execution_count": 4,
     "metadata": {},
     "output_type": "execute_result"
    }
   ],
   "source": [
    "def benford_x_digit(rawdata,digit):\n",
    "    data_nonzero=filter(lambda n: n !=0. , rawdata)\n",
    "    data=list(data_nonzero)\n",
    "    BFD= [math.log10(1.0+1.0/n) for n in range (10**(digit-1),10**digit)]\n",
    "    data_count={}\n",
    "    for i in range(10**(digit-1),10**digit):\n",
    "        data_count[i]=0      \n",
    "    data_xdigits=[int(str(abs(x*1000))[0:digit]) for x in data]\n",
    "    for i in range(len(data_xdigits)):\n",
    "            data_count[data_xdigits[i]]=data_count[data_xdigits[i]]+1\n",
    "    list_tuples=sorted(data_count.items())\n",
    "    data_count=[i[1] for i in list_tuples]\n",
    "    total_count=sum(data_count)\n",
    "     \n",
    "    expected_count=[p * total_count for p in BFD]\n",
    "    #We are not rounding/flooring here because it may be useful to have the \n",
    "    #fractions even if it doesnt make sense in real life, just to reconcile totals\n",
    "    #in the dataframe wrapper I am rounding it anyway.    \n",
    "    \n",
    "    #conveniently, in python a function can return several values, in this case\n",
    "    #we are returning the data count, expected count and expected frequency for \n",
    "    #the first n digits and raw data provided. \n",
    "    return  data_count, expected_count, BFD\n",
    "def benford_x_digit_to_dataframe(rawdata,digit):\n",
    "    c,e,p = benford_x_digit(data,1)\n",
    "    return pd.DataFrame(tuple(zip((1,2,3,4,5,6,7,8,9),c,np.around(e),p)),columns=['Digit','Count','Exp_count','Exp_freq'])\n",
    "\n",
    "#Now a test with dummy data to see how it works without having to load external data\n",
    "print(\"Test values:\")\n",
    "data=[0,0,0,0,-1,11,1.11,0.1111,1,1,1,1,1,1,1,2,2,2,2,2,2,3,3,3,3,4,4,4,5,5,5,6,6,7,7,8,8,9,9]\n",
    "# This list should match exactly the expected count, i.e. 11,6,4,3,3,2,2,2,2\n",
    "benford_x_digit_to_dataframe(data,1)\n"
   ]
  },
  {
   "cell_type": "code",
   "execution_count": 9,
   "metadata": {},
   "outputs": [],
   "source": [
    "def plot_benford(data,digit):   \n",
    "    data_count, expected_count, p =benford_x_digit(data,digit)\n",
    "    y1 = expected_count\n",
    "    y2 = data_count\n",
    "    x= np.arange(10**(digit-1),10**digit)\n",
    "    bins = np.linspace(1, 10)\n",
    "    width=.35\n",
    "    plt.bar(x, y2, width, label=\"Actual\")\n",
    "    plt.bar(x+width, y1, width, label=\"Benford\")\n",
    "    plt.xticks(x+width/2 , x)\n",
    "    plt.legend(loc='upper right')\n",
    "    plt.show()"
   ]
  },
  {
   "cell_type": "code",
   "execution_count": 10,
   "metadata": {},
   "outputs": [
    {
     "data": {
      "text/html": [
       "<div>\n",
       "<style scoped>\n",
       "    .dataframe tbody tr th:only-of-type {\n",
       "        vertical-align: middle;\n",
       "    }\n",
       "\n",
       "    .dataframe tbody tr th {\n",
       "        vertical-align: top;\n",
       "    }\n",
       "\n",
       "    .dataframe thead th {\n",
       "        text-align: right;\n",
       "    }\n",
       "</style>\n",
       "<table border=\"1\" class=\"dataframe\">\n",
       "  <thead>\n",
       "    <tr style=\"text-align: right;\">\n",
       "      <th></th>\n",
       "      <th>Unnamed: 0</th>\n",
       "      <th>field1</th>\n",
       "      <th>field2</th>\n",
       "      <th>field3</th>\n",
       "    </tr>\n",
       "  </thead>\n",
       "  <tbody>\n",
       "    <tr>\n",
       "      <th>0</th>\n",
       "      <td>0</td>\n",
       "      <td>-54</td>\n",
       "      <td>4888</td>\n",
       "      <td>-5158</td>\n",
       "    </tr>\n",
       "    <tr>\n",
       "      <th>1</th>\n",
       "      <td>1</td>\n",
       "      <td>6</td>\n",
       "      <td>-2316</td>\n",
       "      <td>865</td>\n",
       "    </tr>\n",
       "    <tr>\n",
       "      <th>2</th>\n",
       "      <td>2</td>\n",
       "      <td>-16</td>\n",
       "      <td>-84</td>\n",
       "      <td>20</td>\n",
       "    </tr>\n",
       "    <tr>\n",
       "      <th>3</th>\n",
       "      <td>3</td>\n",
       "      <td>82</td>\n",
       "      <td>-12138</td>\n",
       "      <td>-11577</td>\n",
       "    </tr>\n",
       "    <tr>\n",
       "      <th>4</th>\n",
       "      <td>4</td>\n",
       "      <td>28</td>\n",
       "      <td>-144</td>\n",
       "      <td>-77</td>\n",
       "    </tr>\n",
       "    <tr>\n",
       "      <th>...</th>\n",
       "      <td>...</td>\n",
       "      <td>...</td>\n",
       "      <td>...</td>\n",
       "      <td>...</td>\n",
       "    </tr>\n",
       "    <tr>\n",
       "      <th>99995</th>\n",
       "      <td>99995</td>\n",
       "      <td>44</td>\n",
       "      <td>-3521</td>\n",
       "      <td>-49</td>\n",
       "    </tr>\n",
       "    <tr>\n",
       "      <th>99996</th>\n",
       "      <td>99996</td>\n",
       "      <td>-3</td>\n",
       "      <td>-21</td>\n",
       "      <td>56</td>\n",
       "    </tr>\n",
       "    <tr>\n",
       "      <th>99997</th>\n",
       "      <td>99997</td>\n",
       "      <td>58</td>\n",
       "      <td>-2291</td>\n",
       "      <td>2189</td>\n",
       "    </tr>\n",
       "    <tr>\n",
       "      <th>99998</th>\n",
       "      <td>99998</td>\n",
       "      <td>73</td>\n",
       "      <td>10228</td>\n",
       "      <td>-10975</td>\n",
       "    </tr>\n",
       "    <tr>\n",
       "      <th>99999</th>\n",
       "      <td>99999</td>\n",
       "      <td>-24</td>\n",
       "      <td>-307</td>\n",
       "      <td>-440</td>\n",
       "    </tr>\n",
       "  </tbody>\n",
       "</table>\n",
       "<p>100000 rows × 4 columns</p>\n",
       "</div>"
      ],
      "text/plain": [
       "       Unnamed: 0  field1  field2  field3\n",
       "0               0     -54    4888   -5158\n",
       "1               1       6   -2316     865\n",
       "2               2     -16     -84      20\n",
       "3               3      82  -12138  -11577\n",
       "4               4      28    -144     -77\n",
       "...           ...     ...     ...     ...\n",
       "99995       99995      44   -3521     -49\n",
       "99996       99996      -3     -21      56\n",
       "99997       99997      58   -2291    2189\n",
       "99998       99998      73   10228  -10975\n",
       "99999       99999     -24    -307    -440\n",
       "\n",
       "[100000 rows x 4 columns]"
      ]
     },
     "execution_count": 10,
     "metadata": {},
     "output_type": "execute_result"
    }
   ],
   "source": [
    "df= pd.read_excel(\"./test_data/data.xlsx\")\n",
    "df"
   ]
  },
  {
   "cell_type": "code",
   "execution_count": 11,
   "metadata": {},
   "outputs": [
    {
     "data": {
      "image/png": "[encoded data removed]",
      "text/plain": [
       "<Figure size 480x360 with 1 Axes>"
      ]
     },
     "metadata": {
      "image/png": {
       "height": 320,
       "width": 446
      }
     },
     "output_type": "display_data"
    }
   ],
   "source": [
    "digit=1\n",
    "data=df[\"field3\"].tolist()\n",
    "plot_benford(data,digit)"
   ]
  },
  {
   "cell_type": "code",
   "execution_count": 12,
   "metadata": {},
   "outputs": [
    {
     "data": {
      "text/html": [
       "<div>\n",
       "<style scoped>\n",
       "    .dataframe tbody tr th:only-of-type {\n",
       "        vertical-align: middle;\n",
       "    }\n",
       "\n",
       "    .dataframe tbody tr th {\n",
       "        vertical-align: top;\n",
       "    }\n",
       "\n",
       "    .dataframe thead th {\n",
       "        text-align: right;\n",
       "    }\n",
       "</style>\n",
       "<table border=\"1\" class=\"dataframe\">\n",
       "  <thead>\n",
       "    <tr style=\"text-align: right;\">\n",
       "      <th></th>\n",
       "      <th>Digit</th>\n",
       "      <th>Count</th>\n",
       "      <th>Exp_count</th>\n",
       "      <th>Exp_freq</th>\n",
       "    </tr>\n",
       "  </thead>\n",
       "  <tbody>\n",
       "    <tr>\n",
       "      <th>0</th>\n",
       "      <td>1</td>\n",
       "      <td>29102</td>\n",
       "      <td>30026.0</td>\n",
       "      <td>0.301030</td>\n",
       "    </tr>\n",
       "    <tr>\n",
       "      <th>1</th>\n",
       "      <td>2</td>\n",
       "      <td>16751</td>\n",
       "      <td>17564.0</td>\n",
       "      <td>0.176091</td>\n",
       "    </tr>\n",
       "    <tr>\n",
       "      <th>2</th>\n",
       "      <td>3</td>\n",
       "      <td>12039</td>\n",
       "      <td>12462.0</td>\n",
       "      <td>0.124939</td>\n",
       "    </tr>\n",
       "    <tr>\n",
       "      <th>3</th>\n",
       "      <td>4</td>\n",
       "      <td>9870</td>\n",
       "      <td>9666.0</td>\n",
       "      <td>0.096910</td>\n",
       "    </tr>\n",
       "    <tr>\n",
       "      <th>4</th>\n",
       "      <td>5</td>\n",
       "      <td>8247</td>\n",
       "      <td>7898.0</td>\n",
       "      <td>0.079181</td>\n",
       "    </tr>\n",
       "    <tr>\n",
       "      <th>5</th>\n",
       "      <td>6</td>\n",
       "      <td>7116</td>\n",
       "      <td>6677.0</td>\n",
       "      <td>0.066947</td>\n",
       "    </tr>\n",
       "    <tr>\n",
       "      <th>6</th>\n",
       "      <td>7</td>\n",
       "      <td>6133</td>\n",
       "      <td>5784.0</td>\n",
       "      <td>0.057992</td>\n",
       "    </tr>\n",
       "    <tr>\n",
       "      <th>7</th>\n",
       "      <td>8</td>\n",
       "      <td>5630</td>\n",
       "      <td>5102.0</td>\n",
       "      <td>0.051153</td>\n",
       "    </tr>\n",
       "    <tr>\n",
       "      <th>8</th>\n",
       "      <td>9</td>\n",
       "      <td>4855</td>\n",
       "      <td>4564.0</td>\n",
       "      <td>0.045757</td>\n",
       "    </tr>\n",
       "  </tbody>\n",
       "</table>\n",
       "</div>"
      ],
      "text/plain": [
       "   Digit  Count  Exp_count  Exp_freq\n",
       "0      1  29102    30026.0  0.301030\n",
       "1      2  16751    17564.0  0.176091\n",
       "2      3  12039    12462.0  0.124939\n",
       "3      4   9870     9666.0  0.096910\n",
       "4      5   8247     7898.0  0.079181\n",
       "5      6   7116     6677.0  0.066947\n",
       "6      7   6133     5784.0  0.057992\n",
       "7      8   5630     5102.0  0.051153\n",
       "8      9   4855     4564.0  0.045757"
      ]
     },
     "execution_count": 12,
     "metadata": {},
     "output_type": "execute_result"
    }
   ],
   "source": [
    "#if we want the actual data\n",
    "benford_x_digit_to_dataframe(data,1)"
   ]
  },
  {
   "cell_type": "code",
   "execution_count": 13,
   "metadata": {},
   "outputs": [
    {
     "data": {
      "image/png": "[encoded data removed]",
      "text/plain": [
       "<Figure size 480x360 with 1 Axes>"
      ]
     },
     "metadata": {
      "image/png": {
       "height": 320,
       "width": 437
      }
     },
     "output_type": "display_data"
    }
   ],
   "source": [
    "digit=2\n",
    "data=df[\"field3\"].tolist()\n",
    "plot_benford(data,digit)"
   ]
  },
  {
   "cell_type": "code",
   "execution_count": null,
   "metadata": {},
   "outputs": [],
   "source": [
    "\n",
    "\n",
    "\n"
   ]
  },
  {
   "cell_type": "code",
   "execution_count": null,
   "metadata": {},
   "outputs": [],
   "source": [
    "\n"
   ]
  },
  {
   "cell_type": "code",
   "execution_count": 18,
   "metadata": {},
   "outputs": [],
   "source": [
    "anomalies=[]\n",
    "digit=2\n",
    "data_count, expected_count, p =benford_x_digit(data,digit)\n",
    "for i in range(len(data_count)):\n",
    "    delta = abs(expected_count[i]-data_count[i])\n",
    "    delta_sqr=(expected_count[i]-data_count[i])**2\n",
    "    delta_perc=delta/expected_count[i]\n",
    "    anomalies.append([range(10**(digit-1),10**digit)[i],data_count[i],expected_count[i],delta,delta_sqr, delta_perc])\n"
   ]
  },
  {
   "cell_type": "code",
   "execution_count": 19,
   "metadata": {},
   "outputs": [
    {
     "data": {
      "text/plain": [
       "[[40,\n",
       "  1327,\n",
       "  1069.6305057716208,\n",
       "  257.36949422837915,\n",
       "  66239.05655937169,\n",
       "  0.24061532729259189],\n",
       " [50,\n",
       "  1103,\n",
       "  857.8069320489441,\n",
       "  245.19306795105592,\n",
       "  60119.640571251126,\n",
       "  0.2858371258033456],\n",
       " [60,\n",
       "  997,\n",
       "  716.0135664631669,\n",
       "  280.98643353683315,\n",
       "  78953.37583174914,\n",
       "  0.3924317173552991],\n",
       " [70,\n",
       "  891,\n",
       "  614.447671144705,\n",
       "  276.55232885529495,\n",
       "  76481.1905952872,\n",
       "  0.45008280093255604],\n",
       " [80,\n",
       "  782,\n",
       "  538.1166654757309,\n",
       "  243.88333452426912,\n",
       "  59479.080858676556,\n",
       "  0.45321646804724036],\n",
       " [90,\n",
       "  735,\n",
       "  478.65497527625627,\n",
       "  256.34502472374373,\n",
       "  65712.77170061678,\n",
       "  0.5355528260743428]]"
      ]
     },
     "execution_count": 19,
     "metadata": {},
     "output_type": "execute_result"
    }
   ],
   "source": [
    " [i for i in anomalies if i[5]>.2]"
   ]
  },
  {
   "cell_type": "markdown",
   "metadata": {},
   "source": [
    "This does the Chi Square test, but tends to be problematic with high numbers due to high degrees of freedom, from the documentation you probably can't use it Benford)"
   ]
  },
  {
   "cell_type": "code",
   "execution_count": 22,
   "metadata": {},
   "outputs": [
    {
     "name": "stdout",
     "output_type": "stream",
     "text": [
      "CHI square statistic: 898.2339796777127\n",
      "p value 5.903330140358592e-134\n"
     ]
    }
   ],
   "source": [
    "def chisquare_test(data_count,digit):\n",
    "    total_count=sum(data_count)  \n",
    "    BFD= [math.log10(1.0+1.0/n) for n in range (10**(digit-1),10**digit)]\n",
    "    exp_count=[int(p * total_count) for p in BFD]      \n",
    "    chi_sqr, pvalue = chisquare(data_count, f_exp=exp_count) \n",
    "    return chi_sqr , pvalue\n",
    "digit=2\n",
    "data_count, expected_count, p =benford_x_digit(data,digit)\n",
    "total_count=sum(data_count)  \n",
    "data_count\n",
    "chi_sqr, pvalue = chisquare_test(data_count,digit)\n",
    "print(\"CHI square statistic:\",chi_sqr)\n",
    "print(\"p value\",pvalue)\n"
   ]
  },
  {
   "cell_type": "code",
   "execution_count": null,
   "metadata": {},
   "outputs": [],
   "source": []
  }
 ],
 "metadata": {
  "kernelspec": {
   "display_name": "Python 3",
   "language": "python",
   "name": "python3"
  },
  "language_info": {
   "codemirror_mode": {
    "name": "ipython",
    "version": 3
   },
   "file_extension": ".py",
   "mimetype": "text/x-python",
   "name": "python",
   "nbconvert_exporter": "python",
   "pygments_lexer": "ipython3",
   "version": "3.6.6+"
  }
 },
 "nbformat": 4,
 "nbformat_minor": 4
}
