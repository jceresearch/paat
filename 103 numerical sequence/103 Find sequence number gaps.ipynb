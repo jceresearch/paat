{
 "cells": [
  {
   "source": [
    "## Check numerical sequence"
   ],
   "cell_type": "markdown",
   "metadata": {}
  },
  {
   "cell_type": "code",
   "execution_count": 48,
   "metadata": {},
   "outputs": [],
   "source": [
    "import pandas as pd\n",
    "import itertools"
   ]
  },
  {
   "cell_type": "markdown",
   "metadata": {},
   "source": [
    "Option 1 is to pick a column as a list and do the trick with standard python list tools"
   ]
  },
  {
   "cell_type": "code",
   "execution_count": 49,
   "metadata": {},
   "outputs": [],
   "source": [
    "df= pd.read_excel(\"./test_data/data.xlsx\")\n",
    "field_to_check=\"customer_id\""
   ]
  },
  {
   "cell_type": "code",
   "execution_count": 57,
   "metadata": {},
   "outputs": [
    {
     "output_type": "execute_result",
     "data": {
      "text/plain": [
       "(933, 9)"
      ]
     },
     "metadata": {},
     "execution_count": 57
    }
   ],
   "source": [
    "df.shape"
   ]
  },
  {
   "cell_type": "code",
   "execution_count": 58,
   "metadata": {},
   "outputs": [
    {
     "output_type": "execute_result",
     "data": {
      "text/plain": [
       "   customer_id gender first_name last_name        dob date_enrollment  \\\n",
       "0            1      F      April      Wade 2005-01-06      2011-12-25   \n",
       "1            2      M       Eric      Cruz 2017-06-15      2008-10-18   \n",
       "2            3      M      Shawn   Anthony 2017-06-25      2008-03-14   \n",
       "3            4      M     Elijah     Quinn 2008-09-18      2008-12-02   \n",
       "4            5      F    Shannon     Mckay 1996-09-27      2005-01-18   \n",
       "\n",
       "               city                 country            residential address  \n",
       "0         Mistyfort                  Jersey  7919 Thomas Parkway Suite 159  \n",
       "1      Calderontown               Australia      866 April Glens Suite 576  \n",
       "2         Lake Eric                 Andorra              69675 Lopez Crest  \n",
       "3  North Sandrabury                 Germany      95304 Joan Ports Apt. 316  \n",
       "4        West Carol  British Virgin Islands                  738 Lori Mill  "
      ],
      "text/html": "<div>\n<style scoped>\n    .dataframe tbody tr th:only-of-type {\n        vertical-align: middle;\n    }\n\n    .dataframe tbody tr th {\n        vertical-align: top;\n    }\n\n    .dataframe thead th {\n        text-align: right;\n    }\n</style>\n<table border=\"1\" class=\"dataframe\">\n  <thead>\n    <tr style=\"text-align: right;\">\n      <th></th>\n      <th>customer_id</th>\n      <th>gender</th>\n      <th>first_name</th>\n      <th>last_name</th>\n      <th>dob</th>\n      <th>date_enrollment</th>\n      <th>city</th>\n      <th>country</th>\n      <th>residential address</th>\n    </tr>\n  </thead>\n  <tbody>\n    <tr>\n      <th>0</th>\n      <td>1</td>\n      <td>F</td>\n      <td>April</td>\n      <td>Wade</td>\n      <td>2005-01-06</td>\n      <td>2011-12-25</td>\n      <td>Mistyfort</td>\n      <td>Jersey</td>\n      <td>7919 Thomas Parkway Suite 159</td>\n    </tr>\n    <tr>\n      <th>1</th>\n      <td>2</td>\n      <td>M</td>\n      <td>Eric</td>\n      <td>Cruz</td>\n      <td>2017-06-15</td>\n      <td>2008-10-18</td>\n      <td>Calderontown</td>\n      <td>Australia</td>\n      <td>866 April Glens Suite 576</td>\n    </tr>\n    <tr>\n      <th>2</th>\n      <td>3</td>\n      <td>M</td>\n      <td>Shawn</td>\n      <td>Anthony</td>\n      <td>2017-06-25</td>\n      <td>2008-03-14</td>\n      <td>Lake Eric</td>\n      <td>Andorra</td>\n      <td>69675 Lopez Crest</td>\n    </tr>\n    <tr>\n      <th>3</th>\n      <td>4</td>\n      <td>M</td>\n      <td>Elijah</td>\n      <td>Quinn</td>\n      <td>2008-09-18</td>\n      <td>2008-12-02</td>\n      <td>North Sandrabury</td>\n      <td>Germany</td>\n      <td>95304 Joan Ports Apt. 316</td>\n    </tr>\n    <tr>\n      <th>4</th>\n      <td>5</td>\n      <td>F</td>\n      <td>Shannon</td>\n      <td>Mckay</td>\n      <td>1996-09-27</td>\n      <td>2005-01-18</td>\n      <td>West Carol</td>\n      <td>British Virgin Islands</td>\n      <td>738 Lori Mill</td>\n    </tr>\n  </tbody>\n</table>\n</div>"
     },
     "metadata": {},
     "execution_count": 58
    }
   ],
   "source": [
    "df.head()"
   ]
  },
  {
   "cell_type": "code",
   "execution_count": 59,
   "metadata": {},
   "outputs": [
    {
     "output_type": "stream",
     "name": "stdout",
     "text": [
      "67\n[33, 37, 62, 85, 117, 162, 183, 202, 203, 250, 256, 295, 299, 331, 343, 358, 380, 407, 417, 428, 437, 439, 446, 479, 499, 561, 568, 569, 570, 571, 572, 573, 574, 575, 576, 577, 592, 604, 631, 632, 657, 660, 668, 685, 687, 705, 790, 801, 811, 813, 814, 821, 844, 847, 866, 873, 943, 944, 945, 946, 947, 958, 981, 985, 988, 991, 994]\n"
     ]
    }
   ],
   "source": [
    "list_to_check= df[field_to_check].tolist()\n",
    "# here the key command is \"set\" which picks only unique values.\n",
    "# note that this means that we dont check for duplicates or\n",
    "# non numeric, blanks etc, this should be done beforehand\n",
    "\n",
    "list_to_check=sorted(set(list_to_check))\n",
    "\n",
    "gap_list=[]\n",
    "n= 0\n",
    "for el in list_to_check:\n",
    "    if n==0:\n",
    "        n= el-1    \n",
    "    if el-n > 1:\n",
    "        gap_list.extend(range(n+1,el))\n",
    "    n=el\n",
    "print(len(gap_list))\n",
    "print(gap_list)"
   ]
  },
  {
   "cell_type": "markdown",
   "metadata": {},
   "source": [
    "this optional routine converts it to pair of ranges, which can be useful if the gaps are clustered"
   ]
  },
  {
   "cell_type": "code",
   "execution_count": 53,
   "metadata": {},
   "outputs": [
    {
     "output_type": "execute_result",
     "data": {
      "text/plain": [
       "    start  end  count\n",
       "0      33   33      1\n",
       "1      37   37      1\n",
       "2      62   62      1\n",
       "3      85   85      1\n",
       "4     117  117      1\n",
       "5     162  162      1\n",
       "6     183  183      1\n",
       "7     202  203      2\n",
       "8     250  250      1\n",
       "9     256  256      1\n",
       "10    295  295      1\n",
       "11    299  299      1\n",
       "12    331  331      1\n",
       "13    343  343      1\n",
       "14    358  358      1\n",
       "15    380  380      1\n",
       "16    407  407      1\n",
       "17    417  417      1\n",
       "18    428  428      1\n",
       "19    437  437      1\n",
       "20    439  439      1\n",
       "21    446  446      1\n",
       "22    479  479      1\n",
       "23    499  499      1\n",
       "24    561  561      1\n",
       "25    568  577     10\n",
       "26    592  592      1\n",
       "27    604  604      1\n",
       "28    631  632      2\n",
       "29    657  657      1\n",
       "30    660  660      1\n",
       "31    668  668      1\n",
       "32    685  685      1\n",
       "33    687  687      1\n",
       "34    705  705      1\n",
       "35    790  790      1\n",
       "36    801  801      1\n",
       "37    811  811      1\n",
       "38    813  814      2\n",
       "39    821  821      1\n",
       "40    844  844      1\n",
       "41    847  847      1\n",
       "42    866  866      1\n",
       "43    873  873      1\n",
       "44    943  947      5\n",
       "45    958  958      1\n",
       "46    981  981      1\n",
       "47    985  985      1\n",
       "48    988  988      1\n",
       "49    991  991      1\n",
       "50    994  994      1"
      ],
      "text/html": "<div>\n<style scoped>\n    .dataframe tbody tr th:only-of-type {\n        vertical-align: middle;\n    }\n\n    .dataframe tbody tr th {\n        vertical-align: top;\n    }\n\n    .dataframe thead th {\n        text-align: right;\n    }\n</style>\n<table border=\"1\" class=\"dataframe\">\n  <thead>\n    <tr style=\"text-align: right;\">\n      <th></th>\n      <th>start</th>\n      <th>end</th>\n      <th>count</th>\n    </tr>\n  </thead>\n  <tbody>\n    <tr>\n      <th>0</th>\n      <td>33</td>\n      <td>33</td>\n      <td>1</td>\n    </tr>\n    <tr>\n      <th>1</th>\n      <td>37</td>\n      <td>37</td>\n      <td>1</td>\n    </tr>\n    <tr>\n      <th>2</th>\n      <td>62</td>\n      <td>62</td>\n      <td>1</td>\n    </tr>\n    <tr>\n      <th>3</th>\n      <td>85</td>\n      <td>85</td>\n      <td>1</td>\n    </tr>\n    <tr>\n      <th>4</th>\n      <td>117</td>\n      <td>117</td>\n      <td>1</td>\n    </tr>\n    <tr>\n      <th>5</th>\n      <td>162</td>\n      <td>162</td>\n      <td>1</td>\n    </tr>\n    <tr>\n      <th>6</th>\n      <td>183</td>\n      <td>183</td>\n      <td>1</td>\n    </tr>\n    <tr>\n      <th>7</th>\n      <td>202</td>\n      <td>203</td>\n      <td>2</td>\n    </tr>\n    <tr>\n      <th>8</th>\n      <td>250</td>\n      <td>250</td>\n      <td>1</td>\n    </tr>\n    <tr>\n      <th>9</th>\n      <td>256</td>\n      <td>256</td>\n      <td>1</td>\n    </tr>\n    <tr>\n      <th>10</th>\n      <td>295</td>\n      <td>295</td>\n      <td>1</td>\n    </tr>\n    <tr>\n      <th>11</th>\n      <td>299</td>\n      <td>299</td>\n      <td>1</td>\n    </tr>\n    <tr>\n      <th>12</th>\n      <td>331</td>\n      <td>331</td>\n      <td>1</td>\n    </tr>\n    <tr>\n      <th>13</th>\n      <td>343</td>\n      <td>343</td>\n      <td>1</td>\n    </tr>\n    <tr>\n      <th>14</th>\n      <td>358</td>\n      <td>358</td>\n      <td>1</td>\n    </tr>\n    <tr>\n      <th>15</th>\n      <td>380</td>\n      <td>380</td>\n      <td>1</td>\n    </tr>\n    <tr>\n      <th>16</th>\n      <td>407</td>\n      <td>407</td>\n      <td>1</td>\n    </tr>\n    <tr>\n      <th>17</th>\n      <td>417</td>\n      <td>417</td>\n      <td>1</td>\n    </tr>\n    <tr>\n      <th>18</th>\n      <td>428</td>\n      <td>428</td>\n      <td>1</td>\n    </tr>\n    <tr>\n      <th>19</th>\n      <td>437</td>\n      <td>437</td>\n      <td>1</td>\n    </tr>\n    <tr>\n      <th>20</th>\n      <td>439</td>\n      <td>439</td>\n      <td>1</td>\n    </tr>\n    <tr>\n      <th>21</th>\n      <td>446</td>\n      <td>446</td>\n      <td>1</td>\n    </tr>\n    <tr>\n      <th>22</th>\n      <td>479</td>\n      <td>479</td>\n      <td>1</td>\n    </tr>\n    <tr>\n      <th>23</th>\n      <td>499</td>\n      <td>499</td>\n      <td>1</td>\n    </tr>\n    <tr>\n      <th>24</th>\n      <td>561</td>\n      <td>561</td>\n      <td>1</td>\n    </tr>\n    <tr>\n      <th>25</th>\n      <td>568</td>\n      <td>577</td>\n      <td>10</td>\n    </tr>\n    <tr>\n      <th>26</th>\n      <td>592</td>\n      <td>592</td>\n      <td>1</td>\n    </tr>\n    <tr>\n      <th>27</th>\n      <td>604</td>\n      <td>604</td>\n      <td>1</td>\n    </tr>\n    <tr>\n      <th>28</th>\n      <td>631</td>\n      <td>632</td>\n      <td>2</td>\n    </tr>\n    <tr>\n      <th>29</th>\n      <td>657</td>\n      <td>657</td>\n      <td>1</td>\n    </tr>\n    <tr>\n      <th>30</th>\n      <td>660</td>\n      <td>660</td>\n      <td>1</td>\n    </tr>\n    <tr>\n      <th>31</th>\n      <td>668</td>\n      <td>668</td>\n      <td>1</td>\n    </tr>\n    <tr>\n      <th>32</th>\n      <td>685</td>\n      <td>685</td>\n      <td>1</td>\n    </tr>\n    <tr>\n      <th>33</th>\n      <td>687</td>\n      <td>687</td>\n      <td>1</td>\n    </tr>\n    <tr>\n      <th>34</th>\n      <td>705</td>\n      <td>705</td>\n      <td>1</td>\n    </tr>\n    <tr>\n      <th>35</th>\n      <td>790</td>\n      <td>790</td>\n      <td>1</td>\n    </tr>\n    <tr>\n      <th>36</th>\n      <td>801</td>\n      <td>801</td>\n      <td>1</td>\n    </tr>\n    <tr>\n      <th>37</th>\n      <td>811</td>\n      <td>811</td>\n      <td>1</td>\n    </tr>\n    <tr>\n      <th>38</th>\n      <td>813</td>\n      <td>814</td>\n      <td>2</td>\n    </tr>\n    <tr>\n      <th>39</th>\n      <td>821</td>\n      <td>821</td>\n      <td>1</td>\n    </tr>\n    <tr>\n      <th>40</th>\n      <td>844</td>\n      <td>844</td>\n      <td>1</td>\n    </tr>\n    <tr>\n      <th>41</th>\n      <td>847</td>\n      <td>847</td>\n      <td>1</td>\n    </tr>\n    <tr>\n      <th>42</th>\n      <td>866</td>\n      <td>866</td>\n      <td>1</td>\n    </tr>\n    <tr>\n      <th>43</th>\n      <td>873</td>\n      <td>873</td>\n      <td>1</td>\n    </tr>\n    <tr>\n      <th>44</th>\n      <td>943</td>\n      <td>947</td>\n      <td>5</td>\n    </tr>\n    <tr>\n      <th>45</th>\n      <td>958</td>\n      <td>958</td>\n      <td>1</td>\n    </tr>\n    <tr>\n      <th>46</th>\n      <td>981</td>\n      <td>981</td>\n      <td>1</td>\n    </tr>\n    <tr>\n      <th>47</th>\n      <td>985</td>\n      <td>985</td>\n      <td>1</td>\n    </tr>\n    <tr>\n      <th>48</th>\n      <td>988</td>\n      <td>988</td>\n      <td>1</td>\n    </tr>\n    <tr>\n      <th>49</th>\n      <td>991</td>\n      <td>991</td>\n      <td>1</td>\n    </tr>\n    <tr>\n      <th>50</th>\n      <td>994</td>\n      <td>994</td>\n      <td>1</td>\n    </tr>\n  </tbody>\n</table>\n</div>"
     },
     "metadata": {},
     "execution_count": 53
    }
   ],
   "source": [
    "def to_ranges(iterable):\n",
    "    iterable = sorted(set(iterable))\n",
    "    for key, group in itertools.groupby(enumerate(iterable), lambda t: t[1] - t[0]):\n",
    "        group = list(group)\n",
    "        yield [group[0][1], group[-1][1],group[-1][1]-group[0][1]+1]\n",
    "\n",
    "df_grouped = pd.DataFrame.from_records(list(to_ranges(gap_list)),columns=[\"start\",\"end\",\"count\"])\n",
    "df_grouped\n"
   ]
  },
  {
   "cell_type": "code",
   "execution_count": 54,
   "metadata": {},
   "outputs": [],
   "source": [
    "df_grouped.to_excel(\"./output/Sequence Gaps Grouped.xlsx\",index=False)"
   ]
  },
  {
   "cell_type": "markdown",
   "metadata": {},
   "source": [
    "Option 2 is to do everything with panda data frames, iterating through each record, having previously sorted by the target column/field\n",
    "Could be slower than using the previous option (using Lists) as Python is very fast with lists."
   ]
  },
  {
   "cell_type": "code",
   "execution_count": 60,
   "metadata": {},
   "outputs": [
    {
     "output_type": "stream",
     "name": "stdout",
     "text": [
      "[33, 37, 62, 85, 117, 162, 183, 202, 203, 250, 256, 295, 299, 331, 343, 358, 380, 407, 417, 428, 437, 439, 446, 479, 499, 561, 568, 569, 570, 571, 572, 573, 574, 575, 576, 577, 592, 604, 631, 632, 657, 660, 668, 685, 687, 705, 790, 801, 811, 813, 814, 821, 844, 847, 866, 873, 943, 944, 945, 946, 947, 958, 981, 985, 988, 991, 994]\n"
     ]
    }
   ],
   "source": [
    "df.sort_values(by=[field_to_check], inplace=True)\n",
    "gap_list=[]\n",
    "n= 0\n",
    "for index, row in df.iterrows():\n",
    "    if n==0:\n",
    "        n= row[field_to_check]-1    \n",
    "    if (row[field_to_check]-n) > 1:\n",
    "        gap_list.extend(range(n+1,row[field_to_check]))\n",
    "    n=row[field_to_check]\n",
    "print(gap_list)"
   ]
  },
  {
   "cell_type": "code",
   "execution_count": 61,
   "metadata": {},
   "outputs": [
    {
     "output_type": "stream",
     "name": "stdout",
     "text": [
      "67\n"
     ]
    }
   ],
   "source": [
    "df2 = pd.DataFrame({'id':gap_list})\n",
    "df2.to_excel(\"./output/Sequence Gaps.xlsx\")\n",
    "print(len(gap_list))\n",
    "#df2"
   ]
  },
  {
   "cell_type": "markdown",
   "metadata": {},
   "source": [
    "All done!!!   "
   ]
  },
  {
   "cell_type": "code",
   "execution_count": null,
   "metadata": {},
   "outputs": [],
   "source": []
  }
 ],
 "metadata": {
  "kernelspec": {
   "name": "python385jvsc74a57bd08fac594bfae6525c0c41b4041d2d72effa188cc8ead05f81b1fab2bb098927fb",
   "display_name": "Python 3.8.5 64-bit ('base': conda)"
  },
  "language_info": {
   "codemirror_mode": {
    "name": "ipython",
    "version": 3
   },
   "file_extension": ".py",
   "mimetype": "text/x-python",
   "name": "python",
   "nbconvert_exporter": "python",
   "pygments_lexer": "ipython3",
   "version": "3.8.5"
  }
 },
 "nbformat": 4,
 "nbformat_minor": 4
}