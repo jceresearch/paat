{
 "cells": [
  {
   "cell_type": "code",
   "execution_count": null,
   "metadata": {},
   "outputs": [],
   "source": []
  },
  {
   "cell_type": "code",
   "execution_count": null,
   "metadata": {},
   "outputs": [],
   "source": []
  },
  {
   "cell_type": "code",
   "execution_count": null,
   "metadata": {},
   "outputs": [],
   "source": [
    "import pandas as pd\n",
    "from pandas import ExcelWriter\n",
    "from pandas import ExcelFile\n"
   ]
  },
  {
   "cell_type": "code",
   "execution_count": null,
   "metadata": {},
   "outputs": [],
   "source": [
    "df= pd.read_excel(\"input_file.xlsx\", sheet_name=\"Data\")\n",
    "df.columns.values"
   ]
  },
  {
   "cell_type": "code",
   "execution_count": null,
   "metadata": {},
   "outputs": [],
   "source": [
    "df.sort_values('Transac_id', axis=0, ascending=True, inplace=True)\n",
    "list_deduped= df['Transac_id'].drop_duplicates()"
   ]
  },
  {
   "cell_type": "code",
   "execution_count": null,
   "metadata": {},
   "outputs": [],
   "source": [
    "\n",
    "gap_list=[]\n",
    "n= 0\n",
    "for row in list_deduped:\n",
    "    if n==0:\n",
    "        n= row-1\n",
    "    \n",
    "    if row-n > 1:\n",
    "        gap_list.extend(range(n+1,row))\n",
    "    n=row\n",
    "\n",
    "df2 = pd.DataFrame({'Transac_id':gap_list})\n",
    "df2.to_excel(\"Transact_id Gaps.xlsx\")\n",
    "print(len(gap_list))"
   ]
  },
  {
   "cell_type": "code",
   "execution_count": null,
   "metadata": {},
   "outputs": [],
   "source": [
    "gap_list=[]\n",
    "n= 0\n",
    "for row in df_deduped_ID:\n",
    "    if n==0:\n",
    "        n= row-1\n",
    "    \n",
    "    if row-n > 1:\n",
    "        gap_list.extend(range(n+1,row))\n",
    "    n=row\n",
    "\n",
    "df2 = pd.DataFrame({'Auth_ID':gap_list})\n",
    "df2.to_excel(\"output/101_Auth_ID_Gaps.xlsx\")\n",
    "print(len(gap_list))"
   ]
  },
  {
   "cell_type": "code",
   "execution_count": null,
   "metadata": {},
   "outputs": [],
   "source": []
  },
  {
   "cell_type": "code",
   "execution_count": null,
   "metadata": {},
   "outputs": [],
   "source": []
  },
  {
   "cell_type": "code",
   "execution_count": null,
   "metadata": {},
   "outputs": [],
   "source": []
  },
  {
   "cell_type": "code",
   "execution_count": null,
   "metadata": {},
   "outputs": [],
   "source": []
  }
 ],
 "metadata": {
  "kernelspec": {
   "display_name": "Python 3",
   "language": "python",
   "name": "python3"
  },
  "language_info": {
   "codemirror_mode": {
    "name": "ipython",
    "version": 3
   },
   "file_extension": ".py",
   "mimetype": "text/x-python",
   "name": "python",
   "nbconvert_exporter": "python",
   "pygments_lexer": "ipython3",
   "version": "3.7.4"
  }
 },
 "nbformat": 4,
 "nbformat_minor": 4
}
