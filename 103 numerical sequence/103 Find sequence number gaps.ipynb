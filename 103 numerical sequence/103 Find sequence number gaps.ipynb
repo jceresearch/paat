{
 "cells": [
  {
   "cell_type": "code",
   "execution_count": 2,
   "metadata": {},
   "outputs": [],
   "source": [
    "import pandas as pd\n",
    "import itertools"
   ]
  },
  {
   "cell_type": "markdown",
   "metadata": {},
   "source": [
    "Option 1 is to pick a column as a list and do the trick with standard python list tools"
   ]
  },
  {
   "cell_type": "code",
   "execution_count": 20,
   "metadata": {},
   "outputs": [
    {
     "data": {
      "text/plain": [
       "0      1\n",
       "1     13\n",
       "2      3\n",
       "3      3\n",
       "4      3\n",
       "5      4\n",
       "6     10\n",
       "7      2\n",
       "8     14\n",
       "9      0\n",
       "10     0\n",
       "11     0\n",
       "12     0\n",
       "Name: customer_id, dtype: int32"
      ]
     },
     "execution_count": 20,
     "metadata": {},
     "output_type": "execute_result"
    }
   ],
   "source": [
    "#a dummy version to play with very small sets is\n",
    "data = [['tom', \"1\"], ['jason', \"13\"], ['juli', 3], ['juli', 3], ['louise', 3] , \n",
    "        ['peter', 4],['mark', 10], ['nick', 2], ['andrea', 14], ['james', 0], ['john', ''], ['linn', 'nan'],['simon', \"error\"]  ] \n",
    "  \n",
    "# Create the pandas DataFrame \n",
    "df = pd.DataFrame(data, columns = ['name', 'customer_id']) \n",
    " \n",
    "field_to_check='customer_id'\n",
    "df[field_to_check]=pd.to_numeric(df[field_to_check], errors='coerce')\n",
    "#An alternative  method is if they are all strings, it is faster:\n",
    "#df[field_to_check]= df[df[field_to_check].apply(lambda x: x.isnumeric())]\n",
    "\n",
    "df.fillna(0,inplace=True)\n",
    "df[field_to_check]=df[field_to_check].astype(int)\n",
    "df[field_to_check]"
   ]
  },
  {
   "cell_type": "markdown",
   "metadata": {},
   "source": [
    "We add here a quick check for duplicates, it is not essential for this recipe, but it is important you identify these before doing sequence checks"
   ]
  },
  {
   "cell_type": "code",
   "execution_count": 33,
   "metadata": {},
   "outputs": [
    {
     "name": "stdout",
     "output_type": "stream",
     "text": [
      "Duplicates 0\n"
     ]
    },
    {
     "data": {
      "text/html": [
       "<div>\n",
       "<style scoped>\n",
       "    .dataframe tbody tr th:only-of-type {\n",
       "        vertical-align: middle;\n",
       "    }\n",
       "\n",
       "    .dataframe tbody tr th {\n",
       "        vertical-align: top;\n",
       "    }\n",
       "\n",
       "    .dataframe thead th {\n",
       "        text-align: right;\n",
       "    }\n",
       "</style>\n",
       "<table border=\"1\" class=\"dataframe\">\n",
       "  <thead>\n",
       "    <tr style=\"text-align: right;\">\n",
       "      <th></th>\n",
       "      <th>Unnamed: 0</th>\n",
       "      <th>customer_id</th>\n",
       "      <th>gender</th>\n",
       "      <th>first_name</th>\n",
       "      <th>last_name</th>\n",
       "      <th>dob</th>\n",
       "      <th>address</th>\n",
       "      <th>city</th>\n",
       "      <th>country</th>\n",
       "    </tr>\n",
       "  </thead>\n",
       "  <tbody>\n",
       "  </tbody>\n",
       "</table>\n",
       "</div>"
      ],
      "text/plain": [
       "Empty DataFrame\n",
       "Columns: [Unnamed: 0, customer_id, gender, first_name, last_name, dob, address, city, country]\n",
       "Index: []"
      ]
     },
     "execution_count": 33,
     "metadata": {},
     "output_type": "execute_result"
    }
   ],
   "source": [
    "duplicated_rows = df[df.duplicated([field_to_check],keep='first')]\n",
    "print(\"Duplicates found: \",len(duplicated_rows))\n",
    "duplicated_rows\n"
   ]
  },
  {
   "cell_type": "markdown",
   "metadata": {},
   "source": [
    "and we drop them, notice the \"inplace\" which means the data frame df will be changed, rather than having to do  \n",
    "df=df.drop_duplicates...  \n",
    "or  \n",
    "df_deduped= df.drop_duplicates...\n"
   ]
  },
  {
   "cell_type": "code",
   "execution_count": 22,
   "metadata": {},
   "outputs": [],
   "source": [
    "df.drop_duplicates(subset=[field_to_check],keep='first', inplace=True)"
   ]
  },
  {
   "cell_type": "markdown",
   "metadata": {},
   "source": [
    "Now is where we do the actual test for numerical sequence"
   ]
  },
  {
   "cell_type": "code",
   "execution_count": 23,
   "metadata": {},
   "outputs": [
    {
     "data": {
      "text/plain": [
       "[5, 6, 7, 8, 9, 11, 12]"
      ]
     },
     "execution_count": 23,
     "metadata": {},
     "output_type": "execute_result"
    }
   ],
   "source": [
    "list_to_check= df[field_to_check].tolist()\n",
    "# here the key command is \"set\" which picks only unique values.\n",
    "# note that this means that we dont check for duplicates or\n",
    "# non numeric, blanks etc, this should be done beforehand\n",
    "\n",
    "list_to_check=sorted(set(list_to_check))\n",
    "#list_to_check.sort()\n",
    "gap_list=[]\n",
    "n= 0\n",
    "for el in list_to_check:\n",
    "    if n==0:\n",
    "        n= el-1    \n",
    "    if el-n > 1:\n",
    "        gap_list.extend(range(n+1,el))\n",
    "    n=el\n",
    "gap_list"
   ]
  },
  {
   "cell_type": "markdown",
   "metadata": {},
   "source": [
    "this optional routine converts it to pair of ranges, which can be useful if the gaps are clustered"
   ]
  },
  {
   "cell_type": "code",
   "execution_count": 24,
   "metadata": {},
   "outputs": [
    {
     "data": {
      "text/plain": [
       "[(5, 9), (11, 12)]"
      ]
     },
     "execution_count": 24,
     "metadata": {},
     "output_type": "execute_result"
    }
   ],
   "source": [
    "def to_ranges(iterable):\n",
    "    iterable = sorted(set(iterable))\n",
    "    for key, group in itertools.groupby(enumerate(iterable), lambda t: t[1] - t[0]):\n",
    "        group = list(group)\n",
    "        yield group[0][1], group[-1][1]\n",
    "list(to_ranges(gap_list))"
   ]
  },
  {
   "cell_type": "markdown",
   "metadata": {},
   "source": [
    "Option 2 is to do everything with panda data frames, iterating through each record, having previously sorted by the target column/field"
   ]
  },
  {
   "cell_type": "code",
   "execution_count": 34,
   "metadata": {},
   "outputs": [
    {
     "data": {
      "text/plain": [
       "[2,\n",
       " 4,\n",
       " 23,\n",
       " 25,\n",
       " 80,\n",
       " 89,\n",
       " 143,\n",
       " 217,\n",
       " 367,\n",
       " 419,\n",
       " 431,\n",
       " 455,\n",
       " 493,\n",
       " 606,\n",
       " 624,\n",
       " 635,\n",
       " 684,\n",
       " 703,\n",
       " 875,\n",
       " 882]"
      ]
     },
     "execution_count": 34,
     "metadata": {},
     "output_type": "execute_result"
    }
   ],
   "source": [
    "df.sort_values(by=[field_to_check], inplace=True)\n",
    "gap_list=[]\n",
    "n= 0\n",
    "for index, row in df.iterrows():\n",
    "    if n==0:\n",
    "        n= row[field_to_check]-1    \n",
    "    if (row[field_to_check]-n) > 1:\n",
    "        gap_list.extend(range(n+1,row[field_to_check]))\n",
    "    n=row[field_to_check]\n",
    "gap_list"
   ]
  },
  {
   "cell_type": "code",
   "execution_count": 35,
   "metadata": {},
   "outputs": [
    {
     "name": "stdout",
     "output_type": "stream",
     "text": [
      "20\n"
     ]
    },
    {
     "data": {
      "text/html": [
       "<div>\n",
       "<style scoped>\n",
       "    .dataframe tbody tr th:only-of-type {\n",
       "        vertical-align: middle;\n",
       "    }\n",
       "\n",
       "    .dataframe tbody tr th {\n",
       "        vertical-align: top;\n",
       "    }\n",
       "\n",
       "    .dataframe thead th {\n",
       "        text-align: right;\n",
       "    }\n",
       "</style>\n",
       "<table border=\"1\" class=\"dataframe\">\n",
       "  <thead>\n",
       "    <tr style=\"text-align: right;\">\n",
       "      <th></th>\n",
       "      <th>id</th>\n",
       "    </tr>\n",
       "  </thead>\n",
       "  <tbody>\n",
       "    <tr>\n",
       "      <td>0</td>\n",
       "      <td>2</td>\n",
       "    </tr>\n",
       "    <tr>\n",
       "      <td>1</td>\n",
       "      <td>4</td>\n",
       "    </tr>\n",
       "    <tr>\n",
       "      <td>2</td>\n",
       "      <td>23</td>\n",
       "    </tr>\n",
       "    <tr>\n",
       "      <td>3</td>\n",
       "      <td>25</td>\n",
       "    </tr>\n",
       "    <tr>\n",
       "      <td>4</td>\n",
       "      <td>80</td>\n",
       "    </tr>\n",
       "    <tr>\n",
       "      <td>5</td>\n",
       "      <td>89</td>\n",
       "    </tr>\n",
       "    <tr>\n",
       "      <td>6</td>\n",
       "      <td>143</td>\n",
       "    </tr>\n",
       "    <tr>\n",
       "      <td>7</td>\n",
       "      <td>217</td>\n",
       "    </tr>\n",
       "    <tr>\n",
       "      <td>8</td>\n",
       "      <td>367</td>\n",
       "    </tr>\n",
       "    <tr>\n",
       "      <td>9</td>\n",
       "      <td>419</td>\n",
       "    </tr>\n",
       "    <tr>\n",
       "      <td>10</td>\n",
       "      <td>431</td>\n",
       "    </tr>\n",
       "    <tr>\n",
       "      <td>11</td>\n",
       "      <td>455</td>\n",
       "    </tr>\n",
       "    <tr>\n",
       "      <td>12</td>\n",
       "      <td>493</td>\n",
       "    </tr>\n",
       "    <tr>\n",
       "      <td>13</td>\n",
       "      <td>606</td>\n",
       "    </tr>\n",
       "    <tr>\n",
       "      <td>14</td>\n",
       "      <td>624</td>\n",
       "    </tr>\n",
       "    <tr>\n",
       "      <td>15</td>\n",
       "      <td>635</td>\n",
       "    </tr>\n",
       "    <tr>\n",
       "      <td>16</td>\n",
       "      <td>684</td>\n",
       "    </tr>\n",
       "    <tr>\n",
       "      <td>17</td>\n",
       "      <td>703</td>\n",
       "    </tr>\n",
       "    <tr>\n",
       "      <td>18</td>\n",
       "      <td>875</td>\n",
       "    </tr>\n",
       "    <tr>\n",
       "      <td>19</td>\n",
       "      <td>882</td>\n",
       "    </tr>\n",
       "  </tbody>\n",
       "</table>\n",
       "</div>"
      ],
      "text/plain": [
       "     id\n",
       "0     2\n",
       "1     4\n",
       "2    23\n",
       "3    25\n",
       "4    80\n",
       "5    89\n",
       "6   143\n",
       "7   217\n",
       "8   367\n",
       "9   419\n",
       "10  431\n",
       "11  455\n",
       "12  493\n",
       "13  606\n",
       "14  624\n",
       "15  635\n",
       "16  684\n",
       "17  703\n",
       "18  875\n",
       "19  882"
      ]
     },
     "execution_count": 35,
     "metadata": {},
     "output_type": "execute_result"
    }
   ],
   "source": [
    "df2 = pd.DataFrame({'id':gap_list})\n",
    "df2.to_excel(\"./output/Sequence Gaps.xlsx\")\n",
    "print(len(gap_list))\n",
    "df2"
   ]
  },
  {
   "cell_type": "markdown",
   "metadata": {},
   "source": [
    "All done!!!   \n",
    "Now using the data file it is simple"
   ]
  },
  {
   "cell_type": "code",
   "execution_count": 37,
   "metadata": {},
   "outputs": [
    {
     "name": "stdout",
     "output_type": "stream",
     "text": [
      "(980, 9)\n"
     ]
    },
    {
     "data": {
      "text/html": [
       "<div>\n",
       "<style scoped>\n",
       "    .dataframe tbody tr th:only-of-type {\n",
       "        vertical-align: middle;\n",
       "    }\n",
       "\n",
       "    .dataframe tbody tr th {\n",
       "        vertical-align: top;\n",
       "    }\n",
       "\n",
       "    .dataframe thead th {\n",
       "        text-align: right;\n",
       "    }\n",
       "</style>\n",
       "<table border=\"1\" class=\"dataframe\">\n",
       "  <thead>\n",
       "    <tr style=\"text-align: right;\">\n",
       "      <th></th>\n",
       "      <th>Unnamed: 0</th>\n",
       "      <th>customer_id</th>\n",
       "      <th>gender</th>\n",
       "      <th>first_name</th>\n",
       "      <th>last_name</th>\n",
       "      <th>dob</th>\n",
       "      <th>address</th>\n",
       "      <th>city</th>\n",
       "      <th>country</th>\n",
       "    </tr>\n",
       "  </thead>\n",
       "  <tbody>\n",
       "    <tr>\n",
       "      <td>0</td>\n",
       "      <td>0</td>\n",
       "      <td>1</td>\n",
       "      <td>F</td>\n",
       "      <td>Lindsey</td>\n",
       "      <td>Baldwin</td>\n",
       "      <td>1992-07-11</td>\n",
       "      <td>656 Mark Coves Apt. 230</td>\n",
       "      <td>Goodwinton</td>\n",
       "      <td>Grenada</td>\n",
       "    </tr>\n",
       "    <tr>\n",
       "      <td>1</td>\n",
       "      <td>1</td>\n",
       "      <td>3</td>\n",
       "      <td>F</td>\n",
       "      <td>Lorraine</td>\n",
       "      <td>Stone</td>\n",
       "      <td>2015-04-09</td>\n",
       "      <td>050 Ashley Burg</td>\n",
       "      <td>Garyton</td>\n",
       "      <td>Croatia</td>\n",
       "    </tr>\n",
       "    <tr>\n",
       "      <td>2</td>\n",
       "      <td>2</td>\n",
       "      <td>5</td>\n",
       "      <td>F</td>\n",
       "      <td>Natalie</td>\n",
       "      <td>Dean</td>\n",
       "      <td>2003-06-28</td>\n",
       "      <td>321 Barbara Creek</td>\n",
       "      <td>Mallorybury</td>\n",
       "      <td>Bouvet Island (Bouvetoya)</td>\n",
       "    </tr>\n",
       "    <tr>\n",
       "      <td>3</td>\n",
       "      <td>3</td>\n",
       "      <td>6</td>\n",
       "      <td>F</td>\n",
       "      <td>Stacey</td>\n",
       "      <td>Moon</td>\n",
       "      <td>2000-09-08</td>\n",
       "      <td>45842 Jacob Ports Apt. 879</td>\n",
       "      <td>Lake Michelleside</td>\n",
       "      <td>Eritrea</td>\n",
       "    </tr>\n",
       "    <tr>\n",
       "      <td>4</td>\n",
       "      <td>4</td>\n",
       "      <td>7</td>\n",
       "      <td>M</td>\n",
       "      <td>Ivan</td>\n",
       "      <td>Young</td>\n",
       "      <td>2006-01-21</td>\n",
       "      <td>193 Susan Wall Apt. 899</td>\n",
       "      <td>Lucasstad</td>\n",
       "      <td>Mayotte</td>\n",
       "    </tr>\n",
       "  </tbody>\n",
       "</table>\n",
       "</div>"
      ],
      "text/plain": [
       "   Unnamed: 0  customer_id gender first_name last_name        dob  \\\n",
       "0           0            1      F    Lindsey   Baldwin 1992-07-11   \n",
       "1           1            3      F   Lorraine     Stone 2015-04-09   \n",
       "2           2            5      F    Natalie      Dean 2003-06-28   \n",
       "3           3            6      F     Stacey      Moon 2000-09-08   \n",
       "4           4            7      M       Ivan     Young 2006-01-21   \n",
       "\n",
       "                      address               city                    country  \n",
       "0     656 Mark Coves Apt. 230         Goodwinton                    Grenada  \n",
       "1             050 Ashley Burg            Garyton                    Croatia  \n",
       "2           321 Barbara Creek        Mallorybury  Bouvet Island (Bouvetoya)  \n",
       "3  45842 Jacob Ports Apt. 879  Lake Michelleside                    Eritrea  \n",
       "4     193 Susan Wall Apt. 899          Lucasstad                    Mayotte  "
      ]
     },
     "execution_count": 37,
     "metadata": {},
     "output_type": "execute_result"
    }
   ],
   "source": [
    "df=pd.read_excel('./test_data/data_customer.xlsx')\n",
    "print(df.shape) # number of rows and columns\n",
    "df.head() # first five records"
   ]
  },
  {
   "cell_type": "code",
   "execution_count": 39,
   "metadata": {},
   "outputs": [
    {
     "name": "stdout",
     "output_type": "stream",
     "text": [
      "Missing values:20\n"
     ]
    },
    {
     "data": {
      "text/plain": [
       "[2,\n",
       " 4,\n",
       " 23,\n",
       " 25,\n",
       " 80,\n",
       " 89,\n",
       " 143,\n",
       " 217,\n",
       " 367,\n",
       " 419,\n",
       " 431,\n",
       " 455,\n",
       " 493,\n",
       " 606,\n",
       " 624,\n",
       " 635,\n",
       " 684,\n",
       " 703,\n",
       " 875,\n",
       " 882]"
      ]
     },
     "execution_count": 39,
     "metadata": {},
     "output_type": "execute_result"
    }
   ],
   "source": [
    "field_to_check=\"customer_id\"\n",
    "df.sort_values(by=[field_to_check], inplace=True)\n",
    "gap_list=[]\n",
    "n= 0\n",
    "for index, row in df.iterrows():\n",
    "    if n==0:\n",
    "        n= row[field_to_check]-1    \n",
    "    if (row[field_to_check]-n) > 1:\n",
    "        gap_list.extend(range(n+1,row[field_to_check]))\n",
    "    n=row[field_to_check]\n",
    "print(\"Missing values:\"+str(len(gap_list)))\n",
    "gap_list"
   ]
  },
  {
   "cell_type": "code",
   "execution_count": null,
   "metadata": {},
   "outputs": [],
   "source": []
  },
  {
   "cell_type": "code",
   "execution_count": null,
   "metadata": {},
   "outputs": [],
   "source": []
  }
 ],
 "metadata": {
  "kernelspec": {
   "display_name": "Python 3",
   "language": "python",
   "name": "python3"
  },
  "language_info": {
   "codemirror_mode": {
    "name": "ipython",
    "version": 3
   },
   "file_extension": ".py",
   "mimetype": "text/x-python",
   "name": "python",
   "nbconvert_exporter": "python",
   "pygments_lexer": "ipython3",
   "version": "3.6.6+"
  }
 },
 "nbformat": 4,
 "nbformat_minor": 4
}
