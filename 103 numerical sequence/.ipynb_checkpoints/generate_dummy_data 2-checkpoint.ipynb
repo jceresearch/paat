{
 "cells": [
  {
   "cell_type": "code",
   "execution_count": 1,
   "metadata": {},
   "outputs": [],
   "source": [
    "import random, csv\n",
    "from datetime import timedelta, datetime\n",
    "from faker import Faker\n",
    "from faker.providers import person\n",
    "from faker.providers import address\n",
    "from faker.providers import date_time\n",
    "import  pandas as pd"
   ]
  },
  {
   "cell_type": "code",
   "execution_count": 4,
   "metadata": {},
   "outputs": [],
   "source": [
    "def generate_customer_record(fake, id):\n",
    "    d = dict()\n",
    "    d['customer_id']=id\n",
    "    d['gender'] = 'M' if random.randint(0,1) == 0 else 'F'\n",
    "    d['first_name'] = fake.first_name_male() if d['gender']=='M' else fake.first_name_female()\n",
    "    d['last_name'] = fake.last_name()\n",
    "    d['dob'] = fake.date_between(start_date=\"-99y\", end_date=\"-1d\")\n",
    "    d['address']= fake.street_address() +', '+ fake.city()+ ', '+ fake.country()\n",
    "    return d\n",
    "   \n",
    "def generate_policy_record(fake,id, customer_dict):\n",
    "    d=customer_dict\n",
    "    d['renewal_date']=\"pending make a calculation of DOY of enrollment applied to this year\"\n",
    "    d['enrollment_date']= fake.date_between(start_date=\"-20y\", end_date=\"now\")\n",
    "    d['registration_id']='{:02d}'.format(random.randint(1,100)) +\"-\" +str(fake.ean(length=13))\n",
    "    return d"
   ]
  },
  {
   "cell_type": "code",
   "execution_count": 5,
   "metadata": {},
   "outputs": [],
   "source": [
    "fake = Faker()\n",
    "fake.add_provider(person)\n",
    "fake.add_provider(address)\n",
    "fake.add_provider(date_time)\n",
    "\n"
   ]
  },
  {
   "cell_type": "code",
   "execution_count": 6,
   "metadata": {},
   "outputs": [
    {
     "data": {
      "text/plain": [
       "{'customer_id': 1,\n",
       " 'gender': 'F',\n",
       " 'first_name': 'Karen',\n",
       " 'last_name': 'Evans',\n",
       " 'dob': datetime.date(1943, 4, 17),\n",
       " 'address': '732 Patton Knoll, Port David, Jersey'}"
      ]
     },
     "execution_count": 6,
     "metadata": {},
     "output_type": "execute_result"
    }
   ],
   "source": [
    "rec=generate_customer_record(fake,1)\n",
    "rec"
   ]
  },
  {
   "cell_type": "code",
   "execution_count": 7,
   "metadata": {},
   "outputs": [
    {
     "data": {
      "text/plain": [
       "(980, 6)"
      ]
     },
     "execution_count": 7,
     "metadata": {},
     "output_type": "execute_result"
    }
   ],
   "source": [
    "df = pd.DataFrame()\n",
    "number_of_records=1000\n",
    "for i in range(number_of_records):\n",
    "    rec=generate_customer_record(fake,i+1)\n",
    "    df = df.append(rec, ignore_index=True)\n",
    "for i in range(20):\n",
    "    record_to_delete=random.randint(1,number_of_records)\n",
    "    df.drop(df.loc[df['customer_id']==record_to_delete].index, inplace=True)\n",
    "df=df.reset_index(drop=True)\n",
    "df.shape"
   ]
  },
  {
   "cell_type": "code",
   "execution_count": null,
   "metadata": {},
   "outputs": [],
   "source": []
  },
  {
   "cell_type": "code",
   "execution_count": 8,
   "metadata": {},
   "outputs": [
    {
     "data": {
      "text/html": [
       "<div>\n",
       "<style scoped>\n",
       "    .dataframe tbody tr th:only-of-type {\n",
       "        vertical-align: middle;\n",
       "    }\n",
       "\n",
       "    .dataframe tbody tr th {\n",
       "        vertical-align: top;\n",
       "    }\n",
       "\n",
       "    .dataframe thead th {\n",
       "        text-align: right;\n",
       "    }\n",
       "</style>\n",
       "<table border=\"1\" class=\"dataframe\">\n",
       "  <thead>\n",
       "    <tr style=\"text-align: right;\">\n",
       "      <th></th>\n",
       "      <th>address</th>\n",
       "      <th>customer_id</th>\n",
       "      <th>dob</th>\n",
       "      <th>first_name</th>\n",
       "      <th>gender</th>\n",
       "      <th>last_name</th>\n",
       "    </tr>\n",
       "  </thead>\n",
       "  <tbody>\n",
       "    <tr>\n",
       "      <th>0</th>\n",
       "      <td>0142 Powell Ford, Marshalltown, Tanzania</td>\n",
       "      <td>1.0</td>\n",
       "      <td>1995-07-17</td>\n",
       "      <td>Dawn</td>\n",
       "      <td>F</td>\n",
       "      <td>Washington</td>\n",
       "    </tr>\n",
       "    <tr>\n",
       "      <th>1</th>\n",
       "      <td>7401 Jodi Shoal, Jessicastad, Denmark</td>\n",
       "      <td>2.0</td>\n",
       "      <td>1922-12-18</td>\n",
       "      <td>David</td>\n",
       "      <td>M</td>\n",
       "      <td>Nelson</td>\n",
       "    </tr>\n",
       "    <tr>\n",
       "      <th>2</th>\n",
       "      <td>058 Joshua Squares Suite 723, Timothyton, Hear...</td>\n",
       "      <td>3.0</td>\n",
       "      <td>1974-01-21</td>\n",
       "      <td>Nancy</td>\n",
       "      <td>F</td>\n",
       "      <td>Abbott</td>\n",
       "    </tr>\n",
       "    <tr>\n",
       "      <th>3</th>\n",
       "      <td>16832 Brent Trafficway Apt. 200, Rosschester, ...</td>\n",
       "      <td>4.0</td>\n",
       "      <td>1982-03-16</td>\n",
       "      <td>Elizabeth</td>\n",
       "      <td>F</td>\n",
       "      <td>Stewart</td>\n",
       "    </tr>\n",
       "    <tr>\n",
       "      <th>4</th>\n",
       "      <td>8242 Kevin Camp Suite 952, Russellshire, Israel</td>\n",
       "      <td>5.0</td>\n",
       "      <td>1935-06-11</td>\n",
       "      <td>Ryan</td>\n",
       "      <td>M</td>\n",
       "      <td>Cooper</td>\n",
       "    </tr>\n",
       "    <tr>\n",
       "      <th>...</th>\n",
       "      <td>...</td>\n",
       "      <td>...</td>\n",
       "      <td>...</td>\n",
       "      <td>...</td>\n",
       "      <td>...</td>\n",
       "      <td>...</td>\n",
       "    </tr>\n",
       "    <tr>\n",
       "      <th>975</th>\n",
       "      <td>908 Watson Lake Apt. 888, Port Susanland, Holy...</td>\n",
       "      <td>996.0</td>\n",
       "      <td>1960-08-12</td>\n",
       "      <td>Christopher</td>\n",
       "      <td>M</td>\n",
       "      <td>Donovan</td>\n",
       "    </tr>\n",
       "    <tr>\n",
       "      <th>976</th>\n",
       "      <td>2528 Pierce Brook Apt. 710, North Andrewmouth,...</td>\n",
       "      <td>997.0</td>\n",
       "      <td>1966-11-01</td>\n",
       "      <td>Nancy</td>\n",
       "      <td>F</td>\n",
       "      <td>Kelly</td>\n",
       "    </tr>\n",
       "    <tr>\n",
       "      <th>977</th>\n",
       "      <td>23407 Howell Creek Apt. 121, West Luisville, T...</td>\n",
       "      <td>998.0</td>\n",
       "      <td>1963-06-10</td>\n",
       "      <td>Melissa</td>\n",
       "      <td>F</td>\n",
       "      <td>King</td>\n",
       "    </tr>\n",
       "    <tr>\n",
       "      <th>978</th>\n",
       "      <td>17122 Floyd Hill Suite 266, South Julie, Venez...</td>\n",
       "      <td>999.0</td>\n",
       "      <td>1945-06-20</td>\n",
       "      <td>Kristin</td>\n",
       "      <td>F</td>\n",
       "      <td>Horton</td>\n",
       "    </tr>\n",
       "    <tr>\n",
       "      <th>979</th>\n",
       "      <td>3961 Derrick Harbor, South Ernest, British Ind...</td>\n",
       "      <td>1000.0</td>\n",
       "      <td>2005-11-12</td>\n",
       "      <td>Laura</td>\n",
       "      <td>F</td>\n",
       "      <td>Ingram</td>\n",
       "    </tr>\n",
       "  </tbody>\n",
       "</table>\n",
       "<p>980 rows × 6 columns</p>\n",
       "</div>"
      ],
      "text/plain": [
       "                                               address  customer_id  \\\n",
       "0             0142 Powell Ford, Marshalltown, Tanzania          1.0   \n",
       "1                7401 Jodi Shoal, Jessicastad, Denmark          2.0   \n",
       "2    058 Joshua Squares Suite 723, Timothyton, Hear...          3.0   \n",
       "3    16832 Brent Trafficway Apt. 200, Rosschester, ...          4.0   \n",
       "4      8242 Kevin Camp Suite 952, Russellshire, Israel          5.0   \n",
       "..                                                 ...          ...   \n",
       "975  908 Watson Lake Apt. 888, Port Susanland, Holy...        996.0   \n",
       "976  2528 Pierce Brook Apt. 710, North Andrewmouth,...        997.0   \n",
       "977  23407 Howell Creek Apt. 121, West Luisville, T...        998.0   \n",
       "978  17122 Floyd Hill Suite 266, South Julie, Venez...        999.0   \n",
       "979  3961 Derrick Harbor, South Ernest, British Ind...       1000.0   \n",
       "\n",
       "            dob   first_name gender   last_name  \n",
       "0    1995-07-17         Dawn      F  Washington  \n",
       "1    1922-12-18        David      M      Nelson  \n",
       "2    1974-01-21        Nancy      F      Abbott  \n",
       "3    1982-03-16    Elizabeth      F     Stewart  \n",
       "4    1935-06-11         Ryan      M      Cooper  \n",
       "..          ...          ...    ...         ...  \n",
       "975  1960-08-12  Christopher      M     Donovan  \n",
       "976  1966-11-01        Nancy      F       Kelly  \n",
       "977  1963-06-10      Melissa      F        King  \n",
       "978  1945-06-20      Kristin      F      Horton  \n",
       "979  2005-11-12        Laura      F      Ingram  \n",
       "\n",
       "[980 rows x 6 columns]"
      ]
     },
     "execution_count": 8,
     "metadata": {},
     "output_type": "execute_result"
    }
   ],
   "source": [
    "df"
   ]
  },
  {
   "cell_type": "code",
   "execution_count": 10,
   "metadata": {},
   "outputs": [],
   "source": [
    "df.to_excel(\"./data.xlsx\")"
   ]
  },
  {
   "cell_type": "code",
   "execution_count": null,
   "metadata": {},
   "outputs": [],
   "source": []
  }
 ],
 "metadata": {
  "kernelspec": {
   "display_name": "Python 3",
   "language": "python",
   "name": "python3"
  },
  "language_info": {
   "codemirror_mode": {
    "name": "ipython",
    "version": 3
   },
   "file_extension": ".py",
   "mimetype": "text/x-python",
   "name": "python",
   "nbconvert_exporter": "python",
   "pygments_lexer": "ipython3",
   "version": "3.6.6+"
  }
 },
 "nbformat": 4,
 "nbformat_minor": 4
}
