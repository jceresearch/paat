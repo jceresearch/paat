{
 "cells": [
  {
   "cell_type": "code",
   "execution_count": 1,
   "metadata": {},
   "outputs": [],
   "source": [
    "import pandas as pd\n",
    "from pandas import ExcelWriter\n",
    "from pandas import ExcelFile\n"
   ]
  },
  {
   "cell_type": "code",
   "execution_count": 2,
   "metadata": {},
   "outputs": [],
   "source": [
    "df=pd.read_excel('./data.xlsx')"
   ]
  },
  {
   "cell_type": "code",
   "execution_count": 3,
   "metadata": {},
   "outputs": [
    {
     "data": {
      "text/html": [
       "<div>\n",
       "<style scoped>\n",
       "    .dataframe tbody tr th:only-of-type {\n",
       "        vertical-align: middle;\n",
       "    }\n",
       "\n",
       "    .dataframe tbody tr th {\n",
       "        vertical-align: top;\n",
       "    }\n",
       "\n",
       "    .dataframe thead th {\n",
       "        text-align: right;\n",
       "    }\n",
       "</style>\n",
       "<table border=\"1\" class=\"dataframe\">\n",
       "  <thead>\n",
       "    <tr style=\"text-align: right;\">\n",
       "      <th></th>\n",
       "      <th>Unnamed: 0</th>\n",
       "      <th>address</th>\n",
       "      <th>customer_id</th>\n",
       "      <th>dob</th>\n",
       "      <th>first_name</th>\n",
       "      <th>gender</th>\n",
       "      <th>last_name</th>\n",
       "    </tr>\n",
       "  </thead>\n",
       "  <tbody>\n",
       "    <tr>\n",
       "      <th>0</th>\n",
       "      <td>0</td>\n",
       "      <td>0142 Powell Ford, Marshalltown, Tanzania</td>\n",
       "      <td>1</td>\n",
       "      <td>1995-07-17</td>\n",
       "      <td>Dawn</td>\n",
       "      <td>F</td>\n",
       "      <td>Washington</td>\n",
       "    </tr>\n",
       "    <tr>\n",
       "      <th>1</th>\n",
       "      <td>1</td>\n",
       "      <td>7401 Jodi Shoal, Jessicastad, Denmark</td>\n",
       "      <td>2</td>\n",
       "      <td>1922-12-18</td>\n",
       "      <td>David</td>\n",
       "      <td>M</td>\n",
       "      <td>Nelson</td>\n",
       "    </tr>\n",
       "    <tr>\n",
       "      <th>2</th>\n",
       "      <td>2</td>\n",
       "      <td>058 Joshua Squares Suite 723, Timothyton, Hear...</td>\n",
       "      <td>3</td>\n",
       "      <td>1974-01-21</td>\n",
       "      <td>Nancy</td>\n",
       "      <td>F</td>\n",
       "      <td>Abbott</td>\n",
       "    </tr>\n",
       "    <tr>\n",
       "      <th>3</th>\n",
       "      <td>3</td>\n",
       "      <td>16832 Brent Trafficway Apt. 200, Rosschester, ...</td>\n",
       "      <td>4</td>\n",
       "      <td>1982-03-16</td>\n",
       "      <td>Elizabeth</td>\n",
       "      <td>F</td>\n",
       "      <td>Stewart</td>\n",
       "    </tr>\n",
       "    <tr>\n",
       "      <th>4</th>\n",
       "      <td>4</td>\n",
       "      <td>8242 Kevin Camp Suite 952, Russellshire, Israel</td>\n",
       "      <td>5</td>\n",
       "      <td>1935-06-11</td>\n",
       "      <td>Ryan</td>\n",
       "      <td>M</td>\n",
       "      <td>Cooper</td>\n",
       "    </tr>\n",
       "    <tr>\n",
       "      <th>...</th>\n",
       "      <td>...</td>\n",
       "      <td>...</td>\n",
       "      <td>...</td>\n",
       "      <td>...</td>\n",
       "      <td>...</td>\n",
       "      <td>...</td>\n",
       "      <td>...</td>\n",
       "    </tr>\n",
       "    <tr>\n",
       "      <th>975</th>\n",
       "      <td>975</td>\n",
       "      <td>908 Watson Lake Apt. 888, Port Susanland, Holy...</td>\n",
       "      <td>996</td>\n",
       "      <td>1960-08-12</td>\n",
       "      <td>Christopher</td>\n",
       "      <td>M</td>\n",
       "      <td>Donovan</td>\n",
       "    </tr>\n",
       "    <tr>\n",
       "      <th>976</th>\n",
       "      <td>976</td>\n",
       "      <td>2528 Pierce Brook Apt. 710, North Andrewmouth,...</td>\n",
       "      <td>997</td>\n",
       "      <td>1966-11-01</td>\n",
       "      <td>Nancy</td>\n",
       "      <td>F</td>\n",
       "      <td>Kelly</td>\n",
       "    </tr>\n",
       "    <tr>\n",
       "      <th>977</th>\n",
       "      <td>977</td>\n",
       "      <td>23407 Howell Creek Apt. 121, West Luisville, T...</td>\n",
       "      <td>998</td>\n",
       "      <td>1963-06-10</td>\n",
       "      <td>Melissa</td>\n",
       "      <td>F</td>\n",
       "      <td>King</td>\n",
       "    </tr>\n",
       "    <tr>\n",
       "      <th>978</th>\n",
       "      <td>978</td>\n",
       "      <td>17122 Floyd Hill Suite 266, South Julie, Venez...</td>\n",
       "      <td>999</td>\n",
       "      <td>1945-06-20</td>\n",
       "      <td>Kristin</td>\n",
       "      <td>F</td>\n",
       "      <td>Horton</td>\n",
       "    </tr>\n",
       "    <tr>\n",
       "      <th>979</th>\n",
       "      <td>979</td>\n",
       "      <td>3961 Derrick Harbor, South Ernest, British Ind...</td>\n",
       "      <td>1000</td>\n",
       "      <td>2005-11-12</td>\n",
       "      <td>Laura</td>\n",
       "      <td>F</td>\n",
       "      <td>Ingram</td>\n",
       "    </tr>\n",
       "  </tbody>\n",
       "</table>\n",
       "<p>980 rows × 7 columns</p>\n",
       "</div>"
      ],
      "text/plain": [
       "     Unnamed: 0                                            address  \\\n",
       "0             0           0142 Powell Ford, Marshalltown, Tanzania   \n",
       "1             1              7401 Jodi Shoal, Jessicastad, Denmark   \n",
       "2             2  058 Joshua Squares Suite 723, Timothyton, Hear...   \n",
       "3             3  16832 Brent Trafficway Apt. 200, Rosschester, ...   \n",
       "4             4    8242 Kevin Camp Suite 952, Russellshire, Israel   \n",
       "..          ...                                                ...   \n",
       "975         975  908 Watson Lake Apt. 888, Port Susanland, Holy...   \n",
       "976         976  2528 Pierce Brook Apt. 710, North Andrewmouth,...   \n",
       "977         977  23407 Howell Creek Apt. 121, West Luisville, T...   \n",
       "978         978  17122 Floyd Hill Suite 266, South Julie, Venez...   \n",
       "979         979  3961 Derrick Harbor, South Ernest, British Ind...   \n",
       "\n",
       "     customer_id        dob   first_name gender   last_name  \n",
       "0              1 1995-07-17         Dawn      F  Washington  \n",
       "1              2 1922-12-18        David      M      Nelson  \n",
       "2              3 1974-01-21        Nancy      F      Abbott  \n",
       "3              4 1982-03-16    Elizabeth      F     Stewart  \n",
       "4              5 1935-06-11         Ryan      M      Cooper  \n",
       "..           ...        ...          ...    ...         ...  \n",
       "975          996 1960-08-12  Christopher      M     Donovan  \n",
       "976          997 1966-11-01        Nancy      F       Kelly  \n",
       "977          998 1963-06-10      Melissa      F        King  \n",
       "978          999 1945-06-20      Kristin      F      Horton  \n",
       "979         1000 2005-11-12        Laura      F      Ingram  \n",
       "\n",
       "[980 rows x 7 columns]"
      ]
     },
     "execution_count": 3,
     "metadata": {},
     "output_type": "execute_result"
    }
   ],
   "source": [
    "df"
   ]
  },
  {
   "cell_type": "code",
   "execution_count": 10,
   "metadata": {},
   "outputs": [],
   "source": [
    "\n",
    "\n",
    "\n",
    "list_to_check= df['customer_id'].tolist()\n",
    "list_to_check.sort()\n",
    "\n"
   ]
  },
  {
   "cell_type": "code",
   "execution_count": 11,
   "metadata": {},
   "outputs": [],
   "source": [
    "gap_list=[]\n",
    "n= 0\n",
    "for el in list_to_check:\n",
    "    if n==0:\n",
    "        n= el-1    \n",
    "    if el-n > 1:\n",
    "        gap_list.extend(range(n+1,el))\n",
    "    n=el\n"
   ]
  },
  {
   "cell_type": "code",
   "execution_count": 12,
   "metadata": {},
   "outputs": [
    {
     "data": {
      "text/plain": [
       "[12,\n",
       " 29,\n",
       " 147,\n",
       " 201,\n",
       " 252,\n",
       " 299,\n",
       " 415,\n",
       " 445,\n",
       " 558,\n",
       " 577,\n",
       " 615,\n",
       " 617,\n",
       " 619,\n",
       " 661,\n",
       " 711,\n",
       " 734,\n",
       " 784,\n",
       " 896,\n",
       " 903,\n",
       " 990]"
      ]
     },
     "execution_count": 12,
     "metadata": {},
     "output_type": "execute_result"
    }
   ],
   "source": [
    "gap_list"
   ]
  },
  {
   "cell_type": "code",
   "execution_count": 13,
   "metadata": {},
   "outputs": [
    {
     "name": "stdout",
     "output_type": "stream",
     "text": [
      "20\n"
     ]
    }
   ],
   "source": [
    "df2 = pd.DataFrame({'id':gap_list})\n",
    "df2.to_excel(\"Sequence Gaps.xlsx\")\n",
    "print(len(gap_list))"
   ]
  },
  {
   "cell_type": "code",
   "execution_count": null,
   "metadata": {},
   "outputs": [],
   "source": []
  },
  {
   "cell_type": "code",
   "execution_count": null,
   "metadata": {},
   "outputs": [],
   "source": []
  },
  {
   "cell_type": "code",
   "execution_count": null,
   "metadata": {},
   "outputs": [],
   "source": []
  },
  {
   "cell_type": "code",
   "execution_count": null,
   "metadata": {},
   "outputs": [],
   "source": []
  }
 ],
 "metadata": {
  "kernelspec": {
   "display_name": "Python 3",
   "language": "python",
   "name": "python3"
  },
  "language_info": {
   "codemirror_mode": {
    "name": "ipython",
    "version": 3
   },
   "file_extension": ".py",
   "mimetype": "text/x-python",
   "name": "python",
   "nbconvert_exporter": "python",
   "pygments_lexer": "ipython3",
   "version": "3.6.6+"
  }
 },
 "nbformat": 4,
 "nbformat_minor": 4
}
