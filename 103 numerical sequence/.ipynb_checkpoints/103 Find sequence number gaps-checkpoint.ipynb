{
  "metadata": {
    "language_info": {
      "mimetype": "text/x-python",
      "nbconvert_exporter": "python",
      "name": "python",
      "pygments_lexer": "ipython3",
      "version": "3.6.6",
      "file_extension": ".py",
      "codemirror_mode": {
        "version": 3,
        "name": "ipython"
      }
    },
    "kernelspec": {
      "name": "python36",
      "display_name": "Python 3.6",
      "language": "python"
    }
  },
  "nbformat_minor": 2,
  "nbformat": 4,
  "cells": [
    {
      "cell_type": "code",
      "source": "",
      "metadata": {},
      "execution_count": null,
      "outputs": []
    },
    {
      "cell_type": "code",
      "source": "",
      "metadata": {},
      "execution_count": null,
      "outputs": []
    },
    {
      "cell_type": "code",
      "source": "import pandas as pd\nfrom pandas import ExcelWriter\nfrom pandas import ExcelFile\n",
      "metadata": {},
      "execution_count": null,
      "outputs": []
    },
    {
      "cell_type": "code",
      "source": "df= pd.read_excel(\"input_file.xlsx\", sheet_name=\"Data\")\ndf.columns.values",
      "metadata": {},
      "execution_count": null,
      "outputs": []
    },
    {
      "cell_type": "code",
      "source": "df.sort_values('Transac_id', axis=0, ascending=True, inplace=True)\nlist_deduped= df['Transac_id'].drop_duplicates()\ngap_list=[]\nn= 0\nfor row in list_deduped:\n    if n==0:\n        n= row-1\n    \n    if row-n > 1:\n        gap_list.extend(range(n+1,row))\n    n=row\n\ndf2 = pd.DataFrame({'Transac_id':gap_list})\ndf2.to_excel(\"Transact_id Gaps.xlsx\")\nprint(len(gap_list))",
      "metadata": {},
      "execution_count": null,
      "outputs": []
    }
  ]
}