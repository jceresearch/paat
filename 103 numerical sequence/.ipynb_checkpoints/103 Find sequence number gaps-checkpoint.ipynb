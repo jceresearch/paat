{
 "cells": [
  {
   "cell_type": "code",
   "execution_count": 1,
   "metadata": {},
   "outputs": [],
   "source": [
    "import pandas as pd\n",
    "from pandas import ExcelWriter\n",
    "from pandas import ExcelFile\n"
   ]
  },
  {
   "cell_type": "code",
   "execution_count": 2,
   "metadata": {},
   "outputs": [],
   "source": [
    "df=pd.read_excel('./data.xlsx')"
   ]
  },
  {
   "cell_type": "code",
   "execution_count": 16,
   "metadata": {},
   "outputs": [
    {
     "name": "stdout",
     "output_type": "stream",
     "text": [
      "[12, 29, 147, 201, 252, 299, 415, 445, 558, 577, 615, 617, 619, 661, 711, 734, 784, 896, 903, 990]\n"
     ]
    }
   ],
   "source": [
    "list_to_check= df['customer_id'].tolist()\n",
    "list_to_check=sorted(list(set(list_to_check)))\n",
    "#list_to_check.sort()\n",
    "gap_list=[]\n",
    "n= 0\n",
    "for el in list_to_check:\n",
    "    if n==0:\n",
    "        n= el-1    \n",
    "    if el-n > 1:\n",
    "        gap_list.extend(range(n+1,el))\n",
    "    n=el\n",
    "print(gap_list)"
   ]
  },
  {
   "cell_type": "code",
   "execution_count": 15,
   "metadata": {},
   "outputs": [
    {
     "data": {
      "text/plain": [
       "[(12, 12),\n",
       " (29, 29),\n",
       " (147, 147),\n",
       " (201, 201),\n",
       " (252, 252),\n",
       " (299, 299),\n",
       " (415, 415),\n",
       " (445, 445),\n",
       " (558, 558),\n",
       " (577, 577),\n",
       " (615, 615),\n",
       " (617, 617),\n",
       " (619, 619),\n",
       " (661, 661),\n",
       " (711, 711),\n",
       " (734, 734),\n",
       " (784, 784),\n",
       " (896, 896),\n",
       " (903, 903),\n",
       " (990, 990)]"
      ]
     },
     "execution_count": 15,
     "metadata": {},
     "output_type": "execute_result"
    }
   ],
   "source": [
    "import itertools\n",
    "def to_ranges(iterable):\n",
    "    iterable = sorted(set(iterable))\n",
    "    for key, group in itertools.groupby(enumerate(iterable), lambda t: t[1] - t[0]):\n",
    "        group = list(group)\n",
    "        yield group[0][1], group[-1][1]\n",
    "list(to_ranges(gap_list))"
   ]
  },
  {
   "cell_type": "code",
   "execution_count": 9,
   "metadata": {},
   "outputs": [
    {
     "name": "stdout",
     "output_type": "stream",
     "text": [
      "Duplicates 0\n"
     ]
    },
    {
     "data": {
      "text/plain": [
       "[12,\n",
       " 29,\n",
       " 147,\n",
       " 201,\n",
       " 252,\n",
       " 299,\n",
       " 415,\n",
       " 445,\n",
       " 558,\n",
       " 577,\n",
       " 615,\n",
       " 617,\n",
       " 619,\n",
       " 661,\n",
       " 711,\n",
       " 734,\n",
       " 784,\n",
       " 896,\n",
       " 903,\n",
       " 990]"
      ]
     },
     "execution_count": 9,
     "metadata": {},
     "output_type": "execute_result"
    }
   ],
   "source": [
    "df.fillna(0, inplace=False)\n",
    "\n",
    "duplicated_rows = df[df.duplicated(['customer_id'])]\n",
    "print(\"Duplicates\",len(duplicated_rows))\n",
    "\n",
    "df.drop_duplicates(subset=['customer_id'], inplace=True)\n",
    "df.sort_values(by=['customer_id'], inplace=True)\n",
    "gap_list=[]\n",
    "n= 0\n",
    "for index, row in df.iterrows():\n",
    "    if n==0:\n",
    "        n= row['customer_id']-1    \n",
    "    if el-n > 1:\n",
    "        gap_list.extend(range(n+1,row['customer_id']))\n",
    "    n=row['customer_id']\n",
    "gap_list"
   ]
  },
  {
   "cell_type": "code",
   "execution_count": 5,
   "metadata": {},
   "outputs": [
    {
     "name": "stdout",
     "output_type": "stream",
     "text": [
      "20\n"
     ]
    }
   ],
   "source": [
    "df2 = pd.DataFrame({'id':gap_list})\n",
    "df2.to_excel(\"Sequence Gaps.xlsx\")\n",
    "print(len(gap_list))"
   ]
  },
  {
   "cell_type": "code",
   "execution_count": null,
   "metadata": {},
   "outputs": [],
   "source": []
  },
  {
   "cell_type": "code",
   "execution_count": null,
   "metadata": {},
   "outputs": [],
   "source": []
  },
  {
   "cell_type": "code",
   "execution_count": null,
   "metadata": {},
   "outputs": [],
   "source": []
  },
  {
   "cell_type": "code",
   "execution_count": null,
   "metadata": {},
   "outputs": [],
   "source": []
  }
 ],
 "metadata": {
  "kernelspec": {
   "display_name": "Python 3",
   "language": "python",
   "name": "python3"
  },
  "language_info": {
   "codemirror_mode": {
    "name": "ipython",
    "version": 3
   },
   "file_extension": ".py",
   "mimetype": "text/x-python",
   "name": "python",
   "nbconvert_exporter": "python",
   "pygments_lexer": "ipython3",
   "version": "3.6.6+"
  }
 },
 "nbformat": 4,
 "nbformat_minor": 4
}
