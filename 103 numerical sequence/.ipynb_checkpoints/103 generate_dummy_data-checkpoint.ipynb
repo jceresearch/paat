{
 "cells": [
  {
   "cell_type": "code",
   "execution_count": 50,
   "metadata": {},
   "outputs": [],
   "source": [
    "import random, csv\n",
    "import datetime\n",
    "from faker import Faker\n",
    "from faker.providers import person\n",
    "from faker.providers import address\n",
    "from faker.providers import date_time\n",
    "import  pandas as pd"
   ]
  },
  {
   "cell_type": "code",
   "execution_count": 70,
   "metadata": {},
   "outputs": [],
   "source": [
    "def generate_customer_record(fake, id):\n",
    "    d = dict()\n",
    "    d['customer_id']=id\n",
    "    d['gender'] = 'M' if random.randint(0,1) == 0 else 'F'\n",
    "    d['first_name'] = fake.first_name_male() if d['gender']=='M' else fake.first_name_female()\n",
    "    d['last_name'] = fake.last_name()\n",
    "    d['dob'] = fake.date_between(start_date=\"-30y\", end_date=\"-1d\")\n",
    "    d['address']= fake.street_address() \n",
    "    d['city']= fake.city()\n",
    "    d['country']=fake.country()\n",
    "    return d\n",
    "def generate_policy_record(fake,customer_df):\n",
    "    i=random.randint(0,df.shape[0])\n",
    "    d=df.iloc[i].to_dict()\n",
    "    d_enr = fake.date_between(start_date=\"-20y\", end_date=\"now\")\n",
    "    d['enrollment_date']= d_enr\n",
    "    d_ren_bom=datetime.date(datetime.datetime.today().year,d_enr.month,1)\n",
    "    d_ren_eom=datetime.date(d_ren_bom.year + (d_ren_bom.month == 12), \n",
    "              (d_ren_bom.month + 1 if d_ren_bom.month < 12 else 1), 1) - datetime.timedelta(1)\n",
    "    d['renewal_date']= d_ren_eom\n",
    "    d['registration_id']='{:02d}'.format(random.randint(1,100)) +\"-\" +str(fake.ean(length=13))\n",
    "    return d"
   ]
  },
  {
   "cell_type": "code",
   "execution_count": 71,
   "metadata": {},
   "outputs": [
    {
     "data": {
      "text/plain": [
       "datetime.datetime(2020, 10, 8, 8, 11, 57, 780219)"
      ]
     },
     "execution_count": 71,
     "metadata": {},
     "output_type": "execute_result"
    }
   ],
   "source": [
    "datetime.datetime.today()"
   ]
  },
  {
   "cell_type": "code",
   "execution_count": 72,
   "metadata": {},
   "outputs": [],
   "source": [
    "fake = Faker()\n",
    "fake.add_provider(person)\n",
    "fake.add_provider(address)\n",
    "fake.add_provider(date_time)\n",
    "\n"
   ]
  },
  {
   "cell_type": "code",
   "execution_count": 73,
   "metadata": {},
   "outputs": [
    {
     "data": {
      "text/plain": [
       "{'customer_id': 1,\n",
       " 'gender': 'M',\n",
       " 'first_name': 'Jared',\n",
       " 'last_name': 'Thompson',\n",
       " 'dob': datetime.date(2006, 6, 18),\n",
       " 'address': '0589 Miller Brook Suite 846',\n",
       " 'city': 'East Austinside',\n",
       " 'country': 'Italy'}"
      ]
     },
     "execution_count": 73,
     "metadata": {},
     "output_type": "execute_result"
    }
   ],
   "source": [
    "rec=generate_customer_record(fake,1)\n",
    "rec\n"
   ]
  },
  {
   "cell_type": "code",
   "execution_count": 79,
   "metadata": {},
   "outputs": [
    {
     "data": {
      "text/plain": [
       "(980, 8)"
      ]
     },
     "execution_count": 79,
     "metadata": {},
     "output_type": "execute_result"
    }
   ],
   "source": [
    "df = pd.DataFrame()\n",
    "number_of_records=1000\n",
    "rec=[]\n",
    "for i in range(number_of_records):\n",
    "    rec.append(generate_customer_record(fake,i+1))\n",
    "df = df.append(rec, ignore_index=True)\n",
    "for i in range(20):\n",
    "    record_to_delete=random.randint(1,number_of_records)\n",
    "    df.drop(df.loc[df['customer_id']==record_to_delete].index, inplace=True)\n",
    "df=df.reset_index(drop=True)\n",
    "df.shape"
   ]
  },
  {
   "cell_type": "code",
   "execution_count": 81,
   "metadata": {},
   "outputs": [
    {
     "data": {
      "text/plain": [
       "{'customer_id': 351,\n",
       " 'gender': 'M',\n",
       " 'first_name': 'John',\n",
       " 'last_name': 'Michael',\n",
       " 'dob': datetime.date(2010, 1, 28),\n",
       " 'address': '79351 Welch Causeway Apt. 151',\n",
       " 'city': 'Millerside',\n",
       " 'country': 'United States Virgin Islands',\n",
       " 'enrollment_date': datetime.date(2012, 1, 28),\n",
       " 'renewal_date': datetime.date(2020, 1, 31),\n",
       " 'registration_id': '73-2811956876278'}"
      ]
     },
     "execution_count": 81,
     "metadata": {},
     "output_type": "execute_result"
    }
   ],
   "source": [
    "reg=generate_policy_record(fake, df)\n",
    "reg"
   ]
  },
  {
   "cell_type": "code",
   "execution_count": 82,
   "metadata": {},
   "outputs": [],
   "source": [
    "df2 = pd.DataFrame()\n",
    "number_of_records=1000\n",
    "rec=[]\n",
    "for i in range(number_of_records):\n",
    "    rec.append(generate_policy_record(fake,df))\n",
    "    \n",
    "df2 = df2.append(rec, ignore_index=True)\n",
    "    "
   ]
  },
  {
   "cell_type": "code",
   "execution_count": 83,
   "metadata": {},
   "outputs": [
    {
     "data": {
      "text/html": [
       "<div>\n",
       "<style scoped>\n",
       "    .dataframe tbody tr th:only-of-type {\n",
       "        vertical-align: middle;\n",
       "    }\n",
       "\n",
       "    .dataframe tbody tr th {\n",
       "        vertical-align: top;\n",
       "    }\n",
       "\n",
       "    .dataframe thead th {\n",
       "        text-align: right;\n",
       "    }\n",
       "</style>\n",
       "<table border=\"1\" class=\"dataframe\">\n",
       "  <thead>\n",
       "    <tr style=\"text-align: right;\">\n",
       "      <th></th>\n",
       "      <th>customer_id</th>\n",
       "      <th>gender</th>\n",
       "      <th>first_name</th>\n",
       "      <th>last_name</th>\n",
       "      <th>dob</th>\n",
       "      <th>address</th>\n",
       "      <th>city</th>\n",
       "      <th>country</th>\n",
       "      <th>enrollment_date</th>\n",
       "      <th>renewal_date</th>\n",
       "      <th>registration_id</th>\n",
       "    </tr>\n",
       "  </thead>\n",
       "  <tbody>\n",
       "    <tr>\n",
       "      <td>0</td>\n",
       "      <td>155</td>\n",
       "      <td>F</td>\n",
       "      <td>Laura</td>\n",
       "      <td>Bell</td>\n",
       "      <td>2011-02-26</td>\n",
       "      <td>721 Maria Views</td>\n",
       "      <td>Jamesstad</td>\n",
       "      <td>Somalia</td>\n",
       "      <td>2009-03-20</td>\n",
       "      <td>2020-03-31</td>\n",
       "      <td>91-8182741921324</td>\n",
       "    </tr>\n",
       "    <tr>\n",
       "      <td>1</td>\n",
       "      <td>142</td>\n",
       "      <td>F</td>\n",
       "      <td>Rose</td>\n",
       "      <td>Harris</td>\n",
       "      <td>1992-10-23</td>\n",
       "      <td>9547 Derek Orchard</td>\n",
       "      <td>New Margaret</td>\n",
       "      <td>Grenada</td>\n",
       "      <td>2009-07-17</td>\n",
       "      <td>2020-07-31</td>\n",
       "      <td>73-6733624268771</td>\n",
       "    </tr>\n",
       "    <tr>\n",
       "      <td>2</td>\n",
       "      <td>701</td>\n",
       "      <td>F</td>\n",
       "      <td>Amy</td>\n",
       "      <td>Cohen</td>\n",
       "      <td>2001-07-23</td>\n",
       "      <td>26999 Sullivan Port Suite 816</td>\n",
       "      <td>South Katrina</td>\n",
       "      <td>Chad</td>\n",
       "      <td>2016-06-23</td>\n",
       "      <td>2020-06-30</td>\n",
       "      <td>22-5598845510297</td>\n",
       "    </tr>\n",
       "    <tr>\n",
       "      <td>3</td>\n",
       "      <td>562</td>\n",
       "      <td>M</td>\n",
       "      <td>Kenneth</td>\n",
       "      <td>Hughes</td>\n",
       "      <td>1994-06-23</td>\n",
       "      <td>5117 Lewis Camp Apt. 846</td>\n",
       "      <td>Port Donnaton</td>\n",
       "      <td>Isle of Man</td>\n",
       "      <td>2011-06-05</td>\n",
       "      <td>2020-06-30</td>\n",
       "      <td>24-5122864522599</td>\n",
       "    </tr>\n",
       "    <tr>\n",
       "      <td>4</td>\n",
       "      <td>670</td>\n",
       "      <td>F</td>\n",
       "      <td>Amanda</td>\n",
       "      <td>Wyatt</td>\n",
       "      <td>2017-06-19</td>\n",
       "      <td>861 Meagan Springs</td>\n",
       "      <td>Phillipview</td>\n",
       "      <td>Myanmar</td>\n",
       "      <td>2017-07-19</td>\n",
       "      <td>2020-07-31</td>\n",
       "      <td>88-4438447775896</td>\n",
       "    </tr>\n",
       "    <tr>\n",
       "      <td>...</td>\n",
       "      <td>...</td>\n",
       "      <td>...</td>\n",
       "      <td>...</td>\n",
       "      <td>...</td>\n",
       "      <td>...</td>\n",
       "      <td>...</td>\n",
       "      <td>...</td>\n",
       "      <td>...</td>\n",
       "      <td>...</td>\n",
       "      <td>...</td>\n",
       "      <td>...</td>\n",
       "    </tr>\n",
       "    <tr>\n",
       "      <td>995</td>\n",
       "      <td>928</td>\n",
       "      <td>F</td>\n",
       "      <td>Carolyn</td>\n",
       "      <td>Hernandez</td>\n",
       "      <td>2004-11-27</td>\n",
       "      <td>40054 Billy Hills</td>\n",
       "      <td>Taraburgh</td>\n",
       "      <td>Djibouti</td>\n",
       "      <td>2011-07-20</td>\n",
       "      <td>2020-07-31</td>\n",
       "      <td>50-7233207592983</td>\n",
       "    </tr>\n",
       "    <tr>\n",
       "      <td>996</td>\n",
       "      <td>734</td>\n",
       "      <td>F</td>\n",
       "      <td>Molly</td>\n",
       "      <td>Lopez</td>\n",
       "      <td>2017-07-29</td>\n",
       "      <td>541 Carson River</td>\n",
       "      <td>West Virginia</td>\n",
       "      <td>Cambodia</td>\n",
       "      <td>2019-07-03</td>\n",
       "      <td>2020-07-31</td>\n",
       "      <td>40-1011325584754</td>\n",
       "    </tr>\n",
       "    <tr>\n",
       "      <td>997</td>\n",
       "      <td>485</td>\n",
       "      <td>F</td>\n",
       "      <td>Debra</td>\n",
       "      <td>Webster</td>\n",
       "      <td>2015-01-03</td>\n",
       "      <td>972 Janice Plains</td>\n",
       "      <td>Port Gloria</td>\n",
       "      <td>Chile</td>\n",
       "      <td>2014-08-02</td>\n",
       "      <td>2020-08-31</td>\n",
       "      <td>80-8988164184502</td>\n",
       "    </tr>\n",
       "    <tr>\n",
       "      <td>998</td>\n",
       "      <td>262</td>\n",
       "      <td>F</td>\n",
       "      <td>Stephanie</td>\n",
       "      <td>Schroeder</td>\n",
       "      <td>2003-02-23</td>\n",
       "      <td>87968 Trujillo Light Suite 678</td>\n",
       "      <td>New Karen</td>\n",
       "      <td>Ghana</td>\n",
       "      <td>2006-12-28</td>\n",
       "      <td>2020-12-31</td>\n",
       "      <td>81-0361012356685</td>\n",
       "    </tr>\n",
       "    <tr>\n",
       "      <td>999</td>\n",
       "      <td>963</td>\n",
       "      <td>F</td>\n",
       "      <td>Natasha</td>\n",
       "      <td>Hall</td>\n",
       "      <td>2001-04-30</td>\n",
       "      <td>527 Jeffrey Light Suite 536</td>\n",
       "      <td>Lake Sharon</td>\n",
       "      <td>Kazakhstan</td>\n",
       "      <td>2006-01-23</td>\n",
       "      <td>2020-01-31</td>\n",
       "      <td>47-4524223833468</td>\n",
       "    </tr>\n",
       "  </tbody>\n",
       "</table>\n",
       "<p>1000 rows × 11 columns</p>\n",
       "</div>"
      ],
      "text/plain": [
       "     customer_id gender first_name  last_name         dob  \\\n",
       "0            155      F      Laura       Bell  2011-02-26   \n",
       "1            142      F       Rose     Harris  1992-10-23   \n",
       "2            701      F        Amy      Cohen  2001-07-23   \n",
       "3            562      M    Kenneth     Hughes  1994-06-23   \n",
       "4            670      F     Amanda      Wyatt  2017-06-19   \n",
       "..           ...    ...        ...        ...         ...   \n",
       "995          928      F    Carolyn  Hernandez  2004-11-27   \n",
       "996          734      F      Molly      Lopez  2017-07-29   \n",
       "997          485      F      Debra    Webster  2015-01-03   \n",
       "998          262      F  Stephanie  Schroeder  2003-02-23   \n",
       "999          963      F    Natasha       Hall  2001-04-30   \n",
       "\n",
       "                            address           city      country  \\\n",
       "0                   721 Maria Views      Jamesstad      Somalia   \n",
       "1                9547 Derek Orchard   New Margaret      Grenada   \n",
       "2     26999 Sullivan Port Suite 816  South Katrina         Chad   \n",
       "3          5117 Lewis Camp Apt. 846  Port Donnaton  Isle of Man   \n",
       "4                861 Meagan Springs    Phillipview      Myanmar   \n",
       "..                              ...            ...          ...   \n",
       "995               40054 Billy Hills      Taraburgh     Djibouti   \n",
       "996                541 Carson River  West Virginia     Cambodia   \n",
       "997               972 Janice Plains    Port Gloria        Chile   \n",
       "998  87968 Trujillo Light Suite 678      New Karen        Ghana   \n",
       "999     527 Jeffrey Light Suite 536    Lake Sharon   Kazakhstan   \n",
       "\n",
       "    enrollment_date renewal_date   registration_id  \n",
       "0        2009-03-20   2020-03-31  91-8182741921324  \n",
       "1        2009-07-17   2020-07-31  73-6733624268771  \n",
       "2        2016-06-23   2020-06-30  22-5598845510297  \n",
       "3        2011-06-05   2020-06-30  24-5122864522599  \n",
       "4        2017-07-19   2020-07-31  88-4438447775896  \n",
       "..              ...          ...               ...  \n",
       "995      2011-07-20   2020-07-31  50-7233207592983  \n",
       "996      2019-07-03   2020-07-31  40-1011325584754  \n",
       "997      2014-08-02   2020-08-31  80-8988164184502  \n",
       "998      2006-12-28   2020-12-31  81-0361012356685  \n",
       "999      2006-01-23   2020-01-31  47-4524223833468  \n",
       "\n",
       "[1000 rows x 11 columns]"
      ]
     },
     "execution_count": 83,
     "metadata": {},
     "output_type": "execute_result"
    }
   ],
   "source": [
    "df2"
   ]
  },
  {
   "cell_type": "code",
   "execution_count": 84,
   "metadata": {},
   "outputs": [],
   "source": [
    "df.to_excel(\"./test_data/data_customer.xlsx\")"
   ]
  },
  {
   "cell_type": "code",
   "execution_count": 86,
   "metadata": {},
   "outputs": [],
   "source": [
    "df2.to_excel('./test_data/data_contract.xlsx')"
   ]
  },
  {
   "cell_type": "code",
   "execution_count": null,
   "metadata": {},
   "outputs": [],
   "source": []
  }
 ],
 "metadata": {
  "kernelspec": {
   "display_name": "Python 3",
   "language": "python",
   "name": "python3"
  },
  "language_info": {
   "codemirror_mode": {
    "name": "ipython",
    "version": 3
   },
   "file_extension": ".py",
   "mimetype": "text/x-python",
   "name": "python",
   "nbconvert_exporter": "python",
   "pygments_lexer": "ipython3",
   "version": "3.7.4"
  }
 },
 "nbformat": 4,
 "nbformat_minor": 4
}
