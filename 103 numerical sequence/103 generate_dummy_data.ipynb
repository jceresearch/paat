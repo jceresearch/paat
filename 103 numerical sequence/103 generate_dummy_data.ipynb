{
 "cells": [
  {
   "cell_type": "code",
   "execution_count": 1,
   "metadata": {},
   "outputs": [],
   "source": [
    "import random, csv\n",
    "import datetime\n",
    "from faker import Faker\n",
    "from faker.providers import person\n",
    "from faker.providers import address\n",
    "from faker.providers import date_time\n",
    "import  pandas as pd"
   ]
  },
  {
   "cell_type": "code",
   "execution_count": 2,
   "metadata": {},
   "outputs": [],
   "source": [
    "def generate_customer_record(fake, id):\n",
    "    d = dict()\n",
    "    d['customer_id']=id\n",
    "    d['gender'] = 'M' if random.randint(0,1) == 0 else 'F'\n",
    "    d['first_name'] = fake.first_name_male() if d['gender']=='M' else fake.first_name_female()\n",
    "    d['last_name'] = fake.last_name()\n",
    "    d['dob'] = fake.date_between(start_date=\"-30y\", end_date=\"-1d\")\n",
    "    d['address']= fake.street_address() \n",
    "    d['city']= fake.city()\n",
    "    d['country']=fake.country()\n",
    "    return d\n",
    "def generate_policy_record(fake,customer_df):\n",
    "    i=random.randint(0,df.shape[0])\n",
    "    d=df.iloc[i].to_dict()\n",
    "    d_enr = fake.date_between(start_date=\"-20y\", end_date=\"now\")\n",
    "    d['enrollment_date']= d_enr\n",
    "    d_ren_bom=datetime.date(datetime.datetime.today().year,d_enr.month,1)\n",
    "    d_ren_eom=datetime.date(d_ren_bom.year + (d_ren_bom.month == 12), \n",
    "              (d_ren_bom.month + 1 if d_ren_bom.month < 12 else 1), 1) - datetime.timedelta(1)\n",
    "    d['renewal_date']= d_ren_eom\n",
    "    d['registration_id']='{:02d}'.format(random.randint(1,100)) +\"-\" +str(fake.ean(length=13))\n",
    "    return d"
   ]
  },
  {
   "cell_type": "code",
   "execution_count": 3,
   "metadata": {},
   "outputs": [],
   "source": [
    "fake = Faker()\n",
    "fake.add_provider(person)\n",
    "fake.add_provider(address)\n",
    "fake.add_provider(date_time)"
   ]
  },
  {
   "cell_type": "code",
   "execution_count": 4,
   "metadata": {},
   "outputs": [
    {
     "data": {
      "text/plain": [
       "(980, 8)"
      ]
     },
     "execution_count": 4,
     "metadata": {},
     "output_type": "execute_result"
    }
   ],
   "source": [
    "df = pd.DataFrame()\n",
    "number_of_records=1000\n",
    "rec=[]\n",
    "for i in range(number_of_records):\n",
    "    rec.append(generate_customer_record(fake,i+1))\n",
    "for i in range(20):\n",
    "    record_to_delete=random.randint(0,number_of_records-1)\n",
    "    rec.pop(record_to_delete)\n",
    "df = df.append(rec, ignore_index=True)\n",
    "df=df.reset_index(drop=True)\n",
    "df.shape"
   ]
  },
  {
   "cell_type": "code",
   "execution_count": 82,
   "metadata": {},
   "outputs": [],
   "source": [
    "df2 = pd.DataFrame()\n",
    "number_of_records=1000\n",
    "rec=[]\n",
    "for i in range(number_of_records):\n",
    "    rec.append(generate_policy_record(fake,df))\n",
    "    \n",
    "df2 = df2.append(rec, ignore_index=True)\n",
    "    "
   ]
  },
  {
   "cell_type": "code",
   "execution_count": 84,
   "metadata": {},
   "outputs": [],
   "source": [
    "df.to_excel(\"./test_data/data_customer.xlsx\")"
   ]
  },
  {
   "cell_type": "code",
   "execution_count": 86,
   "metadata": {},
   "outputs": [],
   "source": [
    "df2.to_excel('./test_data/data_contract.xlsx')"
   ]
  },
  {
   "cell_type": "code",
   "execution_count": null,
   "metadata": {},
   "outputs": [],
   "source": []
  }
 ],
 "metadata": {
  "kernelspec": {
   "display_name": "Python 3",
   "language": "python",
   "name": "python3"
  },
  "language_info": {
   "codemirror_mode": {
    "name": "ipython",
    "version": 3
   },
   "file_extension": ".py",
   "mimetype": "text/x-python",
   "name": "python",
   "nbconvert_exporter": "python",
   "pygments_lexer": "ipython3",
   "version": "3.8.3"
  }
 },
 "nbformat": 4,
 "nbformat_minor": 4
}
