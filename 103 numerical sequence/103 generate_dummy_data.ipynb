{
 "cells": [
  {
   "cell_type": "code",
   "execution_count": 16,
   "metadata": {},
   "outputs": [],
   "source": [
    "import random, csv\n",
    "import  pandas as pd\n",
    "import numpy as np\n",
    "from datetime import timedelta, datetime\n",
    "from faker import Faker\n",
    "from faker.providers import person\n",
    "from faker.providers import address\n",
    "from faker.providers import date_time\n",
    "import os"
   ]
  },
  {
   "cell_type": "code",
   "execution_count": 17,
   "metadata": {},
   "outputs": [],
   "source": [
    "try:\n",
    "    os.makedirs(\"./test_data\") \n",
    "except:\n",
    "    pass\n",
    "try:\n",
    "    os.makedirs(\"./output\")\n",
    "except:\n",
    "    pass"
   ]
  },
  {
   "cell_type": "code",
   "execution_count": 18,
   "metadata": {},
   "outputs": [],
   "source": [
    "def generate_record(fake, id ):\n",
    "    d = dict()\n",
    "    d['customer_id']=id\n",
    "    d['gender'] = 'M' if random.randint(0,1) == 0 else 'F'\n",
    "    d['first_name'] = fake.first_name_male() if d['gender']=='M' else fake.first_name_female()\n",
    "    d['last_name'] = fake.last_name()\n",
    "    d['dob'] = fake.date_between(start_date=\"-50y\", end_date=\"-1d\")\n",
    "    d['date_enrollment']= fake.date_between(start_date=\"-20y\", end_date=\"now\")\n",
    "    d['city']= fake.city()\n",
    "    d['country']= fake.country() \n",
    "    d['residential address']= fake.street_address()  \n",
    "    return d"
   ]
  },
  {
   "cell_type": "code",
   "execution_count": 29,
   "metadata": {},
   "outputs": [
    {
     "output_type": "execute_result",
     "data": {
      "text/plain": [
       "1000"
      ]
     },
     "metadata": {},
     "execution_count": 29
    }
   ],
   "source": [
    "number_of_records=1000\n",
    "number_single_seeds=50\n",
    "number_consecutive_seed=[2,5,10]\n",
    "\n",
    "fake = Faker()\n",
    "fake.add_provider(person)\n",
    "fake.add_provider(address)\n",
    "fake.add_provider(date_time)\n",
    "rec=[]\n",
    "for i in range(number_of_records):\n",
    "    rec.append(generate_record(fake,i+1))\n",
    "len(rec)"
   ]
  },
  {
   "cell_type": "code",
   "execution_count": 30,
   "metadata": {},
   "outputs": [
    {
     "output_type": "execute_result",
     "data": {
      "text/plain": [
       "933"
      ]
     },
     "metadata": {},
     "execution_count": 30
    }
   ],
   "source": [
    "popped=[]\n",
    "for i in range(number_single_seeds):\n",
    "    record_to_delete=random.randint(0,len(rec))\n",
    "    try:\n",
    "        popped.append(rec.pop(record_to_delete))\n",
    "    except:\n",
    "        print(\"Error trying to pop record \",record_to_delete)\n",
    "for i in number_consecutive_seed:\n",
    "    record_to_delete=random.randint(0,len(rec))\n",
    "    for j in range(i):\n",
    "        try:\n",
    "            popped.append(rec.pop(record_to_delete))\n",
    "        except:\n",
    "            print(\"Error trying to pop record \",record_to_delete)\n",
    "len(rec)"
   ]
  },
  {
   "cell_type": "code",
   "execution_count": 31,
   "metadata": {},
   "outputs": [
    {
     "output_type": "execute_result",
     "data": {
      "text/plain": [
       "67"
      ]
     },
     "metadata": {},
     "execution_count": 31
    }
   ],
   "source": [
    "len(popped)"
   ]
  },
  {
   "cell_type": "code",
   "execution_count": 32,
   "metadata": {},
   "outputs": [
    {
     "output_type": "execute_result",
     "data": {
      "text/plain": [
       "(933, 9)"
      ]
     },
     "metadata": {},
     "execution_count": 32
    }
   ],
   "source": [
    "df = pd.DataFrame()\n",
    "df = df.append(rec, ignore_index=True)\n",
    "df=df.reset_index(drop=True)\n",
    "df.shape"
   ]
  },
  {
   "cell_type": "code",
   "execution_count": 33,
   "metadata": {},
   "outputs": [
    {
     "output_type": "execute_result",
     "data": {
      "text/plain": [
       "(67, 9)"
      ]
     },
     "metadata": {},
     "execution_count": 33
    }
   ],
   "source": [
    "dfp = pd.DataFrame()\n",
    "dfp = dfp.append(popped, ignore_index=True)\n",
    "dfp=dfp.reset_index(drop=True)\n",
    "dfp.shape"
   ]
  },
  {
   "cell_type": "code",
   "execution_count": 34,
   "metadata": {},
   "outputs": [],
   "source": [
    "df.to_excel(\"./test_data/data.xlsx\",index=False)\n",
    "dfp.to_excel(\"./test_data/data_popped.xlsx\",index=False)"
   ]
  },
  {
   "cell_type": "code",
   "execution_count": null,
   "metadata": {},
   "outputs": [],
   "source": []
  }
 ],
 "metadata": {
  "kernelspec": {
   "name": "python385jvsc74a57bd08fac594bfae6525c0c41b4041d2d72effa188cc8ead05f81b1fab2bb098927fb",
   "display_name": "Python 3.8.5 64-bit ('base': conda)"
  },
  "language_info": {
   "codemirror_mode": {
    "name": "ipython",
    "version": 3
   },
   "file_extension": ".py",
   "mimetype": "text/x-python",
   "name": "python",
   "nbconvert_exporter": "python",
   "pygments_lexer": "ipython3",
   "version": "3.8.5"
  }
 },
 "nbformat": 4,
 "nbformat_minor": 4
}