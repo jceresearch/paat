{
 "cells": [
  {
   "cell_type": "code",
   "execution_count": 1,
   "metadata": {},
   "outputs": [],
   "source": [
    "import pandas as pd\n",
    "import numpy as np\n",
    "from datetime import datetime,timedelta\n",
    "import random\n",
    "import scipy\n",
    "import faker\n",
    "import pathlib\n",
    "from copy import deepcopy\n",
    "fake= faker.Faker()\n",
    "\n",
    "pathlib.Path('./input').mkdir(parents=True, exist_ok=True)\n",
    "pathlib.Path('./output').mkdir(parents=True, exist_ok=True)"
   ]
  },
  {
   "cell_type": "code",
   "execution_count": 2,
   "metadata": {},
   "outputs": [],
   "source": [
    "evdict={}\n",
    "def create_ev(tid,oid):\n",
    "    event={}\n",
    "    tdate=fake.date_between(start_date='-1y', end_date='today')\n",
    "    maxdelay= min(je_date+timedelta(days=5),datetime.date(datetime.now()))\n",
    "    event[\"date_transac\"]= tdate\n",
    "    event[\"date_entry\"]=fake.date_between_dates(date_start=tdate  , date_end=tmaxdelay)\n",
    "    event[\"amount\"]=round(random.random()*10000,2)\n",
    "    event[\"transact_id\"]= tid\n",
    "    event[\"originator_id\"]=oid #to put customer, provider or employee or sth else here  \n"
   ]
  },
  {
   "cell_type": "code",
   "execution_count": 3,
   "metadata": {},
   "outputs": [],
   "source": [
    "class State(object):\n",
    "    \"\"\"\n",
    "    We define a state object which provides some utility functions for the\n",
    "    individual states within the state machine.\n",
    "    \"\"\"\n",
    "    def __init__(self):\n",
    "        pass\n",
    "        #print ('Current state:', str(self))\n",
    "    def on_event(self, event, parent_object):\n",
    "        \"\"\"\n",
    "        Handle events that are delegated to this State.\n",
    "        \"\"\"\n",
    "        pass\n",
    "    def __repr__(self):\n",
    "        \"\"\"\n",
    "        Leverages the __str__ method to describe the State.\n",
    "        \"\"\"\n",
    "        return self.__str__()\n",
    "    def __str__(self):\n",
    "        \"\"\"\n",
    "        Returns the name of the State.\n",
    "        \"\"\"\n",
    "        return self.__class__.__name__"
   ]
  },
  {
   "cell_type": "code",
   "execution_count": 4,
   "metadata": {},
   "outputs": [],
   "source": [
    "# Start of our states\n",
    "class SubmittedState(State):\n",
    "    \"\"\"\n",
    "    Purchase request submitted in system\n",
    "    \"\"\"\n",
    "    def on_event(self, event, parent):\n",
    "        if event == 'policy_review_fail':\n",
    "            return RejectedState()\n",
    "        if event == 'policy_review_pass':\n",
    "            return PreapprovedState()\n",
    "        return self\n",
    "class RejectedState(State ):\n",
    "    \"\"\"\n",
    "    Order request rejected\n",
    "    \"\"\"\n",
    "    def on_event(self, event, parent):\n",
    "        if event == 'resubmit_amended':\n",
    "            return SubmittedState()\n",
    "        return self   \n",
    "class PreapprovedState(State):\n",
    "    \"\"\"\n",
    "    Order in initial policy compliance, pending manager approval\n",
    "    \"\"\"\n",
    "    def on_event(self, event, parent):\n",
    "        if event == 'manager_approved':\n",
    "            if parent.approver_manager==\"\":\n",
    "                print(\"Can't proceed, missing approver manager data \")\n",
    "            else:\n",
    "                return ApprovedState()\n",
    "        return self\n",
    "class ApprovedState(State):\n",
    "    \"\"\"\n",
    "    Order sent to supplier\n",
    "    \"\"\"\n",
    "    def on_event(self, event, parent):\n",
    "        if event == 'sent_po':\n",
    "            return OrderSentState()\n",
    "        return self\n",
    "class OrderSentState(State):\n",
    "    \"\"\"\n",
    "    Order sent to supplier, pending confirmation\n",
    "    \"\"\"\n",
    "    def on_event(self, event, parent):\n",
    "        if event == 'supplier_accepts_po':\n",
    "            return OrderConfirmedState()\n",
    "        return self\n",
    "class OrderConfirmedState(State):\n",
    "    \"\"\"\n",
    "    Order sent to supplier, pending confirmation\n",
    "    \"\"\"\n",
    "    def on_event(self, event, parent):\n",
    "        if event == 'supplier_confirms_shipping':\n",
    "            return OrderShippedState()\n",
    "        return self\n",
    "        if event == 'order_amended':\n",
    "            return OrderSentState()\n",
    "        return self \n",
    "class OrderShippedState(State):\n",
    "    \"\"\"\n",
    "    Order shipped, cant be amended\n",
    "    \"\"\"\n",
    "    def on_event(self, event, parent):\n",
    "        if event == 'delivery_passes_gr_checks':\n",
    "            return GoodsReceivedState()\n",
    "        return self\n",
    "        if event == 'delivery_fails_gr_checks':\n",
    "            return DeliveryRejectedState()\n",
    "        return self\n",
    "class InvoicePaid(State):\n",
    "    \"\"\"\n",
    "    Invoice is paid but still not confirmed (receipt)\n",
    "    \"\"\"\n",
    "    def on_event(self, event, parent):\n",
    "        if event == 'supplier_reclaims':\n",
    "            return PaymentContestedState()\n",
    "        return self\n",
    "class PaymentContestedState(State):\n",
    "    \"\"\"\n",
    "    Payment contested\n",
    "    \"\"\"\n",
    "    def on_event(self, event, parent):\n",
    "        if event == 'payment_confirmed':\n",
    "            return InvoicePaidState()\n",
    "        return self  \n",
    "class GoodsReceivedState(State):\n",
    "    \"\"\"\n",
    "    Received goods and accepted then bill\n",
    "    \"\"\"\n",
    "    def on_event(self, event, parent):\n",
    "        if event == 'bill_paid':\n",
    "            return InvoicePaidState()\n",
    "        return self\n",
    "class DeliveryRejectedState(State):\n",
    "    \"\"\"\n",
    "    Received goods and accepted then bill\n",
    "    \"\"\"\n",
    "    def on_event(self, event, parent):\n",
    "        if event == 'supplier_confirms_po':\n",
    "            return PendingDeliveryState()\n",
    "        return self\n",
    "# End of our states.\n"
   ]
  },
  {
   "cell_type": "code",
   "execution_count": 5,
   "metadata": {},
   "outputs": [],
   "source": [
    "class purchase(object):\n",
    "    \"\"\" \n",
    "    A simple state machine that mimics the purchasing process\n",
    "    \"\"\"\n",
    "    purchase_id=0\n",
    "    po_id=''\n",
    "    shippment_id=[]\n",
    "    invoice_id=[]\n",
    "    receipt_id=[]\n",
    "    flag_amended=False\n",
    "    purchase_amount=0\n",
    "    invoice_amount=0\n",
    "    payment_amount=0\n",
    "    approver_manager=\"\"\n",
    "    def __repr__(self):\n",
    "        \"\"\"\n",
    "        Leverages the __str__ method to describe the State.\n",
    "        \"\"\"\n",
    "        return self.__str__()\n",
    "    def __str__(self):\n",
    "        \"\"\"\n",
    "        Returns the name of the State.\n",
    "        \"\"\"\n",
    "        return \"Purchase ID: \"+str(self.purchase_id)+\" State: \"+str(self.state) \n",
    "    def __init__(self, purchase_id=0):\n",
    "        \"\"\" Initialize the components. \"\"\"\n",
    "        # Start with a default state.\n",
    "        self.state = SubmittedState()\n",
    "        self.purchase_id=purchase_id\n",
    "    def on_event(self, event):\n",
    "        \"\"\"\n",
    "        This is the bread and butter of the state machine. Incoming events are\n",
    "        delegated to the given states which then handle the event. The result is\n",
    "        then assigned as the new state.\n",
    "        \"\"\"\n",
    "        # The next state will be the result of the on_event function.\n",
    "        self.state = self.state.on_event(event, self)\n",
    "    "
   ]
  },
  {
   "cell_type": "code",
   "execution_count": 6,
   "metadata": {},
   "outputs": [
    {
     "name": "stdout",
     "output_type": "stream",
     "text": [
      "Creating  0\n",
      "Creating  1\n",
      "Creating  2\n",
      "Creating  3\n",
      "Creating  4\n"
     ]
    }
   ],
   "source": [
    "purchases=[] \n",
    "P=5\n",
    "for n in range(P):\n",
    "    print(\"Creating \",n)\n",
    "    purchases.append(purchase(n))\n"
   ]
  },
  {
   "cell_type": "code",
   "execution_count": 7,
   "metadata": {},
   "outputs": [
    {
     "data": {
      "text/plain": [
       "PreapprovedState"
      ]
     },
     "execution_count": 7,
     "metadata": {},
     "output_type": "execute_result"
    }
   ],
   "source": [
    "purchases[2].on_event(\"bill_paid\")\n",
    "purchases[2].on_event(\"policy_review_pass\")\n",
    "purchases[2].state"
   ]
  },
  {
   "cell_type": "code",
   "execution_count": 8,
   "metadata": {},
   "outputs": [
    {
     "data": {
      "text/plain": [
       "Purchase ID: 2 State: ApprovedState"
      ]
     },
     "execution_count": 8,
     "metadata": {},
     "output_type": "execute_result"
    }
   ],
   "source": [
    "purchases[2].approver_manager=\"JB\"\n",
    "purchases[2].on_event('manager_approved')\n",
    "purchases[2]"
   ]
  },
  {
   "cell_type": "code",
   "execution_count": null,
   "metadata": {},
   "outputs": [],
   "source": [
    "\n"
   ]
  },
  {
   "cell_type": "code",
   "execution_count": null,
   "metadata": {},
   "outputs": [],
   "source": []
  },
  {
   "cell_type": "code",
   "execution_count": null,
   "metadata": {},
   "outputs": [],
   "source": []
  }
 ],
 "metadata": {
  "kernelspec": {
   "display_name": "Python 3",
   "language": "python",
   "name": "python3"
  },
  "language_info": {
   "codemirror_mode": {
    "name": "ipython",
    "version": 3
   },
   "file_extension": ".py",
   "mimetype": "text/x-python",
   "name": "python",
   "nbconvert_exporter": "python",
   "pygments_lexer": "ipython3",
   "version": "3.6.6+"
  }
 },
 "nbformat": 4,
 "nbformat_minor": 2
}
