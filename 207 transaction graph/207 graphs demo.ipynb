{
 "cells": [
  {
   "cell_type": "code",
   "execution_count": 1,
   "metadata": {},
   "outputs": [],
   "source": [
    "import pandas as pd\n",
    "import numpy as np\n",
    "import networkx as nx\n",
    "import random"
   ]
  },
  {
   "cell_type": "code",
   "execution_count": null,
   "metadata": {},
   "outputs": [],
   "source": []
  },
  {
   "cell_type": "markdown",
   "metadata": {},
   "source": [
    "TODO: look at this to add more measures\n",
    "    https://programminghistorian.org/en/lessons/exploring-and-analyzing-network-data-with-python\n",
    "        "
   ]
  },
  {
   "cell_type": "code",
   "execution_count": null,
   "metadata": {},
   "outputs": [],
   "source": []
  },
  {
   "cell_type": "code",
   "execution_count": 2,
   "metadata": {},
   "outputs": [],
   "source": [
    "G = nx.MultiDiGraph()\n",
    "#df=pd.read_excel(\"./input/data.xlsx\")\n",
    "#df.info()\n",
    "N=10\n",
    "node_list=list(range(1,N+1))\n",
    "rows=[]\n",
    "T=100\n",
    "t_list=range(1,T+1)\n",
    "t_dict={}\n",
    "for t in t_list:\n",
    "    num_children=random.randint(1,10)\n",
    "    start_node=random.randint(1,3)\n",
    "    for e in range(num_children):\n",
    "        j=random.randint(-1,2)\n",
    "        days=round(random.random() * 10.0,1)\n",
    "        next_node_index=min(N-1,start_node+j)\n",
    "        next_node=node_list[next_node_index]\n",
    "        if (next_node==N-1) | (next_node==start_node):\n",
    "            continue\n",
    "        G.add_edge(start_node, next_node, id=t, weight=days)\n",
    "        start_node=next_node\n",
    " \n",
    "        \n",
    "    "
   ]
  },
  {
   "cell_type": "code",
   "execution_count": 3,
   "metadata": {},
   "outputs": [],
   "source": [
    "for t in t_list:\n",
    "    node_flow=[]\n",
    "    for ori, end, data in G.edges(data=True):\n",
    "        if  data['id']== t:\n",
    "            node_flow.append([ori,end, data['weight']])\n",
    "    total_days=sum([x[2] for x in node_flow])        \n",
    "    t_dict[t]={}\n",
    "    t_dict[t]['steps']=len(node_flow)\n",
    "    t_dict[t]['days']=total_days\n",
    "    "
   ]
  },
  {
   "cell_type": "code",
   "execution_count": 9,
   "metadata": {},
   "outputs": [
    {
     "name": "stdout",
     "output_type": "stream",
     "text": [
      "3 13.5\n"
     ]
    }
   ],
   "source": []
  },
  {
   "cell_type": "code",
   "execution_count": 10,
   "metadata": {},
   "outputs": [
    {
     "name": "stdout",
     "output_type": "stream",
     "text": [
      "[(2, 4), (7, 8), (4, 7)]\n"
     ]
    }
   ],
   "source": []
  },
  {
   "cell_type": "markdown",
   "metadata": {},
   "source": [
    "https://networkx.org/documentation/stable/reference/generated/networkx.classes.function.subgraph_view.html"
   ]
  },
  {
   "cell_type": "code",
   "execution_count": 11,
   "metadata": {},
   "outputs": [],
   "source": [
    "import functools\n",
    "def filter_edge(n1, n2, key,id):\n",
    "    if G[n1][n2][key].get(\"id\")==id:\n",
    "        if n1 != n2:\n",
    "            return True\n",
    "        else:\n",
    "            return False\n",
    "    else:\n",
    "        return False\n",
    "\n",
    "def filter_node(n, id):\n",
    "    for n1,n2,data in G.in_edges(n, data=True):\n",
    "        if data[\"id\"]==id:\n",
    "            return True\n",
    "    for n1,n2,data in G.out_edges(n, data=True):\n",
    "        if data[\"id\"]==id:\n",
    "            return True\n",
    "    return False\n",
    "    \n",
    "t_process=[]\n",
    "for i, t in enumerate(t_list):\n",
    "    filter_edge_partial=functools.partial(filter_edge,id=t)\n",
    "    filter_node_partial=functools.partial(filter_node,id=t)\n",
    "    view = nx.subgraph_view(G , filter_node=filter_node_partial, filter_edge=filter_edge_partial)\n",
    "    t_process.append(view)\n",
    "    #print(i,\"Edges: \",  view.edges(), \"Nodes: \", view.nodes())"
   ]
  },
  {
   "cell_type": "code",
   "execution_count": 12,
   "metadata": {},
   "outputs": [],
   "source": [
    "def find_root(G,child,n=0):\n",
    "    parent = list(G.predecessors(child))\n",
    "    if len(parent) == 0:\n",
    "        #print(f\"found root: {child}\")\n",
    "        return child\n",
    "    else:  \n",
    "        if n>100:\n",
    "            return False\n",
    "        else:\n",
    "            return find_root(G, parent[0],n+1)\n",
    "    "
   ]
  },
  {
   "cell_type": "code",
   "execution_count": null,
   "metadata": {},
   "outputs": [],
   "source": []
  },
  {
   "cell_type": "code",
   "execution_count": 16,
   "metadata": {},
   "outputs": [],
   "source": [
    "variant_dict={}\n",
    "variant_sequence=[]\n",
    "variant_counts=[]\n",
    "for id in t_list:\n",
    "    J=t_process[id-1]\n",
    "    if len(J.nodes())>0:\n",
    "        root_node=find_root(J,min(J.nodes()))\n",
    "    else:\n",
    "        continue\n",
    "    if root_node:\n",
    "        variant=list(nx.bfs_tree(J, root_node , reverse=False))\n",
    "        try:\n",
    "            i= variant_sequence.index(variant)\n",
    "            variant_counts[i]+=1\n",
    "        except:\n",
    "            variant_sequence.append(variant)\n",
    "            variant_counts.append(1)\n",
    "            i=len(variant_counts)-1\n",
    "    variant_dict[id]=i"
   ]
  },
  {
   "cell_type": "code",
   "execution_count": 17,
   "metadata": {},
   "outputs": [
    {
     "name": "stdout",
     "output_type": "stream",
     "text": [
      "59\n",
      "[2, 2, 1, 1, 4, 2, 1, 2, 4, 4, 2, 2, 2, 2, 1, 1, 1, 1, 1, 1, 2, 2, 2, 2, 1, 3, 1, 2, 1, 1, 3, 1, 2, 1, 2, 1, 1, 3, 1, 1, 1, 1, 1, 1, 1, 2, 2, 2, 1, 1, 1, 3, 1, 1, 1, 1, 1, 1, 1]\n"
     ]
    }
   ],
   "source": [
    "print(len(variant_sequence))    \n",
    "#print(variant_sequence)\n",
    "print(variant_counts)"
   ]
  },
  {
   "cell_type": "code",
   "execution_count": 26,
   "metadata": {},
   "outputs": [
    {
     "data": {
      "text/plain": [
       "4"
      ]
     },
     "execution_count": 26,
     "metadata": {},
     "output_type": "execute_result"
    }
   ],
   "source": [
    "variant_dict[98]"
   ]
  },
  {
   "cell_type": "code",
   "execution_count": 25,
   "metadata": {},
   "outputs": [
    {
     "data": {
      "text/plain": [
       "[3, 5, 8, 10]"
      ]
     },
     "execution_count": 25,
     "metadata": {},
     "output_type": "execute_result"
    }
   ],
   "source": [
    "variant_sequence[20]"
   ]
  },
  {
   "cell_type": "code",
   "execution_count": null,
   "metadata": {},
   "outputs": [],
   "source": [
    "id=99\n",
    "selected_edges = [(u,v) for u,v,e in G.edges(data=True) if e['id'] == id]\n",
    "print (selected_edges)\n",
    "print(t_dict[4]['steps'] , t_dict[4]['days'])\n",
    "J=t_process[id]\n",
    "print(J.nodes())\n",
    "print(J.edges())\n",
    "root_node=find_root(J,min(J.nodes()))\n",
    "print(\"Root: \", root_node)\n",
    "leaves= [x for x in J.nodes() if J.out_degree(x)==0 and J.in_degree(x)==1]\n",
    "print(\"Leaves: \", leaves)\n",
    "list(nx.bfs_tree(J, root_node , reverse=False))"
   ]
  }
 ],
 "metadata": {
  "kernelspec": {
   "display_name": "Python 3",
   "language": "python",
   "name": "python3"
  },
  "language_info": {
   "codemirror_mode": {
    "name": "ipython",
    "version": 3
   },
   "file_extension": ".py",
   "mimetype": "text/x-python",
   "name": "python",
   "nbconvert_exporter": "python",
   "pygments_lexer": "ipython3",
   "version": "3.6.6+"
  }
 },
 "nbformat": 4,
 "nbformat_minor": 2
}
