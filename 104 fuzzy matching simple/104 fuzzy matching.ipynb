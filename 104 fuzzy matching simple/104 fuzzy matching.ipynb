{
 "cells": [
  {
   "cell_type": "code",
   "execution_count": 25,
   "metadata": {},
   "outputs": [],
   "source": [
    "import pandas as pd\n",
    "from fuzzywuzzy import fuzz\n",
    "from fuzzywuzzy import process\n",
    "#apparently installing alongside the python-Levenshtein module can increase performance\n"
   ]
  },
  {
   "cell_type": "markdown",
   "metadata": {},
   "source": [
    "Inspired by  \n",
    "\n",
    "https://www.datacamp.com/community/tutorials/fuzzy-string-python"
   ]
  },
  {
   "cell_type": "markdown",
   "metadata": {},
   "source": [
    "The Levenshtein distance is a metric to measure how apart are two sequences of words. In other words, it measures the minimum number of edits that you need to do to change a one-word sequence into the other. These edits can be insertions, deletions or substitutions. This metric was named after Vladimir Levenshtein, who originally considered it in 1965."
   ]
  },
  {
   "cell_type": "code",
   "execution_count": 16,
   "metadata": {},
   "outputs": [
    {
     "name": "stdout",
     "output_type": "stream",
     "text": [
      "95\n"
     ]
    }
   ],
   "source": [
    "Str1 = \"Apple Inc.\"\n",
    "Str2 = \"apple Inc\"\n",
    "Ratio = fuzz.ratio(Str1.lower(),Str2.lower())\n",
    "print(Ratio)"
   ]
  },
  {
   "cell_type": "code",
   "execution_count": 17,
   "metadata": {},
   "outputs": [
    {
     "name": "stdout",
     "output_type": "stream",
     "text": [
      "62\n",
      "73\n",
      "64\n"
     ]
    }
   ],
   "source": [
    "Str1 = \"Los Angeles Lakers\"\n",
    "Str2 = \"L.A. Lakers\"\n",
    "Ratio = fuzz.ratio(Str1.lower(),Str2.lower())\n",
    "Partial_Ratio = fuzz.partial_ratio(Str1.lower(),Str2.lower())\n",
    "Token_Sort_Ratio = fuzz.token_sort_ratio(Str1.lower(),Str2.lower())\n",
    "print(Ratio)\n",
    "print(Partial_Ratio)\n",
    "print(Token_Sort_Ratio)"
   ]
  },
  {
   "cell_type": "markdown",
   "metadata": {},
   "source": [
    "fuzz.partial_ratio() is capable of detecting that both strings are referring to the Lakers. Thus, it yields 100% similarity. The way this works is by using an \"optimal partial\" logic. In other words, if the short string has length k and the longer string has the length m, then the algorithm seeks the score of the best matching length-k substring.\n",
    "\n",
    "Nevertheless, this approach is not foolproof. What happens when the strings comparison the same, but they are in a different order?"
   ]
  },
  {
   "cell_type": "code",
   "execution_count": 43,
   "metadata": {},
   "outputs": [
    {
     "name": "stdout",
     "output_type": "stream",
     "text": [
      "59\n",
      "74\n",
      "100\n"
     ]
    }
   ],
   "source": [
    "Str1 = \"united states v. nixon\"\n",
    "Str2 = \"Nixon v. United States\"\n",
    "Ratio = fuzz.ratio(Str1.lower(),Str2.lower())\n",
    "Partial_Ratio = fuzz.partial_ratio(Str1.lower(),Str2.lower())\n",
    "Token_Sort_Ratio = fuzz.token_sort_ratio(Str1,Str2)\n",
    "print(Ratio)\n",
    "print(Partial_Ratio)\n",
    "print(Token_Sort_Ratio)"
   ]
  },
  {
   "cell_type": "markdown",
   "metadata": {},
   "source": [
    "The fuzz.token functions have an important advantage over ratio and partial_ratio. They tokenize the strings and preprocess them by turning them to lower case and getting rid of punctuation. In the case of fuzz.token_sort_ratio(), the string tokens get sorted alphabetically and then joined together. After that, a simple fuzz.ratio() is applied to obtain the similarity percentage. This allows cases such as court cases in this example to be marked as being the same."
   ]
  },
  {
   "cell_type": "markdown",
   "metadata": {},
   "source": [
    "Still, what happens if these two strings are of widely differing lengths? Thats where fuzz.token_set_ratio() comes in."
   ]
  },
  {
   "cell_type": "code",
   "execution_count": 46,
   "metadata": {},
   "outputs": [
    {
     "name": "stdout",
     "output_type": "stream",
     "text": [
      "57\n",
      "77\n",
      "58\n",
      "95\n"
     ]
    }
   ],
   "source": [
    "Str1 = \"The supreme court case of Nixon vs The United States\"\n",
    "Str2 = \"Nixon v. United States\"\n",
    "Ratio = fuzz.ratio(Str1.lower(),Str2.lower())\n",
    "Partial_Ratio = fuzz.partial_ratio(Str1.lower(),Str2.lower())\n",
    "Token_Sort_Ratio = fuzz.token_sort_ratio(Str1,Str2)\n",
    "Token_Set_Ratio = fuzz.token_set_ratio(Str1,Str2)\n",
    "print(Ratio)\n",
    "print(Partial_Ratio)\n",
    "print(Token_Sort_Ratio)\n",
    "print(Token_Set_Ratio)"
   ]
  },
  {
   "cell_type": "markdown",
   "metadata": {},
   "source": [
    "fuzz.token_set_ratio() takes a more flexible approach than fuzz.token_sort_ratio(). Instead of just tokenizing the strings, sorting and then pasting the tokens back together, token_set_ratio performs a set operation that takes out the common tokens (the intersection) and then makes fuzz.ratio() pairwise comparisons between the following new strings:\n",
    "\n",
    "s1 = Sorted_tokens_in_intersection  \n",
    "s2 = Sorted_tokens_in_intersection + sorted_rest_of_str1_tokens  \n",
    "s3 = Sorted_tokens_in_intersection + sorted_rest_of_str2_tokens  \n",
    "The logic behind these comparisons is that since Sorted_tokens_in_intersection is always the same, the score will tend to go up as these words make up a larger chunk of the original strings or the remaining tokens are closer to each other."
   ]
  },
  {
   "cell_type": "code",
   "execution_count": 158,
   "metadata": {},
   "outputs": [],
   "source": [
    "df_short= pd.read_excel(\"./test_data/data_short.xlsx\")\n",
    "df_long=pd.read_excel(\"./test_data/data_long.xlsx\")\n"
   ]
  },
  {
   "cell_type": "code",
   "execution_count": 159,
   "metadata": {},
   "outputs": [
    {
     "data": {
      "text/html": [
       "<div>\n",
       "<style scoped>\n",
       "    .dataframe tbody tr th:only-of-type {\n",
       "        vertical-align: middle;\n",
       "    }\n",
       "\n",
       "    .dataframe tbody tr th {\n",
       "        vertical-align: top;\n",
       "    }\n",
       "\n",
       "    .dataframe thead th {\n",
       "        text-align: right;\n",
       "    }\n",
       "</style>\n",
       "<table border=\"1\" class=\"dataframe\">\n",
       "  <thead>\n",
       "    <tr style=\"text-align: right;\">\n",
       "      <th></th>\n",
       "      <th>Unnamed: 0</th>\n",
       "      <th>address</th>\n",
       "      <th>city</th>\n",
       "      <th>country</th>\n",
       "      <th>dob</th>\n",
       "      <th>first_name</th>\n",
       "      <th>full_address</th>\n",
       "      <th>full_name</th>\n",
       "      <th>gender</th>\n",
       "      <th>last_name</th>\n",
       "      <th>member_id</th>\n",
       "      <th>middle_name</th>\n",
       "      <th>suffix</th>\n",
       "      <th>title</th>\n",
       "    </tr>\n",
       "  </thead>\n",
       "  <tbody>\n",
       "    <tr>\n",
       "      <th>0</th>\n",
       "      <td>0</td>\n",
       "      <td>84724 Nicole Villages Suite 945</td>\n",
       "      <td>Leetown</td>\n",
       "      <td>New Zealand</td>\n",
       "      <td>2009-11-05</td>\n",
       "      <td>Deborah</td>\n",
       "      <td>84724 Nicole Villages Suite 945, Leetown, New ...</td>\n",
       "      <td>Deborah Nunez</td>\n",
       "      <td>F</td>\n",
       "      <td>Nunez</td>\n",
       "      <td>5102279799502</td>\n",
       "      <td>NaN</td>\n",
       "      <td>NaN</td>\n",
       "      <td>Dr.</td>\n",
       "    </tr>\n",
       "    <tr>\n",
       "      <th>1</th>\n",
       "      <td>1</td>\n",
       "      <td>658 Aaron Vista Apt. 239</td>\n",
       "      <td>Mistyborough</td>\n",
       "      <td>Micronesia</td>\n",
       "      <td>1958-03-25</td>\n",
       "      <td>Nathan</td>\n",
       "      <td>658 Aaron Vista Apt. 239, Mistyborough, Micron...</td>\n",
       "      <td>Nathan Baker</td>\n",
       "      <td>M</td>\n",
       "      <td>Baker</td>\n",
       "      <td>2719238400725</td>\n",
       "      <td>NaN</td>\n",
       "      <td>NaN</td>\n",
       "      <td>Mr.</td>\n",
       "    </tr>\n",
       "    <tr>\n",
       "      <th>2</th>\n",
       "      <td>2</td>\n",
       "      <td>66108 Vasquez Course</td>\n",
       "      <td>Jeffreymouth</td>\n",
       "      <td>Serbia</td>\n",
       "      <td>1961-07-01</td>\n",
       "      <td>Ronald</td>\n",
       "      <td>66108 Vasquez Course, Jeffreymouth, Serbia</td>\n",
       "      <td>Ronald Smith</td>\n",
       "      <td>M</td>\n",
       "      <td>Smith</td>\n",
       "      <td>5344277168281</td>\n",
       "      <td>NaN</td>\n",
       "      <td>NaN</td>\n",
       "      <td>Mr.</td>\n",
       "    </tr>\n",
       "    <tr>\n",
       "      <th>3</th>\n",
       "      <td>3</td>\n",
       "      <td>117 Wood Turnpike Apt. 562</td>\n",
       "      <td>North Christopher</td>\n",
       "      <td>Montenegro</td>\n",
       "      <td>1951-12-14</td>\n",
       "      <td>Douglas</td>\n",
       "      <td>117 Wood Turnpike Apt. 562, North Christopher,...</td>\n",
       "      <td>Douglas Stephanie Ramirez</td>\n",
       "      <td>M</td>\n",
       "      <td>Ramirez</td>\n",
       "      <td>9262734362101</td>\n",
       "      <td>Stephanie</td>\n",
       "      <td>NaN</td>\n",
       "      <td>Mr.</td>\n",
       "    </tr>\n",
       "    <tr>\n",
       "      <th>4</th>\n",
       "      <td>4</td>\n",
       "      <td>7483 Nguyen Square</td>\n",
       "      <td>North Benjamin</td>\n",
       "      <td>Germany</td>\n",
       "      <td>1950-12-06</td>\n",
       "      <td>Alex</td>\n",
       "      <td>7483 Nguyen Square, North Benjamin, Germany</td>\n",
       "      <td>Alex Curry</td>\n",
       "      <td>M</td>\n",
       "      <td>Curry</td>\n",
       "      <td>2504631179862</td>\n",
       "      <td>NaN</td>\n",
       "      <td>NaN</td>\n",
       "      <td>Mr.</td>\n",
       "    </tr>\n",
       "  </tbody>\n",
       "</table>\n",
       "</div>"
      ],
      "text/plain": [
       "   Unnamed: 0                          address               city  \\\n",
       "0           0  84724 Nicole Villages Suite 945            Leetown   \n",
       "1           1         658 Aaron Vista Apt. 239       Mistyborough   \n",
       "2           2             66108 Vasquez Course       Jeffreymouth   \n",
       "3           3       117 Wood Turnpike Apt. 562  North Christopher   \n",
       "4           4               7483 Nguyen Square     North Benjamin   \n",
       "\n",
       "       country        dob first_name  \\\n",
       "0  New Zealand 2009-11-05    Deborah   \n",
       "1   Micronesia 1958-03-25     Nathan   \n",
       "2       Serbia 1961-07-01     Ronald   \n",
       "3   Montenegro 1951-12-14    Douglas   \n",
       "4      Germany 1950-12-06       Alex   \n",
       "\n",
       "                                        full_address  \\\n",
       "0  84724 Nicole Villages Suite 945, Leetown, New ...   \n",
       "1  658 Aaron Vista Apt. 239, Mistyborough, Micron...   \n",
       "2         66108 Vasquez Course, Jeffreymouth, Serbia   \n",
       "3  117 Wood Turnpike Apt. 562, North Christopher,...   \n",
       "4        7483 Nguyen Square, North Benjamin, Germany   \n",
       "\n",
       "                   full_name gender last_name      member_id middle_name  \\\n",
       "0              Deborah Nunez      F     Nunez  5102279799502         NaN   \n",
       "1               Nathan Baker      M     Baker  2719238400725         NaN   \n",
       "2               Ronald Smith      M     Smith  5344277168281         NaN   \n",
       "3  Douglas Stephanie Ramirez      M   Ramirez  9262734362101   Stephanie   \n",
       "4                 Alex Curry      M     Curry  2504631179862         NaN   \n",
       "\n",
       "  suffix title  \n",
       "0    NaN   Dr.  \n",
       "1    NaN   Mr.  \n",
       "2    NaN   Mr.  \n",
       "3    NaN   Mr.  \n",
       "4    NaN   Mr.  "
      ]
     },
     "execution_count": 159,
     "metadata": {},
     "output_type": "execute_result"
    }
   ],
   "source": [
    "df_short.head()"
   ]
  },
  {
   "cell_type": "code",
   "execution_count": 160,
   "metadata": {},
   "outputs": [
    {
     "data": {
      "text/html": [
       "<div>\n",
       "<style scoped>\n",
       "    .dataframe tbody tr th:only-of-type {\n",
       "        vertical-align: middle;\n",
       "    }\n",
       "\n",
       "    .dataframe tbody tr th {\n",
       "        vertical-align: top;\n",
       "    }\n",
       "\n",
       "    .dataframe thead th {\n",
       "        text-align: right;\n",
       "    }\n",
       "</style>\n",
       "<table border=\"1\" class=\"dataframe\">\n",
       "  <thead>\n",
       "    <tr style=\"text-align: right;\">\n",
       "      <th></th>\n",
       "      <th>Unnamed: 0</th>\n",
       "      <th>address</th>\n",
       "      <th>city</th>\n",
       "      <th>country</th>\n",
       "      <th>dob</th>\n",
       "      <th>first_name</th>\n",
       "      <th>full_address</th>\n",
       "      <th>full_name</th>\n",
       "      <th>gender</th>\n",
       "      <th>last_name</th>\n",
       "      <th>member_id</th>\n",
       "      <th>middle_name</th>\n",
       "      <th>suffix</th>\n",
       "      <th>title</th>\n",
       "    </tr>\n",
       "  </thead>\n",
       "  <tbody>\n",
       "    <tr>\n",
       "      <th>0</th>\n",
       "      <td>0</td>\n",
       "      <td>98006 Daniel Causeway</td>\n",
       "      <td>Morenoborough</td>\n",
       "      <td>Palestinian Territory</td>\n",
       "      <td>1940-10-13</td>\n",
       "      <td>Cynthia</td>\n",
       "      <td>98006 Daniel Causeway, Morenoborough, Palestin...</td>\n",
       "      <td>Cynthia Brandy Brown</td>\n",
       "      <td>F</td>\n",
       "      <td>Brown</td>\n",
       "      <td>4005263871981</td>\n",
       "      <td>Brandy</td>\n",
       "      <td>NaN</td>\n",
       "      <td>Mrs.</td>\n",
       "    </tr>\n",
       "    <tr>\n",
       "      <th>1</th>\n",
       "      <td>1</td>\n",
       "      <td>3871 Stevens Lane Apt. 513</td>\n",
       "      <td>East Margaret</td>\n",
       "      <td>Seychelles</td>\n",
       "      <td>1982-02-03</td>\n",
       "      <td>John</td>\n",
       "      <td>3871 Stevens Lane Apt. 513, East Margaret, Sey...</td>\n",
       "      <td>John Campbell</td>\n",
       "      <td>M</td>\n",
       "      <td>Campbell</td>\n",
       "      <td>5593277759078</td>\n",
       "      <td>NaN</td>\n",
       "      <td>NaN</td>\n",
       "      <td>Mr.</td>\n",
       "    </tr>\n",
       "    <tr>\n",
       "      <th>2</th>\n",
       "      <td>2</td>\n",
       "      <td>707 Nichole Run</td>\n",
       "      <td>New Jerrybury</td>\n",
       "      <td>France</td>\n",
       "      <td>2017-09-13</td>\n",
       "      <td>Tara</td>\n",
       "      <td>707 Nichole Run, New Jerrybury, France</td>\n",
       "      <td>Tara Amanda Manning</td>\n",
       "      <td>F</td>\n",
       "      <td>Manning</td>\n",
       "      <td>9253704032896</td>\n",
       "      <td>Amanda</td>\n",
       "      <td>NaN</td>\n",
       "      <td>Mrs.</td>\n",
       "    </tr>\n",
       "    <tr>\n",
       "      <th>3</th>\n",
       "      <td>3</td>\n",
       "      <td>29214 Christopher Lodge</td>\n",
       "      <td>Lake Andrew</td>\n",
       "      <td>Isle of Man</td>\n",
       "      <td>1955-11-13</td>\n",
       "      <td>Michaela</td>\n",
       "      <td>29214 Christopher Lodge, Lake Andrew, Isle of Man</td>\n",
       "      <td>Michaela Brock</td>\n",
       "      <td>F</td>\n",
       "      <td>Brock</td>\n",
       "      <td>4666408668950</td>\n",
       "      <td>NaN</td>\n",
       "      <td>NaN</td>\n",
       "      <td>Dr.</td>\n",
       "    </tr>\n",
       "    <tr>\n",
       "      <th>4</th>\n",
       "      <td>4</td>\n",
       "      <td>31860 Earl Stravenue Suite 296</td>\n",
       "      <td>Vickiburgh</td>\n",
       "      <td>Belgium</td>\n",
       "      <td>1974-02-17</td>\n",
       "      <td>Peter</td>\n",
       "      <td>31860 Earl Stravenue Suite 296, Vickiburgh, Be...</td>\n",
       "      <td>Peter Perez</td>\n",
       "      <td>M</td>\n",
       "      <td>Perez</td>\n",
       "      <td>4289840277902</td>\n",
       "      <td>NaN</td>\n",
       "      <td>NaN</td>\n",
       "      <td>Mr.</td>\n",
       "    </tr>\n",
       "  </tbody>\n",
       "</table>\n",
       "</div>"
      ],
      "text/plain": [
       "   Unnamed: 0                         address           city  \\\n",
       "0           0           98006 Daniel Causeway  Morenoborough   \n",
       "1           1      3871 Stevens Lane Apt. 513  East Margaret   \n",
       "2           2                 707 Nichole Run  New Jerrybury   \n",
       "3           3         29214 Christopher Lodge    Lake Andrew   \n",
       "4           4  31860 Earl Stravenue Suite 296     Vickiburgh   \n",
       "\n",
       "                 country        dob first_name  \\\n",
       "0  Palestinian Territory 1940-10-13    Cynthia   \n",
       "1             Seychelles 1982-02-03       John   \n",
       "2                 France 2017-09-13       Tara   \n",
       "3            Isle of Man 1955-11-13   Michaela   \n",
       "4                Belgium 1974-02-17      Peter   \n",
       "\n",
       "                                        full_address             full_name  \\\n",
       "0  98006 Daniel Causeway, Morenoborough, Palestin...  Cynthia Brandy Brown   \n",
       "1  3871 Stevens Lane Apt. 513, East Margaret, Sey...         John Campbell   \n",
       "2             707 Nichole Run, New Jerrybury, France   Tara Amanda Manning   \n",
       "3  29214 Christopher Lodge, Lake Andrew, Isle of Man        Michaela Brock   \n",
       "4  31860 Earl Stravenue Suite 296, Vickiburgh, Be...           Peter Perez   \n",
       "\n",
       "  gender last_name      member_id middle_name suffix title  \n",
       "0      F     Brown  4005263871981      Brandy    NaN  Mrs.  \n",
       "1      M  Campbell  5593277759078         NaN    NaN   Mr.  \n",
       "2      F   Manning  9253704032896      Amanda    NaN  Mrs.  \n",
       "3      F     Brock  4666408668950         NaN    NaN   Dr.  \n",
       "4      M     Perez  4289840277902         NaN    NaN   Mr.  "
      ]
     },
     "execution_count": 160,
     "metadata": {},
     "output_type": "execute_result"
    }
   ],
   "source": [
    "df_long.head()"
   ]
  },
  {
   "cell_type": "code",
   "execution_count": 161,
   "metadata": {},
   "outputs": [
    {
     "name": "stdout",
     "output_type": "stream",
     "text": [
      "500\n"
     ]
    }
   ],
   "source": [
    "df_short['fuzzy']=df_short['full_name'].str.lower()\n",
    "df_short.set_index('fuzzy')\n",
    "list_to_check_against= list(set(df_short['fuzzy']))\n",
    "print(len(list_to_check_against))"
   ]
  },
  {
   "cell_type": "code",
   "execution_count": 162,
   "metadata": {},
   "outputs": [
    {
     "name": "stdout",
     "output_type": "stream",
     "text": [
      "(2000, 15)\n",
      "1983\n"
     ]
    }
   ],
   "source": [
    "df_long['fuzzy']=df_long['full_name'].str.lower()\n",
    "df_short.set_index('fuzzy')\n",
    "print(df_long.shape)\n",
    "data_to_check= list(set(df_long['fuzzy']))\n",
    "print(len(data_to_check))"
   ]
  },
  {
   "cell_type": "code",
   "execution_count": 163,
   "metadata": {},
   "outputs": [],
   "source": [
    "matches = []\n",
    "for item in data_to_check:\n",
    "    if type(item) != str: # Checking base case. \n",
    "        pass\n",
    "    else:\n",
    "        match = process.extractOne(item, list_to_check_against, scorer=fuzz.token_sort_ratio) #Returns tuple of best match and percent fit.\n",
    "        matches.append([item,match[0],match[1]])\n",
    "        \n",
    "\n",
    "    \n",
    "        "
   ]
  },
  {
   "cell_type": "code",
   "execution_count": 164,
   "metadata": {},
   "outputs": [
    {
     "data": {
      "text/plain": [
       "[['katherine smith', 'katherine smith', 100],\n",
       " ['olivia smith', 'smith, olivia', 100],\n",
       " ['michael taylor', 'michael taylor', 100],\n",
       " ['george collins', 'george collins', 100],\n",
       " ['david williams', 'david williams', 100],\n",
       " ['christopher brown', 'christopher brown', 100],\n",
       " ['andrew hernandez', 'andrew hernandez', 100],\n",
       " ['daniel gonzales', 'daniel gonzales', 100],\n",
       " ['mary hernandez', 'mary hernandez', 100],\n",
       " ['jessica alvarez', 'jessica alvarez', 100],\n",
       " ['james martin', 'james martin', 100]]"
      ]
     },
     "execution_count": 164,
     "metadata": {},
     "output_type": "execute_result"
    }
   ],
   "source": [
    "possible_matches=[]\n",
    "possible_matches= [x for x in matches if x[2]>95]\n",
    "possible_matches"
   ]
  },
  {
   "cell_type": "code",
   "execution_count": 165,
   "metadata": {},
   "outputs": [],
   "source": [
    "\n",
    "output_list=[]\n",
    "for x in possible_matches:\n",
    "    key1=df_short.loc[df_short['fuzzy'] == x[1]]['member_id'].tolist()\n",
    "    key2=df_long.loc[df_long['fuzzy'] == x[0]]['member_id'].tolist()\n",
    "    output_list.append([x[1], x[0], x[2], key1, key2])\n",
    "output= pd.DataFrame(output_list, columns=['short_list','long_list','perc_match','key_short','key_long'])"
   ]
  },
  {
   "cell_type": "code",
   "execution_count": 166,
   "metadata": {},
   "outputs": [
    {
     "data": {
      "text/plain": [
       "432    4358287106424\n",
       "Name: member_id, dtype: int64"
      ]
     },
     "execution_count": 166,
     "metadata": {},
     "output_type": "execute_result"
    }
   ],
   "source": [
    "df_short.loc[df_short['fuzzy'] == 'smith, olivia']['member_id']"
   ]
  },
  {
   "cell_type": "code",
   "execution_count": 167,
   "metadata": {},
   "outputs": [
    {
     "data": {
      "text/html": [
       "<div>\n",
       "<style scoped>\n",
       "    .dataframe tbody tr th:only-of-type {\n",
       "        vertical-align: middle;\n",
       "    }\n",
       "\n",
       "    .dataframe tbody tr th {\n",
       "        vertical-align: top;\n",
       "    }\n",
       "\n",
       "    .dataframe thead th {\n",
       "        text-align: right;\n",
       "    }\n",
       "</style>\n",
       "<table border=\"1\" class=\"dataframe\">\n",
       "  <thead>\n",
       "    <tr style=\"text-align: right;\">\n",
       "      <th></th>\n",
       "      <th>short_list</th>\n",
       "      <th>long_list</th>\n",
       "      <th>perc_match</th>\n",
       "      <th>key_short</th>\n",
       "      <th>key_long</th>\n",
       "    </tr>\n",
       "  </thead>\n",
       "  <tbody>\n",
       "    <tr>\n",
       "      <th>0</th>\n",
       "      <td>katherine smith</td>\n",
       "      <td>katherine smith</td>\n",
       "      <td>100</td>\n",
       "      <td>[7563384088130]</td>\n",
       "      <td>[8986386973416]</td>\n",
       "    </tr>\n",
       "    <tr>\n",
       "      <th>1</th>\n",
       "      <td>smith, olivia</td>\n",
       "      <td>olivia smith</td>\n",
       "      <td>100</td>\n",
       "      <td>[4358287106424]</td>\n",
       "      <td>[1067119077629]</td>\n",
       "    </tr>\n",
       "    <tr>\n",
       "      <th>2</th>\n",
       "      <td>michael taylor</td>\n",
       "      <td>michael taylor</td>\n",
       "      <td>100</td>\n",
       "      <td>[5847830015911]</td>\n",
       "      <td>[2836812545211]</td>\n",
       "    </tr>\n",
       "    <tr>\n",
       "      <th>3</th>\n",
       "      <td>george collins</td>\n",
       "      <td>george collins</td>\n",
       "      <td>100</td>\n",
       "      <td>[1306491549530]</td>\n",
       "      <td>[5179019038436]</td>\n",
       "    </tr>\n",
       "    <tr>\n",
       "      <th>4</th>\n",
       "      <td>david williams</td>\n",
       "      <td>david williams</td>\n",
       "      <td>100</td>\n",
       "      <td>[229720631152]</td>\n",
       "      <td>[3922931562549]</td>\n",
       "    </tr>\n",
       "    <tr>\n",
       "      <th>5</th>\n",
       "      <td>christopher brown</td>\n",
       "      <td>christopher brown</td>\n",
       "      <td>100</td>\n",
       "      <td>[1970815105834]</td>\n",
       "      <td>[502887664677]</td>\n",
       "    </tr>\n",
       "    <tr>\n",
       "      <th>6</th>\n",
       "      <td>andrew hernandez</td>\n",
       "      <td>andrew hernandez</td>\n",
       "      <td>100</td>\n",
       "      <td>[358339665507]</td>\n",
       "      <td>[2340862914892]</td>\n",
       "    </tr>\n",
       "    <tr>\n",
       "      <th>7</th>\n",
       "      <td>daniel gonzales</td>\n",
       "      <td>daniel gonzales</td>\n",
       "      <td>100</td>\n",
       "      <td>[140312516230]</td>\n",
       "      <td>[7993593208263]</td>\n",
       "    </tr>\n",
       "    <tr>\n",
       "      <th>8</th>\n",
       "      <td>mary hernandez</td>\n",
       "      <td>mary hernandez</td>\n",
       "      <td>100</td>\n",
       "      <td>[7534575761576]</td>\n",
       "      <td>[6492089346744]</td>\n",
       "    </tr>\n",
       "    <tr>\n",
       "      <th>9</th>\n",
       "      <td>jessica alvarez</td>\n",
       "      <td>jessica alvarez</td>\n",
       "      <td>100</td>\n",
       "      <td>[9250994501583]</td>\n",
       "      <td>[9790621226361]</td>\n",
       "    </tr>\n",
       "    <tr>\n",
       "      <th>10</th>\n",
       "      <td>james martin</td>\n",
       "      <td>james martin</td>\n",
       "      <td>100</td>\n",
       "      <td>[7488960271747]</td>\n",
       "      <td>[7957927902845]</td>\n",
       "    </tr>\n",
       "  </tbody>\n",
       "</table>\n",
       "</div>"
      ],
      "text/plain": [
       "           short_list          long_list  perc_match        key_short  \\\n",
       "0     katherine smith    katherine smith         100  [7563384088130]   \n",
       "1       smith, olivia       olivia smith         100  [4358287106424]   \n",
       "2      michael taylor     michael taylor         100  [5847830015911]   \n",
       "3      george collins     george collins         100  [1306491549530]   \n",
       "4      david williams     david williams         100   [229720631152]   \n",
       "5   christopher brown  christopher brown         100  [1970815105834]   \n",
       "6    andrew hernandez   andrew hernandez         100   [358339665507]   \n",
       "7     daniel gonzales    daniel gonzales         100   [140312516230]   \n",
       "8      mary hernandez     mary hernandez         100  [7534575761576]   \n",
       "9     jessica alvarez    jessica alvarez         100  [9250994501583]   \n",
       "10       james martin       james martin         100  [7488960271747]   \n",
       "\n",
       "           key_long  \n",
       "0   [8986386973416]  \n",
       "1   [1067119077629]  \n",
       "2   [2836812545211]  \n",
       "3   [5179019038436]  \n",
       "4   [3922931562549]  \n",
       "5    [502887664677]  \n",
       "6   [2340862914892]  \n",
       "7   [7993593208263]  \n",
       "8   [6492089346744]  \n",
       "9   [9790621226361]  \n",
       "10  [7957927902845]  "
      ]
     },
     "execution_count": 167,
     "metadata": {},
     "output_type": "execute_result"
    }
   ],
   "source": [
    "output"
   ]
  },
  {
   "cell_type": "code",
   "execution_count": null,
   "metadata": {},
   "outputs": [],
   "source": []
  }
 ],
 "metadata": {
  "kernelspec": {
   "display_name": "Python 3",
   "language": "python",
   "name": "python3"
  },
  "language_info": {
   "codemirror_mode": {
    "name": "ipython",
    "version": 3
   },
   "file_extension": ".py",
   "mimetype": "text/x-python",
   "name": "python",
   "nbconvert_exporter": "python",
   "pygments_lexer": "ipython3",
   "version": "3.7.6"
  }
 },
 "nbformat": 4,
 "nbformat_minor": 4
}
