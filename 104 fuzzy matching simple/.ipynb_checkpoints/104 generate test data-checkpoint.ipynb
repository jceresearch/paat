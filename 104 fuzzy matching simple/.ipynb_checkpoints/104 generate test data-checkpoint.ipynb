{
 "cells": [
  {
   "cell_type": "code",
   "execution_count": 10,
   "metadata": {},
   "outputs": [],
   "source": [
    "import pandas as pd\n",
    "import random\n",
    "from faker import Faker\n",
    "from faker.providers import person\n",
    "from faker.providers import address\n",
    "from faker.providers import date_time\n",
    "import datetime\n",
    "import numpy as np\n"
   ]
  },
  {
   "cell_type": "code",
   "execution_count": 1,
   "metadata": {},
   "outputs": [],
   "source": [
    "import pathlib\n",
    "pathlib.Path('./input').mkdir(parents=True, exist_ok=True)\n",
    "pathlib.Path('./output').mkdir(parents=True, exist_ok=True)"
   ]
  },
  {
   "cell_type": "markdown",
   "metadata": {},
   "source": [
    "This function generates a random data that doesnt have the limit of 1970"
   ]
  },
  {
   "cell_type": "code",
   "execution_count": 4,
   "metadata": {},
   "outputs": [],
   "source": [
    "def generate_dob(start, end, n=1):\n",
    "    start_u = start.value//10**9 # // is the floor divison operator removing nanoseconds\n",
    "    end_u = end.value//10**9  # ** is the power operator \n",
    "    return pd.DatetimeIndex((10**9*np.random.randint(start_u, end_u, n, dtype=np.int64)).view('M8[ns]')).normalize()[0]\n"
   ]
  },
  {
   "cell_type": "code",
   "execution_count": 5,
   "metadata": {},
   "outputs": [
    {
     "name": "stdout",
     "output_type": "stream",
     "text": [
      "-946771200000000000\n",
      "-946771200\n",
      "1602919175067064000\n",
      "1940-01-01 00:00:00\n"
     ]
    },
    {
     "data": {
      "text/plain": [
       "Timestamp('2006-04-11 00:00:00')"
      ]
     },
     "execution_count": 5,
     "metadata": {},
     "output_type": "execute_result"
    }
   ],
   "source": [
    "start = pd.to_datetime('1940-1-1')\n",
    "end = pd.to_datetime('today')\n",
    "print(start.value)\n",
    "print(start.value//10**9)\n",
    "print (end.value)\n",
    "print (pd.to_datetime((start.value//10**9)*10**9))\n",
    "generate_dob(start,end)"
   ]
  },
  {
   "cell_type": "code",
   "execution_count": null,
   "metadata": {},
   "outputs": [],
   "source": []
  },
  {
   "cell_type": "code",
   "execution_count": 12,
   "metadata": {},
   "outputs": [],
   "source": [
    "def generate_record(fake):\n",
    "    d = dict()  \n",
    "    d['gender'] = 'M' if random.randint(0,1) == 0 else 'F'\n",
    "    d['title']= fake.prefix_male() if d['gender']==\"M\" else fake.prefix_female()\n",
    "    d['first_name'] = fake.first_name_male() if d['gender']=='M' else fake.first_name_female()\n",
    "    d['middle_name'] = fake.first_name() if random.randint(0,5) == 0 else ''   \n",
    "    d['middle_name']= d['middle_name'][0] if (d['middle_name']!='') and (random.randint(0,5)) == 0 else d['middle_name']\n",
    "    d['last_name'] = fake.last_name()\n",
    "    d['suffix']=fake.suffix() if random.randint(0,30) == 0 else ''\n",
    "    d['country']=fake.country()\n",
    "    d['city']=fake.city()\n",
    "    #note that this library has 1970 limit, for earlier dates you need a custom formula and it is trickier\n",
    "    #d['dob'] = fake.date_between_dates(date_start=datetime.date(1970,1,1), date_end=datetime.date.today())\n",
    "    start = pd.to_datetime('1940-1-1')\n",
    "    end = pd.to_datetime('today')\n",
    "    d['dob']=generate_dob(start,end)\n",
    "    d['address']= fake.street_address()\n",
    "    d['member_id']=str(fake.ean(length=13))\n",
    "    d['full_address']=d['address']+', '+ d['city']+', '+ d['country']\n",
    "    if random.randint(0,9)>0:\n",
    "        d['full_name']= d['first_name']+ ' ' + d['middle_name']+ ' '+d['last_name']+' '+d['suffix']\n",
    "    else:\n",
    "        d['full_name']= d['last_name']+ ', '+ d['first_name']+ ' ' + d['middle_name']+(', ' if d['suffix'] != '' else '') +d['suffix']\n",
    "    \n",
    "    d['full_name']= \" \".join(d['full_name'].split())\n",
    "    return d\n",
    "\n",
    "\n",
    "def generate_dataset(number_of_records):\n",
    "    fake = Faker()\n",
    "    fake.add_provider(person)\n",
    "    fake.add_provider(address)\n",
    "    fake.add_provider(date_time)\n",
    "    df = pd.DataFrame()\n",
    "    rec=None\n",
    "    record_list=[]\n",
    "    for i in range(number_of_records):\n",
    "        rec=generate_record(fake)\n",
    "        record_list.append(rec)\n",
    "    df = df.append(record_list, ignore_index=True)  \n",
    "    return df\n",
    "\n"
   ]
  },
  {
   "cell_type": "code",
   "execution_count": 13,
   "metadata": {},
   "outputs": [
    {
     "data": {
      "text/html": [
       "<div>\n",
       "<style scoped>\n",
       "    .dataframe tbody tr th:only-of-type {\n",
       "        vertical-align: middle;\n",
       "    }\n",
       "\n",
       "    .dataframe tbody tr th {\n",
       "        vertical-align: top;\n",
       "    }\n",
       "\n",
       "    .dataframe thead th {\n",
       "        text-align: right;\n",
       "    }\n",
       "</style>\n",
       "<table border=\"1\" class=\"dataframe\">\n",
       "  <thead>\n",
       "    <tr style=\"text-align: right;\">\n",
       "      <th></th>\n",
       "      <th>gender</th>\n",
       "      <th>title</th>\n",
       "      <th>first_name</th>\n",
       "      <th>middle_name</th>\n",
       "      <th>last_name</th>\n",
       "      <th>suffix</th>\n",
       "      <th>country</th>\n",
       "      <th>city</th>\n",
       "      <th>dob</th>\n",
       "      <th>address</th>\n",
       "      <th>member_id</th>\n",
       "      <th>full_address</th>\n",
       "      <th>full_name</th>\n",
       "    </tr>\n",
       "  </thead>\n",
       "  <tbody>\n",
       "    <tr>\n",
       "      <th>0</th>\n",
       "      <td>F</td>\n",
       "      <td>Mrs.</td>\n",
       "      <td>Nichole</td>\n",
       "      <td></td>\n",
       "      <td>Howell</td>\n",
       "      <td>MD</td>\n",
       "      <td>Niue</td>\n",
       "      <td>West Baileyhaven</td>\n",
       "      <td>1995-05-30</td>\n",
       "      <td>20671 Sims Tunnel Apt. 988</td>\n",
       "      <td>9521648372256</td>\n",
       "      <td>20671 Sims Tunnel Apt. 988, West Baileyhaven, ...</td>\n",
       "      <td>Nichole Howell MD</td>\n",
       "    </tr>\n",
       "    <tr>\n",
       "      <th>1</th>\n",
       "      <td>F</td>\n",
       "      <td>Dr.</td>\n",
       "      <td>Suzanne</td>\n",
       "      <td></td>\n",
       "      <td>Braun</td>\n",
       "      <td></td>\n",
       "      <td>Lesotho</td>\n",
       "      <td>North Henrybury</td>\n",
       "      <td>2002-07-30</td>\n",
       "      <td>796 Willie Throughway Apt. 137</td>\n",
       "      <td>6834313056423</td>\n",
       "      <td>796 Willie Throughway Apt. 137, North Henrybur...</td>\n",
       "      <td>Suzanne Braun</td>\n",
       "    </tr>\n",
       "    <tr>\n",
       "      <th>2</th>\n",
       "      <td>M</td>\n",
       "      <td>Dr.</td>\n",
       "      <td>Eduardo</td>\n",
       "      <td></td>\n",
       "      <td>Wang</td>\n",
       "      <td></td>\n",
       "      <td>Singapore</td>\n",
       "      <td>East Roger</td>\n",
       "      <td>1943-01-18</td>\n",
       "      <td>18777 Jacqueline Flat</td>\n",
       "      <td>4631084451325</td>\n",
       "      <td>18777 Jacqueline Flat, East Roger, Singapore</td>\n",
       "      <td>Eduardo Wang</td>\n",
       "    </tr>\n",
       "    <tr>\n",
       "      <th>3</th>\n",
       "      <td>F</td>\n",
       "      <td>Mrs.</td>\n",
       "      <td>Stephanie</td>\n",
       "      <td></td>\n",
       "      <td>Ruiz</td>\n",
       "      <td></td>\n",
       "      <td>Slovakia (Slovak Republic)</td>\n",
       "      <td>North Angela</td>\n",
       "      <td>1971-07-25</td>\n",
       "      <td>546 Joseph Dale</td>\n",
       "      <td>5327759230393</td>\n",
       "      <td>546 Joseph Dale, North Angela, Slovakia (Slova...</td>\n",
       "      <td>Stephanie Ruiz</td>\n",
       "    </tr>\n",
       "    <tr>\n",
       "      <th>4</th>\n",
       "      <td>F</td>\n",
       "      <td>Mrs.</td>\n",
       "      <td>Katherine</td>\n",
       "      <td></td>\n",
       "      <td>Cisneros</td>\n",
       "      <td></td>\n",
       "      <td>Comoros</td>\n",
       "      <td>Julianmouth</td>\n",
       "      <td>1996-03-13</td>\n",
       "      <td>64233 Diane Passage</td>\n",
       "      <td>8319126373779</td>\n",
       "      <td>64233 Diane Passage, Julianmouth, Comoros</td>\n",
       "      <td>Cisneros, Katherine</td>\n",
       "    </tr>\n",
       "  </tbody>\n",
       "</table>\n",
       "</div>"
      ],
      "text/plain": [
       "  gender title first_name middle_name last_name suffix  \\\n",
       "0      F  Mrs.    Nichole                Howell     MD   \n",
       "1      F   Dr.    Suzanne                 Braun          \n",
       "2      M   Dr.    Eduardo                  Wang          \n",
       "3      F  Mrs.  Stephanie                  Ruiz          \n",
       "4      F  Mrs.  Katherine              Cisneros          \n",
       "\n",
       "                      country              city        dob  \\\n",
       "0                        Niue  West Baileyhaven 1995-05-30   \n",
       "1                     Lesotho   North Henrybury 2002-07-30   \n",
       "2                   Singapore        East Roger 1943-01-18   \n",
       "3  Slovakia (Slovak Republic)      North Angela 1971-07-25   \n",
       "4                     Comoros       Julianmouth 1996-03-13   \n",
       "\n",
       "                          address      member_id  \\\n",
       "0      20671 Sims Tunnel Apt. 988  9521648372256   \n",
       "1  796 Willie Throughway Apt. 137  6834313056423   \n",
       "2           18777 Jacqueline Flat  4631084451325   \n",
       "3                 546 Joseph Dale  5327759230393   \n",
       "4             64233 Diane Passage  8319126373779   \n",
       "\n",
       "                                        full_address            full_name  \n",
       "0  20671 Sims Tunnel Apt. 988, West Baileyhaven, ...    Nichole Howell MD  \n",
       "1  796 Willie Throughway Apt. 137, North Henrybur...        Suzanne Braun  \n",
       "2       18777 Jacqueline Flat, East Roger, Singapore         Eduardo Wang  \n",
       "3  546 Joseph Dale, North Angela, Slovakia (Slova...       Stephanie Ruiz  \n",
       "4          64233 Diane Passage, Julianmouth, Comoros  Cisneros, Katherine  "
      ]
     },
     "execution_count": 13,
     "metadata": {},
     "output_type": "execute_result"
    }
   ],
   "source": [
    "df=generate_dataset(500)\n",
    "df.head()"
   ]
  },
  {
   "cell_type": "code",
   "execution_count": 37,
   "metadata": {},
   "outputs": [],
   "source": [
    "df.to_excel(\"./input/data_short.xlsx\",sheet_name=\"Data\")"
   ]
  },
  {
   "cell_type": "code",
   "execution_count": 38,
   "metadata": {},
   "outputs": [],
   "source": [
    "df=generate_dataset(2000)"
   ]
  },
  {
   "cell_type": "code",
   "execution_count": 39,
   "metadata": {},
   "outputs": [],
   "source": [
    "df.to_excel(\"./input/data_long.xlsx\",sheet_name=\"Data\")"
   ]
  },
  {
   "cell_type": "code",
   "execution_count": null,
   "metadata": {},
   "outputs": [],
   "source": []
  }
 ],
 "metadata": {
  "kernelspec": {
   "display_name": "Python 3",
   "language": "python",
   "name": "python3"
  },
  "language_info": {
   "codemirror_mode": {
    "name": "ipython",
    "version": 3
   },
   "file_extension": ".py",
   "mimetype": "text/x-python",
   "name": "python",
   "nbconvert_exporter": "python",
   "pygments_lexer": "ipython3",
   "version": "3.6.6+"
  }
 },
 "nbformat": 4,
 "nbformat_minor": 4
}
