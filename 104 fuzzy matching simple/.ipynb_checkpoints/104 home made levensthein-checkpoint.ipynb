{
 "cells": [
  {
   "cell_type": "code",
   "execution_count": 11,
   "metadata": {},
   "outputs": [],
   "source": [
    "import numpy as np\n",
    "import pandas as pd\n",
    "from functools import lru_cache\n",
    "from itertools import combinations_with_replacement, combinations"
   ]
  },
  {
   "cell_type": "markdown",
   "metadata": {},
   "source": [
    "Manual implementation of a levenshtein function\n",
    "\n",
    "From\n",
    "https://rosettacode.org/wiki/Levenshtein_distance#Memoized_recursion\n",
    "and \n",
    "https://www.datacamp.com/community/tutorials/fuzzy-string-python\n",
    "and \n"
   ]
  },
  {
   "cell_type": "code",
   "execution_count": 3,
   "metadata": {},
   "outputs": [],
   "source": [
    "from functools import lru_cache\n",
    "@lru_cache(maxsize=4095)\n",
    "def ld(s, t):\n",
    "    if not s: return len(t)\n",
    "    if not t: return len(s)\n",
    "    if s[0] == t[0]: return ld(s[1:], t[1:])\n",
    "    l1 = ld(s, t[1:])\n",
    "    l2 = ld(s[1:], t)\n",
    "    l3 = ld(s[1:], t[1:])\n",
    "    return 1 + min(l1, l2, l3)\n",
    "assert ld(\"kitten\",\"sitting\") == 3, \"Should be 3\"\n",
    "assert ld(\"rosettacode\",\"raisethysword\") == 8, \"Should be 8\"\n",
    "assert ld(\"Paul jones\",\"paul Jones\") == 2, \"Should be 2\""
   ]
  },
  {
   "cell_type": "code",
   "execution_count": null,
   "metadata": {},
   "outputs": [],
   "source": []
  },
  {
   "cell_type": "code",
   "execution_count": 12,
   "metadata": {},
   "outputs": [
    {
     "data": {
      "text/html": [
       "<div>\n",
       "<style scoped>\n",
       "    .dataframe tbody tr th:only-of-type {\n",
       "        vertical-align: middle;\n",
       "    }\n",
       "\n",
       "    .dataframe tbody tr th {\n",
       "        vertical-align: top;\n",
       "    }\n",
       "\n",
       "    .dataframe thead th {\n",
       "        text-align: right;\n",
       "    }\n",
       "</style>\n",
       "<table border=\"1\" class=\"dataframe\">\n",
       "  <thead>\n",
       "    <tr style=\"text-align: right;\">\n",
       "      <th></th>\n",
       "      <th>x1</th>\n",
       "      <th>x2</th>\n",
       "      <th>distance</th>\n",
       "      <th>ratio</th>\n",
       "    </tr>\n",
       "  </thead>\n",
       "  <tbody>\n",
       "    <tr>\n",
       "      <th>0</th>\n",
       "      <td>John</td>\n",
       "      <td>Jon</td>\n",
       "      <td>1</td>\n",
       "      <td>86</td>\n",
       "    </tr>\n",
       "    <tr>\n",
       "      <th>1</th>\n",
       "      <td>Peter</td>\n",
       "      <td>Peters</td>\n",
       "      <td>1</td>\n",
       "      <td>91</td>\n",
       "    </tr>\n",
       "  </tbody>\n",
       "</table>\n",
       "</div>"
      ],
      "text/plain": [
       "      x1      x2  distance  ratio\n",
       "0   John     Jon         1     86\n",
       "1  Peter  Peters         1     91"
      ]
     },
     "execution_count": 12,
     "metadata": {},
     "output_type": "execute_result"
    }
   ],
   "source": [
    "#%%timeit -n1\n",
    "matches = []\n",
    "list=[\"John\",\"Peter\",\"Jonathan\",\"Peters\",\"Jon\"]\n",
    "item_combinations=combinations(list,2)\n",
    "for x in item_combinations:\n",
    "    d = ld(x[0],x[1])\n",
    "    r=(len(x[0]+x[1]) - d) / (len(x[0]+x[1]))\n",
    "    if r > .80:\n",
    "        matches.append([x[0], x[1], d,  round(r*100)]) \n",
    "df_matches=pd.DataFrame(matches, columns=['x1','x2','distance','ratio'])\n",
    "df_matches"
   ]
  },
  {
   "cell_type": "code",
   "execution_count": 6,
   "metadata": {},
   "outputs": [],
   "source": [
    "def ld2(seq1, seq2):\n",
    "    size_x = len(seq1) + 1\n",
    "    size_y = len(seq2) + 1\n",
    "    matrix = np.zeros ((size_x, size_y))\n",
    "    for x in range(size_x):\n",
    "        matrix [x, 0] = x\n",
    "    for y in range(size_y):\n",
    "        matrix [0, y] = y\n",
    "\n",
    "    for x in range(1, size_x):\n",
    "        for y in range(1, size_y):\n",
    "            if seq1[x-1] == seq2[y-1]:\n",
    "                matrix [x,y] = min(\n",
    "                    matrix[x-1, y] + 1,\n",
    "                    matrix[x-1, y-1],\n",
    "                    matrix[x, y-1] + 1\n",
    "                )\n",
    "            else:\n",
    "                matrix [x,y] = min(\n",
    "                    matrix[x-1,y] + 1,\n",
    "                    matrix[x-1,y-1] + 1,\n",
    "                    matrix[x,y-1] + 1\n",
    "                )\n",
    "    #print (matrix)\n",
    "    return (matrix[size_x - 1, size_y - 1])\n",
    "assert ld2(\"kitten\",\"sitting\") == 3, \"Should be 3\"\n",
    "assert ld2(\"rosettacode\",\"raisethysword\") == 8, \"Should be 8\"\n",
    "assert ld2(\"Paul jones\",\"paul Jones\") == 2, \"Should be 2\""
   ]
  },
  {
   "cell_type": "code",
   "execution_count": 7,
   "metadata": {},
   "outputs": [
    {
     "name": "stdout",
     "output_type": "stream",
     "text": [
      "0 1 2 3 4 8 17 17\n",
      "True True True True True False False False\n"
     ]
    }
   ],
   "source": [
    "from array import array\n",
    "@lru_cache(maxsize=None)\n",
    "#@jit(nopython=True)\n",
    "def ld3(a, b, mx=-1):   \n",
    "    def result(d): return d if mx < 0 else False if d > mx else True\n",
    "    if a == b: return result(0)\n",
    "    la, lb = len(a), len(b)\n",
    "    if mx >= 0 and abs(la - lb) > mx: return result(mx+1)\n",
    "    if la == 0: return result(lb)\n",
    "    if lb == 0: return result(la)\n",
    "    if lb > la: a, b, la, lb = b, a, lb, la\n",
    "    cost = array('i', range(lb + 1))\n",
    "    for i in range(1, la + 1):\n",
    "        cost[0] = i; ls = i-1; mn = ls\n",
    "        for j in range(1, lb + 1):\n",
    "            ls, act = cost[j], ls + int(a[i-1] != b[j-1])\n",
    "            cost[j] = min(ls+1, cost[j-1]+1, act)\n",
    "            if (ls < mn): mn = ls\n",
    "        if mx >= 0 and mn > mx: return result(mx+1)\n",
    "    if mx >= 0 and cost[lb] > mx: return result(mx+1)\n",
    "    return result(cost[lb])\n",
    " \n",
    "print(\n",
    "    ld3('kitten','kitten'), # 0\n",
    "    ld3('kitten','sitten'), # 1\n",
    "    ld3('kitten','sittes'), # 2\n",
    "    ld3('kitten','sityteng'), # 3\n",
    "    ld3('kitten','sittYing'), # 4\n",
    "    ld3('rosettacode','raisethysword'), # 8 \n",
    "    ld3('kitten','kittenaaaaaaaaaaaaaaaaa'), # 17\n",
    "    ld3('kittenaaaaaaaaaaaaaaaaa','kitten') # 17\n",
    ")\n",
    "\n",
    "print(\n",
    "    ld3('kitten','kitten',6), # True\n",
    "    ld3('kitten','sitten',6), # True\n",
    "    ld3('kitten','sittes',6), # True\n",
    "    ld3('kitten','sityteng',6), # True\n",
    "    ld3('kitten','sittYing',6), # False\n",
    "    ld3('rosettacode','raisethysword',6), # False\n",
    "    ld3('kitten','kittenaaaaaaaaaaaaaaaaa',6), # False\n",
    "    ld3('kittenaaaaaaaaaaaaaaaaa','kitten',6) # False\n",
    ")\n",
    "\n",
    " \n",
    "\n",
    " "
   ]
  },
  {
   "cell_type": "code",
   "execution_count": null,
   "metadata": {},
   "outputs": [],
   "source": []
  }
 ],
 "metadata": {
  "kernelspec": {
   "display_name": "Python 3",
   "language": "python",
   "name": "python3"
  },
  "language_info": {
   "codemirror_mode": {
    "name": "ipython",
    "version": 3
   },
   "file_extension": ".py",
   "mimetype": "text/x-python",
   "name": "python",
   "nbconvert_exporter": "python",
   "pygments_lexer": "ipython3",
   "version": "3.6.6+"
  }
 },
 "nbformat": 4,
 "nbformat_minor": 2
}
