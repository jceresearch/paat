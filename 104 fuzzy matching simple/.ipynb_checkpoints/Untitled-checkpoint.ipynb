{
 "cells": [
  {
   "cell_type": "code",
   "execution_count": 3,
   "metadata": {},
   "outputs": [],
   "source": [
    "import numpy as np"
   ]
  },
  {
   "cell_type": "markdown",
   "metadata": {},
   "source": [
    "Manual implementation of a levenshtein function\n",
    "\n",
    "From\n",
    "https://rosettacode.org/wiki/Levenshtein_distance#Memoized_recursion\n",
    "and \n",
    "https://www.datacamp.com/community/tutorials/fuzzy-string-python\n",
    "and \n"
   ]
  },
  {
   "cell_type": "code",
   "execution_count": 11,
   "metadata": {},
   "outputs": [
    {
     "name": "stdout",
     "output_type": "stream",
     "text": [
      "3 8\n"
     ]
    }
   ],
   "source": [
    "from functools import lru_cache\n",
    "@lru_cache(maxsize=4095)\n",
    "def ld(s, t):\n",
    "    if not s: return len(t)\n",
    "    if not t: return len(s)\n",
    "    if s[0] == t[0]: return ld(s[1:], t[1:])\n",
    "    l1 = ld(s, t[1:])\n",
    "    l2 = ld(s[1:], t)\n",
    "    l3 = ld(s[1:], t[1:])\n",
    "    return 1 + min(l1, l2, l3)\n",
    "\n",
    "print( ld(\"kitten\",\"sitting\"),ld(\"rosettacode\",\"raisethysword\") )\n"
   ]
  },
  {
   "cell_type": "code",
   "execution_count": 10,
   "metadata": {},
   "outputs": [
    {
     "data": {
      "text/plain": [
       "2.0"
      ]
     },
     "execution_count": 10,
     "metadata": {},
     "output_type": "execute_result"
    }
   ],
   "source": [
    "def levenshtein(seq1, seq2):\n",
    "    size_x = len(seq1) + 1\n",
    "    size_y = len(seq2) + 1\n",
    "    matrix = np.zeros ((size_x, size_y))\n",
    "    for x in range(size_x):\n",
    "        matrix [x, 0] = x\n",
    "    for y in range(size_y):\n",
    "        matrix [0, y] = y\n",
    "\n",
    "    for x in range(1, size_x):\n",
    "        for y in range(1, size_y):\n",
    "            if seq1[x-1] == seq2[y-1]:\n",
    "                matrix [x,y] = min(\n",
    "                    matrix[x-1, y] + 1,\n",
    "                    matrix[x-1, y-1],\n",
    "                    matrix[x, y-1] + 1\n",
    "                )\n",
    "            else:\n",
    "                matrix [x,y] = min(\n",
    "                    matrix[x-1,y] + 1,\n",
    "                    matrix[x-1,y-1] + 1,\n",
    "                    matrix[x,y-1] + 1\n",
    "                )\n",
    "    #print (matrix)\n",
    "    return (matrix[size_x - 1, size_y - 1])\n",
    "\n",
    "levenshtein(\"juan\",\"juan c\")"
   ]
  },
  {
   "cell_type": "code",
   "execution_count": 6,
   "metadata": {},
   "outputs": [
    {
     "data": {
      "text/plain": [
       "2.0"
      ]
     },
     "execution_count": 6,
     "metadata": {},
     "output_type": "execute_result"
    }
   ],
   "source": []
  },
  {
   "cell_type": "code",
   "execution_count": 9,
   "metadata": {},
   "outputs": [
    {
     "name": "stdout",
     "output_type": "stream",
     "text": [
      "Levenshtein minimum edit distances:\n",
      "\n",
      "('rosettacode', 'raisethysword') -> 8\n",
      "('raisethysword', 'rosettacode') -> 8\n",
      "           ('kitten', 'sitting') -> 3\n",
      "           ('sitting', 'kitten') -> 3\n",
      "          ('saturday', 'sunday') -> 3\n",
      "          ('sunday', 'saturday') -> 3\n"
     ]
    }
   ],
   "source": [
    "'''Levenshtein distance'''\n",
    " \n",
    "from itertools import (accumulate, chain, islice)\n",
    "from functools import reduce\n",
    "# levenshtein :: String -> String -> Int\n",
    "\n",
    "\n",
    "def levenshtein(sa):\n",
    "    '''Levenshtein distance between\n",
    "       two strings.'''\n",
    "    s1 = list(sa)\n",
    " \n",
    "    # go :: [Int] -> Char -> [Int]\n",
    "    def go(ns, c):\n",
    "        n, ns1 = ns[0], ns[1:]\n",
    " \n",
    "        # gap :: Int -> (Char, Int, Int) -> Int\n",
    "        def gap(z, c1xy):\n",
    "            c1, x, y = c1xy\n",
    "            return min(\n",
    "                succ(y),\n",
    "                succ(z),\n",
    "                succ(x) if c != c1 else x\n",
    "            )\n",
    "        return scanl(gap)(succ(n))(\n",
    "            zip(s1, ns, ns1)\n",
    "        )\n",
    "    return lambda sb: reduce(\n",
    "        go, list(sb), enumFromTo(0)(len(s1))\n",
    "    )[-1]\n",
    " \n",
    " \n",
    "# TEST ----------------------------------------------------\n",
    "# main :: IO ()\n",
    "def main():\n",
    "    '''Tests'''\n",
    " \n",
    "    pairs = [\n",
    "        ('rosettacode', 'raisethysword'),\n",
    "        ('kitten', 'sitting'),\n",
    "        ('saturday', 'sunday')\n",
    "    ]\n",
    " \n",
    "    print(\n",
    "        tabulated(\n",
    "            'Levenshtein minimum edit distances:\\n'\n",
    "        )(str)(str)(\n",
    "            uncurry(levenshtein)\n",
    "        )(concat(map(\n",
    "            list,\n",
    "            zip(pairs, map(swap, pairs))\n",
    "        )))\n",
    "    )\n",
    " \n",
    " \n",
    "# GENERIC -------------------------------------------------\n",
    " \n",
    "# compose (<<<) :: (b -> c) -> (a -> b) -> a -> c\n",
    "def compose(g):\n",
    "    '''Right to left function composition.'''\n",
    "    return lambda f: lambda x: g(f(x))\n",
    " \n",
    " \n",
    "# concat :: [[a]] -> [a]\n",
    "# concat :: [String] -> String\n",
    "def concat(xxs):\n",
    "    '''The concatenation of all the elements in a list.'''\n",
    "    xs = list(chain.from_iterable(xxs))\n",
    "    unit = '' if isinstance(xs, str) else []\n",
    "    return unit if not xs else (\n",
    "        ''.join(xs) if isinstance(xs[0], str) else xs\n",
    "    )\n",
    " \n",
    " \n",
    "# enumFromTo :: (Int, Int) -> [Int]\n",
    "def enumFromTo(m):\n",
    "    '''Integer enumeration from m to n.'''\n",
    "    return lambda n: list(range(m, 1 + n))\n",
    " \n",
    " \n",
    "# scanl :: (b -> a -> b) -> b -> [a] -> [b]\n",
    "def scanl(f):\n",
    "    '''scanl is like reduce, but returns a succession of\n",
    "       intermediate values, building from the left.'''\n",
    "    return lambda a: lambda xs: (\n",
    "        list(accumulate(chain([a], xs), f))\n",
    "    )\n",
    " \n",
    " \n",
    "# swap :: (a, b) -> (b, a)\n",
    "def swap(tpl):\n",
    "    '''The swapped components of a pair.'''\n",
    "    return (tpl[1], tpl[0])\n",
    " \n",
    " \n",
    "# succ :: Int => Int -> Int\n",
    "def succ(x):\n",
    "    '''The successor of a value.\n",
    "       For numeric types, (1 +).'''\n",
    "    return 1 + x\n",
    " \n",
    " \n",
    "# tabulated :: String -> (a -> String) ->\n",
    "#                        (b -> String) ->\n",
    "#                        (a -> b) -> [a] -> String\n",
    "def tabulated(s):\n",
    "    '''Heading -> x display function ->\n",
    "                 fx display function ->\n",
    "                 f -> value list -> tabular string.'''\n",
    "    def go(xShow, fxShow, f, xs):\n",
    "        w = max(map(compose(len)(xShow), xs))\n",
    "        return s + '\\n' + '\\n'.join([\n",
    "            xShow(x).rjust(w, ' ') + ' -> ' + fxShow(f(x))\n",
    "            for x in xs\n",
    " \n",
    "        ])\n",
    "    return lambda xShow: lambda fxShow: (\n",
    "        lambda f: lambda xs: go(\n",
    "            xShow, fxShow, f, xs\n",
    "        )\n",
    "    )\n",
    " \n",
    " \n",
    "# take :: Int -> [a] -> [a]\n",
    "# take :: Int -> String -> String\n",
    "def take(n):\n",
    "    '''The prefix of xs of length n,\n",
    "       or xs itself if n > length xs.'''\n",
    "    return lambda xs: (\n",
    "        xs[0:n]\n",
    "        if isinstance(xs, list)\n",
    "        else list(islice(xs, n))\n",
    "    )\n",
    " \n",
    " \n",
    "# uncurry :: (a -> b -> c) -> ((a, b) -> c)\n",
    "def uncurry(f):\n",
    "    '''A function over a tuple\n",
    "       derived from a curried function.'''\n",
    "    return lambda xy: f(xy[0])(\n",
    "        xy[1]\n",
    "    )\n",
    " \n",
    " \n",
    "# MAIN ---\n",
    "if __name__ == '__main__':\n",
    "    main()"
   ]
  },
  {
   "cell_type": "code",
   "execution_count": null,
   "metadata": {},
   "outputs": [],
   "source": []
  }
 ],
 "metadata": {
  "kernelspec": {
   "display_name": "Python 3",
   "language": "python",
   "name": "python3"
  },
  "language_info": {
   "codemirror_mode": {
    "name": "ipython",
    "version": 3
   },
   "file_extension": ".py",
   "mimetype": "text/x-python",
   "name": "python",
   "nbconvert_exporter": "python",
   "pygments_lexer": "ipython3",
   "version": "3.6.6+"
  }
 },
 "nbformat": 4,
 "nbformat_minor": 2
}
