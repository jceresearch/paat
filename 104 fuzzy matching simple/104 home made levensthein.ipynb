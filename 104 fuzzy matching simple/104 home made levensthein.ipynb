{
 "cells": [
  {
   "cell_type": "code",
   "execution_count": 44,
   "metadata": {},
   "outputs": [],
   "source": [
    "import numpy as np\n",
    "import pandas as pd\n",
    "from functools import lru_cache"
   ]
  },
  {
   "cell_type": "markdown",
   "metadata": {},
   "source": [
    "Manual implementation of a levenshtein function\n",
    "\n",
    "From\n",
    "https://rosettacode.org/wiki/Levenshtein_distance#Memoized_recursion\n",
    "and \n",
    "https://www.datacamp.com/community/tutorials/fuzzy-string-python\n",
    "and \n"
   ]
  },
  {
   "cell_type": "code",
   "execution_count": 66,
   "metadata": {},
   "outputs": [],
   "source": [
    "from functools import lru_cache\n",
    "@lru_cache(maxsize=4095)\n",
    "def ld(s, t):\n",
    "    if not s: return len(t)\n",
    "    if not t: return len(s)\n",
    "    if s[0] == t[0]: return ld(s[1:], t[1:])\n",
    "    l1 = ld(s, t[1:])\n",
    "    l2 = ld(s[1:], t)\n",
    "    l3 = ld(s[1:], t[1:])\n",
    "    return 1 + min(l1, l2, l3)\n",
    "assert ld(\"kitten\",\"sitting\") == 3, \"Should be 3\"\n",
    "assert ld(\"rosettacode\",\"raisethysword\") == 8, \"Should be 8\"\n",
    "assert ld(\"Paul jones\",\"paul Jones\") == 2, \"Should be 2\""
   ]
  },
  {
   "cell_type": "code",
   "execution_count": null,
   "metadata": {},
   "outputs": [],
   "source": []
  },
  {
   "cell_type": "code",
   "execution_count": 70,
   "metadata": {},
   "outputs": [
    {
     "data": {
      "text/plain": [
       "['johnsmith',\n",
       " 'joeblogger',\n",
       " 'jamesoreilly',\n",
       " 'peterwoods',\n",
       " 'collinsmichael',\n",
       " 'johnsmith',\n",
       " 'johnsmith',\n",
       " 'johnsmitt',\n",
       " 'jamesjroreilly',\n",
       " 'collinsm',\n",
       " 'johnsmith',\n",
       " 'paulpeterson']"
      ]
     },
     "execution_count": 70,
     "metadata": {},
     "output_type": "execute_result"
    }
   ],
   "source": [
    "from functools import lru_cache\n",
    "import string\n",
    "l=[\"John Smith\",\"Joe.Blogger\",\"James O'Reilly\", \"Peter Woods\",\"Michael Collins\",\"John Smith\",\"Smith, John\",\"John Smitt\", \"James O'Reilly Jr.\", \"M Collins\", \"John Smith\", \"Peterson, Paul\"]\n",
    "lk=list(range(1,len(l)+1))\n",
    "@lru_cache(maxsize=4095)\n",
    "def pre(s):\n",
    "    s=s.translate(str.maketrans('', '', string.punctuation))\n",
    "    s= str.lower(s)\n",
    "    sl= str.split(s)\n",
    "    sl.sort()\n",
    "    s= \"\".join(sl)\n",
    "    return s\n",
    "lpre=[pre(s) for s in l]\n",
    "lpre\n"
   ]
  },
  {
   "cell_type": "code",
   "execution_count": 71,
   "metadata": {},
   "outputs": [
    {
     "name": "stdout",
     "output_type": "stream",
     "text": [
      "66 combinations to compute. Careful if this number is large, it may take a long time\n"
     ]
    }
   ],
   "source": [
    "from itertools import combinations\n",
    "item_combinations=list(combinations(lpre, 2))\n",
    "print(len(item_combinations), \"combinations to compute. Careful if this number is large, it may take a long time\")"
   ]
  },
  {
   "cell_type": "code",
   "execution_count": 72,
   "metadata": {},
   "outputs": [],
   "source": [
    "#%%timeit -n1\n",
    "matches = []\n",
    "for x in item_combinations:\n",
    "    d = ld(x[0],x[1])\n",
    "    r=(len(x[0]+x[1]) - d) / (len(x[0]+x[1]))\n",
    "    if r > .80:\n",
    "        matches.append([x[0], x[1], d,  round(r*100)]) \n",
    "df_matches=pd.DataFrame(matches, columns=['x1','x2','distance','ratio'])"
   ]
  },
  {
   "cell_type": "code",
   "execution_count": 73,
   "metadata": {},
   "outputs": [
    {
     "name": "stdout",
     "output_type": "stream",
     "text": [
      "(4, 4)\n"
     ]
    },
    {
     "data": {
      "text/html": [
       "<div>\n",
       "<style scoped>\n",
       "    .dataframe tbody tr th:only-of-type {\n",
       "        vertical-align: middle;\n",
       "    }\n",
       "\n",
       "    .dataframe tbody tr th {\n",
       "        vertical-align: top;\n",
       "    }\n",
       "\n",
       "    .dataframe thead th {\n",
       "        text-align: right;\n",
       "    }\n",
       "</style>\n",
       "<table border=\"1\" class=\"dataframe\">\n",
       "  <thead>\n",
       "    <tr style=\"text-align: right;\">\n",
       "      <th></th>\n",
       "      <th>x1</th>\n",
       "      <th>x2</th>\n",
       "      <th>distance</th>\n",
       "      <th>ratio</th>\n",
       "    </tr>\n",
       "  </thead>\n",
       "  <tbody>\n",
       "    <tr>\n",
       "      <th>0</th>\n",
       "      <td>johnsmith</td>\n",
       "      <td>johnsmith</td>\n",
       "      <td>0</td>\n",
       "      <td>100</td>\n",
       "    </tr>\n",
       "    <tr>\n",
       "      <th>2</th>\n",
       "      <td>johnsmith</td>\n",
       "      <td>johnsmitt</td>\n",
       "      <td>1</td>\n",
       "      <td>94</td>\n",
       "    </tr>\n",
       "    <tr>\n",
       "      <th>4</th>\n",
       "      <td>jamesoreilly</td>\n",
       "      <td>jamesjroreilly</td>\n",
       "      <td>2</td>\n",
       "      <td>92</td>\n",
       "    </tr>\n",
       "    <tr>\n",
       "      <th>10</th>\n",
       "      <td>johnsmitt</td>\n",
       "      <td>johnsmith</td>\n",
       "      <td>1</td>\n",
       "      <td>94</td>\n",
       "    </tr>\n",
       "  </tbody>\n",
       "</table>\n",
       "</div>"
      ],
      "text/plain": [
       "              x1              x2  distance  ratio\n",
       "0      johnsmith       johnsmith         0    100\n",
       "2      johnsmith       johnsmitt         1     94\n",
       "4   jamesoreilly  jamesjroreilly         2     92\n",
       "10     johnsmitt       johnsmith         1     94"
      ]
     },
     "execution_count": 73,
     "metadata": {},
     "output_type": "execute_result"
    }
   ],
   "source": [
    "#we keep the very top but we retain the original matches to check if we have a lot more\n",
    "likely_matches = df_matches[df_matches.ratio >= 0.95]\n",
    "likely_matches= likely_matches.drop_duplicates()\n",
    "print(likely_matches.shape)\n",
    "likely_matches"
   ]
  },
  {
   "cell_type": "code",
   "execution_count": 74,
   "metadata": {},
   "outputs": [],
   "source": [
    "def ld2(seq1, seq2):\n",
    "    size_x = len(seq1) + 1\n",
    "    size_y = len(seq2) + 1\n",
    "    matrix = np.zeros ((size_x, size_y))\n",
    "    for x in range(size_x):\n",
    "        matrix [x, 0] = x\n",
    "    for y in range(size_y):\n",
    "        matrix [0, y] = y\n",
    "\n",
    "    for x in range(1, size_x):\n",
    "        for y in range(1, size_y):\n",
    "            if seq1[x-1] == seq2[y-1]:\n",
    "                matrix [x,y] = min(\n",
    "                    matrix[x-1, y] + 1,\n",
    "                    matrix[x-1, y-1],\n",
    "                    matrix[x, y-1] + 1\n",
    "                )\n",
    "            else:\n",
    "                matrix [x,y] = min(\n",
    "                    matrix[x-1,y] + 1,\n",
    "                    matrix[x-1,y-1] + 1,\n",
    "                    matrix[x,y-1] + 1\n",
    "                )\n",
    "    #print (matrix)\n",
    "    return (matrix[size_x - 1, size_y - 1])\n",
    "assert ld2(\"kitten\",\"sitting\") == 3, \"Should be 3\"\n",
    "assert ld2(\"rosettacode\",\"raisethysword\") == 8, \"Should be 8\"\n",
    "assert ld2(\"Paul jones\",\"paul Jones\") == 2, \"Should be 2\""
   ]
  },
  {
   "cell_type": "code",
   "execution_count": null,
   "metadata": {},
   "outputs": [],
   "source": []
  }
 ],
 "metadata": {
  "kernelspec": {
   "display_name": "Python 3",
   "language": "python",
   "name": "python3"
  },
  "language_info": {
   "codemirror_mode": {
    "name": "ipython",
    "version": 3
   },
   "file_extension": ".py",
   "mimetype": "text/x-python",
   "name": "python",
   "nbconvert_exporter": "python",
   "pygments_lexer": "ipython3",
   "version": "3.6.6+"
  }
 },
 "nbformat": 4,
 "nbformat_minor": 2
}
