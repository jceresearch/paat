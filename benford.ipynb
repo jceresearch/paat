{
 "cells": [
  {
   "cell_type": "code",
   "execution_count": 7,
   "metadata": {},
   "outputs": [],
   "source": [
    "#import libraries\n",
    "import numpy as np\n",
    "import pandas as pd\n",
    "import sys\n",
    "import math\n",
    "import matplotlib.pyplot as plt"
   ]
  },
  {
   "cell_type": "code",
   "execution_count": null,
   "metadata": {},
   "outputs": [],
   "source": []
  },
  {
   "cell_type": "code",
   "execution_count": 8,
   "metadata": {},
   "outputs": [],
   "source": [
    "#Benford's Law percentages for leading digits\n"
   ]
  },
  {
   "cell_type": "code",
   "execution_count": 108,
   "metadata": {},
   "outputs": [],
   "source": [
    "data=[1,10,2,4,334,667,878,989,7,12,22,100,232,144,167,1000,99,58,299,4,30,500,0,72,-1,0.02,999999,100,111,34,111,12,3,5,7,6,8,9,6,23,3,2,90,38,1,223,2,11,223,4,1,2,33,4,55,]\n",
    "data_iterator=filter(lambda n: abs(n)>0. , data)\n",
    "data=list(data_iterator)\n",
    "first_digit_list=[int(str(abs(x*1000))[0]) for x in data]\n",
    "second_digit_list=[int(str(abs(x*10000))[0:2]) for x in data]\n"
   ]
  },
  {
   "cell_type": "code",
   "execution_count": 109,
   "metadata": {},
   "outputs": [],
   "source": [
    "def count_x_digit(rawdata,digit):\n",
    "    data_count={}\n",
    "    BFD= [math.log10(1+1/n) for n in range (10**(digit-1),10**digit)]\n",
    "    for i in range(10**(digit-1),10**digit):\n",
    "        data_count[i]=0      \n",
    "    data_nonzero=filter(lambda n: n !=0. , rawdata)\n",
    "    data=list(data_nonzero)\n",
    "    data_xdigits=[int(str(abs(x*1000))[0:digit]) for x in data]\n",
    "    for i in range(len(data_xdigits)):\n",
    "            data_count[data_xdigits[i]]=data_count[data_xdigits[i]]+1\n",
    "    list_tuples=sorted(data_count.items())\n",
    "    data_count=[i[1] for i in list_tuples]\n",
    "    expected_count=[p * total_count for p in BFD]\n",
    "    return  data_count, expected_count\n",
    "\n",
    "digit=1\n",
    "data_count, expected_count =count_x_digit(data,digit)\n",
    "total_count=sum(data_count)\n"
   ]
  },
  {
   "cell_type": "code",
   "execution_count": 110,
   "metadata": {},
   "outputs": [],
   "source": [
    "def chi_square_test(data_count,digit):\n",
    "    \"\"\"Return boolean on chi-square test (8 degrees of freedom & P-val=0.05).\"\"\"\n",
    "    total_count=sum(data_count)\n",
    "    BFD= [math.log10(1+1/n) for n in range (10**(digit-1),10**digit)]\n",
    "    expected_count=[p * total_count for p in BFD] \n",
    "    chi_square_stat = 0  # chi square test statistic\n",
    "    for data, expected in zip(data_count,expected_count):\n",
    "            chi_square = math.pow(data - expected, 2)\n",
    "            chi_square_stat += chi_square / expected\n",
    "    print(\"\\nChi-squared Test Statistic = {:.3f}\".format(chi_square_stat))\n",
    "    print(\"Critical value at a P-value of 0.05 is 15.51.\")    \n",
    "    return chi_square_stat < 15.51"
   ]
  },
  {
   "cell_type": "code",
   "execution_count": 111,
   "metadata": {},
   "outputs": [
    {
     "name": "stdout",
     "output_type": "stream",
     "text": [
      "\n",
      "Chi-squared Test Statistic = 147.186\n",
      "Critical value at a P-value of 0.05 is 15.51.\n"
     ]
    },
    {
     "data": {
      "text/plain": [
       "False"
      ]
     },
     "execution_count": 111,
     "metadata": {},
     "output_type": "execute_result"
    }
   ],
   "source": [
    "\n",
    "chi_square_test(data_count,2)\n"
   ]
  },
  {
   "cell_type": "code",
   "execution_count": 112,
   "metadata": {},
   "outputs": [
    {
     "data": {
      "image/png": "[encoded data removed]",
      "text/plain": [
       "<Figure size 432x288 with 1 Axes>"
      ]
     },
     "metadata": {
      "image/png": {
       "height": 248,
       "width": 369
      },
      "needs_background": "light"
     },
     "output_type": "display_data"
    }
   ],
   "source": [
    "import random\n",
    "import numpy as np\n",
    "from matplotlib import pyplot\n",
    "\n",
    "y1 = expected_count\n",
    "y2 = data_count\n",
    "x= np.arange(10**(digit-1),10**digit)\n",
    "bins = np.linspace(1, 10)\n",
    "width=.35\n",
    "plt.bar(x, y1, width, label=\"Benford\")\n",
    "plt.bar(x+width, y2, width, label=\"Actual\")\n",
    "plt.xticks(x+width/2 , x)\n",
    "plt.legend(loc='upper right')\n",
    "plt.show()\n"
   ]
  },
  {
   "cell_type": "code",
   "execution_count": null,
   "metadata": {},
   "outputs": [],
   "source": []
  }
 ],
 "metadata": {
  "kernelspec": {
   "display_name": "Python 3",
   "language": "python",
   "name": "python3"
  },
  "language_info": {
   "codemirror_mode": {
    "name": "ipython",
    "version": 3
   },
   "file_extension": ".py",
   "mimetype": "text/x-python",
   "name": "python",
   "nbconvert_exporter": "python",
   "pygments_lexer": "ipython3",
   "version": "3.6.6+"
  }
 },
 "nbformat": 4,
 "nbformat_minor": 2
}
