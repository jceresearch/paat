{
 "cells": [
  {
   "cell_type": "markdown",
   "metadata": {},
   "source": [
    "Load a simple file in CSV and process it with Pandas library"
   ]
  },
  {
   "cell_type": "code",
   "execution_count": 15,
   "metadata": {},
   "outputs": [],
   "source": [
    "import pandas as pd \n",
    "from datetime import date,timedelta, datetime"
   ]
  },
  {
   "cell_type": "code",
   "execution_count": 16,
   "metadata": {},
   "outputs": [
    {
     "output_type": "stream",
     "name": "stdout",
     "text": [
      "process started: 2020-11-28 19:54:30.867551\n"
     ]
    }
   ],
   "source": [
    "ts = datetime.now()\n",
    "print(\"process started:\", ts)"
   ]
  },
  {
   "cell_type": "code",
   "execution_count": 2,
   "metadata": {},
   "outputs": [],
   "source": [
    "df= pd.read_csv(\"./test_data/101_Demo_Data.csv\")"
   ]
  },
  {
   "cell_type": "code",
   "execution_count": 3,
   "metadata": {},
   "outputs": [
    {
     "output_type": "execute_result",
     "data": {
      "text/plain": [
       "(1708, 8)"
      ]
     },
     "metadata": {},
     "execution_count": 3
    }
   ],
   "source": [
    "df.shape #shows the number of columns and rows"
   ]
  },
  {
   "cell_type": "code",
   "execution_count": 4,
   "metadata": {},
   "outputs": [
    {
     "output_type": "execute_result",
     "data": {
      "text/plain": [
       "['Auth_ID',\n",
       " 'Date Authorisation',\n",
       " 'Cust ID',\n",
       " 'Amount',\n",
       " 'Date Procedure',\n",
       " 'Region',\n",
       " 'Vulnerable',\n",
       " 'Notes']"
      ]
     },
     "metadata": {},
     "execution_count": 4
    }
   ],
   "source": [
    "df.columns.to_list()"
   ]
  },
  {
   "cell_type": "markdown",
   "metadata": {},
   "source": [
    "We turn headers to lower case as python is case sensitive and it is better for consistency"
   ]
  },
  {
   "cell_type": "code",
   "execution_count": 5,
   "metadata": {},
   "outputs": [
    {
     "output_type": "execute_result",
     "data": {
      "text/plain": [
       "   auth_id date authorisation  cust id  amount date procedure  region  \\\n",
       "0  9000001         19/05/2020     3710    9.11     12/06/2020  London   \n",
       "1  9000002         19/05/2020     3378   11.65     21/07/2020    West   \n",
       "2  9000003         19/05/2020     1963   13.52     21/06/2020    West   \n",
       "3  9000004         19/05/2020     3565   77.57     23/05/2020    East   \n",
       "4  9000005         19/05/2020     2249   21.37     26/07/2020    East   \n",
       "5  9000006         19/05/2020     1669   12.60     26/07/2020   South   \n",
       "6  9000007         19/05/2020     1589   26.89     11/06/2020    East   \n",
       "7  9000008         19/05/2020     1596   43.98     16/06/2020    West   \n",
       "8  9000009         19/05/2020     3507    6.09     06/08/2020   North   \n",
       "9  9000010         19/05/2020     2543   11.36     27/06/2020   South   \n",
       "\n",
       "  vulnerable                                              notes  \n",
       "0      False  Test of delimiter, this should be kept all tog...  \n",
       "1      False                                                NaN  \n",
       "2      False                                                NaN  \n",
       "3      False                                                NaN  \n",
       "4      False                         Customer may be vulnerable  \n",
       "5      False                                                NaN  \n",
       "6      False                                                NaN  \n",
       "7      False                                                NaN  \n",
       "8      False                                                NaN  \n",
       "9      False                                                NaN  "
      ],
      "text/html": "<div>\n<style scoped>\n    .dataframe tbody tr th:only-of-type {\n        vertical-align: middle;\n    }\n\n    .dataframe tbody tr th {\n        vertical-align: top;\n    }\n\n    .dataframe thead th {\n        text-align: right;\n    }\n</style>\n<table border=\"1\" class=\"dataframe\">\n  <thead>\n    <tr style=\"text-align: right;\">\n      <th></th>\n      <th>auth_id</th>\n      <th>date authorisation</th>\n      <th>cust id</th>\n      <th>amount</th>\n      <th>date procedure</th>\n      <th>region</th>\n      <th>vulnerable</th>\n      <th>notes</th>\n    </tr>\n  </thead>\n  <tbody>\n    <tr>\n      <th>0</th>\n      <td>9000001</td>\n      <td>19/05/2020</td>\n      <td>3710</td>\n      <td>9.11</td>\n      <td>12/06/2020</td>\n      <td>London</td>\n      <td>False</td>\n      <td>Test of delimiter, this should be kept all tog...</td>\n    </tr>\n    <tr>\n      <th>1</th>\n      <td>9000002</td>\n      <td>19/05/2020</td>\n      <td>3378</td>\n      <td>11.65</td>\n      <td>21/07/2020</td>\n      <td>West</td>\n      <td>False</td>\n      <td>NaN</td>\n    </tr>\n    <tr>\n      <th>2</th>\n      <td>9000003</td>\n      <td>19/05/2020</td>\n      <td>1963</td>\n      <td>13.52</td>\n      <td>21/06/2020</td>\n      <td>West</td>\n      <td>False</td>\n      <td>NaN</td>\n    </tr>\n    <tr>\n      <th>3</th>\n      <td>9000004</td>\n      <td>19/05/2020</td>\n      <td>3565</td>\n      <td>77.57</td>\n      <td>23/05/2020</td>\n      <td>East</td>\n      <td>False</td>\n      <td>NaN</td>\n    </tr>\n    <tr>\n      <th>4</th>\n      <td>9000005</td>\n      <td>19/05/2020</td>\n      <td>2249</td>\n      <td>21.37</td>\n      <td>26/07/2020</td>\n      <td>East</td>\n      <td>False</td>\n      <td>Customer may be vulnerable</td>\n    </tr>\n    <tr>\n      <th>5</th>\n      <td>9000006</td>\n      <td>19/05/2020</td>\n      <td>1669</td>\n      <td>12.60</td>\n      <td>26/07/2020</td>\n      <td>South</td>\n      <td>False</td>\n      <td>NaN</td>\n    </tr>\n    <tr>\n      <th>6</th>\n      <td>9000007</td>\n      <td>19/05/2020</td>\n      <td>1589</td>\n      <td>26.89</td>\n      <td>11/06/2020</td>\n      <td>East</td>\n      <td>False</td>\n      <td>NaN</td>\n    </tr>\n    <tr>\n      <th>7</th>\n      <td>9000008</td>\n      <td>19/05/2020</td>\n      <td>1596</td>\n      <td>43.98</td>\n      <td>16/06/2020</td>\n      <td>West</td>\n      <td>False</td>\n      <td>NaN</td>\n    </tr>\n    <tr>\n      <th>8</th>\n      <td>9000009</td>\n      <td>19/05/2020</td>\n      <td>3507</td>\n      <td>6.09</td>\n      <td>06/08/2020</td>\n      <td>North</td>\n      <td>False</td>\n      <td>NaN</td>\n    </tr>\n    <tr>\n      <th>9</th>\n      <td>9000010</td>\n      <td>19/05/2020</td>\n      <td>2543</td>\n      <td>11.36</td>\n      <td>27/06/2020</td>\n      <td>South</td>\n      <td>False</td>\n      <td>NaN</td>\n    </tr>\n  </tbody>\n</table>\n</div>"
     },
     "metadata": {},
     "execution_count": 5
    }
   ],
   "source": [
    "df.columns=[x.lower() for x in df.columns.to_list()]\n",
    "df[0:10]"
   ]
  },
  {
   "cell_type": "markdown",
   "metadata": {},
   "source": [
    "we remove spurious characters from the title"
   ]
  },
  {
   "cell_type": "code",
   "execution_count": 6,
   "metadata": {},
   "outputs": [
    {
     "output_type": "execute_result",
     "data": {
      "text/plain": [
       "auth_id                                                         9000001\n",
       "date_authorisation                                           19/05/2020\n",
       "cust_id                                                            3710\n",
       "amount                                                             9.11\n",
       "date_procedure                                               12/06/2020\n",
       "region                                                           London\n",
       "vulnerable                                                        False\n",
       "notes                 Test of delimiter, this should be kept all tog...\n",
       "Name: 0, dtype: object"
      ]
     },
     "metadata": {},
     "execution_count": 6
    }
   ],
   "source": [
    "df.columns=df.columns.str.strip()\n",
    "df.columns=df.columns.str.replace(' ','_')\n",
    "df.columns=df.columns.str.replace('.','_')\n",
    "df.columns=df.columns.str.replace('__','_')\n",
    "df.columns=df.columns.str.replace('__','_')\n",
    "df.iloc[0] #this is how we list one particular record based on the index"
   ]
  },
  {
   "cell_type": "markdown",
   "metadata": {},
   "source": [
    "This is the simpler way, we just set a new row of titles"
   ]
  },
  {
   "cell_type": "code",
   "execution_count": 7,
   "metadata": {},
   "outputs": [
    {
     "output_type": "execute_result",
     "data": {
      "text/plain": [
       "   auth_id        date  customer_id  amount  date_claim  region  \\\n",
       "0  9000001  19/05/2020         3710    9.11  12/06/2020  London   \n",
       "1  9000002  19/05/2020         3378   11.65  21/07/2020    West   \n",
       "2  9000003  19/05/2020         1963   13.52  21/06/2020    West   \n",
       "3  9000004  19/05/2020         3565   77.57  23/05/2020    East   \n",
       "4  9000005  19/05/2020         2249   21.37  26/07/2020    East   \n",
       "\n",
       "  vulnerable_customer                                              notes  \n",
       "0               False  Test of delimiter, this should be kept all tog...  \n",
       "1               False                                                NaN  \n",
       "2               False                                                NaN  \n",
       "3               False                                                NaN  \n",
       "4               False                         Customer may be vulnerable  "
      ],
      "text/html": "<div>\n<style scoped>\n    .dataframe tbody tr th:only-of-type {\n        vertical-align: middle;\n    }\n\n    .dataframe tbody tr th {\n        vertical-align: top;\n    }\n\n    .dataframe thead th {\n        text-align: right;\n    }\n</style>\n<table border=\"1\" class=\"dataframe\">\n  <thead>\n    <tr style=\"text-align: right;\">\n      <th></th>\n      <th>auth_id</th>\n      <th>date</th>\n      <th>customer_id</th>\n      <th>amount</th>\n      <th>date_claim</th>\n      <th>region</th>\n      <th>vulnerable_customer</th>\n      <th>notes</th>\n    </tr>\n  </thead>\n  <tbody>\n    <tr>\n      <th>0</th>\n      <td>9000001</td>\n      <td>19/05/2020</td>\n      <td>3710</td>\n      <td>9.11</td>\n      <td>12/06/2020</td>\n      <td>London</td>\n      <td>False</td>\n      <td>Test of delimiter, this should be kept all tog...</td>\n    </tr>\n    <tr>\n      <th>1</th>\n      <td>9000002</td>\n      <td>19/05/2020</td>\n      <td>3378</td>\n      <td>11.65</td>\n      <td>21/07/2020</td>\n      <td>West</td>\n      <td>False</td>\n      <td>NaN</td>\n    </tr>\n    <tr>\n      <th>2</th>\n      <td>9000003</td>\n      <td>19/05/2020</td>\n      <td>1963</td>\n      <td>13.52</td>\n      <td>21/06/2020</td>\n      <td>West</td>\n      <td>False</td>\n      <td>NaN</td>\n    </tr>\n    <tr>\n      <th>3</th>\n      <td>9000004</td>\n      <td>19/05/2020</td>\n      <td>3565</td>\n      <td>77.57</td>\n      <td>23/05/2020</td>\n      <td>East</td>\n      <td>False</td>\n      <td>NaN</td>\n    </tr>\n    <tr>\n      <th>4</th>\n      <td>9000005</td>\n      <td>19/05/2020</td>\n      <td>2249</td>\n      <td>21.37</td>\n      <td>26/07/2020</td>\n      <td>East</td>\n      <td>False</td>\n      <td>Customer may be vulnerable</td>\n    </tr>\n  </tbody>\n</table>\n</div>"
     },
     "metadata": {},
     "execution_count": 7
    }
   ],
   "source": [
    "new_cols = ['auth_id', \n",
    "            'date', \n",
    "            'customer_id',\n",
    "           'amount',\n",
    "           'date_claim',\n",
    "           'region',\n",
    "           'vulnerable_customer',\n",
    "           'notes']\n",
    "df.columns = new_cols\n",
    "\n",
    "df.head() #this is a convenient way of showing the first 5 records"
   ]
  },
  {
   "cell_type": "markdown",
   "metadata": {},
   "source": [
    "Yet another way of renaming dataframe columns, the inplace=True is used in Pandas to avoid having to assign the result to a dataframe, e.g. df= df.rename(.....)"
   ]
  },
  {
   "cell_type": "code",
   "execution_count": 8,
   "metadata": {},
   "outputs": [
    {
     "output_type": "execute_result",
     "data": {
      "text/plain": [
       "      auth_id   auth_date  customer_id  amount  date_claim  region  \\\n",
       "1703  9001701  14/08/2020         2212   37.38         NaN    East   \n",
       "1704  9001702  14/08/2020         1187   -7.79         NaN  London   \n",
       "1705  9001703  14/08/2020         2076  -13.82         NaN    East   \n",
       "1706  9001704  14/08/2020         2380   39.62         NaN    West   \n",
       "1707  9001705  14/08/2020         3980   10.56  30/08/2020   South   \n",
       "\n",
       "     vulnerable_customer notes  \n",
       "1703               False   NaN  \n",
       "1704               False   NaN  \n",
       "1705               False   NaN  \n",
       "1706               False   NaN  \n",
       "1707               False   NaN  "
      ],
      "text/html": "<div>\n<style scoped>\n    .dataframe tbody tr th:only-of-type {\n        vertical-align: middle;\n    }\n\n    .dataframe tbody tr th {\n        vertical-align: top;\n    }\n\n    .dataframe thead th {\n        text-align: right;\n    }\n</style>\n<table border=\"1\" class=\"dataframe\">\n  <thead>\n    <tr style=\"text-align: right;\">\n      <th></th>\n      <th>auth_id</th>\n      <th>auth_date</th>\n      <th>customer_id</th>\n      <th>amount</th>\n      <th>date_claim</th>\n      <th>region</th>\n      <th>vulnerable_customer</th>\n      <th>notes</th>\n    </tr>\n  </thead>\n  <tbody>\n    <tr>\n      <th>1703</th>\n      <td>9001701</td>\n      <td>14/08/2020</td>\n      <td>2212</td>\n      <td>37.38</td>\n      <td>NaN</td>\n      <td>East</td>\n      <td>False</td>\n      <td>NaN</td>\n    </tr>\n    <tr>\n      <th>1704</th>\n      <td>9001702</td>\n      <td>14/08/2020</td>\n      <td>1187</td>\n      <td>-7.79</td>\n      <td>NaN</td>\n      <td>London</td>\n      <td>False</td>\n      <td>NaN</td>\n    </tr>\n    <tr>\n      <th>1705</th>\n      <td>9001703</td>\n      <td>14/08/2020</td>\n      <td>2076</td>\n      <td>-13.82</td>\n      <td>NaN</td>\n      <td>East</td>\n      <td>False</td>\n      <td>NaN</td>\n    </tr>\n    <tr>\n      <th>1706</th>\n      <td>9001704</td>\n      <td>14/08/2020</td>\n      <td>2380</td>\n      <td>39.62</td>\n      <td>NaN</td>\n      <td>West</td>\n      <td>False</td>\n      <td>NaN</td>\n    </tr>\n    <tr>\n      <th>1707</th>\n      <td>9001705</td>\n      <td>14/08/2020</td>\n      <td>3980</td>\n      <td>10.56</td>\n      <td>30/08/2020</td>\n      <td>South</td>\n      <td>False</td>\n      <td>NaN</td>\n    </tr>\n  </tbody>\n</table>\n</div>"
     },
     "metadata": {},
     "execution_count": 8
    }
   ],
   "source": [
    "df.rename(columns = {'date':'auth_date'},inplace = True)\n",
    "\n",
    "df.tail() #shows the last 5 records"
   ]
  },
  {
   "cell_type": "code",
   "execution_count": 10,
   "metadata": {},
   "outputs": [
    {
     "output_type": "execute_result",
     "data": {
      "text/plain": [
       "auth_id                  int64\n",
       "auth_date               object\n",
       "customer_id              int64\n",
       "amount                 float64\n",
       "date_claim              object\n",
       "region                  object\n",
       "vulnerable_customer     object\n",
       "notes                   object\n",
       "dtype: object"
      ]
     },
     "metadata": {},
     "execution_count": 10
    }
   ],
   "source": [
    "df.dtypes"
   ]
  },
  {
   "cell_type": "code",
   "execution_count": 19,
   "metadata": {},
   "outputs": [
    {
     "output_type": "stream",
     "name": "stdout",
     "text": [
      "date_claim\n"
     ]
    },
    {
     "output_type": "execute_result",
     "data": {
      "text/plain": [
       "auth_id                         int64\n",
       "auth_date                      object\n",
       "customer_id                     int64\n",
       "amount                        float64\n",
       "date_claim             datetime64[ns]\n",
       "region                         object\n",
       "vulnerable_customer            object\n",
       "notes                          object\n",
       "dtype: object"
      ]
     },
     "metadata": {},
     "execution_count": 19
    }
   ],
   "source": [
    "for col in df.columns.to_list():\n",
    "    if col[0:4]==\"date\":#\n",
    "        print(col)\n",
    "        df[col]=pd.to_datetime(df[col],format='%d/%m/%Y')\n",
    "df.dtypes\n"
   ]
  },
  {
   "cell_type": "code",
   "execution_count": null,
   "metadata": {},
   "outputs": [],
   "source": []
  },
  {
   "cell_type": "code",
   "execution_count": 9,
   "metadata": {},
   "outputs": [
    {
     "output_type": "execute_result",
     "data": {
      "text/plain": [
       "      auth_id   auth_date  customer_id  amount date_claim region  \\\n",
       "1705  9001703  14/08/2020         2076  -13.82        NaN   East   \n",
       "\n",
       "     vulnerable_customer notes  \n",
       "1705               False   NaN  "
      ],
      "text/html": "<div>\n<style scoped>\n    .dataframe tbody tr th:only-of-type {\n        vertical-align: middle;\n    }\n\n    .dataframe tbody tr th {\n        vertical-align: top;\n    }\n\n    .dataframe thead th {\n        text-align: right;\n    }\n</style>\n<table border=\"1\" class=\"dataframe\">\n  <thead>\n    <tr style=\"text-align: right;\">\n      <th></th>\n      <th>auth_id</th>\n      <th>auth_date</th>\n      <th>customer_id</th>\n      <th>amount</th>\n      <th>date_claim</th>\n      <th>region</th>\n      <th>vulnerable_customer</th>\n      <th>notes</th>\n    </tr>\n  </thead>\n  <tbody>\n    <tr>\n      <th>1705</th>\n      <td>9001703</td>\n      <td>14/08/2020</td>\n      <td>2076</td>\n      <td>-13.82</td>\n      <td>NaN</td>\n      <td>East</td>\n      <td>False</td>\n      <td>NaN</td>\n    </tr>\n  </tbody>\n</table>\n</div>"
     },
     "metadata": {},
     "execution_count": 9
    }
   ],
   "source": [
    "df[df[\"auth_id\"]==9001703]"
   ]
  },
  {
   "cell_type": "code",
   "execution_count": 16,
   "metadata": {},
   "outputs": [
    {
     "data": {
      "text/html": [
       "<div>\n",
       "<style scoped>\n",
       "    .dataframe tbody tr th:only-of-type {\n",
       "        vertical-align: middle;\n",
       "    }\n",
       "\n",
       "    .dataframe tbody tr th {\n",
       "        vertical-align: top;\n",
       "    }\n",
       "\n",
       "    .dataframe thead th {\n",
       "        text-align: right;\n",
       "    }\n",
       "</style>\n",
       "<table border=\"1\" class=\"dataframe\">\n",
       "  <thead>\n",
       "    <tr style=\"text-align: right;\">\n",
       "      <th></th>\n",
       "      <th>auth_id</th>\n",
       "      <th>auth_date</th>\n",
       "      <th>customer_id</th>\n",
       "      <th>amount</th>\n",
       "      <th>exp_date</th>\n",
       "    </tr>\n",
       "  </thead>\n",
       "  <tbody>\n",
       "    <tr>\n",
       "      <th>1707</th>\n",
       "      <td>9001706</td>\n",
       "      <td>2020-06-19 11:29:14.508</td>\n",
       "      <td>24129</td>\n",
       "      <td>-3.82</td>\n",
       "      <td>2020-07-20 11:29:14.508</td>\n",
       "    </tr>\n",
       "    <tr>\n",
       "      <th>1706</th>\n",
       "      <td>9001705</td>\n",
       "      <td>2020-06-19 10:20:40.222</td>\n",
       "      <td>19535</td>\n",
       "      <td>15.78</td>\n",
       "      <td>2020-07-20 10:20:40.222</td>\n",
       "    </tr>\n",
       "    <tr>\n",
       "      <th>1705</th>\n",
       "      <td>9001704</td>\n",
       "      <td>2020-06-19 09:20:40.222</td>\n",
       "      <td>3541</td>\n",
       "      <td>73.36</td>\n",
       "      <td>2020-07-20 09:20:40.222</td>\n",
       "    </tr>\n",
       "    <tr>\n",
       "      <th>1704</th>\n",
       "      <td>9001703</td>\n",
       "      <td>2020-06-19 08:47:56.585</td>\n",
       "      <td>2149</td>\n",
       "      <td>29.25</td>\n",
       "      <td>2020-07-20 08:47:56.585</td>\n",
       "    </tr>\n",
       "    <tr>\n",
       "      <th>1703</th>\n",
       "      <td>9001702</td>\n",
       "      <td>2020-06-19 07:35:56.585</td>\n",
       "      <td>1996</td>\n",
       "      <td>47.38</td>\n",
       "      <td>2020-07-20 07:35:56.585</td>\n",
       "    </tr>\n",
       "    <tr>\n",
       "      <th>1702</th>\n",
       "      <td>9001701</td>\n",
       "      <td>2020-06-19 06:23:56.585</td>\n",
       "      <td>25135</td>\n",
       "      <td>9.72</td>\n",
       "      <td>2020-07-20 06:23:56.585</td>\n",
       "    </tr>\n",
       "    <tr>\n",
       "      <th>1701</th>\n",
       "      <td>9001700</td>\n",
       "      <td>2020-06-19 04:23:56.585</td>\n",
       "      <td>16366</td>\n",
       "      <td>-11.20</td>\n",
       "      <td>2020-07-20 04:23:56.585</td>\n",
       "    </tr>\n",
       "    <tr>\n",
       "      <th>1700</th>\n",
       "      <td>9001699</td>\n",
       "      <td>2020-06-19 03:28:33.509</td>\n",
       "      <td>15365</td>\n",
       "      <td>-37.08</td>\n",
       "      <td>2020-07-20 03:28:33.509</td>\n",
       "    </tr>\n",
       "    <tr>\n",
       "      <th>1699</th>\n",
       "      <td>9001698</td>\n",
       "      <td>2020-06-19 02:08:33.509</td>\n",
       "      <td>27186</td>\n",
       "      <td>9.22</td>\n",
       "      <td>2020-07-20 02:08:33.509</td>\n",
       "    </tr>\n",
       "    <tr>\n",
       "      <th>1698</th>\n",
       "      <td>9001697</td>\n",
       "      <td>2020-06-19 01:03:06.236</td>\n",
       "      <td>18082</td>\n",
       "      <td>39.44</td>\n",
       "      <td>2020-07-20 01:03:06.236</td>\n",
       "    </tr>\n",
       "  </tbody>\n",
       "</table>\n",
       "</div>"
      ],
      "text/plain": [
       "      auth_id               auth_date  customer_id  amount  \\\n",
       "1707  9001706 2020-06-19 11:29:14.508        24129   -3.82   \n",
       "1706  9001705 2020-06-19 10:20:40.222        19535   15.78   \n",
       "1705  9001704 2020-06-19 09:20:40.222         3541   73.36   \n",
       "1704  9001703 2020-06-19 08:47:56.585         2149   29.25   \n",
       "1703  9001702 2020-06-19 07:35:56.585         1996   47.38   \n",
       "1702  9001701 2020-06-19 06:23:56.585        25135    9.72   \n",
       "1701  9001700 2020-06-19 04:23:56.585        16366  -11.20   \n",
       "1700  9001699 2020-06-19 03:28:33.509        15365  -37.08   \n",
       "1699  9001698 2020-06-19 02:08:33.509        27186    9.22   \n",
       "1698  9001697 2020-06-19 01:03:06.236        18082   39.44   \n",
       "\n",
       "                    exp_date  \n",
       "1707 2020-07-20 11:29:14.508  \n",
       "1706 2020-07-20 10:20:40.222  \n",
       "1705 2020-07-20 09:20:40.222  \n",
       "1704 2020-07-20 08:47:56.585  \n",
       "1703 2020-07-20 07:35:56.585  \n",
       "1702 2020-07-20 06:23:56.585  \n",
       "1701 2020-07-20 04:23:56.585  \n",
       "1700 2020-07-20 03:28:33.509  \n",
       "1699 2020-07-20 02:08:33.509  \n",
       "1698 2020-07-20 01:03:06.236  "
      ]
     },
     "execution_count": 16,
     "metadata": {},
     "output_type": "execute_result"
    }
   ],
   "source": [
    "\n",
    "df.sort_values('auth_date', axis=0, ascending=False, inplace=True)\n",
    "df[0:10]"
   ]
  },
  {
   "cell_type": "code",
   "execution_count": 13,
   "metadata": {},
   "outputs": [
    {
     "output_type": "error",
     "ename": "AttributeError",
     "evalue": "Can only use .dt accessor with datetimelike values",
     "traceback": [
      "\u001b[1;31m---------------------------------------------------------------------------\u001b[0m",
      "\u001b[1;31mAttributeError\u001b[0m                            Traceback (most recent call last)",
      "\u001b[1;32m<ipython-input-13-2fb478791f51>\u001b[0m in \u001b[0;36m<module>\u001b[1;34m\u001b[0m\n\u001b[1;32m----> 1\u001b[1;33m \u001b[0mdf\u001b[0m\u001b[1;33m[\u001b[0m\u001b[1;33m[\u001b[0m\u001b[1;34m'auth_date'\u001b[0m\u001b[1;33m,\u001b[0m\u001b[1;34m'amount'\u001b[0m\u001b[1;33m]\u001b[0m\u001b[1;33m]\u001b[0m\u001b[1;33m.\u001b[0m\u001b[0mgroupby\u001b[0m\u001b[1;33m(\u001b[0m\u001b[1;33m[\u001b[0m\u001b[0mdf\u001b[0m\u001b[1;33m[\u001b[0m\u001b[1;34m'auth_date'\u001b[0m\u001b[1;33m]\u001b[0m\u001b[1;33m.\u001b[0m\u001b[0mdt\u001b[0m\u001b[1;33m.\u001b[0m\u001b[0mstrftime\u001b[0m\u001b[1;33m(\u001b[0m\u001b[1;34m'%Y%m'\u001b[0m\u001b[1;33m)\u001b[0m\u001b[1;33m]\u001b[0m\u001b[1;33m)\u001b[0m\u001b[1;33m.\u001b[0m\u001b[0magg\u001b[0m\u001b[1;33m(\u001b[0m\u001b[1;33m{\u001b[0m\u001b[1;34m'auth_date'\u001b[0m\u001b[1;33m:\u001b[0m\u001b[1;33m[\u001b[0m\u001b[1;34m'min'\u001b[0m\u001b[1;33m,\u001b[0m\u001b[1;34m'max'\u001b[0m\u001b[1;33m]\u001b[0m\u001b[1;33m}\u001b[0m\u001b[1;33m,\u001b[0m\u001b[1;33m{\u001b[0m\u001b[1;34m'amount'\u001b[0m\u001b[1;33m:\u001b[0m\u001b[1;33m[\u001b[0m\u001b[1;34m'sum'\u001b[0m\u001b[1;33m]\u001b[0m\u001b[1;33m}\u001b[0m\u001b[1;33m)\u001b[0m\u001b[1;33m\u001b[0m\u001b[1;33m\u001b[0m\u001b[0m\n\u001b[0m",
      "\u001b[1;32m~\\anaconda3\\lib\\site-packages\\pandas\\core\\generic.py\u001b[0m in \u001b[0;36m__getattr__\u001b[1;34m(self, name)\u001b[0m\n\u001b[0;32m   5268\u001b[0m             \u001b[1;32mor\u001b[0m \u001b[0mname\u001b[0m \u001b[1;32min\u001b[0m \u001b[0mself\u001b[0m\u001b[1;33m.\u001b[0m\u001b[0m_accessors\u001b[0m\u001b[1;33m\u001b[0m\u001b[1;33m\u001b[0m\u001b[0m\n\u001b[0;32m   5269\u001b[0m         ):\n\u001b[1;32m-> 5270\u001b[1;33m             \u001b[1;32mreturn\u001b[0m \u001b[0mobject\u001b[0m\u001b[1;33m.\u001b[0m\u001b[0m__getattribute__\u001b[0m\u001b[1;33m(\u001b[0m\u001b[0mself\u001b[0m\u001b[1;33m,\u001b[0m \u001b[0mname\u001b[0m\u001b[1;33m)\u001b[0m\u001b[1;33m\u001b[0m\u001b[1;33m\u001b[0m\u001b[0m\n\u001b[0m\u001b[0;32m   5271\u001b[0m         \u001b[1;32melse\u001b[0m\u001b[1;33m:\u001b[0m\u001b[1;33m\u001b[0m\u001b[1;33m\u001b[0m\u001b[0m\n\u001b[0;32m   5272\u001b[0m             \u001b[1;32mif\u001b[0m \u001b[0mself\u001b[0m\u001b[1;33m.\u001b[0m\u001b[0m_info_axis\u001b[0m\u001b[1;33m.\u001b[0m\u001b[0m_can_hold_identifiers_and_holds_name\u001b[0m\u001b[1;33m(\u001b[0m\u001b[0mname\u001b[0m\u001b[1;33m)\u001b[0m\u001b[1;33m:\u001b[0m\u001b[1;33m\u001b[0m\u001b[1;33m\u001b[0m\u001b[0m\n",
      "\u001b[1;32m~\\anaconda3\\lib\\site-packages\\pandas\\core\\accessor.py\u001b[0m in \u001b[0;36m__get__\u001b[1;34m(self, obj, cls)\u001b[0m\n\u001b[0;32m    185\u001b[0m             \u001b[1;31m# we're accessing the attribute of the class, i.e., Dataset.geo\u001b[0m\u001b[1;33m\u001b[0m\u001b[1;33m\u001b[0m\u001b[1;33m\u001b[0m\u001b[0m\n\u001b[0;32m    186\u001b[0m             \u001b[1;32mreturn\u001b[0m \u001b[0mself\u001b[0m\u001b[1;33m.\u001b[0m\u001b[0m_accessor\u001b[0m\u001b[1;33m\u001b[0m\u001b[1;33m\u001b[0m\u001b[0m\n\u001b[1;32m--> 187\u001b[1;33m         \u001b[0maccessor_obj\u001b[0m \u001b[1;33m=\u001b[0m \u001b[0mself\u001b[0m\u001b[1;33m.\u001b[0m\u001b[0m_accessor\u001b[0m\u001b[1;33m(\u001b[0m\u001b[0mobj\u001b[0m\u001b[1;33m)\u001b[0m\u001b[1;33m\u001b[0m\u001b[1;33m\u001b[0m\u001b[0m\n\u001b[0m\u001b[0;32m    188\u001b[0m         \u001b[1;31m# Replace the property with the accessor object. Inspired by:\u001b[0m\u001b[1;33m\u001b[0m\u001b[1;33m\u001b[0m\u001b[1;33m\u001b[0m\u001b[0m\n\u001b[0;32m    189\u001b[0m         \u001b[1;31m# http://www.pydanny.com/cached-property.html\u001b[0m\u001b[1;33m\u001b[0m\u001b[1;33m\u001b[0m\u001b[1;33m\u001b[0m\u001b[0m\n",
      "\u001b[1;32m~\\anaconda3\\lib\\site-packages\\pandas\\core\\indexes\\accessors.py\u001b[0m in \u001b[0;36m__new__\u001b[1;34m(cls, data)\u001b[0m\n\u001b[0;32m    336\u001b[0m             \u001b[1;32mreturn\u001b[0m \u001b[0mDatetimeProperties\u001b[0m\u001b[1;33m(\u001b[0m\u001b[0mdata\u001b[0m\u001b[1;33m,\u001b[0m \u001b[0morig\u001b[0m\u001b[1;33m)\u001b[0m\u001b[1;33m\u001b[0m\u001b[1;33m\u001b[0m\u001b[0m\n\u001b[0;32m    337\u001b[0m \u001b[1;33m\u001b[0m\u001b[0m\n\u001b[1;32m--> 338\u001b[1;33m         \u001b[1;32mraise\u001b[0m \u001b[0mAttributeError\u001b[0m\u001b[1;33m(\u001b[0m\u001b[1;34m\"Can only use .dt accessor with datetimelike values\"\u001b[0m\u001b[1;33m)\u001b[0m\u001b[1;33m\u001b[0m\u001b[1;33m\u001b[0m\u001b[0m\n\u001b[0m",
      "\u001b[1;31mAttributeError\u001b[0m: Can only use .dt accessor with datetimelike values"
     ]
    }
   ],
   "source": [
    "df[['auth_date','amount']].groupby([df['auth_date'].dt.strftime('%Y%m')]).agg({'auth_date':['min','max']},{'amount':['sum']})"
   ]
  },
  {
   "cell_type": "code",
   "execution_count": null,
   "metadata": {},
   "outputs": [],
   "source": [
    "df[(df.amount>100) & (df.auth_date.dt.month==3)]"
   ]
  },
  {
   "cell_type": "markdown",
   "metadata": {},
   "source": [
    "This is how you test for duplicates"
   ]
  },
  {
   "cell_type": "code",
   "execution_count": null,
   "metadata": {},
   "outputs": [],
   "source": [
    "df[df.auth_id.duplicated(keep=False)]"
   ]
  },
  {
   "cell_type": "markdown",
   "metadata": {},
   "source": [
    "This is not the best way to test for duplicates, but can do the trick"
   ]
  },
  {
   "cell_type": "code",
   "execution_count": null,
   "metadata": {},
   "outputs": [],
   "source": [
    "df2= df.groupby([\"auth_id\"], as_index = False ).count()\n",
    "# If you dont include the as_index, the DF will have nested indexes, so to get the data use:\n",
    "# list= df2.index.get_level_values(1).tolist() \n",
    "\n",
    "df2[df2.auth_date>1]\n"
   ]
  },
  {
   "cell_type": "code",
   "execution_count": null,
   "metadata": {},
   "outputs": [],
   "source": [
    "df2.sort_values('auth_date', axis=0, ascending=False, inplace=True)\n",
    "df2[0:10]"
   ]
  },
  {
   "cell_type": "code",
   "execution_count": null,
   "metadata": {},
   "outputs": [],
   "source": [
    "df2.to_excel(\"./output/101_Output_Grouped.xlsx\", sheet_name='Grouped')"
   ]
  },
  {
   "cell_type": "code",
   "execution_count": null,
   "metadata": {},
   "outputs": [],
   "source": []
  },
  {
   "cell_type": "code",
   "execution_count": null,
   "metadata": {},
   "outputs": [],
   "source": []
  },
  {
   "cell_type": "code",
   "execution_count": null,
   "metadata": {},
   "outputs": [],
   "source": []
  }
 ],
 "metadata": {
  "kernelspec": {
   "display_name": "Python 3",
   "language": "python",
   "name": "python3"
  },
  "language_info": {
   "codemirror_mode": {
    "name": "ipython",
    "version": 3
   },
   "file_extension": ".py",
   "mimetype": "text/x-python",
   "name": "python",
   "nbconvert_exporter": "python",
   "pygments_lexer": "ipython3",
   "version": "3.8.3-final"
  }
 },
 "nbformat": 4,
 "nbformat_minor": 4
}