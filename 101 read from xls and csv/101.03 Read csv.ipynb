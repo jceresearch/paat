{
 "cells": [
  {
   "cell_type": "markdown",
   "metadata": {},
   "source": [
    "Load a simple file in CSV and process it with Pandas library"
   ]
  },
  {
   "cell_type": "code",
   "execution_count": 1,
   "metadata": {},
   "outputs": [
    {
     "output_type": "stream",
     "name": "stdout",
     "text": [
      "process started: 2021-03-20 13:50:29.642133\n"
     ]
    }
   ],
   "source": [
    "import pandas as pd \n",
    "import numpy as np\n",
    "from datetime import date,timedelta, datetime\n",
    "import re # Regular expression library \n",
    "import unicodedata # Used to downgrade unicode strings to ascii for cleaning up columns \n",
    "\n",
    "ts = datetime.now()\n",
    "print(\"process started:\", ts)"
   ]
  },
  {
   "cell_type": "code",
   "execution_count": 50,
   "metadata": {},
   "outputs": [
    {
     "output_type": "stream",
     "name": "stdout",
     "text": [
      "\u001b[31mtesting, this should be printed in colour red\u001b[0m\n\u001b[32mtesting, this should be printing in colour green\u001b[0m\n"
     ]
    }
   ],
   "source": [
    "#These are convenience functions to use when printing tests results\n",
    "def print_red(*args):\n",
    "    print(\"\\x1b[31m\"+\" \".join([str(x) for x in args])+\"\\x1b[0m\")\n",
    "def print_green(*args):\n",
    "    print(\"\\x1b[32m\"+\" \".join([str(x) for x in args])+\"\\x1b[0m\")\n",
    "print_red(\"testing, this should be printed in colour red\")\n",
    "print_green(\"testing, this should be printing in colour green\")"
   ]
  },
  {
   "cell_type": "code",
   "execution_count": 2,
   "metadata": {},
   "outputs": [],
   "source": [
    "folder_path=\"./output/\"\n",
    "save_to_excel_active=True\n",
    "\n",
    "#This convenience function is to make saving exceptions to excel much cleaner.\n",
    "\n",
    "def to_excel(df,name):\n",
    "    print(\"Will save to excel: \",folder_path+name+\".xlsx\")\n",
    "    print(\"Rows to save: \"+ str(df.shape[0]))\n",
    "    print(\"Columns to save: \"+ str(df.shape[1]))\n",
    "    if save_to_excel_active==True:\n",
    "        df.to_excel(folder_path + name + \".xlsx\", index=False,sheet_name=name, float_format=\"%.2f\")\n",
    "        print(\"Save completed\")\n",
    "    else:\n",
    "        print (\"Skipped saving\")\n",
    "    print(\"Timestamp completion: \", datetime.now())\n",
    "    "
   ]
  },
  {
   "cell_type": "code",
   "execution_count": 3,
   "metadata": {},
   "outputs": [],
   "source": [
    "df= pd.read_csv(\"./test_data/101_Demo_Data.csv\")"
   ]
  },
  {
   "cell_type": "code",
   "execution_count": 9,
   "metadata": {},
   "outputs": [
    {
     "output_type": "execute_result",
     "data": {
      "text/plain": [
       "(1708, 8)"
      ]
     },
     "metadata": {},
     "execution_count": 9
    }
   ],
   "source": [
    "df.shape #shows the number of columns and rows"
   ]
  },
  {
   "cell_type": "code",
   "execution_count": 5,
   "metadata": {},
   "outputs": [
    {
     "output_type": "execute_result",
     "data": {
      "text/plain": [
       "['Auth_ID',\n",
       " 'Date Authorisation',\n",
       " 'Cust ID',\n",
       " 'Amount',\n",
       " 'Date Procedure',\n",
       " 'Region',\n",
       " 'Vulnerable',\n",
       " 'Notes']"
      ]
     },
     "metadata": {},
     "execution_count": 5
    }
   ],
   "source": [
    "df.columns.to_list()"
   ]
  },
  {
   "cell_type": "markdown",
   "metadata": {},
   "source": [
    "We turn headers to lower case as python is case sensitive and it is better for consistency"
   ]
  },
  {
   "cell_type": "code",
   "execution_count": 6,
   "metadata": {},
   "outputs": [
    {
     "output_type": "stream",
     "name": "stdout",
     "text": [
      "Test accented: àéêöñ \tVarious symbols: £$%#*€#~!.,    \nEnd\ntest_accented_aeeon_various_symbols_end\n"
     ]
    },
    {
     "output_type": "execute_result",
     "data": {
      "text/plain": [
       "['one', 'two', 'three_and_a_half', 'one_2', 'one_3', 'o_n_e']"
      ]
     },
     "metadata": {},
     "execution_count": 6
    }
   ],
   "source": [
    "import re\n",
    "import unicodedata \n",
    "def clean_string(s):\n",
    "    # this is a fairly aggressive cleanup function, which also may be slow as it uses unicode checks and regular expression\n",
    "    # if you are going to apply something like this to a large dataset you need to consider simpler and faster approaches\n",
    "    s=unicodedata.normalize('NFKD', s).encode('ascii','ignore').decode(\"utf-8\") # we convert unicode to a standard ascii\n",
    "    s=s.lower()\n",
    "    s=re.sub('[^a-z0-9 ]',\" \",s) # Replace non letters/digits by space\n",
    "    s=re.sub(' +',\"_\",s) # replace any space by underscore, multiple spaces collapsed\n",
    "    s=re.sub(\"_$\",\"\",s) # last trailing space/underscore trimmed\n",
    "    s=s.strip() # trim any space \n",
    "    return s\n",
    "test_string=\"Test accented: àéêöñ \\tVarious symbols: £$%#*€#~!.,    \\nEnd\"\n",
    "print(test_string)\n",
    "print(clean_string(test_string))\n",
    "\n",
    "def clean_list(l):\n",
    "    # apply the clean_string to a list, but checking that it doesnt create duplicate elements in the process\n",
    "    # you may want to make this function customisable by having the duplicate check optional or applying some\n",
    "    # other technique to deal with duplicates\n",
    "\n",
    "    l_clean =[clean_string(x) for x in l]\n",
    "    l_clean_no_dupes=[]\n",
    "    for e in l_clean:\n",
    "        if not (e in l_clean_no_dupes):\n",
    "            l_clean_no_dupes.append(e)\n",
    "        else:\n",
    "            n=2\n",
    "            new_e= e +\"_\"+ str(n)\n",
    "            while new_e in l_clean_no_dupes:\n",
    "                n=n+1\n",
    "                new_e=e+\"_\"+str(n)\n",
    "                if n>100000:\n",
    "                    raise Exception(\"Sorry, too long trying to find a non duplicated name\")\n",
    "            l_clean_no_dupes.append(new_e)\n",
    "    return l_clean_no_dupes\n",
    "clean_list([\"one\",\"Two\",\"Three and a half\",\"One\",\"Oñe\",\"O N E\"])\n"
   ]
  },
  {
   "cell_type": "code",
   "execution_count": 7,
   "metadata": {},
   "outputs": [
    {
     "output_type": "execute_result",
     "data": {
      "text/plain": [
       "   auth_id date_authorisation  cust_id  amount date_procedure  region  \\\n",
       "0  9000001         19/05/2020     3710    9.11     12/06/2020  London   \n",
       "1  9000002         19/05/2020     3378   11.65     21/07/2020    West   \n",
       "2  9000003         19/05/2020     1963   13.52     21/06/2020    West   \n",
       "3  9000004         19/05/2020     3565   77.57     23/05/2020    East   \n",
       "4  9000005         19/05/2020     2249   21.37     26/07/2020    East   \n",
       "5  9000006         19/05/2020     1669   12.60     26/07/2020   South   \n",
       "6  9000007         19/05/2020     1589   26.89     11/06/2020    East   \n",
       "7  9000008         19/05/2020     1596   43.98     16/06/2020    West   \n",
       "8  9000009         19/05/2020     3507    6.09     06/08/2020   North   \n",
       "9  9000010         19/05/2020     2543   11.36     27/06/2020   South   \n",
       "\n",
       "  vulnerable                                              notes  \n",
       "0      False  Test of delimiter, this should be kept all tog...  \n",
       "1      False                                                NaN  \n",
       "2      False                                                NaN  \n",
       "3      False                                                NaN  \n",
       "4      False                         Customer may be vulnerable  \n",
       "5      False                                                NaN  \n",
       "6      False                                                NaN  \n",
       "7      False                                                NaN  \n",
       "8      False                                                NaN  \n",
       "9      False                                                NaN  "
      ],
      "text/html": "<div>\n<style scoped>\n    .dataframe tbody tr th:only-of-type {\n        vertical-align: middle;\n    }\n\n    .dataframe tbody tr th {\n        vertical-align: top;\n    }\n\n    .dataframe thead th {\n        text-align: right;\n    }\n</style>\n<table border=\"1\" class=\"dataframe\">\n  <thead>\n    <tr style=\"text-align: right;\">\n      <th></th>\n      <th>auth_id</th>\n      <th>date_authorisation</th>\n      <th>cust_id</th>\n      <th>amount</th>\n      <th>date_procedure</th>\n      <th>region</th>\n      <th>vulnerable</th>\n      <th>notes</th>\n    </tr>\n  </thead>\n  <tbody>\n    <tr>\n      <th>0</th>\n      <td>9000001</td>\n      <td>19/05/2020</td>\n      <td>3710</td>\n      <td>9.11</td>\n      <td>12/06/2020</td>\n      <td>London</td>\n      <td>False</td>\n      <td>Test of delimiter, this should be kept all tog...</td>\n    </tr>\n    <tr>\n      <th>1</th>\n      <td>9000002</td>\n      <td>19/05/2020</td>\n      <td>3378</td>\n      <td>11.65</td>\n      <td>21/07/2020</td>\n      <td>West</td>\n      <td>False</td>\n      <td>NaN</td>\n    </tr>\n    <tr>\n      <th>2</th>\n      <td>9000003</td>\n      <td>19/05/2020</td>\n      <td>1963</td>\n      <td>13.52</td>\n      <td>21/06/2020</td>\n      <td>West</td>\n      <td>False</td>\n      <td>NaN</td>\n    </tr>\n    <tr>\n      <th>3</th>\n      <td>9000004</td>\n      <td>19/05/2020</td>\n      <td>3565</td>\n      <td>77.57</td>\n      <td>23/05/2020</td>\n      <td>East</td>\n      <td>False</td>\n      <td>NaN</td>\n    </tr>\n    <tr>\n      <th>4</th>\n      <td>9000005</td>\n      <td>19/05/2020</td>\n      <td>2249</td>\n      <td>21.37</td>\n      <td>26/07/2020</td>\n      <td>East</td>\n      <td>False</td>\n      <td>Customer may be vulnerable</td>\n    </tr>\n    <tr>\n      <th>5</th>\n      <td>9000006</td>\n      <td>19/05/2020</td>\n      <td>1669</td>\n      <td>12.60</td>\n      <td>26/07/2020</td>\n      <td>South</td>\n      <td>False</td>\n      <td>NaN</td>\n    </tr>\n    <tr>\n      <th>6</th>\n      <td>9000007</td>\n      <td>19/05/2020</td>\n      <td>1589</td>\n      <td>26.89</td>\n      <td>11/06/2020</td>\n      <td>East</td>\n      <td>False</td>\n      <td>NaN</td>\n    </tr>\n    <tr>\n      <th>7</th>\n      <td>9000008</td>\n      <td>19/05/2020</td>\n      <td>1596</td>\n      <td>43.98</td>\n      <td>16/06/2020</td>\n      <td>West</td>\n      <td>False</td>\n      <td>NaN</td>\n    </tr>\n    <tr>\n      <th>8</th>\n      <td>9000009</td>\n      <td>19/05/2020</td>\n      <td>3507</td>\n      <td>6.09</td>\n      <td>06/08/2020</td>\n      <td>North</td>\n      <td>False</td>\n      <td>NaN</td>\n    </tr>\n    <tr>\n      <th>9</th>\n      <td>9000010</td>\n      <td>19/05/2020</td>\n      <td>2543</td>\n      <td>11.36</td>\n      <td>27/06/2020</td>\n      <td>South</td>\n      <td>False</td>\n      <td>NaN</td>\n    </tr>\n  </tbody>\n</table>\n</div>"
     },
     "metadata": {},
     "execution_count": 7
    }
   ],
   "source": [
    "df.columns=clean_list(df.columns.to_list())\n",
    "df[0:10]"
   ]
  },
  {
   "cell_type": "markdown",
   "metadata": {},
   "source": [
    "we remove spurious characters from the title"
   ]
  },
  {
   "cell_type": "code",
   "execution_count": 8,
   "metadata": {},
   "outputs": [
    {
     "data": {
      "text/plain": [
       "auth_id                                                         9000001\n",
       "date_authorisation                                           19/05/2020\n",
       "cust_id                                                            3710\n",
       "amount                                                             9.11\n",
       "date_procedure                                               12/06/2020\n",
       "region                                                           London\n",
       "vulnerable                                                        False\n",
       "notes                 Test of delimiter, this should be kept all tog...\n",
       "Name: 0, dtype: object"
      ]
     },
     "execution_count": 8,
     "metadata": {},
     "output_type": "execute_result"
    }
   ],
   "source": [
    "df.iloc[0] #this is how we list one particular record based on the index"
   ]
  },
  {
   "cell_type": "markdown",
   "metadata": {},
   "source": [
    "This is the simpler way, we just set a new row of titles"
   ]
  },
  {
   "cell_type": "code",
   "execution_count": 10,
   "metadata": {},
   "outputs": [
    {
     "data": {
      "text/html": [
       "<div>\n",
       "<style scoped>\n",
       "    .dataframe tbody tr th:only-of-type {\n",
       "        vertical-align: middle;\n",
       "    }\n",
       "\n",
       "    .dataframe tbody tr th {\n",
       "        vertical-align: top;\n",
       "    }\n",
       "\n",
       "    .dataframe thead th {\n",
       "        text-align: right;\n",
       "    }\n",
       "</style>\n",
       "<table border=\"1\" class=\"dataframe\">\n",
       "  <thead>\n",
       "    <tr style=\"text-align: right;\">\n",
       "      <th></th>\n",
       "      <th>auth_id</th>\n",
       "      <th>date</th>\n",
       "      <th>customer_id</th>\n",
       "      <th>amount</th>\n",
       "      <th>date_claim</th>\n",
       "      <th>region</th>\n",
       "      <th>vulnerable_customer</th>\n",
       "      <th>notes</th>\n",
       "    </tr>\n",
       "  </thead>\n",
       "  <tbody>\n",
       "    <tr>\n",
       "      <th>0</th>\n",
       "      <td>9000001</td>\n",
       "      <td>19/05/2020</td>\n",
       "      <td>3710</td>\n",
       "      <td>9.11</td>\n",
       "      <td>12/06/2020</td>\n",
       "      <td>London</td>\n",
       "      <td>False</td>\n",
       "      <td>Test of delimiter, this should be kept all tog...</td>\n",
       "    </tr>\n",
       "    <tr>\n",
       "      <th>1</th>\n",
       "      <td>9000002</td>\n",
       "      <td>19/05/2020</td>\n",
       "      <td>3378</td>\n",
       "      <td>11.65</td>\n",
       "      <td>21/07/2020</td>\n",
       "      <td>West</td>\n",
       "      <td>False</td>\n",
       "      <td>NaN</td>\n",
       "    </tr>\n",
       "    <tr>\n",
       "      <th>2</th>\n",
       "      <td>9000003</td>\n",
       "      <td>19/05/2020</td>\n",
       "      <td>1963</td>\n",
       "      <td>13.52</td>\n",
       "      <td>21/06/2020</td>\n",
       "      <td>West</td>\n",
       "      <td>False</td>\n",
       "      <td>NaN</td>\n",
       "    </tr>\n",
       "    <tr>\n",
       "      <th>3</th>\n",
       "      <td>9000004</td>\n",
       "      <td>19/05/2020</td>\n",
       "      <td>3565</td>\n",
       "      <td>77.57</td>\n",
       "      <td>23/05/2020</td>\n",
       "      <td>East</td>\n",
       "      <td>False</td>\n",
       "      <td>NaN</td>\n",
       "    </tr>\n",
       "    <tr>\n",
       "      <th>4</th>\n",
       "      <td>9000005</td>\n",
       "      <td>19/05/2020</td>\n",
       "      <td>2249</td>\n",
       "      <td>21.37</td>\n",
       "      <td>26/07/2020</td>\n",
       "      <td>East</td>\n",
       "      <td>False</td>\n",
       "      <td>Customer may be vulnerable</td>\n",
       "    </tr>\n",
       "  </tbody>\n",
       "</table>\n",
       "</div>"
      ],
      "text/plain": [
       "   auth_id        date  customer_id  amount  date_claim  region  \\\n",
       "0  9000001  19/05/2020         3710    9.11  12/06/2020  London   \n",
       "1  9000002  19/05/2020         3378   11.65  21/07/2020    West   \n",
       "2  9000003  19/05/2020         1963   13.52  21/06/2020    West   \n",
       "3  9000004  19/05/2020         3565   77.57  23/05/2020    East   \n",
       "4  9000005  19/05/2020         2249   21.37  26/07/2020    East   \n",
       "\n",
       "  vulnerable_customer                                              notes  \n",
       "0               False  Test of delimiter, this should be kept all tog...  \n",
       "1               False                                                NaN  \n",
       "2               False                                                NaN  \n",
       "3               False                                                NaN  \n",
       "4               False                         Customer may be vulnerable  "
      ]
     },
     "execution_count": 10,
     "metadata": {},
     "output_type": "execute_result"
    }
   ],
   "source": [
    "new_cols = ['auth_id', \n",
    "            'date', \n",
    "            'customer_id',\n",
    "           'amount',\n",
    "           'date_claim',\n",
    "           'region',\n",
    "           'vulnerable_customer',\n",
    "           'notes']\n",
    "df.columns = new_cols\n",
    "\n",
    "df.head() #this is a convenient way of showing the first 5 records"
   ]
  },
  {
   "cell_type": "markdown",
   "metadata": {},
   "source": [
    "Yet another way of renaming dataframe columns, the inplace=True is used in Pandas to avoid having to assign the result to a dataframe, e.g. df= df.rename(.....)"
   ]
  },
  {
   "cell_type": "code",
   "execution_count": 11,
   "metadata": {},
   "outputs": [
    {
     "data": {
      "text/html": [
       "<div>\n",
       "<style scoped>\n",
       "    .dataframe tbody tr th:only-of-type {\n",
       "        vertical-align: middle;\n",
       "    }\n",
       "\n",
       "    .dataframe tbody tr th {\n",
       "        vertical-align: top;\n",
       "    }\n",
       "\n",
       "    .dataframe thead th {\n",
       "        text-align: right;\n",
       "    }\n",
       "</style>\n",
       "<table border=\"1\" class=\"dataframe\">\n",
       "  <thead>\n",
       "    <tr style=\"text-align: right;\">\n",
       "      <th></th>\n",
       "      <th>auth_id</th>\n",
       "      <th>date_auth</th>\n",
       "      <th>customer_id</th>\n",
       "      <th>amount</th>\n",
       "      <th>date_claim</th>\n",
       "      <th>region</th>\n",
       "      <th>vulnerable_customer</th>\n",
       "      <th>notes</th>\n",
       "    </tr>\n",
       "  </thead>\n",
       "  <tbody>\n",
       "    <tr>\n",
       "      <th>1703</th>\n",
       "      <td>9001701</td>\n",
       "      <td>14/08/2020</td>\n",
       "      <td>2212</td>\n",
       "      <td>37.38</td>\n",
       "      <td>NaN</td>\n",
       "      <td>East</td>\n",
       "      <td>False</td>\n",
       "      <td>NaN</td>\n",
       "    </tr>\n",
       "    <tr>\n",
       "      <th>1704</th>\n",
       "      <td>9001702</td>\n",
       "      <td>14/08/2020</td>\n",
       "      <td>1187</td>\n",
       "      <td>-7.79</td>\n",
       "      <td>NaN</td>\n",
       "      <td>London</td>\n",
       "      <td>False</td>\n",
       "      <td>NaN</td>\n",
       "    </tr>\n",
       "    <tr>\n",
       "      <th>1705</th>\n",
       "      <td>9001703</td>\n",
       "      <td>14/08/2020</td>\n",
       "      <td>2076</td>\n",
       "      <td>-13.82</td>\n",
       "      <td>NaN</td>\n",
       "      <td>East</td>\n",
       "      <td>False</td>\n",
       "      <td>NaN</td>\n",
       "    </tr>\n",
       "    <tr>\n",
       "      <th>1706</th>\n",
       "      <td>9001704</td>\n",
       "      <td>14/08/2020</td>\n",
       "      <td>2380</td>\n",
       "      <td>39.62</td>\n",
       "      <td>NaN</td>\n",
       "      <td>West</td>\n",
       "      <td>False</td>\n",
       "      <td>NaN</td>\n",
       "    </tr>\n",
       "    <tr>\n",
       "      <th>1707</th>\n",
       "      <td>9001705</td>\n",
       "      <td>14/08/2020</td>\n",
       "      <td>3980</td>\n",
       "      <td>10.56</td>\n",
       "      <td>30/08/2020</td>\n",
       "      <td>South</td>\n",
       "      <td>False</td>\n",
       "      <td>NaN</td>\n",
       "    </tr>\n",
       "  </tbody>\n",
       "</table>\n",
       "</div>"
      ],
      "text/plain": [
       "      auth_id   date_auth  customer_id  amount  date_claim  region  \\\n",
       "1703  9001701  14/08/2020         2212   37.38         NaN    East   \n",
       "1704  9001702  14/08/2020         1187   -7.79         NaN  London   \n",
       "1705  9001703  14/08/2020         2076  -13.82         NaN    East   \n",
       "1706  9001704  14/08/2020         2380   39.62         NaN    West   \n",
       "1707  9001705  14/08/2020         3980   10.56  30/08/2020   South   \n",
       "\n",
       "     vulnerable_customer notes  \n",
       "1703               False   NaN  \n",
       "1704               False   NaN  \n",
       "1705               False   NaN  \n",
       "1706               False   NaN  \n",
       "1707               False   NaN  "
      ]
     },
     "execution_count": 11,
     "metadata": {},
     "output_type": "execute_result"
    }
   ],
   "source": [
    "df.rename(columns = {'date':'date_auth'},inplace = True)\n",
    "\n",
    "df.tail() #shows the last 5 records"
   ]
  },
  {
   "cell_type": "code",
   "execution_count": 12,
   "metadata": {},
   "outputs": [
    {
     "data": {
      "text/plain": [
       "auth_id                  int64\n",
       "date_auth               object\n",
       "customer_id              int64\n",
       "amount                 float64\n",
       "date_claim              object\n",
       "region                  object\n",
       "vulnerable_customer     object\n",
       "notes                   object\n",
       "dtype: object"
      ]
     },
     "execution_count": 12,
     "metadata": {},
     "output_type": "execute_result"
    }
   ],
   "source": [
    "df.dtypes"
   ]
  },
  {
   "cell_type": "code",
   "execution_count": 13,
   "metadata": {},
   "outputs": [
    {
     "name": "stdout",
     "output_type": "stream",
     "text": [
      "date_auth\n",
      "date_claim\n"
     ]
    },
    {
     "data": {
      "text/plain": [
       "auth_id                         int64\n",
       "date_auth              datetime64[ns]\n",
       "customer_id                     int64\n",
       "amount                        float64\n",
       "date_claim             datetime64[ns]\n",
       "region                         object\n",
       "vulnerable_customer            object\n",
       "notes                          object\n",
       "dtype: object"
      ]
     },
     "execution_count": 13,
     "metadata": {},
     "output_type": "execute_result"
    }
   ],
   "source": [
    "for col in df.columns.to_list():\n",
    "    if col[0:4]==\"date\":#\n",
    "        print(col)\n",
    "        df[col]=pd.to_datetime(df[col],format='%d/%m/%Y')\n",
    "df.dtypes\n"
   ]
  },
  {
   "cell_type": "code",
   "execution_count": null,
   "metadata": {},
   "outputs": [],
   "source": []
  },
  {
   "cell_type": "code",
   "execution_count": 14,
   "metadata": {},
   "outputs": [
    {
     "data": {
      "text/html": [
       "<div>\n",
       "<style scoped>\n",
       "    .dataframe tbody tr th:only-of-type {\n",
       "        vertical-align: middle;\n",
       "    }\n",
       "\n",
       "    .dataframe tbody tr th {\n",
       "        vertical-align: top;\n",
       "    }\n",
       "\n",
       "    .dataframe thead th {\n",
       "        text-align: right;\n",
       "    }\n",
       "</style>\n",
       "<table border=\"1\" class=\"dataframe\">\n",
       "  <thead>\n",
       "    <tr style=\"text-align: right;\">\n",
       "      <th></th>\n",
       "      <th>auth_id</th>\n",
       "      <th>date_auth</th>\n",
       "      <th>customer_id</th>\n",
       "      <th>amount</th>\n",
       "      <th>date_claim</th>\n",
       "      <th>region</th>\n",
       "      <th>vulnerable_customer</th>\n",
       "      <th>notes</th>\n",
       "    </tr>\n",
       "  </thead>\n",
       "  <tbody>\n",
       "    <tr>\n",
       "      <th>1705</th>\n",
       "      <td>9001703</td>\n",
       "      <td>2020-08-14</td>\n",
       "      <td>2076</td>\n",
       "      <td>-13.82</td>\n",
       "      <td>NaT</td>\n",
       "      <td>East</td>\n",
       "      <td>False</td>\n",
       "      <td>NaN</td>\n",
       "    </tr>\n",
       "  </tbody>\n",
       "</table>\n",
       "</div>"
      ],
      "text/plain": [
       "      auth_id  date_auth  customer_id  amount date_claim region  \\\n",
       "1705  9001703 2020-08-14         2076  -13.82        NaT   East   \n",
       "\n",
       "     vulnerable_customer notes  \n",
       "1705               False   NaN  "
      ]
     },
     "execution_count": 14,
     "metadata": {},
     "output_type": "execute_result"
    }
   ],
   "source": [
    "df[df[\"auth_id\"]==9001703]"
   ]
  },
  {
   "cell_type": "code",
   "execution_count": 15,
   "metadata": {},
   "outputs": [
    {
     "data": {
      "text/html": [
       "<div>\n",
       "<style scoped>\n",
       "    .dataframe tbody tr th:only-of-type {\n",
       "        vertical-align: middle;\n",
       "    }\n",
       "\n",
       "    .dataframe tbody tr th {\n",
       "        vertical-align: top;\n",
       "    }\n",
       "\n",
       "    .dataframe thead th {\n",
       "        text-align: right;\n",
       "    }\n",
       "</style>\n",
       "<table border=\"1\" class=\"dataframe\">\n",
       "  <thead>\n",
       "    <tr style=\"text-align: right;\">\n",
       "      <th></th>\n",
       "      <th>auth_id</th>\n",
       "      <th>date_auth</th>\n",
       "      <th>customer_id</th>\n",
       "      <th>amount</th>\n",
       "      <th>date_claim</th>\n",
       "      <th>region</th>\n",
       "      <th>vulnerable_customer</th>\n",
       "      <th>notes</th>\n",
       "    </tr>\n",
       "  </thead>\n",
       "  <tbody>\n",
       "    <tr>\n",
       "      <th>1707</th>\n",
       "      <td>9001705</td>\n",
       "      <td>2020-08-14</td>\n",
       "      <td>3980</td>\n",
       "      <td>10.56</td>\n",
       "      <td>2020-08-30</td>\n",
       "      <td>South</td>\n",
       "      <td>False</td>\n",
       "      <td>NaN</td>\n",
       "    </tr>\n",
       "    <tr>\n",
       "      <th>1701</th>\n",
       "      <td>9001699</td>\n",
       "      <td>2020-08-14</td>\n",
       "      <td>1072</td>\n",
       "      <td>20.04</td>\n",
       "      <td>NaT</td>\n",
       "      <td>South</td>\n",
       "      <td>False</td>\n",
       "      <td>NaN</td>\n",
       "    </tr>\n",
       "    <tr>\n",
       "      <th>1695</th>\n",
       "      <td>9001693</td>\n",
       "      <td>2020-08-14</td>\n",
       "      <td>2368</td>\n",
       "      <td>64.27</td>\n",
       "      <td>2020-10-20</td>\n",
       "      <td>North</td>\n",
       "      <td>False</td>\n",
       "      <td>NaN</td>\n",
       "    </tr>\n",
       "    <tr>\n",
       "      <th>1696</th>\n",
       "      <td>9001694</td>\n",
       "      <td>2020-08-14</td>\n",
       "      <td>3583</td>\n",
       "      <td>-14.66</td>\n",
       "      <td>2020-09-21</td>\n",
       "      <td>East</td>\n",
       "      <td>False</td>\n",
       "      <td>NaN</td>\n",
       "    </tr>\n",
       "    <tr>\n",
       "      <th>1698</th>\n",
       "      <td>9001696</td>\n",
       "      <td>2020-08-14</td>\n",
       "      <td>2508</td>\n",
       "      <td>-28.21</td>\n",
       "      <td>2020-08-19</td>\n",
       "      <td>West</td>\n",
       "      <td>False</td>\n",
       "      <td>NaN</td>\n",
       "    </tr>\n",
       "    <tr>\n",
       "      <th>1699</th>\n",
       "      <td>9001697</td>\n",
       "      <td>2020-08-14</td>\n",
       "      <td>3441</td>\n",
       "      <td>12.01</td>\n",
       "      <td>NaT</td>\n",
       "      <td>West</td>\n",
       "      <td>False</td>\n",
       "      <td>NaN</td>\n",
       "    </tr>\n",
       "    <tr>\n",
       "      <th>1700</th>\n",
       "      <td>9001698</td>\n",
       "      <td>2020-08-14</td>\n",
       "      <td>2284</td>\n",
       "      <td>5.37</td>\n",
       "      <td>2020-10-20</td>\n",
       "      <td>North</td>\n",
       "      <td>False</td>\n",
       "      <td>NaN</td>\n",
       "    </tr>\n",
       "    <tr>\n",
       "      <th>1697</th>\n",
       "      <td>9001695</td>\n",
       "      <td>2020-08-14</td>\n",
       "      <td>3914</td>\n",
       "      <td>72.66</td>\n",
       "      <td>2020-11-09</td>\n",
       "      <td>London</td>\n",
       "      <td>False</td>\n",
       "      <td>NaN</td>\n",
       "    </tr>\n",
       "    <tr>\n",
       "      <th>1702</th>\n",
       "      <td>9001700</td>\n",
       "      <td>2020-08-14</td>\n",
       "      <td>3758</td>\n",
       "      <td>45.89</td>\n",
       "      <td>NaT</td>\n",
       "      <td>East</td>\n",
       "      <td>False</td>\n",
       "      <td>NaN</td>\n",
       "    </tr>\n",
       "    <tr>\n",
       "      <th>1703</th>\n",
       "      <td>9001701</td>\n",
       "      <td>2020-08-14</td>\n",
       "      <td>2212</td>\n",
       "      <td>37.38</td>\n",
       "      <td>NaT</td>\n",
       "      <td>East</td>\n",
       "      <td>False</td>\n",
       "      <td>NaN</td>\n",
       "    </tr>\n",
       "  </tbody>\n",
       "</table>\n",
       "</div>"
      ],
      "text/plain": [
       "      auth_id  date_auth  customer_id  amount date_claim  region  \\\n",
       "1707  9001705 2020-08-14         3980   10.56 2020-08-30   South   \n",
       "1701  9001699 2020-08-14         1072   20.04        NaT   South   \n",
       "1695  9001693 2020-08-14         2368   64.27 2020-10-20   North   \n",
       "1696  9001694 2020-08-14         3583  -14.66 2020-09-21    East   \n",
       "1698  9001696 2020-08-14         2508  -28.21 2020-08-19    West   \n",
       "1699  9001697 2020-08-14         3441   12.01        NaT    West   \n",
       "1700  9001698 2020-08-14         2284    5.37 2020-10-20   North   \n",
       "1697  9001695 2020-08-14         3914   72.66 2020-11-09  London   \n",
       "1702  9001700 2020-08-14         3758   45.89        NaT    East   \n",
       "1703  9001701 2020-08-14         2212   37.38        NaT    East   \n",
       "\n",
       "     vulnerable_customer notes  \n",
       "1707               False   NaN  \n",
       "1701               False   NaN  \n",
       "1695               False   NaN  \n",
       "1696               False   NaN  \n",
       "1698               False   NaN  \n",
       "1699               False   NaN  \n",
       "1700               False   NaN  \n",
       "1697               False   NaN  \n",
       "1702               False   NaN  \n",
       "1703               False   NaN  "
      ]
     },
     "execution_count": 15,
     "metadata": {},
     "output_type": "execute_result"
    }
   ],
   "source": [
    "\n",
    "df.sort_values('date_auth', axis=0, ascending=False, inplace=True)\n",
    "df[0:10]"
   ]
  },
  {
   "cell_type": "markdown",
   "metadata": {},
   "source": [
    "This is an obscure way of defining the column names for the aggregation, you can add lambda functions there"
   ]
  },
  {
   "cell_type": "code",
   "execution_count": 16,
   "metadata": {},
   "outputs": [
    {
     "data": {
      "text/html": [
       "<div>\n",
       "<style scoped>\n",
       "    .dataframe tbody tr th:only-of-type {\n",
       "        vertical-align: middle;\n",
       "    }\n",
       "\n",
       "    .dataframe tbody tr th {\n",
       "        vertical-align: top;\n",
       "    }\n",
       "\n",
       "    .dataframe thead th {\n",
       "        text-align: right;\n",
       "    }\n",
       "</style>\n",
       "<table border=\"1\" class=\"dataframe\">\n",
       "  <thead>\n",
       "    <tr style=\"text-align: right;\">\n",
       "      <th></th>\n",
       "      <th>min_date</th>\n",
       "      <th>max_date</th>\n",
       "      <th>total</th>\n",
       "    </tr>\n",
       "    <tr>\n",
       "      <th>date_auth</th>\n",
       "      <th></th>\n",
       "      <th></th>\n",
       "      <th></th>\n",
       "    </tr>\n",
       "  </thead>\n",
       "  <tbody>\n",
       "    <tr>\n",
       "      <th>202005</th>\n",
       "      <td>2020-05-19</td>\n",
       "      <td>2020-05-31</td>\n",
       "      <td>6967.56</td>\n",
       "    </tr>\n",
       "    <tr>\n",
       "      <th>202006</th>\n",
       "      <td>2020-06-01</td>\n",
       "      <td>2020-06-30</td>\n",
       "      <td>17785.36</td>\n",
       "    </tr>\n",
       "    <tr>\n",
       "      <th>202007</th>\n",
       "      <td>2020-07-01</td>\n",
       "      <td>2020-07-31</td>\n",
       "      <td>18434.82</td>\n",
       "    </tr>\n",
       "    <tr>\n",
       "      <th>202008</th>\n",
       "      <td>2020-08-01</td>\n",
       "      <td>2020-08-14</td>\n",
       "      <td>7799.80</td>\n",
       "    </tr>\n",
       "  </tbody>\n",
       "</table>\n",
       "</div>"
      ],
      "text/plain": [
       "            min_date   max_date     total\n",
       "date_auth                                \n",
       "202005    2020-05-19 2020-05-31   6967.56\n",
       "202006    2020-06-01 2020-06-30  17785.36\n",
       "202007    2020-07-01 2020-07-31  18434.82\n",
       "202008    2020-08-01 2020-08-14   7799.80"
      ]
     },
     "execution_count": 16,
     "metadata": {},
     "output_type": "execute_result"
    }
   ],
   "source": [
    "df[['date_auth','amount']].groupby([df['date_auth'].dt.strftime('%Y%m')]).agg(min_date=('date_auth','min'),max_date=(\"date_auth\",'max'),total=('amount','sum'))"
   ]
  },
  {
   "cell_type": "code",
   "execution_count": 17,
   "metadata": {},
   "outputs": [
    {
     "data": {
      "text/html": [
       "<div>\n",
       "<style scoped>\n",
       "    .dataframe tbody tr th:only-of-type {\n",
       "        vertical-align: middle;\n",
       "    }\n",
       "\n",
       "    .dataframe tbody tr th {\n",
       "        vertical-align: top;\n",
       "    }\n",
       "\n",
       "    .dataframe thead th {\n",
       "        text-align: right;\n",
       "    }\n",
       "</style>\n",
       "<table border=\"1\" class=\"dataframe\">\n",
       "  <thead>\n",
       "    <tr style=\"text-align: right;\">\n",
       "      <th></th>\n",
       "      <th>auth_id</th>\n",
       "      <th>date_auth</th>\n",
       "      <th>customer_id</th>\n",
       "      <th>amount</th>\n",
       "      <th>date_claim</th>\n",
       "      <th>region</th>\n",
       "      <th>vulnerable_customer</th>\n",
       "      <th>notes</th>\n",
       "    </tr>\n",
       "  </thead>\n",
       "  <tbody>\n",
       "    <tr>\n",
       "      <th>206</th>\n",
       "      <td>9000207</td>\n",
       "      <td>2020-05-29</td>\n",
       "      <td>2398</td>\n",
       "      <td>104.12</td>\n",
       "      <td>2020-09-03</td>\n",
       "      <td>East</td>\n",
       "      <td>False</td>\n",
       "      <td>NaN</td>\n",
       "    </tr>\n",
       "    <tr>\n",
       "      <th>185</th>\n",
       "      <td>9000186</td>\n",
       "      <td>2020-05-28</td>\n",
       "      <td>1301</td>\n",
       "      <td>100.34</td>\n",
       "      <td>NaT</td>\n",
       "      <td>East</td>\n",
       "      <td>False</td>\n",
       "      <td>NaN</td>\n",
       "    </tr>\n",
       "  </tbody>\n",
       "</table>\n",
       "</div>"
      ],
      "text/plain": [
       "     auth_id  date_auth  customer_id  amount date_claim region  \\\n",
       "206  9000207 2020-05-29         2398  104.12 2020-09-03   East   \n",
       "185  9000186 2020-05-28         1301  100.34        NaT   East   \n",
       "\n",
       "    vulnerable_customer notes  \n",
       "206               False   NaN  \n",
       "185               False   NaN  "
      ]
     },
     "execution_count": 17,
     "metadata": {},
     "output_type": "execute_result"
    }
   ],
   "source": [
    "df[(df.amount>100) & (df.date_auth.dt.month==5)]"
   ]
  },
  {
   "cell_type": "markdown",
   "metadata": {},
   "source": [
    "This is how you test for duplicates"
   ]
  },
  {
   "cell_type": "code",
   "execution_count": 18,
   "metadata": {},
   "outputs": [
    {
     "data": {
      "text/html": [
       "<div>\n",
       "<style scoped>\n",
       "    .dataframe tbody tr th:only-of-type {\n",
       "        vertical-align: middle;\n",
       "    }\n",
       "\n",
       "    .dataframe tbody tr th {\n",
       "        vertical-align: top;\n",
       "    }\n",
       "\n",
       "    .dataframe thead th {\n",
       "        text-align: right;\n",
       "    }\n",
       "</style>\n",
       "<table border=\"1\" class=\"dataframe\">\n",
       "  <thead>\n",
       "    <tr style=\"text-align: right;\">\n",
       "      <th></th>\n",
       "      <th>auth_id</th>\n",
       "      <th>date_auth</th>\n",
       "      <th>customer_id</th>\n",
       "      <th>amount</th>\n",
       "      <th>date_claim</th>\n",
       "      <th>region</th>\n",
       "      <th>vulnerable_customer</th>\n",
       "      <th>notes</th>\n",
       "    </tr>\n",
       "  </thead>\n",
       "  <tbody>\n",
       "    <tr>\n",
       "      <th>570</th>\n",
       "      <td>9000569</td>\n",
       "      <td>2020-06-17</td>\n",
       "      <td>3869</td>\n",
       "      <td>30.62</td>\n",
       "      <td>2020-07-13</td>\n",
       "      <td>East</td>\n",
       "      <td>False</td>\n",
       "      <td>NaN</td>\n",
       "    </tr>\n",
       "    <tr>\n",
       "      <th>571</th>\n",
       "      <td>9000569</td>\n",
       "      <td>2020-06-17</td>\n",
       "      <td>1121</td>\n",
       "      <td>-30.62</td>\n",
       "      <td>2020-09-11</td>\n",
       "      <td>East</td>\n",
       "      <td>False</td>\n",
       "      <td>NaN</td>\n",
       "    </tr>\n",
       "    <tr>\n",
       "      <th>404</th>\n",
       "      <td>9000403</td>\n",
       "      <td>2020-06-09</td>\n",
       "      <td>2436</td>\n",
       "      <td>10.70</td>\n",
       "      <td>2020-08-03</td>\n",
       "      <td>South</td>\n",
       "      <td>False</td>\n",
       "      <td>NaN</td>\n",
       "    </tr>\n",
       "    <tr>\n",
       "      <th>403</th>\n",
       "      <td>9000403</td>\n",
       "      <td>2020-06-09</td>\n",
       "      <td>1420</td>\n",
       "      <td>10.70</td>\n",
       "      <td>2020-07-13</td>\n",
       "      <td>South</td>\n",
       "      <td>False</td>\n",
       "      <td>NaN</td>\n",
       "    </tr>\n",
       "    <tr>\n",
       "      <th>333</th>\n",
       "      <td>9000333</td>\n",
       "      <td>2020-06-05</td>\n",
       "      <td>3050</td>\n",
       "      <td>24.31</td>\n",
       "      <td>2020-08-14</td>\n",
       "      <td>East</td>\n",
       "      <td>False</td>\n",
       "      <td>NaN</td>\n",
       "    </tr>\n",
       "    <tr>\n",
       "      <th>332</th>\n",
       "      <td>9000333</td>\n",
       "      <td>2020-06-05</td>\n",
       "      <td>3050</td>\n",
       "      <td>24.31</td>\n",
       "      <td>2020-08-14</td>\n",
       "      <td>East</td>\n",
       "      <td>False</td>\n",
       "      <td>NaN</td>\n",
       "    </tr>\n",
       "  </tbody>\n",
       "</table>\n",
       "</div>"
      ],
      "text/plain": [
       "     auth_id  date_auth  customer_id  amount date_claim region  \\\n",
       "570  9000569 2020-06-17         3869   30.62 2020-07-13   East   \n",
       "571  9000569 2020-06-17         1121  -30.62 2020-09-11   East   \n",
       "404  9000403 2020-06-09         2436   10.70 2020-08-03  South   \n",
       "403  9000403 2020-06-09         1420   10.70 2020-07-13  South   \n",
       "333  9000333 2020-06-05         3050   24.31 2020-08-14   East   \n",
       "332  9000333 2020-06-05         3050   24.31 2020-08-14   East   \n",
       "\n",
       "    vulnerable_customer notes  \n",
       "570               False   NaN  \n",
       "571               False   NaN  \n",
       "404               False   NaN  \n",
       "403               False   NaN  \n",
       "333               False   NaN  \n",
       "332               False   NaN  "
      ]
     },
     "execution_count": 18,
     "metadata": {},
     "output_type": "execute_result"
    }
   ],
   "source": [
    "df[df.auth_id.duplicated(keep=False)]"
   ]
  },
  {
   "cell_type": "markdown",
   "metadata": {},
   "source": [
    "This is not the best way to test for duplicates, but can do the trick"
   ]
  },
  {
   "cell_type": "code",
   "execution_count": 19,
   "metadata": {},
   "outputs": [
    {
     "data": {
      "text/html": [
       "<div>\n",
       "<style scoped>\n",
       "    .dataframe tbody tr th:only-of-type {\n",
       "        vertical-align: middle;\n",
       "    }\n",
       "\n",
       "    .dataframe tbody tr th {\n",
       "        vertical-align: top;\n",
       "    }\n",
       "\n",
       "    .dataframe thead th {\n",
       "        text-align: right;\n",
       "    }\n",
       "</style>\n",
       "<table border=\"1\" class=\"dataframe\">\n",
       "  <thead>\n",
       "    <tr style=\"text-align: right;\">\n",
       "      <th></th>\n",
       "      <th>auth_id</th>\n",
       "      <th>count</th>\n",
       "    </tr>\n",
       "  </thead>\n",
       "  <tbody>\n",
       "    <tr>\n",
       "      <th>0</th>\n",
       "      <td>9000001</td>\n",
       "      <td>1</td>\n",
       "    </tr>\n",
       "    <tr>\n",
       "      <th>1</th>\n",
       "      <td>9000002</td>\n",
       "      <td>1</td>\n",
       "    </tr>\n",
       "    <tr>\n",
       "      <th>2</th>\n",
       "      <td>9000003</td>\n",
       "      <td>1</td>\n",
       "    </tr>\n",
       "    <tr>\n",
       "      <th>3</th>\n",
       "      <td>9000004</td>\n",
       "      <td>1</td>\n",
       "    </tr>\n",
       "    <tr>\n",
       "      <th>4</th>\n",
       "      <td>9000005</td>\n",
       "      <td>1</td>\n",
       "    </tr>\n",
       "    <tr>\n",
       "      <th>...</th>\n",
       "      <td>...</td>\n",
       "      <td>...</td>\n",
       "    </tr>\n",
       "    <tr>\n",
       "      <th>1700</th>\n",
       "      <td>9001701</td>\n",
       "      <td>1</td>\n",
       "    </tr>\n",
       "    <tr>\n",
       "      <th>1701</th>\n",
       "      <td>9001702</td>\n",
       "      <td>1</td>\n",
       "    </tr>\n",
       "    <tr>\n",
       "      <th>1702</th>\n",
       "      <td>9001703</td>\n",
       "      <td>1</td>\n",
       "    </tr>\n",
       "    <tr>\n",
       "      <th>1703</th>\n",
       "      <td>9001704</td>\n",
       "      <td>1</td>\n",
       "    </tr>\n",
       "    <tr>\n",
       "      <th>1704</th>\n",
       "      <td>9001705</td>\n",
       "      <td>1</td>\n",
       "    </tr>\n",
       "  </tbody>\n",
       "</table>\n",
       "<p>1705 rows × 2 columns</p>\n",
       "</div>"
      ],
      "text/plain": [
       "      auth_id  count\n",
       "0     9000001      1\n",
       "1     9000002      1\n",
       "2     9000003      1\n",
       "3     9000004      1\n",
       "4     9000005      1\n",
       "...       ...    ...\n",
       "1700  9001701      1\n",
       "1701  9001702      1\n",
       "1702  9001703      1\n",
       "1703  9001704      1\n",
       "1704  9001705      1\n",
       "\n",
       "[1705 rows x 2 columns]"
      ]
     },
     "execution_count": 19,
     "metadata": {},
     "output_type": "execute_result"
    }
   ],
   "source": [
    "df2= df.groupby([\"auth_id\"] ).size().reset_index(name=\"count\")\n",
    "df2"
   ]
  },
  {
   "cell_type": "code",
   "execution_count": 20,
   "metadata": {},
   "outputs": [
    {
     "data": {
      "text/html": [
       "<div>\n",
       "<style scoped>\n",
       "    .dataframe tbody tr th:only-of-type {\n",
       "        vertical-align: middle;\n",
       "    }\n",
       "\n",
       "    .dataframe tbody tr th {\n",
       "        vertical-align: top;\n",
       "    }\n",
       "\n",
       "    .dataframe thead th {\n",
       "        text-align: right;\n",
       "    }\n",
       "</style>\n",
       "<table border=\"1\" class=\"dataframe\">\n",
       "  <thead>\n",
       "    <tr style=\"text-align: right;\">\n",
       "      <th></th>\n",
       "      <th>auth_id</th>\n",
       "      <th>count</th>\n",
       "    </tr>\n",
       "  </thead>\n",
       "  <tbody>\n",
       "    <tr>\n",
       "      <th>402</th>\n",
       "      <td>9000403</td>\n",
       "      <td>2</td>\n",
       "    </tr>\n",
       "    <tr>\n",
       "      <th>568</th>\n",
       "      <td>9000569</td>\n",
       "      <td>2</td>\n",
       "    </tr>\n",
       "    <tr>\n",
       "      <th>332</th>\n",
       "      <td>9000333</td>\n",
       "      <td>2</td>\n",
       "    </tr>\n",
       "    <tr>\n",
       "      <th>0</th>\n",
       "      <td>9000001</td>\n",
       "      <td>1</td>\n",
       "    </tr>\n",
       "    <tr>\n",
       "      <th>1136</th>\n",
       "      <td>9001137</td>\n",
       "      <td>1</td>\n",
       "    </tr>\n",
       "    <tr>\n",
       "      <th>1145</th>\n",
       "      <td>9001146</td>\n",
       "      <td>1</td>\n",
       "    </tr>\n",
       "    <tr>\n",
       "      <th>1144</th>\n",
       "      <td>9001145</td>\n",
       "      <td>1</td>\n",
       "    </tr>\n",
       "    <tr>\n",
       "      <th>1143</th>\n",
       "      <td>9001144</td>\n",
       "      <td>1</td>\n",
       "    </tr>\n",
       "    <tr>\n",
       "      <th>1142</th>\n",
       "      <td>9001143</td>\n",
       "      <td>1</td>\n",
       "    </tr>\n",
       "    <tr>\n",
       "      <th>1141</th>\n",
       "      <td>9001142</td>\n",
       "      <td>1</td>\n",
       "    </tr>\n",
       "  </tbody>\n",
       "</table>\n",
       "</div>"
      ],
      "text/plain": [
       "      auth_id  count\n",
       "402   9000403      2\n",
       "568   9000569      2\n",
       "332   9000333      2\n",
       "0     9000001      1\n",
       "1136  9001137      1\n",
       "1145  9001146      1\n",
       "1144  9001145      1\n",
       "1143  9001144      1\n",
       "1142  9001143      1\n",
       "1141  9001142      1"
      ]
     },
     "execution_count": 20,
     "metadata": {},
     "output_type": "execute_result"
    }
   ],
   "source": [
    "df2.sort_values('count', axis=0, ascending=False, inplace=True)\n",
    "df2[0:10]"
   ]
  },
  {
   "cell_type": "code",
   "execution_count": 21,
   "metadata": {},
   "outputs": [
    {
     "name": "stderr",
     "output_type": "stream",
     "text": [
      "/var/mobile/Containers/Data/Application/686908C3-02EC-464B-90F2-4FFC36EB25DB/Library/Application Support/com.rationalmatter.junoapp/python-home/lib/python3.6/site-packages/PIL/Image.py:115: RuntimeWarning: The _imaging extension was built for another version of Pillow or PIL:\n",
      "Core version: 8.1.2\n",
      "Pillow version: 8.1.0\n",
      "  warnings.warn(str(v), RuntimeWarning)\n"
     ]
    },
    {
     "ename": "FileNotFoundError",
     "evalue": "[Errno 2] No such file or directory: './output/101_Output_Grouped.xlsx'",
     "output_type": "error",
     "traceback": [
      "\u001b[0;31m---------------------------------------------------------------------------\u001b[0m",
      "\u001b[0;31mFileNotFoundError\u001b[0m                         Traceback (most recent call last)",
      "\u001b[0;32m<ipython-input-21-8ce1c7b3b233>\u001b[0m in \u001b[0;36m<module>\u001b[0;34m\u001b[0m\n\u001b[0;32m----> 1\u001b[0;31m \u001b[0mdf2\u001b[0m\u001b[0;34m.\u001b[0m\u001b[0mto_excel\u001b[0m\u001b[0;34m(\u001b[0m\u001b[0;34m\"./output/101_Output_Grouped.xlsx\"\u001b[0m\u001b[0;34m,\u001b[0m \u001b[0msheet_name\u001b[0m\u001b[0;34m=\u001b[0m\u001b[0;34m'Grouped'\u001b[0m\u001b[0;34m)\u001b[0m\u001b[0;34m\u001b[0m\u001b[0m\n\u001b[0m",
      "\u001b[0;32m~/lib/python3.6/site-packages/pandas/core/generic.py\u001b[0m in \u001b[0;36mto_excel\u001b[0;34m(self, excel_writer, sheet_name, na_rep, float_format, columns, header, index, index_label, startrow, startcol, engine, merge_cells, encoding, inf_rep, verbose, freeze_panes)\u001b[0m\n\u001b[1;32m   2179\u001b[0m             \u001b[0mstartcol\u001b[0m\u001b[0;34m=\u001b[0m\u001b[0mstartcol\u001b[0m\u001b[0;34m,\u001b[0m\u001b[0;34m\u001b[0m\u001b[0m\n\u001b[1;32m   2180\u001b[0m             \u001b[0mfreeze_panes\u001b[0m\u001b[0;34m=\u001b[0m\u001b[0mfreeze_panes\u001b[0m\u001b[0;34m,\u001b[0m\u001b[0;34m\u001b[0m\u001b[0m\n\u001b[0;32m-> 2181\u001b[0;31m             \u001b[0mengine\u001b[0m\u001b[0;34m=\u001b[0m\u001b[0mengine\u001b[0m\u001b[0;34m,\u001b[0m\u001b[0;34m\u001b[0m\u001b[0m\n\u001b[0m\u001b[1;32m   2182\u001b[0m         )\n\u001b[1;32m   2183\u001b[0m \u001b[0;34m\u001b[0m\u001b[0m\n",
      "\u001b[0;32m~/lib/python3.6/site-packages/pandas/io/formats/excel.py\u001b[0m in \u001b[0;36mwrite\u001b[0;34m(self, writer, sheet_name, startrow, startcol, freeze_panes, engine)\u001b[0m\n\u001b[1;32m    736\u001b[0m         )\n\u001b[1;32m    737\u001b[0m         \u001b[0;32mif\u001b[0m \u001b[0mneed_save\u001b[0m\u001b[0;34m:\u001b[0m\u001b[0;34m\u001b[0m\u001b[0m\n\u001b[0;32m--> 738\u001b[0;31m             \u001b[0mwriter\u001b[0m\u001b[0;34m.\u001b[0m\u001b[0msave\u001b[0m\u001b[0;34m(\u001b[0m\u001b[0;34m)\u001b[0m\u001b[0;34m\u001b[0m\u001b[0m\n\u001b[0m",
      "\u001b[0;32m~/lib/python3.6/site-packages/pandas/io/excel/_openpyxl.py\u001b[0m in \u001b[0;36msave\u001b[0;34m(self)\u001b[0m\n\u001b[1;32m     41\u001b[0m         \u001b[0mSave\u001b[0m \u001b[0mworkbook\u001b[0m \u001b[0mto\u001b[0m \u001b[0mdisk\u001b[0m\u001b[0;34m.\u001b[0m\u001b[0;34m\u001b[0m\u001b[0m\n\u001b[1;32m     42\u001b[0m         \"\"\"\n\u001b[0;32m---> 43\u001b[0;31m         \u001b[0;32mreturn\u001b[0m \u001b[0mself\u001b[0m\u001b[0;34m.\u001b[0m\u001b[0mbook\u001b[0m\u001b[0;34m.\u001b[0m\u001b[0msave\u001b[0m\u001b[0;34m(\u001b[0m\u001b[0mself\u001b[0m\u001b[0;34m.\u001b[0m\u001b[0mpath\u001b[0m\u001b[0;34m)\u001b[0m\u001b[0;34m\u001b[0m\u001b[0m\n\u001b[0m\u001b[1;32m     44\u001b[0m \u001b[0;34m\u001b[0m\u001b[0m\n\u001b[1;32m     45\u001b[0m     \u001b[0;34m@\u001b[0m\u001b[0mclassmethod\u001b[0m\u001b[0;34m\u001b[0m\u001b[0m\n",
      "\u001b[0;32m~/lib/python3.6/site-packages/openpyxl/workbook/workbook.py\u001b[0m in \u001b[0;36msave\u001b[0;34m(self, filename)\u001b[0m\n\u001b[1;32m    407\u001b[0m         \u001b[0;32mif\u001b[0m \u001b[0mself\u001b[0m\u001b[0;34m.\u001b[0m\u001b[0mwrite_only\u001b[0m \u001b[0;32mand\u001b[0m \u001b[0;32mnot\u001b[0m \u001b[0mself\u001b[0m\u001b[0;34m.\u001b[0m\u001b[0mworksheets\u001b[0m\u001b[0;34m:\u001b[0m\u001b[0;34m\u001b[0m\u001b[0m\n\u001b[1;32m    408\u001b[0m             \u001b[0mself\u001b[0m\u001b[0;34m.\u001b[0m\u001b[0mcreate_sheet\u001b[0m\u001b[0;34m(\u001b[0m\u001b[0;34m)\u001b[0m\u001b[0;34m\u001b[0m\u001b[0m\n\u001b[0;32m--> 409\u001b[0;31m         \u001b[0msave_workbook\u001b[0m\u001b[0;34m(\u001b[0m\u001b[0mself\u001b[0m\u001b[0;34m,\u001b[0m \u001b[0mfilename\u001b[0m\u001b[0;34m)\u001b[0m\u001b[0;34m\u001b[0m\u001b[0m\n\u001b[0m\u001b[1;32m    410\u001b[0m \u001b[0;34m\u001b[0m\u001b[0m\n\u001b[1;32m    411\u001b[0m \u001b[0;34m\u001b[0m\u001b[0m\n",
      "\u001b[0;32m~/lib/python3.6/site-packages/openpyxl/writer/excel.py\u001b[0m in \u001b[0;36msave_workbook\u001b[0;34m(workbook, filename)\u001b[0m\n\u001b[1;32m    290\u001b[0m \u001b[0;34m\u001b[0m\u001b[0m\n\u001b[1;32m    291\u001b[0m     \"\"\"\n\u001b[0;32m--> 292\u001b[0;31m     \u001b[0marchive\u001b[0m \u001b[0;34m=\u001b[0m \u001b[0mZipFile\u001b[0m\u001b[0;34m(\u001b[0m\u001b[0mfilename\u001b[0m\u001b[0;34m,\u001b[0m \u001b[0;34m'w'\u001b[0m\u001b[0;34m,\u001b[0m \u001b[0mZIP_DEFLATED\u001b[0m\u001b[0;34m,\u001b[0m \u001b[0mallowZip64\u001b[0m\u001b[0;34m=\u001b[0m\u001b[0;32mTrue\u001b[0m\u001b[0;34m)\u001b[0m\u001b[0;34m\u001b[0m\u001b[0m\n\u001b[0m\u001b[1;32m    293\u001b[0m     \u001b[0mwriter\u001b[0m \u001b[0;34m=\u001b[0m \u001b[0mExcelWriter\u001b[0m\u001b[0;34m(\u001b[0m\u001b[0mworkbook\u001b[0m\u001b[0;34m,\u001b[0m \u001b[0marchive\u001b[0m\u001b[0;34m)\u001b[0m\u001b[0;34m\u001b[0m\u001b[0m\n\u001b[1;32m    294\u001b[0m     \u001b[0mwriter\u001b[0m\u001b[0;34m.\u001b[0m\u001b[0msave\u001b[0m\u001b[0;34m(\u001b[0m\u001b[0;34m)\u001b[0m\u001b[0;34m\u001b[0m\u001b[0m\n",
      "\u001b[0;32m~/lib/python36.zip/zipfile.py\u001b[0m in \u001b[0;36m__init__\u001b[0;34m(self, file, mode, compression, allowZip64)\u001b[0m\n\u001b[1;32m   1088\u001b[0m             \u001b[0;32mwhile\u001b[0m \u001b[0;32mTrue\u001b[0m\u001b[0;34m:\u001b[0m\u001b[0;34m\u001b[0m\u001b[0m\n\u001b[1;32m   1089\u001b[0m                 \u001b[0;32mtry\u001b[0m\u001b[0;34m:\u001b[0m\u001b[0;34m\u001b[0m\u001b[0m\n\u001b[0;32m-> 1090\u001b[0;31m                     \u001b[0mself\u001b[0m\u001b[0;34m.\u001b[0m\u001b[0mfp\u001b[0m \u001b[0;34m=\u001b[0m \u001b[0mio\u001b[0m\u001b[0;34m.\u001b[0m\u001b[0mopen\u001b[0m\u001b[0;34m(\u001b[0m\u001b[0mfile\u001b[0m\u001b[0;34m,\u001b[0m \u001b[0mfilemode\u001b[0m\u001b[0;34m)\u001b[0m\u001b[0;34m\u001b[0m\u001b[0m\n\u001b[0m\u001b[1;32m   1091\u001b[0m                 \u001b[0;32mexcept\u001b[0m \u001b[0mOSError\u001b[0m\u001b[0;34m:\u001b[0m\u001b[0;34m\u001b[0m\u001b[0m\n\u001b[1;32m   1092\u001b[0m                     \u001b[0;32mif\u001b[0m \u001b[0mfilemode\u001b[0m \u001b[0;32min\u001b[0m \u001b[0mmodeDict\u001b[0m\u001b[0;34m:\u001b[0m\u001b[0;34m\u001b[0m\u001b[0m\n",
      "\u001b[0;31mFileNotFoundError\u001b[0m: [Errno 2] No such file or directory: './output/101_Output_Grouped.xlsx'"
     ]
    }
   ],
   "source": [
    "df2.to_excel(\"./output/101_Output_Grouped.xlsx\", sheet_name='Grouped')"
   ]
  },
  {
   "cell_type": "code",
   "execution_count": null,
   "metadata": {},
   "outputs": [],
   "source": []
  },
  {
   "cell_type": "code",
   "execution_count": null,
   "metadata": {},
   "outputs": [],
   "source": []
  },
  {
   "cell_type": "code",
   "execution_count": null,
   "metadata": {},
   "outputs": [],
   "source": []
  }
 ],
 "metadata": {
  "kernelspec": {
   "display_name": "Python 3",
   "language": "python",
   "name": "python3"
  },
  "language_info": {
   "codemirror_mode": {
    "name": "ipython",
    "version": 3
   },
   "file_extension": ".py",
   "mimetype": "text/x-python",
   "name": "python",
   "nbconvert_exporter": "python",
   "pygments_lexer": "ipython3",
   "version": "3.8.5-final"
  }
 },
 "nbformat": 4,
 "nbformat_minor": 4
}