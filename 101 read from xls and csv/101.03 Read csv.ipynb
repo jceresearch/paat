{
 "cells": [
  {
   "cell_type": "markdown",
   "metadata": {},
   "source": [
    "Load a simple file in CSV and process it with Pandas library"
   ]
  },
  {
   "cell_type": "code",
   "execution_count": 76,
   "metadata": {},
   "outputs": [
    {
     "output_type": "stream",
     "name": "stdout",
     "text": [
      "\u001b[31mtesting\u001b[0m\n\u001b[32mtesting\u001b[0m\n"
     ]
    }
   ],
   "source": [
    "import pandas as pd \n",
    "from datetime import date,timedelta, datetime\n",
    "\n",
    "\n",
    "def print_red(*args):\n",
    "    print(\"\\x1b[31m\"+\" \".join([str(x) for x in args])+\"\\x1b[0m\")\n",
    "\n",
    "def print_green(*args):\n",
    "    print(\"\\x1b[32m\"+\" \".join([str(x) for x in args])+\"\\x1b[0m\")\n",
    "\n",
    "\n",
    "print_red(\"testing\")\n",
    "print_green(\"testing\")"
   ]
  },
  {
   "cell_type": "code",
   "execution_count": 77,
   "metadata": {},
   "outputs": [
    {
     "output_type": "stream",
     "name": "stdout",
     "text": [
      "process started: 2020-12-08 19:45:34.661162\n"
     ]
    }
   ],
   "source": [
    "ts = datetime.now()\n",
    "print(\"process started:\", ts)"
   ]
  },
  {
   "cell_type": "code",
   "execution_count": 78,
   "metadata": {},
   "outputs": [],
   "source": [
    "df= pd.read_csv(\"./test_data/101_Demo_Data.csv\")"
   ]
  },
  {
   "cell_type": "code",
   "execution_count": 79,
   "metadata": {},
   "outputs": [
    {
     "output_type": "execute_result",
     "data": {
      "text/plain": [
       "(1708, 8)"
      ]
     },
     "metadata": {},
     "execution_count": 79
    }
   ],
   "source": [
    "df.shape #shows the number of columns and rows"
   ]
  },
  {
   "cell_type": "code",
   "execution_count": 80,
   "metadata": {},
   "outputs": [
    {
     "output_type": "execute_result",
     "data": {
      "text/plain": [
       "['Auth_ID',\n",
       " 'Date Authorisation',\n",
       " 'Cust ID',\n",
       " 'Amount',\n",
       " 'Date Procedure',\n",
       " 'Region',\n",
       " 'Vulnerable',\n",
       " 'Notes']"
      ]
     },
     "metadata": {},
     "execution_count": 80
    }
   ],
   "source": [
    "df.columns.to_list()"
   ]
  },
  {
   "source": [
    "We turn headers to lower case as python is case sensitive and it is better for consistency"
   ],
   "cell_type": "markdown",
   "metadata": {}
  },
  {
   "cell_type": "code",
   "execution_count": 81,
   "metadata": {},
   "outputs": [
    {
     "output_type": "execute_result",
     "data": {
      "text/plain": [
       "   auth_id date authorisation  cust id  amount date procedure  region  \\\n",
       "0  9000001         19/05/2020     3710    9.11     12/06/2020  London   \n",
       "1  9000002         19/05/2020     3378   11.65     21/07/2020    West   \n",
       "2  9000003         19/05/2020     1963   13.52     21/06/2020    West   \n",
       "3  9000004         19/05/2020     3565   77.57     23/05/2020    East   \n",
       "4  9000005         19/05/2020     2249   21.37     26/07/2020    East   \n",
       "5  9000006         19/05/2020     1669   12.60     26/07/2020   South   \n",
       "6  9000007         19/05/2020     1589   26.89     11/06/2020    East   \n",
       "7  9000008         19/05/2020     1596   43.98     16/06/2020    West   \n",
       "8  9000009         19/05/2020     3507    6.09     06/08/2020   North   \n",
       "9  9000010         19/05/2020     2543   11.36     27/06/2020   South   \n",
       "\n",
       "  vulnerable                                              notes  \n",
       "0      False  Test of delimiter, this should be kept all tog...  \n",
       "1      False                                                NaN  \n",
       "2      False                                                NaN  \n",
       "3      False                                                NaN  \n",
       "4      False                         Customer may be vulnerable  \n",
       "5      False                                                NaN  \n",
       "6      False                                                NaN  \n",
       "7      False                                                NaN  \n",
       "8      False                                                NaN  \n",
       "9      False                                                NaN  "
      ],
      "text/html": "<div>\n<style scoped>\n    .dataframe tbody tr th:only-of-type {\n        vertical-align: middle;\n    }\n\n    .dataframe tbody tr th {\n        vertical-align: top;\n    }\n\n    .dataframe thead th {\n        text-align: right;\n    }\n</style>\n<table border=\"1\" class=\"dataframe\">\n  <thead>\n    <tr style=\"text-align: right;\">\n      <th></th>\n      <th>auth_id</th>\n      <th>date authorisation</th>\n      <th>cust id</th>\n      <th>amount</th>\n      <th>date procedure</th>\n      <th>region</th>\n      <th>vulnerable</th>\n      <th>notes</th>\n    </tr>\n  </thead>\n  <tbody>\n    <tr>\n      <th>0</th>\n      <td>9000001</td>\n      <td>19/05/2020</td>\n      <td>3710</td>\n      <td>9.11</td>\n      <td>12/06/2020</td>\n      <td>London</td>\n      <td>False</td>\n      <td>Test of delimiter, this should be kept all tog...</td>\n    </tr>\n    <tr>\n      <th>1</th>\n      <td>9000002</td>\n      <td>19/05/2020</td>\n      <td>3378</td>\n      <td>11.65</td>\n      <td>21/07/2020</td>\n      <td>West</td>\n      <td>False</td>\n      <td>NaN</td>\n    </tr>\n    <tr>\n      <th>2</th>\n      <td>9000003</td>\n      <td>19/05/2020</td>\n      <td>1963</td>\n      <td>13.52</td>\n      <td>21/06/2020</td>\n      <td>West</td>\n      <td>False</td>\n      <td>NaN</td>\n    </tr>\n    <tr>\n      <th>3</th>\n      <td>9000004</td>\n      <td>19/05/2020</td>\n      <td>3565</td>\n      <td>77.57</td>\n      <td>23/05/2020</td>\n      <td>East</td>\n      <td>False</td>\n      <td>NaN</td>\n    </tr>\n    <tr>\n      <th>4</th>\n      <td>9000005</td>\n      <td>19/05/2020</td>\n      <td>2249</td>\n      <td>21.37</td>\n      <td>26/07/2020</td>\n      <td>East</td>\n      <td>False</td>\n      <td>Customer may be vulnerable</td>\n    </tr>\n    <tr>\n      <th>5</th>\n      <td>9000006</td>\n      <td>19/05/2020</td>\n      <td>1669</td>\n      <td>12.60</td>\n      <td>26/07/2020</td>\n      <td>South</td>\n      <td>False</td>\n      <td>NaN</td>\n    </tr>\n    <tr>\n      <th>6</th>\n      <td>9000007</td>\n      <td>19/05/2020</td>\n      <td>1589</td>\n      <td>26.89</td>\n      <td>11/06/2020</td>\n      <td>East</td>\n      <td>False</td>\n      <td>NaN</td>\n    </tr>\n    <tr>\n      <th>7</th>\n      <td>9000008</td>\n      <td>19/05/2020</td>\n      <td>1596</td>\n      <td>43.98</td>\n      <td>16/06/2020</td>\n      <td>West</td>\n      <td>False</td>\n      <td>NaN</td>\n    </tr>\n    <tr>\n      <th>8</th>\n      <td>9000009</td>\n      <td>19/05/2020</td>\n      <td>3507</td>\n      <td>6.09</td>\n      <td>06/08/2020</td>\n      <td>North</td>\n      <td>False</td>\n      <td>NaN</td>\n    </tr>\n    <tr>\n      <th>9</th>\n      <td>9000010</td>\n      <td>19/05/2020</td>\n      <td>2543</td>\n      <td>11.36</td>\n      <td>27/06/2020</td>\n      <td>South</td>\n      <td>False</td>\n      <td>NaN</td>\n    </tr>\n  </tbody>\n</table>\n</div>"
     },
     "metadata": {},
     "execution_count": 81
    }
   ],
   "source": [
    "df.columns=[x.lower() for x in df.columns.to_list()]\n",
    "df[0:10]"
   ]
  },
  {
   "cell_type": "markdown",
   "metadata": {},
   "source": [
    "we remove spurious characters from the title"
   ]
  },
  {
   "cell_type": "code",
   "execution_count": 82,
   "metadata": {},
   "outputs": [
    {
     "output_type": "execute_result",
     "data": {
      "text/plain": [
       "auth_id                                                         9000001\n",
       "date_authorisation                                           19/05/2020\n",
       "cust_id                                                            3710\n",
       "amount                                                             9.11\n",
       "date_procedure                                               12/06/2020\n",
       "region                                                           London\n",
       "vulnerable                                                        False\n",
       "notes                 Test of delimiter, this should be kept all tog...\n",
       "Name: 0, dtype: object"
      ]
     },
     "metadata": {},
     "execution_count": 82
    }
   ],
   "source": [
    "df.columns=df.columns.str.strip()\n",
    "df.columns=df.columns.str.replace(' ','_')\n",
    "df.columns=df.columns.str.replace('.','_')\n",
    "df.columns=df.columns.str.replace('__','_')\n",
    "df.columns=df.columns.str.replace('__','_')\n",
    "df.iloc[0] #this is how we list one particular record based on the index"
   ]
  },
  {
   "cell_type": "markdown",
   "metadata": {},
   "source": [
    "This is the simpler way, we just set a new row of titles"
   ]
  },
  {
   "cell_type": "code",
   "execution_count": 83,
   "metadata": {},
   "outputs": [
    {
     "output_type": "execute_result",
     "data": {
      "text/plain": [
       "   auth_id        date  customer_id  amount  date_claim  region  \\\n",
       "0  9000001  19/05/2020         3710    9.11  12/06/2020  London   \n",
       "1  9000002  19/05/2020         3378   11.65  21/07/2020    West   \n",
       "2  9000003  19/05/2020         1963   13.52  21/06/2020    West   \n",
       "3  9000004  19/05/2020         3565   77.57  23/05/2020    East   \n",
       "4  9000005  19/05/2020         2249   21.37  26/07/2020    East   \n",
       "\n",
       "  vulnerable_customer                                              notes  \n",
       "0               False  Test of delimiter, this should be kept all tog...  \n",
       "1               False                                                NaN  \n",
       "2               False                                                NaN  \n",
       "3               False                                                NaN  \n",
       "4               False                         Customer may be vulnerable  "
      ],
      "text/html": "<div>\n<style scoped>\n    .dataframe tbody tr th:only-of-type {\n        vertical-align: middle;\n    }\n\n    .dataframe tbody tr th {\n        vertical-align: top;\n    }\n\n    .dataframe thead th {\n        text-align: right;\n    }\n</style>\n<table border=\"1\" class=\"dataframe\">\n  <thead>\n    <tr style=\"text-align: right;\">\n      <th></th>\n      <th>auth_id</th>\n      <th>date</th>\n      <th>customer_id</th>\n      <th>amount</th>\n      <th>date_claim</th>\n      <th>region</th>\n      <th>vulnerable_customer</th>\n      <th>notes</th>\n    </tr>\n  </thead>\n  <tbody>\n    <tr>\n      <th>0</th>\n      <td>9000001</td>\n      <td>19/05/2020</td>\n      <td>3710</td>\n      <td>9.11</td>\n      <td>12/06/2020</td>\n      <td>London</td>\n      <td>False</td>\n      <td>Test of delimiter, this should be kept all tog...</td>\n    </tr>\n    <tr>\n      <th>1</th>\n      <td>9000002</td>\n      <td>19/05/2020</td>\n      <td>3378</td>\n      <td>11.65</td>\n      <td>21/07/2020</td>\n      <td>West</td>\n      <td>False</td>\n      <td>NaN</td>\n    </tr>\n    <tr>\n      <th>2</th>\n      <td>9000003</td>\n      <td>19/05/2020</td>\n      <td>1963</td>\n      <td>13.52</td>\n      <td>21/06/2020</td>\n      <td>West</td>\n      <td>False</td>\n      <td>NaN</td>\n    </tr>\n    <tr>\n      <th>3</th>\n      <td>9000004</td>\n      <td>19/05/2020</td>\n      <td>3565</td>\n      <td>77.57</td>\n      <td>23/05/2020</td>\n      <td>East</td>\n      <td>False</td>\n      <td>NaN</td>\n    </tr>\n    <tr>\n      <th>4</th>\n      <td>9000005</td>\n      <td>19/05/2020</td>\n      <td>2249</td>\n      <td>21.37</td>\n      <td>26/07/2020</td>\n      <td>East</td>\n      <td>False</td>\n      <td>Customer may be vulnerable</td>\n    </tr>\n  </tbody>\n</table>\n</div>"
     },
     "metadata": {},
     "execution_count": 83
    }
   ],
   "source": [
    "new_cols = ['auth_id', \n",
    "            'date', \n",
    "            'customer_id',\n",
    "           'amount',\n",
    "           'date_claim',\n",
    "           'region',\n",
    "           'vulnerable_customer',\n",
    "           'notes']\n",
    "df.columns = new_cols\n",
    "\n",
    "df.head() #this is a convenient way of showing the first 5 records"
   ]
  },
  {
   "cell_type": "markdown",
   "metadata": {},
   "source": [
    "Yet another way of renaming dataframe columns, the inplace=True is used in Pandas to avoid having to assign the result to a dataframe, e.g. df= df.rename(.....)"
   ]
  },
  {
   "cell_type": "code",
   "execution_count": 84,
   "metadata": {},
   "outputs": [
    {
     "output_type": "execute_result",
     "data": {
      "text/plain": [
       "      auth_id   date_auth  customer_id  amount  date_claim  region  \\\n",
       "1703  9001701  14/08/2020         2212   37.38         NaN    East   \n",
       "1704  9001702  14/08/2020         1187   -7.79         NaN  London   \n",
       "1705  9001703  14/08/2020         2076  -13.82         NaN    East   \n",
       "1706  9001704  14/08/2020         2380   39.62         NaN    West   \n",
       "1707  9001705  14/08/2020         3980   10.56  30/08/2020   South   \n",
       "\n",
       "     vulnerable_customer notes  \n",
       "1703               False   NaN  \n",
       "1704               False   NaN  \n",
       "1705               False   NaN  \n",
       "1706               False   NaN  \n",
       "1707               False   NaN  "
      ],
      "text/html": "<div>\n<style scoped>\n    .dataframe tbody tr th:only-of-type {\n        vertical-align: middle;\n    }\n\n    .dataframe tbody tr th {\n        vertical-align: top;\n    }\n\n    .dataframe thead th {\n        text-align: right;\n    }\n</style>\n<table border=\"1\" class=\"dataframe\">\n  <thead>\n    <tr style=\"text-align: right;\">\n      <th></th>\n      <th>auth_id</th>\n      <th>date_auth</th>\n      <th>customer_id</th>\n      <th>amount</th>\n      <th>date_claim</th>\n      <th>region</th>\n      <th>vulnerable_customer</th>\n      <th>notes</th>\n    </tr>\n  </thead>\n  <tbody>\n    <tr>\n      <th>1703</th>\n      <td>9001701</td>\n      <td>14/08/2020</td>\n      <td>2212</td>\n      <td>37.38</td>\n      <td>NaN</td>\n      <td>East</td>\n      <td>False</td>\n      <td>NaN</td>\n    </tr>\n    <tr>\n      <th>1704</th>\n      <td>9001702</td>\n      <td>14/08/2020</td>\n      <td>1187</td>\n      <td>-7.79</td>\n      <td>NaN</td>\n      <td>London</td>\n      <td>False</td>\n      <td>NaN</td>\n    </tr>\n    <tr>\n      <th>1705</th>\n      <td>9001703</td>\n      <td>14/08/2020</td>\n      <td>2076</td>\n      <td>-13.82</td>\n      <td>NaN</td>\n      <td>East</td>\n      <td>False</td>\n      <td>NaN</td>\n    </tr>\n    <tr>\n      <th>1706</th>\n      <td>9001704</td>\n      <td>14/08/2020</td>\n      <td>2380</td>\n      <td>39.62</td>\n      <td>NaN</td>\n      <td>West</td>\n      <td>False</td>\n      <td>NaN</td>\n    </tr>\n    <tr>\n      <th>1707</th>\n      <td>9001705</td>\n      <td>14/08/2020</td>\n      <td>3980</td>\n      <td>10.56</td>\n      <td>30/08/2020</td>\n      <td>South</td>\n      <td>False</td>\n      <td>NaN</td>\n    </tr>\n  </tbody>\n</table>\n</div>"
     },
     "metadata": {},
     "execution_count": 84
    }
   ],
   "source": [
    "df.rename(columns = {'date':'date_auth'},inplace = True)\n",
    "\n",
    "df.tail() #shows the last 5 records"
   ]
  },
  {
   "cell_type": "code",
   "execution_count": 85,
   "metadata": {},
   "outputs": [
    {
     "output_type": "execute_result",
     "data": {
      "text/plain": [
       "auth_id                  int64\n",
       "date_auth               object\n",
       "customer_id              int64\n",
       "amount                 float64\n",
       "date_claim              object\n",
       "region                  object\n",
       "vulnerable_customer     object\n",
       "notes                   object\n",
       "dtype: object"
      ]
     },
     "metadata": {},
     "execution_count": 85
    }
   ],
   "source": [
    "df.dtypes"
   ]
  },
  {
   "cell_type": "code",
   "execution_count": 86,
   "metadata": {},
   "outputs": [
    {
     "output_type": "stream",
     "name": "stdout",
     "text": [
      "date_auth\ndate_claim\n"
     ]
    },
    {
     "output_type": "execute_result",
     "data": {
      "text/plain": [
       "auth_id                         int64\n",
       "date_auth              datetime64[ns]\n",
       "customer_id                     int64\n",
       "amount                        float64\n",
       "date_claim             datetime64[ns]\n",
       "region                         object\n",
       "vulnerable_customer            object\n",
       "notes                          object\n",
       "dtype: object"
      ]
     },
     "metadata": {},
     "execution_count": 86
    }
   ],
   "source": [
    "for col in df.columns.to_list():\n",
    "    if col[0:4]==\"date\":#\n",
    "        print(col)\n",
    "        df[col]=pd.to_datetime(df[col],format='%d/%m/%Y')\n",
    "df.dtypes\n"
   ]
  },
  {
   "cell_type": "code",
   "execution_count": null,
   "metadata": {},
   "outputs": [],
   "source": []
  },
  {
   "cell_type": "code",
   "execution_count": 87,
   "metadata": {},
   "outputs": [
    {
     "output_type": "execute_result",
     "data": {
      "text/plain": [
       "      auth_id  date_auth  customer_id  amount date_claim region  \\\n",
       "1705  9001703 2020-08-14         2076  -13.82        NaT   East   \n",
       "\n",
       "     vulnerable_customer notes  \n",
       "1705               False   NaN  "
      ],
      "text/html": "<div>\n<style scoped>\n    .dataframe tbody tr th:only-of-type {\n        vertical-align: middle;\n    }\n\n    .dataframe tbody tr th {\n        vertical-align: top;\n    }\n\n    .dataframe thead th {\n        text-align: right;\n    }\n</style>\n<table border=\"1\" class=\"dataframe\">\n  <thead>\n    <tr style=\"text-align: right;\">\n      <th></th>\n      <th>auth_id</th>\n      <th>date_auth</th>\n      <th>customer_id</th>\n      <th>amount</th>\n      <th>date_claim</th>\n      <th>region</th>\n      <th>vulnerable_customer</th>\n      <th>notes</th>\n    </tr>\n  </thead>\n  <tbody>\n    <tr>\n      <th>1705</th>\n      <td>9001703</td>\n      <td>2020-08-14</td>\n      <td>2076</td>\n      <td>-13.82</td>\n      <td>NaT</td>\n      <td>East</td>\n      <td>False</td>\n      <td>NaN</td>\n    </tr>\n  </tbody>\n</table>\n</div>"
     },
     "metadata": {},
     "execution_count": 87
    }
   ],
   "source": [
    "df[df[\"auth_id\"]==9001703]"
   ]
  },
  {
   "cell_type": "code",
   "execution_count": 88,
   "metadata": {},
   "outputs": [
    {
     "output_type": "execute_result",
     "data": {
      "text/plain": [
       "      auth_id  date_auth  customer_id  amount date_claim  region  \\\n",
       "1707  9001705 2020-08-14         3980   10.56 2020-08-30   South   \n",
       "1701  9001699 2020-08-14         1072   20.04        NaT   South   \n",
       "1695  9001693 2020-08-14         2368   64.27 2020-10-20   North   \n",
       "1696  9001694 2020-08-14         3583  -14.66 2020-09-21    East   \n",
       "1698  9001696 2020-08-14         2508  -28.21 2020-08-19    West   \n",
       "1699  9001697 2020-08-14         3441   12.01        NaT    West   \n",
       "1700  9001698 2020-08-14         2284    5.37 2020-10-20   North   \n",
       "1697  9001695 2020-08-14         3914   72.66 2020-11-09  London   \n",
       "1702  9001700 2020-08-14         3758   45.89        NaT    East   \n",
       "1703  9001701 2020-08-14         2212   37.38        NaT    East   \n",
       "\n",
       "     vulnerable_customer notes  \n",
       "1707               False   NaN  \n",
       "1701               False   NaN  \n",
       "1695               False   NaN  \n",
       "1696               False   NaN  \n",
       "1698               False   NaN  \n",
       "1699               False   NaN  \n",
       "1700               False   NaN  \n",
       "1697               False   NaN  \n",
       "1702               False   NaN  \n",
       "1703               False   NaN  "
      ],
      "text/html": "<div>\n<style scoped>\n    .dataframe tbody tr th:only-of-type {\n        vertical-align: middle;\n    }\n\n    .dataframe tbody tr th {\n        vertical-align: top;\n    }\n\n    .dataframe thead th {\n        text-align: right;\n    }\n</style>\n<table border=\"1\" class=\"dataframe\">\n  <thead>\n    <tr style=\"text-align: right;\">\n      <th></th>\n      <th>auth_id</th>\n      <th>date_auth</th>\n      <th>customer_id</th>\n      <th>amount</th>\n      <th>date_claim</th>\n      <th>region</th>\n      <th>vulnerable_customer</th>\n      <th>notes</th>\n    </tr>\n  </thead>\n  <tbody>\n    <tr>\n      <th>1707</th>\n      <td>9001705</td>\n      <td>2020-08-14</td>\n      <td>3980</td>\n      <td>10.56</td>\n      <td>2020-08-30</td>\n      <td>South</td>\n      <td>False</td>\n      <td>NaN</td>\n    </tr>\n    <tr>\n      <th>1701</th>\n      <td>9001699</td>\n      <td>2020-08-14</td>\n      <td>1072</td>\n      <td>20.04</td>\n      <td>NaT</td>\n      <td>South</td>\n      <td>False</td>\n      <td>NaN</td>\n    </tr>\n    <tr>\n      <th>1695</th>\n      <td>9001693</td>\n      <td>2020-08-14</td>\n      <td>2368</td>\n      <td>64.27</td>\n      <td>2020-10-20</td>\n      <td>North</td>\n      <td>False</td>\n      <td>NaN</td>\n    </tr>\n    <tr>\n      <th>1696</th>\n      <td>9001694</td>\n      <td>2020-08-14</td>\n      <td>3583</td>\n      <td>-14.66</td>\n      <td>2020-09-21</td>\n      <td>East</td>\n      <td>False</td>\n      <td>NaN</td>\n    </tr>\n    <tr>\n      <th>1698</th>\n      <td>9001696</td>\n      <td>2020-08-14</td>\n      <td>2508</td>\n      <td>-28.21</td>\n      <td>2020-08-19</td>\n      <td>West</td>\n      <td>False</td>\n      <td>NaN</td>\n    </tr>\n    <tr>\n      <th>1699</th>\n      <td>9001697</td>\n      <td>2020-08-14</td>\n      <td>3441</td>\n      <td>12.01</td>\n      <td>NaT</td>\n      <td>West</td>\n      <td>False</td>\n      <td>NaN</td>\n    </tr>\n    <tr>\n      <th>1700</th>\n      <td>9001698</td>\n      <td>2020-08-14</td>\n      <td>2284</td>\n      <td>5.37</td>\n      <td>2020-10-20</td>\n      <td>North</td>\n      <td>False</td>\n      <td>NaN</td>\n    </tr>\n    <tr>\n      <th>1697</th>\n      <td>9001695</td>\n      <td>2020-08-14</td>\n      <td>3914</td>\n      <td>72.66</td>\n      <td>2020-11-09</td>\n      <td>London</td>\n      <td>False</td>\n      <td>NaN</td>\n    </tr>\n    <tr>\n      <th>1702</th>\n      <td>9001700</td>\n      <td>2020-08-14</td>\n      <td>3758</td>\n      <td>45.89</td>\n      <td>NaT</td>\n      <td>East</td>\n      <td>False</td>\n      <td>NaN</td>\n    </tr>\n    <tr>\n      <th>1703</th>\n      <td>9001701</td>\n      <td>2020-08-14</td>\n      <td>2212</td>\n      <td>37.38</td>\n      <td>NaT</td>\n      <td>East</td>\n      <td>False</td>\n      <td>NaN</td>\n    </tr>\n  </tbody>\n</table>\n</div>"
     },
     "metadata": {},
     "execution_count": 88
    }
   ],
   "source": [
    "\n",
    "df.sort_values('date_auth', axis=0, ascending=False, inplace=True)\n",
    "df[0:10]"
   ]
  },
  {
   "cell_type": "code",
   "execution_count": 89,
   "metadata": {},
   "outputs": [
    {
     "output_type": "execute_result",
     "data": {
      "text/plain": [
       "           date_auth           \n",
       "                 min        max\n",
       "date_auth                      \n",
       "202005    2020-05-19 2020-05-31\n",
       "202006    2020-06-01 2020-06-30\n",
       "202007    2020-07-01 2020-07-31\n",
       "202008    2020-08-01 2020-08-14"
      ],
      "text/html": "<div>\n<style scoped>\n    .dataframe tbody tr th:only-of-type {\n        vertical-align: middle;\n    }\n\n    .dataframe tbody tr th {\n        vertical-align: top;\n    }\n\n    .dataframe thead tr th {\n        text-align: left;\n    }\n\n    .dataframe thead tr:last-of-type th {\n        text-align: right;\n    }\n</style>\n<table border=\"1\" class=\"dataframe\">\n  <thead>\n    <tr>\n      <th></th>\n      <th colspan=\"2\" halign=\"left\">date_auth</th>\n    </tr>\n    <tr>\n      <th></th>\n      <th>min</th>\n      <th>max</th>\n    </tr>\n    <tr>\n      <th>date_auth</th>\n      <th></th>\n      <th></th>\n    </tr>\n  </thead>\n  <tbody>\n    <tr>\n      <th>202005</th>\n      <td>2020-05-19</td>\n      <td>2020-05-31</td>\n    </tr>\n    <tr>\n      <th>202006</th>\n      <td>2020-06-01</td>\n      <td>2020-06-30</td>\n    </tr>\n    <tr>\n      <th>202007</th>\n      <td>2020-07-01</td>\n      <td>2020-07-31</td>\n    </tr>\n    <tr>\n      <th>202008</th>\n      <td>2020-08-01</td>\n      <td>2020-08-14</td>\n    </tr>\n  </tbody>\n</table>\n</div>"
     },
     "metadata": {},
     "execution_count": 89
    }
   ],
   "source": [
    "df[['date_auth','amount']].groupby([df['date_auth'].dt.strftime('%Y%m')]).agg({'date_auth':['min','max']},{'amount':['sum']})"
   ]
  },
  {
   "cell_type": "code",
   "execution_count": 90,
   "metadata": {},
   "outputs": [
    {
     "output_type": "execute_result",
     "data": {
      "text/plain": [
       "     auth_id  date_auth  customer_id  amount date_claim region  \\\n",
       "206  9000207 2020-05-29         2398  104.12 2020-09-03   East   \n",
       "185  9000186 2020-05-28         1301  100.34        NaT   East   \n",
       "\n",
       "    vulnerable_customer notes  \n",
       "206               False   NaN  \n",
       "185               False   NaN  "
      ],
      "text/html": "<div>\n<style scoped>\n    .dataframe tbody tr th:only-of-type {\n        vertical-align: middle;\n    }\n\n    .dataframe tbody tr th {\n        vertical-align: top;\n    }\n\n    .dataframe thead th {\n        text-align: right;\n    }\n</style>\n<table border=\"1\" class=\"dataframe\">\n  <thead>\n    <tr style=\"text-align: right;\">\n      <th></th>\n      <th>auth_id</th>\n      <th>date_auth</th>\n      <th>customer_id</th>\n      <th>amount</th>\n      <th>date_claim</th>\n      <th>region</th>\n      <th>vulnerable_customer</th>\n      <th>notes</th>\n    </tr>\n  </thead>\n  <tbody>\n    <tr>\n      <th>206</th>\n      <td>9000207</td>\n      <td>2020-05-29</td>\n      <td>2398</td>\n      <td>104.12</td>\n      <td>2020-09-03</td>\n      <td>East</td>\n      <td>False</td>\n      <td>NaN</td>\n    </tr>\n    <tr>\n      <th>185</th>\n      <td>9000186</td>\n      <td>2020-05-28</td>\n      <td>1301</td>\n      <td>100.34</td>\n      <td>NaT</td>\n      <td>East</td>\n      <td>False</td>\n      <td>NaN</td>\n    </tr>\n  </tbody>\n</table>\n</div>"
     },
     "metadata": {},
     "execution_count": 90
    }
   ],
   "source": [
    "df[(df.amount>100) & (df.date_auth.dt.month==5)]"
   ]
  },
  {
   "cell_type": "markdown",
   "metadata": {},
   "source": [
    "This is how you test for duplicates"
   ]
  },
  {
   "cell_type": "code",
   "execution_count": 91,
   "metadata": {},
   "outputs": [
    {
     "output_type": "execute_result",
     "data": {
      "text/plain": [
       "     auth_id  date_auth  customer_id  amount date_claim region  \\\n",
       "570  9000569 2020-06-17         3869   30.62 2020-07-13   East   \n",
       "571  9000569 2020-06-17         1121  -30.62 2020-09-11   East   \n",
       "404  9000403 2020-06-09         2436   10.70 2020-08-03  South   \n",
       "403  9000403 2020-06-09         1420   10.70 2020-07-13  South   \n",
       "333  9000333 2020-06-05         3050   24.31 2020-08-14   East   \n",
       "332  9000333 2020-06-05         3050   24.31 2020-08-14   East   \n",
       "\n",
       "    vulnerable_customer notes  \n",
       "570               False   NaN  \n",
       "571               False   NaN  \n",
       "404               False   NaN  \n",
       "403               False   NaN  \n",
       "333               False   NaN  \n",
       "332               False   NaN  "
      ],
      "text/html": "<div>\n<style scoped>\n    .dataframe tbody tr th:only-of-type {\n        vertical-align: middle;\n    }\n\n    .dataframe tbody tr th {\n        vertical-align: top;\n    }\n\n    .dataframe thead th {\n        text-align: right;\n    }\n</style>\n<table border=\"1\" class=\"dataframe\">\n  <thead>\n    <tr style=\"text-align: right;\">\n      <th></th>\n      <th>auth_id</th>\n      <th>date_auth</th>\n      <th>customer_id</th>\n      <th>amount</th>\n      <th>date_claim</th>\n      <th>region</th>\n      <th>vulnerable_customer</th>\n      <th>notes</th>\n    </tr>\n  </thead>\n  <tbody>\n    <tr>\n      <th>570</th>\n      <td>9000569</td>\n      <td>2020-06-17</td>\n      <td>3869</td>\n      <td>30.62</td>\n      <td>2020-07-13</td>\n      <td>East</td>\n      <td>False</td>\n      <td>NaN</td>\n    </tr>\n    <tr>\n      <th>571</th>\n      <td>9000569</td>\n      <td>2020-06-17</td>\n      <td>1121</td>\n      <td>-30.62</td>\n      <td>2020-09-11</td>\n      <td>East</td>\n      <td>False</td>\n      <td>NaN</td>\n    </tr>\n    <tr>\n      <th>404</th>\n      <td>9000403</td>\n      <td>2020-06-09</td>\n      <td>2436</td>\n      <td>10.70</td>\n      <td>2020-08-03</td>\n      <td>South</td>\n      <td>False</td>\n      <td>NaN</td>\n    </tr>\n    <tr>\n      <th>403</th>\n      <td>9000403</td>\n      <td>2020-06-09</td>\n      <td>1420</td>\n      <td>10.70</td>\n      <td>2020-07-13</td>\n      <td>South</td>\n      <td>False</td>\n      <td>NaN</td>\n    </tr>\n    <tr>\n      <th>333</th>\n      <td>9000333</td>\n      <td>2020-06-05</td>\n      <td>3050</td>\n      <td>24.31</td>\n      <td>2020-08-14</td>\n      <td>East</td>\n      <td>False</td>\n      <td>NaN</td>\n    </tr>\n    <tr>\n      <th>332</th>\n      <td>9000333</td>\n      <td>2020-06-05</td>\n      <td>3050</td>\n      <td>24.31</td>\n      <td>2020-08-14</td>\n      <td>East</td>\n      <td>False</td>\n      <td>NaN</td>\n    </tr>\n  </tbody>\n</table>\n</div>"
     },
     "metadata": {},
     "execution_count": 91
    }
   ],
   "source": [
    "df[df.auth_id.duplicated(keep=False)]"
   ]
  },
  {
   "cell_type": "markdown",
   "metadata": {},
   "source": [
    "This is not the best way to test for duplicates, but can do the trick"
   ]
  },
  {
   "cell_type": "code",
   "execution_count": 109,
   "metadata": {},
   "outputs": [
    {
     "output_type": "execute_result",
     "data": {
      "text/plain": [
       "      auth_id  count\n",
       "0     9000001      1\n",
       "1     9000002      1\n",
       "2     9000003      1\n",
       "3     9000004      1\n",
       "4     9000005      1\n",
       "...       ...    ...\n",
       "1700  9001701      1\n",
       "1701  9001702      1\n",
       "1702  9001703      1\n",
       "1703  9001704      1\n",
       "1704  9001705      1\n",
       "\n",
       "[1705 rows x 2 columns]"
      ],
      "text/html": "<div>\n<style scoped>\n    .dataframe tbody tr th:only-of-type {\n        vertical-align: middle;\n    }\n\n    .dataframe tbody tr th {\n        vertical-align: top;\n    }\n\n    .dataframe thead th {\n        text-align: right;\n    }\n</style>\n<table border=\"1\" class=\"dataframe\">\n  <thead>\n    <tr style=\"text-align: right;\">\n      <th></th>\n      <th>auth_id</th>\n      <th>count</th>\n    </tr>\n  </thead>\n  <tbody>\n    <tr>\n      <th>0</th>\n      <td>9000001</td>\n      <td>1</td>\n    </tr>\n    <tr>\n      <th>1</th>\n      <td>9000002</td>\n      <td>1</td>\n    </tr>\n    <tr>\n      <th>2</th>\n      <td>9000003</td>\n      <td>1</td>\n    </tr>\n    <tr>\n      <th>3</th>\n      <td>9000004</td>\n      <td>1</td>\n    </tr>\n    <tr>\n      <th>4</th>\n      <td>9000005</td>\n      <td>1</td>\n    </tr>\n    <tr>\n      <th>...</th>\n      <td>...</td>\n      <td>...</td>\n    </tr>\n    <tr>\n      <th>1700</th>\n      <td>9001701</td>\n      <td>1</td>\n    </tr>\n    <tr>\n      <th>1701</th>\n      <td>9001702</td>\n      <td>1</td>\n    </tr>\n    <tr>\n      <th>1702</th>\n      <td>9001703</td>\n      <td>1</td>\n    </tr>\n    <tr>\n      <th>1703</th>\n      <td>9001704</td>\n      <td>1</td>\n    </tr>\n    <tr>\n      <th>1704</th>\n      <td>9001705</td>\n      <td>1</td>\n    </tr>\n  </tbody>\n</table>\n<p>1705 rows × 2 columns</p>\n</div>"
     },
     "metadata": {},
     "execution_count": 109
    }
   ],
   "source": [
    "df2= df.groupby([\"auth_id\"] ).size().reset_index(name=\"count\")\n",
    "df2"
   ]
  },
  {
   "cell_type": "code",
   "execution_count": 110,
   "metadata": {},
   "outputs": [
    {
     "output_type": "execute_result",
     "data": {
      "text/plain": [
       "      auth_id  count\n",
       "402   9000403      2\n",
       "568   9000569      2\n",
       "332   9000333      2\n",
       "0     9000001      1\n",
       "1136  9001137      1\n",
       "1145  9001146      1\n",
       "1144  9001145      1\n",
       "1143  9001144      1\n",
       "1142  9001143      1\n",
       "1141  9001142      1"
      ],
      "text/html": "<div>\n<style scoped>\n    .dataframe tbody tr th:only-of-type {\n        vertical-align: middle;\n    }\n\n    .dataframe tbody tr th {\n        vertical-align: top;\n    }\n\n    .dataframe thead th {\n        text-align: right;\n    }\n</style>\n<table border=\"1\" class=\"dataframe\">\n  <thead>\n    <tr style=\"text-align: right;\">\n      <th></th>\n      <th>auth_id</th>\n      <th>count</th>\n    </tr>\n  </thead>\n  <tbody>\n    <tr>\n      <th>402</th>\n      <td>9000403</td>\n      <td>2</td>\n    </tr>\n    <tr>\n      <th>568</th>\n      <td>9000569</td>\n      <td>2</td>\n    </tr>\n    <tr>\n      <th>332</th>\n      <td>9000333</td>\n      <td>2</td>\n    </tr>\n    <tr>\n      <th>0</th>\n      <td>9000001</td>\n      <td>1</td>\n    </tr>\n    <tr>\n      <th>1136</th>\n      <td>9001137</td>\n      <td>1</td>\n    </tr>\n    <tr>\n      <th>1145</th>\n      <td>9001146</td>\n      <td>1</td>\n    </tr>\n    <tr>\n      <th>1144</th>\n      <td>9001145</td>\n      <td>1</td>\n    </tr>\n    <tr>\n      <th>1143</th>\n      <td>9001144</td>\n      <td>1</td>\n    </tr>\n    <tr>\n      <th>1142</th>\n      <td>9001143</td>\n      <td>1</td>\n    </tr>\n    <tr>\n      <th>1141</th>\n      <td>9001142</td>\n      <td>1</td>\n    </tr>\n  </tbody>\n</table>\n</div>"
     },
     "metadata": {},
     "execution_count": 110
    }
   ],
   "source": [
    "df2.sort_values('count', axis=0, ascending=False, inplace=True)\n",
    "df2[0:10]"
   ]
  },
  {
   "cell_type": "code",
   "execution_count": 111,
   "metadata": {},
   "outputs": [],
   "source": [
    "df2.to_excel(\"./output/101_Output_Grouped.xlsx\", sheet_name='Grouped')"
   ]
  },
  {
   "cell_type": "code",
   "execution_count": null,
   "metadata": {},
   "outputs": [],
   "source": []
  },
  {
   "cell_type": "code",
   "execution_count": null,
   "metadata": {},
   "outputs": [],
   "source": []
  },
  {
   "cell_type": "code",
   "execution_count": null,
   "metadata": {},
   "outputs": [],
   "source": []
  }
 ],
 "metadata": {
  "kernelspec": {
   "display_name": "Python 3",
   "language": "python",
   "name": "python3"
  },
  "language_info": {
   "codemirror_mode": {
    "name": "ipython",
    "version": 3
   },
   "file_extension": ".py",
   "mimetype": "text/x-python",
   "name": "python",
   "nbconvert_exporter": "python",
   "pygments_lexer": "ipython3",
   "version": "3.8.3-final"
  }
 },
 "nbformat": 4,
 "nbformat_minor": 4
}