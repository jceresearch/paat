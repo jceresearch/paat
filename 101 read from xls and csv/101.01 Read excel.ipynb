{
 "cells": [
  {
   "cell_type": "markdown",
   "metadata": {},
   "source": [
    "Load a simple MS Excel spreadsheet and list it"
   ]
  },
  {
   "cell_type": "code",
   "execution_count": 1,
   "metadata": {},
   "outputs": [],
   "source": [
    "import pandas as pd "
   ]
  },
  {
   "cell_type": "code",
   "execution_count": 2,
   "metadata": {},
   "outputs": [],
   "source": [
    "df= pd.read_excel(\"./test_data/101_Demo_Data.xlsx\", sheet_name=\"Data\")"
   ]
  },
  {
   "cell_type": "code",
   "execution_count": 3,
   "metadata": {},
   "outputs": [
    {
     "output_type": "execute_result",
     "data": {
      "text/plain": [
       "(1708, 8)"
      ]
     },
     "metadata": {},
     "execution_count": 3
    }
   ],
   "source": [
    "df.shape #shows the number of columns and rows"
   ]
  },
  {
   "cell_type": "code",
   "execution_count": 4,
   "metadata": {},
   "outputs": [
    {
     "output_type": "execute_result",
     "data": {
      "text/plain": [
       "['Auth_ID',\n",
       " 'Date Authorisation',\n",
       " 'Cust ID',\n",
       " 'Amount',\n",
       " 'Date Procedure',\n",
       " 'Region',\n",
       " 'Vulnerable',\n",
       " 'Notes']"
      ]
     },
     "metadata": {},
     "execution_count": 4
    }
   ],
   "source": [
    "df.columns.to_list()"
   ]
  },
  {
   "cell_type": "markdown",
   "metadata": {},
   "source": [
    "We turn headers to lower case as python is case sensitive and it is better for consistency"
   ]
  },
  {
   "cell_type": "code",
   "execution_count": 5,
   "metadata": {},
   "outputs": [
    {
     "output_type": "execute_result",
     "data": {
      "text/plain": [
       "   auth_id         date authorisation  cust id  amount  \\\n",
       "0  9000001 2020-05-19 10:24:41.740000     3710    9.11   \n",
       "1  9000002 2020-05-19 11:49:24.092941     3378   11.65   \n",
       "2  9000003 2020-05-19 13:09:24.092941     1963   13.52   \n",
       "3  9000004 2020-05-19 13:40:02.390814     3565   77.57   \n",
       "4  9000005 2020-05-19 15:00:02.390814     2249   21.37   \n",
       "5  9000006 2020-05-19 15:45:02.390814     1669   12.60   \n",
       "6  9000007 2020-05-19 16:47:38.912553     1589   26.89   \n",
       "7  9000008 2020-05-19 18:38:25.066399     1596   43.98   \n",
       "8  9000009 2020-05-19 20:29:11.220245     3507    6.09   \n",
       "9  9000010 2020-05-19 21:59:11.220245     2543   11.36   \n",
       "\n",
       "              date procedure  region vulnerable  \\\n",
       "0 2020-06-12 10:24:41.740000  London      False   \n",
       "1 2020-07-21 11:49:24.092941    West      False   \n",
       "2 2020-06-21 13:09:24.092941    West      False   \n",
       "3 2020-05-23 13:40:02.390814    East      False   \n",
       "4 2020-07-26 15:00:02.390814    East      False   \n",
       "5 2020-07-26 15:45:02.390814   South      False   \n",
       "6 2020-06-11 16:47:38.912553    East      False   \n",
       "7 2020-06-16 18:38:25.066399    West      False   \n",
       "8 2020-08-06 20:29:11.220245   North      False   \n",
       "9 2020-06-27 21:59:11.220245   South      False   \n",
       "\n",
       "                                               notes  \n",
       "0  Test of delimiter, this should be kept all tog...  \n",
       "1                                                NaN  \n",
       "2                                                NaN  \n",
       "3                                                NaN  \n",
       "4                         Customer may be vulnerable  \n",
       "5                                                NaN  \n",
       "6                                                NaN  \n",
       "7                                                NaN  \n",
       "8                                                NaN  \n",
       "9                                                NaN  "
      ],
      "text/html": "<div>\n<style scoped>\n    .dataframe tbody tr th:only-of-type {\n        vertical-align: middle;\n    }\n\n    .dataframe tbody tr th {\n        vertical-align: top;\n    }\n\n    .dataframe thead th {\n        text-align: right;\n    }\n</style>\n<table border=\"1\" class=\"dataframe\">\n  <thead>\n    <tr style=\"text-align: right;\">\n      <th></th>\n      <th>auth_id</th>\n      <th>date authorisation</th>\n      <th>cust id</th>\n      <th>amount</th>\n      <th>date procedure</th>\n      <th>region</th>\n      <th>vulnerable</th>\n      <th>notes</th>\n    </tr>\n  </thead>\n  <tbody>\n    <tr>\n      <th>0</th>\n      <td>9000001</td>\n      <td>2020-05-19 10:24:41.740000</td>\n      <td>3710</td>\n      <td>9.11</td>\n      <td>2020-06-12 10:24:41.740000</td>\n      <td>London</td>\n      <td>False</td>\n      <td>Test of delimiter, this should be kept all tog...</td>\n    </tr>\n    <tr>\n      <th>1</th>\n      <td>9000002</td>\n      <td>2020-05-19 11:49:24.092941</td>\n      <td>3378</td>\n      <td>11.65</td>\n      <td>2020-07-21 11:49:24.092941</td>\n      <td>West</td>\n      <td>False</td>\n      <td>NaN</td>\n    </tr>\n    <tr>\n      <th>2</th>\n      <td>9000003</td>\n      <td>2020-05-19 13:09:24.092941</td>\n      <td>1963</td>\n      <td>13.52</td>\n      <td>2020-06-21 13:09:24.092941</td>\n      <td>West</td>\n      <td>False</td>\n      <td>NaN</td>\n    </tr>\n    <tr>\n      <th>3</th>\n      <td>9000004</td>\n      <td>2020-05-19 13:40:02.390814</td>\n      <td>3565</td>\n      <td>77.57</td>\n      <td>2020-05-23 13:40:02.390814</td>\n      <td>East</td>\n      <td>False</td>\n      <td>NaN</td>\n    </tr>\n    <tr>\n      <th>4</th>\n      <td>9000005</td>\n      <td>2020-05-19 15:00:02.390814</td>\n      <td>2249</td>\n      <td>21.37</td>\n      <td>2020-07-26 15:00:02.390814</td>\n      <td>East</td>\n      <td>False</td>\n      <td>Customer may be vulnerable</td>\n    </tr>\n    <tr>\n      <th>5</th>\n      <td>9000006</td>\n      <td>2020-05-19 15:45:02.390814</td>\n      <td>1669</td>\n      <td>12.60</td>\n      <td>2020-07-26 15:45:02.390814</td>\n      <td>South</td>\n      <td>False</td>\n      <td>NaN</td>\n    </tr>\n    <tr>\n      <th>6</th>\n      <td>9000007</td>\n      <td>2020-05-19 16:47:38.912553</td>\n      <td>1589</td>\n      <td>26.89</td>\n      <td>2020-06-11 16:47:38.912553</td>\n      <td>East</td>\n      <td>False</td>\n      <td>NaN</td>\n    </tr>\n    <tr>\n      <th>7</th>\n      <td>9000008</td>\n      <td>2020-05-19 18:38:25.066399</td>\n      <td>1596</td>\n      <td>43.98</td>\n      <td>2020-06-16 18:38:25.066399</td>\n      <td>West</td>\n      <td>False</td>\n      <td>NaN</td>\n    </tr>\n    <tr>\n      <th>8</th>\n      <td>9000009</td>\n      <td>2020-05-19 20:29:11.220245</td>\n      <td>3507</td>\n      <td>6.09</td>\n      <td>2020-08-06 20:29:11.220245</td>\n      <td>North</td>\n      <td>False</td>\n      <td>NaN</td>\n    </tr>\n    <tr>\n      <th>9</th>\n      <td>9000010</td>\n      <td>2020-05-19 21:59:11.220245</td>\n      <td>2543</td>\n      <td>11.36</td>\n      <td>2020-06-27 21:59:11.220245</td>\n      <td>South</td>\n      <td>False</td>\n      <td>NaN</td>\n    </tr>\n  </tbody>\n</table>\n</div>"
     },
     "metadata": {},
     "execution_count": 5
    }
   ],
   "source": [
    "df.columns=[x.lower() for x in df.columns.to_list()]\n",
    "df[0:10]"
   ]
  },
  {
   "cell_type": "markdown",
   "metadata": {},
   "source": [
    "we remove spurious characters from the title"
   ]
  },
  {
   "cell_type": "code",
   "execution_count": 17,
   "metadata": {},
   "outputs": [
    {
     "output_type": "stream",
     "name": "stderr",
     "text": [
      "<ipython-input-17-de257491c874>:3: FutureWarning: The default value of regex will change from True to False in a future version. In addition, single character regular expressions will*not* be treated as literal strings when regex=True.\n  df.columns=df.columns.str.replace('.','_')\n"
     ]
    },
    {
     "output_type": "execute_result",
     "data": {
      "text/plain": [
       "auth_id                               9001705\n",
       "date_auth          2020-08-14 13:03:18.536012\n",
       "customer_id                              3980\n",
       "amount                                  10.56\n",
       "date_procedure     2020-08-30 13:03:18.536012\n",
       "region                                  South\n",
       "flag_vulnerable                         False\n",
       "notes                                     NaN\n",
       "Name: 1707, dtype: object"
      ]
     },
     "metadata": {},
     "execution_count": 17
    }
   ],
   "source": [
    "df.columns=df.columns.str.strip()\n",
    "df.columns=df.columns.str.replace(' ','_',regex=False)\n",
    "df.columns=df.columns.str.replace('.','_', regex=False)\n",
    "df.columns=df.columns.str.replace('__','_')\n",
    "df.columns=df.columns.str.replace('__','_')\n",
    "df.iloc[0] #this is how we list one particular record based on the index"
   ]
  },
  {
   "cell_type": "markdown",
   "metadata": {},
   "source": [
    "This is the simpler way, we just set a new row of titles"
   ]
  },
  {
   "cell_type": "code",
   "execution_count": 7,
   "metadata": {},
   "outputs": [
    {
     "output_type": "execute_result",
     "data": {
      "text/plain": [
       "   auth_id                       date  customer_id  amount  \\\n",
       "0  9000001 2020-05-19 10:24:41.740000         3710    9.11   \n",
       "1  9000002 2020-05-19 11:49:24.092941         3378   11.65   \n",
       "2  9000003 2020-05-19 13:09:24.092941         1963   13.52   \n",
       "3  9000004 2020-05-19 13:40:02.390814         3565   77.57   \n",
       "4  9000005 2020-05-19 15:00:02.390814         2249   21.37   \n",
       "\n",
       "              date_procedure  region flag_vulnerable  \\\n",
       "0 2020-06-12 10:24:41.740000  London           False   \n",
       "1 2020-07-21 11:49:24.092941    West           False   \n",
       "2 2020-06-21 13:09:24.092941    West           False   \n",
       "3 2020-05-23 13:40:02.390814    East           False   \n",
       "4 2020-07-26 15:00:02.390814    East           False   \n",
       "\n",
       "                                               notes  \n",
       "0  Test of delimiter, this should be kept all tog...  \n",
       "1                                                NaN  \n",
       "2                                                NaN  \n",
       "3                                                NaN  \n",
       "4                         Customer may be vulnerable  "
      ],
      "text/html": "<div>\n<style scoped>\n    .dataframe tbody tr th:only-of-type {\n        vertical-align: middle;\n    }\n\n    .dataframe tbody tr th {\n        vertical-align: top;\n    }\n\n    .dataframe thead th {\n        text-align: right;\n    }\n</style>\n<table border=\"1\" class=\"dataframe\">\n  <thead>\n    <tr style=\"text-align: right;\">\n      <th></th>\n      <th>auth_id</th>\n      <th>date</th>\n      <th>customer_id</th>\n      <th>amount</th>\n      <th>date_procedure</th>\n      <th>region</th>\n      <th>flag_vulnerable</th>\n      <th>notes</th>\n    </tr>\n  </thead>\n  <tbody>\n    <tr>\n      <th>0</th>\n      <td>9000001</td>\n      <td>2020-05-19 10:24:41.740000</td>\n      <td>3710</td>\n      <td>9.11</td>\n      <td>2020-06-12 10:24:41.740000</td>\n      <td>London</td>\n      <td>False</td>\n      <td>Test of delimiter, this should be kept all tog...</td>\n    </tr>\n    <tr>\n      <th>1</th>\n      <td>9000002</td>\n      <td>2020-05-19 11:49:24.092941</td>\n      <td>3378</td>\n      <td>11.65</td>\n      <td>2020-07-21 11:49:24.092941</td>\n      <td>West</td>\n      <td>False</td>\n      <td>NaN</td>\n    </tr>\n    <tr>\n      <th>2</th>\n      <td>9000003</td>\n      <td>2020-05-19 13:09:24.092941</td>\n      <td>1963</td>\n      <td>13.52</td>\n      <td>2020-06-21 13:09:24.092941</td>\n      <td>West</td>\n      <td>False</td>\n      <td>NaN</td>\n    </tr>\n    <tr>\n      <th>3</th>\n      <td>9000004</td>\n      <td>2020-05-19 13:40:02.390814</td>\n      <td>3565</td>\n      <td>77.57</td>\n      <td>2020-05-23 13:40:02.390814</td>\n      <td>East</td>\n      <td>False</td>\n      <td>NaN</td>\n    </tr>\n    <tr>\n      <th>4</th>\n      <td>9000005</td>\n      <td>2020-05-19 15:00:02.390814</td>\n      <td>2249</td>\n      <td>21.37</td>\n      <td>2020-07-26 15:00:02.390814</td>\n      <td>East</td>\n      <td>False</td>\n      <td>Customer may be vulnerable</td>\n    </tr>\n  </tbody>\n</table>\n</div>"
     },
     "metadata": {},
     "execution_count": 7
    }
   ],
   "source": [
    "new_cols = ['auth_id', \n",
    "            'date', \n",
    "            'customer_id',\n",
    "           'amount',\n",
    "           'date_procedure',\n",
    "           'region',\n",
    "           'flag_vulnerable',\n",
    "           'notes']\n",
    "df.columns = new_cols\n",
    "\n",
    "df.head() #this is a convenient way of showing the first 5 records"
   ]
  },
  {
   "cell_type": "markdown",
   "metadata": {},
   "source": [
    "Yet another way of renaming dataframe columns, the inplace=True is used in Pandas to avoid having to assign the result to a dataframe, e.g. df= df.rename(.....)"
   ]
  },
  {
   "cell_type": "code",
   "execution_count": 8,
   "metadata": {},
   "outputs": [
    {
     "output_type": "execute_result",
     "data": {
      "text/plain": [
       "      auth_id                  date_auth  customer_id  amount  \\\n",
       "1703  9001701 2020-08-14 08:20:44.651636         2212   37.38   \n",
       "1704  9001702 2020-08-14 09:56:44.651636         1187   -7.79   \n",
       "1705  9001703 2020-08-14 10:59:21.173375         2076  -13.82   \n",
       "1706  9001704 2020-08-14 12:07:55.459089         2380   39.62   \n",
       "1707  9001705 2020-08-14 13:03:18.536012         3980   10.56   \n",
       "\n",
       "                 date_procedure  region flag_vulnerable notes  \n",
       "1703                        NaT    East           False   NaN  \n",
       "1704                        NaT  London           False   NaN  \n",
       "1705                        NaT    East           False   NaN  \n",
       "1706                        NaT    West           False   NaN  \n",
       "1707 2020-08-30 13:03:18.536012   South           False   NaN  "
      ],
      "text/html": "<div>\n<style scoped>\n    .dataframe tbody tr th:only-of-type {\n        vertical-align: middle;\n    }\n\n    .dataframe tbody tr th {\n        vertical-align: top;\n    }\n\n    .dataframe thead th {\n        text-align: right;\n    }\n</style>\n<table border=\"1\" class=\"dataframe\">\n  <thead>\n    <tr style=\"text-align: right;\">\n      <th></th>\n      <th>auth_id</th>\n      <th>date_auth</th>\n      <th>customer_id</th>\n      <th>amount</th>\n      <th>date_procedure</th>\n      <th>region</th>\n      <th>flag_vulnerable</th>\n      <th>notes</th>\n    </tr>\n  </thead>\n  <tbody>\n    <tr>\n      <th>1703</th>\n      <td>9001701</td>\n      <td>2020-08-14 08:20:44.651636</td>\n      <td>2212</td>\n      <td>37.38</td>\n      <td>NaT</td>\n      <td>East</td>\n      <td>False</td>\n      <td>NaN</td>\n    </tr>\n    <tr>\n      <th>1704</th>\n      <td>9001702</td>\n      <td>2020-08-14 09:56:44.651636</td>\n      <td>1187</td>\n      <td>-7.79</td>\n      <td>NaT</td>\n      <td>London</td>\n      <td>False</td>\n      <td>NaN</td>\n    </tr>\n    <tr>\n      <th>1705</th>\n      <td>9001703</td>\n      <td>2020-08-14 10:59:21.173375</td>\n      <td>2076</td>\n      <td>-13.82</td>\n      <td>NaT</td>\n      <td>East</td>\n      <td>False</td>\n      <td>NaN</td>\n    </tr>\n    <tr>\n      <th>1706</th>\n      <td>9001704</td>\n      <td>2020-08-14 12:07:55.459089</td>\n      <td>2380</td>\n      <td>39.62</td>\n      <td>NaT</td>\n      <td>West</td>\n      <td>False</td>\n      <td>NaN</td>\n    </tr>\n    <tr>\n      <th>1707</th>\n      <td>9001705</td>\n      <td>2020-08-14 13:03:18.536012</td>\n      <td>3980</td>\n      <td>10.56</td>\n      <td>2020-08-30 13:03:18.536012</td>\n      <td>South</td>\n      <td>False</td>\n      <td>NaN</td>\n    </tr>\n  </tbody>\n</table>\n</div>"
     },
     "metadata": {},
     "execution_count": 8
    }
   ],
   "source": [
    "df.rename(columns = {'date':'date_auth'},inplace = True)\n",
    "\n",
    "df.tail() #shows the last 5 records"
   ]
  },
  {
   "cell_type": "code",
   "execution_count": 9,
   "metadata": {},
   "outputs": [
    {
     "output_type": "execute_result",
     "data": {
      "text/plain": [
       "      auth_id                  date_auth  customer_id  amount date_procedure  \\\n",
       "1705  9001703 2020-08-14 10:59:21.173375         2076  -13.82            NaT   \n",
       "\n",
       "     region flag_vulnerable notes  \n",
       "1705   East           False   NaN  "
      ],
      "text/html": "<div>\n<style scoped>\n    .dataframe tbody tr th:only-of-type {\n        vertical-align: middle;\n    }\n\n    .dataframe tbody tr th {\n        vertical-align: top;\n    }\n\n    .dataframe thead th {\n        text-align: right;\n    }\n</style>\n<table border=\"1\" class=\"dataframe\">\n  <thead>\n    <tr style=\"text-align: right;\">\n      <th></th>\n      <th>auth_id</th>\n      <th>date_auth</th>\n      <th>customer_id</th>\n      <th>amount</th>\n      <th>date_procedure</th>\n      <th>region</th>\n      <th>flag_vulnerable</th>\n      <th>notes</th>\n    </tr>\n  </thead>\n  <tbody>\n    <tr>\n      <th>1705</th>\n      <td>9001703</td>\n      <td>2020-08-14 10:59:21.173375</td>\n      <td>2076</td>\n      <td>-13.82</td>\n      <td>NaT</td>\n      <td>East</td>\n      <td>False</td>\n      <td>NaN</td>\n    </tr>\n  </tbody>\n</table>\n</div>"
     },
     "metadata": {},
     "execution_count": 9
    }
   ],
   "source": [
    "df[df[\"auth_id\"]==9001703]"
   ]
  },
  {
   "cell_type": "code",
   "execution_count": 10,
   "metadata": {},
   "outputs": [
    {
     "output_type": "execute_result",
     "data": {
      "text/plain": [
       "                           date_auth                           \n",
       "                                 min                        max\n",
       "date_auth                                                      \n",
       "202005    2020-05-19 10:24:41.740000 2020-05-31 23:54:04.030669\n",
       "202006    2020-06-01 00:59:31.303396 2020-06-30 23:10:51.948949\n",
       "202007    2020-07-01 00:02:17.663235 2020-07-31 23:12:04.138490\n",
       "202008    2020-08-01 00:03:29.852776 2020-08-14 13:03:18.536012"
      ],
      "text/html": "<div>\n<style scoped>\n    .dataframe tbody tr th:only-of-type {\n        vertical-align: middle;\n    }\n\n    .dataframe tbody tr th {\n        vertical-align: top;\n    }\n\n    .dataframe thead tr th {\n        text-align: left;\n    }\n\n    .dataframe thead tr:last-of-type th {\n        text-align: right;\n    }\n</style>\n<table border=\"1\" class=\"dataframe\">\n  <thead>\n    <tr>\n      <th></th>\n      <th colspan=\"2\" halign=\"left\">date_auth</th>\n    </tr>\n    <tr>\n      <th></th>\n      <th>min</th>\n      <th>max</th>\n    </tr>\n    <tr>\n      <th>date_auth</th>\n      <th></th>\n      <th></th>\n    </tr>\n  </thead>\n  <tbody>\n    <tr>\n      <th>202005</th>\n      <td>2020-05-19 10:24:41.740000</td>\n      <td>2020-05-31 23:54:04.030669</td>\n    </tr>\n    <tr>\n      <th>202006</th>\n      <td>2020-06-01 00:59:31.303396</td>\n      <td>2020-06-30 23:10:51.948949</td>\n    </tr>\n    <tr>\n      <th>202007</th>\n      <td>2020-07-01 00:02:17.663235</td>\n      <td>2020-07-31 23:12:04.138490</td>\n    </tr>\n    <tr>\n      <th>202008</th>\n      <td>2020-08-01 00:03:29.852776</td>\n      <td>2020-08-14 13:03:18.536012</td>\n    </tr>\n  </tbody>\n</table>\n</div>"
     },
     "metadata": {},
     "execution_count": 10
    }
   ],
   "source": [
    "df[['date_auth','amount']].groupby([df['date_auth'].dt.strftime('%Y%m')]).agg({'date_auth':['min','max']},{'amount':['sum']})"
   ]
  },
  {
   "cell_type": "code",
   "execution_count": 11,
   "metadata": {},
   "outputs": [
    {
     "output_type": "execute_result",
     "data": {
      "text/plain": [
       "      auth_id                  date_auth  customer_id  amount  \\\n",
       "1707  9001705 2020-08-14 13:03:18.536012         3980   10.56   \n",
       "1706  9001704 2020-08-14 12:07:55.459089         2380   39.62   \n",
       "1705  9001703 2020-08-14 10:59:21.173375         2076  -13.82   \n",
       "1704  9001702 2020-08-14 09:56:44.651636         1187   -7.79   \n",
       "1703  9001701 2020-08-14 08:20:44.651636         2212   37.38   \n",
       "1702  9001700 2020-08-14 07:20:44.651636         3758   45.89   \n",
       "1701  9001699 2020-08-14 06:27:24.651636         1072   20.04   \n",
       "1700  9001698 2020-08-14 05:45:03.475166         2284    5.37   \n",
       "1699  9001697 2020-08-14 05:13:45.214296         3441   12.01   \n",
       "1698  9001696 2020-08-14 04:28:45.214296         2508  -28.21   \n",
       "\n",
       "                 date_procedure  region flag_vulnerable notes  \n",
       "1707 2020-08-30 13:03:18.536012   South           False   NaN  \n",
       "1706                        NaT    West           False   NaN  \n",
       "1705                        NaT    East           False   NaN  \n",
       "1704                        NaT  London           False   NaN  \n",
       "1703                        NaT    East           False   NaN  \n",
       "1702                        NaT    East           False   NaN  \n",
       "1701                        NaT   South           False   NaN  \n",
       "1700 2020-10-20 05:45:03.475166   North           False   NaN  \n",
       "1699                        NaT    West           False   NaN  \n",
       "1698 2020-08-19 04:28:45.214296    West           False   NaN  "
      ],
      "text/html": "<div>\n<style scoped>\n    .dataframe tbody tr th:only-of-type {\n        vertical-align: middle;\n    }\n\n    .dataframe tbody tr th {\n        vertical-align: top;\n    }\n\n    .dataframe thead th {\n        text-align: right;\n    }\n</style>\n<table border=\"1\" class=\"dataframe\">\n  <thead>\n    <tr style=\"text-align: right;\">\n      <th></th>\n      <th>auth_id</th>\n      <th>date_auth</th>\n      <th>customer_id</th>\n      <th>amount</th>\n      <th>date_procedure</th>\n      <th>region</th>\n      <th>flag_vulnerable</th>\n      <th>notes</th>\n    </tr>\n  </thead>\n  <tbody>\n    <tr>\n      <th>1707</th>\n      <td>9001705</td>\n      <td>2020-08-14 13:03:18.536012</td>\n      <td>3980</td>\n      <td>10.56</td>\n      <td>2020-08-30 13:03:18.536012</td>\n      <td>South</td>\n      <td>False</td>\n      <td>NaN</td>\n    </tr>\n    <tr>\n      <th>1706</th>\n      <td>9001704</td>\n      <td>2020-08-14 12:07:55.459089</td>\n      <td>2380</td>\n      <td>39.62</td>\n      <td>NaT</td>\n      <td>West</td>\n      <td>False</td>\n      <td>NaN</td>\n    </tr>\n    <tr>\n      <th>1705</th>\n      <td>9001703</td>\n      <td>2020-08-14 10:59:21.173375</td>\n      <td>2076</td>\n      <td>-13.82</td>\n      <td>NaT</td>\n      <td>East</td>\n      <td>False</td>\n      <td>NaN</td>\n    </tr>\n    <tr>\n      <th>1704</th>\n      <td>9001702</td>\n      <td>2020-08-14 09:56:44.651636</td>\n      <td>1187</td>\n      <td>-7.79</td>\n      <td>NaT</td>\n      <td>London</td>\n      <td>False</td>\n      <td>NaN</td>\n    </tr>\n    <tr>\n      <th>1703</th>\n      <td>9001701</td>\n      <td>2020-08-14 08:20:44.651636</td>\n      <td>2212</td>\n      <td>37.38</td>\n      <td>NaT</td>\n      <td>East</td>\n      <td>False</td>\n      <td>NaN</td>\n    </tr>\n    <tr>\n      <th>1702</th>\n      <td>9001700</td>\n      <td>2020-08-14 07:20:44.651636</td>\n      <td>3758</td>\n      <td>45.89</td>\n      <td>NaT</td>\n      <td>East</td>\n      <td>False</td>\n      <td>NaN</td>\n    </tr>\n    <tr>\n      <th>1701</th>\n      <td>9001699</td>\n      <td>2020-08-14 06:27:24.651636</td>\n      <td>1072</td>\n      <td>20.04</td>\n      <td>NaT</td>\n      <td>South</td>\n      <td>False</td>\n      <td>NaN</td>\n    </tr>\n    <tr>\n      <th>1700</th>\n      <td>9001698</td>\n      <td>2020-08-14 05:45:03.475166</td>\n      <td>2284</td>\n      <td>5.37</td>\n      <td>2020-10-20 05:45:03.475166</td>\n      <td>North</td>\n      <td>False</td>\n      <td>NaN</td>\n    </tr>\n    <tr>\n      <th>1699</th>\n      <td>9001697</td>\n      <td>2020-08-14 05:13:45.214296</td>\n      <td>3441</td>\n      <td>12.01</td>\n      <td>NaT</td>\n      <td>West</td>\n      <td>False</td>\n      <td>NaN</td>\n    </tr>\n    <tr>\n      <th>1698</th>\n      <td>9001696</td>\n      <td>2020-08-14 04:28:45.214296</td>\n      <td>2508</td>\n      <td>-28.21</td>\n      <td>2020-08-19 04:28:45.214296</td>\n      <td>West</td>\n      <td>False</td>\n      <td>NaN</td>\n    </tr>\n  </tbody>\n</table>\n</div>"
     },
     "metadata": {},
     "execution_count": 11
    }
   ],
   "source": [
    "\n",
    "df.sort_values('date_auth', axis=0, ascending=False, inplace=True)\n",
    "df[0:10]"
   ]
  },
  {
   "cell_type": "code",
   "execution_count": 12,
   "metadata": {},
   "outputs": [
    {
     "output_type": "execute_result",
     "data": {
      "text/plain": [
       "Empty DataFrame\n",
       "Columns: [auth_id, date_auth, customer_id, amount, date_procedure, region, flag_vulnerable, notes]\n",
       "Index: []"
      ],
      "text/html": "<div>\n<style scoped>\n    .dataframe tbody tr th:only-of-type {\n        vertical-align: middle;\n    }\n\n    .dataframe tbody tr th {\n        vertical-align: top;\n    }\n\n    .dataframe thead th {\n        text-align: right;\n    }\n</style>\n<table border=\"1\" class=\"dataframe\">\n  <thead>\n    <tr style=\"text-align: right;\">\n      <th></th>\n      <th>auth_id</th>\n      <th>date_auth</th>\n      <th>customer_id</th>\n      <th>amount</th>\n      <th>date_procedure</th>\n      <th>region</th>\n      <th>flag_vulnerable</th>\n      <th>notes</th>\n    </tr>\n  </thead>\n  <tbody>\n  </tbody>\n</table>\n</div>"
     },
     "metadata": {},
     "execution_count": 12
    }
   ],
   "source": [
    "df[(df.amount<0) & (df.date_auth.dt.month==3)]"
   ]
  },
  {
   "cell_type": "markdown",
   "metadata": {},
   "source": [
    "This is how you test for duplicates"
   ]
  },
  {
   "cell_type": "code",
   "execution_count": 13,
   "metadata": {},
   "outputs": [
    {
     "output_type": "execute_result",
     "data": {
      "text/plain": [
       "     auth_id                  date_auth  customer_id  amount  \\\n",
       "571  9000569 2020-06-17 12:55:45.509850         1121  -30.62   \n",
       "570  9000569 2020-06-17 12:55:45.509850         3869   30.62   \n",
       "403  9000403 2020-06-09 01:35:28.874651         1420   10.70   \n",
       "404  9000403 2020-06-09 01:35:28.874651         2436   10.70   \n",
       "333  9000333 2020-06-05 11:26:37.658059         3050   24.31   \n",
       "332  9000333 2020-06-05 11:26:37.658059         3050   24.31   \n",
       "\n",
       "                date_procedure region flag_vulnerable notes  \n",
       "571 2020-09-11 12:55:45.509850   East           False   NaN  \n",
       "570 2020-07-13 12:55:45.509850   East           False   NaN  \n",
       "403 2020-07-13 01:35:28.874651  South           False   NaN  \n",
       "404 2020-08-03 01:35:28.874651  South           False   NaN  \n",
       "333 2020-08-14 11:26:37.658059   East           False   NaN  \n",
       "332 2020-08-14 11:26:37.658059   East           False   NaN  "
      ],
      "text/html": "<div>\n<style scoped>\n    .dataframe tbody tr th:only-of-type {\n        vertical-align: middle;\n    }\n\n    .dataframe tbody tr th {\n        vertical-align: top;\n    }\n\n    .dataframe thead th {\n        text-align: right;\n    }\n</style>\n<table border=\"1\" class=\"dataframe\">\n  <thead>\n    <tr style=\"text-align: right;\">\n      <th></th>\n      <th>auth_id</th>\n      <th>date_auth</th>\n      <th>customer_id</th>\n      <th>amount</th>\n      <th>date_procedure</th>\n      <th>region</th>\n      <th>flag_vulnerable</th>\n      <th>notes</th>\n    </tr>\n  </thead>\n  <tbody>\n    <tr>\n      <th>571</th>\n      <td>9000569</td>\n      <td>2020-06-17 12:55:45.509850</td>\n      <td>1121</td>\n      <td>-30.62</td>\n      <td>2020-09-11 12:55:45.509850</td>\n      <td>East</td>\n      <td>False</td>\n      <td>NaN</td>\n    </tr>\n    <tr>\n      <th>570</th>\n      <td>9000569</td>\n      <td>2020-06-17 12:55:45.509850</td>\n      <td>3869</td>\n      <td>30.62</td>\n      <td>2020-07-13 12:55:45.509850</td>\n      <td>East</td>\n      <td>False</td>\n      <td>NaN</td>\n    </tr>\n    <tr>\n      <th>403</th>\n      <td>9000403</td>\n      <td>2020-06-09 01:35:28.874651</td>\n      <td>1420</td>\n      <td>10.70</td>\n      <td>2020-07-13 01:35:28.874651</td>\n      <td>South</td>\n      <td>False</td>\n      <td>NaN</td>\n    </tr>\n    <tr>\n      <th>404</th>\n      <td>9000403</td>\n      <td>2020-06-09 01:35:28.874651</td>\n      <td>2436</td>\n      <td>10.70</td>\n      <td>2020-08-03 01:35:28.874651</td>\n      <td>South</td>\n      <td>False</td>\n      <td>NaN</td>\n    </tr>\n    <tr>\n      <th>333</th>\n      <td>9000333</td>\n      <td>2020-06-05 11:26:37.658059</td>\n      <td>3050</td>\n      <td>24.31</td>\n      <td>2020-08-14 11:26:37.658059</td>\n      <td>East</td>\n      <td>False</td>\n      <td>NaN</td>\n    </tr>\n    <tr>\n      <th>332</th>\n      <td>9000333</td>\n      <td>2020-06-05 11:26:37.658059</td>\n      <td>3050</td>\n      <td>24.31</td>\n      <td>2020-08-14 11:26:37.658059</td>\n      <td>East</td>\n      <td>False</td>\n      <td>NaN</td>\n    </tr>\n  </tbody>\n</table>\n</div>"
     },
     "metadata": {},
     "execution_count": 13
    }
   ],
   "source": [
    "df1=df[df.auth_id.duplicated(keep=False)]\n",
    "df1"
   ]
  },
  {
   "cell_type": "markdown",
   "metadata": {},
   "source": [
    "This is not the best way to test for duplicates, but can do the trick"
   ]
  },
  {
   "cell_type": "code",
   "execution_count": 14,
   "metadata": {},
   "outputs": [
    {
     "output_type": "execute_result",
     "data": {
      "text/plain": [
       "     auth_id  date_auth  customer_id  amount  date_procedure  region  \\\n",
       "332  9000333          2            2       2               2       2   \n",
       "402  9000403          2            2       2               2       2   \n",
       "568  9000569          2            2       2               2       2   \n",
       "\n",
       "     flag_vulnerable  notes  \n",
       "332                2      0  \n",
       "402                2      0  \n",
       "568                2      0  "
      ],
      "text/html": "<div>\n<style scoped>\n    .dataframe tbody tr th:only-of-type {\n        vertical-align: middle;\n    }\n\n    .dataframe tbody tr th {\n        vertical-align: top;\n    }\n\n    .dataframe thead th {\n        text-align: right;\n    }\n</style>\n<table border=\"1\" class=\"dataframe\">\n  <thead>\n    <tr style=\"text-align: right;\">\n      <th></th>\n      <th>auth_id</th>\n      <th>date_auth</th>\n      <th>customer_id</th>\n      <th>amount</th>\n      <th>date_procedure</th>\n      <th>region</th>\n      <th>flag_vulnerable</th>\n      <th>notes</th>\n    </tr>\n  </thead>\n  <tbody>\n    <tr>\n      <th>332</th>\n      <td>9000333</td>\n      <td>2</td>\n      <td>2</td>\n      <td>2</td>\n      <td>2</td>\n      <td>2</td>\n      <td>2</td>\n      <td>0</td>\n    </tr>\n    <tr>\n      <th>402</th>\n      <td>9000403</td>\n      <td>2</td>\n      <td>2</td>\n      <td>2</td>\n      <td>2</td>\n      <td>2</td>\n      <td>2</td>\n      <td>0</td>\n    </tr>\n    <tr>\n      <th>568</th>\n      <td>9000569</td>\n      <td>2</td>\n      <td>2</td>\n      <td>2</td>\n      <td>2</td>\n      <td>2</td>\n      <td>2</td>\n      <td>0</td>\n    </tr>\n  </tbody>\n</table>\n</div>"
     },
     "metadata": {},
     "execution_count": 14
    }
   ],
   "source": [
    "df2= df.groupby([\"auth_id\"], as_index = False ).count()\n",
    "# If you dont include the as_index, the DF will have nested indexes, so to get the data use:\n",
    "# list= df2.index.get_level_values(1).tolist() \n",
    "\n",
    "df2[df2.date_auth>1]\n"
   ]
  },
  {
   "cell_type": "code",
   "execution_count": 21,
   "metadata": {},
   "outputs": [
    {
     "data": {
      "text/html": [
       "<div>\n",
       "<style scoped>\n",
       "    .dataframe tbody tr th:only-of-type {\n",
       "        vertical-align: middle;\n",
       "    }\n",
       "\n",
       "    .dataframe tbody tr th {\n",
       "        vertical-align: top;\n",
       "    }\n",
       "\n",
       "    .dataframe thead th {\n",
       "        text-align: right;\n",
       "    }\n",
       "</style>\n",
       "<table border=\"1\" class=\"dataframe\">\n",
       "  <thead>\n",
       "    <tr style=\"text-align: right;\">\n",
       "      <th></th>\n",
       "      <th>auth_id</th>\n",
       "      <th>date_auth</th>\n",
       "      <th>customer_id</th>\n",
       "      <th>amount</th>\n",
       "      <th>date_procedure</th>\n",
       "      <th>region</th>\n",
       "      <th>flag_vulnerable</th>\n",
       "      <th>notes</th>\n",
       "    </tr>\n",
       "  </thead>\n",
       "  <tbody>\n",
       "    <tr>\n",
       "      <th>402</th>\n",
       "      <td>9000403</td>\n",
       "      <td>2</td>\n",
       "      <td>2</td>\n",
       "      <td>2</td>\n",
       "      <td>2</td>\n",
       "      <td>2</td>\n",
       "      <td>2</td>\n",
       "      <td>0</td>\n",
       "    </tr>\n",
       "    <tr>\n",
       "      <th>568</th>\n",
       "      <td>9000569</td>\n",
       "      <td>2</td>\n",
       "      <td>2</td>\n",
       "      <td>2</td>\n",
       "      <td>2</td>\n",
       "      <td>2</td>\n",
       "      <td>2</td>\n",
       "      <td>0</td>\n",
       "    </tr>\n",
       "    <tr>\n",
       "      <th>332</th>\n",
       "      <td>9000333</td>\n",
       "      <td>2</td>\n",
       "      <td>2</td>\n",
       "      <td>2</td>\n",
       "      <td>2</td>\n",
       "      <td>2</td>\n",
       "      <td>2</td>\n",
       "      <td>0</td>\n",
       "    </tr>\n",
       "    <tr>\n",
       "      <th>0</th>\n",
       "      <td>9000001</td>\n",
       "      <td>1</td>\n",
       "      <td>1</td>\n",
       "      <td>1</td>\n",
       "      <td>1</td>\n",
       "      <td>1</td>\n",
       "      <td>1</td>\n",
       "      <td>1</td>\n",
       "    </tr>\n",
       "    <tr>\n",
       "      <th>1136</th>\n",
       "      <td>9001137</td>\n",
       "      <td>1</td>\n",
       "      <td>1</td>\n",
       "      <td>1</td>\n",
       "      <td>1</td>\n",
       "      <td>1</td>\n",
       "      <td>1</td>\n",
       "      <td>0</td>\n",
       "    </tr>\n",
       "    <tr>\n",
       "      <th>1145</th>\n",
       "      <td>9001146</td>\n",
       "      <td>1</td>\n",
       "      <td>1</td>\n",
       "      <td>1</td>\n",
       "      <td>1</td>\n",
       "      <td>1</td>\n",
       "      <td>1</td>\n",
       "      <td>0</td>\n",
       "    </tr>\n",
       "    <tr>\n",
       "      <th>1144</th>\n",
       "      <td>9001145</td>\n",
       "      <td>1</td>\n",
       "      <td>1</td>\n",
       "      <td>1</td>\n",
       "      <td>1</td>\n",
       "      <td>1</td>\n",
       "      <td>1</td>\n",
       "      <td>0</td>\n",
       "    </tr>\n",
       "    <tr>\n",
       "      <th>1143</th>\n",
       "      <td>9001144</td>\n",
       "      <td>1</td>\n",
       "      <td>1</td>\n",
       "      <td>1</td>\n",
       "      <td>1</td>\n",
       "      <td>1</td>\n",
       "      <td>1</td>\n",
       "      <td>0</td>\n",
       "    </tr>\n",
       "    <tr>\n",
       "      <th>1142</th>\n",
       "      <td>9001143</td>\n",
       "      <td>1</td>\n",
       "      <td>1</td>\n",
       "      <td>1</td>\n",
       "      <td>1</td>\n",
       "      <td>1</td>\n",
       "      <td>1</td>\n",
       "      <td>0</td>\n",
       "    </tr>\n",
       "    <tr>\n",
       "      <th>1141</th>\n",
       "      <td>9001142</td>\n",
       "      <td>1</td>\n",
       "      <td>1</td>\n",
       "      <td>1</td>\n",
       "      <td>1</td>\n",
       "      <td>1</td>\n",
       "      <td>1</td>\n",
       "      <td>0</td>\n",
       "    </tr>\n",
       "  </tbody>\n",
       "</table>\n",
       "</div>"
      ],
      "text/plain": [
       "      auth_id  date_auth  customer_id  amount  date_procedure  region  \\\n",
       "402   9000403          2            2       2               2       2   \n",
       "568   9000569          2            2       2               2       2   \n",
       "332   9000333          2            2       2               2       2   \n",
       "0     9000001          1            1       1               1       1   \n",
       "1136  9001137          1            1       1               1       1   \n",
       "1145  9001146          1            1       1               1       1   \n",
       "1144  9001145          1            1       1               1       1   \n",
       "1143  9001144          1            1       1               1       1   \n",
       "1142  9001143          1            1       1               1       1   \n",
       "1141  9001142          1            1       1               1       1   \n",
       "\n",
       "      flag_vulnerable  notes  \n",
       "402                 2      0  \n",
       "568                 2      0  \n",
       "332                 2      0  \n",
       "0                   1      1  \n",
       "1136                1      0  \n",
       "1145                1      0  \n",
       "1144                1      0  \n",
       "1143                1      0  \n",
       "1142                1      0  \n",
       "1141                1      0  "
      ]
     },
     "execution_count": 21,
     "metadata": {},
     "output_type": "execute_result"
    }
   ],
   "source": [
    "df2.sort_values('date_auth', axis=0, ascending=False, inplace=True)\n",
    "df2[0:10]"
   ]
  },
  {
   "cell_type": "code",
   "execution_count": 16,
   "metadata": {},
   "outputs": [],
   "source": [
    "df1.to_excel(\"./output/Output_duplicates.xlsx\", sheet_name='Duplicates')"
   ]
  },
  {
   "cell_type": "code",
   "execution_count": null,
   "metadata": {},
   "outputs": [],
   "source": []
  },
  {
   "cell_type": "code",
   "execution_count": null,
   "metadata": {},
   "outputs": [],
   "source": []
  },
  {
   "cell_type": "code",
   "execution_count": null,
   "metadata": {},
   "outputs": [],
   "source": []
  }
 ],
 "metadata": {
  "kernelspec": {
   "display_name": "Python 3",
   "language": "python",
   "name": "python3"
  },
  "language_info": {
   "codemirror_mode": {
    "name": "ipython",
    "version": 3
   },
   "file_extension": ".py",
   "mimetype": "text/x-python",
   "name": "python",
   "nbconvert_exporter": "python",
   "pygments_lexer": "ipython3",
   "version": "3.8.5-final"
  }
 },
 "nbformat": 4,
 "nbformat_minor": 4
}