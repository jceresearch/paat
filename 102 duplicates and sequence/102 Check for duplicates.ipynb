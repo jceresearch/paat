{
 "cells": [
  {
   "cell_type": "code",
   "execution_count": 1,
   "metadata": {},
   "outputs": [],
   "source": [
    "import pandas as pd\n",
    "from pandas import ExcelWriter\n",
    "from pandas import ExcelFile\n",
    "import numpy as np\n"
   ]
  },
  {
   "cell_type": "code",
   "execution_count": 2,
   "metadata": {},
   "outputs": [
    {
     "name": "stdout",
     "output_type": "stream",
     "text": [
      "(10000, 11)\n"
     ]
    }
   ],
   "source": [
    "df= pd.read_excel(\"/testdata/data.xlsx\", sheet_name=\"Sheet1\")\n",
    "print(df.shape) # \"Shape\" shows count of columns and rows"
   ]
  },
  {
   "cell_type": "code",
   "execution_count": null,
   "metadata": {},
   "outputs": [],
   "source": [
    "df_duplicates = df[df.duplicated(['Auth_ID'],keep=False)][\"Customer_ID\"]\n",
    "df_duplicates\n",
    "df_duplicates.to_excel(\"output/101_Duplicates.xlsx\", sheet_name='Duplicates')\n",
    "df_deduped_ID= df['Auth_ID'].drop_duplicates()\n"
   ]
  },
  {
   "cell_type": "markdown",
   "metadata": {},
   "source": [
    "TODO: add pickle and unpickle for large datasets"
   ]
  },
  {
   "cell_type": "markdown",
   "metadata": {},
   "source": [
    "This is to list the headers"
   ]
  },
  {
   "cell_type": "code",
   "execution_count": 3,
   "metadata": {},
   "outputs": [
    {
     "data": {
      "text/plain": [
       "array(['Unnamed: 0', 'MEMBER_ID', 'RENEWAL_DATE', 'Residential Address',\n",
       "       'city', 'country', 'dob', 'enrollment_date', 'first_name',\n",
       "       'gender', 'last_name'], dtype=object)"
      ]
     },
     "execution_count": 3,
     "metadata": {},
     "output_type": "execute_result"
    }
   ],
   "source": [
    "df.columns.values"
   ]
  },
  {
   "cell_type": "markdown",
   "metadata": {},
   "source": [
    "This is to replace \"NAN\" values with a string, helps with some of the formulae later on"
   ]
  },
  {
   "cell_type": "code",
   "execution_count": 4,
   "metadata": {},
   "outputs": [],
   "source": [
    "\n",
    "df.fillna(\"\", inplace=True)"
   ]
  },
  {
   "cell_type": "markdown",
   "metadata": {},
   "source": [
    "TODO: Check completeness of the file "
   ]
  },
  {
   "cell_type": "code",
   "execution_count": 5,
   "metadata": {},
   "outputs": [],
   "source": [
    "import datetime\n",
    "#here we sort, not really needed, but makes it easier. The \"inplace\" parameter makes the changes\n",
    "#to the df itself, otherwise, it would return a separate data frame\n",
    "df.sort_values('MEMBER_ID', axis=0, ascending=True, inplace=True)\n",
    "\n",
    "\n",
    "df[\"Country\"]=\"\"\n",
    "df[\"Address\"]=\"\"\n",
    "df['Country'] = df['Residential Address'].map(lambda a: a.split(\" \")[-1])\n",
    "df['Address'] = df['Residential Address'].map(lambda a: \" \".join(a.split(\" \")[0:-1]))\n",
    "# this is interesting, when we export to CSV it comes in a different format\n",
    "#TODO investigate how to get it in full datetime format.\n"
   ]
  },
  {
   "cell_type": "code",
   "execution_count": 6,
   "metadata": {},
   "outputs": [
    {
     "data": {
      "text/html": [
       "<div>\n",
       "<style scoped>\n",
       "    .dataframe tbody tr th:only-of-type {\n",
       "        vertical-align: middle;\n",
       "    }\n",
       "\n",
       "    .dataframe tbody tr th {\n",
       "        vertical-align: top;\n",
       "    }\n",
       "\n",
       "    .dataframe thead th {\n",
       "        text-align: right;\n",
       "    }\n",
       "</style>\n",
       "<table border=\"1\" class=\"dataframe\">\n",
       "  <thead>\n",
       "    <tr style=\"text-align: right;\">\n",
       "      <th></th>\n",
       "      <th>Residential Address</th>\n",
       "      <th>Address</th>\n",
       "      <th>Country</th>\n",
       "      <th>country</th>\n",
       "    </tr>\n",
       "  </thead>\n",
       "  <tbody>\n",
       "    <tr>\n",
       "      <th>2939</th>\n",
       "      <td>9633 Greer Grove, Aïn Kercha, Algeria</td>\n",
       "      <td>9633 Greer Grove, Aïn Kercha,</td>\n",
       "      <td>Algeria</td>\n",
       "      <td>Algeria</td>\n",
       "    </tr>\n",
       "    <tr>\n",
       "      <th>5370</th>\n",
       "      <td>4605 Reyes Plains, Terni, Italy</td>\n",
       "      <td>4605 Reyes Plains, Terni,</td>\n",
       "      <td>Italy</td>\n",
       "      <td>Italy</td>\n",
       "    </tr>\n",
       "    <tr>\n",
       "      <th>1791</th>\n",
       "      <td>591 Williams Mount, Sangju, South Korea</td>\n",
       "      <td>591 Williams Mount, Sangju, South</td>\n",
       "      <td>Korea</td>\n",
       "      <td>South Korea</td>\n",
       "    </tr>\n",
       "    <tr>\n",
       "      <th>4401</th>\n",
       "      <td>8390 Morgan Ridge Suite 409, Bosaso, Somalia</td>\n",
       "      <td>8390 Morgan Ridge Suite 409, Bosaso,</td>\n",
       "      <td>Somalia</td>\n",
       "      <td>Somalia</td>\n",
       "    </tr>\n",
       "    <tr>\n",
       "      <th>113</th>\n",
       "      <td>1298 Gibson Ways Suite 267, Karangasem, Indonesia</td>\n",
       "      <td>1298 Gibson Ways Suite 267, Karangasem,</td>\n",
       "      <td>Indonesia</td>\n",
       "      <td>Indonesia</td>\n",
       "    </tr>\n",
       "    <tr>\n",
       "      <th>538</th>\n",
       "      <td>7262 Felicia Well Apt. 349, Chiriguaná, Colombia</td>\n",
       "      <td>7262 Felicia Well Apt. 349, Chiriguaná,</td>\n",
       "      <td>Colombia</td>\n",
       "      <td>Colombia</td>\n",
       "    </tr>\n",
       "    <tr>\n",
       "      <th>6191</th>\n",
       "      <td>705 Carter Branch Suite 216, Boké, Guinea</td>\n",
       "      <td>705 Carter Branch Suite 216, Boké,</td>\n",
       "      <td>Guinea</td>\n",
       "      <td>Guinea</td>\n",
       "    </tr>\n",
       "    <tr>\n",
       "      <th>4975</th>\n",
       "      <td>59810 Clark Club, Little Rock, United States</td>\n",
       "      <td>59810 Clark Club, Little Rock, United</td>\n",
       "      <td>States</td>\n",
       "      <td>United States</td>\n",
       "    </tr>\n",
       "    <tr>\n",
       "      <th>5282</th>\n",
       "      <td>15525 Douglas Plains Apt. 595, North Guwāhāti,...</td>\n",
       "      <td>15525 Douglas Plains Apt. 595, North Guwāhāti,</td>\n",
       "      <td>India</td>\n",
       "      <td>India</td>\n",
       "    </tr>\n",
       "    <tr>\n",
       "      <th>9107</th>\n",
       "      <td>58685 Robert Ridges Suite 194, Ţūlkarm, Palest...</td>\n",
       "      <td>58685 Robert Ridges Suite 194, Ţūlkarm, Palest...</td>\n",
       "      <td>Territory</td>\n",
       "      <td>Palestinian Territory</td>\n",
       "    </tr>\n",
       "  </tbody>\n",
       "</table>\n",
       "</div>"
      ],
      "text/plain": [
       "                                    Residential Address  \\\n",
       "2939              9633 Greer Grove, Aïn Kercha, Algeria   \n",
       "5370                    4605 Reyes Plains, Terni, Italy   \n",
       "1791            591 Williams Mount, Sangju, South Korea   \n",
       "4401       8390 Morgan Ridge Suite 409, Bosaso, Somalia   \n",
       "113   1298 Gibson Ways Suite 267, Karangasem, Indonesia   \n",
       "538    7262 Felicia Well Apt. 349, Chiriguaná, Colombia   \n",
       "6191          705 Carter Branch Suite 216, Boké, Guinea   \n",
       "4975       59810 Clark Club, Little Rock, United States   \n",
       "5282  15525 Douglas Plains Apt. 595, North Guwāhāti,...   \n",
       "9107  58685 Robert Ridges Suite 194, Ţūlkarm, Palest...   \n",
       "\n",
       "                                                Address    Country  \\\n",
       "2939                      9633 Greer Grove, Aïn Kercha,    Algeria   \n",
       "5370                          4605 Reyes Plains, Terni,      Italy   \n",
       "1791                  591 Williams Mount, Sangju, South      Korea   \n",
       "4401               8390 Morgan Ridge Suite 409, Bosaso,    Somalia   \n",
       "113             1298 Gibson Ways Suite 267, Karangasem,  Indonesia   \n",
       "538             7262 Felicia Well Apt. 349, Chiriguaná,   Colombia   \n",
       "6191                 705 Carter Branch Suite 216, Boké,     Guinea   \n",
       "4975              59810 Clark Club, Little Rock, United     States   \n",
       "5282     15525 Douglas Plains Apt. 595, North Guwāhāti,      India   \n",
       "9107  58685 Robert Ridges Suite 194, Ţūlkarm, Palest...  Territory   \n",
       "\n",
       "                    country  \n",
       "2939                Algeria  \n",
       "5370                  Italy  \n",
       "1791            South Korea  \n",
       "4401                Somalia  \n",
       "113               Indonesia  \n",
       "538                Colombia  \n",
       "6191                 Guinea  \n",
       "4975          United States  \n",
       "5282                  India  \n",
       "9107  Palestinian Territory  "
      ]
     },
     "execution_count": 6,
     "metadata": {},
     "output_type": "execute_result"
    }
   ],
   "source": [
    "# This is just a check, listing the results of the previous function\n",
    "df[[\"Residential Address\",\"Address\",\"Country\"][100:110]"
   ]
  },
  {
   "cell_type": "code",
   "execution_count": null,
   "metadata": {},
   "outputs": [],
   "source": [
    "#df.to_csv(\"Data_fixed.csv\") # if we want to export the csv"
   ]
  },
  {
   "cell_type": "code",
   "execution_count": 9,
   "metadata": {},
   "outputs": [],
   "source": [
    "# we retain records that have renewal date after a date, we assign to the df so we are\n",
    "# effectively overwritting the df with a subset version\n",
    "# we could opt to have it as df1 or whatever to preserve the original dataset (df)\n",
    "\n",
    "df= df[df[\"RENEWAL_DATE\"]> pd.to_datetime(\"2019-10-31\")]"
   ]
  },
  {
   "cell_type": "markdown",
   "metadata": {},
   "source": [
    "Some checks"
   ]
  },
  {
   "cell_type": "code",
   "execution_count": 10,
   "metadata": {},
   "outputs": [
    {
     "name": "stderr",
     "output_type": "stream",
     "text": [
      "/Users/juanespasandin/anaconda3/lib/python3.7/site-packages/pandas/core/ops.py:1649: FutureWarning: elementwise comparison failed; returning scalar instead, but in the future will perform elementwise comparison\n",
      "  result = method(y)\n"
     ]
    },
    {
     "data": {
      "text/html": [
       "<div>\n",
       "<style scoped>\n",
       "    .dataframe tbody tr th:only-of-type {\n",
       "        vertical-align: middle;\n",
       "    }\n",
       "\n",
       "    .dataframe tbody tr th {\n",
       "        vertical-align: top;\n",
       "    }\n",
       "\n",
       "    .dataframe thead th {\n",
       "        text-align: right;\n",
       "    }\n",
       "</style>\n",
       "<table border=\"1\" class=\"dataframe\">\n",
       "  <thead>\n",
       "    <tr style=\"text-align: right;\">\n",
       "      <th></th>\n",
       "      <th>Unnamed: 0</th>\n",
       "      <th>MEMBER_ID</th>\n",
       "      <th>RENEWAL_DATE</th>\n",
       "      <th>Residential Address</th>\n",
       "      <th>city</th>\n",
       "      <th>country</th>\n",
       "      <th>dob</th>\n",
       "      <th>enrollment_date</th>\n",
       "      <th>first_name</th>\n",
       "      <th>gender</th>\n",
       "      <th>last_name</th>\n",
       "      <th>Country</th>\n",
       "      <th>Address</th>\n",
       "    </tr>\n",
       "  </thead>\n",
       "  <tbody>\n",
       "  </tbody>\n",
       "</table>\n",
       "</div>"
      ],
      "text/plain": [
       "Empty DataFrame\n",
       "Columns: [Unnamed: 0, MEMBER_ID, RENEWAL_DATE, Residential Address, city, country, dob, enrollment_date, first_name, gender, last_name, Country, Address]\n",
       "Index: []"
      ]
     },
     "execution_count": 10,
     "metadata": {},
     "output_type": "execute_result"
    }
   ],
   "source": [
    "df[df[\"MEMBER_ID\"]==\"\"] # looking for empty members"
   ]
  },
  {
   "cell_type": "code",
   "execution_count": null,
   "metadata": {},
   "outputs": [],
   "source": [
    "df[df[\"RENEWAL_DATE\"]==\"\"] # looking for empty renewal dates"
   ]
  },
  {
   "cell_type": "code",
   "execution_count": null,
   "metadata": {},
   "outputs": [],
   "source": [
    "# Extracting a summarisation of registration ID with the count of member ids\n",
    "df1 = df.groupby('REGISTRATION_ID')['MEMBER_ID'].count().sort_values(ascending=False)\n",
    "print(df1.shape)\n",
    "df1.to_excel(\"Groupby REGISTRATION_ID.xlsx\")"
   ]
  },
  {
   "cell_type": "code",
   "execution_count": null,
   "metadata": {},
   "outputs": [],
   "source": [
    "df2 = df.groupby('MEMBER_ID')['MEMBER_ID'].count().sort_values(ascending=False)\n",
    "list_duplis= df2[df2 >1].keys().to_list()\n",
    "df[df[\"MEMBER_ID\"].isin (list_duplis)].to_excel(\"Duplicate Member IDs.xlsx\")\n",
    "df2.to_excel(\"Groupby MEMBER_ID\")\n",
    "df2[0:10]"
   ]
  },
  {
   "cell_type": "code",
   "execution_count": null,
   "metadata": {},
   "outputs": [],
   "source": [
    "df3= df[df.duplicated(subset=[\"MEMBER_ID\",\"REGISTRATION_ID\"])]\n",
    "df3.shape[0]"
   ]
  },
  {
   "cell_type": "code",
   "execution_count": null,
   "metadata": {},
   "outputs": [],
   "source": [
    "df4 = df.groupby(['RENEWAL_DATE'])['MEMBER_ID'].count().sort_values(ascending=False)\n",
    "print(df4[0:10])\n",
    "print(df4.shape)\n",
    "df4.to_excel(\"Groupby RENEWAL_DATE.xlsx\")"
   ]
  },
  {
   "cell_type": "code",
   "execution_count": null,
   "metadata": {},
   "outputs": [],
   "source": [
    "df5 = df.groupby(['RENEWAL_DATE','Customer type'])['MEMBER_ID'].count().sort_values(ascending=False)\n",
    "print(df5[0:10])\n",
    "print(df5.shape)\n",
    "df5.to_excel(\"Groupby RENEWAL_DATE and Customer Type.xlsx\")"
   ]
  },
  {
   "cell_type": "code",
   "execution_count": null,
   "metadata": {},
   "outputs": [],
   "source": [
    "df6 = df.groupby(['Country','Customer type','INSURER_NAME'])['MEMBER_ID'].count().sort_values(ascending=False)\n",
    "print(df6.shape)\n",
    "df6b= df6.reset_index() #to avoid merged cells in the report\n",
    "df6b.to_excel(\"Groupby Country and Customer Type.xlsx\")"
   ]
  },
  {
   "cell_type": "code",
   "execution_count": null,
   "metadata": {},
   "outputs": [],
   "source": [
    "df7 = df.groupby(['REGISTRATION_ID','Country',\"INSURER_NAME\"])['MEMBER_ID'].count().sort_values(ascending=False)\n",
    "print(df7.shape)\n",
    "df7b= df7.reset_index()\n",
    "df7c= df7b[df7b[\"Country\"]!=\"\"]\n",
    "print(df7c.shape)\n",
    "\n",
    "df7d= df7c[df7c.duplicated(subset=[\"REGISTRATION_ID\"], keep=False)].sort_values(\"REGISTRATION_ID\")\n",
    "df7d.shape\n",
    "df7d.to_excel(\"Groupby REGISTRATION_ID and country diff address.xlsx\", merge_cells=False)"
   ]
  },
  {
   "cell_type": "code",
   "execution_count": null,
   "metadata": {},
   "outputs": [],
   "source": [
    "df8 = df7.reset_index()\n",
    "pd.pivot_table(df8,index=[\"Country\"],values=[\"MEMBER_ID\"],\n",
    "               columns=[\"INSURER_NAME\"],aggfunc=[np.sum]).to_excel(\"Pivot.xlsx\")"
   ]
  },
  {
   "cell_type": "code",
   "execution_count": null,
   "metadata": {},
   "outputs": [],
   "source": []
  },
  {
   "cell_type": "code",
   "execution_count": null,
   "metadata": {},
   "outputs": [],
   "source": []
  },
  {
   "cell_type": "code",
   "execution_count": null,
   "metadata": {},
   "outputs": [],
   "source": []
  }
 ],
 "metadata": {
  "kernelspec": {
   "display_name": "Python 3",
   "language": "python",
   "name": "python3"
  },
  "language_info": {
   "codemirror_mode": {
    "name": "ipython",
    "version": 3
   },
   "file_extension": ".py",
   "mimetype": "text/x-python",
   "name": "python",
   "nbconvert_exporter": "python",
   "pygments_lexer": "ipython3",
   "version": "3.7.4"
  }
 },
 "nbformat": 4,
 "nbformat_minor": 4
}
