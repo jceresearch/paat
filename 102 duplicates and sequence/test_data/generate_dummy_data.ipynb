{
 "cells": [
  {
   "cell_type": "code",
   "execution_count": null,
   "metadata": {},
   "outputs": [],
   "source": []
  },
  {
   "cell_type": "code",
   "execution_count": 93,
   "metadata": {},
   "outputs": [],
   "source": [
    "\n",
    "import random, csv\n",
    "from datetime import timedelta, datetime\n",
    "from faker import Faker\n",
    "from faker.providers import person\n",
    "from faker.providers import address\n",
    "from faker.providers import date_time\n",
    "\n",
    "fake = Faker()\n",
    "fake.add_provider(person)\n",
    "fake.add_provider(address)\n",
    "fake.add_provider(date_time)\n",
    "\n",
    "\n",
    "\n",
    "def generate_record(fake, dfcities):\n",
    "    d = dict()\n",
    "    d['gender'] = 'M' if random.randint(0,1) == 0 else 'F'\n",
    "    d['first_name'] = fake.first_name_male() if d['gender']=='M' else fake.first_name_female()\n",
    "    d['last_name'] = fake.last_name()\n",
    "    sd = fake.date_between(start_date=\"-20y\", end_date=\"now\")\n",
    "    delta = timedelta(days=365*random.randint(0,80))\n",
    "    d['dob'] = sd-delta\n",
    "    d['enrollment_date']= sd\n",
    "\n",
    "    r= random.randint(0,dfcities.shape[0]-1)\n",
    "    d['city']= dfcities['name'][r]\n",
    "    d['country']= dfcities['country'][r]\n",
    "    d['Residential Address']= fake.street_address() + \", \" + d['city']+\", \"+ d['country']\n",
    "    d['RENEWAL_DATE']=fake.date_between(start_date=\"now\", end_date=\"+12M\")\n",
    "    d['MEMBER_ID']='{:03d}'.format(random.randint(1,300)) +\"-\" +str(fake.ean(length=8))\n",
    "    d['REGISTRATION_ID']='{:02d}'.format(random.randint(1,100)) +\"-\" +str(fake.ean(length=13))\n",
    "    return d\n",
    "    "
   ]
  },
  {
   "cell_type": "code",
   "execution_count": 94,
   "metadata": {},
   "outputs": [],
   "source": [
    "import  pandas as pd\n",
    "dfcities = pd.read_csv('world-cities.csv', delimiter=\",\")\n",
    "\n",
    "\n"
   ]
  },
  {
   "cell_type": "code",
   "execution_count": 102,
   "metadata": {},
   "outputs": [
    {
     "data": {
      "text/plain": [
       "{'gender': 'F',\n",
       " 'first_name': 'Tina',\n",
       " 'last_name': 'Parker',\n",
       " 'dob': datetime.date(1983, 6, 29),\n",
       " 'enrollment_date': datetime.date(2003, 6, 24),\n",
       " 'city': 'Boca Raton',\n",
       " 'country': 'United States',\n",
       " 'Residential Address': '811 Hawkins Well Suite 690, Boca Raton, United States',\n",
       " 'RENEWAL_DATE': datetime.date(2019, 9, 12),\n",
       " 'MEMBER_ID': '024-68880484',\n",
       " 'REGISTRATION_ID': '48-7523158728914'}"
      ]
     },
     "execution_count": 102,
     "metadata": {},
     "output_type": "execute_result"
    }
   ],
   "source": [
    "rec=generate_record(fake, dfcities)\n",
    "rec"
   ]
  },
  {
   "cell_type": "code",
   "execution_count": 82,
   "metadata": {},
   "outputs": [],
   "source": [
    "output = pd.DataFrame()\n",
    "for i in range(100):\n",
    "    rec=generate_record(fake,dfcities)\n",
    "    output = output.append(rec, ignore_index=True)\n",
    "output.drop(columns=['country','city'], inplace=True)\n",
    "output.to_excel(\"./data.xlsx\")"
   ]
  },
  {
   "cell_type": "code",
   "execution_count": null,
   "metadata": {},
   "outputs": [],
   "source": []
  }
 ],
 "metadata": {
  "kernelspec": {
   "display_name": "Python 3",
   "language": "python",
   "name": "python3"
  },
  "language_info": {
   "codemirror_mode": {
    "name": "ipython",
    "version": 3
   },
   "file_extension": ".py",
   "mimetype": "text/x-python",
   "name": "python",
   "nbconvert_exporter": "python",
   "pygments_lexer": "ipython3",
   "version": "3.6.6+"
  }
 },
 "nbformat": 4,
 "nbformat_minor": 4
}
