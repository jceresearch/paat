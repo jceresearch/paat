{
 "cells": [
  {
   "cell_type": "code",
   "execution_count": 42,
   "metadata": {},
   "outputs": [],
   "source": [
    "import pandas as pd \n",
    "import numpy as np\n",
    "import re\n"
   ]
  },
  {
   "cell_type": "code",
   "execution_count": 43,
   "metadata": {},
   "outputs": [
    {
     "data": {
      "text/plain": [
       "(1169739, 14)"
      ]
     },
     "execution_count": 43,
     "metadata": {},
     "output_type": "execute_result"
    }
   ],
   "source": [
    "# Read data from file 'filename.csv' \n",
    "# (in the same directory that your python process is based)\n",
    "# Control delimiters, rows, column names with read_csv (see later) \n",
    "df_list=[]\n",
    "for n in range(1,10):\n",
    "    dftemp = pd.read_csv(\"./test_data/winemag-data-130k-v2.csv\") \n",
    "    df_list.append(dftemp)\n",
    "# Preview the first 5 lines of the loaded data \n",
    "df=pd.concat(df_list)\n",
    "df.shape"
   ]
  },
  {
   "cell_type": "code",
   "execution_count": 68,
   "metadata": {},
   "outputs": [],
   "source": [
    "df['designation'].fillna(\"\",inplace=True)\n"
   ]
  },
  {
   "cell_type": "code",
   "execution_count": 57,
   "metadata": {},
   "outputs": [
    {
     "data": {
      "text/plain": [
       "25951    Long-time admirers of this wine may find the 2...\n",
       "62185    Aromas of birthday cake, fig, tobacco, soy and...\n",
       "25951    Long-time admirers of this wine may find the 2...\n",
       "62185    Aromas of birthday cake, fig, tobacco, soy and...\n",
       "25951    Long-time admirers of this wine may find the 2...\n",
       "62185    Aromas of birthday cake, fig, tobacco, soy and...\n",
       "25951    Long-time admirers of this wine may find the 2...\n",
       "62185    Aromas of birthday cake, fig, tobacco, soy and...\n",
       "25951    Long-time admirers of this wine may find the 2...\n",
       "62185    Aromas of birthday cake, fig, tobacco, soy and...\n",
       "25951    Long-time admirers of this wine may find the 2...\n",
       "62185    Aromas of birthday cake, fig, tobacco, soy and...\n",
       "25951    Long-time admirers of this wine may find the 2...\n",
       "62185    Aromas of birthday cake, fig, tobacco, soy and...\n",
       "25951    Long-time admirers of this wine may find the 2...\n",
       "62185    Aromas of birthday cake, fig, tobacco, soy and...\n",
       "25951    Long-time admirers of this wine may find the 2...\n",
       "62185    Aromas of birthday cake, fig, tobacco, soy and...\n",
       "Name: description, dtype: object"
      ]
     },
     "execution_count": 57,
     "metadata": {},
     "output_type": "execute_result"
    }
   ],
   "source": [
    "re_list=['.*fruit.*','.*tart.*','.*mud.*','.*shit.*']\n",
    "n=1\n",
    "for re_text in re_list:\n",
    "    r = re.compile(re_text,re.IGNORECASE)\n",
    "    regmatch = np.vectorize(lambda x: bool(r.match(x)))\n",
    "    df[\"match\"+str(n)]=regmatch(df.description.values)\n",
    "    n=n+1\n",
    "df[df['match4']==True]['description']"
   ]
  },
  {
   "cell_type": "code",
   "execution_count": 70,
   "metadata": {},
   "outputs": [
    {
     "data": {
      "text/plain": [
       "array([[\"Aromas include tropical fruit, broom, brimstone and dried herb. The palate isn't overly expressive, offering unripened apple, citrus and dried sage alongside brisk acidity.\",\n",
       "        'Vulkà Bianco'],\n",
       "       [\"This is ripe and fruity, a wine that is smooth while still structured. Firm tannins are filled out with juicy red berry fruits and freshened with acidity. It's  already drinkable, although it will certainly be better from 2016.\",\n",
       "        'Avidagos'],\n",
       "       ['Tart and snappy, the flavors of lime flesh and rind dominate. Some green pineapple pokes through, with crisp acidity underscoring the flavors. The wine was all stainless-steel fermented.',\n",
       "        ''],\n",
       "       ...,\n",
       "       ['Well-drained gravel soil gives this wine its crisp and dry character. It is ripe and fruity, although the spice is subdued in favor of a more serious structure. This is a wine to age for a couple of years, so drink from 2017.',\n",
       "        'Kritt'],\n",
       "       ['A dry style of Pinot Gris, this is crisp with some acidity. It also has weight and a solid, powerful core of spice and baked apple flavors. With its structure still developing, the wine needs to age. Drink from 2015.',\n",
       "        ''],\n",
       "       ['Big, rich and off-dry, this is powered by intense spiciness and rounded texture. Lychees dominate the fruit profile, giving an opulent feel to the aftertaste. Drink now.',\n",
       "        'Lieu-dit Harth Cuvée Caroline']], dtype=object)"
      ]
     },
     "execution_count": 70,
     "metadata": {},
     "output_type": "execute_result"
    }
   ],
   "source": [
    "df[['description','designation']].values"
   ]
  },
  {
   "cell_type": "code",
   "execution_count": 75,
   "metadata": {},
   "outputs": [
    {
     "name": "stdout",
     "output_type": "stream",
     "text": [
      "fruit\n",
      "tart\n"
     ]
    },
    {
     "ename": "KeyboardInterrupt",
     "evalue": "",
     "output_type": "error",
     "traceback": [
      "\u001b[0;31m---------------------------------------------------------------------------\u001b[0m",
      "\u001b[0;31mKeyboardInterrupt\u001b[0m                         Traceback (most recent call last)",
      "\u001b[0;32m<timed exec>\u001b[0m in \u001b[0;36m<module>\u001b[0;34m\u001b[0m\n",
      "\u001b[0;32m<timed exec>\u001b[0m in \u001b[0;36mfirst_way\u001b[0;34m(keyword_list)\u001b[0m\n",
      "\u001b[0;32m<timed exec>\u001b[0m in \u001b[0;36m<listcomp>\u001b[0;34m(.0)\u001b[0m\n",
      "\u001b[0;32m<timed exec>\u001b[0m in \u001b[0;36m<genexpr>\u001b[0;34m(.0)\u001b[0m\n",
      "\u001b[0;31mKeyboardInterrupt\u001b[0m: "
     ]
    }
   ],
   "source": [
    "%%time \n",
    "keyword_list=['fruit','tart','mud','shit']\n",
    "\n",
    "def first_way(keyword_list):\n",
    "    keyword_list=[x.lower() for x in keyword_list]\n",
    "    #listed = df[\"description\"].str.lower().tolist()\n",
    "    for kw in keyword_list:\n",
    "        print(kw)\n",
    "        res = df[[any(kw in x for x in row) for row in df['description'].values]]\n",
    "\n",
    "    return res\n",
    "res=first_way(keyword_list)\n",
    "res"
   ]
  },
  {
   "cell_type": "code",
   "execution_count": 76,
   "metadata": {},
   "outputs": [
    {
     "name": "stdout",
     "output_type": "stream",
     "text": [
      "fruit\n",
      "tart\n",
      "mud\n",
      "shit\n",
      "CPU times: user 3.66 s, sys: 1.37 s, total: 5.03 s\n",
      "Wall time: 7.16 s\n"
     ]
    },
    {
     "data": {
      "text/plain": [
       "25951    Long-time admirers of this wine may find the 2...\n",
       "62185    Aromas of birthday cake, fig, tobacco, soy and...\n",
       "25951    Long-time admirers of this wine may find the 2...\n",
       "62185    Aromas of birthday cake, fig, tobacco, soy and...\n",
       "25951    Long-time admirers of this wine may find the 2...\n",
       "62185    Aromas of birthday cake, fig, tobacco, soy and...\n",
       "25951    Long-time admirers of this wine may find the 2...\n",
       "62185    Aromas of birthday cake, fig, tobacco, soy and...\n",
       "25951    Long-time admirers of this wine may find the 2...\n",
       "62185    Aromas of birthday cake, fig, tobacco, soy and...\n",
       "25951    Long-time admirers of this wine may find the 2...\n",
       "62185    Aromas of birthday cake, fig, tobacco, soy and...\n",
       "25951    Long-time admirers of this wine may find the 2...\n",
       "62185    Aromas of birthday cake, fig, tobacco, soy and...\n",
       "25951    Long-time admirers of this wine may find the 2...\n",
       "62185    Aromas of birthday cake, fig, tobacco, soy and...\n",
       "25951    Long-time admirers of this wine may find the 2...\n",
       "62185    Aromas of birthday cake, fig, tobacco, soy and...\n",
       "Name: description, dtype: object"
      ]
     },
     "execution_count": 76,
     "metadata": {},
     "output_type": "execute_result"
    }
   ],
   "source": [
    "%%time\n",
    "keyword_list=['fruit','tart','mud','shit']\n",
    "def second_way(keyword_list):\n",
    "    keyword_list=[x.lower() for x in keyword_list]\n",
    "    listed = df[\"description\"].str.lower().tolist()\n",
    "    n=1\n",
    "    for kw in keyword_list:\n",
    "        print(kw)\n",
    "        df[\"match\"+str(n)] = [kw in n for n in listed]\n",
    "        n=n+1\n",
    "    return None\n",
    "second_way(keyword_list)\n",
    "df[df['match4']==True]['description']"
   ]
  },
  {
   "cell_type": "code",
   "execution_count": null,
   "metadata": {},
   "outputs": [],
   "source": []
  }
 ],
 "metadata": {
  "kernelspec": {
   "display_name": "Python 3",
   "language": "python",
   "name": "python3"
  },
  "language_info": {
   "codemirror_mode": {
    "name": "ipython",
    "version": 3
   },
   "file_extension": ".py",
   "mimetype": "text/x-python",
   "name": "python",
   "nbconvert_exporter": "python",
   "pygments_lexer": "ipython3",
   "version": "3.7.6"
  }
 },
 "nbformat": 4,
 "nbformat_minor": 4
}
