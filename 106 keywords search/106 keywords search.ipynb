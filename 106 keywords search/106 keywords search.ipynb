{
 "cells": [
  {
   "cell_type": "code",
   "execution_count": 43,
   "metadata": {},
   "outputs": [],
   "source": [
    "import pandas as pd \n",
    "import numpy as np\n",
    "import re\n"
   ]
  },
  {
   "cell_type": "code",
   "execution_count": 71,
   "metadata": {},
   "outputs": [
    {
     "data": {
      "text/plain": [
       "(4247, 4)"
      ]
     },
     "execution_count": 71,
     "metadata": {},
     "output_type": "execute_result"
    }
   ],
   "source": [
    "# Read data from file 'filename.csv' \n",
    "# (in the same directory that your python process is based)\n",
    "# Control delimiters, rows, column names with read_csv (see later)\n",
    "df_list=[]\n",
    "file_list=[\"./test_data/data.csv\"]\n",
    "for f in file_list:\n",
    "    dftemp = pd.read_csv(f) \n",
    "    df_list.append(dftemp)\n",
    "df=pd.concat(df_list)\n",
    "df.shape"
   ]
  },
  {
   "cell_type": "code",
   "execution_count": 72,
   "metadata": {},
   "outputs": [
    {
     "data": {
      "text/html": [
       "<div>\n",
       "<style scoped>\n",
       "    .dataframe tbody tr th:only-of-type {\n",
       "        vertical-align: middle;\n",
       "    }\n",
       "\n",
       "    .dataframe tbody tr th {\n",
       "        vertical-align: top;\n",
       "    }\n",
       "\n",
       "    .dataframe thead th {\n",
       "        text-align: right;\n",
       "    }\n",
       "</style>\n",
       "<table border=\"1\" class=\"dataframe\">\n",
       "  <thead>\n",
       "    <tr style=\"text-align: right;\">\n",
       "      <th></th>\n",
       "      <th>Unnamed: 0</th>\n",
       "      <th>page_title</th>\n",
       "      <th>article_sentences</th>\n",
       "      <th>page_url</th>\n",
       "    </tr>\n",
       "  </thead>\n",
       "  <tbody>\n",
       "    <tr>\n",
       "      <td>0</td>\n",
       "      <td>0</td>\n",
       "      <td>News analytics</td>\n",
       "      <td>News analysis refers to the measurement of the...</td>\n",
       "      <td>https://en.wikipedia.org/wiki/News_analytics</td>\n",
       "    </tr>\n",
       "    <tr>\n",
       "      <td>1</td>\n",
       "      <td>1</td>\n",
       "      <td>News analytics</td>\n",
       "      <td>Some of these attributes are: sentiment, relev...</td>\n",
       "      <td>https://en.wikipedia.org/wiki/News_analytics</td>\n",
       "    </tr>\n",
       "    <tr>\n",
       "      <td>2</td>\n",
       "      <td>2</td>\n",
       "      <td>News analytics</td>\n",
       "      <td>Expressing news stories as numbers and metadat...</td>\n",
       "      <td>https://en.wikipedia.org/wiki/News_analytics</td>\n",
       "    </tr>\n",
       "    <tr>\n",
       "      <td>3</td>\n",
       "      <td>3</td>\n",
       "      <td>News analytics</td>\n",
       "      <td>This data is often used in financial markets a...</td>\n",
       "      <td>https://en.wikipedia.org/wiki/News_analytics</td>\n",
       "    </tr>\n",
       "    <tr>\n",
       "      <td>4</td>\n",
       "      <td>4</td>\n",
       "      <td>News analytics</td>\n",
       "      <td>News analytics are usually derived through aut...</td>\n",
       "      <td>https://en.wikipedia.org/wiki/News_analytics</td>\n",
       "    </tr>\n",
       "  </tbody>\n",
       "</table>\n",
       "</div>"
      ],
      "text/plain": [
       "   Unnamed: 0      page_title  \\\n",
       "0           0  News analytics   \n",
       "1           1  News analytics   \n",
       "2           2  News analytics   \n",
       "3           3  News analytics   \n",
       "4           4  News analytics   \n",
       "\n",
       "                                   article_sentences  \\\n",
       "0  News analysis refers to the measurement of the...   \n",
       "1  Some of these attributes are: sentiment, relev...   \n",
       "2  Expressing news stories as numbers and metadat...   \n",
       "3  This data is often used in financial markets a...   \n",
       "4  News analytics are usually derived through aut...   \n",
       "\n",
       "                                       page_url  \n",
       "0  https://en.wikipedia.org/wiki/News_analytics  \n",
       "1  https://en.wikipedia.org/wiki/News_analytics  \n",
       "2  https://en.wikipedia.org/wiki/News_analytics  \n",
       "3  https://en.wikipedia.org/wiki/News_analytics  \n",
       "4  https://en.wikipedia.org/wiki/News_analytics  "
      ]
     },
     "execution_count": 72,
     "metadata": {},
     "output_type": "execute_result"
    }
   ],
   "source": [
    "df.head()"
   ]
  },
  {
   "cell_type": "markdown",
   "metadata": {},
   "source": [
    "We do some cleanup, typically files may come with nulls or NAs"
   ]
  },
  {
   "cell_type": "code",
   "execution_count": 95,
   "metadata": {},
   "outputs": [],
   "source": [
    "df['article_sentences'].fillna(\"\",inplace=True)\n",
    "df['article_sentences'] = df['article_sentences'].str.replace('\\@','')"
   ]
  },
  {
   "cell_type": "markdown",
   "metadata": {},
   "source": [
    "This is where we define the list of keywords, if we have a large set, we can keep them in a text file or excel file  \n",
    "and load it into a list  \n",
    "We use here regular expressions, which is a powerful pattern matching library/language.\n"
   ]
  },
  {
   "cell_type": "code",
   "execution_count": 96,
   "metadata": {},
   "outputs": [],
   "source": [
    "re_list=['.*scandal.*','.*analytics.*','.*continuous.*','.*statistical.*']"
   ]
  },
  {
   "cell_type": "code",
   "execution_count": 97,
   "metadata": {},
   "outputs": [
    {
     "name": "stdout",
     "output_type": "stream",
     "text": [
      "Wall time: 109 ms\n"
     ]
    }
   ],
   "source": [
    "%%time\n",
    "def re_search(re_list,df, field_name):\n",
    "    n=1\n",
    "    for re_text in re_list:\n",
    "        r = re.compile(re_text,re.IGNORECASE)\n",
    "        regmatch = np.vectorize(lambda x: bool(r.match(x)))\n",
    "        df[\"re_match\"+str(n)]=regmatch(df[field_name].values)\n",
    "        n=n+1\n",
    "re_search(re_list,df,\"article_sentences\")"
   ]
  },
  {
   "cell_type": "code",
   "execution_count": 98,
   "metadata": {},
   "outputs": [
    {
     "data": {
      "text/plain": [
       "194     Regulation surrounding entity-level controls =...\n",
       "801     The Big Five became the Big Four after the dem...\n",
       "827     One result of this scandal was that Arthur And...\n",
       "828     A recent trend in audits (spurred on by such a...\n",
       "1351    2002: Sarbanes-Oxley Act is passed in the wake...\n",
       "1557    High-profile commercial scandals and failures ...\n",
       "Name: article_sentences, dtype: object"
      ]
     },
     "execution_count": 98,
     "metadata": {},
     "output_type": "execute_result"
    }
   ],
   "source": [
    "df[df['re_match1']==True]['article_sentences']"
   ]
  },
  {
   "cell_type": "code",
   "execution_count": 99,
   "metadata": {},
   "outputs": [
    {
     "data": {
      "text/html": [
       "<div>\n",
       "<style scoped>\n",
       "    .dataframe tbody tr th:only-of-type {\n",
       "        vertical-align: middle;\n",
       "    }\n",
       "\n",
       "    .dataframe tbody tr th {\n",
       "        vertical-align: top;\n",
       "    }\n",
       "\n",
       "    .dataframe thead th {\n",
       "        text-align: right;\n",
       "    }\n",
       "</style>\n",
       "<table border=\"1\" class=\"dataframe\">\n",
       "  <thead>\n",
       "    <tr style=\"text-align: right;\">\n",
       "      <th></th>\n",
       "      <th>Unnamed: 0</th>\n",
       "      <th>page_title</th>\n",
       "      <th>article_sentences</th>\n",
       "      <th>page_url</th>\n",
       "      <th>re_match1</th>\n",
       "      <th>re_match2</th>\n",
       "      <th>re_match3</th>\n",
       "      <th>re_match4</th>\n",
       "      <th>kw_match1</th>\n",
       "      <th>kw_match2</th>\n",
       "      <th>kw_match3</th>\n",
       "      <th>kw_match4</th>\n",
       "    </tr>\n",
       "  </thead>\n",
       "  <tbody>\n",
       "    <tr>\n",
       "      <td>0</td>\n",
       "      <td>0</td>\n",
       "      <td>News analytics</td>\n",
       "      <td>News analysis refers to the measurement of the...</td>\n",
       "      <td>https://en.wikipedia.org/wiki/News_analytics</td>\n",
       "      <td>False</td>\n",
       "      <td>False</td>\n",
       "      <td>False</td>\n",
       "      <td>False</td>\n",
       "      <td>False</td>\n",
       "      <td>False</td>\n",
       "      <td>False</td>\n",
       "      <td>False</td>\n",
       "    </tr>\n",
       "    <tr>\n",
       "      <td>1</td>\n",
       "      <td>1</td>\n",
       "      <td>News analytics</td>\n",
       "      <td>Some of these attributes are: sentiment, relev...</td>\n",
       "      <td>https://en.wikipedia.org/wiki/News_analytics</td>\n",
       "      <td>False</td>\n",
       "      <td>False</td>\n",
       "      <td>False</td>\n",
       "      <td>False</td>\n",
       "      <td>False</td>\n",
       "      <td>False</td>\n",
       "      <td>False</td>\n",
       "      <td>False</td>\n",
       "    </tr>\n",
       "    <tr>\n",
       "      <td>2</td>\n",
       "      <td>2</td>\n",
       "      <td>News analytics</td>\n",
       "      <td>Expressing news stories as numbers and metadat...</td>\n",
       "      <td>https://en.wikipedia.org/wiki/News_analytics</td>\n",
       "      <td>False</td>\n",
       "      <td>False</td>\n",
       "      <td>False</td>\n",
       "      <td>True</td>\n",
       "      <td>False</td>\n",
       "      <td>False</td>\n",
       "      <td>False</td>\n",
       "      <td>True</td>\n",
       "    </tr>\n",
       "    <tr>\n",
       "      <td>3</td>\n",
       "      <td>3</td>\n",
       "      <td>News analytics</td>\n",
       "      <td>This data is often used in financial markets a...</td>\n",
       "      <td>https://en.wikipedia.org/wiki/News_analytics</td>\n",
       "      <td>False</td>\n",
       "      <td>False</td>\n",
       "      <td>False</td>\n",
       "      <td>False</td>\n",
       "      <td>False</td>\n",
       "      <td>False</td>\n",
       "      <td>False</td>\n",
       "      <td>False</td>\n",
       "    </tr>\n",
       "    <tr>\n",
       "      <td>4</td>\n",
       "      <td>4</td>\n",
       "      <td>News analytics</td>\n",
       "      <td>News analytics are usually derived through aut...</td>\n",
       "      <td>https://en.wikipedia.org/wiki/News_analytics</td>\n",
       "      <td>False</td>\n",
       "      <td>True</td>\n",
       "      <td>False</td>\n",
       "      <td>False</td>\n",
       "      <td>False</td>\n",
       "      <td>True</td>\n",
       "      <td>False</td>\n",
       "      <td>False</td>\n",
       "    </tr>\n",
       "  </tbody>\n",
       "</table>\n",
       "</div>"
      ],
      "text/plain": [
       "   Unnamed: 0      page_title  \\\n",
       "0           0  News analytics   \n",
       "1           1  News analytics   \n",
       "2           2  News analytics   \n",
       "3           3  News analytics   \n",
       "4           4  News analytics   \n",
       "\n",
       "                                   article_sentences  \\\n",
       "0  News analysis refers to the measurement of the...   \n",
       "1  Some of these attributes are: sentiment, relev...   \n",
       "2  Expressing news stories as numbers and metadat...   \n",
       "3  This data is often used in financial markets a...   \n",
       "4  News analytics are usually derived through aut...   \n",
       "\n",
       "                                       page_url  re_match1  re_match2  \\\n",
       "0  https://en.wikipedia.org/wiki/News_analytics      False      False   \n",
       "1  https://en.wikipedia.org/wiki/News_analytics      False      False   \n",
       "2  https://en.wikipedia.org/wiki/News_analytics      False      False   \n",
       "3  https://en.wikipedia.org/wiki/News_analytics      False      False   \n",
       "4  https://en.wikipedia.org/wiki/News_analytics      False       True   \n",
       "\n",
       "   re_match3  re_match4  kw_match1  kw_match2  kw_match3  kw_match4  \n",
       "0      False      False      False      False      False      False  \n",
       "1      False      False      False      False      False      False  \n",
       "2      False       True      False      False      False       True  \n",
       "3      False      False      False      False      False      False  \n",
       "4      False      False      False       True      False      False  "
      ]
     },
     "execution_count": 99,
     "metadata": {},
     "output_type": "execute_result"
    }
   ],
   "source": [
    "df.head()"
   ]
  },
  {
   "cell_type": "code",
   "execution_count": 100,
   "metadata": {},
   "outputs": [],
   "source": [
    "keyword_list=['scandal','analytics','continuous','statistical']"
   ]
  },
  {
   "cell_type": "code",
   "execution_count": 101,
   "metadata": {},
   "outputs": [
    {
     "name": "stdout",
     "output_type": "stream",
     "text": [
      "scandal\n",
      "analytics\n",
      "continuous\n",
      "statistical\n",
      "Wall time: 8.98 ms\n"
     ]
    }
   ],
   "source": [
    "%%time\n",
    "def keyword_search(keyword_list,df, field_name):\n",
    "    keyword_list=[x.lower() for x in keyword_list]\n",
    "    listed = df[field_name].str.lower().tolist()\n",
    "    n=1\n",
    "    for kw in keyword_list:\n",
    "        print(kw)\n",
    "        df[\"kw_match\"+str(n)] = [kw in n for n in listed]\n",
    "        n=n+1\n",
    "    return None\n",
    "keyword_search(keyword_list,df,'article_sentences')\n"
   ]
  },
  {
   "cell_type": "code",
   "execution_count": 102,
   "metadata": {},
   "outputs": [
    {
     "data": {
      "text/plain": [
       "194     Regulation surrounding entity-level controls =...\n",
       "801     The Big Five became the Big Four after the dem...\n",
       "827     One result of this scandal was that Arthur And...\n",
       "828     A recent trend in audits (spurred on by such a...\n",
       "1351    2002: Sarbanes-Oxley Act is passed in the wake...\n",
       "1557    High-profile commercial scandals and failures ...\n",
       "Name: article_sentences, dtype: object"
      ]
     },
     "execution_count": 102,
     "metadata": {},
     "output_type": "execute_result"
    }
   ],
   "source": [
    "df[df['kw_match1']==True]['article_sentences']"
   ]
  },
  {
   "cell_type": "code",
   "execution_count": 103,
   "metadata": {},
   "outputs": [],
   "source": [
    "df_output=df[df[['re_match1','re_match2',\"re_match3\",\"re_match4\"]].any(1)]"
   ]
  },
  {
   "cell_type": "code",
   "execution_count": 104,
   "metadata": {},
   "outputs": [],
   "source": [
    "df_output.to_excel(\"./output_data/found_records.xlsx\")"
   ]
  },
  {
   "cell_type": "code",
   "execution_count": null,
   "metadata": {},
   "outputs": [],
   "source": []
  }
 ],
 "metadata": {
  "kernelspec": {
   "display_name": "Python 3",
   "language": "python",
   "name": "python3"
  },
  "language_info": {
   "codemirror_mode": {
    "name": "ipython",
    "version": 3
   },
   "file_extension": ".py",
   "mimetype": "text/x-python",
   "name": "python",
   "nbconvert_exporter": "python",
   "pygments_lexer": "ipython3",
   "version": "3.7.4"
  }
 },
 "nbformat": 4,
 "nbformat_minor": 4
}
