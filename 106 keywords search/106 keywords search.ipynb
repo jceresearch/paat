{
 "cells": [
  {
   "cell_type": "code",
   "execution_count": 42,
   "metadata": {},
   "outputs": [],
   "source": [
    "import pandas as pd \n",
    "# Read data from file 'filename.csv' \n",
    "# (in the same directory that your python process is based)\n",
    "# Control delimiters, rows, column names with read_csv (see later) \n",
    "df_list=[]\n",
    "for n in range(1,10):\n",
    "    dftemp = pd.read_csv(\"./test_data/winemag-data-130k-v2.csv\") \n",
    "    df_list.append(dftemp)\n",
    "# Preview the first 5 lines of the loaded data \n",
    "\n",
    "df=pd.concat(df_list)"
   ]
  },
  {
   "cell_type": "code",
   "execution_count": 43,
   "metadata": {},
   "outputs": [
    {
     "data": {
      "text/plain": [
       "(1169739, 14)"
      ]
     },
     "execution_count": 43,
     "metadata": {},
     "output_type": "execute_result"
    }
   ],
   "source": [
    "df.shape"
   ]
  },
  {
   "cell_type": "code",
   "execution_count": null,
   "metadata": {},
   "outputs": [],
   "source": []
  },
  {
   "cell_type": "code",
   "execution_count": 31,
   "metadata": {},
   "outputs": [],
   "source": [
    "import numpy as np\n",
    "import re"
   ]
  },
  {
   "cell_type": "code",
   "execution_count": 38,
   "metadata": {},
   "outputs": [],
   "source": [
    "re_list=['.*fruit.*','.*tart.*','.*mud.*','.*shit.*']\n",
    "\n",
    "n=1\n",
    "for re_text in re_list:\n",
    "    r = re.compile(re_text,re.IGNORECASE)\n",
    "    regmatch = np.vectorize(lambda x: bool(r.match(x)))\n",
    "    df[\"match\"+str(n)]=regmatch(df.description.values)\n",
    "    n=n+1\n"
   ]
  },
  {
   "cell_type": "code",
   "execution_count": 41,
   "metadata": {},
   "outputs": [
    {
     "data": {
      "text/plain": [
       "25951    Long-time admirers of this wine may find the 2...\n",
       "62185    Aromas of birthday cake, fig, tobacco, soy and...\n",
       "25951    Long-time admirers of this wine may find the 2...\n",
       "62185    Aromas of birthday cake, fig, tobacco, soy and...\n",
       "25951    Long-time admirers of this wine may find the 2...\n",
       "62185    Aromas of birthday cake, fig, tobacco, soy and...\n",
       "25951    Long-time admirers of this wine may find the 2...\n",
       "62185    Aromas of birthday cake, fig, tobacco, soy and...\n",
       "25951    Long-time admirers of this wine may find the 2...\n",
       "62185    Aromas of birthday cake, fig, tobacco, soy and...\n",
       "25951    Long-time admirers of this wine may find the 2...\n",
       "62185    Aromas of birthday cake, fig, tobacco, soy and...\n",
       "25951    Long-time admirers of this wine may find the 2...\n",
       "62185    Aromas of birthday cake, fig, tobacco, soy and...\n",
       "25951    Long-time admirers of this wine may find the 2...\n",
       "62185    Aromas of birthday cake, fig, tobacco, soy and...\n",
       "25951    Long-time admirers of this wine may find the 2...\n",
       "62185    Aromas of birthday cake, fig, tobacco, soy and...\n",
       "25951    Long-time admirers of this wine may find the 2...\n",
       "62185    Aromas of birthday cake, fig, tobacco, soy and...\n",
       "Name: description, dtype: object"
      ]
     },
     "execution_count": 41,
     "metadata": {},
     "output_type": "execute_result"
    }
   ],
   "source": [
    "df[df['match4']==True]['description']"
   ]
  },
  {
   "cell_type": "code",
   "execution_count": null,
   "metadata": {},
   "outputs": [],
   "source": []
  }
 ],
 "metadata": {
  "kernelspec": {
   "display_name": "Python 3",
   "language": "python",
   "name": "python3"
  },
  "language_info": {
   "codemirror_mode": {
    "name": "ipython",
    "version": 3
   },
   "file_extension": ".py",
   "mimetype": "text/x-python",
   "name": "python",
   "nbconvert_exporter": "python",
   "pygments_lexer": "ipython3",
   "version": "3.7.6"
  }
 },
 "nbformat": 4,
 "nbformat_minor": 4
}
