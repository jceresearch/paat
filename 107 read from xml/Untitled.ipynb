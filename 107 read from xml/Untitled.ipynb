{
 "cells": [
  {
   "cell_type": "code",
   "execution_count": null,
   "metadata": {},
   "outputs": [],
   "source": [
    "import xml.etree.ElementTree as et \n",
    "\n",
    "xtree = et.parse(\"./test_data/dummy.xml\")\n",
    "xroot = xtree.getroot()\n",
    "df_cols = [\"Identifier\", \"Address1\", \"Address2\" ]\n",
    "rows = []\n",
    "for node in xroot: \n",
    "    s_identifier = node.attrib.get(\"Identifier\")\n",
    "    s_address1 = node.find(\"Address1\").text if node is not None else None\n",
    "    s_address2= node.find(\"Address2\").text if node is not None else None\n",
    "\n",
    "    rows.append({\"identifier\": s_identifier, \"address1\": s_address1, \n",
    "                 \"address2\": s_address2)\n",
    "\n",
    "df = pd.DataFrame(rows, columns = df_cols)"
   ]
  }
 ],
 "metadata": {
  "kernelspec": {
   "display_name": "Python 3",
   "language": "python",
   "name": "python3"
  },
  "language_info": {
   "codemirror_mode": {
    "name": "ipython",
    "version": 3
   },
   "file_extension": ".py",
   "mimetype": "text/x-python",
   "name": "python",
   "nbconvert_exporter": "python",
   "pygments_lexer": "ipython3",
   "version": "3.7.6"
  }
 },
 "nbformat": 4,
 "nbformat_minor": 4
}
