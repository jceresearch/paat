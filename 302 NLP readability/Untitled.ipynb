{
 "cells": [
  {
   "cell_type": "code",
   "execution_count": null,
   "metadata": {},
   "outputs": [],
   "source": []
  },
  {
   "cell_type": "code",
   "execution_count": 2,
   "metadata": {},
   "outputs": [],
   "source": [
    "#import docx\n",
    "#Successfully installed bayoo-docx-0.2.5\n",
    "import docx\n",
    "import re\n",
    "from docx.shared import Pt\n",
    "from docx.shared import Emu\n"
   ]
  },
  {
   "cell_type": "code",
   "execution_count": 3,
   "metadata": {},
   "outputs": [
    {
     "name": "stdout",
     "output_type": "stream",
     "text": [
      "1 2 [0] 0 None\n",
      "Test document\n",
      "2 0 [0] 0 False\n",
      "\n",
      "3 18 [0] 0 None\n",
      "Section 1:  Cover sheet, This is a subtitle that is a bit too long for its own good\n",
      "4 3 [0] 0 None\n",
      "(should be skipped)\n",
      "5 0 [0] 0 False\n",
      "\n",
      "6 4 [0] 0 None\n",
      "Section 2:  Executive summary\n",
      "7 20 [0] 0 None\n",
      "This is a subtitle that is a bit too long for its own good, should be picked buy the checker.\n",
      "8 0 [0] 0 False\n",
      "\n",
      "9 2 [18.0] 18.0 None\n",
      "10 words:\n"
     ]
    },
    {
     "ename": "AttributeError",
     "evalue": "'Paragraph' object has no attribute 'add_comment'",
     "output_type": "error",
     "traceback": [
      "\u001b[1;31m---------------------------------------------------------------------------\u001b[0m",
      "\u001b[1;31mAttributeError\u001b[0m                            Traceback (most recent call last)",
      "\u001b[1;32m<ipython-input-3-ff6315e99499>\u001b[0m in \u001b[0;36m<module>\u001b[1;34m\u001b[0m\n\u001b[0;32m     18\u001b[0m     \u001b[0mprint\u001b[0m\u001b[1;33m(\u001b[0m\u001b[0mi\u001b[0m\u001b[1;33m.\u001b[0m\u001b[0mtext\u001b[0m\u001b[1;33m)\u001b[0m\u001b[1;33m\u001b[0m\u001b[1;33m\u001b[0m\u001b[0m\n\u001b[0;32m     19\u001b[0m     \u001b[1;32mif\u001b[0m \u001b[0mn\u001b[0m\u001b[1;33m==\u001b[0m\u001b[1;36m9\u001b[0m\u001b[1;33m:\u001b[0m\u001b[1;33m\u001b[0m\u001b[1;33m\u001b[0m\u001b[0m\n\u001b[1;32m---> 20\u001b[1;33m         \u001b[0mi\u001b[0m\u001b[1;33m.\u001b[0m\u001b[0madd_comment\u001b[0m\u001b[1;33m(\u001b[0m\u001b[1;34m\"My comment\"\u001b[0m\u001b[1;33m)\u001b[0m\u001b[1;33m\u001b[0m\u001b[1;33m\u001b[0m\u001b[0m\n\u001b[0m\u001b[0;32m     21\u001b[0m         \u001b[0mprint\u001b[0m\u001b[1;33m(\u001b[0m\u001b[1;34m\"Added comment\"\u001b[0m\u001b[1;33m)\u001b[0m\u001b[1;33m\u001b[0m\u001b[1;33m\u001b[0m\u001b[0m\n\u001b[0;32m     22\u001b[0m     \u001b[0mn\u001b[0m \u001b[1;33m+=\u001b[0m\u001b[1;36m1\u001b[0m\u001b[1;33m\u001b[0m\u001b[1;33m\u001b[0m\u001b[0m\n",
      "\u001b[1;31mAttributeError\u001b[0m: 'Paragraph' object has no attribute 'add_comment'"
     ]
    }
   ],
   "source": [
    "\n",
    "doc = docx.Document('testfile.docx')\n",
    "n=1\n",
    "for i in doc.paragraphs:\n",
    "    word_count = len(re.findall(r'\\w+', i.text))\n",
    "    font_is_bold=False\n",
    "    for r in i.runs:\n",
    "        font_list=[]\n",
    "        font = r.font\n",
    "        try: \n",
    "            font_size= Emu(font.size).pt\n",
    "        except:\n",
    "            font_size=0\n",
    "      \n",
    "        font_is_bold=font.bold\n",
    "        font_list.append(font_size)\n",
    "        max_font=max(font_list)\n",
    "    print(n, word_count, font_list,max_font,font_is_bold)\n",
    "    print(i.text)\n",
    "    if n==9:\n",
    "        i.add_comment(\"My comment\")\n",
    "        print(\"Added comment\")\n",
    "    n +=1\n",
    "    "
   ]
  },
  {
   "cell_type": "code",
   "execution_count": 8,
   "metadata": {},
   "outputs": [],
   "source": [
    "doc.save (\"Test python.docx\")"
   ]
  },
  {
   "cell_type": "code",
   "execution_count": null,
   "metadata": {},
   "outputs": [],
   "source": []
  },
  {
   "cell_type": "code",
   "execution_count": null,
   "metadata": {},
   "outputs": [],
   "source": []
  },
  {
   "cell_type": "code",
   "execution_count": null,
   "metadata": {},
   "outputs": [],
   "source": []
  },
  {
   "cell_type": "code",
   "execution_count": null,
   "metadata": {},
   "outputs": [],
   "source": []
  }
 ],
 "metadata": {
  "kernelspec": {
   "display_name": "Python 3",
   "language": "python",
   "name": "python3"
  },
  "language_info": {
   "codemirror_mode": {
    "name": "ipython",
    "version": 3
   },
   "file_extension": ".py",
   "mimetype": "text/x-python",
   "name": "python",
   "nbconvert_exporter": "python",
   "pygments_lexer": "ipython3",
   "version": "3.7.4"
  }
 },
 "nbformat": 4,
 "nbformat_minor": 4
}
