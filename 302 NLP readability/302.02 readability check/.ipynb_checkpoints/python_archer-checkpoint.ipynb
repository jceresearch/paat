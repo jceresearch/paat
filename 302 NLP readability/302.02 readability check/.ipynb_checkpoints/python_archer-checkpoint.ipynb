{
 "cells": [
  {
   "cell_type": "code",
   "execution_count": null,
   "metadata": {},
   "outputs": [],
   "source": [
    "!pip install textstat\n",
    "!pip install ipywidgets\n",
    "!jupyter nbextension enable --py widgetsnbextension"
   ]
  },
  {
   "cell_type": "code",
   "execution_count": 2,
   "metadata": {},
   "outputs": [],
   "source": [
    "import pandas as pd\n",
    "import re\n",
    "import textstat\n",
    "import ipywidgets as widgets\n",
    "import itertools\n",
    "import json\n",
    "from collections import namedtuple"
   ]
  },
  {
   "cell_type": "code",
   "execution_count": 16,
   "metadata": {},
   "outputs": [],
   "source": [
    "test_data = (\n",
    "    \"Playing games has always been thought to be important to \"\n",
    "    \"the development of well-balanced and creative children; \"\n",
    "    \"however, what part, if any, they should play in the lives \"\n",
    "    \"of adults has never been researched that deeply. I believe \"\n",
    "    \"that playing games is every bit as important for adults \"\n",
    "    \"as for children. Not only is taking time out to play games \"\n",
    "    \"with our children and other adults valuable to building \"\n",
    "    \"interpersonal relationships but is also a wonderful way \"\n",
    "    \"to release built up tension, don't miss this opportunity, you require it.\"\n",
    "    \" Children require play time on their own. Directing play reduces\"\n",
    "    \" the chance of the child exercising creative thinking, boredom \"\n",
    "    \"is a powerful creative driver for both children and adults.\\n\"\n",
    "    \"When a child asks her mother \\\"Where do babies come from?\\\", what \"\n",
    "    \"should one reply to her?\\n\"\n",
    "    \"John.Smith@domain.co.uk\\n\"\n",
    "    \"First written in 2020.06.01\\n\"\n",
    "    \"This is a text of a longish - i.e. more than the 14 words - sentence, with a number\"\n",
    "    \"of complex terms and structures that makes the sentence very long winded and difficult to\"\n",
    "    \"read; length, the use of passive voice and vague filler words should be picked by the  script.\\n\"\n",
    "    \" Continuing with the discussion,  the authors would like to point out that, in our \"\n",
    "    \"opinion, we disagree with the decisions made.  This is another example of sentences \"\n",
    "    \"that have no place in modern business communication; times have moved on.\"\n",
    ")"
   ]
  },
  {
   "cell_type": "code",
   "execution_count": 17,
   "metadata": {},
   "outputs": [],
   "source": [
    "def text_stats(input_text):\n",
    "    test={}\n",
    "    test[\"flesch_reading_ease_index\"]= textstat.flesch_reading_ease(input_text)\n",
    "    #0-59 is difficult, 0= Very Confusing - 100= Very Easy    \n",
    "    test[\"smog_grade\"]= textstat.smog_index(input_text)\n",
    "    #Grade level needed to read it\n",
    "    test[\"flesch_kincaid_grade\"]= textstat.flesch_kincaid_grade(input_text)\n",
    "    #Grade level needed to read it \n",
    "    test[\"coleman_liau_grade\"]= textstat.coleman_liau_index(input_text)\n",
    "    #Grade level needed to read it  \n",
    "    test[\"ari_grade\"]= textstat.automated_readability_index(input_text)\n",
    "    #Grade level needed to read it    \n",
    "    test[\"dale_chall_score\"]=textstat.dale_chall_readability_score(input_text)\n",
    "    #Readability score, 4.9 or lower=4th grader, 9-9.9=13th-15th (College)    \n",
    "    test[\"dale_chall_grade\"]=round(4.9*(1-(test[\"dale_chall_score\"]-4.9)/(9.9-4.9))+15.0*((test[\"dale_chall_score\"]-4.9)/(9.9-4.9)),2)\n",
    "    test[\"linsear_grade\"]= textstat.linsear_write_formula(input_text)\n",
    "    #Grade level to read it   \n",
    "    test[\"gunning_fog_grade\"]=textstat.gunning_fog(input_text)\n",
    "    #Grade level needed to read it  \n",
    "    test[\"consensus\"] = textstat.text_standard(input_text, float_output=True)\n",
    "    #Consensus grade \n",
    "    return test"
   ]
  },
  {
   "cell_type": "code",
   "execution_count": 18,
   "metadata": {},
   "outputs": [],
   "source": [
    "import json\n",
    "with open('rules.json') as json_file:\n",
    "    rules = json.load(json_file)\n",
    "for index, rule in enumerate (rules, start=1):\n",
    "    #print(\"Rule \"+str(index))\n",
    "    test_string= rule['test_string'].encode().decode('unicode_escape')\n",
    "    if rule[\"case_sensitive\"]:\n",
    "        matches= re.findall(rule[\"regex\"], test_string )\n",
    "    else:\n",
    "         matches= re.findall(rule[\"regex\"], test_string, flags= re.IGNORECASE)\n",
    "    if len(matches)!= rule['test_hits']:\n",
    "        print(str(rule['id']) +\" failed the test string, pls review it\")\n",
    "    "
   ]
  },
  {
   "cell_type": "code",
   "execution_count": 19,
   "metadata": {},
   "outputs": [],
   "source": [
    "def split_into_sentences(text):\n",
    "    alphabets= \"([A-Za-z])\"\n",
    "    suffixes = \"(Inc|Ltd|Jr|Sr|Co)\"\n",
    "    starters = \"(Mr|Mrs|Ms|Dr|He\\s|She\\s|It\\s|They\\s|Their\\s|Our\\s|We\\s|But\\s|However\\s|That\\s|This\\s|Wherever)\"\n",
    "    acronyms = \"([A-Z][.][A-Z][.](?:[A-Z][.])?)\"\n",
    "    prefixes = \"(Mr|St|Mrs|Ms|Dr|Prof|Capt|Cpt|Lt|Mt)[.]\"\n",
    "    websites = \"[.](com|net|org|io|gov|me|edu|co|uk)\"\n",
    "    digits = \"([0-9])\"\n",
    "    text = \" \" + text + \"  \"\n",
    "    text = text.replace(\"\\n\",\"<stop> \")\n",
    "    text = re.sub(prefixes,\"\\\\1<prd>\",text)\n",
    "    text = re.sub(websites,\"<prd>\\\\1\",text)\n",
    "    text = re.sub(\"(\\w*)[.](\\w+@)\",\"\\\\1<prd>\\\\2\",text)\n",
    "    if \"Ph.D\" in text: text = text.replace(\"Ph.D.\",\"Ph<prd>D<prd>\")\n",
    "    text = re.sub(\"\\s\" + alphabets + \"[.] \",\" \\\\1<prd> \",text)\n",
    "    text = re.sub(acronyms+\" \"+starters,\"\\\\1<stop> \\\\2\",text)\n",
    "    text = re.sub(alphabets + \"[.]\" + alphabets + \"[.]\" + alphabets + \"[.]\",\"\\\\1<prd>\\\\2<prd>\\\\3<prd>\",text)\n",
    "    text = re.sub(alphabets + \"[.]\" + alphabets + \"[.]\",\"\\\\1<prd>\\\\2<prd>\",text)\n",
    "    text = re.sub(\" \"+suffixes+\"[.] \"+starters,\" \\\\1<stop> \\\\2\",text)\n",
    "    text = re.sub(\" \"+suffixes+\"[.]\",\" \\\\1<prd>\",text)\n",
    "    text = re.sub(\" \" + alphabets + \"[.]\",\" \\\\1<prd>\",text)\n",
    "    if \"”\" in text: text = text.replace(\".”\",\"”.\")\n",
    "    if \"\\\"\" in text: text = text.replace(\".\\\"\",\"\\\".\")\n",
    "    if \"!\" in text: text = text.replace(\"!\\\"\",\"<excl>\\\"\")\n",
    "    if \"?\" in text: text = text.replace(\"?\\\"\",\"<quest>\\\"\")\n",
    "    if \"...\" in text: text = text.replace(\"...\",\"<prd><prd><prd>\")\n",
    "    if \"e.g.\" in text: text = text.replace(\"e.g.\",\"e<prd>g<prd>\") \n",
    "    if \"i.e.\" in text: text = text.replace(\"i.e.\",\"i<prd>e<prd>\")\n",
    "    text = re.sub(digits + \"[.]\" + digits,\"\\\\1<prd>\\\\2\",text)\n",
    "    text = text.replace(\".\",\".<stop>\")\n",
    "    text = text.replace(\"?\",\"?<stop>\")\n",
    "    text = text.replace(\"!\",\"!<stop>\")\n",
    "    text = text.replace(\"<prd>\",\".\")\n",
    "    text = text.replace(\"<excl>\",\"!\")\n",
    "    text = text.replace(\"<quest>\",\"?\")\n",
    "    text = text.replace(\"<stop><stop>\",\"<stop>\")\n",
    "    sentences = text.split(\"<stop>\")\n",
    "    #sentences = sentences[:-1]\n",
    "    sentences = [s.strip() for s in sentences]\n",
    "    return sentences\n"
   ]
  },
  {
   "cell_type": "code",
   "execution_count": 20,
   "metadata": {},
   "outputs": [],
   "source": [
    "def split_into_paragraphs(text):\n",
    "    paragraphs = text.split(\"\\n\")\n",
    "    paragraphs = [s.strip() for s in paragraphs]\n",
    "    return paragraphs\n"
   ]
  },
  {
   "cell_type": "code",
   "execution_count": 21,
   "metadata": {},
   "outputs": [
    {
     "data": {
      "application/vnd.jupyter.widget-view+json": {
       "model_id": "8fd544e0aef74d348e423fa799f49b7a",
       "version_major": 2,
       "version_minor": 0
      },
      "text/plain": [
       "Textarea(value='Playing games has always been thought to be important to the development of well-balanced and …"
      ]
     },
     "metadata": {},
     "output_type": "display_data"
    }
   ],
   "source": [
    "ta=widgets.Textarea(\n",
    "    value=test_data,\n",
    "    placeholder='Type something',\n",
    "    description='',\n",
    "    disabled=False,\n",
    "    layout=widgets.Layout(width='80%', height='200px'))\n",
    "display(ta)"
   ]
  },
  {
   "cell_type": "code",
   "execution_count": 22,
   "metadata": {},
   "outputs": [
    {
     "data": {
      "text/plain": [
       "{'flesch_reading_ease_index': 47.15,\n",
       " 'smog_grade': 12.8,\n",
       " 'flesch_kincaid_grade': 14.7,\n",
       " 'coleman_liau_grade': 11.56,\n",
       " 'ari_grade': 18.5,\n",
       " 'dale_chall_score': 7.68,\n",
       " 'dale_chall_grade': 10.52,\n",
       " 'linsear_grade': 12.0,\n",
       " 'gunning_fog_grade': 15.04,\n",
       " 'consensus': 12.0}"
      ]
     },
     "execution_count": 22,
     "metadata": {},
     "output_type": "execute_result"
    }
   ],
   "source": [
    "text_to_check=ta.value\n",
    "text_stats(text_to_check)"
   ]
  },
  {
   "cell_type": "code",
   "execution_count": 23,
   "metadata": {},
   "outputs": [
    {
     "name": "stdout",
     "output_type": "stream",
     "text": [
      "Hit:don't\n",
      "Guidance: Expand to do not\n",
      "Context: ...e built up tension, don't miss this opportuni...\n",
      "Hit:; however\n",
      "Guidance: Avoid mid-sentence use of however. Better at the start of a sentence to flag where the issue is. Also check if you can avoid it completely.\n",
      "Context: ...nd creative children; however, what part, if any,...\n",
      "Hit:a number\n",
      "Guidance: Vague, add the actual number\n",
      "Context: ...ds - sentence, with a numberof complex terms and...\n",
      "Hit:drive\n",
      "Guidance: Consultancy lingo\n",
      "Context: ...a powerful creative driver for both children ...\n",
      "Hit:; however\n",
      "Guidance: Do you really need a semicolon?\n",
      "Context: ...nd creative children; however, what part, if any,...\n",
      "Hit:; length\n",
      "Guidance: Do you really need a semicolon?\n",
      "Context: ...and difficult toread; length, the use of passive...\n",
      "Hit:; times\n",
      "Guidance: Do you really need a semicolon?\n",
      "Context: ...siness communication; times have moved on....\n",
      "Hit:  \n",
      "Guidance: Double spaces\n",
      "Context: ...uld be picked by the  script.\n",
      " Continuing ...\n",
      "Hit:  \n",
      "Guidance: Double spaces\n",
      "Context: ...with the discussion,  the authors would li...\n",
      "Hit:  \n",
      "Guidance: Double spaces\n",
      "Context: ... the decisions made.  This is another exam...\n",
      "Hit:require\n",
      "Guidance: Check if \"Need\" or other direct words may work better in this context.\n",
      "Context: ...is opportunity, you require it. Children requir...\n",
      "Hit:require\n",
      "Guidance: Check if \"Need\" or other direct words may work better in this context.\n",
      "Context: ...equire it. Children require play time on their ...\n"
     ]
    }
   ],
   "source": [
    "for index, rule in enumerate (rules, start=1):\n",
    "    #print(\"Rule \"+str(index))\n",
    "    if rule[\"case_sensitive\"]:\n",
    "        matches= re.finditer(rule[\"regex\"], text_to_check)\n",
    "    else:\n",
    "        matches= re.finditer(rule[\"regex\"], text_to_check, flags=re.IGNORECASE)\n",
    "    try:\n",
    "        first_match= next(matches)\n",
    "    except StopIteration:  \n",
    "        pass\n",
    "        #print(\"No match!\") # action for no match\n",
    "    else:\n",
    "        for m in itertools.chain([first_match], matches):\n",
    "            s= m.start()-20\n",
    "            e= m.end()+20\n",
    "            print(\"Hit:\"+m.group(0))\n",
    "            print(\"Guidance: \" + rule[\"guidance\"])\n",
    "            print(\"Context: ...\"+ text_to_check[s:e]+ \"...\")"
   ]
  },
  {
   "cell_type": "code",
   "execution_count": 24,
   "metadata": {},
   "outputs": [
    {
     "data": {
      "text/plain": [
       "[\"Playing games has always been thought to be important to the development of well-balanced and creative children; however, what part, if any, they should play in the lives of adults has never been researched that deeply. I believe that playing games is every bit as important for adults as for children. Not only is taking time out to play games with our children and other adults valuable to building interpersonal relationships but is also a wonderful way to release built up tension, don't miss this opportunity, you require it. Children require play time on their own. Directing play reduces the chance of the child exercising creative thinking, boredom is a powerful creative driver for both children and adults.\",\n",
       " 'When a child asks her mother \"Where do babies come from?\", what should one reply to her?',\n",
       " 'John.Smith@domain.co.uk',\n",
       " 'First written in 2020.06.01',\n",
       " 'This is a text of a longish - i.e. more than the 14 words - sentence, with a numberof complex terms and structures that makes the sentence very long winded and difficult toread; length, the use of passive voice and vague filler words should be picked by the  script.',\n",
       " 'Continuing with the discussion,  the authors would like to point out that, in our opinion, we disagree with the decisions made.  This is another example of sentences that have no place in modern business communication; times have moved on.']"
      ]
     },
     "execution_count": 24,
     "metadata": {},
     "output_type": "execute_result"
    }
   ],
   "source": [
    "split_into_paragraphs(text_to_check)"
   ]
  },
  {
   "cell_type": "code",
   "execution_count": 25,
   "metadata": {},
   "outputs": [
    {
     "data": {
      "text/plain": [
       "['Playing games has always been thought to be important to the development of well-balanced and creative children; however, what part, if any, they should play in the lives of adults has never been researched that deeply.',\n",
       " 'I believe that playing games is every bit as important for adults as for children.',\n",
       " \"Not only is taking time out to play games with our children and other adults valuable to building interpersonal relationships but is also a wonderful way to release built up tension, don't miss this opportunity, you require it.\",\n",
       " 'Children require play time on their own.',\n",
       " 'Directing play reduces the chance of the child exercising creative thinking, boredom is a powerful creative driver for both children and adults.',\n",
       " 'When a child asks her mother \"Where do babies come from?\", what should one reply to her?',\n",
       " 'John.Smith@domain.co.uk',\n",
       " 'First written in 2020.06.01',\n",
       " 'This is a text of a longish - i.e. more than the 14 words - sentence, with a numberof complex terms and structures that makes the sentence very long winded and difficult toread; length, the use of passive voice and vague filler words should be picked by the  script.',\n",
       " 'Continuing with the discussion,  the authors would like to point out that, in our opinion, we disagree with the decisions made.',\n",
       " 'This is another example of sentences that have no place in modern business communication; times have moved on.',\n",
       " '']"
      ]
     },
     "execution_count": 25,
     "metadata": {},
     "output_type": "execute_result"
    }
   ],
   "source": [
    "split_into_sentences(text_to_check)"
   ]
  },
  {
   "cell_type": "code",
   "execution_count": null,
   "metadata": {},
   "outputs": [],
   "source": []
  },
  {
   "cell_type": "code",
   "execution_count": null,
   "metadata": {},
   "outputs": [],
   "source": []
  },
  {
   "cell_type": "code",
   "execution_count": null,
   "metadata": {},
   "outputs": [],
   "source": []
  }
 ],
 "metadata": {
  "kernelspec": {
   "display_name": "Python 3.7.4 64-bit ('base': conda)",
   "language": "python",
   "name": "python37464bitbaseconda011a744e613242dbba7a4711113acfae"
  },
  "language_info": {
   "codemirror_mode": {
    "name": "ipython",
    "version": 3
   },
   "file_extension": ".py",
   "mimetype": "text/x-python",
   "name": "python",
   "nbconvert_exporter": "python",
   "pygments_lexer": "ipython3",
   "version": "3.7.4"
  }
 },
 "nbformat": 4,
 "nbformat_minor": 4
}
