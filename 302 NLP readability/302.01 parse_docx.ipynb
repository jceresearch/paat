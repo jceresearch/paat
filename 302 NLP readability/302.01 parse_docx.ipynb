{
 "cells": [
  {
   "cell_type": "code",
   "execution_count": 2,
   "metadata": {},
   "outputs": [],
   "source": [
    "\n",
    "import docx"
   ]
  },
  {
   "cell_type": "code",
   "execution_count": 3,
   "metadata": {},
   "outputs": [],
   "source": [
    "document = docx.Document('Hello world.docx')"
   ]
  },
  {
   "cell_type": "code",
   "execution_count": 4,
   "metadata": {},
   "outputs": [],
   "source": [
    "\n",
    "from docx.document import Document\n",
    "from docx.oxml.table import CT_Tbl\n",
    "from docx.oxml.text.paragraph import CT_P\n",
    "from docx.table import _Cell, Table\n",
    "from docx.text.paragraph import Paragraph\n",
    "\n",
    "def iter_block_items(parent):\n",
    "    \"\"\"\n",
    "    Yield each paragraph and table child within *parent*, in document order.\n",
    "    Each returned value is an instance of either Table or Paragraph. *parent*\n",
    "    would most commonly be a reference to a main Document object, but\n",
    "    also works for a _Cell object, which itself can contain paragraphs and tables.\n",
    "    \"\"\"\n",
    "    if isinstance(parent, Document):\n",
    "        parent_elm = parent.element.body\n",
    "    elif isinstance(parent, _Cell):\n",
    "        parent_elm = parent._tc\n",
    "    else:\n",
    "        raise ValueError(\"something's not right\")\n",
    "\n",
    "    for child in parent_elm.iterchildren():\n",
    "        if isinstance(child, CT_P):\n",
    "            yield Paragraph(child, parent)\n",
    "        elif isinstance(child, CT_Tbl):\n",
    "            yield Table(child, parent)\n"
   ]
  },
  {
   "cell_type": "code",
   "execution_count": 5,
   "metadata": {},
   "outputs": [
    {
     "name": "stdout",
     "output_type": "stream",
     "text": [
      "found one\n",
      "Hello world\n",
      "found one\n",
      "\n",
      "found one\n",
      "Lorem Ipsum\n",
      "found one\n",
      "\"Neque porro quisquam est qui dolorem ipsum quia dolor sit amet, consectetur, adipisci velit...\"\n",
      "found one\n",
      "\"There is no one who loves pain itself, who seeks after it and wants to have it, simply because it is pain...\"\n",
      "found one\n",
      "\n",
      "found one\n",
      "Lorem ipsum dolor sit amet, consectetur adipiscing elit. Aliquam ac porta sapien, a varius sapien. Aliquam aliquet vitae quam sed blandit. Pellentesque commodo lacus ac ante consequat dapibus. Aenean ut lacinia orci, quis malesuada odio. Nam nec est turpis. Curabitur consequat, diam at ornare iaculis, lectus nulla placerat felis, a fermentum metus augue ac elit. Lorem ipsum dolor sit amet, consectetur adipiscing elit. Integer ullamcorper, sapien vel fermentum interdum, risus augue tincidunt ipsum, a gravida augue dolor a diam.\n",
      "found one\n",
      "Duis sem risus, tempor vitae volutpat nec, dictum sit amet velit. Proin a eros ullamcorper, interdum ipsum ac, finibus dui. Donec pretium, leo efficitur ultricies gravida, ipsum dolor maximus libero, ac imperdiet mi erat quis neque. Donec varius tincidunt tellus, ac sollicitudin massa placerat et. Mauris a justo tempor, mattis nunc eu, facilisis justo. In elementum erat eu sollicitudin scelerisque. Vivamus eleifend fringilla felis ut facilisis.\n",
      "found one\n",
      "Donec dolor arcu, tempor non efficitur et, fringilla nec nunc. Ut euismod leo non leo volutpat, vel tincidunt arcu sagittis. Ut sit amet laoreet enim. Sed pretium commodo mauris, in commodo erat suscipit ac. Donec scelerisque faucibus lacus, ut sodales nunc egestas id. Suspendisse ut quam magna. Donec iaculis sem augue, congue euismod quam efficitur eu. Suspendisse nisl dui, scelerisque ac ultrices non, tempor eu elit. Aenean vitae imperdiet nisl. Mauris tincidunt massa eu dolor iaculis dapibus. Sed ultricies malesuada mauris, quis finibus orci aliquam ut. Duis rhoncus venenatis felis sed ultricies. Praesent laoreet, ligula at dictum porttitor, augue enim imperdiet diam, scelerisque pellentesque nulla odio sit amet augue. Aenean convallis magna nunc, ut ullamcorper metus interdum vitae.\n",
      "found one\n",
      "Donec ornare dui in elit scelerisque lobortis. Suspendisse in nisi nec urna lacinia varius. Aliquam erat volutpat. Quisque sit amet nunc aliquet, ultrices lorem nec, interdum justo. Nunc enim massa, posuere accumsan ex non, auctor volutpat ante. Maecenas quis nunc eu est bibendum fermentum. Maecenas varius in magna id rutrum. Pellentesque tincidunt enim non est faucibus, a aliquet augue interdum.\n",
      "found one\n",
      "Ut fringilla ut risus eget eleifend. Vestibulum ante ipsum primis in faucibus orci luctus et ultrices posuere cubilia Curae; Quisque accumsan, nulla nec pharetra aliquam, orci ipsum malesuada libero, quis vulputate nulla leo eget sapien. Nullam ultricies tincidunt nulla a varius. Sed ac leo et sem laoreet accumsan. Maecenas sapien erat, mattis ut tellus sed, pulvinar egestas odio. Duis at tortor eleifend, laoreet neque a, mollis nulla.\n",
      "found one\n",
      "Donec magna elit, condimentum vitae lorem non, ornare dignissim sem. Quisque tincidunt nisl in magna facilisis, id maximus lorem accumsan. Ut eleifend dapibus quam, in ullamcorper lorem ornare eu. Curabitur dictum viverra odio, non tempor augue pharetra vitae. Mauris vulputate magna at nunc fringilla elementum. Sed ut mollis erat. Mauris a nulla eget nisi facilisis venenatis. Aenean ac enim lorem. Etiam condimentum maximus purus, sed lacinia nunc malesuada et. Aenean vestibulum, mi quis tincidunt rutrum, sapien velit accumsan felis, at dictum odio augue ac lectus. Phasellus luctus feugiat felis, at aliquet nisl feugiat quis. Cras eget lacus purus.\n",
      "found one\n",
      "Aliquam erat volutpat. Sed imperdiet tempus elit, tincidunt porttitor leo ultricies vitae. Donec volutpat erat sed massa accumsan tempor. Vivamus suscipit nisi sit amet mauris sodales maximus. Suspendisse lectus orci, finibus sit amet consectetur ac, mollis sed tellus. Quisque ex libero, sodales sit amet maximus vitae, mollis non augue. Donec rhoncus, augue vel vestibulum vulputate, dui nisl tempus diam, sit amet tempor nibh ligula non felis. Duis et metus sed dui scelerisque tempor. Sed auctor, dui eget consequat viverra, nisi ante sodales odio, at mollis quam quam ac diam. Suspendisse et congue libero. Nullam hendrerit nec dolor ut maximus. In hac habitasse platea dictumst. Duis ac metus ut justo convallis mattis.\n",
      "found one\n",
      "Quisque non risus interdum, condimentum massa nec, dictum libero. Sed sit amet odio vitae libero laoreet ultricies at nec ante. Curabitur facilisis sapien faucibus sem porta malesuada. In eget ligula ac risus elementum consequat. Suspendisse molestie arcu at posuere faucibus. Mauris varius id tortor at ornare. Etiam imperdiet lacinia consectetur. Cras placerat massa ante, id tincidunt nisi interdum eget. Donec eu gravida risus. Sed facilisis consectetur ex, ac elementum velit rutrum in. Nam finibus malesuada ornare. Nullam eget ligula magna. Aenean eu pellentesque urna.\n",
      "found one\n",
      "Pellentesque habitant morbi tristique senectus et netus et malesuada fames ac turpis egestas. Ut faucibus accumsan libero id aliquet. Praesent ac blandit felis, et ultricies nibh. Vestibulum pretium, metus a sollicitudin facilisis, turpis turpis posuere ex, id congue mauris quam vitae ligula. Phasellus risus lectus, elementum vulputate metus a, rhoncus maximus quam. Proin tincidunt molestie nisl, id blandit risus fringilla sed. Maecenas lacinia orci ac dapibus vulputate.\n",
      "found one\n",
      "Proin pulvinar sagittis molestie. Nulla dictum vehicula rhoncus. Lorem ipsum dolor sit amet, consectetur adipiscing elit. Donec non urna nec augue feugiat aliquam at ut ligula. Pellentesque habitant morbi tristique senectus et netus et malesuada fames ac turpis egestas. Pellentesque lacinia justo et dui ultricies pretium. Aliquam non ipsum euismod, vehicula tellus a, mollis mi. Nulla venenatis, magna nec luctus lobortis, velit ex maximus erat, nec mollis nibh ex nec felis. Sed posuere arcu ut finibus pharetra. Ut quis metus diam. Vivamus eu felis sodales justo euismod gravida eget vitae ipsum. Integer tempor dui enim, in rhoncus lacus consectetur in. Donec ac neque id felis placerat lobortis ut ac justo.\n",
      "found one\n",
      "Lorem ipsum dolor sit amet, consectetur adipiscing elit. Class aptent taciti sociosqu ad litora torquent per conubia nostra, per inceptos himenaeos. Cras in diam porttitor, aliquam ligula a, malesuada sem. In mollis odio augue, vel congue massa finibus id. Aliquam a bibendum urna. Maecenas iaculis, erat in gravida mattis, diam tortor tempus velit, quis gravida urna magna in sapien. Donec pharetra bibendum nisl vitae lacinia. Sed diam neque, semper vitae varius quis, maximus quis magna. Proin nec nulla ut velit blandit interdum vitae et magna. Quisque pretium ligula enim, ac rutrum sem tristique non. Curabitur vulputate, orci a sollicitudin semper, tortor sapien elementum diam, in laoreet libero justo nec mauris.\n",
      "found one\n",
      "Pellentesque semper, magna maximus tristique rhoncus, erat nisi ultrices ligula, eget placerat dui ante at quam. Fusce sem eros, dictum in vulputate id, finibus consequat eros. Quisque fringilla eget mauris eget faucibus. Nunc consectetur velit at ultrices efficitur. Maecenas placerat quis arcu a sagittis. Nam venenatis ex massa, vel rhoncus quam varius ac. Quisque nulla felis, vehicula ac commodo sed, sagittis id mi. Etiam ante elit, ultrices nec suscipit et, bibendum in nisi. Etiam et mauris consectetur, commodo ipsum non, laoreet libero. Aliquam dapibus dolor eget dui venenatis volutpat. Mauris fringilla, massa vel accumsan condimentum, sapien ipsum rhoncus nulla, quis cursus augue purus ut leo. Vivamus sagittis mauris quis justo sagittis, porttitor fermentum libero venenatis. Sed laoreet ex vehicula, vulputate ligula vitae, ultrices purus. Nunc interdum quis turpis sed rhoncus. Aliquam erat volutpat.\n",
      "found one\n",
      "In venenatis leo id quam tincidunt blandit. Duis ut diam turpis. Suspendisse potenti. Nunc congue erat neque, et venenatis odio pulvinar vitae. Praesent ultricies neque lectus, pharetra rhoncus turpis suscipit a. Etiam sed risus at ipsum gravida luctus in sit amet turpis. Morbi consectetur leo neque. Nunc eget erat sit amet arcu ultrices dapibus et eu risus. In luctus at metus ut viverra. Proin nec purus et elit congue pharetra. Suspendisse potenti. Pellentesque dictum est eros, eget scelerisque tellus consectetur nec. Praesent dolor nisi, facilisis quis dictum eu, vehicula eget metus. Vivamus pretium, metus ac porta aliquam, orci dui vehicula nisl, semper hendrerit lectus metus ut lorem.\n",
      "found one\n",
      "Etiam condimentum rutrum quam, et sagittis tortor lobortis vitae. Cras consectetur tincidunt ornare. Vestibulum ut aliquet libero. Orci varius natoque penatibus et magnis dis parturient montes, nascetur ridiculus mus. Nam at tincidunt metus. Praesent non urna ex. Sed accumsan massa ut arcu interdum, quis tincidunt quam pharetra. Phasellus ut porttitor justo. Nunc sit amet ante id nibh posuere tristique a quis nulla. Suspendisse id tempus urna. Sed volutpat lacinia dictum. Pellentesque semper lorem magna, congue accumsan neque bibendum volutpat. Phasellus eget arcu eget ipsum tempus ornare eu ut elit. Sed porta aliquam leo, quis gravida nunc malesuada sed.\n",
      "found one\n",
      "In eu massa egestas, condimentum nisi ac, bibendum ipsum. Nam a orci at nibh venenatis commodo. Sed quis sagittis ipsum, id euismod lorem. Vivamus faucibus tincidunt convallis. Vivamus eget turpis lectus. Vivamus eros mi, mollis sed efficitur quis, tempus non nibh. Ut dictum gravida eros, eu vulputate elit posuere at. Donec vitae nisi ut elit tincidunt maximus nec non magna. Pellentesque placerat congue sapien, id laoreet sapien fermentum id. Cras porta libero et lacinia imperdiet. Quisque vitae lorem sit amet purus aliquet fermentum ornare non leo. Morbi ultrices sem eros, in suscipit lacus sagittis in.\n",
      "found one\n",
      "Phasellus enim massa, tempor ac maximus at, auctor sed lacus. Pellentesque dictum mi eget purus euismod aliquet. Mauris leo tortor, condimentum et eleifend et, laoreet sit amet ante. Nam eleifend rhoncus varius. Ut consectetur ultricies neque non suscipit. Integer eget consectetur risus. Aenean lobortis egestas lorem, efficitur pretium sem accumsan eget. Praesent viverra, mi sed iaculis maximus, enim leo sollicitudin velit, ut cursus tellus dui vitae lorem. Nulla rhoncus felis nec imperdiet feugiat. Mauris auctor fermentum tincidunt. In sem augue, cursus id congue vitae, rutrum in ex. Phasellus a velit tortor. Donec vel bibendum libero, a eleifend ex.\n",
      "found one\n",
      "Praesent cursus enim in quam blandit, at interdum nulla fringilla. Sed mattis rutrum iaculis. Morbi rhoncus magna rutrum egestas cursus. Interdum et malesuada fames ac ante ipsum primis in faucibus. Nunc et luctus felis, at ornare metus. In nec ultricies odio. Sed posuere nunc tincidunt, fringilla magna a, pellentesque lorem. Cras mollis porttitor turpis. Sed maximus arcu at dolor dapibus lobortis. Quisque massa risus, vehicula non nunc sit amet, pretium hendrerit erat. Integer molestie turpis tellus, vitae bibendum est facilisis et. In hac habitasse platea dictumst. Phasellus posuere nec ante vel iaculis. Quisque urna diam, ullamcorper ac dignissim et, efficitur non nunc. Integer viverra sit amet tortor eu tristique.\n",
      "found one\n",
      "Sed bibendum tellus et quam elementum, ac semper tortor dictum. Nulla aliquam tempor sapien in varius. Curabitur pellentesque porta mi et dignissim. Nam suscipit nunc ut ligula elementum, ac maximus odio mollis. Sed lobortis malesuada justo in mollis. Nulla ac luctus magna. Quisque ex elit, finibus condimentum porttitor in, egestas non ex. Mauris consectetur ligula in felis tincidunt, et vestibulum nisl interdum. Integer eget nunc id lorem elementum vehicula varius eget risus. Nulla quis finibus eros. Nunc accumsan venenatis justo, a porttitor libero laoreet in. Nullam efficitur sollicitudin lorem eu malesuada. Nam a lacus eros. Nullam volutpat tellus nec tellus dictum, ullamcorper interdum velit luctus.\n",
      "found one\n",
      "Cras et velit tempor, vestibulum diam a, interdum nisi. Proin porttitor dignissim metus non dignissim. Donec eget porttitor ligula, pellentesque varius urna. Sed vestibulum, odio ac ultrices cursus, lorem magna interdum elit, sed consequat est tellus id ligula. Sed rhoncus nunc vitae lobortis sodales. Nulla facilisi. Suspendisse at varius libero. Nulla tempor augue eros, id vehicula risus blandit et. Vivamus imperdiet iaculis malesuada. Vivamus pellentesque neque porta aliquam dapibus. Donec vel magna lectus. Duis bibendum iaculis rutrum. Vestibulum fermentum nunc nec felis hendrerit, nec aliquet massa dignissim. Integer sodales nibh magna, quis pellentesque mauris rutrum in. Etiam ligula metus, porttitor in enim eget, fermentum congue turpis.\n",
      "found one\n",
      "Nam porttitor felis sit amet eleifend fringilla. Nam in sem nec diam commodo blandit in at ante. Proin elementum turpis non diam euismod fringilla. Nunc auctor risus quis consequat posuere. Curabitur hendrerit elementum elit, vitae fermentum arcu interdum in. Morbi imperdiet maximus lorem, at volutpat metus. Nulla ut ipsum et ex fermentum vestibulum. Fusce viverra mollis eros, quis bibendum ante sagittis iaculis. Quisque rhoncus hendrerit magna sed lobortis. Aliquam dui leo, vehicula ut volutpat id, tristique vel neque. Pellentesque non cursus tellus. Vivamus at magna vel urna volutpat dapibus in nec magna. Donec augue metus, porta sit amet ultrices quis, cursus sed tellus. Etiam eget iaculis nibh, eu ullamcorper lorem. Morbi vel lorem urna.\n",
      "found one\n",
      "\n"
     ]
    }
   ],
   "source": [
    "\n",
    "for block in iter_block_items(document):\n",
    "    print('found one')\n",
    "    print(block.text if isinstance(block, Paragraph) else '<table>')"
   ]
  },
  {
   "cell_type": "code",
   "execution_count": 6,
   "metadata": {},
   "outputs": [
    {
     "name": "stdout",
     "output_type": "stream",
     "text": [
      "55.95250000000002\n"
     ]
    }
   ],
   "source": [
    "import readability\n",
    "text = ('This is an example sentence .\\n'\n",
    "        'Note that tokens are separated by spaces and sentences by newlines .\\n')\n",
    "results = readability.getmeasures(text, lang='en')\n",
    "print(results['readability grades']['FleschReadingEase'])"
   ]
  },
  {
   "cell_type": "code",
   "execution_count": 8,
   "metadata": {},
   "outputs": [
    {
     "name": "stdout",
     "output_type": "stream",
     "text": [
      "In venenatis leo id quam tincidunt blandit. Duis ut diam turpis. Suspendisse pot\n",
      "697\n",
      "-72.5513084112149\n",
      "In eu massa egestas, condimentum nisi ac, bibendum ipsum. Nam a orci at nibh ven\n",
      "611\n",
      "-59.680526315789464\n",
      "Praesent cursus enim in quam blandit, at interdum nulla fringilla. Sed mattis ru\n",
      "727\n",
      "-72.99999999999997\n",
      "Nam porttitor felis sit amet eleifend fringilla. Nam in sem nec diam commodo bla\n",
      "751\n",
      "-81.04342105263156\n"
     ]
    }
   ],
   "source": [
    "for paragraph in document.paragraphs:\n",
    "    if 'Morbi' in paragraph.text:\n",
    "        print (paragraph.text[:80])\n",
    "        print (len(paragraph.text))\n",
    "        results = readability.getmeasures(paragraph.text, lang='en')\n",
    "        print(results['readability grades']['FleschReadingEase'])"
   ]
  },
  {
   "cell_type": "code",
   "execution_count": null,
   "metadata": {},
   "outputs": [],
   "source": []
  },
  {
   "cell_type": "code",
   "execution_count": null,
   "metadata": {},
   "outputs": [],
   "source": []
  }
 ],
 "metadata": {
  "kernelspec": {
   "display_name": "Python 3",
   "language": "python",
   "name": "python3"
  },
  "language_info": {
   "codemirror_mode": {
    "name": "ipython",
    "version": 3
   },
   "file_extension": ".py",
   "mimetype": "text/x-python",
   "name": "python",
   "nbconvert_exporter": "python",
   "pygments_lexer": "ipython3",
   "version": "3.7.5"
  }
 },
 "nbformat": 4,
 "nbformat_minor": 4
}
