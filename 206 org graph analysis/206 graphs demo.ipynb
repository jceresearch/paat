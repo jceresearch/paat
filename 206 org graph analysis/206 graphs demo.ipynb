{
 "cells": [
  {
   "cell_type": "code",
   "execution_count": 1,
   "metadata": {},
   "outputs": [],
   "source": [
    "import pandas as pd\n",
    "import numpy as np\n",
    "import networkx as nx"
   ]
  },
  {
   "cell_type": "markdown",
   "metadata": {},
   "source": [
    "TODO: look at this to add more measures\n",
    "    https://programminghistorian.org/en/lessons/exploring-and-analyzing-network-data-with-python\n",
    "        "
   ]
  },
  {
   "cell_type": "code",
   "execution_count": 2,
   "metadata": {},
   "outputs": [
    {
     "name": "stdout",
     "output_type": "stream",
     "text": [
      "<class 'pandas.core.frame.DataFrame'>\n",
      "RangeIndex: 9553 entries, 0 to 9552\n",
      "Data columns (total 10 columns):\n",
      " #   Column          Non-Null Count  Dtype \n",
      "---  ------          --------------  ----- \n",
      " 0   Unnamed: 0      9553 non-null   int64 \n",
      " 1   employee_name   9553 non-null   object\n",
      " 2   employee_id     9553 non-null   int64 \n",
      " 3   manager_id      9553 non-null   int64 \n",
      " 4   manager_name    9553 non-null   object\n",
      " 5   band            9553 non-null   int64 \n",
      " 6   cost_centre     9553 non-null   object\n",
      " 7   borg_id         9553 non-null   object\n",
      " 8   employee_title  9553 non-null   object\n",
      " 9   is_pa           9553 non-null   bool  \n",
      "dtypes: bool(1), int64(4), object(5)\n",
      "memory usage: 681.1+ KB\n"
     ]
    }
   ],
   "source": [
    "df=pd.read_excel(\"./test_data/org.xlsx\")\n",
    "df.info()\n"
   ]
  },
  {
   "cell_type": "markdown",
   "metadata": {},
   "source": [
    "We create a directed graph from the dataframe.  \n",
    "Note that we add an attribute \"is PA\" to the *edge*, we could potentially add it to the node   \n",
    "The edges can have weights to compute the cost of navigating etc etc, check the library documentation online for more details"
   ]
  },
  {
   "cell_type": "code",
   "execution_count": 3,
   "metadata": {},
   "outputs": [],
   "source": [
    "G= nx.from_pandas_edgelist(df, 'manager_id', 'employee_id', ['is_pa'],create_using=nx.DiGraph())"
   ]
  },
  {
   "cell_type": "code",
   "execution_count": 4,
   "metadata": {},
   "outputs": [
    {
     "name": "stdout",
     "output_type": "stream",
     "text": [
      "Added  9552  nodes\n",
      "Graph G has  9553  nodes\n"
     ]
    }
   ],
   "source": [
    "for i,r in df.iterrows():\n",
    "    G.nodes[r['employee_id']]['employee_name'] = r['employee_name']\n",
    "    G.nodes[r['employee_id']]['band'] = r['band']\n",
    "    G.nodes[r['employee_id']]['employee_title'] = r['employee_title']\n",
    "    G.nodes[r['employee_id']]['cost_centre'] = r['cost_centre']\n",
    "print(\"Added \", i, \" nodes\")    \n",
    "print(\"Graph G has \", len(G.nodes), \" nodes\")"
   ]
  },
  {
   "cell_type": "code",
   "execution_count": 5,
   "metadata": {},
   "outputs": [
    {
     "data": {
      "text/plain": [
       "{'employee_name': 'Steve Jobs',\n",
       " 'band': 1,\n",
       " 'employee_title': 'Senior Director',\n",
       " 'cost_centre': '1.1'}"
      ]
     },
     "execution_count": 5,
     "metadata": {},
     "output_type": "execute_result"
    }
   ],
   "source": [
    "G.nodes[1]"
   ]
  },
  {
   "cell_type": "code",
   "execution_count": null,
   "metadata": {},
   "outputs": [],
   "source": []
  },
  {
   "cell_type": "code",
   "execution_count": 6,
   "metadata": {},
   "outputs": [
    {
     "data": {
      "text/plain": [
       "[1, 2, 1814, 2334, 4409, 5449, 6090, 7513]"
      ]
     },
     "execution_count": 6,
     "metadata": {},
     "output_type": "execute_result"
    }
   ],
   "source": [
    "list(G.successors(1)) # the person AND all the direct reports , neighbors() and successors() are the same"
   ]
  },
  {
   "cell_type": "code",
   "execution_count": 7,
   "metadata": {},
   "outputs": [
    {
     "data": {
      "text/plain": [
       "[2, 3, 4, 5, 6, 7, 8, 9, 10, 11, 12, 13, 14, 15, 16, 17, 18, 19, 20]"
      ]
     },
     "execution_count": 7,
     "metadata": {},
     "output_type": "execute_result"
    }
   ],
   "source": [
    "list(nx.descendants(G,1))[0:19] # these are all reports i.e. the entire team excluding the person"
   ]
  },
  {
   "cell_type": "code",
   "execution_count": 8,
   "metadata": {},
   "outputs": [
    {
     "data": {
      "text/plain": [
       "[1, 2, 3]"
      ]
     },
     "execution_count": 8,
     "metadata": {},
     "output_type": "execute_result"
    }
   ],
   "source": [
    "list(nx.ancestors(G,4)) # these are all the bosses, excluding the person itself"
   ]
  },
  {
   "cell_type": "code",
   "execution_count": 9,
   "metadata": {},
   "outputs": [
    {
     "data": {
      "text/plain": [
       "[2]"
      ]
     },
     "execution_count": 9,
     "metadata": {},
     "output_type": "execute_result"
    }
   ],
   "source": [
    "list(G.predecessors(3)) #this is all the direct boss(es), ie having an edge ending in that node. Note that if the node doesnt have any incoming edge, the result is that same node (ie the boss of the top boss is him/herself, i.e. predecedor of root node is that root node."
   ]
  },
  {
   "cell_type": "code",
   "execution_count": 19,
   "metadata": {},
   "outputs": [],
   "source": [
    "#dfs_depth base Code reference networkx\n",
    "def dfs_depth(G, source=None, depth_limit=None):\n",
    "    if source is None:\n",
    "        nodes = G\n",
    "    else:\n",
    "        nodes = [source]\n",
    "    visited = set()\n",
    "    if depth_limit is None:\n",
    "        depth_limit = len(G)\n",
    "    for start in nodes:\n",
    "        if start in visited:\n",
    "            continue\n",
    "        max_depth = 0\n",
    "        visited.add(start)\n",
    "        stack = [(start, depth_limit, iter(G[start]))]\n",
    "        while stack:\n",
    "            parent, depth_now, children = stack[-1]\n",
    "            try:\n",
    "                child = next(children)\n",
    "                if child not in visited:\n",
    "                    visited.add(child)\n",
    "                    if depth_now > 1:\n",
    "                        if((depth_limit - depth_now + 1)>max_depth):\n",
    "                            max_depth = depth_limit - depth_now + 1\n",
    "                        stack.append((child, depth_now - 1, iter(G[child])))\n",
    "            except StopIteration:\n",
    "                stack.pop() \n",
    "    return max_depth\n",
    "  \n",
    "\n"
   ]
  },
  {
   "cell_type": "code",
   "execution_count": 22,
   "metadata": {},
   "outputs": [
    {
     "data": {
      "text/plain": [
       "0"
      ]
     },
     "execution_count": 22,
     "metadata": {},
     "output_type": "execute_result"
    }
   ],
   "source": []
  },
  {
   "cell_type": "markdown",
   "metadata": {},
   "source": [
    "Now we are going to create a table with the span of control of each person.  \n",
    "TODO: look into various other metrics... raw depth, how balanced between managers and staff or maybe between top, medium, low , or between peer nodes (std of direct reports within that remit)"
   ]
  },
  {
   "cell_type": "code",
   "execution_count": 24,
   "metadata": {},
   "outputs": [
    {
     "data": {
      "text/html": [
       "<div>\n",
       "<style scoped>\n",
       "    .dataframe tbody tr th:only-of-type {\n",
       "        vertical-align: middle;\n",
       "    }\n",
       "\n",
       "    .dataframe tbody tr th {\n",
       "        vertical-align: top;\n",
       "    }\n",
       "\n",
       "    .dataframe thead th {\n",
       "        text-align: right;\n",
       "    }\n",
       "</style>\n",
       "<table border=\"1\" class=\"dataframe\">\n",
       "  <thead>\n",
       "    <tr style=\"text-align: right;\">\n",
       "      <th></th>\n",
       "      <th>id</th>\n",
       "      <th>full_span</th>\n",
       "      <th>direct_reports</th>\n",
       "      <th>team_depth</th>\n",
       "    </tr>\n",
       "  </thead>\n",
       "  <tbody>\n",
       "    <tr>\n",
       "      <th>0</th>\n",
       "      <td>1</td>\n",
       "      <td>9552</td>\n",
       "      <td>7</td>\n",
       "      <td>5</td>\n",
       "    </tr>\n",
       "    <tr>\n",
       "      <th>1</th>\n",
       "      <td>2</td>\n",
       "      <td>1811</td>\n",
       "      <td>6</td>\n",
       "      <td>4</td>\n",
       "    </tr>\n",
       "    <tr>\n",
       "      <th>2</th>\n",
       "      <td>3</td>\n",
       "      <td>253</td>\n",
       "      <td>6</td>\n",
       "      <td>3</td>\n",
       "    </tr>\n",
       "    <tr>\n",
       "      <th>3</th>\n",
       "      <td>4</td>\n",
       "      <td>48</td>\n",
       "      <td>4</td>\n",
       "      <td>2</td>\n",
       "    </tr>\n",
       "    <tr>\n",
       "      <th>4</th>\n",
       "      <td>5</td>\n",
       "      <td>7</td>\n",
       "      <td>6</td>\n",
       "      <td>1</td>\n",
       "    </tr>\n",
       "  </tbody>\n",
       "</table>\n",
       "</div>"
      ],
      "text/plain": [
       "   id  full_span  direct_reports  team_depth\n",
       "0   1       9552               7           5\n",
       "1   2       1811               6           4\n",
       "2   3        253               6           3\n",
       "3   4         48               4           2\n",
       "4   5          7               6           1"
      ]
     },
     "execution_count": 24,
     "metadata": {},
     "output_type": "execute_result"
    }
   ],
   "source": [
    "temp=[]\n",
    "for  n in G.nodes:\n",
    "    all_leaves=len(list(nx.descendants(G,n)))\n",
    "    children=len(list(G.successors(n)))-1\n",
    "    team_depth=dfs_depth(G,n)\n",
    "    temp.append([n, all_leaves, children, team_depth])\n",
    "    \n",
    "df2=pd.DataFrame(temp,columns=['id','full_span','direct_reports','team_depth'])\n",
    "df2.head()"
   ]
  },
  {
   "cell_type": "code",
   "execution_count": 25,
   "metadata": {},
   "outputs": [
    {
     "data": {
      "text/plain": [
       "{1}"
      ]
     },
     "execution_count": 25,
     "metadata": {},
     "output_type": "execute_result"
    }
   ],
   "source": [
    "nx.ancestors(G,2)"
   ]
  },
  {
   "cell_type": "code",
   "execution_count": 59,
   "metadata": {},
   "outputs": [],
   "source": [
    "span_threshold=40\n",
    "from functools import lru_cache\n",
    "\n",
    "lru_cache(maxsize=2000)\n",
    "def find_lower_bound(list_to_check,lower_bound):\n",
    "    current_result=list_to_check[0]\n",
    "    for i,e in enumerate(list_to_check):\n",
    "        if e>=lower_bound:\n",
    "            if current_result>=lower_bound:\n",
    "                if e<current_result:\n",
    "                    current_result=e\n",
    "            else:\n",
    "                current_result=e\n",
    "    if current_result<lower_bound:\n",
    "        return False\n",
    "    return list_to_check.index(current_result)"
   ]
  },
  {
   "cell_type": "code",
   "execution_count": 67,
   "metadata": {},
   "outputs": [],
   "source": [
    "for n in list(G.nodes):\n",
    "    a_list=list(nx.ancestors(G,n))\n",
    "    if a_list ==[] :\n",
    "        G.nodes[n][\"first_boss\"]=n\n",
    "        continue\n",
    "    a_span=[]\n",
    "    for a in a_list:\n",
    "        span=len(nx.descendants(G,a))\n",
    "        a_span.append(span)   \n",
    "    first_boss_index=find_lower_bound(tuple(a_span),span_threshold)\n",
    "    if first_boss_index:\n",
    "        G.nodes[n][\"first_boss\"]=a_list[first_boss_index]"
   ]
  },
  {
   "cell_type": "code",
   "execution_count": null,
   "metadata": {},
   "outputs": [],
   "source": []
  }
 ],
 "metadata": {
  "kernelspec": {
   "display_name": "Python 3",
   "language": "python",
   "name": "python3"
  },
  "language_info": {
   "codemirror_mode": {
    "name": "ipython",
    "version": 3
   },
   "file_extension": ".py",
   "mimetype": "text/x-python",
   "name": "python",
   "nbconvert_exporter": "python",
   "pygments_lexer": "ipython3",
   "version": "3.6.6+"
  }
 },
 "nbformat": 4,
 "nbformat_minor": 2
}
