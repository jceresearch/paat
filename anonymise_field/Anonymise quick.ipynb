{
 "cells": [
  {
   "cell_type": "markdown",
   "metadata": {},
   "source": [
    "# Quick and dirty anonymisation of fields"
   ]
  },
  {
   "cell_type": "code",
   "execution_count": null,
   "metadata": {},
   "outputs": [],
   "source": [
    "#!Python3\n",
    "\n",
    "import pandas as pd\n",
    "import os \n"
   ]
  },
  {
   "cell_type": "code",
   "execution_count": null,
   "metadata": {},
   "outputs": [],
   "source": []
  },
  {
   "cell_type": "code",
   "execution_count": null,
   "metadata": {},
   "outputs": [],
   "source": [
    "\n",
    "os.getcwd()\n",
    "os.chdir('//Server/folder')\n",
    "os.listdir()\n",
    "\n",
    "e1 = pd.ExcelFile('Input File 1.xlsx')\n",
    "e1.sheet_names\n",
    "df1= e1.parse(0)\n",
    "for i in range (1, len(e1.sheet_names)):\n",
    "    df1 = df1.append(e1.parse (i))\n",
    "df1 = df.reset_index()\n",
    "df1.columns= ['Col header 1', 'Col header 2']\n",
    "\n",
    "e2 = pd.ExcelFile('Input File 2.xlsx')\n",
    "e2.sheet_names\n",
    "df2= e2.parse(0)\n",
    "for i in range (1, len(e2.sheet_names)):\n",
    "    df2 = df2.append(e2.parse (i))\n",
    "df2 = df.reset_index()\n",
    "df2.columns= ['Col header 1', 'Col header 2']\n",
    "  \n",
    "#this is just ot demonstrate how to merge to or more spreadsheets, could be all in one\n",
    "comb_table = df1.drop(columns = 'index').append(df2.drop(columns = 'index'))\n",
    "comb_table.head(1)\n",
    "\n",
    "#This is where we create the converstion table, by picking the unique values of the column\n",
    "#the index number, which is being rebuilt by the reset_index() function will act as the synthetic value\n",
    "mapping_table = pd.DataFrame(comb_table['Customer ID'].unique()).reset_index()\n",
    "mapping_table.columns = ['New_Customer', 'Original_Customer']\n",
    "mapping_table.to_csv('mapping_table1.csv')\n",
    "\n",
    "#We anonymise again for the other critical field\n",
    "mapping_table2 = pd.DataFrame(comb_table['Trans_Number'].unique()).reset_index()\n",
    "mapping_table2.columns = ['New_Trans_Number', 'Original_Trans_Number']\n",
    "mapping_table2.to_csv('mapping_table2.csv')\n",
    "\n",
    "comb_table_anon =comb_table.merge (mapping_table, left_on = 'Customer ID', right_on = 'Original_Customer' )\n",
    "comb_table_anon = comb_table_anon.merge (mapping_table2, left_on = 'Trans_Number', right_on = 'Original_Trans_Number' )\n",
    "\n",
    "comb_table_anon = comb_table_anon [[\n",
    " 'New_Customer',\n",
    " 'New_Tran_number',\n",
    " 'Field X',\n",
    " 'Field Y',\n",
    " 'Field Z'\n",
    "]]\n",
    "\n",
    "\n",
    "len(comb_table)\n",
    "len(comb_table_anon)\n"
   ]
  },
  {
   "cell_type": "code",
   "execution_count": null,
   "metadata": {},
   "outputs": [],
   "source": [
    "comb_table_anon.sort_values(['Field X']).head(500000).to_csv('comb_table_pwc_top500000lines.csv')\n",
    "comb_table_anon.sort_values(['Field X']).tail (500001).to_csv('comb_table_bottom_half.csv')\n",
    "comb_table_anon.to_csv ('comb_table_anon.csv')"
   ]
  }
 ],
 "metadata": {
  "kernelspec": {
   "display_name": "Python 3",
   "language": "python",
   "name": "python3"
  },
  "language_info": {
   "codemirror_mode": {
    "name": "ipython",
    "version": 3
   },
   "file_extension": ".py",
   "mimetype": "text/x-python",
   "name": "python",
   "nbconvert_exporter": "python",
   "pygments_lexer": "ipython3",
   "version": "3.7.0"
  }
 },
 "nbformat": 4,
 "nbformat_minor": 2
}
