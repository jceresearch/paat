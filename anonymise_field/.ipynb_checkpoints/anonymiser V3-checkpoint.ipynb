{
 "cells": [
  {
   "cell_type": "code",
   "execution_count": 339,
   "metadata": {},
   "outputs": [],
   "source": [
    "import pandas as pd\n"
   ]
  },
  {
   "cell_type": "code",
   "execution_count": 340,
   "metadata": {},
   "outputs": [
    {
     "name": "stdout",
     "output_type": "stream",
     "text": [
      "anonymised.csv    available_ids.csv translation.csv\n",
      "anonymiser.ipynb  input.csv         translation2.csv\n"
     ]
    }
   ],
   "source": [
    "!ls"
   ]
  },
  {
   "cell_type": "code",
   "execution_count": 368,
   "metadata": {},
   "outputs": [],
   "source": [
    "import random\n",
    "from faker import Faker\n",
    "def create_test_input_table(number_of_transactions, number_of_ids, types_of_transactions):\n",
    "    d = []\n",
    "    fake = Faker() \n",
    "    id_list = list(range(1,number_of_ids)) # list of integers from 1 to 100\n",
    "    name_list=[]\n",
    "    for i in id_list:\n",
    "        name_list.append(fake.name())\n",
    "\n",
    "    for i in range(0, number_of_transactions):\n",
    "        j=random.randint(0,number_of_ids-1)\n",
    "        k=random.randint(0,types_of_transactions-1)\n",
    "        d.append({'ID': id_list[j],'Name': name_list[j], 'Transact': k })\n",
    "    df= pd.DataFrame(d)\n",
    "    return df\n",
    "    "
   ]
  },
  {
   "cell_type": "markdown",
   "metadata": {},
   "source": [
    "\n"
   ]
  },
  {
   "cell_type": "code",
   "execution_count": 357,
   "metadata": {},
   "outputs": [],
   "source": [
    "#to delete any column by index from a dataframe\n",
    "#df= df.drop(df.columns[0],1)\n",
    "#df"
   ]
  },
  {
   "cell_type": "code",
   "execution_count": 364,
   "metadata": {},
   "outputs": [],
   "source": [
    "import csv\n",
    "def load_translation_table(file_path):\n",
    "    L2S={}\n",
    "    S2L={} \n",
    "    with open(file_path, 'r') as csvfile:\n",
    "        r = csv.reader(csvfile, delimiter=',', quotechar='\"',)\n",
    "        next(r)\n",
    "        for row in r:\n",
    "            if row[0] in L2S.keys(): \n",
    "                print(\"Duplicate id value detected:\" + str(row[0]))\n",
    "            else:\n",
    "                L2S[row[0]]=row[1]\n",
    "            if row[1] in S2L.keys():\n",
    "                print(\"Duplicate syn value detected:\" + str(row[1]))\n",
    "            else:\n",
    "                S2L[row[1]]=row[0]\n",
    "                \n",
    "    return L2S, S2L\n",
    "\n",
    "\n",
    "def save_translation_table(file_path,L2S):\n",
    "    with open(file_path,'w') as f:\n",
    "        w = csv.writer(f, delimiter=',', quotechar='\"',quoting=csv.QUOTE_MINIMAL) \n",
    "        w.writerow(['id','syn'])\n",
    "        w.writerows(L2S.items())\n",
    "\n",
    "\n",
    "\n",
    "\n",
    "     "
   ]
  },
  {
   "cell_type": "markdown",
   "metadata": {},
   "source": [
    "This function loads the translation table, which is a plain CSV\n",
    "Check out the quoting and delimiter if you wish to work with text IDs\n",
    "It does check if there is any duplicate. \n",
    "Because it is a transation table, there should be NO duplicates either way."
   ]
  },
  {
   "cell_type": "code",
   "execution_count": 365,
   "metadata": {},
   "outputs": [],
   "source": [
    "def create_syn_range(start,end):\n",
    "    l = list(range(start,end+1))\n",
    "    l = [str(i) for i in l]\n",
    "    return l\n",
    "\n",
    "def load_available_syns(file_path):\n",
    "    l=[]\n",
    "    with open(file_path , 'r') as f:\n",
    "        f.readline()\n",
    "        for line in f:\n",
    "            line = line.strip() #or some other preprocessing\n",
    "            l.append(line) #storing everything in memory!\n",
    "    return l\n",
    "def save_available_syns(file_path, list_available):\n",
    "    with open(file_path , 'w') as f:\n",
    "        f.write(\"syn\\n\")\n",
    "        for item in list_available:\n",
    "            f.write(\"%s\\n\" % item)\n",
    "\n",
    "def check_available_syns(list_available, S2L, L2S, cleanup_used= False):\n",
    "    error_count=0\n",
    "    for n in S2L.keys():\n",
    "        if n in list_available:          \n",
    "            error_count += 1\n",
    "            loc= list_available.index(n)\n",
    "            print(str(n)+\" was found in the list_available list\" + str(loc))\n",
    "            if cleanup_used==True:\n",
    "                list_available.pop(loc)\n",
    "                print (\"Removed from list in memory\")\n",
    "    print (\"Errors found checking S2L:\" + str(error_count))\n",
    "    error_count=0\n",
    "    for n in L2S.values():\n",
    "        if n in list_available:          \n",
    "            error_count += 1\n",
    "            loc= list_available.index(n)\n",
    "            print(str(n)+\" was found in the list_available list\" + str(loc))\n",
    "            if cleanup_used==True:\n",
    "                list_available.pop(loc)\n",
    "                print (\"Removed from list in memory\")\n",
    "    print (\"Errors found checking L2S:\" + str(error_count))\n",
    "\n",
    "\n",
    "def expand_available_syns(list_available,  S2L, start, end):\n",
    "    new_range= list(range(start,end+1))\n",
    "    for n in new_range:\n",
    "        if  str(n) not in S2L.keys():\n",
    "            list_available.append(str(n))\n",
    "    return list_available\n"
   ]
  },
  {
   "cell_type": "code",
   "execution_count": 366,
   "metadata": {},
   "outputs": [],
   "source": [
    "def assign_syn_to_live(live_value,list_available,L2S,S2L):\n",
    "    if live_value in L2S.keys():\n",
    "        return L2S[live_value]\n",
    "    else:\n",
    "        if len(list_available)>0:\n",
    "            new_syn=list_available.pop(0)\n",
    "            L2S[live_value]=new_syn\n",
    "            S2L[new_syn]=live_value\n",
    "        else:\n",
    "            print(\"Ran out of available ids\")\n",
    "            new_syn=\"\"\n",
    "        return new_syn\n",
    "\n",
    "def anonymise(df, column_name, list_available, L2S, S2L ):\n",
    "    for i, r in df.iterrows():\n",
    "        live_value= r[column_name]\n",
    "        syn_value = assign_syn_to_live(live_value,list_available,L2S,S2L)\n",
    "        df.at[i, column_name]= syn_value\n",
    "def de_anonymise(df,column_name,list_available, L2S,S2L):\n",
    "    for i, r in df.iterrows():\n",
    "        syn_value= r[column_name]\n",
    "        live_value= S2L[syn_value]\n",
    "        df.at[i,column_name]= live_value \n"
   ]
  },
  {
   "cell_type": "code",
   "execution_count": null,
   "metadata": {},
   "outputs": [],
   "source": [
    "\n",
    "        "
   ]
  },
  {
   "cell_type": "code",
   "execution_count": 369,
   "metadata": {},
   "outputs": [
    {
     "ename": "IndexError",
     "evalue": "list index out of range",
     "output_type": "error",
     "traceback": [
      "\u001b[0;31m---------------------------------------------------------------------------\u001b[0m",
      "\u001b[0;31mIndexError\u001b[0m                                Traceback (most recent call last)",
      "\u001b[0;32m<timed exec>\u001b[0m in \u001b[0;36m<module>\u001b[0;34m()\u001b[0m\n",
      "\u001b[0;32m<ipython-input-368-944bba7fb4ab>\u001b[0m in \u001b[0;36mcreate_test_input_table\u001b[0;34m(number_of_transactions, number_of_ids, types_of_transactions)\u001b[0m\n\u001b[1;32m     12\u001b[0m         \u001b[0mj\u001b[0m\u001b[0;34m=\u001b[0m\u001b[0mrandom\u001b[0m\u001b[0;34m.\u001b[0m\u001b[0mrandint\u001b[0m\u001b[0;34m(\u001b[0m\u001b[0;36m0\u001b[0m\u001b[0;34m,\u001b[0m\u001b[0;36m99\u001b[0m\u001b[0;34m)\u001b[0m\u001b[0;34m\u001b[0m\u001b[0m\n\u001b[1;32m     13\u001b[0m         \u001b[0mk\u001b[0m\u001b[0;34m=\u001b[0m\u001b[0mrandom\u001b[0m\u001b[0;34m.\u001b[0m\u001b[0mrandint\u001b[0m\u001b[0;34m(\u001b[0m\u001b[0;36m0\u001b[0m\u001b[0;34m,\u001b[0m\u001b[0mtypes_of_transactions\u001b[0m\u001b[0;34m-\u001b[0m\u001b[0;36m1\u001b[0m\u001b[0;34m)\u001b[0m\u001b[0;34m\u001b[0m\u001b[0m\n\u001b[0;32m---> 14\u001b[0;31m         \u001b[0md\u001b[0m\u001b[0;34m.\u001b[0m\u001b[0mappend\u001b[0m\u001b[0;34m(\u001b[0m\u001b[0;34m{\u001b[0m\u001b[0;34m'ID'\u001b[0m\u001b[0;34m:\u001b[0m \u001b[0mid_list\u001b[0m\u001b[0;34m[\u001b[0m\u001b[0mj\u001b[0m\u001b[0;34m]\u001b[0m\u001b[0;34m,\u001b[0m\u001b[0;34m'Name'\u001b[0m\u001b[0;34m:\u001b[0m \u001b[0mname_list\u001b[0m\u001b[0;34m[\u001b[0m\u001b[0mj\u001b[0m\u001b[0;34m]\u001b[0m\u001b[0;34m,\u001b[0m \u001b[0;34m'Transact'\u001b[0m\u001b[0;34m:\u001b[0m \u001b[0mk\u001b[0m \u001b[0;34m}\u001b[0m\u001b[0;34m)\u001b[0m\u001b[0;34m\u001b[0m\u001b[0m\n\u001b[0m\u001b[1;32m     15\u001b[0m     \u001b[0mdf\u001b[0m\u001b[0;34m=\u001b[0m \u001b[0mpd\u001b[0m\u001b[0;34m.\u001b[0m\u001b[0mDataFrame\u001b[0m\u001b[0;34m(\u001b[0m\u001b[0md\u001b[0m\u001b[0;34m)\u001b[0m\u001b[0;34m\u001b[0m\u001b[0m\n\u001b[1;32m     16\u001b[0m     \u001b[0;32mreturn\u001b[0m \u001b[0mdf\u001b[0m\u001b[0;34m\u001b[0m\u001b[0m\n",
      "\u001b[0;31mIndexError\u001b[0m: list index out of range"
     ]
    }
   ],
   "source": [
    "%%time\n",
    "L2S={}\n",
    "S2L={}\n",
    "df= create_test_input_table(1000,100,10)\n",
    "list_available=create_syn_range(1,200)\n",
    "anonymise(df,\"ID\",list_available,L2S,S2L)"
   ]
  },
  {
   "cell_type": "code",
   "execution_count": 354,
   "metadata": {},
   "outputs": [
    {
     "data": {
      "text/plain": [
       "5000000"
      ]
     },
     "execution_count": 354,
     "metadata": {},
     "output_type": "execute_result"
    }
   ],
   "source": [
    "len(df)"
   ]
  },
  {
   "cell_type": "code",
   "execution_count": 338,
   "metadata": {},
   "outputs": [],
   "source": [
    "%%time\n",
    "df.to_csv( \"anonymised.csv\", index=False , sep=',')\n"
   ]
  },
  {
   "cell_type": "markdown",
   "metadata": {},
   "source": [
    "## Test for a small scale translation with existing files"
   ]
  },
  {
   "cell_type": "markdown",
   "metadata": {},
   "source": [
    "df is the dataframe with the data to anonymise. We use a plain csv loader that comes with Pandas.\n",
    "Depending on the format you need to beef up this command to load or otherwise process the data into a single data frame."
   ]
  },
  {
   "cell_type": "code",
   "execution_count": null,
   "metadata": {},
   "outputs": [],
   "source": [
    "print(\"We load the translation table, available keys and input file\")\n",
    "L2S , S2L = load_translation_table('translation.csv')\n",
    "df= pd.read_csv('input.csv')\n",
    "list_available=load_available_slots(\"available_ids.csv\")\n",
    "\n",
    "print (L2S.keys())\n",
    "print (S2L.keys())\n",
    "print (list_available)\n",
    "\n",
    "print(\"Now We try to save the table and load the table again\")\n",
    "save_translation_table(\"translation.csv\", L2S)\n",
    "L2S , S2L = load_translation_table('translation.csv')\n",
    "print (L2S.keys())\n",
    "print (S2L.keys())\n",
    "\n",
    "\n",
    "print (\"Now we will erase the the list_available\")\n",
    "list_available= create_syn_range(1,10)\n",
    "print (\"Created list with \" + str(len(list_available) + \" elements\")\n",
    "\n",
    "expand_available_syns(list_available, S2L,1,40)\n",
    "save_available_syns(\"available_ids.csv\", list_available)\n",
    "\n",
    "\n",
    "check_available_syns(list_available, S2L, L2S, True)\n",
    "print (\"Current list of available Syns:\")\n",
    "print (list_available)\n",
    "\n",
    "new_syn, L2S, S2L = assign_syn_to_live(7777, list_available, L2S, S2L)\n",
    "print(new_syn)\n",
    "print(list_available)\n",
    "print (L2S)\n",
    "print (S2L)\n"
   ]
  }
 ],
 "metadata": {
  "kernelspec": {
   "display_name": "Python 3",
   "language": "python",
   "name": "python3"
  },
  "language_info": {
   "codemirror_mode": {
    "name": "ipython",
    "version": 3
   },
   "file_extension": ".py",
   "mimetype": "text/x-python",
   "name": "python",
   "nbconvert_exporter": "python",
   "pygments_lexer": "ipython3",
   "version": "3.7.0"
  }
 },
 "nbformat": 4,
 "nbformat_minor": 2
}
