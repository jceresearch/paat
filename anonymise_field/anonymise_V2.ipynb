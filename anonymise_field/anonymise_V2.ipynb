{
  "cells": [
    {
      "metadata": {
        "trusted": true
      },
      "cell_type": "code",
      "source": "!pip install faker",
      "execution_count": 3,
      "outputs": [
        {
          "output_type": "stream",
          "text": "Collecting faker\n\u001b[?25l  Downloading https://files.pythonhosted.org/packages/f5/7e/41e4efbec4722a6b0fe44acffed08b9477b9334c3e40a7a877291a20e7fe/Faker-1.0.4-py2.py3-none-any.whl (846kB)\n\u001b[K    100% |████████████████████████████████| 849kB 4.6MB/s eta 0:00:01\n\u001b[?25hRequirement already satisfied: six>=1.10 in /home/nbuser/anaconda3_501/lib/python3.6/site-packages (from faker) (1.11.0)\nRequirement already satisfied: python-dateutil>=2.4 in /home/nbuser/anaconda3_501/lib/python3.6/site-packages (from faker) (2.7.5)\nCollecting text-unidecode==1.2 (from faker)\n\u001b[?25l  Downloading https://files.pythonhosted.org/packages/79/42/d717cc2b4520fb09e45b344b1b0b4e81aa672001dd128c180fabc655c341/text_unidecode-1.2-py2.py3-none-any.whl (77kB)\n\u001b[K    100% |████████████████████████████████| 81kB 9.2MB/s eta 0:00:01\n\u001b[?25hInstalling collected packages: text-unidecode, faker\nSuccessfully installed faker-1.0.4 text-unidecode-1.2\n",
          "name": "stdout"
        }
      ]
    },
    {
      "metadata": {
        "trusted": true
      },
      "cell_type": "code",
      "source": "\nimport faker\nfake = faker.Faker()\nfake.name()",
      "execution_count": 4,
      "outputs": [
        {
          "output_type": "execute_result",
          "execution_count": 4,
          "data": {
            "text/plain": "'William Hale'"
          },
          "metadata": {}
        }
      ]
    },
    {
      "metadata": {
        "trusted": true
      },
      "cell_type": "code",
      "source": "import pandas as pd",
      "execution_count": 5,
      "outputs": []
    },
    {
      "metadata": {
        "trusted": true
      },
      "cell_type": "code",
      "source": "",
      "execution_count": null,
      "outputs": []
    },
    {
      "metadata": {
        "trusted": true
      },
      "cell_type": "code",
      "source": "raw_data = {'ID':[812001,812002,812003,812004,812005,812006],'first_name': ['Jason', 'Molly', 'Tina', 'Jake', 'Amy','Juan'], \n        'last_name': ['Miller', 'Jacobson', 'Ali', 'Milner', 'Cooze','Perez'], \n        'age': [42, 52, 36, 24, 73,13], \n        'city': ['San Francisco', 'Baltimore', 'Miami', 'Douglas', 'Boston','San Francisco']}\n\ndf = pd.DataFrame(raw_data, columns = ['ID','first_name', 'last_name', 'age', 'city'])\ndf\n",
      "execution_count": 28,
      "outputs": [
        {
          "output_type": "execute_result",
          "execution_count": 28,
          "data": {
            "text/html": "<div>\n<style scoped>\n    .dataframe tbody tr th:only-of-type {\n        vertical-align: middle;\n    }\n\n    .dataframe tbody tr th {\n        vertical-align: top;\n    }\n\n    .dataframe thead th {\n        text-align: right;\n    }\n</style>\n<table border=\"1\" class=\"dataframe\">\n  <thead>\n    <tr style=\"text-align: right;\">\n      <th></th>\n      <th>ID</th>\n      <th>first_name</th>\n      <th>last_name</th>\n      <th>age</th>\n      <th>city</th>\n    </tr>\n  </thead>\n  <tbody>\n    <tr>\n      <th>0</th>\n      <td>812001</td>\n      <td>Jason</td>\n      <td>Miller</td>\n      <td>42</td>\n      <td>San Francisco</td>\n    </tr>\n    <tr>\n      <th>1</th>\n      <td>812002</td>\n      <td>Molly</td>\n      <td>Jacobson</td>\n      <td>52</td>\n      <td>Baltimore</td>\n    </tr>\n    <tr>\n      <th>2</th>\n      <td>812003</td>\n      <td>Tina</td>\n      <td>Ali</td>\n      <td>36</td>\n      <td>Miami</td>\n    </tr>\n    <tr>\n      <th>3</th>\n      <td>812004</td>\n      <td>Jake</td>\n      <td>Milner</td>\n      <td>24</td>\n      <td>Douglas</td>\n    </tr>\n    <tr>\n      <th>4</th>\n      <td>812005</td>\n      <td>Amy</td>\n      <td>Cooze</td>\n      <td>73</td>\n      <td>Boston</td>\n    </tr>\n    <tr>\n      <th>5</th>\n      <td>812006</td>\n      <td>Juan</td>\n      <td>Perez</td>\n      <td>13</td>\n      <td>San Francisco</td>\n    </tr>\n  </tbody>\n</table>\n</div>",
            "text/plain": "       ID first_name last_name  age           city\n0  812001      Jason    Miller   42  San Francisco\n1  812002      Molly  Jacobson   52      Baltimore\n2  812003       Tina       Ali   36          Miami\n3  812004       Jake    Milner   24        Douglas\n4  812005        Amy     Cooze   73         Boston\n5  812006       Juan     Perez   13  San Francisco"
          },
          "metadata": {}
        }
      ]
    },
    {
      "metadata": {
        "trusted": true
      },
      "cell_type": "code",
      "source": "city_to_state = { 'San Francisco' : 'California', \n                  'Baltimore' : 'Maryland', \n                  'Miami' : 'Florida', \n                  'Douglas' : 'Arizona', \n                  'Boston' : 'Massachusetts'}\n\ncity_to_state2 = { 'San Francisco' : 'CA', \n                  'Baltimore' : 'MLD', \n                  'Miami' : 'FL', \n                  'Douglas' : 'AR', \n                  'Boston' : 'MT'}\n\n",
      "execution_count": 13,
      "outputs": [
        {
          "output_type": "execute_result",
          "execution_count": 13,
          "data": {
            "text/html": "<div>\n<style scoped>\n    .dataframe tbody tr th:only-of-type {\n        vertical-align: middle;\n    }\n\n    .dataframe tbody tr th {\n        vertical-align: top;\n    }\n\n    .dataframe thead th {\n        text-align: right;\n    }\n</style>\n<table border=\"1\" class=\"dataframe\">\n  <thead>\n    <tr style=\"text-align: right;\">\n      <th></th>\n      <th>ID</th>\n      <th>first_name</th>\n      <th>last_name</th>\n      <th>age</th>\n      <th>city</th>\n    </tr>\n  </thead>\n  <tbody>\n    <tr>\n      <th>0</th>\n      <td>812001</td>\n      <td>Jason</td>\n      <td>Miller</td>\n      <td>42</td>\n      <td>San Francisco</td>\n    </tr>\n    <tr>\n      <th>1</th>\n      <td>812002</td>\n      <td>Molly</td>\n      <td>Jacobson</td>\n      <td>52</td>\n      <td>Baltimore</td>\n    </tr>\n    <tr>\n      <th>2</th>\n      <td>812003</td>\n      <td>Tina</td>\n      <td>Ali</td>\n      <td>36</td>\n      <td>Miami</td>\n    </tr>\n    <tr>\n      <th>3</th>\n      <td>812004</td>\n      <td>Jake</td>\n      <td>Milner</td>\n      <td>24</td>\n      <td>Douglas</td>\n    </tr>\n    <tr>\n      <th>4</th>\n      <td>812005</td>\n      <td>Amy</td>\n      <td>Cooze</td>\n      <td>73</td>\n      <td>Boston</td>\n    </tr>\n    <tr>\n      <th>5</th>\n      <td>812006</td>\n      <td>Juan</td>\n      <td>Perez</td>\n      <td>13</td>\n      <td>San Francisco</td>\n    </tr>\n  </tbody>\n</table>\n</div>",
            "text/plain": "       ID first_name last_name  age           city\n0  812001      Jason    Miller   42  San Francisco\n1  812002      Molly  Jacobson   52      Baltimore\n2  812003       Tina       Ali   36          Miami\n3  812004       Jake    Milner   24        Douglas\n4  812005        Amy     Cooze   73         Boston\n5  812006       Juan     Perez   13  San Francisco"
          },
          "metadata": {}
        }
      ]
    },
    {
      "metadata": {
        "trusted": true
      },
      "cell_type": "code",
      "source": "df['state'] = df['city'].map(city_to_state)\ndf",
      "execution_count": 14,
      "outputs": [
        {
          "output_type": "execute_result",
          "execution_count": 14,
          "data": {
            "text/html": "<div>\n<style scoped>\n    .dataframe tbody tr th:only-of-type {\n        vertical-align: middle;\n    }\n\n    .dataframe tbody tr th {\n        vertical-align: top;\n    }\n\n    .dataframe thead th {\n        text-align: right;\n    }\n</style>\n<table border=\"1\" class=\"dataframe\">\n  <thead>\n    <tr style=\"text-align: right;\">\n      <th></th>\n      <th>ID</th>\n      <th>first_name</th>\n      <th>last_name</th>\n      <th>age</th>\n      <th>city</th>\n      <th>state</th>\n    </tr>\n  </thead>\n  <tbody>\n    <tr>\n      <th>0</th>\n      <td>812001</td>\n      <td>Jason</td>\n      <td>Miller</td>\n      <td>42</td>\n      <td>San Francisco</td>\n      <td>California</td>\n    </tr>\n    <tr>\n      <th>1</th>\n      <td>812002</td>\n      <td>Molly</td>\n      <td>Jacobson</td>\n      <td>52</td>\n      <td>Baltimore</td>\n      <td>Maryland</td>\n    </tr>\n    <tr>\n      <th>2</th>\n      <td>812003</td>\n      <td>Tina</td>\n      <td>Ali</td>\n      <td>36</td>\n      <td>Miami</td>\n      <td>Florida</td>\n    </tr>\n    <tr>\n      <th>3</th>\n      <td>812004</td>\n      <td>Jake</td>\n      <td>Milner</td>\n      <td>24</td>\n      <td>Douglas</td>\n      <td>Arizona</td>\n    </tr>\n    <tr>\n      <th>4</th>\n      <td>812005</td>\n      <td>Amy</td>\n      <td>Cooze</td>\n      <td>73</td>\n      <td>Boston</td>\n      <td>Massachusetts</td>\n    </tr>\n    <tr>\n      <th>5</th>\n      <td>812006</td>\n      <td>Juan</td>\n      <td>Perez</td>\n      <td>13</td>\n      <td>San Francisco</td>\n      <td>California</td>\n    </tr>\n  </tbody>\n</table>\n</div>",
            "text/plain": "       ID first_name last_name  age           city          state\n0  812001      Jason    Miller   42  San Francisco     California\n1  812002      Molly  Jacobson   52      Baltimore       Maryland\n2  812003       Tina       Ali   36          Miami        Florida\n3  812004       Jake    Milner   24        Douglas        Arizona\n4  812005        Amy     Cooze   73         Boston  Massachusetts\n5  812006       Juan     Perez   13  San Francisco     California"
          },
          "metadata": {}
        }
      ]
    },
    {
      "metadata": {
        "trusted": true
      },
      "cell_type": "code",
      "source": "def c2s(city, city_to_state): return city_to_state[city] +\" \"+ city_to_state2[city]\n\ndf['state']= df['city'].apply(lambda x: c2s(x,city_to_state))\ndf",
      "execution_count": 15,
      "outputs": [
        {
          "output_type": "execute_result",
          "execution_count": 15,
          "data": {
            "text/html": "<div>\n<style scoped>\n    .dataframe tbody tr th:only-of-type {\n        vertical-align: middle;\n    }\n\n    .dataframe tbody tr th {\n        vertical-align: top;\n    }\n\n    .dataframe thead th {\n        text-align: right;\n    }\n</style>\n<table border=\"1\" class=\"dataframe\">\n  <thead>\n    <tr style=\"text-align: right;\">\n      <th></th>\n      <th>ID</th>\n      <th>first_name</th>\n      <th>last_name</th>\n      <th>age</th>\n      <th>city</th>\n      <th>state</th>\n    </tr>\n  </thead>\n  <tbody>\n    <tr>\n      <th>0</th>\n      <td>812001</td>\n      <td>Jason</td>\n      <td>Miller</td>\n      <td>42</td>\n      <td>San Francisco</td>\n      <td>California CA</td>\n    </tr>\n    <tr>\n      <th>1</th>\n      <td>812002</td>\n      <td>Molly</td>\n      <td>Jacobson</td>\n      <td>52</td>\n      <td>Baltimore</td>\n      <td>Maryland MLD</td>\n    </tr>\n    <tr>\n      <th>2</th>\n      <td>812003</td>\n      <td>Tina</td>\n      <td>Ali</td>\n      <td>36</td>\n      <td>Miami</td>\n      <td>Florida FL</td>\n    </tr>\n    <tr>\n      <th>3</th>\n      <td>812004</td>\n      <td>Jake</td>\n      <td>Milner</td>\n      <td>24</td>\n      <td>Douglas</td>\n      <td>Arizona AR</td>\n    </tr>\n    <tr>\n      <th>4</th>\n      <td>812005</td>\n      <td>Amy</td>\n      <td>Cooze</td>\n      <td>73</td>\n      <td>Boston</td>\n      <td>Massachusetts MT</td>\n    </tr>\n    <tr>\n      <th>5</th>\n      <td>812006</td>\n      <td>Juan</td>\n      <td>Perez</td>\n      <td>13</td>\n      <td>San Francisco</td>\n      <td>California CA</td>\n    </tr>\n  </tbody>\n</table>\n</div>",
            "text/plain": "       ID first_name last_name  age           city             state\n0  812001      Jason    Miller   42  San Francisco     California CA\n1  812002      Molly  Jacobson   52      Baltimore      Maryland MLD\n2  812003       Tina       Ali   36          Miami        Florida FL\n3  812004       Jake    Milner   24        Douglas        Arizona AR\n4  812005        Amy     Cooze   73         Boston  Massachusetts MT\n5  812006       Juan     Perez   13  San Francisco     California CA"
          },
          "metadata": {}
        }
      ]
    },
    {
      "metadata": {
        "trusted": true
      },
      "cell_type": "code",
      "source": "df\n",
      "execution_count": 26,
      "outputs": [
        {
          "output_type": "execute_result",
          "execution_count": 26,
          "data": {
            "text/html": "<div>\n<style scoped>\n    .dataframe tbody tr th:only-of-type {\n        vertical-align: middle;\n    }\n\n    .dataframe tbody tr th {\n        vertical-align: top;\n    }\n\n    .dataframe thead th {\n        text-align: right;\n    }\n</style>\n<table border=\"1\" class=\"dataframe\">\n  <thead>\n    <tr style=\"text-align: right;\">\n      <th></th>\n      <th>level_0</th>\n      <th>index</th>\n      <th>New_ID</th>\n      <th>ID</th>\n      <th>first_name</th>\n      <th>last_name</th>\n      <th>age</th>\n      <th>city</th>\n      <th>state</th>\n    </tr>\n  </thead>\n  <tbody>\n    <tr>\n      <th>0</th>\n      <td>0</td>\n      <td>0</td>\n      <td>880</td>\n      <td>812001</td>\n      <td>Jason</td>\n      <td>Miller</td>\n      <td>42</td>\n      <td>San Francisco</td>\n      <td>California CA</td>\n    </tr>\n    <tr>\n      <th>1</th>\n      <td>1</td>\n      <td>1</td>\n      <td>881</td>\n      <td>812002</td>\n      <td>Molly</td>\n      <td>Jacobson</td>\n      <td>52</td>\n      <td>Baltimore</td>\n      <td>Maryland MLD</td>\n    </tr>\n    <tr>\n      <th>2</th>\n      <td>2</td>\n      <td>2</td>\n      <td>882</td>\n      <td>812003</td>\n      <td>Tina</td>\n      <td>Ali</td>\n      <td>36</td>\n      <td>Miami</td>\n      <td>Florida FL</td>\n    </tr>\n    <tr>\n      <th>3</th>\n      <td>3</td>\n      <td>3</td>\n      <td>883</td>\n      <td>812004</td>\n      <td>Jake</td>\n      <td>Milner</td>\n      <td>24</td>\n      <td>Douglas</td>\n      <td>Arizona AR</td>\n    </tr>\n    <tr>\n      <th>4</th>\n      <td>4</td>\n      <td>4</td>\n      <td>884</td>\n      <td>812005</td>\n      <td>Amy</td>\n      <td>Cooze</td>\n      <td>73</td>\n      <td>Boston</td>\n      <td>Massachusetts MT</td>\n    </tr>\n    <tr>\n      <th>5</th>\n      <td>5</td>\n      <td>5</td>\n      <td>885</td>\n      <td>812006</td>\n      <td>Juan</td>\n      <td>Perez</td>\n      <td>13</td>\n      <td>San Francisco</td>\n      <td>California CA</td>\n    </tr>\n  </tbody>\n</table>\n</div>",
            "text/plain": "   level_0  index  New_ID      ID first_name last_name  age           city  \\\n0        0      0     880  812001      Jason    Miller   42  San Francisco   \n1        1      1     881  812002      Molly  Jacobson   52      Baltimore   \n2        2      2     882  812003       Tina       Ali   36          Miami   \n3        3      3     883  812004       Jake    Milner   24        Douglas   \n4        4      4     884  812005        Amy     Cooze   73         Boston   \n5        5      5     885  812006       Juan     Perez   13  San Francisco   \n\n              state  \n0     California CA  \n1      Maryland MLD  \n2        Florida FL  \n3        Arizona AR  \n4  Massachusetts MT  \n5     California CA  "
          },
          "metadata": {}
        }
      ]
    },
    {
      "metadata": {
        "trusted": true
      },
      "cell_type": "code",
      "source": "try:\n    df.drop(\"New_ID\",axis=1, inplace=True)\nexcept:\n    print('Column New_ID doesnt exist')\n    \ndf.insert(0, 'New_ID', range(100, 100 + len(df)))\ndf",
      "execution_count": 36,
      "outputs": [
        {
          "output_type": "execute_result",
          "execution_count": 36,
          "data": {
            "text/html": "<div>\n<style scoped>\n    .dataframe tbody tr th:only-of-type {\n        vertical-align: middle;\n    }\n\n    .dataframe tbody tr th {\n        vertical-align: top;\n    }\n\n    .dataframe thead th {\n        text-align: right;\n    }\n</style>\n<table border=\"1\" class=\"dataframe\">\n  <thead>\n    <tr style=\"text-align: right;\">\n      <th></th>\n      <th>New_ID</th>\n      <th>ID</th>\n      <th>first_name</th>\n      <th>last_name</th>\n      <th>age</th>\n      <th>city</th>\n    </tr>\n  </thead>\n  <tbody>\n    <tr>\n      <th>0</th>\n      <td>100</td>\n      <td>812001</td>\n      <td>Jason</td>\n      <td>Miller</td>\n      <td>42</td>\n      <td>San Francisco</td>\n    </tr>\n    <tr>\n      <th>1</th>\n      <td>101</td>\n      <td>812002</td>\n      <td>Molly</td>\n      <td>Jacobson</td>\n      <td>52</td>\n      <td>Baltimore</td>\n    </tr>\n    <tr>\n      <th>2</th>\n      <td>102</td>\n      <td>812003</td>\n      <td>Tina</td>\n      <td>Ali</td>\n      <td>36</td>\n      <td>Miami</td>\n    </tr>\n    <tr>\n      <th>3</th>\n      <td>103</td>\n      <td>812004</td>\n      <td>Jake</td>\n      <td>Milner</td>\n      <td>24</td>\n      <td>Douglas</td>\n    </tr>\n    <tr>\n      <th>4</th>\n      <td>104</td>\n      <td>812005</td>\n      <td>Amy</td>\n      <td>Cooze</td>\n      <td>73</td>\n      <td>Boston</td>\n    </tr>\n    <tr>\n      <th>5</th>\n      <td>105</td>\n      <td>812006</td>\n      <td>Juan</td>\n      <td>Perez</td>\n      <td>13</td>\n      <td>San Francisco</td>\n    </tr>\n  </tbody>\n</table>\n</div>",
            "text/plain": "   New_ID      ID first_name last_name  age           city\n0     100  812001      Jason    Miller   42  San Francisco\n1     101  812002      Molly  Jacobson   52      Baltimore\n2     102  812003       Tina       Ali   36          Miami\n3     103  812004       Jake    Milner   24        Douglas\n4     104  812005        Amy     Cooze   73         Boston\n5     105  812006       Juan     Perez   13  San Francisco"
          },
          "metadata": {}
        }
      ]
    },
    {
      "metadata": {
        "trusted": true
      },
      "cell_type": "code",
      "source": "",
      "execution_count": null,
      "outputs": []
    }
  ],
  "metadata": {
    "kernelspec": {
      "name": "python36",
      "display_name": "Python 3.6",
      "language": "python"
    },
    "language_info": {
      "mimetype": "text/x-python",
      "nbconvert_exporter": "python",
      "name": "python",
      "pygments_lexer": "ipython3",
      "version": "3.6.6",
      "file_extension": ".py",
      "codemirror_mode": {
        "version": 3,
        "name": "ipython"
      }
    }
  },
  "nbformat": 4,
  "nbformat_minor": 1
}