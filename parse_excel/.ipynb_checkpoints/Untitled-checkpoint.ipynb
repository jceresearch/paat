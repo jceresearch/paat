{
 "cells": [
  {
   "cell_type": "code",
   "execution_count": null,
   "metadata": {},
   "outputs": [],
   "source": [
    "import pandas as pd\n"
   ]
  },
  {
   "cell_type": "code",
   "execution_count": 4,
   "metadata": {},
   "outputs": [
    {
     "name": "stdout",
     "output_type": "stream",
     "text": [
      "mkdir: output1: File exists\n",
      "mkdir: testdata1: File exists\n",
      "Collecting package metadata (current_repodata.json): done\n",
      "Solving environment: done\n",
      "\n",
      "# All requested packages already installed.\n",
      "\n"
     ]
    }
   ],
   "source": [
    "!mkdir output1\n",
    "!mkdir testdata1\n",
    "#This is needed when running it in azure because the FAKER module (needed to generate fake names)\n",
    "#is not readily available\n",
    "!conda install faker --yes\n"
   ]
  },
  {
   "cell_type": "code",
   "execution_count": 7,
   "metadata": {},
   "outputs": [],
   "source": [
    "number_of_transactions= 1000\n",
    "number_of_people=10"
   ]
  },
  {
   "cell_type": "code",
   "execution_count": 17,
   "metadata": {},
   "outputs": [
    {
     "name": "stdout",
     "output_type": "stream",
     "text": [
      "[['Kelsey Cooper', 1], ['Alexander Foster', 2], ['Rhonda Le', 3]]\n"
     ]
    }
   ],
   "source": [
    "from faker import Faker\n",
    "fake = Faker()\n",
    "def generate_namelist(number_of_people):\n",
    "    namelist=[]\n",
    "    for i in range(0,number_of_people):\n",
    "        namelist.append([fake.name(), i+1],)      \n",
    "    return namelist\n",
    "\n",
    "print(generate_namelist(3))"
   ]
  },
  {
   "cell_type": "code",
   "execution_count": null,
   "metadata": {},
   "outputs": [],
   "source": [
    "\n",
    "def generate_line(namelist,d_start,d_end):    \n",
    "    r=random.randint(0,len(namelist)-1)\n",
    "    person=namelist[r][0]\n",
    "    person_id=namelist[r][1]\n",
    "    approver_id=namelist[r][2]\n",
    "    person_ccentre=namelist[r][5]\n",
    "    person_title=namelist[r][7]\n",
    "    description= generate_desc()\n",
    "    date1= fake.date_time_between(start_date=d_start, end_date=d_end)     \n",
    "    date1_str = date1.strftime(\"%d-%m-%Y\")                                            \n",
    "    d=max(0,np.random.normal(30,8,1)[0])\n",
    "    date2= date1+ datetime.timedelta(days=d)\n",
    "    date2_str = date2.strftime(\"%d-%m-%Y %H:%M:%S\")       \n",
    "    amountfp = abs(np.random.normal(20,8,1)[0])\n",
    "    amount= Decimal(str(amountfp)).quantize(Decimal('1.11'), rounding=ROUND_HALF_UP) \n",
    "    amount_str=str(amount)\n",
    "    line=[person_id,person,date1_str,amount_str,date2_str,person_ccentre,person_title,approver_id, description]\n",
    "    return line"
   ]
  },
  {
   "cell_type": "code",
   "execution_count": 13,
   "metadata": {},
   "outputs": [
    {
     "name": "stdout",
     "output_type": "stream",
     "text": [
      "['Karen Jordan', 'Terri Campbell', 'Derrick Anderson', 'Joe Kerr', 'Richard Johnson', 'Lauren Love', 'Edward Gonzales', 'Sarah Hendricks', 'Emily Barnes', 'Angela Gonzalez']\n"
     ]
    }
   ],
   "source": []
  },
  {
   "cell_type": "code",
   "execution_count": null,
   "metadata": {},
   "outputs": [],
   "source": []
  },
  {
   "cell_type": "code",
   "execution_count": null,
   "metadata": {},
   "outputs": [],
   "source": []
  },
  {
   "cell_type": "code",
   "execution_count": null,
   "metadata": {},
   "outputs": [],
   "source": []
  }
 ],
 "metadata": {
  "kernelspec": {
   "display_name": "Python 3",
   "language": "python",
   "name": "python3"
  },
  "language_info": {
   "codemirror_mode": {
    "name": "ipython",
    "version": 3
   },
   "file_extension": ".py",
   "mimetype": "text/x-python",
   "name": "python",
   "nbconvert_exporter": "python",
   "pygments_lexer": "ipython3",
   "version": "3.7.3"
  }
 },
 "nbformat": 4,
 "nbformat_minor": 4
}
