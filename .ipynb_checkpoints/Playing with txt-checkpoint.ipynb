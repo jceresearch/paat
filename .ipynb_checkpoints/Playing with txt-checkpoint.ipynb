{
  "cells": [
    {
      "metadata": {
        "trusted": true
      },
      "cell_type": "code",
      "source": "!pip install readability\n!pip install python-docx ",
      "execution_count": null,
      "outputs": []
    },
    {
      "metadata": {
        "trusted": true
      },
      "cell_type": "code",
      "source": "import readability\n\n",
      "execution_count": null,
      "outputs": []
    },
    {
      "metadata": {
        "trusted": true
      },
      "cell_type": "code",
      "source": "text = ('This is an example sentence .\\n'\n        'Note that tokens are separated by spaces and sentences by newlines .\\n')\nresults = readability.getmeasures(text, lang='en')\nprint(results['readability grades']['FleschReadingEase'])",
      "execution_count": null,
      "outputs": []
    },
    {
      "metadata": {
        "trusted": true
      },
      "cell_type": "code",
      "source": "import docx",
      "execution_count": null,
      "outputs": []
    },
    {
      "metadata": {
        "trusted": true
      },
      "cell_type": "code",
      "source": "import re\nfruits =  ['apple', 'banana', 'peach', 'plum', 'pinepple', 'kiwi'] \nfruit_re = [re.compile(fruit) for fruit in fruits]\nfruit_test = lambda x: any([pattern.search(x) for pattern in fruit_re])\nprint(fruits)\n#Example usage:\nfruits_veggies = ['this is an apple', 'this is a tomato']\nresult1 =  [fruit_test(s) for s in fruits_veggies]\n\t \t\n#Or if you need the strings\nresult2 = [s for s in fruits_veggies if fruit_test(s)] \nprint ('results:')\nprint(result1)\nprint(result2)",
      "execution_count": null,
      "outputs": []
    },
    {
      "metadata": {
        "trusted": true
      },
      "cell_type": "code",
      "source": "import nltk\nnltk.download('punkt')",
      "execution_count": null,
      "outputs": []
    },
    {
      "metadata": {
        "trusted": true
      },
      "cell_type": "code",
      "source": "mystring = \"My favorite colors are #blue, red, and green.\"\nnltk.word_tokenize(mystring)",
      "execution_count": null,
      "outputs": []
    },
    {
      "metadata": {
        "trusted": true
      },
      "cell_type": "code",
      "source": "pattern = r'''(?x)\n          ([A-Z]\\.)+\n         |\\d+:\\d+\n         |(https?://)?(\\w+\\.)(\\w{2,})+([\\w/]+)?\n         |[@\\#]?\\w+(?:[-']\\w+)*\n         |\\$\\d+(\\.\\d+)?%?\n         |\\\\[Uu]\\w+\n         |\\.\\.\\.\n         |[!?]+\n         '''\npattern",
      "execution_count": null,
      "outputs": []
    },
    {
      "metadata": {
        "trusted": true
      },
      "cell_type": "code",
      "source": "nltk.regexp_tokenize(mystring, pattern)",
      "execution_count": null,
      "outputs": []
    }
  ],
  "metadata": {
    "kernelspec": {
      "name": "python36",
      "display_name": "Python 3.6",
      "language": "python"
    },
    "language_info": {
      "mimetype": "text/x-python",
      "nbconvert_exporter": "python",
      "name": "python",
      "pygments_lexer": "ipython3",
      "version": "3.6.6",
      "file_extension": ".py",
      "codemirror_mode": {
        "version": 3,
        "name": "ipython"
      }
    }
  },
  "nbformat": 4,
  "nbformat_minor": 1
}