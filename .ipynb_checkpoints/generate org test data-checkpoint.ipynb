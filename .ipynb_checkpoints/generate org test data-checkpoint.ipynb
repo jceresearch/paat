{
 "cells": [
  {
   "cell_type": "markdown",
   "metadata": {},
   "source": [
    "# Tutorial: Create simulated organization and expenses to do a load test"
   ]
  },
  {
   "cell_type": "markdown",
   "metadata": {},
   "source": [
    "This is a notebook to perform a load test of how Pandas/Numpy analytics library behaves in the context of this notebook, and to learn a few things on the way.\n"
   ]
  },
  {
   "cell_type": "code",
   "execution_count": 1,
   "metadata": {},
   "outputs": [],
   "source": [
    "# Update these variables to configure how large are going to be the datasets we are going to generate\n",
    "\n",
    "number_of_transactions= 1000\n",
    "number_of_individuals=100"
   ]
  },
  {
   "cell_type": "markdown",
   "metadata": {},
   "source": [
    "## Generate simulated data\n",
    "\n",
    "You can skip this section if you are not interested (yet) in how we create the data set. \n",
    "\n",
    "The short story is that we create a simulated organization with employees and managers, and then a random selection of people, dates and amounts to simulate an expense. The claim date is a random date X days from the date of the expenditure (note that this is not how in real life claims would behave, but maybe in future version of this tutorials I will get to do that bit).\n",
    "The output are two \"lists\" in memory that store in each row another list, creating a two-dimensional table, that can be referenced as  list[row][column]"
   ]
  },
  {
   "cell_type": "code",
   "execution_count": 2,
   "metadata": {},
   "outputs": [
    {
     "name": "stdout",
     "output_type": "stream",
     "text": [
      "Collecting faker\n",
      "\u001b[?25l  Downloading https://files.pythonhosted.org/packages/13/11/9c30bf6fc50fa1da1d9785268fc580ec04d6bb227ff2c5747359f9a97013/Faker-1.0.1-py2.py3-none-any.whl (845kB)\n",
      "\u001b[K    100% |████████████████████████████████| 849kB 6.5MB/s ta 0:00:011\n",
      "\u001b[?25hRequirement already satisfied: six>=1.10 in /Users/juanespasandin/anaconda3/lib/python3.7/site-packages (from faker) (1.11.0)\n",
      "Collecting text-unidecode==1.2 (from faker)\n",
      "\u001b[?25l  Downloading https://files.pythonhosted.org/packages/79/42/d717cc2b4520fb09e45b344b1b0b4e81aa672001dd128c180fabc655c341/text_unidecode-1.2-py2.py3-none-any.whl (77kB)\n",
      "\u001b[K    100% |████████████████████████████████| 81kB 7.8MB/s ta 0:00:011\n",
      "\u001b[?25hRequirement already satisfied: python-dateutil>=2.4 in /Users/juanespasandin/anaconda3/lib/python3.7/site-packages (from faker) (2.7.3)\n",
      "\u001b[31mtwisted 18.7.0 requires PyHamcrest>=1.9.0, which is not installed.\u001b[0m\n",
      "Installing collected packages: text-unidecode, faker\n",
      "Successfully installed faker-1.0.1 text-unidecode-1.2\n",
      "\u001b[33mYou are using pip version 10.0.1, however version 18.1 is available.\n",
      "You should consider upgrading via the 'pip install --upgrade pip' command.\u001b[0m\n"
     ]
    }
   ],
   "source": [
    "#This is needed when running it in azure because the FAKER module (needed to generate fake names)\n",
    "#is not readily available\n",
    "!pip install faker\n",
    "from faker import Faker\n",
    "fake = Faker()"
   ]
  },
  {
   "cell_type": "markdown",
   "metadata": {},
   "source": [
    "The following section imports the rest of the libraries needed, these should be standard in any Python\n",
    "Then we declare the functions we need for generating the fake data"
   ]
  },
  {
   "cell_type": "code",
   "execution_count": 3,
   "metadata": {},
   "outputs": [],
   "source": [
    "#!Python3\n",
    "\n",
    "from decimal import Decimal, ROUND_HALF_UP, ROUND_HALF_DOWN # use in rounding floating numbers \n",
    "import datetime \n",
    "from datetime import date\n",
    "import time\n",
    "import random\n",
    "import numpy as np\n",
    "\n",
    "\n",
    "\n",
    "\n",
    "def generate_org(n):\n",
    "    #This is the overall function to create the simulated organization\n",
    "    \n",
    "    \n",
    "    def create_team(id,fullname,mid, mfullname ,list,maxtsize,osize,band,staff_band, ccentre,borg_id):\n",
    "        \"\"\"This is the recursive function we use to create teams under people\"\"\"\n",
    "        \n",
    "        if len(list)<osize:\n",
    "            if fullname=='':\n",
    "                fullname=fake.first_name()+' '+fake.last_name()\n",
    "            if mfullname=='':\n",
    "                mfullname=fullname            \n",
    "            titles=[['Executive','Senior Director', 'Non Executive Dr','Chairman'],['Director'],['Department Head'],['Manager'],['Team lead','Supervisor','PA'],['Senior staff','Staff','Junior Staff', 'Assistant', 'Intern','Temp']]         \n",
    "            \n",
    "            titlechoice=titles[band-1]        \n",
    "            title=np.random.choice(titlechoice) \n",
    "            \n",
    "            if band<staff_band:\n",
    "                ccentre=str(ccentre)+\".\"+str(id)\n",
    "            borg_id=str(borg_id)+\".\"+str(id)            \n",
    "            list.append([fullname,id,mid,mfullname,band,ccentre,borg_id,title]) \n",
    "            #If the person is not the lower \"staff\" band, then is a manager and needs a team below\n",
    "            if band<staff_band:               \n",
    "                if band==1:\n",
    "                    tsize = max(4, int(np.random.normal(maxtsize, 1, 1)[0]))\n",
    "                else:\n",
    "                    tsize = max(0, int(np.random.normal(maxtsize, 1.5, 1)[0]))                \n",
    "                if tsize>0:\n",
    "                    mid=id\n",
    "                    for n in range(1,tsize):                       \n",
    "                        id=len(list)+1\n",
    "                        if len(list)>=osize:\n",
    "                             break\n",
    "                        list=create_team(id,'',mid,fullname,list,maxtsize,osize,band+1,staff_band,ccentre,borg_id)                       \n",
    "        return list  \n",
    "    list=[]\n",
    "    \n",
    "    return create_team(1,'Steve Jobs',1,'',list,10,n,1,6,1,1)\n",
    "    \n",
    "    \n",
    "\n",
    "def generate_desc():\n",
    "    return fake.text(max_nb_chars=200) \n",
    "\n",
    "#We dont use yet this sanitise function, it would be handy if we have unicode or non printable characters in the names or description fields\n",
    "#for example if we wanted to export a selection of expenses with the filename having the name of the manager\n",
    "def sanitise(s):\n",
    "    import unicodedata\n",
    "    import string\n",
    "    validChars = \"-_.() %s%s\" % (string.ascii_letters, string.digits)\n",
    "    cleaneds=s\n",
    "    if type(s)=='unicode':\n",
    "        try:\n",
    "            cleaneds = unicodedata.normalize('NFKD', s).encode('ASCII', 'ignore')\n",
    "        except:\n",
    "            #do nothing\n",
    "            print (\"error parsing unicode string\")\n",
    "        \n",
    "    return  ''.join(c for c in cleaneds if c in validChars)\n",
    "\n",
    "def generate_date(start,end):\n",
    "    nbdays=(end-start).days\n",
    "    d=random.randint(0,nbdays)\n",
    "    return start+dt.timedelta(days=d)\n",
    "\n",
    "    \n",
    "def generate_line(namelist,yyyy):    \n",
    "    \n",
    "    r=random.randint(0,len(namelist)-1)\n",
    "    person=namelist[r][0]\n",
    "    person_id=namelist[r][1]\n",
    "    approver_id=namelist[r][2]\n",
    "    person_ccentre=namelist[r][5]\n",
    "    person_title=namelist[r][7]\n",
    "    start_date=date(yyyy,1,1)\n",
    "    end_date=date(yyyy,12,31)\n",
    "    description= generate_desc()\n",
    "    date1= fake.date_time_between(start_date=start_date, end_date=end_date)     \n",
    "    date1_str = date1.strftime(\"%d-%m-%Y\")                                            \n",
    "    d=max(0,np.random.normal(30,8,1)[0])\n",
    "    date2= date1+ datetime.timedelta(days=d)\n",
    "    date2_str = date2.strftime(\"%d-%m-%Y %H:%M:%S\")       \n",
    "    amountfp = abs(np.random.normal(20,8,1)[0])\n",
    "    amount= Decimal(str(amountfp)).quantize(Decimal('1.11'), rounding=ROUND_HALF_UP) \n",
    "    amount_str=str(amount)\n",
    "    line=[person_id,person,date1_str,amount_str,date2_str,person_ccentre,person_title,approver_id, description]\n",
    "    return line\n",
    "\n",
    "def export_csv(filename,list, header):\n",
    "    #This is a utility function that just export a list as a csv\n",
    "    import csv\n",
    "    with open(filename , 'w') as csvfile:\n",
    "        outputwriter = csv.writer(csvfile, quotechar='\"', quoting=csv.QUOTE_NONNUMERIC, dialect='excel-tab')\n",
    "        outputwriter.writerow(header)\n",
    "        for r in list: \n",
    "            outputwriter.writerow(r)\n"
   ]
  },
  {
   "cell_type": "code",
   "execution_count": 4,
   "metadata": {},
   "outputs": [
    {
     "name": "stdout",
     "output_type": "stream",
     "text": [
      "Created an organization of 100 individuals\n"
     ]
    }
   ],
   "source": [
    "    \n",
    "# Here we a going to create a simulated organization of N members\n",
    "\n",
    "namelist=generate_org(number_of_individuals)\n",
    "namelist_header=['EmployeeName','EmployeeID','ManagerID','ManagerFullname','Band','CostCentre','BorgID','EmployeeTitle']\n",
    "\n",
    "print(\"Created an organization of \" + str(len(namelist)) + \" individuals\")\n",
    "\n"
   ]
  },
  {
   "cell_type": "code",
   "execution_count": 6,
   "metadata": {},
   "outputs": [],
   "source": [
    "#Working call to export the org chart, commented out by default\n",
    "#export_csv('dummy_org.csv',namelist,namelist_header)\n",
    "#!ls -lh\n"
   ]
  },
  {
   "cell_type": "code",
   "execution_count": 7,
   "metadata": {},
   "outputs": [
    {
     "name": "stdout",
     "output_type": "stream",
     "text": [
      "Created a simulated run of 1000 expenses entries\n"
     ]
    }
   ],
   "source": [
    "\n",
    "#We generate the simulated expense claims\n",
    "outputlist=[]\n",
    "count=1\n",
    "outputlist_header=['EmployeeID','EmployeeName','DateExpense','Amount','DateClaim','CostCentre','EmployeeTitle','ApproverID','Description']\n",
    "while count<=number_of_transactions:\n",
    "    outputlist.append(generate_line(namelist,2016))\n",
    "    count+=1\n",
    "\n",
    "\n",
    "print (\"Created a simulated run of \" + str(len(outputlist)) + \" expenses entries\")\n",
    "\n",
    "\n"
   ]
  },
  {
   "cell_type": "code",
   "execution_count": 8,
   "metadata": {},
   "outputs": [
    {
     "name": "stdout",
     "output_type": "stream",
     "text": [
      "[65, 'Amanda Peters', '01-10-2016', '27.44', '01-11-2016 05:18:07', '1.1.2.3.4.57', 'Junior Staff', 57, 'Somebody purpose item economic beyond board. Chair end personal involve yes. Per civil if form together response off.']\n",
      "Amanda Peters\n",
      "['Steve Jobs', 1, 1, 'Steve Jobs', 1, '1.1', '1.1', 'Executive']\n"
     ]
    }
   ],
   "source": [
    "#At this point we have only a standard python list of lists with each row being an element\n",
    "# Remember that indexes start with element zero\n",
    "\n",
    "print (outputlist[0])\n",
    "print (outputlist[0][1])\n",
    "print (namelist[0])"
   ]
  },
  {
   "cell_type": "code",
   "execution_count": 9,
   "metadata": {},
   "outputs": [],
   "source": [
    "#this is a working commmand but we dont export in Azure as it doesnt persist\n",
    "#export_csv('dummy_expenses.csv',outputlist,outputlist_header])\n",
    "#!ls -lh"
   ]
  },
  {
   "cell_type": "markdown",
   "metadata": {},
   "source": [
    "## --- END SKIP---"
   ]
  },
  {
   "cell_type": "markdown",
   "metadata": {},
   "source": [
    "# We create a Pandas dataframe and perform some merges\n",
    "This section is to test the Pandas speed. Pandas sits on top of Numpy, and is slightly slower, but it is easier to use"
   ]
  },
  {
   "cell_type": "code",
   "execution_count": 10,
   "metadata": {},
   "outputs": [],
   "source": [
    "import pandas as pd"
   ]
  },
  {
   "cell_type": "code",
   "execution_count": 11,
   "metadata": {},
   "outputs": [],
   "source": [
    "\n",
    "df1= pd.DataFrame(data=outputlist,columns=outputlist_header)\n",
    "df2= pd.DataFrame(data=namelist,columns=namelist_header)"
   ]
  },
  {
   "cell_type": "code",
   "execution_count": 18,
   "metadata": {},
   "outputs": [
    {
     "name": "stdout",
     "output_type": "stream",
     "text": [
      "Amanda Peters\n",
      "EmployeeID                                                      65\n",
      "EmployeeName                                         Amanda Peters\n",
      "DateExpense                                             01-10-2016\n",
      "Amount                                                       27.44\n",
      "DateClaim                                      01-11-2016 05:18:07\n",
      "CostCentre                                            1.1.2.3.4.57\n",
      "EmployeeTitle                                         Junior Staff\n",
      "ApproverID                                                      57\n",
      "Description      Somebody purpose item economic beyond board. C...\n",
      "Name: 0, dtype: object\n",
      "     EmployeeID  EmployeeName DateExpense Amount            DateClaim  \\\n",
      "60            2  Bryce Newton  01-12-2016  13.27  05-01-2017 12:33:57   \n",
      "146           2  Bryce Newton  08-10-2016  11.39  10-11-2016 16:11:28   \n",
      "183           2  Bryce Newton  05-09-2016  26.83  12-10-2016 10:31:25   \n",
      "185           2  Bryce Newton  15-04-2016  21.29  26-04-2016 14:46:21   \n",
      "315           2  Bryce Newton  31-10-2016  18.31  16-11-2016 00:54:23   \n",
      "534           2  Bryce Newton  25-06-2016  19.33  12-07-2016 16:06:40   \n",
      "749           2  Bryce Newton  27-06-2016  15.74  02-08-2016 01:47:00   \n",
      "752           2  Bryce Newton  10-02-2016  21.38  20-03-2016 06:56:54   \n",
      "876           2  Bryce Newton  05-09-2016  30.04  08-10-2016 14:30:43   \n",
      "942           2  Bryce Newton  08-05-2016  12.46  09-06-2016 07:58:41   \n",
      "\n",
      "    CostCentre EmployeeTitle  ApproverID  \\\n",
      "60       1.1.2      Director           1   \n",
      "146      1.1.2      Director           1   \n",
      "183      1.1.2      Director           1   \n",
      "185      1.1.2      Director           1   \n",
      "315      1.1.2      Director           1   \n",
      "534      1.1.2      Director           1   \n",
      "749      1.1.2      Director           1   \n",
      "752      1.1.2      Director           1   \n",
      "876      1.1.2      Director           1   \n",
      "942      1.1.2      Director           1   \n",
      "\n",
      "                                           Description  \n",
      "60   Your seat take. Perform report large early int...  \n",
      "146  Choose as again. Nor expect floor issue sit po...  \n",
      "183  Several war possible experience wide poor. Res...  \n",
      "185  Forget war window resource bad car industry. L...  \n",
      "315  Protect hundred area wide rather great four. C...  \n",
      "534  Fill attention less second air my. Site energy...  \n",
      "749  Including particular yet street again someone ...  \n",
      "752  Glass democratic finish least. A majority whos...  \n",
      "876  Bank great use cut drug everyone. Set oil seek...  \n",
      "942  Financial hospital page news campaign artist l...  \n",
      "         EmployeeName  EmployeeID  ManagerID ManagerFullname  Band  \\\n",
      "5  Kimberly Gallagher           6          5   Debbie Rangel     6   \n",
      "\n",
      "    CostCentre         BorgID EmployeeTitle  \n",
      "5  1.1.2.3.4.5  1.1.2.3.4.5.6          Temp  \n"
     ]
    }
   ],
   "source": [
    "print(df1.EmployeeName[0])\n",
    "print(df1.iloc[0])\n",
    "print (df1.loc[df1.CostCentre=='1.1.2'])\n",
    "print (df2.loc[df2.EmployeeID==6])\n"
   ]
  },
  {
   "cell_type": "code",
   "execution_count": 19,
   "metadata": {},
   "outputs": [
    {
     "name": "stdout",
     "output_type": "stream",
     "text": [
      "EmployeeName       Bryce Newton\n",
      "EmployeeID                    2\n",
      "ManagerID                     1\n",
      "ManagerFullname      Steve Jobs\n",
      "Band                          2\n",
      "CostCentre                1.1.2\n",
      "BorgID                    1.1.2\n",
      "EmployeeTitle          Director\n",
      "Name: 1, dtype: object\n",
      "   EmployeeID        EmployeeName    EmployeeTitle         BorgID  Band\n",
      "0           1          Steve Jobs        Executive            1.1     1\n",
      "1           2        Bryce Newton         Director          1.1.2     2\n",
      "2           3       Beth Gonzalez  Department Head        1.1.2.3     3\n",
      "3           4         Mark Thomas          Manager      1.1.2.3.4     4\n",
      "4           5       Debbie Rangel        Team lead    1.1.2.3.4.5     5\n",
      "5           6  Kimberly Gallagher             Temp  1.1.2.3.4.5.6     6\n"
     ]
    }
   ],
   "source": [
    "print(df2.iloc[1])\n",
    "print (df2.loc[0:5,['EmployeeID','EmployeeName','EmployeeTitle','BorgID','Band']])"
   ]
  },
  {
   "cell_type": "code",
   "execution_count": 20,
   "metadata": {},
   "outputs": [
    {
     "name": "stdout",
     "output_type": "stream",
     "text": [
      "EmployeeID                                                      65\n",
      "EmployeeName                                         Amanda Peters\n",
      "DateExpense                                             01-10-2016\n",
      "Amount                                                       27.44\n",
      "DateClaim                                      01-11-2016 05:18:07\n",
      "CostCentre                                            1.1.2.3.4.57\n",
      "EmployeeTitle                                         Junior Staff\n",
      "ApproverID                                                      57\n",
      "Description      Somebody purpose item economic beyond board. C...\n",
      "BorgID                                             1.1.2.3.4.57.65\n",
      "Band                                                             6\n",
      "Name: 0, dtype: object\n"
     ]
    }
   ],
   "source": [
    "df3= pd.merge(df1, df2.loc[:,['EmployeeID','BorgID','Band']], how='left', on='EmployeeID',\n",
    "         left_index=False, right_index=False, sort=False,\n",
    "         suffixes=('', ''), copy=True, indicator=False)\n",
    "print (df3.iloc[0])"
   ]
  },
  {
   "cell_type": "code",
   "execution_count": 21,
   "metadata": {},
   "outputs": [
    {
     "name": "stdout",
     "output_type": "stream",
     "text": [
      "EmployeeID                                                               65\n",
      "EmployeeName                                                  Amanda Peters\n",
      "DateExpense                                                      01-10-2016\n",
      "Amount                                                                27.44\n",
      "DateClaim                                               01-11-2016 05:18:07\n",
      "CostCentre                                                     1.1.2.3.4.57\n",
      "EmployeeTitle                                                  Junior Staff\n",
      "ApproverID                                                               57\n",
      "Description               Somebody purpose item economic beyond board. C...\n",
      "BorgID                                                      1.1.2.3.4.57.65\n",
      "Band                                                                      6\n",
      "EmployeeID_approver                                                      57\n",
      "EmployeeName_approver                                       Heather Wiggins\n",
      "EmployeeTitle_approver                                            Team lead\n",
      "BorgID_approver                                                1.1.2.3.4.57\n",
      "Band_approver                                                             5\n",
      "Name: 0, dtype: object\n"
     ]
    }
   ],
   "source": [
    "df4= pd.merge(df3, df2.loc[:,['EmployeeID','EmployeeName','EmployeeTitle','BorgID','Band']], how='left',left_on='ApproverID', right_on='EmployeeID',\n",
    "         left_index=False, right_index=False, sort=False,\n",
    "         suffixes=('', '_approver'), copy=True, indicator=False)\n",
    "print (df4.iloc[0])"
   ]
  },
  {
   "cell_type": "code",
   "execution_count": 22,
   "metadata": {},
   "outputs": [
    {
     "name": "stdout",
     "output_type": "stream",
     "text": [
      "   EmployeeName  EmployeeID  ManagerID  ManagerFullname  Band    CostCentre  \\\n",
      "57  Debbie Chan          58         57  Heather Wiggins     6  1.1.2.3.4.57   \n",
      "\n",
      "             BorgID EmployeeTitle  \n",
      "57  1.1.2.3.4.57.58          Temp  \n",
      "   EmployeeName  EmployeeID  ManagerID ManagerFullname  Band    CostCentre  \\\n",
      "54   Tammy Hall          55         50   Taylor Molina     6  1.1.2.3.4.50   \n",
      "\n",
      "             BorgID EmployeeTitle  \n",
      "54  1.1.2.3.4.50.55  Junior Staff  \n"
     ]
    }
   ],
   "source": [
    "print (df2[df2.EmployeeID==58])\n",
    "print (df2[df2.EmployeeID==55])\n"
   ]
  }
 ],
 "metadata": {
  "kernelspec": {
   "display_name": "Python 3",
   "language": "python",
   "name": "python3"
  },
  "language_info": {
   "codemirror_mode": {
    "name": "ipython",
    "version": 3
   },
   "file_extension": ".py",
   "mimetype": "text/x-python",
   "name": "python",
   "nbconvert_exporter": "python",
   "pygments_lexer": "ipython3",
   "version": "3.7.0"
  }
 },
 "nbformat": 4,
 "nbformat_minor": 2
}
